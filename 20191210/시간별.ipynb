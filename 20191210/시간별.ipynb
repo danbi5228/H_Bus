{
 "cells": [
  {
   "cell_type": "code",
   "execution_count": 21,
   "metadata": {},
   "outputs": [],
   "source": [
    "import pandas as pd\n",
    "import datetime"
   ]
  },
  {
   "cell_type": "code",
   "execution_count": 22,
   "metadata": {},
   "outputs": [],
   "source": [
    "df1 = pd.read_csv('../Data/PJT001_TripChain.csv')"
   ]
  },
  {
   "cell_type": "code",
   "execution_count": 23,
   "metadata": {},
   "outputs": [],
   "source": [
    "df1.columns=['암호화카드번호', '트랜잭션ID', '환승횟수', '교통카드발행사ID',\n",
    "       '총이용객수', '사용자구분', '교통수단CD1', '교통수단CD2',\n",
    "       '교통수단CD3', '교통수단CD4', '교통수단CD5', '버스노선ID1',\n",
    "       '버스노선ID2', '버스노선ID3', '버스노선ID4', '버스노선ID5',\n",
    "       '차량ID1', '차량ID2', '차량ID3', '차량ID4',\n",
    "       '차량ID5', '총통행거리', '총탑승시간', '총소요시간',\n",
    "       '승차일시1', '승차일시2', '승차일시3', '승차일시4',\n",
    "       '승차일시5', '하차일시1', '하차일시2', '하차일시3',\n",
    "       '하차일시4', '하차일시5', '최초승차일시', '최종하차일시',\n",
    "       '승차역ID1', '승차역ID2', '승차역ID3', '승차역ID4',\n",
    "       '승차역ID5', '하차역ID1', '하차역ID2', '하차역ID3',\n",
    "       '하차역ID4', '하차역ID5', '최초승차역ID', '최종하차역ID',\n",
    "       '총이용금액', '수집건수', '트립체인완료코드']"
   ]
  },
  {
   "cell_type": "code",
   "execution_count": 24,
   "metadata": {},
   "outputs": [],
   "source": [
    "df1['최초승차역ID']=df1['승차역ID1'].reset_index(drop=True)"
   ]
  },
  {
   "cell_type": "code",
   "execution_count": 25,
   "metadata": {},
   "outputs": [
    {
     "data": {
      "text/html": [
       "<div>\n",
       "<style scoped>\n",
       "    .dataframe tbody tr th:only-of-type {\n",
       "        vertical-align: middle;\n",
       "    }\n",
       "\n",
       "    .dataframe tbody tr th {\n",
       "        vertical-align: top;\n",
       "    }\n",
       "\n",
       "    .dataframe thead th {\n",
       "        text-align: right;\n",
       "    }\n",
       "</style>\n",
       "<table border=\"1\" class=\"dataframe\">\n",
       "  <thead>\n",
       "    <tr style=\"text-align: right;\">\n",
       "      <th></th>\n",
       "      <th>승차일시1</th>\n",
       "      <th>승차일시2</th>\n",
       "      <th>승차일시3</th>\n",
       "      <th>승차일시4</th>\n",
       "      <th>승차일시5</th>\n",
       "      <th>하차일시1</th>\n",
       "      <th>하차일시2</th>\n",
       "      <th>하차일시3</th>\n",
       "      <th>하차일시4</th>\n",
       "      <th>하차일시5</th>\n",
       "      <th>최초승차일시</th>\n",
       "      <th>최종하차일시</th>\n",
       "    </tr>\n",
       "  </thead>\n",
       "  <tbody>\n",
       "    <tr>\n",
       "      <th>0</th>\n",
       "      <td>2.018070e+13</td>\n",
       "      <td>2.018070e+13</td>\n",
       "      <td>NaN</td>\n",
       "      <td>NaN</td>\n",
       "      <td>NaN</td>\n",
       "      <td>2.018070e+13</td>\n",
       "      <td>2.018070e+13</td>\n",
       "      <td>NaN</td>\n",
       "      <td>NaN</td>\n",
       "      <td>NaN</td>\n",
       "      <td>20180701052543</td>\n",
       "      <td>20180701064826</td>\n",
       "    </tr>\n",
       "    <tr>\n",
       "      <th>1</th>\n",
       "      <td>2.018070e+13</td>\n",
       "      <td>NaN</td>\n",
       "      <td>NaN</td>\n",
       "      <td>NaN</td>\n",
       "      <td>NaN</td>\n",
       "      <td>2.018070e+13</td>\n",
       "      <td>NaN</td>\n",
       "      <td>NaN</td>\n",
       "      <td>NaN</td>\n",
       "      <td>NaN</td>\n",
       "      <td>20180701072156</td>\n",
       "      <td>20180701072520</td>\n",
       "    </tr>\n",
       "    <tr>\n",
       "      <th>2</th>\n",
       "      <td>2.018070e+13</td>\n",
       "      <td>NaN</td>\n",
       "      <td>NaN</td>\n",
       "      <td>NaN</td>\n",
       "      <td>NaN</td>\n",
       "      <td>2.018070e+13</td>\n",
       "      <td>NaN</td>\n",
       "      <td>NaN</td>\n",
       "      <td>NaN</td>\n",
       "      <td>NaN</td>\n",
       "      <td>20180701123653</td>\n",
       "      <td>20180701134223</td>\n",
       "    </tr>\n",
       "    <tr>\n",
       "      <th>3</th>\n",
       "      <td>2.018070e+13</td>\n",
       "      <td>NaN</td>\n",
       "      <td>NaN</td>\n",
       "      <td>NaN</td>\n",
       "      <td>NaN</td>\n",
       "      <td>2.018070e+13</td>\n",
       "      <td>NaN</td>\n",
       "      <td>NaN</td>\n",
       "      <td>NaN</td>\n",
       "      <td>NaN</td>\n",
       "      <td>20180701224424</td>\n",
       "      <td>20180701224543</td>\n",
       "    </tr>\n",
       "    <tr>\n",
       "      <th>4</th>\n",
       "      <td>2.018070e+13</td>\n",
       "      <td>NaN</td>\n",
       "      <td>NaN</td>\n",
       "      <td>NaN</td>\n",
       "      <td>NaN</td>\n",
       "      <td>2.018070e+13</td>\n",
       "      <td>NaN</td>\n",
       "      <td>NaN</td>\n",
       "      <td>NaN</td>\n",
       "      <td>NaN</td>\n",
       "      <td>20180701085058</td>\n",
       "      <td>20180701085910</td>\n",
       "    </tr>\n",
       "  </tbody>\n",
       "</table>\n",
       "</div>"
      ],
      "text/plain": [
       "          승차일시1         승차일시2  승차일시3  승차일시4  승차일시5         하차일시1  \\\n",
       "0  2.018070e+13  2.018070e+13    NaN    NaN    NaN  2.018070e+13   \n",
       "1  2.018070e+13           NaN    NaN    NaN    NaN  2.018070e+13   \n",
       "2  2.018070e+13           NaN    NaN    NaN    NaN  2.018070e+13   \n",
       "3  2.018070e+13           NaN    NaN    NaN    NaN  2.018070e+13   \n",
       "4  2.018070e+13           NaN    NaN    NaN    NaN  2.018070e+13   \n",
       "\n",
       "          하차일시2  하차일시3  하차일시4  하차일시5          최초승차일시           최종하차일시  \n",
       "0  2.018070e+13    NaN    NaN    NaN  20180701052543  20180701064826   \n",
       "1           NaN    NaN    NaN    NaN  20180701072156  20180701072520   \n",
       "2           NaN    NaN    NaN    NaN  20180701123653  20180701134223   \n",
       "3           NaN    NaN    NaN    NaN  20180701224424  20180701224543   \n",
       "4           NaN    NaN    NaN    NaN  20180701085058  20180701085910   "
      ]
     },
     "execution_count": 25,
     "metadata": {},
     "output_type": "execute_result"
    }
   ],
   "source": [
    "time_cols = [col for col in df1.columns if \"일시\" in col]\n",
    "\n",
    "df1[time_cols].head()"
   ]
  },
  {
   "cell_type": "code",
   "execution_count": 26,
   "metadata": {},
   "outputs": [],
   "source": [
    "df1['승차일시1'] = pd.to_datetime(df1['승차일시1'], format='%Y%m%d%H%M%S')\n",
    "df1['승차일시2'] = pd.to_datetime(df1['승차일시2'], format='%Y%m%d%H%M%S')\n",
    "df1['승차일시3'] = pd.to_datetime(df1['승차일시3'], format='%Y%m%d%H%M%S')\n",
    "df1['승차일시4'] = pd.to_datetime(df1['승차일시4'], format='%Y%m%d%H%M%S')\n",
    "df1['승차일시5'] = pd.to_datetime(df1['승차일시5'], format='%Y%m%d%H%M%S')\n",
    "df1['하차일시1'] = pd.to_datetime(df1['하차일시1'], format='%Y%m%d%H%M%S')\n",
    "df1['하차일시2'] = pd.to_datetime(df1['하차일시2'], format='%Y%m%d%H%M%S')\n",
    "df1['하차일시3'] = pd.to_datetime(df1['하차일시3'], format='%Y%m%d%H%M%S')\n",
    "df1['하차일시4'] = pd.to_datetime(df1['하차일시4'], format='%Y%m%d%H%M%S')\n",
    "df1['하차일시5'] = pd.to_datetime(df1['하차일시5'], format='%Y%m%d%H%M%S')\n",
    "df1['최초승차일시'] = pd.to_datetime(df1['최초승차일시'],format='%Y%m%d%H%M%S')\n",
    "df1['최종하차일시'] = pd.to_datetime(df1['최종하차일시'], errors='coerce')"
   ]
  },
  {
   "cell_type": "code",
   "execution_count": 27,
   "metadata": {},
   "outputs": [
    {
     "name": "stdout",
     "output_type": "stream",
     "text": [
      "1048575 -> 1036746 (0.01)\n"
     ]
    }
   ],
   "source": [
    "before = len(df1)\n",
    "df1.dropna(subset=['최종하차일시'], inplace=True)\n",
    "after = len(df1)\n",
    "\n",
    "print(\"{} -> {} ({:.2f})\".format(before, after, (before-after)/before))"
   ]
  },
  {
   "cell_type": "code",
   "execution_count": 28,
   "metadata": {},
   "outputs": [
    {
     "data": {
      "text/plain": [
       "1    177387\n",
       "2    360373\n",
       "3    399390\n",
       "4     98971\n",
       "5       625\n",
       "Name: 최종하차일시, dtype: int64"
      ]
     },
     "execution_count": 28,
     "metadata": {},
     "output_type": "execute_result"
    }
   ],
   "source": [
    "df1['최종하차일시'].dt.day.value_counts().sort_index()"
   ]
  },
  {
   "cell_type": "code",
   "execution_count": 29,
   "metadata": {},
   "outputs": [],
   "source": [
    "df2 = df1[df1['최종하차일시'].dt.day == 3].reset_index(drop=True)"
   ]
  },
  {
   "cell_type": "code",
   "execution_count": 30,
   "metadata": {},
   "outputs": [],
   "source": [
    "df2['시간'] = df2['최초승차일시'].dt.hour\n",
    "df3 = df2.groupby('시간').size().to_frame().reset_index()\n",
    "df3.rename({0: \"이용량\"}, axis=1, inplace=True)"
   ]
  },
  {
   "cell_type": "code",
   "execution_count": 31,
   "metadata": {},
   "outputs": [
    {
     "data": {
      "application/vnd.plotly.v1+json": {
       "config": {
        "plotlyServerURL": "https://plot.ly"
       },
       "data": [
        {
         "alignmentgroup": "True",
         "hoverlabel": {
          "namelength": 0
         },
         "hovertemplate": "시간=%{x}<br>이용량=%{y}",
         "legendgroup": "",
         "marker": {
          "color": "#636efa"
         },
         "name": "",
         "offsetgroup": "",
         "orientation": "v",
         "showlegend": false,
         "textposition": "auto",
         "type": "bar",
         "x": [
          4,
          5,
          6,
          7,
          8,
          9,
          10,
          11,
          12,
          13,
          14,
          15,
          16,
          17,
          18,
          19,
          20,
          21,
          22,
          23
         ],
         "xaxis": "x",
         "y": [
          656,
          7022,
          16566,
          36018,
          36950,
          20677,
          14633,
          15939,
          19237,
          21824,
          17805,
          19979,
          23622,
          30963,
          34537,
          23296,
          19940,
          19106,
          14938,
          5682
         ],
         "yaxis": "y"
        }
       ],
       "layout": {
        "barmode": "relative",
        "height": 600,
        "legend": {
         "tracegroupgap": 0
        },
        "margin": {
         "t": 60
        },
        "template": {
         "data": {
          "bar": [
           {
            "error_x": {
             "color": "#2a3f5f"
            },
            "error_y": {
             "color": "#2a3f5f"
            },
            "marker": {
             "line": {
              "color": "#E5ECF6",
              "width": 0.5
             }
            },
            "type": "bar"
           }
          ],
          "barpolar": [
           {
            "marker": {
             "line": {
              "color": "#E5ECF6",
              "width": 0.5
             }
            },
            "type": "barpolar"
           }
          ],
          "carpet": [
           {
            "aaxis": {
             "endlinecolor": "#2a3f5f",
             "gridcolor": "white",
             "linecolor": "white",
             "minorgridcolor": "white",
             "startlinecolor": "#2a3f5f"
            },
            "baxis": {
             "endlinecolor": "#2a3f5f",
             "gridcolor": "white",
             "linecolor": "white",
             "minorgridcolor": "white",
             "startlinecolor": "#2a3f5f"
            },
            "type": "carpet"
           }
          ],
          "choropleth": [
           {
            "colorbar": {
             "outlinewidth": 0,
             "ticks": ""
            },
            "type": "choropleth"
           }
          ],
          "contour": [
           {
            "colorbar": {
             "outlinewidth": 0,
             "ticks": ""
            },
            "colorscale": [
             [
              0,
              "#0d0887"
             ],
             [
              0.1111111111111111,
              "#46039f"
             ],
             [
              0.2222222222222222,
              "#7201a8"
             ],
             [
              0.3333333333333333,
              "#9c179e"
             ],
             [
              0.4444444444444444,
              "#bd3786"
             ],
             [
              0.5555555555555556,
              "#d8576b"
             ],
             [
              0.6666666666666666,
              "#ed7953"
             ],
             [
              0.7777777777777778,
              "#fb9f3a"
             ],
             [
              0.8888888888888888,
              "#fdca26"
             ],
             [
              1,
              "#f0f921"
             ]
            ],
            "type": "contour"
           }
          ],
          "contourcarpet": [
           {
            "colorbar": {
             "outlinewidth": 0,
             "ticks": ""
            },
            "type": "contourcarpet"
           }
          ],
          "heatmap": [
           {
            "colorbar": {
             "outlinewidth": 0,
             "ticks": ""
            },
            "colorscale": [
             [
              0,
              "#0d0887"
             ],
             [
              0.1111111111111111,
              "#46039f"
             ],
             [
              0.2222222222222222,
              "#7201a8"
             ],
             [
              0.3333333333333333,
              "#9c179e"
             ],
             [
              0.4444444444444444,
              "#bd3786"
             ],
             [
              0.5555555555555556,
              "#d8576b"
             ],
             [
              0.6666666666666666,
              "#ed7953"
             ],
             [
              0.7777777777777778,
              "#fb9f3a"
             ],
             [
              0.8888888888888888,
              "#fdca26"
             ],
             [
              1,
              "#f0f921"
             ]
            ],
            "type": "heatmap"
           }
          ],
          "heatmapgl": [
           {
            "colorbar": {
             "outlinewidth": 0,
             "ticks": ""
            },
            "colorscale": [
             [
              0,
              "#0d0887"
             ],
             [
              0.1111111111111111,
              "#46039f"
             ],
             [
              0.2222222222222222,
              "#7201a8"
             ],
             [
              0.3333333333333333,
              "#9c179e"
             ],
             [
              0.4444444444444444,
              "#bd3786"
             ],
             [
              0.5555555555555556,
              "#d8576b"
             ],
             [
              0.6666666666666666,
              "#ed7953"
             ],
             [
              0.7777777777777778,
              "#fb9f3a"
             ],
             [
              0.8888888888888888,
              "#fdca26"
             ],
             [
              1,
              "#f0f921"
             ]
            ],
            "type": "heatmapgl"
           }
          ],
          "histogram": [
           {
            "marker": {
             "colorbar": {
              "outlinewidth": 0,
              "ticks": ""
             }
            },
            "type": "histogram"
           }
          ],
          "histogram2d": [
           {
            "colorbar": {
             "outlinewidth": 0,
             "ticks": ""
            },
            "colorscale": [
             [
              0,
              "#0d0887"
             ],
             [
              0.1111111111111111,
              "#46039f"
             ],
             [
              0.2222222222222222,
              "#7201a8"
             ],
             [
              0.3333333333333333,
              "#9c179e"
             ],
             [
              0.4444444444444444,
              "#bd3786"
             ],
             [
              0.5555555555555556,
              "#d8576b"
             ],
             [
              0.6666666666666666,
              "#ed7953"
             ],
             [
              0.7777777777777778,
              "#fb9f3a"
             ],
             [
              0.8888888888888888,
              "#fdca26"
             ],
             [
              1,
              "#f0f921"
             ]
            ],
            "type": "histogram2d"
           }
          ],
          "histogram2dcontour": [
           {
            "colorbar": {
             "outlinewidth": 0,
             "ticks": ""
            },
            "colorscale": [
             [
              0,
              "#0d0887"
             ],
             [
              0.1111111111111111,
              "#46039f"
             ],
             [
              0.2222222222222222,
              "#7201a8"
             ],
             [
              0.3333333333333333,
              "#9c179e"
             ],
             [
              0.4444444444444444,
              "#bd3786"
             ],
             [
              0.5555555555555556,
              "#d8576b"
             ],
             [
              0.6666666666666666,
              "#ed7953"
             ],
             [
              0.7777777777777778,
              "#fb9f3a"
             ],
             [
              0.8888888888888888,
              "#fdca26"
             ],
             [
              1,
              "#f0f921"
             ]
            ],
            "type": "histogram2dcontour"
           }
          ],
          "mesh3d": [
           {
            "colorbar": {
             "outlinewidth": 0,
             "ticks": ""
            },
            "type": "mesh3d"
           }
          ],
          "parcoords": [
           {
            "line": {
             "colorbar": {
              "outlinewidth": 0,
              "ticks": ""
             }
            },
            "type": "parcoords"
           }
          ],
          "pie": [
           {
            "automargin": true,
            "type": "pie"
           }
          ],
          "scatter": [
           {
            "marker": {
             "colorbar": {
              "outlinewidth": 0,
              "ticks": ""
             }
            },
            "type": "scatter"
           }
          ],
          "scatter3d": [
           {
            "line": {
             "colorbar": {
              "outlinewidth": 0,
              "ticks": ""
             }
            },
            "marker": {
             "colorbar": {
              "outlinewidth": 0,
              "ticks": ""
             }
            },
            "type": "scatter3d"
           }
          ],
          "scattercarpet": [
           {
            "marker": {
             "colorbar": {
              "outlinewidth": 0,
              "ticks": ""
             }
            },
            "type": "scattercarpet"
           }
          ],
          "scattergeo": [
           {
            "marker": {
             "colorbar": {
              "outlinewidth": 0,
              "ticks": ""
             }
            },
            "type": "scattergeo"
           }
          ],
          "scattergl": [
           {
            "marker": {
             "colorbar": {
              "outlinewidth": 0,
              "ticks": ""
             }
            },
            "type": "scattergl"
           }
          ],
          "scattermapbox": [
           {
            "marker": {
             "colorbar": {
              "outlinewidth": 0,
              "ticks": ""
             }
            },
            "type": "scattermapbox"
           }
          ],
          "scatterpolar": [
           {
            "marker": {
             "colorbar": {
              "outlinewidth": 0,
              "ticks": ""
             }
            },
            "type": "scatterpolar"
           }
          ],
          "scatterpolargl": [
           {
            "marker": {
             "colorbar": {
              "outlinewidth": 0,
              "ticks": ""
             }
            },
            "type": "scatterpolargl"
           }
          ],
          "scatterternary": [
           {
            "marker": {
             "colorbar": {
              "outlinewidth": 0,
              "ticks": ""
             }
            },
            "type": "scatterternary"
           }
          ],
          "surface": [
           {
            "colorbar": {
             "outlinewidth": 0,
             "ticks": ""
            },
            "colorscale": [
             [
              0,
              "#0d0887"
             ],
             [
              0.1111111111111111,
              "#46039f"
             ],
             [
              0.2222222222222222,
              "#7201a8"
             ],
             [
              0.3333333333333333,
              "#9c179e"
             ],
             [
              0.4444444444444444,
              "#bd3786"
             ],
             [
              0.5555555555555556,
              "#d8576b"
             ],
             [
              0.6666666666666666,
              "#ed7953"
             ],
             [
              0.7777777777777778,
              "#fb9f3a"
             ],
             [
              0.8888888888888888,
              "#fdca26"
             ],
             [
              1,
              "#f0f921"
             ]
            ],
            "type": "surface"
           }
          ],
          "table": [
           {
            "cells": {
             "fill": {
              "color": "#EBF0F8"
             },
             "line": {
              "color": "white"
             }
            },
            "header": {
             "fill": {
              "color": "#C8D4E3"
             },
             "line": {
              "color": "white"
             }
            },
            "type": "table"
           }
          ]
         },
         "layout": {
          "annotationdefaults": {
           "arrowcolor": "#2a3f5f",
           "arrowhead": 0,
           "arrowwidth": 1
          },
          "coloraxis": {
           "colorbar": {
            "outlinewidth": 0,
            "ticks": ""
           }
          },
          "colorscale": {
           "diverging": [
            [
             0,
             "#8e0152"
            ],
            [
             0.1,
             "#c51b7d"
            ],
            [
             0.2,
             "#de77ae"
            ],
            [
             0.3,
             "#f1b6da"
            ],
            [
             0.4,
             "#fde0ef"
            ],
            [
             0.5,
             "#f7f7f7"
            ],
            [
             0.6,
             "#e6f5d0"
            ],
            [
             0.7,
             "#b8e186"
            ],
            [
             0.8,
             "#7fbc41"
            ],
            [
             0.9,
             "#4d9221"
            ],
            [
             1,
             "#276419"
            ]
           ],
           "sequential": [
            [
             0,
             "#0d0887"
            ],
            [
             0.1111111111111111,
             "#46039f"
            ],
            [
             0.2222222222222222,
             "#7201a8"
            ],
            [
             0.3333333333333333,
             "#9c179e"
            ],
            [
             0.4444444444444444,
             "#bd3786"
            ],
            [
             0.5555555555555556,
             "#d8576b"
            ],
            [
             0.6666666666666666,
             "#ed7953"
            ],
            [
             0.7777777777777778,
             "#fb9f3a"
            ],
            [
             0.8888888888888888,
             "#fdca26"
            ],
            [
             1,
             "#f0f921"
            ]
           ],
           "sequentialminus": [
            [
             0,
             "#0d0887"
            ],
            [
             0.1111111111111111,
             "#46039f"
            ],
            [
             0.2222222222222222,
             "#7201a8"
            ],
            [
             0.3333333333333333,
             "#9c179e"
            ],
            [
             0.4444444444444444,
             "#bd3786"
            ],
            [
             0.5555555555555556,
             "#d8576b"
            ],
            [
             0.6666666666666666,
             "#ed7953"
            ],
            [
             0.7777777777777778,
             "#fb9f3a"
            ],
            [
             0.8888888888888888,
             "#fdca26"
            ],
            [
             1,
             "#f0f921"
            ]
           ]
          },
          "colorway": [
           "#636efa",
           "#EF553B",
           "#00cc96",
           "#ab63fa",
           "#FFA15A",
           "#19d3f3",
           "#FF6692",
           "#B6E880",
           "#FF97FF",
           "#FECB52"
          ],
          "font": {
           "color": "#2a3f5f"
          },
          "geo": {
           "bgcolor": "white",
           "lakecolor": "white",
           "landcolor": "#E5ECF6",
           "showlakes": true,
           "showland": true,
           "subunitcolor": "white"
          },
          "hoverlabel": {
           "align": "left"
          },
          "hovermode": "closest",
          "mapbox": {
           "style": "light"
          },
          "paper_bgcolor": "white",
          "plot_bgcolor": "#E5ECF6",
          "polar": {
           "angularaxis": {
            "gridcolor": "white",
            "linecolor": "white",
            "ticks": ""
           },
           "bgcolor": "#E5ECF6",
           "radialaxis": {
            "gridcolor": "white",
            "linecolor": "white",
            "ticks": ""
           }
          },
          "scene": {
           "xaxis": {
            "backgroundcolor": "#E5ECF6",
            "gridcolor": "white",
            "gridwidth": 2,
            "linecolor": "white",
            "showbackground": true,
            "ticks": "",
            "zerolinecolor": "white"
           },
           "yaxis": {
            "backgroundcolor": "#E5ECF6",
            "gridcolor": "white",
            "gridwidth": 2,
            "linecolor": "white",
            "showbackground": true,
            "ticks": "",
            "zerolinecolor": "white"
           },
           "zaxis": {
            "backgroundcolor": "#E5ECF6",
            "gridcolor": "white",
            "gridwidth": 2,
            "linecolor": "white",
            "showbackground": true,
            "ticks": "",
            "zerolinecolor": "white"
           }
          },
          "shapedefaults": {
           "line": {
            "color": "#2a3f5f"
           }
          },
          "ternary": {
           "aaxis": {
            "gridcolor": "white",
            "linecolor": "white",
            "ticks": ""
           },
           "baxis": {
            "gridcolor": "white",
            "linecolor": "white",
            "ticks": ""
           },
           "bgcolor": "#E5ECF6",
           "caxis": {
            "gridcolor": "white",
            "linecolor": "white",
            "ticks": ""
           }
          },
          "title": {
           "x": 0.05
          },
          "xaxis": {
           "automargin": true,
           "gridcolor": "white",
           "linecolor": "white",
           "ticks": "",
           "title": {
            "standoff": 15
           },
           "zerolinecolor": "white",
           "zerolinewidth": 2
          },
          "yaxis": {
           "automargin": true,
           "gridcolor": "white",
           "linecolor": "white",
           "ticks": "",
           "title": {
            "standoff": 15
           },
           "zerolinecolor": "white",
           "zerolinewidth": 2
          }
         }
        },
        "xaxis": {
         "anchor": "y",
         "domain": [
          0,
          1
         ],
         "title": {
          "text": "시간"
         }
        },
        "yaxis": {
         "anchor": "x",
         "domain": [
          0,
          1
         ],
         "title": {
          "text": "이용량"
         }
        }
       }
      },
      "text/html": [
       "<div>\n",
       "        \n",
       "        \n",
       "            <div id=\"cb325e3b-4fdb-43ef-8762-2bd4b5f73295\" class=\"plotly-graph-div\" style=\"height:600px; width:100%;\"></div>\n",
       "            <script type=\"text/javascript\">\n",
       "                require([\"plotly\"], function(Plotly) {\n",
       "                    window.PLOTLYENV=window.PLOTLYENV || {};\n",
       "                    \n",
       "                if (document.getElementById(\"cb325e3b-4fdb-43ef-8762-2bd4b5f73295\")) {\n",
       "                    Plotly.newPlot(\n",
       "                        'cb325e3b-4fdb-43ef-8762-2bd4b5f73295',\n",
       "                        [{\"alignmentgroup\": \"True\", \"hoverlabel\": {\"namelength\": 0}, \"hovertemplate\": \"\\uc2dc\\uac04=%{x}<br>\\uc774\\uc6a9\\ub7c9=%{y}\", \"legendgroup\": \"\", \"marker\": {\"color\": \"#636efa\"}, \"name\": \"\", \"offsetgroup\": \"\", \"orientation\": \"v\", \"showlegend\": false, \"textposition\": \"auto\", \"type\": \"bar\", \"x\": [4, 5, 6, 7, 8, 9, 10, 11, 12, 13, 14, 15, 16, 17, 18, 19, 20, 21, 22, 23], \"xaxis\": \"x\", \"y\": [656, 7022, 16566, 36018, 36950, 20677, 14633, 15939, 19237, 21824, 17805, 19979, 23622, 30963, 34537, 23296, 19940, 19106, 14938, 5682], \"yaxis\": \"y\"}],\n",
       "                        {\"barmode\": \"relative\", \"height\": 600, \"legend\": {\"tracegroupgap\": 0}, \"margin\": {\"t\": 60}, \"template\": {\"data\": {\"bar\": [{\"error_x\": {\"color\": \"#2a3f5f\"}, \"error_y\": {\"color\": \"#2a3f5f\"}, \"marker\": {\"line\": {\"color\": \"#E5ECF6\", \"width\": 0.5}}, \"type\": \"bar\"}], \"barpolar\": [{\"marker\": {\"line\": {\"color\": \"#E5ECF6\", \"width\": 0.5}}, \"type\": \"barpolar\"}], \"carpet\": [{\"aaxis\": {\"endlinecolor\": \"#2a3f5f\", \"gridcolor\": \"white\", \"linecolor\": \"white\", \"minorgridcolor\": \"white\", \"startlinecolor\": \"#2a3f5f\"}, \"baxis\": {\"endlinecolor\": \"#2a3f5f\", \"gridcolor\": \"white\", \"linecolor\": \"white\", \"minorgridcolor\": \"white\", \"startlinecolor\": \"#2a3f5f\"}, \"type\": \"carpet\"}], \"choropleth\": [{\"colorbar\": {\"outlinewidth\": 0, \"ticks\": \"\"}, \"type\": \"choropleth\"}], \"contour\": [{\"colorbar\": {\"outlinewidth\": 0, \"ticks\": \"\"}, \"colorscale\": [[0.0, \"#0d0887\"], [0.1111111111111111, \"#46039f\"], [0.2222222222222222, \"#7201a8\"], [0.3333333333333333, \"#9c179e\"], [0.4444444444444444, \"#bd3786\"], [0.5555555555555556, \"#d8576b\"], [0.6666666666666666, \"#ed7953\"], [0.7777777777777778, \"#fb9f3a\"], [0.8888888888888888, \"#fdca26\"], [1.0, \"#f0f921\"]], \"type\": \"contour\"}], \"contourcarpet\": [{\"colorbar\": {\"outlinewidth\": 0, \"ticks\": \"\"}, \"type\": \"contourcarpet\"}], \"heatmap\": [{\"colorbar\": {\"outlinewidth\": 0, \"ticks\": \"\"}, \"colorscale\": [[0.0, \"#0d0887\"], [0.1111111111111111, \"#46039f\"], [0.2222222222222222, \"#7201a8\"], [0.3333333333333333, \"#9c179e\"], [0.4444444444444444, \"#bd3786\"], [0.5555555555555556, \"#d8576b\"], [0.6666666666666666, \"#ed7953\"], [0.7777777777777778, \"#fb9f3a\"], [0.8888888888888888, \"#fdca26\"], [1.0, \"#f0f921\"]], \"type\": \"heatmap\"}], \"heatmapgl\": [{\"colorbar\": {\"outlinewidth\": 0, \"ticks\": \"\"}, \"colorscale\": [[0.0, \"#0d0887\"], [0.1111111111111111, \"#46039f\"], [0.2222222222222222, \"#7201a8\"], [0.3333333333333333, \"#9c179e\"], [0.4444444444444444, \"#bd3786\"], [0.5555555555555556, \"#d8576b\"], [0.6666666666666666, \"#ed7953\"], [0.7777777777777778, \"#fb9f3a\"], [0.8888888888888888, \"#fdca26\"], [1.0, \"#f0f921\"]], \"type\": \"heatmapgl\"}], \"histogram\": [{\"marker\": {\"colorbar\": {\"outlinewidth\": 0, \"ticks\": \"\"}}, \"type\": \"histogram\"}], \"histogram2d\": [{\"colorbar\": {\"outlinewidth\": 0, \"ticks\": \"\"}, \"colorscale\": [[0.0, \"#0d0887\"], [0.1111111111111111, \"#46039f\"], [0.2222222222222222, \"#7201a8\"], [0.3333333333333333, \"#9c179e\"], [0.4444444444444444, \"#bd3786\"], [0.5555555555555556, \"#d8576b\"], [0.6666666666666666, \"#ed7953\"], [0.7777777777777778, \"#fb9f3a\"], [0.8888888888888888, \"#fdca26\"], [1.0, \"#f0f921\"]], \"type\": \"histogram2d\"}], \"histogram2dcontour\": [{\"colorbar\": {\"outlinewidth\": 0, \"ticks\": \"\"}, \"colorscale\": [[0.0, \"#0d0887\"], [0.1111111111111111, \"#46039f\"], [0.2222222222222222, \"#7201a8\"], [0.3333333333333333, \"#9c179e\"], [0.4444444444444444, \"#bd3786\"], [0.5555555555555556, \"#d8576b\"], [0.6666666666666666, \"#ed7953\"], [0.7777777777777778, \"#fb9f3a\"], [0.8888888888888888, \"#fdca26\"], [1.0, \"#f0f921\"]], \"type\": \"histogram2dcontour\"}], \"mesh3d\": [{\"colorbar\": {\"outlinewidth\": 0, \"ticks\": \"\"}, \"type\": \"mesh3d\"}], \"parcoords\": [{\"line\": {\"colorbar\": {\"outlinewidth\": 0, \"ticks\": \"\"}}, \"type\": \"parcoords\"}], \"pie\": [{\"automargin\": true, \"type\": \"pie\"}], \"scatter\": [{\"marker\": {\"colorbar\": {\"outlinewidth\": 0, \"ticks\": \"\"}}, \"type\": \"scatter\"}], \"scatter3d\": [{\"line\": {\"colorbar\": {\"outlinewidth\": 0, \"ticks\": \"\"}}, \"marker\": {\"colorbar\": {\"outlinewidth\": 0, \"ticks\": \"\"}}, \"type\": \"scatter3d\"}], \"scattercarpet\": [{\"marker\": {\"colorbar\": {\"outlinewidth\": 0, \"ticks\": \"\"}}, \"type\": \"scattercarpet\"}], \"scattergeo\": [{\"marker\": {\"colorbar\": {\"outlinewidth\": 0, \"ticks\": \"\"}}, \"type\": \"scattergeo\"}], \"scattergl\": [{\"marker\": {\"colorbar\": {\"outlinewidth\": 0, \"ticks\": \"\"}}, \"type\": \"scattergl\"}], \"scattermapbox\": [{\"marker\": {\"colorbar\": {\"outlinewidth\": 0, \"ticks\": \"\"}}, \"type\": \"scattermapbox\"}], \"scatterpolar\": [{\"marker\": {\"colorbar\": {\"outlinewidth\": 0, \"ticks\": \"\"}}, \"type\": \"scatterpolar\"}], \"scatterpolargl\": [{\"marker\": {\"colorbar\": {\"outlinewidth\": 0, \"ticks\": \"\"}}, \"type\": \"scatterpolargl\"}], \"scatterternary\": [{\"marker\": {\"colorbar\": {\"outlinewidth\": 0, \"ticks\": \"\"}}, \"type\": \"scatterternary\"}], \"surface\": [{\"colorbar\": {\"outlinewidth\": 0, \"ticks\": \"\"}, \"colorscale\": [[0.0, \"#0d0887\"], [0.1111111111111111, \"#46039f\"], [0.2222222222222222, \"#7201a8\"], [0.3333333333333333, \"#9c179e\"], [0.4444444444444444, \"#bd3786\"], [0.5555555555555556, \"#d8576b\"], [0.6666666666666666, \"#ed7953\"], [0.7777777777777778, \"#fb9f3a\"], [0.8888888888888888, \"#fdca26\"], [1.0, \"#f0f921\"]], \"type\": \"surface\"}], \"table\": [{\"cells\": {\"fill\": {\"color\": \"#EBF0F8\"}, \"line\": {\"color\": \"white\"}}, \"header\": {\"fill\": {\"color\": \"#C8D4E3\"}, \"line\": {\"color\": \"white\"}}, \"type\": \"table\"}]}, \"layout\": {\"annotationdefaults\": {\"arrowcolor\": \"#2a3f5f\", \"arrowhead\": 0, \"arrowwidth\": 1}, \"coloraxis\": {\"colorbar\": {\"outlinewidth\": 0, \"ticks\": \"\"}}, \"colorscale\": {\"diverging\": [[0, \"#8e0152\"], [0.1, \"#c51b7d\"], [0.2, \"#de77ae\"], [0.3, \"#f1b6da\"], [0.4, \"#fde0ef\"], [0.5, \"#f7f7f7\"], [0.6, \"#e6f5d0\"], [0.7, \"#b8e186\"], [0.8, \"#7fbc41\"], [0.9, \"#4d9221\"], [1, \"#276419\"]], \"sequential\": [[0.0, \"#0d0887\"], [0.1111111111111111, \"#46039f\"], [0.2222222222222222, \"#7201a8\"], [0.3333333333333333, \"#9c179e\"], [0.4444444444444444, \"#bd3786\"], [0.5555555555555556, \"#d8576b\"], [0.6666666666666666, \"#ed7953\"], [0.7777777777777778, \"#fb9f3a\"], [0.8888888888888888, \"#fdca26\"], [1.0, \"#f0f921\"]], \"sequentialminus\": [[0.0, \"#0d0887\"], [0.1111111111111111, \"#46039f\"], [0.2222222222222222, \"#7201a8\"], [0.3333333333333333, \"#9c179e\"], [0.4444444444444444, \"#bd3786\"], [0.5555555555555556, \"#d8576b\"], [0.6666666666666666, \"#ed7953\"], [0.7777777777777778, \"#fb9f3a\"], [0.8888888888888888, \"#fdca26\"], [1.0, \"#f0f921\"]]}, \"colorway\": [\"#636efa\", \"#EF553B\", \"#00cc96\", \"#ab63fa\", \"#FFA15A\", \"#19d3f3\", \"#FF6692\", \"#B6E880\", \"#FF97FF\", \"#FECB52\"], \"font\": {\"color\": \"#2a3f5f\"}, \"geo\": {\"bgcolor\": \"white\", \"lakecolor\": \"white\", \"landcolor\": \"#E5ECF6\", \"showlakes\": true, \"showland\": true, \"subunitcolor\": \"white\"}, \"hoverlabel\": {\"align\": \"left\"}, \"hovermode\": \"closest\", \"mapbox\": {\"style\": \"light\"}, \"paper_bgcolor\": \"white\", \"plot_bgcolor\": \"#E5ECF6\", \"polar\": {\"angularaxis\": {\"gridcolor\": \"white\", \"linecolor\": \"white\", \"ticks\": \"\"}, \"bgcolor\": \"#E5ECF6\", \"radialaxis\": {\"gridcolor\": \"white\", \"linecolor\": \"white\", \"ticks\": \"\"}}, \"scene\": {\"xaxis\": {\"backgroundcolor\": \"#E5ECF6\", \"gridcolor\": \"white\", \"gridwidth\": 2, \"linecolor\": \"white\", \"showbackground\": true, \"ticks\": \"\", \"zerolinecolor\": \"white\"}, \"yaxis\": {\"backgroundcolor\": \"#E5ECF6\", \"gridcolor\": \"white\", \"gridwidth\": 2, \"linecolor\": \"white\", \"showbackground\": true, \"ticks\": \"\", \"zerolinecolor\": \"white\"}, \"zaxis\": {\"backgroundcolor\": \"#E5ECF6\", \"gridcolor\": \"white\", \"gridwidth\": 2, \"linecolor\": \"white\", \"showbackground\": true, \"ticks\": \"\", \"zerolinecolor\": \"white\"}}, \"shapedefaults\": {\"line\": {\"color\": \"#2a3f5f\"}}, \"ternary\": {\"aaxis\": {\"gridcolor\": \"white\", \"linecolor\": \"white\", \"ticks\": \"\"}, \"baxis\": {\"gridcolor\": \"white\", \"linecolor\": \"white\", \"ticks\": \"\"}, \"bgcolor\": \"#E5ECF6\", \"caxis\": {\"gridcolor\": \"white\", \"linecolor\": \"white\", \"ticks\": \"\"}}, \"title\": {\"x\": 0.05}, \"xaxis\": {\"automargin\": true, \"gridcolor\": \"white\", \"linecolor\": \"white\", \"ticks\": \"\", \"title\": {\"standoff\": 15}, \"zerolinecolor\": \"white\", \"zerolinewidth\": 2}, \"yaxis\": {\"automargin\": true, \"gridcolor\": \"white\", \"linecolor\": \"white\", \"ticks\": \"\", \"title\": {\"standoff\": 15}, \"zerolinecolor\": \"white\", \"zerolinewidth\": 2}}}, \"xaxis\": {\"anchor\": \"y\", \"domain\": [0.0, 1.0], \"title\": {\"text\": \"\\uc2dc\\uac04\"}}, \"yaxis\": {\"anchor\": \"x\", \"domain\": [0.0, 1.0], \"title\": {\"text\": \"\\uc774\\uc6a9\\ub7c9\"}}},\n",
       "                        {\"responsive\": true}\n",
       "                    ).then(function(){\n",
       "                            \n",
       "var gd = document.getElementById('cb325e3b-4fdb-43ef-8762-2bd4b5f73295');\n",
       "var x = new MutationObserver(function (mutations, observer) {{\n",
       "        var display = window.getComputedStyle(gd).display;\n",
       "        if (!display || display === 'none') {{\n",
       "            console.log([gd, 'removed!']);\n",
       "            Plotly.purge(gd);\n",
       "            observer.disconnect();\n",
       "        }}\n",
       "}});\n",
       "\n",
       "// Listen for the removal of the full notebook cells\n",
       "var notebookContainer = gd.closest('#notebook-container');\n",
       "if (notebookContainer) {{\n",
       "    x.observe(notebookContainer, {childList: true});\n",
       "}}\n",
       "\n",
       "// Listen for the clearing of the current output cell\n",
       "var outputEl = gd.closest('.output');\n",
       "if (outputEl) {{\n",
       "    x.observe(outputEl, {childList: true});\n",
       "}}\n",
       "\n",
       "                        })\n",
       "                };\n",
       "                });\n",
       "            </script>\n",
       "        </div>"
      ]
     },
     "metadata": {},
     "output_type": "display_data"
    }
   ],
   "source": [
    "import plotly.express as px\n",
    "\n",
    "fig = px.bar(df3, x='시간', y='이용량')\n",
    "fig.show()"
   ]
  },
  {
   "cell_type": "code",
   "execution_count": 34,
   "metadata": {},
   "outputs": [
    {
     "data": {
      "text/plain": [
       "[656,\n",
       " 7022,\n",
       " 16566,\n",
       " 36018,\n",
       " 36950,\n",
       " 20677,\n",
       " 14633,\n",
       " 15939,\n",
       " 19237,\n",
       " 21824,\n",
       " 17805,\n",
       " 19979,\n",
       " 23622,\n",
       " 30963,\n",
       " 34537,\n",
       " 23296,\n",
       " 19940,\n",
       " 19106,\n",
       " 14938,\n",
       " 5682]"
      ]
     },
     "execution_count": 34,
     "metadata": {},
     "output_type": "execute_result"
    }
   ],
   "source": [
    "list(df3['이용량'])"
   ]
  },
  {
   "cell_type": "code",
   "execution_count": null,
   "metadata": {},
   "outputs": [],
   "source": []
  },
  {
   "cell_type": "code",
   "execution_count": 12,
   "metadata": {},
   "outputs": [],
   "source": [
    "line = pd.read_csv('../Data/PJT001_routestationmapping.csv')"
   ]
  },
  {
   "cell_type": "code",
   "execution_count": 13,
   "metadata": {},
   "outputs": [],
   "source": [
    "df2 = df2[['암호화카드번호', '환승횟수','총이용객수', '사용자구분', '버스노선ID1',\n",
    "       '버스노선ID2', '버스노선ID3', '버스노선ID4', '버스노선ID5',\n",
    "       '차량ID1', '차량ID2', '차량ID3', '차량ID4',\n",
    "       '차량ID5','승차일시1', '승차일시2', '승차일시3', '승차일시4',\n",
    "       '승차일시5', '하차일시1', '하차일시2', '하차일시3',\n",
    "       '하차일시4', '하차일시5', '최초승차일시', '최종하차일시',\n",
    "       '승차역ID1', '승차역ID2', '승차역ID3', '승차역ID4',\n",
    "       '승차역ID5', '하차역ID1', '하차역ID2', '하차역ID3',\n",
    "       '하차역ID4', '하차역ID5', '최초승차역ID', '최종하차역ID', '수집건수','시간']]"
   ]
  },
  {
   "cell_type": "code",
   "execution_count": 14,
   "metadata": {},
   "outputs": [],
   "source": [
    "df4 = pd.merge(df2,line[['이비노선ID','표준노선ID','노선명']],how='left', left_on = ['버스노선ID1'], right_on = ['표준노선ID'])"
   ]
  },
  {
   "cell_type": "code",
   "execution_count": 15,
   "metadata": {},
   "outputs": [
    {
     "name": "stdout",
     "output_type": "stream",
     "text": [
      "470235 -> 427094 (0.09)\n"
     ]
    }
   ],
   "source": [
    "before = len(df4)\n",
    "df4.dropna(subset=['노선명'], inplace=True)\n",
    "after = len(df4)\n",
    "\n",
    "print(\"{} -> {} ({:.2f})\".format(before, after, (before-after)/before))"
   ]
  },
  {
   "cell_type": "code",
   "execution_count": 16,
   "metadata": {},
   "outputs": [],
   "source": [
    "df4 = df4.groupby(['노선명','시간']).size().to_frame().reset_index()\n",
    "df4.rename({0: \"이용량\"}, axis=1, inplace=True)"
   ]
  },
  {
   "cell_type": "code",
   "execution_count": 17,
   "metadata": {},
   "outputs": [
    {
     "data": {
      "text/html": [
       "<div>\n",
       "<style scoped>\n",
       "    .dataframe tbody tr th:only-of-type {\n",
       "        vertical-align: middle;\n",
       "    }\n",
       "\n",
       "    .dataframe tbody tr th {\n",
       "        vertical-align: top;\n",
       "    }\n",
       "\n",
       "    .dataframe thead th {\n",
       "        text-align: right;\n",
       "    }\n",
       "</style>\n",
       "<table border=\"1\" class=\"dataframe\">\n",
       "  <thead>\n",
       "    <tr style=\"text-align: right;\">\n",
       "      <th></th>\n",
       "      <th>노선명</th>\n",
       "      <th>시간</th>\n",
       "      <th>이용량</th>\n",
       "    </tr>\n",
       "  </thead>\n",
       "  <tbody>\n",
       "    <tr>\n",
       "      <th>0</th>\n",
       "      <td>1</td>\n",
       "      <td>4</td>\n",
       "      <td>1</td>\n",
       "    </tr>\n",
       "    <tr>\n",
       "      <th>1</th>\n",
       "      <td>1</td>\n",
       "      <td>5</td>\n",
       "      <td>14</td>\n",
       "    </tr>\n",
       "    <tr>\n",
       "      <th>2</th>\n",
       "      <td>1</td>\n",
       "      <td>6</td>\n",
       "      <td>30</td>\n",
       "    </tr>\n",
       "    <tr>\n",
       "      <th>3</th>\n",
       "      <td>1</td>\n",
       "      <td>7</td>\n",
       "      <td>15</td>\n",
       "    </tr>\n",
       "    <tr>\n",
       "      <th>4</th>\n",
       "      <td>1</td>\n",
       "      <td>8</td>\n",
       "      <td>32</td>\n",
       "    </tr>\n",
       "    <tr>\n",
       "      <th>5</th>\n",
       "      <td>1</td>\n",
       "      <td>9</td>\n",
       "      <td>4</td>\n",
       "    </tr>\n",
       "    <tr>\n",
       "      <th>6</th>\n",
       "      <td>1</td>\n",
       "      <td>10</td>\n",
       "      <td>9</td>\n",
       "    </tr>\n",
       "    <tr>\n",
       "      <th>7</th>\n",
       "      <td>1</td>\n",
       "      <td>11</td>\n",
       "      <td>30</td>\n",
       "    </tr>\n",
       "    <tr>\n",
       "      <th>8</th>\n",
       "      <td>1</td>\n",
       "      <td>12</td>\n",
       "      <td>9</td>\n",
       "    </tr>\n",
       "    <tr>\n",
       "      <th>9</th>\n",
       "      <td>1</td>\n",
       "      <td>13</td>\n",
       "      <td>25</td>\n",
       "    </tr>\n",
       "    <tr>\n",
       "      <th>10</th>\n",
       "      <td>1</td>\n",
       "      <td>14</td>\n",
       "      <td>7</td>\n",
       "    </tr>\n",
       "    <tr>\n",
       "      <th>11</th>\n",
       "      <td>1</td>\n",
       "      <td>15</td>\n",
       "      <td>12</td>\n",
       "    </tr>\n",
       "    <tr>\n",
       "      <th>12</th>\n",
       "      <td>1</td>\n",
       "      <td>16</td>\n",
       "      <td>10</td>\n",
       "    </tr>\n",
       "    <tr>\n",
       "      <th>13</th>\n",
       "      <td>1</td>\n",
       "      <td>17</td>\n",
       "      <td>13</td>\n",
       "    </tr>\n",
       "    <tr>\n",
       "      <th>14</th>\n",
       "      <td>1</td>\n",
       "      <td>18</td>\n",
       "      <td>23</td>\n",
       "    </tr>\n",
       "    <tr>\n",
       "      <th>15</th>\n",
       "      <td>1</td>\n",
       "      <td>19</td>\n",
       "      <td>6</td>\n",
       "    </tr>\n",
       "    <tr>\n",
       "      <th>16</th>\n",
       "      <td>1</td>\n",
       "      <td>20</td>\n",
       "      <td>6</td>\n",
       "    </tr>\n",
       "    <tr>\n",
       "      <th>17</th>\n",
       "      <td>1</td>\n",
       "      <td>21</td>\n",
       "      <td>9</td>\n",
       "    </tr>\n",
       "    <tr>\n",
       "      <th>18</th>\n",
       "      <td>1</td>\n",
       "      <td>22</td>\n",
       "      <td>11</td>\n",
       "    </tr>\n",
       "    <tr>\n",
       "      <th>19</th>\n",
       "      <td>1</td>\n",
       "      <td>23</td>\n",
       "      <td>11</td>\n",
       "    </tr>\n",
       "    <tr>\n",
       "      <th>20</th>\n",
       "      <td>1-1</td>\n",
       "      <td>5</td>\n",
       "      <td>1</td>\n",
       "    </tr>\n",
       "    <tr>\n",
       "      <th>21</th>\n",
       "      <td>1-1</td>\n",
       "      <td>6</td>\n",
       "      <td>10</td>\n",
       "    </tr>\n",
       "    <tr>\n",
       "      <th>22</th>\n",
       "      <td>1-1</td>\n",
       "      <td>7</td>\n",
       "      <td>8</td>\n",
       "    </tr>\n",
       "    <tr>\n",
       "      <th>23</th>\n",
       "      <td>1-1</td>\n",
       "      <td>8</td>\n",
       "      <td>13</td>\n",
       "    </tr>\n",
       "    <tr>\n",
       "      <th>24</th>\n",
       "      <td>1-1</td>\n",
       "      <td>9</td>\n",
       "      <td>6</td>\n",
       "    </tr>\n",
       "    <tr>\n",
       "      <th>25</th>\n",
       "      <td>1-1</td>\n",
       "      <td>10</td>\n",
       "      <td>5</td>\n",
       "    </tr>\n",
       "    <tr>\n",
       "      <th>26</th>\n",
       "      <td>1-1</td>\n",
       "      <td>11</td>\n",
       "      <td>1</td>\n",
       "    </tr>\n",
       "    <tr>\n",
       "      <th>27</th>\n",
       "      <td>1-1</td>\n",
       "      <td>12</td>\n",
       "      <td>5</td>\n",
       "    </tr>\n",
       "    <tr>\n",
       "      <th>28</th>\n",
       "      <td>1-1</td>\n",
       "      <td>13</td>\n",
       "      <td>3</td>\n",
       "    </tr>\n",
       "    <tr>\n",
       "      <th>29</th>\n",
       "      <td>1-1</td>\n",
       "      <td>14</td>\n",
       "      <td>3</td>\n",
       "    </tr>\n",
       "    <tr>\n",
       "      <th>...</th>\n",
       "      <td>...</td>\n",
       "      <td>...</td>\n",
       "      <td>...</td>\n",
       "    </tr>\n",
       "    <tr>\n",
       "      <th>4718</th>\n",
       "      <td>M5333</td>\n",
       "      <td>17</td>\n",
       "      <td>2</td>\n",
       "    </tr>\n",
       "    <tr>\n",
       "      <th>4719</th>\n",
       "      <td>M5333</td>\n",
       "      <td>18</td>\n",
       "      <td>2</td>\n",
       "    </tr>\n",
       "    <tr>\n",
       "      <th>4720</th>\n",
       "      <td>M5333</td>\n",
       "      <td>19</td>\n",
       "      <td>1</td>\n",
       "    </tr>\n",
       "    <tr>\n",
       "      <th>4721</th>\n",
       "      <td>M5333</td>\n",
       "      <td>21</td>\n",
       "      <td>1</td>\n",
       "    </tr>\n",
       "    <tr>\n",
       "      <th>4722</th>\n",
       "      <td>M5333</td>\n",
       "      <td>23</td>\n",
       "      <td>2</td>\n",
       "    </tr>\n",
       "    <tr>\n",
       "      <th>4723</th>\n",
       "      <td>M5422</td>\n",
       "      <td>6</td>\n",
       "      <td>1</td>\n",
       "    </tr>\n",
       "    <tr>\n",
       "      <th>4724</th>\n",
       "      <td>M5422</td>\n",
       "      <td>7</td>\n",
       "      <td>2</td>\n",
       "    </tr>\n",
       "    <tr>\n",
       "      <th>4725</th>\n",
       "      <td>M5422</td>\n",
       "      <td>8</td>\n",
       "      <td>1</td>\n",
       "    </tr>\n",
       "    <tr>\n",
       "      <th>4726</th>\n",
       "      <td>M5422</td>\n",
       "      <td>9</td>\n",
       "      <td>1</td>\n",
       "    </tr>\n",
       "    <tr>\n",
       "      <th>4727</th>\n",
       "      <td>M5422</td>\n",
       "      <td>10</td>\n",
       "      <td>1</td>\n",
       "    </tr>\n",
       "    <tr>\n",
       "      <th>4728</th>\n",
       "      <td>M5422</td>\n",
       "      <td>11</td>\n",
       "      <td>1</td>\n",
       "    </tr>\n",
       "    <tr>\n",
       "      <th>4729</th>\n",
       "      <td>M5422</td>\n",
       "      <td>13</td>\n",
       "      <td>1</td>\n",
       "    </tr>\n",
       "    <tr>\n",
       "      <th>4730</th>\n",
       "      <td>M5422</td>\n",
       "      <td>14</td>\n",
       "      <td>3</td>\n",
       "    </tr>\n",
       "    <tr>\n",
       "      <th>4731</th>\n",
       "      <td>M5422</td>\n",
       "      <td>15</td>\n",
       "      <td>4</td>\n",
       "    </tr>\n",
       "    <tr>\n",
       "      <th>4732</th>\n",
       "      <td>M5422</td>\n",
       "      <td>16</td>\n",
       "      <td>4</td>\n",
       "    </tr>\n",
       "    <tr>\n",
       "      <th>4733</th>\n",
       "      <td>M5422</td>\n",
       "      <td>18</td>\n",
       "      <td>9</td>\n",
       "    </tr>\n",
       "    <tr>\n",
       "      <th>4734</th>\n",
       "      <td>M5422</td>\n",
       "      <td>19</td>\n",
       "      <td>5</td>\n",
       "    </tr>\n",
       "    <tr>\n",
       "      <th>4735</th>\n",
       "      <td>M5422</td>\n",
       "      <td>20</td>\n",
       "      <td>2</td>\n",
       "    </tr>\n",
       "    <tr>\n",
       "      <th>4736</th>\n",
       "      <td>M5422</td>\n",
       "      <td>21</td>\n",
       "      <td>5</td>\n",
       "    </tr>\n",
       "    <tr>\n",
       "      <th>4737</th>\n",
       "      <td>M5422</td>\n",
       "      <td>22</td>\n",
       "      <td>1</td>\n",
       "    </tr>\n",
       "    <tr>\n",
       "      <th>4738</th>\n",
       "      <td>M6117</td>\n",
       "      <td>10</td>\n",
       "      <td>1</td>\n",
       "    </tr>\n",
       "    <tr>\n",
       "      <th>4739</th>\n",
       "      <td>M6117</td>\n",
       "      <td>11</td>\n",
       "      <td>1</td>\n",
       "    </tr>\n",
       "    <tr>\n",
       "      <th>4740</th>\n",
       "      <td>M6427</td>\n",
       "      <td>16</td>\n",
       "      <td>1</td>\n",
       "    </tr>\n",
       "    <tr>\n",
       "      <th>4741</th>\n",
       "      <td>M7106</td>\n",
       "      <td>16</td>\n",
       "      <td>1</td>\n",
       "    </tr>\n",
       "    <tr>\n",
       "      <th>4742</th>\n",
       "      <td>M7106</td>\n",
       "      <td>18</td>\n",
       "      <td>1</td>\n",
       "    </tr>\n",
       "    <tr>\n",
       "      <th>4743</th>\n",
       "      <td>M7111</td>\n",
       "      <td>5</td>\n",
       "      <td>1</td>\n",
       "    </tr>\n",
       "    <tr>\n",
       "      <th>4744</th>\n",
       "      <td>M7111</td>\n",
       "      <td>18</td>\n",
       "      <td>1</td>\n",
       "    </tr>\n",
       "    <tr>\n",
       "      <th>4745</th>\n",
       "      <td>M7119</td>\n",
       "      <td>19</td>\n",
       "      <td>1</td>\n",
       "    </tr>\n",
       "    <tr>\n",
       "      <th>4746</th>\n",
       "      <td>M7412</td>\n",
       "      <td>18</td>\n",
       "      <td>1</td>\n",
       "    </tr>\n",
       "    <tr>\n",
       "      <th>4747</th>\n",
       "      <td>M7731</td>\n",
       "      <td>5</td>\n",
       "      <td>1</td>\n",
       "    </tr>\n",
       "  </tbody>\n",
       "</table>\n",
       "<p>4748 rows × 3 columns</p>\n",
       "</div>"
      ],
      "text/plain": [
       "        노선명  시간  이용량\n",
       "0         1   4    1\n",
       "1         1   5   14\n",
       "2         1   6   30\n",
       "3         1   7   15\n",
       "4         1   8   32\n",
       "5         1   9    4\n",
       "6         1  10    9\n",
       "7         1  11   30\n",
       "8         1  12    9\n",
       "9         1  13   25\n",
       "10        1  14    7\n",
       "11        1  15   12\n",
       "12        1  16   10\n",
       "13        1  17   13\n",
       "14        1  18   23\n",
       "15        1  19    6\n",
       "16        1  20    6\n",
       "17        1  21    9\n",
       "18        1  22   11\n",
       "19        1  23   11\n",
       "20      1-1   5    1\n",
       "21      1-1   6   10\n",
       "22      1-1   7    8\n",
       "23      1-1   8   13\n",
       "24      1-1   9    6\n",
       "25      1-1  10    5\n",
       "26      1-1  11    1\n",
       "27      1-1  12    5\n",
       "28      1-1  13    3\n",
       "29      1-1  14    3\n",
       "...     ...  ..  ...\n",
       "4718  M5333  17    2\n",
       "4719  M5333  18    2\n",
       "4720  M5333  19    1\n",
       "4721  M5333  21    1\n",
       "4722  M5333  23    2\n",
       "4723  M5422   6    1\n",
       "4724  M5422   7    2\n",
       "4725  M5422   8    1\n",
       "4726  M5422   9    1\n",
       "4727  M5422  10    1\n",
       "4728  M5422  11    1\n",
       "4729  M5422  13    1\n",
       "4730  M5422  14    3\n",
       "4731  M5422  15    4\n",
       "4732  M5422  16    4\n",
       "4733  M5422  18    9\n",
       "4734  M5422  19    5\n",
       "4735  M5422  20    2\n",
       "4736  M5422  21    5\n",
       "4737  M5422  22    1\n",
       "4738  M6117  10    1\n",
       "4739  M6117  11    1\n",
       "4740  M6427  16    1\n",
       "4741  M7106  16    1\n",
       "4742  M7106  18    1\n",
       "4743  M7111   5    1\n",
       "4744  M7111  18    1\n",
       "4745  M7119  19    1\n",
       "4746  M7412  18    1\n",
       "4747  M7731   5    1\n",
       "\n",
       "[4748 rows x 3 columns]"
      ]
     },
     "execution_count": 17,
     "metadata": {},
     "output_type": "execute_result"
    }
   ],
   "source": [
    "df4"
   ]
  },
  {
   "cell_type": "code",
   "execution_count": 18,
   "metadata": {
    "scrolled": false
   },
   "outputs": [
    {
     "data": {
      "application/vnd.plotly.v1+json": {
       "config": {
        "plotlyServerURL": "https://plot.ly"
       },
       "data": [
        {
         "hoverlabel": {
          "namelength": 0
         },
         "hovertemplate": "노선명=1<br>시간=%{x}<br>이용량=%{y}",
         "legendgroup": "노선명=1",
         "marker": {
          "color": "#636efa",
          "symbol": "circle"
         },
         "mode": "markers",
         "name": "노선명=1",
         "showlegend": true,
         "type": "scattergl",
         "x": [
          4,
          5,
          6,
          7,
          8,
          9,
          10,
          11,
          12,
          13,
          14,
          15,
          16,
          17,
          18,
          19,
          20,
          21,
          22,
          23
         ],
         "xaxis": "x",
         "y": [
          1,
          14,
          30,
          15,
          32,
          4,
          9,
          30,
          9,
          25,
          7,
          12,
          10,
          13,
          23,
          6,
          6,
          9,
          11,
          11
         ],
         "yaxis": "y"
        },
        {
         "hoverlabel": {
          "namelength": 0
         },
         "hovertemplate": "노선명=1-1<br>시간=%{x}<br>이용량=%{y}",
         "legendgroup": "노선명=1-1",
         "marker": {
          "color": "#EF553B",
          "symbol": "circle"
         },
         "mode": "markers",
         "name": "노선명=1-1",
         "showlegend": true,
         "type": "scattergl",
         "x": [
          5,
          6,
          7,
          8,
          9,
          10,
          11,
          12,
          13,
          14,
          15,
          16,
          17,
          18,
          19,
          20,
          21,
          22,
          23
         ],
         "xaxis": "x",
         "y": [
          1,
          10,
          8,
          13,
          6,
          5,
          1,
          5,
          3,
          3,
          4,
          1,
          12,
          10,
          2,
          3,
          4,
          2,
          1
         ],
         "yaxis": "y"
        },
        {
         "hoverlabel": {
          "namelength": 0
         },
         "hovertemplate": "노선명=1-2<br>시간=%{x}<br>이용량=%{y}",
         "legendgroup": "노선명=1-2",
         "marker": {
          "color": "#00cc96",
          "symbol": "circle"
         },
         "mode": "markers",
         "name": "노선명=1-2",
         "showlegend": true,
         "type": "scattergl",
         "x": [
          5,
          6,
          7,
          8,
          9,
          10,
          11,
          12,
          13,
          14,
          15,
          16,
          17,
          18,
          19,
          20,
          21,
          22,
          23
         ],
         "xaxis": "x",
         "y": [
          4,
          11,
          13,
          19,
          9,
          9,
          4,
          12,
          4,
          5,
          9,
          9,
          14,
          13,
          11,
          12,
          4,
          6,
          2
         ],
         "yaxis": "y"
        },
        {
         "hoverlabel": {
          "namelength": 0
         },
         "hovertemplate": "노선명=1-5<br>시간=%{x}<br>이용량=%{y}",
         "legendgroup": "노선명=1-5",
         "marker": {
          "color": "#ab63fa",
          "symbol": "circle"
         },
         "mode": "markers",
         "name": "노선명=1-5",
         "showlegend": true,
         "type": "scattergl",
         "x": [
          6,
          7,
          8,
          12,
          13,
          15,
          16,
          17,
          18,
          19,
          20,
          22
         ],
         "xaxis": "x",
         "y": [
          1,
          4,
          2,
          1,
          2,
          1,
          3,
          4,
          3,
          1,
          1,
          1
         ],
         "yaxis": "y"
        },
        {
         "hoverlabel": {
          "namelength": 0
         },
         "hovertemplate": "노선명=10<br>시간=%{x}<br>이용량=%{y}",
         "legendgroup": "노선명=10",
         "marker": {
          "color": "#FFA15A",
          "symbol": "circle"
         },
         "mode": "markers",
         "name": "노선명=10",
         "showlegend": true,
         "type": "scattergl",
         "x": [
          5,
          6,
          7,
          8,
          9,
          10,
          11,
          12,
          13,
          14,
          15,
          16,
          17,
          18,
          19,
          20,
          21,
          22,
          23
         ],
         "xaxis": "x",
         "y": [
          3,
          12,
          47,
          37,
          24,
          18,
          22,
          26,
          22,
          25,
          28,
          36,
          44,
          47,
          41,
          31,
          22,
          17,
          9
         ],
         "yaxis": "y"
        },
        {
         "hoverlabel": {
          "namelength": 0
         },
         "hovertemplate": "노선명=10-2<br>시간=%{x}<br>이용량=%{y}",
         "legendgroup": "노선명=10-2",
         "marker": {
          "color": "#19d3f3",
          "symbol": "circle"
         },
         "mode": "markers",
         "name": "노선명=10-2",
         "showlegend": true,
         "type": "scattergl",
         "x": [
          6,
          7,
          8,
          9,
          10,
          11,
          12,
          13,
          14,
          15,
          16,
          17,
          18,
          19,
          20,
          21,
          22
         ],
         "xaxis": "x",
         "y": [
          6,
          13,
          14,
          14,
          15,
          9,
          11,
          7,
          9,
          11,
          14,
          24,
          23,
          6,
          6,
          10,
          4
         ],
         "yaxis": "y"
        },
        {
         "hoverlabel": {
          "namelength": 0
         },
         "hovertemplate": "노선명=10-4<br>시간=%{x}<br>이용량=%{y}",
         "legendgroup": "노선명=10-4",
         "marker": {
          "color": "#FF6692",
          "symbol": "circle"
         },
         "mode": "markers",
         "name": "노선명=10-4",
         "showlegend": true,
         "type": "scattergl",
         "x": [
          16,
          19
         ],
         "xaxis": "x",
         "y": [
          2,
          1
         ],
         "yaxis": "y"
        },
        {
         "hoverlabel": {
          "namelength": 0
         },
         "hovertemplate": "노선명=10-5<br>시간=%{x}<br>이용량=%{y}",
         "legendgroup": "노선명=10-5",
         "marker": {
          "color": "#B6E880",
          "symbol": "circle"
         },
         "mode": "markers",
         "name": "노선명=10-5",
         "showlegend": true,
         "type": "scattergl",
         "x": [
          5,
          6,
          7,
          8,
          9,
          10,
          11,
          12,
          13,
          14,
          15,
          16,
          17,
          18,
          19,
          20,
          21,
          22,
          23
         ],
         "xaxis": "x",
         "y": [
          6,
          7,
          24,
          20,
          12,
          6,
          12,
          13,
          11,
          13,
          16,
          19,
          16,
          12,
          15,
          7,
          10,
          5,
          5
         ],
         "yaxis": "y"
        },
        {
         "hoverlabel": {
          "namelength": 0
         },
         "hovertemplate": "노선명=100<br>시간=%{x}<br>이용량=%{y}",
         "legendgroup": "노선명=100",
         "marker": {
          "color": "#FF97FF",
          "symbol": "circle"
         },
         "mode": "markers",
         "name": "노선명=100",
         "showlegend": true,
         "type": "scattergl",
         "x": [
          5,
          6,
          7,
          8,
          9,
          11,
          15,
          18,
          20
         ],
         "xaxis": "x",
         "y": [
          2,
          3,
          4,
          5,
          1,
          1,
          1,
          2,
          3
         ],
         "yaxis": "y"
        },
        {
         "hoverlabel": {
          "namelength": 0
         },
         "hovertemplate": "노선명=100-2<br>시간=%{x}<br>이용량=%{y}",
         "legendgroup": "노선명=100-2",
         "marker": {
          "color": "#FECB52",
          "symbol": "circle"
         },
         "mode": "markers",
         "name": "노선명=100-2",
         "showlegend": true,
         "type": "scattergl",
         "x": [
          19
         ],
         "xaxis": "x",
         "y": [
          3
         ],
         "yaxis": "y"
        },
        {
         "hoverlabel": {
          "namelength": 0
         },
         "hovertemplate": "노선명=1000<br>시간=%{x}<br>이용량=%{y}",
         "legendgroup": "노선명=1000",
         "marker": {
          "color": "#636efa",
          "symbol": "circle"
         },
         "mode": "markers",
         "name": "노선명=1000",
         "showlegend": true,
         "type": "scattergl",
         "x": [
          6,
          7,
          8,
          9,
          10,
          11,
          12,
          13,
          14,
          15,
          16,
          17,
          18,
          19,
          20,
          21
         ],
         "xaxis": "x",
         "y": [
          4,
          32,
          33,
          17,
          3,
          4,
          8,
          2,
          5,
          8,
          6,
          17,
          10,
          12,
          9,
          2
         ],
         "yaxis": "y"
        },
        {
         "hoverlabel": {
          "namelength": 0
         },
         "hovertemplate": "노선명=1001<br>시간=%{x}<br>이용량=%{y}",
         "legendgroup": "노선명=1001",
         "marker": {
          "color": "#EF553B",
          "symbol": "circle"
         },
         "mode": "markers",
         "name": "노선명=1001",
         "showlegend": true,
         "type": "scattergl",
         "x": [
          5,
          6,
          7,
          8,
          9,
          10,
          11,
          12,
          13,
          14,
          15,
          16,
          17,
          18,
          19,
          20,
          21,
          22
         ],
         "xaxis": "x",
         "y": [
          1,
          11,
          108,
          29,
          20,
          12,
          8,
          13,
          9,
          22,
          7,
          15,
          24,
          37,
          14,
          5,
          20,
          5
         ],
         "yaxis": "y"
        },
        {
         "hoverlabel": {
          "namelength": 0
         },
         "hovertemplate": "노선명=1002<br>시간=%{x}<br>이용량=%{y}",
         "legendgroup": "노선명=1002",
         "marker": {
          "color": "#00cc96",
          "symbol": "circle"
         },
         "mode": "markers",
         "name": "노선명=1002",
         "showlegend": true,
         "type": "scattergl",
         "x": [
          7,
          8,
          11,
          16,
          18,
          20,
          21
         ],
         "xaxis": "x",
         "y": [
          2,
          1,
          1,
          1,
          3,
          1,
          1
         ],
         "yaxis": "y"
        },
        {
         "hoverlabel": {
          "namelength": 0
         },
         "hovertemplate": "노선명=1004<br>시간=%{x}<br>이용량=%{y}",
         "legendgroup": "노선명=1004",
         "marker": {
          "color": "#ab63fa",
          "symbol": "circle"
         },
         "mode": "markers",
         "name": "노선명=1004",
         "showlegend": true,
         "type": "scattergl",
         "x": [
          5,
          6,
          7,
          8,
          9,
          10,
          11,
          12,
          13,
          14,
          15,
          16,
          17,
          18,
          19,
          20,
          21,
          22
         ],
         "xaxis": "x",
         "y": [
          1,
          18,
          19,
          10,
          4,
          2,
          10,
          5,
          9,
          3,
          4,
          5,
          12,
          15,
          3,
          9,
          5,
          1
         ],
         "yaxis": "y"
        },
        {
         "hoverlabel": {
          "namelength": 0
         },
         "hovertemplate": "노선명=1004-1<br>시간=%{x}<br>이용량=%{y}",
         "legendgroup": "노선명=1004-1",
         "marker": {
          "color": "#FFA15A",
          "symbol": "circle"
         },
         "mode": "markers",
         "name": "노선명=1004-1",
         "showlegend": true,
         "type": "scattergl",
         "x": [
          8,
          15,
          16,
          19
         ],
         "xaxis": "x",
         "y": [
          4,
          3,
          3,
          1
         ],
         "yaxis": "y"
        },
        {
         "hoverlabel": {
          "namelength": 0
         },
         "hovertemplate": "노선명=1005<br>시간=%{x}<br>이용량=%{y}",
         "legendgroup": "노선명=1005",
         "marker": {
          "color": "#19d3f3",
          "symbol": "circle"
         },
         "mode": "markers",
         "name": "노선명=1005",
         "showlegend": true,
         "type": "scattergl",
         "x": [
          6,
          11,
          13
         ],
         "xaxis": "x",
         "y": [
          1,
          1,
          1
         ],
         "yaxis": "y"
        },
        {
         "hoverlabel": {
          "namelength": 0
         },
         "hovertemplate": "노선명=1005-1<br>시간=%{x}<br>이용량=%{y}",
         "legendgroup": "노선명=1005-1",
         "marker": {
          "color": "#FF6692",
          "symbol": "circle"
         },
         "mode": "markers",
         "name": "노선명=1005-1",
         "showlegend": true,
         "type": "scattergl",
         "x": [
          10,
          14,
          16
         ],
         "xaxis": "x",
         "y": [
          1,
          1,
          1
         ],
         "yaxis": "y"
        },
        {
         "hoverlabel": {
          "namelength": 0
         },
         "hovertemplate": "노선명=1007<br>시간=%{x}<br>이용량=%{y}",
         "legendgroup": "노선명=1007",
         "marker": {
          "color": "#B6E880",
          "symbol": "circle"
         },
         "mode": "markers",
         "name": "노선명=1007",
         "showlegend": true,
         "type": "scattergl",
         "x": [
          4,
          5,
          7,
          8,
          9,
          10,
          12,
          13,
          14,
          15,
          16,
          17,
          18,
          19,
          20,
          21,
          22,
          23
         ],
         "xaxis": "x",
         "y": [
          3,
          2,
          2,
          2,
          1,
          1,
          5,
          3,
          3,
          8,
          3,
          8,
          25,
          17,
          14,
          14,
          6,
          2
         ],
         "yaxis": "y"
        },
        {
         "hoverlabel": {
          "namelength": 0
         },
         "hovertemplate": "노선명=1007-1<br>시간=%{x}<br>이용량=%{y}",
         "legendgroup": "노선명=1007-1",
         "marker": {
          "color": "#FF97FF",
          "symbol": "circle"
         },
         "mode": "markers",
         "name": "노선명=1007-1",
         "showlegend": true,
         "type": "scattergl",
         "x": [
          7,
          11,
          13,
          17,
          18,
          19,
          23
         ],
         "xaxis": "x",
         "y": [
          2,
          1,
          1,
          2,
          9,
          2,
          1
         ],
         "yaxis": "y"
        },
        {
         "hoverlabel": {
          "namelength": 0
         },
         "hovertemplate": "노선명=1008<br>시간=%{x}<br>이용량=%{y}",
         "legendgroup": "노선명=1008",
         "marker": {
          "color": "#FECB52",
          "symbol": "circle"
         },
         "mode": "markers",
         "name": "노선명=1008",
         "showlegend": true,
         "type": "scattergl",
         "x": [
          6,
          11,
          12,
          14,
          17,
          18,
          21
         ],
         "xaxis": "x",
         "y": [
          1,
          2,
          1,
          2,
          1,
          1,
          1
         ],
         "yaxis": "y"
        },
        {
         "hoverlabel": {
          "namelength": 0
         },
         "hovertemplate": "노선명=1009<br>시간=%{x}<br>이용량=%{y}",
         "legendgroup": "노선명=1009",
         "marker": {
          "color": "#636efa",
          "symbol": "circle"
         },
         "mode": "markers",
         "name": "노선명=1009",
         "showlegend": true,
         "type": "scattergl",
         "x": [
          6,
          13,
          14,
          15,
          17,
          18,
          19,
          20,
          21,
          22
         ],
         "xaxis": "x",
         "y": [
          1,
          1,
          1,
          1,
          4,
          9,
          6,
          4,
          6,
          1
         ],
         "yaxis": "y"
        },
        {
         "hoverlabel": {
          "namelength": 0
         },
         "hovertemplate": "노선명=101<br>시간=%{x}<br>이용량=%{y}",
         "legendgroup": "노선명=101",
         "marker": {
          "color": "#EF553B",
          "symbol": "circle"
         },
         "mode": "markers",
         "name": "노선명=101",
         "showlegend": true,
         "type": "scattergl",
         "x": [
          5,
          6,
          7,
          8,
          9,
          10,
          11,
          12,
          13,
          14,
          15,
          16,
          17,
          18,
          19,
          20,
          21,
          22,
          23
         ],
         "xaxis": "x",
         "y": [
          2,
          10,
          12,
          9,
          10,
          3,
          6,
          9,
          7,
          3,
          5,
          7,
          13,
          14,
          9,
          12,
          4,
          6,
          1
         ],
         "yaxis": "y"
        },
        {
         "hoverlabel": {
          "namelength": 0
         },
         "hovertemplate": "노선명=102<br>시간=%{x}<br>이용량=%{y}",
         "legendgroup": "노선명=102",
         "marker": {
          "color": "#00cc96",
          "symbol": "circle"
         },
         "mode": "markers",
         "name": "노선명=102",
         "showlegend": true,
         "type": "scattergl",
         "x": [
          5,
          6,
          7,
          8,
          9,
          10,
          12,
          13,
          14,
          15,
          16,
          17,
          18,
          19,
          20,
          21,
          22,
          23
         ],
         "xaxis": "x",
         "y": [
          1,
          4,
          3,
          1,
          2,
          1,
          1,
          1,
          1,
          3,
          3,
          6,
          5,
          1,
          3,
          6,
          5,
          3
         ],
         "yaxis": "y"
        },
        {
         "hoverlabel": {
          "namelength": 0
         },
         "hovertemplate": "노선명=103<br>시간=%{x}<br>이용량=%{y}",
         "legendgroup": "노선명=103",
         "marker": {
          "color": "#ab63fa",
          "symbol": "circle"
         },
         "mode": "markers",
         "name": "노선명=103",
         "showlegend": true,
         "type": "scattergl",
         "x": [
          5,
          7,
          8,
          12,
          13,
          16,
          17,
          18,
          19,
          20
         ],
         "xaxis": "x",
         "y": [
          2,
          2,
          1,
          2,
          1,
          1,
          5,
          6,
          1,
          1
         ],
         "yaxis": "y"
        },
        {
         "hoverlabel": {
          "namelength": 0
         },
         "hovertemplate": "노선명=1082<br>시간=%{x}<br>이용량=%{y}",
         "legendgroup": "노선명=1082",
         "marker": {
          "color": "#FFA15A",
          "symbol": "circle"
         },
         "mode": "markers",
         "name": "노선명=1082",
         "showlegend": true,
         "type": "scattergl",
         "x": [
          6,
          11,
          14,
          16,
          17,
          20
         ],
         "xaxis": "x",
         "y": [
          1,
          1,
          1,
          1,
          1,
          1
         ],
         "yaxis": "y"
        },
        {
         "hoverlabel": {
          "namelength": 0
         },
         "hovertemplate": "노선명=11<br>시간=%{x}<br>이용량=%{y}",
         "legendgroup": "노선명=11",
         "marker": {
          "color": "#19d3f3",
          "symbol": "circle"
         },
         "mode": "markers",
         "name": "노선명=11",
         "showlegend": true,
         "type": "scattergl",
         "x": [
          4,
          5,
          6,
          7,
          8,
          9,
          10,
          11,
          12,
          13,
          14,
          15,
          16,
          17,
          18,
          19,
          20,
          21,
          22,
          23
         ],
         "xaxis": "x",
         "y": [
          5,
          6,
          30,
          70,
          61,
          36,
          27,
          31,
          29,
          31,
          28,
          48,
          40,
          80,
          57,
          25,
          29,
          15,
          8,
          4
         ],
         "yaxis": "y"
        },
        {
         "hoverlabel": {
          "namelength": 0
         },
         "hovertemplate": "노선명=11-1<br>시간=%{x}<br>이용량=%{y}",
         "legendgroup": "노선명=11-1",
         "marker": {
          "color": "#FF6692",
          "symbol": "circle"
         },
         "mode": "markers",
         "name": "노선명=11-1",
         "showlegend": true,
         "type": "scattergl",
         "x": [
          5,
          6,
          7,
          8,
          9,
          10,
          11,
          12,
          13,
          14,
          15,
          16,
          17,
          18,
          19,
          20,
          21,
          22,
          23
         ],
         "xaxis": "x",
         "y": [
          62,
          118,
          311,
          300,
          166,
          156,
          124,
          199,
          173,
          154,
          235,
          210,
          276,
          236,
          150,
          148,
          174,
          121,
          49
         ],
         "yaxis": "y"
        },
        {
         "hoverlabel": {
          "namelength": 0
         },
         "hovertemplate": "노선명=11-2<br>시간=%{x}<br>이용량=%{y}",
         "legendgroup": "노선명=11-2",
         "marker": {
          "color": "#B6E880",
          "symbol": "circle"
         },
         "mode": "markers",
         "name": "노선명=11-2",
         "showlegend": true,
         "type": "scattergl",
         "x": [
          5,
          6,
          7,
          8,
          9,
          11,
          12,
          14,
          15,
          16,
          17,
          18,
          19,
          20,
          21,
          22,
          23
         ],
         "xaxis": "x",
         "y": [
          2,
          3,
          3,
          3,
          1,
          2,
          5,
          1,
          2,
          1,
          1,
          3,
          1,
          2,
          4,
          1,
          1
         ],
         "yaxis": "y"
        },
        {
         "hoverlabel": {
          "namelength": 0
         },
         "hovertemplate": "노선명=11-3<br>시간=%{x}<br>이용량=%{y}",
         "legendgroup": "노선명=11-3",
         "marker": {
          "color": "#FF97FF",
          "symbol": "circle"
         },
         "mode": "markers",
         "name": "노선명=11-3",
         "showlegend": true,
         "type": "scattergl",
         "x": [
          5,
          6,
          7,
          8,
          9,
          10,
          12,
          13,
          14,
          15,
          16,
          17,
          18,
          19,
          20,
          22
         ],
         "xaxis": "x",
         "y": [
          2,
          2,
          3,
          2,
          3,
          4,
          2,
          1,
          2,
          3,
          7,
          3,
          5,
          3,
          3,
          3
         ],
         "yaxis": "y"
        },
        {
         "hoverlabel": {
          "namelength": 0
         },
         "hovertemplate": "노선명=11-5<br>시간=%{x}<br>이용량=%{y}",
         "legendgroup": "노선명=11-5",
         "marker": {
          "color": "#FECB52",
          "symbol": "circle"
         },
         "mode": "markers",
         "name": "노선명=11-5",
         "showlegend": true,
         "type": "scattergl",
         "x": [
          5,
          6,
          7,
          8,
          9,
          10,
          11,
          12,
          13,
          14,
          15,
          16,
          17,
          18,
          19,
          20,
          21,
          22
         ],
         "xaxis": "x",
         "y": [
          1,
          5,
          8,
          6,
          9,
          3,
          1,
          5,
          3,
          4,
          1,
          4,
          11,
          7,
          3,
          4,
          4,
          2
         ],
         "yaxis": "y"
        },
        {
         "hoverlabel": {
          "namelength": 0
         },
         "hovertemplate": "노선명=11-A<br>시간=%{x}<br>이용량=%{y}",
         "legendgroup": "노선명=11-A",
         "marker": {
          "color": "#636efa",
          "symbol": "circle"
         },
         "mode": "markers",
         "name": "노선명=11-A",
         "showlegend": true,
         "type": "scattergl",
         "x": [
          18
         ],
         "xaxis": "x",
         "y": [
          2
         ],
         "yaxis": "y"
        },
        {
         "hoverlabel": {
          "namelength": 0
         },
         "hovertemplate": "노선명=110<br>시간=%{x}<br>이용량=%{y}",
         "legendgroup": "노선명=110",
         "marker": {
          "color": "#EF553B",
          "symbol": "circle"
         },
         "mode": "markers",
         "name": "노선명=110",
         "showlegend": true,
         "type": "scattergl",
         "x": [
          5,
          6,
          7,
          8,
          9,
          10,
          11,
          12,
          13,
          14,
          15,
          16,
          17,
          18,
          19,
          20,
          21,
          22
         ],
         "xaxis": "x",
         "y": [
          5,
          18,
          29,
          20,
          9,
          3,
          8,
          9,
          10,
          5,
          7,
          13,
          26,
          23,
          10,
          20,
          15,
          3
         ],
         "yaxis": "y"
        },
        {
         "hoverlabel": {
          "namelength": 0
         },
         "hovertemplate": "노선명=1100<br>시간=%{x}<br>이용량=%{y}",
         "legendgroup": "노선명=1100",
         "marker": {
          "color": "#00cc96",
          "symbol": "circle"
         },
         "mode": "markers",
         "name": "노선명=1100",
         "showlegend": true,
         "type": "scattergl",
         "x": [
          7,
          16
         ],
         "xaxis": "x",
         "y": [
          1,
          1
         ],
         "yaxis": "y"
        },
        {
         "hoverlabel": {
          "namelength": 0
         },
         "hovertemplate": "노선명=111<br>시간=%{x}<br>이용량=%{y}",
         "legendgroup": "노선명=111",
         "marker": {
          "color": "#ab63fa",
          "symbol": "circle"
         },
         "mode": "markers",
         "name": "노선명=111",
         "showlegend": true,
         "type": "scattergl",
         "x": [
          5,
          6,
          7,
          8,
          9,
          10,
          11,
          12,
          13,
          14,
          15,
          16,
          17,
          18,
          19,
          20,
          21,
          22,
          23
         ],
         "xaxis": "x",
         "y": [
          51,
          138,
          188,
          127,
          99,
          86,
          80,
          88,
          100,
          80,
          85,
          133,
          184,
          176,
          137,
          80,
          76,
          26,
          28
         ],
         "yaxis": "y"
        },
        {
         "hoverlabel": {
          "namelength": 0
         },
         "hovertemplate": "노선명=1112<br>시간=%{x}<br>이용량=%{y}",
         "legendgroup": "노선명=1112",
         "marker": {
          "color": "#FFA15A",
          "symbol": "circle"
         },
         "mode": "markers",
         "name": "노선명=1112",
         "showlegend": true,
         "type": "scattergl",
         "x": [
          6,
          7,
          8,
          9,
          10,
          11,
          12,
          13,
          14,
          15,
          16,
          17,
          18,
          19,
          20,
          21,
          22,
          23
         ],
         "xaxis": "x",
         "y": [
          5,
          5,
          3,
          8,
          3,
          5,
          2,
          3,
          5,
          7,
          6,
          16,
          27,
          11,
          13,
          3,
          10,
          2
         ],
         "yaxis": "y"
        },
        {
         "hoverlabel": {
          "namelength": 0
         },
         "hovertemplate": "노선명=1117<br>시간=%{x}<br>이용량=%{y}",
         "legendgroup": "노선명=1117",
         "marker": {
          "color": "#19d3f3",
          "symbol": "circle"
         },
         "mode": "markers",
         "name": "노선명=1117",
         "showlegend": true,
         "type": "scattergl",
         "x": [
          16,
          18,
          21
         ],
         "xaxis": "x",
         "y": [
          1,
          2,
          1
         ],
         "yaxis": "y"
        },
        {
         "hoverlabel": {
          "namelength": 0
         },
         "hovertemplate": "노선명=112<br>시간=%{x}<br>이용량=%{y}",
         "legendgroup": "노선명=112",
         "marker": {
          "color": "#FF6692",
          "symbol": "circle"
         },
         "mode": "markers",
         "name": "노선명=112",
         "showlegend": true,
         "type": "scattergl",
         "x": [
          5,
          6,
          7,
          8,
          9,
          10,
          11,
          12,
          13,
          14,
          15,
          16,
          17,
          18,
          19,
          20,
          21,
          22,
          23
         ],
         "xaxis": "x",
         "y": [
          10,
          38,
          73,
          101,
          68,
          59,
          53,
          68,
          75,
          61,
          51,
          54,
          44,
          53,
          32,
          26,
          34,
          12,
          3
         ],
         "yaxis": "y"
        },
        {
         "hoverlabel": {
          "namelength": 0
         },
         "hovertemplate": "노선명=112-1<br>시간=%{x}<br>이용량=%{y}",
         "legendgroup": "노선명=112-1",
         "marker": {
          "color": "#B6E880",
          "symbol": "circle"
         },
         "mode": "markers",
         "name": "노선명=112-1",
         "showlegend": true,
         "type": "scattergl",
         "x": [
          17
         ],
         "xaxis": "x",
         "y": [
          1
         ],
         "yaxis": "y"
        },
        {
         "hoverlabel": {
          "namelength": 0
         },
         "hovertemplate": "노선명=112-5<br>시간=%{x}<br>이용량=%{y}",
         "legendgroup": "노선명=112-5",
         "marker": {
          "color": "#FF97FF",
          "symbol": "circle"
         },
         "mode": "markers",
         "name": "노선명=112-5",
         "showlegend": true,
         "type": "scattergl",
         "x": [
          6,
          7,
          9,
          10,
          16,
          17,
          18,
          19
         ],
         "xaxis": "x",
         "y": [
          1,
          1,
          1,
          1,
          1,
          2,
          1,
          1
         ],
         "yaxis": "y"
        },
        {
         "hoverlabel": {
          "namelength": 0
         },
         "hovertemplate": "노선명=114<br>시간=%{x}<br>이용량=%{y}",
         "legendgroup": "노선명=114",
         "marker": {
          "color": "#FECB52",
          "symbol": "circle"
         },
         "mode": "markers",
         "name": "노선명=114",
         "showlegend": true,
         "type": "scattergl",
         "x": [
          12
         ],
         "xaxis": "x",
         "y": [
          1
         ],
         "yaxis": "y"
        },
        {
         "hoverlabel": {
          "namelength": 0
         },
         "hovertemplate": "노선명=1150<br>시간=%{x}<br>이용량=%{y}",
         "legendgroup": "노선명=1150",
         "marker": {
          "color": "#636efa",
          "symbol": "circle"
         },
         "mode": "markers",
         "name": "노선명=1150",
         "showlegend": true,
         "type": "scattergl",
         "x": [
          10,
          15,
          16,
          18
         ],
         "xaxis": "x",
         "y": [
          1,
          1,
          2,
          3
         ],
         "yaxis": "y"
        },
        {
         "hoverlabel": {
          "namelength": 0
         },
         "hovertemplate": "노선명=1151<br>시간=%{x}<br>이용량=%{y}",
         "legendgroup": "노선명=1151",
         "marker": {
          "color": "#EF553B",
          "symbol": "circle"
         },
         "mode": "markers",
         "name": "노선명=1151",
         "showlegend": true,
         "type": "scattergl",
         "x": [
          7,
          8,
          9,
          12,
          17,
          18,
          19,
          22
         ],
         "xaxis": "x",
         "y": [
          2,
          1,
          1,
          1,
          1,
          2,
          1,
          1
         ],
         "yaxis": "y"
        },
        {
         "hoverlabel": {
          "namelength": 0
         },
         "hovertemplate": "노선명=116<br>시간=%{x}<br>이용량=%{y}",
         "legendgroup": "노선명=116",
         "marker": {
          "color": "#00cc96",
          "symbol": "circle"
         },
         "mode": "markers",
         "name": "노선명=116",
         "showlegend": true,
         "type": "scattergl",
         "x": [
          7,
          8,
          10,
          11,
          13,
          14,
          15,
          17,
          18,
          19,
          20
         ],
         "xaxis": "x",
         "y": [
          5,
          1,
          1,
          2,
          1,
          2,
          2,
          1,
          2,
          1,
          1
         ],
         "yaxis": "y"
        },
        {
         "hoverlabel": {
          "namelength": 0
         },
         "hovertemplate": "노선명=116-1<br>시간=%{x}<br>이용량=%{y}",
         "legendgroup": "노선명=116-1",
         "marker": {
          "color": "#ab63fa",
          "symbol": "circle"
         },
         "mode": "markers",
         "name": "노선명=116-1",
         "showlegend": true,
         "type": "scattergl",
         "x": [
          4,
          5,
          6,
          7,
          8,
          9,
          10,
          11,
          12,
          13,
          14,
          15,
          16,
          17,
          18,
          19,
          20,
          21,
          22,
          23
         ],
         "xaxis": "x",
         "y": [
          5,
          146,
          216,
          490,
          509,
          271,
          169,
          194,
          233,
          279,
          203,
          259,
          278,
          414,
          442,
          309,
          286,
          253,
          151,
          85
         ],
         "yaxis": "y"
        },
        {
         "hoverlabel": {
          "namelength": 0
         },
         "hovertemplate": "노선명=116-2<br>시간=%{x}<br>이용량=%{y}",
         "legendgroup": "노선명=116-2",
         "marker": {
          "color": "#FFA15A",
          "symbol": "circle"
         },
         "mode": "markers",
         "name": "노선명=116-2",
         "showlegend": true,
         "type": "scattergl",
         "x": [
          5,
          6,
          7,
          8,
          9,
          10,
          11,
          12,
          13,
          14,
          15,
          16,
          17,
          18,
          19,
          20,
          21,
          22,
          23
         ],
         "xaxis": "x",
         "y": [
          28,
          77,
          223,
          247,
          115,
          85,
          84,
          161,
          151,
          96,
          118,
          99,
          164,
          208,
          173,
          89,
          93,
          95,
          58
         ],
         "yaxis": "y"
        },
        {
         "hoverlabel": {
          "namelength": 0
         },
         "hovertemplate": "노선명=116-3<br>시간=%{x}<br>이용량=%{y}",
         "legendgroup": "노선명=116-3",
         "marker": {
          "color": "#19d3f3",
          "symbol": "circle"
         },
         "mode": "markers",
         "name": "노선명=116-3",
         "showlegend": true,
         "type": "scattergl",
         "x": [
          4,
          5,
          6,
          7,
          8,
          9,
          10,
          11,
          12,
          13,
          14,
          15,
          16,
          17,
          18,
          19,
          20,
          21,
          22,
          23
         ],
         "xaxis": "x",
         "y": [
          4,
          83,
          150,
          335,
          323,
          232,
          140,
          125,
          153,
          165,
          172,
          161,
          177,
          283,
          279,
          218,
          119,
          118,
          95,
          72
         ],
         "yaxis": "y"
        },
        {
         "hoverlabel": {
          "namelength": 0
         },
         "hovertemplate": "노선명=118<br>시간=%{x}<br>이용량=%{y}",
         "legendgroup": "노선명=118",
         "marker": {
          "color": "#FF6692",
          "symbol": "circle"
         },
         "mode": "markers",
         "name": "노선명=118",
         "showlegend": true,
         "type": "scattergl",
         "x": [
          20
         ],
         "xaxis": "x",
         "y": [
          1
         ],
         "yaxis": "y"
        },
        {
         "hoverlabel": {
          "namelength": 0
         },
         "hovertemplate": "노선명=119<br>시간=%{x}<br>이용량=%{y}",
         "legendgroup": "노선명=119",
         "marker": {
          "color": "#B6E880",
          "symbol": "circle"
         },
         "mode": "markers",
         "name": "노선명=119",
         "showlegend": true,
         "type": "scattergl",
         "x": [
          5,
          6,
          7,
          10,
          14,
          16,
          18,
          22
         ],
         "xaxis": "x",
         "y": [
          1,
          1,
          2,
          1,
          1,
          1,
          1,
          1
         ],
         "yaxis": "y"
        },
        {
         "hoverlabel": {
          "namelength": 0
         },
         "hovertemplate": "노선명=12<br>시간=%{x}<br>이용량=%{y}",
         "legendgroup": "노선명=12",
         "marker": {
          "color": "#FF97FF",
          "symbol": "circle"
         },
         "mode": "markers",
         "name": "노선명=12",
         "showlegend": true,
         "type": "scattergl",
         "x": [
          5,
          6,
          7,
          8,
          9,
          10,
          12,
          13,
          14,
          15,
          16,
          18,
          19,
          20
         ],
         "xaxis": "x",
         "y": [
          1,
          3,
          15,
          5,
          1,
          2,
          2,
          1,
          1,
          4,
          3,
          3,
          2,
          4
         ],
         "yaxis": "y"
        },
        {
         "hoverlabel": {
          "namelength": 0
         },
         "hovertemplate": "노선명=12-1<br>시간=%{x}<br>이용량=%{y}",
         "legendgroup": "노선명=12-1",
         "marker": {
          "color": "#FECB52",
          "symbol": "circle"
         },
         "mode": "markers",
         "name": "노선명=12-1",
         "showlegend": true,
         "type": "scattergl",
         "x": [
          5,
          6,
          12
         ],
         "xaxis": "x",
         "y": [
          1,
          1,
          1
         ],
         "yaxis": "y"
        },
        {
         "hoverlabel": {
          "namelength": 0
         },
         "hovertemplate": "노선명=12-2<br>시간=%{x}<br>이용량=%{y}",
         "legendgroup": "노선명=12-2",
         "marker": {
          "color": "#636efa",
          "symbol": "circle"
         },
         "mode": "markers",
         "name": "노선명=12-2",
         "showlegend": true,
         "type": "scattergl",
         "x": [
          17
         ],
         "xaxis": "x",
         "y": [
          1
         ],
         "yaxis": "y"
        },
        {
         "hoverlabel": {
          "namelength": 0
         },
         "hovertemplate": "노선명=12-3<br>시간=%{x}<br>이용량=%{y}",
         "legendgroup": "노선명=12-3",
         "marker": {
          "color": "#EF553B",
          "symbol": "circle"
         },
         "mode": "markers",
         "name": "노선명=12-3",
         "showlegend": true,
         "type": "scattergl",
         "x": [
          7
         ],
         "xaxis": "x",
         "y": [
          1
         ],
         "yaxis": "y"
        },
        {
         "hoverlabel": {
          "namelength": 0
         },
         "hovertemplate": "노선명=1200<br>시간=%{x}<br>이용량=%{y}",
         "legendgroup": "노선명=1200",
         "marker": {
          "color": "#00cc96",
          "symbol": "circle"
         },
         "mode": "markers",
         "name": "노선명=1200",
         "showlegend": true,
         "type": "scattergl",
         "x": [
          6,
          12,
          18
         ],
         "xaxis": "x",
         "y": [
          1,
          1,
          1
         ],
         "yaxis": "y"
        },
        {
         "hoverlabel": {
          "namelength": 0
         },
         "hovertemplate": "노선명=123<br>시간=%{x}<br>이용량=%{y}",
         "legendgroup": "노선명=123",
         "marker": {
          "color": "#ab63fa",
          "symbol": "circle"
         },
         "mode": "markers",
         "name": "노선명=123",
         "showlegend": true,
         "type": "scattergl",
         "x": [
          6,
          7,
          11,
          18
         ],
         "xaxis": "x",
         "y": [
          1,
          1,
          1,
          1
         ],
         "yaxis": "y"
        },
        {
         "hoverlabel": {
          "namelength": 0
         },
         "hovertemplate": "노선명=123A<br>시간=%{x}<br>이용량=%{y}",
         "legendgroup": "노선명=123A",
         "marker": {
          "color": "#FFA15A",
          "symbol": "circle"
         },
         "mode": "markers",
         "name": "노선명=123A",
         "showlegend": true,
         "type": "scattergl",
         "x": [
          7,
          8,
          16,
          17,
          18,
          19,
          20
         ],
         "xaxis": "x",
         "y": [
          3,
          2,
          1,
          4,
          8,
          8,
          1
         ],
         "yaxis": "y"
        },
        {
         "hoverlabel": {
          "namelength": 0
         },
         "hovertemplate": "노선명=123B<br>시간=%{x}<br>이용량=%{y}",
         "legendgroup": "노선명=123B",
         "marker": {
          "color": "#19d3f3",
          "symbol": "circle"
         },
         "mode": "markers",
         "name": "노선명=123B",
         "showlegend": true,
         "type": "scattergl",
         "x": [
          6,
          7,
          8,
          10,
          17,
          19,
          20
         ],
         "xaxis": "x",
         "y": [
          2,
          5,
          4,
          1,
          4,
          1,
          1
         ],
         "yaxis": "y"
        },
        {
         "hoverlabel": {
          "namelength": 0
         },
         "hovertemplate": "노선명=1241<br>시간=%{x}<br>이용량=%{y}",
         "legendgroup": "노선명=1241",
         "marker": {
          "color": "#FF6692",
          "symbol": "circle"
         },
         "mode": "markers",
         "name": "노선명=1241",
         "showlegend": true,
         "type": "scattergl",
         "x": [
          5,
          15,
          17,
          19
         ],
         "xaxis": "x",
         "y": [
          2,
          1,
          1,
          4
         ],
         "yaxis": "y"
        },
        {
         "hoverlabel": {
          "namelength": 0
         },
         "hovertemplate": "노선명=125<br>시간=%{x}<br>이용량=%{y}",
         "legendgroup": "노선명=125",
         "marker": {
          "color": "#B6E880",
          "symbol": "circle"
         },
         "mode": "markers",
         "name": "노선명=125",
         "showlegend": true,
         "type": "scattergl",
         "x": [
          5,
          6,
          7,
          8,
          9,
          10,
          11,
          13,
          15,
          16,
          17,
          19
         ],
         "xaxis": "x",
         "y": [
          1,
          3,
          4,
          6,
          1,
          1,
          2,
          4,
          2,
          3,
          3,
          1
         ],
         "yaxis": "y"
        },
        {
         "hoverlabel": {
          "namelength": 0
         },
         "hovertemplate": "노선명=1251<br>시간=%{x}<br>이용량=%{y}",
         "legendgroup": "노선명=1251",
         "marker": {
          "color": "#FF97FF",
          "symbol": "circle"
         },
         "mode": "markers",
         "name": "노선명=1251",
         "showlegend": true,
         "type": "scattergl",
         "x": [
          5,
          9,
          16,
          17,
          18,
          21
         ],
         "xaxis": "x",
         "y": [
          1,
          1,
          1,
          1,
          3,
          1
         ],
         "yaxis": "y"
        },
        {
         "hoverlabel": {
          "namelength": 0
         },
         "hovertemplate": "노선명=13<br>시간=%{x}<br>이용량=%{y}",
         "legendgroup": "노선명=13",
         "marker": {
          "color": "#FECB52",
          "symbol": "circle"
         },
         "mode": "markers",
         "name": "노선명=13",
         "showlegend": true,
         "type": "scattergl",
         "x": [
          5,
          6,
          7,
          8,
          9,
          10,
          11,
          12,
          13,
          14,
          15,
          16,
          17,
          18,
          19,
          20,
          21,
          22
         ],
         "xaxis": "x",
         "y": [
          10,
          19,
          66,
          75,
          27,
          54,
          69,
          66,
          72,
          80,
          80,
          70,
          90,
          66,
          35,
          38,
          33,
          23
         ],
         "yaxis": "y"
        },
        {
         "hoverlabel": {
          "namelength": 0
         },
         "hovertemplate": "노선명=13-1<br>시간=%{x}<br>이용량=%{y}",
         "legendgroup": "노선명=13-1",
         "marker": {
          "color": "#636efa",
          "symbol": "circle"
         },
         "mode": "markers",
         "name": "노선명=13-1",
         "showlegend": true,
         "type": "scattergl",
         "x": [
          5,
          6,
          7,
          8,
          9,
          10,
          11,
          12,
          13,
          14,
          15,
          16,
          17,
          18,
          19,
          20,
          21,
          22,
          23
         ],
         "xaxis": "x",
         "y": [
          100,
          422,
          1051,
          1312,
          737,
          459,
          522,
          604,
          676,
          548,
          649,
          761,
          957,
          997,
          716,
          680,
          634,
          550,
          168
         ],
         "yaxis": "y"
        },
        {
         "hoverlabel": {
          "namelength": 0
         },
         "hovertemplate": "노선명=13-2<br>시간=%{x}<br>이용량=%{y}",
         "legendgroup": "노선명=13-2",
         "marker": {
          "color": "#EF553B",
          "symbol": "circle"
         },
         "mode": "markers",
         "name": "노선명=13-2",
         "showlegend": true,
         "type": "scattergl",
         "x": [
          6,
          8
         ],
         "xaxis": "x",
         "y": [
          1,
          1
         ],
         "yaxis": "y"
        },
        {
         "hoverlabel": {
          "namelength": 0
         },
         "hovertemplate": "노선명=13-4<br>시간=%{x}<br>이용량=%{y}",
         "legendgroup": "노선명=13-4",
         "marker": {
          "color": "#00cc96",
          "symbol": "circle"
         },
         "mode": "markers",
         "name": "노선명=13-4",
         "showlegend": true,
         "type": "scattergl",
         "x": [
          5,
          6,
          7,
          8,
          9,
          10,
          11,
          12,
          13,
          14,
          15,
          16,
          17,
          18,
          19,
          20,
          21,
          22,
          23
         ],
         "xaxis": "x",
         "y": [
          3,
          13,
          48,
          39,
          33,
          22,
          37,
          41,
          47,
          51,
          39,
          51,
          66,
          55,
          40,
          37,
          43,
          35,
          7
         ],
         "yaxis": "y"
        },
        {
         "hoverlabel": {
          "namelength": 0
         },
         "hovertemplate": "노선명=13-5<br>시간=%{x}<br>이용량=%{y}",
         "legendgroup": "노선명=13-5",
         "marker": {
          "color": "#ab63fa",
          "symbol": "circle"
         },
         "mode": "markers",
         "name": "노선명=13-5",
         "showlegend": true,
         "type": "scattergl",
         "x": [
          4,
          5,
          6,
          7,
          8,
          9,
          10,
          11,
          12,
          13,
          14,
          15,
          16,
          17,
          18,
          19,
          20,
          21,
          22,
          23
         ],
         "xaxis": "x",
         "y": [
          18,
          370,
          720,
          1194,
          1474,
          794,
          532,
          630,
          586,
          708,
          680,
          692,
          858,
          1208,
          1304,
          1014,
          932,
          1008,
          770,
          350
         ],
         "yaxis": "y"
        },
        {
         "hoverlabel": {
          "namelength": 0
         },
         "hovertemplate": "노선명=1303<br>시간=%{x}<br>이용량=%{y}",
         "legendgroup": "노선명=1303",
         "marker": {
          "color": "#FFA15A",
          "symbol": "circle"
         },
         "mode": "markers",
         "name": "노선명=1303",
         "showlegend": true,
         "type": "scattergl",
         "x": [
          6,
          7,
          8,
          12,
          14,
          16,
          17,
          18,
          21,
          22
         ],
         "xaxis": "x",
         "y": [
          1,
          2,
          2,
          1,
          2,
          4,
          2,
          4,
          1,
          1
         ],
         "yaxis": "y"
        },
        {
         "hoverlabel": {
          "namelength": 0
         },
         "hovertemplate": "노선명=1311<br>시간=%{x}<br>이용량=%{y}",
         "legendgroup": "노선명=1311",
         "marker": {
          "color": "#19d3f3",
          "symbol": "circle"
         },
         "mode": "markers",
         "name": "노선명=1311",
         "showlegend": true,
         "type": "scattergl",
         "x": [
          7,
          8,
          9,
          11,
          12,
          15,
          16,
          17,
          18,
          19,
          20,
          21,
          22,
          23
         ],
         "xaxis": "x",
         "y": [
          1,
          3,
          1,
          1,
          1,
          4,
          2,
          6,
          8,
          9,
          4,
          8,
          7,
          1
         ],
         "yaxis": "y"
        },
        {
         "hoverlabel": {
          "namelength": 0
         },
         "hovertemplate": "노선명=133<br>시간=%{x}<br>이용량=%{y}",
         "legendgroup": "노선명=133",
         "marker": {
          "color": "#FF6692",
          "symbol": "circle"
         },
         "mode": "markers",
         "name": "노선명=133",
         "showlegend": true,
         "type": "scattergl",
         "x": [
          7
         ],
         "xaxis": "x",
         "y": [
          1
         ],
         "yaxis": "y"
        },
        {
         "hoverlabel": {
          "namelength": 0
         },
         "hovertemplate": "노선명=1330-44<br>시간=%{x}<br>이용량=%{y}",
         "legendgroup": "노선명=1330-44",
         "marker": {
          "color": "#B6E880",
          "symbol": "circle"
         },
         "mode": "markers",
         "name": "노선명=1330-44",
         "showlegend": true,
         "type": "scattergl",
         "x": [
          5
         ],
         "xaxis": "x",
         "y": [
          1
         ],
         "yaxis": "y"
        },
        {
         "hoverlabel": {
          "namelength": 0
         },
         "hovertemplate": "노선명=138<br>시간=%{x}<br>이용량=%{y}",
         "legendgroup": "노선명=138",
         "marker": {
          "color": "#FF97FF",
          "symbol": "circle"
         },
         "mode": "markers",
         "name": "노선명=138",
         "showlegend": true,
         "type": "scattergl",
         "x": [
          5,
          17
         ],
         "xaxis": "x",
         "y": [
          1,
          1
         ],
         "yaxis": "y"
        },
        {
         "hoverlabel": {
          "namelength": 0
         },
         "hovertemplate": "노선명=138-5<br>시간=%{x}<br>이용량=%{y}",
         "legendgroup": "노선명=138-5",
         "marker": {
          "color": "#FECB52",
          "symbol": "circle"
         },
         "mode": "markers",
         "name": "노선명=138-5",
         "showlegend": true,
         "type": "scattergl",
         "x": [
          10
         ],
         "xaxis": "x",
         "y": [
          1
         ],
         "yaxis": "y"
        },
        {
         "hoverlabel": {
          "namelength": 0
         },
         "hovertemplate": "노선명=15<br>시간=%{x}<br>이용량=%{y}",
         "legendgroup": "노선명=15",
         "marker": {
          "color": "#636efa",
          "symbol": "circle"
         },
         "mode": "markers",
         "name": "노선명=15",
         "showlegend": true,
         "type": "scattergl",
         "x": [
          4,
          5,
          6,
          7,
          8,
          9,
          10,
          11,
          12,
          13,
          14,
          15,
          16,
          17,
          18,
          19,
          20,
          21,
          22,
          23
         ],
         "xaxis": "x",
         "y": [
          2,
          54,
          93,
          160,
          166,
          115,
          53,
          76,
          73,
          65,
          63,
          74,
          89,
          89,
          141,
          64,
          80,
          79,
          62,
          9
         ],
         "yaxis": "y"
        },
        {
         "hoverlabel": {
          "namelength": 0
         },
         "hovertemplate": "노선명=15-1<br>시간=%{x}<br>이용량=%{y}",
         "legendgroup": "노선명=15-1",
         "marker": {
          "color": "#EF553B",
          "symbol": "circle"
         },
         "mode": "markers",
         "name": "노선명=15-1",
         "showlegend": true,
         "type": "scattergl",
         "x": [
          4,
          5,
          6,
          7,
          8,
          9,
          10,
          11,
          12,
          13,
          14,
          15,
          16,
          17,
          18,
          19,
          20,
          21,
          22,
          23
         ],
         "xaxis": "x",
         "y": [
          35,
          82,
          136,
          267,
          282,
          152,
          137,
          110,
          113,
          128,
          107,
          145,
          193,
          205,
          282,
          150,
          160,
          112,
          149,
          56
         ],
         "yaxis": "y"
        },
        {
         "hoverlabel": {
          "namelength": 0
         },
         "hovertemplate": "노선명=15-2<br>시간=%{x}<br>이용량=%{y}",
         "legendgroup": "노선명=15-2",
         "marker": {
          "color": "#00cc96",
          "symbol": "circle"
         },
         "mode": "markers",
         "name": "노선명=15-2",
         "showlegend": true,
         "type": "scattergl",
         "x": [
          6,
          7,
          8,
          12,
          13,
          14,
          16,
          17,
          18,
          19
         ],
         "xaxis": "x",
         "y": [
          2,
          9,
          5,
          3,
          3,
          1,
          9,
          1,
          4,
          1
         ],
         "yaxis": "y"
        },
        {
         "hoverlabel": {
          "namelength": 0
         },
         "hovertemplate": "노선명=15-3<br>시간=%{x}<br>이용량=%{y}",
         "legendgroup": "노선명=15-3",
         "marker": {
          "color": "#ab63fa",
          "symbol": "circle"
         },
         "mode": "markers",
         "name": "노선명=15-3",
         "showlegend": true,
         "type": "scattergl",
         "x": [
          5,
          7
         ],
         "xaxis": "x",
         "y": [
          1,
          1
         ],
         "yaxis": "y"
        },
        {
         "hoverlabel": {
          "namelength": 0
         },
         "hovertemplate": "노선명=150<br>시간=%{x}<br>이용량=%{y}",
         "legendgroup": "노선명=150",
         "marker": {
          "color": "#FFA15A",
          "symbol": "circle"
         },
         "mode": "markers",
         "name": "노선명=150",
         "showlegend": true,
         "type": "scattergl",
         "x": [
          5,
          6,
          7,
          8,
          9,
          10,
          11,
          12,
          13,
          14,
          15,
          16,
          17,
          18,
          19,
          20,
          21,
          22,
          23
         ],
         "xaxis": "x",
         "y": [
          16,
          43,
          73,
          91,
          25,
          20,
          33,
          14,
          26,
          18,
          36,
          36,
          63,
          77,
          47,
          52,
          26,
          25,
          9
         ],
         "yaxis": "y"
        },
        {
         "hoverlabel": {
          "namelength": 0
         },
         "hovertemplate": "노선명=1500<br>시간=%{x}<br>이용량=%{y}",
         "legendgroup": "노선명=1500",
         "marker": {
          "color": "#19d3f3",
          "symbol": "circle"
         },
         "mode": "markers",
         "name": "노선명=1500",
         "showlegend": true,
         "type": "scattergl",
         "x": [
          8
         ],
         "xaxis": "x",
         "y": [
          1
         ],
         "yaxis": "y"
        },
        {
         "hoverlabel": {
          "namelength": 0
         },
         "hovertemplate": "노선명=1500-2<br>시간=%{x}<br>이용량=%{y}",
         "legendgroup": "노선명=1500-2",
         "marker": {
          "color": "#FF6692",
          "symbol": "circle"
         },
         "mode": "markers",
         "name": "노선명=1500-2",
         "showlegend": true,
         "type": "scattergl",
         "x": [
          7,
          8,
          11,
          12,
          13,
          16,
          17,
          18,
          19,
          21,
          22
         ],
         "xaxis": "x",
         "y": [
          1,
          2,
          1,
          2,
          1,
          1,
          4,
          5,
          1,
          4,
          1
         ],
         "yaxis": "y"
        },
        {
         "hoverlabel": {
          "namelength": 0
         },
         "hovertemplate": "노선명=1550<br>시간=%{x}<br>이용량=%{y}",
         "legendgroup": "노선명=1550",
         "marker": {
          "color": "#B6E880",
          "symbol": "circle"
         },
         "mode": "markers",
         "name": "노선명=1550",
         "showlegend": true,
         "type": "scattergl",
         "x": [
          12,
          13,
          14,
          17,
          20
         ],
         "xaxis": "x",
         "y": [
          1,
          1,
          1,
          1,
          1
         ],
         "yaxis": "y"
        },
        {
         "hoverlabel": {
          "namelength": 0
         },
         "hovertemplate": "노선명=1550-1<br>시간=%{x}<br>이용량=%{y}",
         "legendgroup": "노선명=1550-1",
         "marker": {
          "color": "#FF97FF",
          "symbol": "circle"
         },
         "mode": "markers",
         "name": "노선명=1550-1",
         "showlegend": true,
         "type": "scattergl",
         "x": [
          5,
          6,
          7,
          8,
          9,
          10,
          11,
          12,
          13,
          14,
          15,
          16,
          17,
          18,
          19,
          20,
          21,
          22,
          23
         ],
         "xaxis": "x",
         "y": [
          68,
          217,
          268,
          221,
          145,
          90,
          115,
          118,
          135,
          92,
          105,
          129,
          173,
          201,
          166,
          109,
          132,
          158,
          71
         ],
         "yaxis": "y"
        },
        {
         "hoverlabel": {
          "namelength": 0
         },
         "hovertemplate": "노선명=1551<br>시간=%{x}<br>이용량=%{y}",
         "legendgroup": "노선명=1551",
         "marker": {
          "color": "#FECB52",
          "symbol": "circle"
         },
         "mode": "markers",
         "name": "노선명=1551",
         "showlegend": true,
         "type": "scattergl",
         "x": [
          5,
          6,
          7,
          8,
          9,
          10,
          11,
          12,
          13,
          14,
          15,
          16,
          17,
          18,
          19,
          20,
          21,
          22,
          23
         ],
         "xaxis": "x",
         "y": [
          25,
          12,
          60,
          74,
          54,
          6,
          21,
          40,
          6,
          1,
          22,
          34,
          19,
          7,
          27,
          27,
          13,
          3,
          10
         ],
         "yaxis": "y"
        },
        {
         "hoverlabel": {
          "namelength": 0
         },
         "hovertemplate": "노선명=1551B<br>시간=%{x}<br>이용량=%{y}",
         "legendgroup": "노선명=1551B",
         "marker": {
          "color": "#636efa",
          "symbol": "circle"
         },
         "mode": "markers",
         "name": "노선명=1551B",
         "showlegend": true,
         "type": "scattergl",
         "x": [
          5,
          6,
          7,
          8,
          9,
          10,
          11,
          12,
          13,
          14,
          15,
          16,
          17,
          18,
          19,
          20,
          21,
          22,
          23
         ],
         "xaxis": "x",
         "y": [
          8,
          84,
          68,
          18,
          27,
          21,
          17,
          13,
          11,
          23,
          8,
          33,
          37,
          52,
          35,
          3,
          1,
          3,
          20
         ],
         "yaxis": "y"
        },
        {
         "hoverlabel": {
          "namelength": 0
         },
         "hovertemplate": "노선명=1560<br>시간=%{x}<br>이용량=%{y}",
         "legendgroup": "노선명=1560",
         "marker": {
          "color": "#EF553B",
          "symbol": "circle"
         },
         "mode": "markers",
         "name": "노선명=1560",
         "showlegend": true,
         "type": "scattergl",
         "x": [
          7,
          8,
          10,
          15,
          16,
          18,
          20,
          21
         ],
         "xaxis": "x",
         "y": [
          4,
          1,
          1,
          1,
          1,
          4,
          1,
          2
         ],
         "yaxis": "y"
        },
        {
         "hoverlabel": {
          "namelength": 0
         },
         "hovertemplate": "노선명=1570<br>시간=%{x}<br>이용량=%{y}",
         "legendgroup": "노선명=1570",
         "marker": {
          "color": "#00cc96",
          "symbol": "circle"
         },
         "mode": "markers",
         "name": "노선명=1570",
         "showlegend": true,
         "type": "scattergl",
         "x": [
          13,
          18,
          20,
          23
         ],
         "xaxis": "x",
         "y": [
          1,
          1,
          1,
          1
         ],
         "yaxis": "y"
        },
        {
         "hoverlabel": {
          "namelength": 0
         },
         "hovertemplate": "노선명=16<br>시간=%{x}<br>이용량=%{y}",
         "legendgroup": "노선명=16",
         "marker": {
          "color": "#ab63fa",
          "symbol": "circle"
         },
         "mode": "markers",
         "name": "노선명=16",
         "showlegend": true,
         "type": "scattergl",
         "x": [
          5,
          6,
          7,
          8,
          9,
          10,
          11,
          12,
          13,
          16,
          17,
          18,
          19,
          20,
          21,
          22
         ],
         "xaxis": "x",
         "y": [
          2,
          16,
          33,
          6,
          18,
          13,
          5,
          12,
          19,
          1,
          13,
          10,
          13,
          6,
          8,
          1
         ],
         "yaxis": "y"
        },
        {
         "hoverlabel": {
          "namelength": 0
         },
         "hovertemplate": "노선명=16-1<br>시간=%{x}<br>이용량=%{y}",
         "legendgroup": "노선명=16-1",
         "marker": {
          "color": "#FFA15A",
          "symbol": "circle"
         },
         "mode": "markers",
         "name": "노선명=16-1",
         "showlegend": true,
         "type": "scattergl",
         "x": [
          6,
          7,
          8,
          9,
          10,
          11,
          12,
          13,
          14,
          15,
          16,
          17,
          18,
          19,
          20,
          21,
          22
         ],
         "xaxis": "x",
         "y": [
          11,
          16,
          3,
          10,
          15,
          18,
          5,
          2,
          12,
          12,
          15,
          18,
          16,
          3,
          4,
          5,
          5
         ],
         "yaxis": "y"
        },
        {
         "hoverlabel": {
          "namelength": 0
         },
         "hovertemplate": "노선명=16-2<br>시간=%{x}<br>이용량=%{y}",
         "legendgroup": "노선명=16-2",
         "marker": {
          "color": "#19d3f3",
          "symbol": "circle"
         },
         "mode": "markers",
         "name": "노선명=16-2",
         "showlegend": true,
         "type": "scattergl",
         "x": [
          5,
          6,
          7,
          8,
          9,
          10,
          11,
          12,
          13,
          14,
          15,
          16,
          17,
          18,
          19,
          20,
          21
         ],
         "xaxis": "x",
         "y": [
          13,
          9,
          21,
          13,
          27,
          6,
          7,
          11,
          5,
          5,
          11,
          6,
          9,
          9,
          1,
          1,
          4
         ],
         "yaxis": "y"
        },
        {
         "hoverlabel": {
          "namelength": 0
         },
         "hovertemplate": "노선명=165<br>시간=%{x}<br>이용량=%{y}",
         "legendgroup": "노선명=165",
         "marker": {
          "color": "#FF6692",
          "symbol": "circle"
         },
         "mode": "markers",
         "name": "노선명=165",
         "showlegend": true,
         "type": "scattergl",
         "x": [
          10,
          11,
          15
         ],
         "xaxis": "x",
         "y": [
          1,
          1,
          1
         ],
         "yaxis": "y"
        },
        {
         "hoverlabel": {
          "namelength": 0
         },
         "hovertemplate": "노선명=1650<br>시간=%{x}<br>이용량=%{y}",
         "legendgroup": "노선명=1650",
         "marker": {
          "color": "#B6E880",
          "symbol": "circle"
         },
         "mode": "markers",
         "name": "노선명=1650",
         "showlegend": true,
         "type": "scattergl",
         "x": [
          8,
          9,
          11,
          12,
          14,
          15,
          16,
          17,
          18,
          19,
          20,
          21,
          22
         ],
         "xaxis": "x",
         "y": [
          2,
          2,
          1,
          2,
          1,
          2,
          1,
          1,
          5,
          6,
          6,
          9,
          2
         ],
         "yaxis": "y"
        },
        {
         "hoverlabel": {
          "namelength": 0
         },
         "hovertemplate": "노선명=166-1<br>시간=%{x}<br>이용량=%{y}",
         "legendgroup": "노선명=166-1",
         "marker": {
          "color": "#FF97FF",
          "symbol": "circle"
         },
         "mode": "markers",
         "name": "노선명=166-1",
         "showlegend": true,
         "type": "scattergl",
         "x": [
          15
         ],
         "xaxis": "x",
         "y": [
          1
         ],
         "yaxis": "y"
        },
        {
         "hoverlabel": {
          "namelength": 0
         },
         "hovertemplate": "노선명=1670<br>시간=%{x}<br>이용량=%{y}",
         "legendgroup": "노선명=1670",
         "marker": {
          "color": "#FECB52",
          "symbol": "circle"
         },
         "mode": "markers",
         "name": "노선명=1670",
         "showlegend": true,
         "type": "scattergl",
         "x": [
          5,
          10,
          11
         ],
         "xaxis": "x",
         "y": [
          1,
          1,
          1
         ],
         "yaxis": "y"
        },
        {
         "hoverlabel": {
          "namelength": 0
         },
         "hovertemplate": "노선명=169<br>시간=%{x}<br>이용량=%{y}",
         "legendgroup": "노선명=169",
         "marker": {
          "color": "#636efa",
          "symbol": "circle"
         },
         "mode": "markers",
         "name": "노선명=169",
         "showlegend": true,
         "type": "scattergl",
         "x": [
          6
         ],
         "xaxis": "x",
         "y": [
          1
         ],
         "yaxis": "y"
        },
        {
         "hoverlabel": {
          "namelength": 0
         },
         "hovertemplate": "노선명=17<br>시간=%{x}<br>이용량=%{y}",
         "legendgroup": "노선명=17",
         "marker": {
          "color": "#EF553B",
          "symbol": "circle"
         },
         "mode": "markers",
         "name": "노선명=17",
         "showlegend": true,
         "type": "scattergl",
         "x": [
          4,
          5,
          6,
          7,
          8,
          9,
          10,
          11,
          13,
          14,
          15,
          16,
          17,
          18,
          19,
          20,
          21,
          22,
          23
         ],
         "xaxis": "x",
         "y": [
          2,
          6,
          4,
          4,
          8,
          9,
          6,
          3,
          2,
          6,
          7,
          12,
          6,
          7,
          5,
          3,
          9,
          4,
          1
         ],
         "yaxis": "y"
        },
        {
         "hoverlabel": {
          "namelength": 0
         },
         "hovertemplate": "노선명=17-1<br>시간=%{x}<br>이용량=%{y}",
         "legendgroup": "노선명=17-1",
         "marker": {
          "color": "#00cc96",
          "symbol": "circle"
         },
         "mode": "markers",
         "name": "노선명=17-1",
         "showlegend": true,
         "type": "scattergl",
         "x": [
          6,
          13,
          14,
          19,
          20
         ],
         "xaxis": "x",
         "y": [
          1,
          2,
          2,
          1,
          1
         ],
         "yaxis": "y"
        },
        {
         "hoverlabel": {
          "namelength": 0
         },
         "hovertemplate": "노선명=17-1A<br>시간=%{x}<br>이용량=%{y}",
         "legendgroup": "노선명=17-1A",
         "marker": {
          "color": "#ab63fa",
          "symbol": "circle"
         },
         "mode": "markers",
         "name": "노선명=17-1A",
         "showlegend": true,
         "type": "scattergl",
         "x": [
          8,
          18,
          20,
          21
         ],
         "xaxis": "x",
         "y": [
          2,
          3,
          2,
          1
         ],
         "yaxis": "y"
        },
        {
         "hoverlabel": {
          "namelength": 0
         },
         "hovertemplate": "노선명=1700<br>시간=%{x}<br>이용량=%{y}",
         "legendgroup": "노선명=1700",
         "marker": {
          "color": "#FFA15A",
          "symbol": "circle"
         },
         "mode": "markers",
         "name": "노선명=1700",
         "showlegend": true,
         "type": "scattergl",
         "x": [
          21
         ],
         "xaxis": "x",
         "y": [
          1
         ],
         "yaxis": "y"
        },
        {
         "hoverlabel": {
          "namelength": 0
         },
         "hovertemplate": "노선명=18<br>시간=%{x}<br>이용량=%{y}",
         "legendgroup": "노선명=18",
         "marker": {
          "color": "#19d3f3",
          "symbol": "circle"
         },
         "mode": "markers",
         "name": "노선명=18",
         "showlegend": true,
         "type": "scattergl",
         "x": [
          8,
          9,
          10,
          11,
          12,
          13,
          14,
          15,
          16,
          17,
          18,
          19,
          20,
          22
         ],
         "xaxis": "x",
         "y": [
          8,
          2,
          2,
          8,
          4,
          2,
          2,
          2,
          2,
          14,
          4,
          2,
          2,
          2
         ],
         "yaxis": "y"
        },
        {
         "hoverlabel": {
          "namelength": 0
         },
         "hovertemplate": "노선명=19<br>시간=%{x}<br>이용량=%{y}",
         "legendgroup": "노선명=19",
         "marker": {
          "color": "#FF6692",
          "symbol": "circle"
         },
         "mode": "markers",
         "name": "노선명=19",
         "showlegend": true,
         "type": "scattergl",
         "x": [
          5,
          6,
          7,
          8,
          9,
          10,
          11,
          12,
          13,
          14,
          15,
          16,
          17,
          18,
          19,
          20,
          21,
          22,
          23
         ],
         "xaxis": "x",
         "y": [
          8,
          17,
          21,
          17,
          22,
          9,
          18,
          17,
          9,
          9,
          13,
          9,
          19,
          20,
          15,
          5,
          9,
          7,
          1
         ],
         "yaxis": "y"
        },
        {
         "hoverlabel": {
          "namelength": 0
         },
         "hovertemplate": "노선명=1900<br>시간=%{x}<br>이용량=%{y}",
         "legendgroup": "노선명=1900",
         "marker": {
          "color": "#B6E880",
          "symbol": "circle"
         },
         "mode": "markers",
         "name": "노선명=1900",
         "showlegend": true,
         "type": "scattergl",
         "x": [
          13,
          18
         ],
         "xaxis": "x",
         "y": [
          2,
          1
         ],
         "yaxis": "y"
        },
        {
         "hoverlabel": {
          "namelength": 0
         },
         "hovertemplate": "노선명=2<br>시간=%{x}<br>이용량=%{y}",
         "legendgroup": "노선명=2",
         "marker": {
          "color": "#FF97FF",
          "symbol": "circle"
         },
         "mode": "markers",
         "name": "노선명=2",
         "showlegend": true,
         "type": "scattergl",
         "x": [
          5,
          6,
          7,
          8,
          9,
          10,
          11,
          12,
          13,
          14,
          15,
          16,
          17,
          18,
          19,
          20,
          21,
          22,
          23
         ],
         "xaxis": "x",
         "y": [
          2,
          20,
          35,
          20,
          13,
          21,
          8,
          16,
          12,
          12,
          16,
          19,
          38,
          23,
          11,
          7,
          10,
          7,
          1
         ],
         "yaxis": "y"
        },
        {
         "hoverlabel": {
          "namelength": 0
         },
         "hovertemplate": "노선명=2-1<br>시간=%{x}<br>이용량=%{y}",
         "legendgroup": "노선명=2-1",
         "marker": {
          "color": "#FECB52",
          "symbol": "circle"
         },
         "mode": "markers",
         "name": "노선명=2-1",
         "showlegend": true,
         "type": "scattergl",
         "x": [
          5,
          6,
          7,
          8,
          9,
          10,
          11,
          12,
          13,
          14,
          15,
          16,
          17,
          18,
          19,
          20,
          21,
          22,
          23
         ],
         "xaxis": "x",
         "y": [
          118,
          626,
          1536,
          1522,
          894,
          602,
          620,
          713,
          890,
          852,
          916,
          886,
          1238,
          1298,
          792,
          658,
          686,
          556,
          244
         ],
         "yaxis": "y"
        },
        {
         "hoverlabel": {
          "namelength": 0
         },
         "hovertemplate": "노선명=2-2<br>시간=%{x}<br>이용량=%{y}",
         "legendgroup": "노선명=2-2",
         "marker": {
          "color": "#636efa",
          "symbol": "circle"
         },
         "mode": "markers",
         "name": "노선명=2-2",
         "showlegend": true,
         "type": "scattergl",
         "x": [
          5,
          6,
          7,
          8,
          9,
          10,
          11,
          12,
          13,
          14,
          15,
          16,
          17,
          18,
          19,
          20,
          21,
          22,
          23
         ],
         "xaxis": "x",
         "y": [
          51,
          51,
          105,
          122,
          110,
          50,
          54,
          68,
          113,
          48,
          83,
          88,
          100,
          74,
          70,
          70,
          56,
          55,
          21
         ],
         "yaxis": "y"
        },
        {
         "hoverlabel": {
          "namelength": 0
         },
         "hovertemplate": "노선명=2-22<br>시간=%{x}<br>이용량=%{y}",
         "legendgroup": "노선명=2-22",
         "marker": {
          "color": "#EF553B",
          "symbol": "circle"
         },
         "mode": "markers",
         "name": "노선명=2-22",
         "showlegend": true,
         "type": "scattergl",
         "x": [
          6
         ],
         "xaxis": "x",
         "y": [
          1
         ],
         "yaxis": "y"
        },
        {
         "hoverlabel": {
          "namelength": 0
         },
         "hovertemplate": "노선명=20<br>시간=%{x}<br>이용량=%{y}",
         "legendgroup": "노선명=20",
         "marker": {
          "color": "#00cc96",
          "symbol": "circle"
         },
         "mode": "markers",
         "name": "노선명=20",
         "showlegend": true,
         "type": "scattergl",
         "x": [
          5,
          6,
          7,
          8,
          9,
          10,
          11,
          12,
          13,
          14,
          15,
          16,
          17,
          18,
          19,
          20,
          21,
          22,
          23
         ],
         "xaxis": "x",
         "y": [
          85,
          196,
          443,
          515,
          361,
          305,
          430,
          371,
          464,
          368,
          423,
          457,
          429,
          419,
          265,
          216,
          224,
          173,
          66
         ],
         "yaxis": "y"
        },
        {
         "hoverlabel": {
          "namelength": 0
         },
         "hovertemplate": "노선명=20-1<br>시간=%{x}<br>이용량=%{y}",
         "legendgroup": "노선명=20-1",
         "marker": {
          "color": "#ab63fa",
          "symbol": "circle"
         },
         "mode": "markers",
         "name": "노선명=20-1",
         "showlegend": true,
         "type": "scattergl",
         "x": [
          5,
          6,
          7,
          8,
          9,
          10,
          11,
          12,
          13,
          14,
          15,
          16,
          17,
          18,
          19,
          20,
          21,
          22,
          23
         ],
         "xaxis": "x",
         "y": [
          95,
          100,
          204,
          152,
          84,
          110,
          139,
          106,
          145,
          102,
          146,
          106,
          169,
          121,
          99,
          90,
          104,
          61,
          31
         ],
         "yaxis": "y"
        },
        {
         "hoverlabel": {
          "namelength": 0
         },
         "hovertemplate": "노선명=20-2<br>시간=%{x}<br>이용량=%{y}",
         "legendgroup": "노선명=20-2",
         "marker": {
          "color": "#FFA15A",
          "symbol": "circle"
         },
         "mode": "markers",
         "name": "노선명=20-2",
         "showlegend": true,
         "type": "scattergl",
         "x": [
          6
         ],
         "xaxis": "x",
         "y": [
          1
         ],
         "yaxis": "y"
        },
        {
         "hoverlabel": {
          "namelength": 0
         },
         "hovertemplate": "노선명=200<br>시간=%{x}<br>이용량=%{y}",
         "legendgroup": "노선명=200",
         "marker": {
          "color": "#19d3f3",
          "symbol": "circle"
         },
         "mode": "markers",
         "name": "노선명=200",
         "showlegend": true,
         "type": "scattergl",
         "x": [
          5,
          10,
          11,
          12,
          13,
          15,
          18,
          22
         ],
         "xaxis": "x",
         "y": [
          1,
          1,
          1,
          1,
          1,
          1,
          1,
          1
         ],
         "yaxis": "y"
        },
        {
         "hoverlabel": {
          "namelength": 0
         },
         "hovertemplate": "노선명=2000<br>시간=%{x}<br>이용량=%{y}",
         "legendgroup": "노선명=2000",
         "marker": {
          "color": "#FF6692",
          "symbol": "circle"
         },
         "mode": "markers",
         "name": "노선명=2000",
         "showlegend": true,
         "type": "scattergl",
         "x": [
          10,
          18
         ],
         "xaxis": "x",
         "y": [
          1,
          1
         ],
         "yaxis": "y"
        },
        {
         "hoverlabel": {
          "namelength": 0
         },
         "hovertemplate": "노선명=2000A<br>시간=%{x}<br>이용량=%{y}",
         "legendgroup": "노선명=2000A",
         "marker": {
          "color": "#B6E880",
          "symbol": "circle"
         },
         "mode": "markers",
         "name": "노선명=2000A",
         "showlegend": true,
         "type": "scattergl",
         "x": [
          19
         ],
         "xaxis": "x",
         "y": [
          2
         ],
         "yaxis": "y"
        },
        {
         "hoverlabel": {
          "namelength": 0
         },
         "hovertemplate": "노선명=2000B<br>시간=%{x}<br>이용량=%{y}",
         "legendgroup": "노선명=2000B",
         "marker": {
          "color": "#FF97FF",
          "symbol": "circle"
         },
         "mode": "markers",
         "name": "노선명=2000B",
         "showlegend": true,
         "type": "scattergl",
         "x": [
          9,
          16
         ],
         "xaxis": "x",
         "y": [
          1,
          3
         ],
         "yaxis": "y"
        },
        {
         "hoverlabel": {
          "namelength": 0
         },
         "hovertemplate": "노선명=2007<br>시간=%{x}<br>이용량=%{y}",
         "legendgroup": "노선명=2007",
         "marker": {
          "color": "#FECB52",
          "symbol": "circle"
         },
         "mode": "markers",
         "name": "노선명=2007",
         "showlegend": true,
         "type": "scattergl",
         "x": [
          5,
          6,
          7,
          8,
          9,
          10,
          11,
          12,
          13,
          14,
          15,
          16,
          17,
          18,
          19,
          20,
          21,
          22,
          23
         ],
         "xaxis": "x",
         "y": [
          1,
          4,
          3,
          4,
          4,
          1,
          3,
          5,
          3,
          5,
          6,
          1,
          7,
          11,
          7,
          5,
          15,
          1,
          3
         ],
         "yaxis": "y"
        },
        {
         "hoverlabel": {
          "namelength": 0
         },
         "hovertemplate": "노선명=201<br>시간=%{x}<br>이용량=%{y}",
         "legendgroup": "노선명=201",
         "marker": {
          "color": "#636efa",
          "symbol": "circle"
         },
         "mode": "markers",
         "name": "노선명=201",
         "showlegend": true,
         "type": "scattergl",
         "x": [
          6,
          7,
          8,
          9,
          10,
          11,
          12,
          13,
          14,
          15,
          16,
          17,
          18,
          19,
          20,
          21,
          22
         ],
         "xaxis": "x",
         "y": [
          15,
          44,
          28,
          19,
          24,
          7,
          23,
          8,
          24,
          15,
          21,
          8,
          10,
          17,
          35,
          12,
          9
         ],
         "yaxis": "y"
        },
        {
         "hoverlabel": {
          "namelength": 0
         },
         "hovertemplate": "노선명=202<br>시간=%{x}<br>이용량=%{y}",
         "legendgroup": "노선명=202",
         "marker": {
          "color": "#EF553B",
          "symbol": "circle"
         },
         "mode": "markers",
         "name": "노선명=202",
         "showlegend": true,
         "type": "scattergl",
         "x": [
          5,
          6,
          7,
          8,
          9,
          10,
          11,
          12,
          13,
          14,
          15,
          16,
          17,
          18,
          19,
          20,
          21,
          22,
          23
         ],
         "xaxis": "x",
         "y": [
          98,
          352,
          818,
          859,
          413,
          286,
          275,
          321,
          363,
          371,
          338,
          556,
          725,
          526,
          371,
          368,
          345,
          234,
          74
         ],
         "yaxis": "y"
        },
        {
         "hoverlabel": {
          "namelength": 0
         },
         "hovertemplate": "노선명=203<br>시간=%{x}<br>이용량=%{y}",
         "legendgroup": "노선명=203",
         "marker": {
          "color": "#00cc96",
          "symbol": "circle"
         },
         "mode": "markers",
         "name": "노선명=203",
         "showlegend": true,
         "type": "scattergl",
         "x": [
          6,
          7,
          8,
          9,
          10,
          11,
          12,
          13,
          14,
          15,
          16,
          17,
          18,
          19,
          20,
          21,
          22
         ],
         "xaxis": "x",
         "y": [
          12,
          46,
          30,
          33,
          24,
          34,
          15,
          21,
          29,
          17,
          38,
          62,
          39,
          25,
          28,
          40,
          15
         ],
         "yaxis": "y"
        },
        {
         "hoverlabel": {
          "namelength": 0
         },
         "hovertemplate": "노선명=21<br>시간=%{x}<br>이용량=%{y}",
         "legendgroup": "노선명=21",
         "marker": {
          "color": "#ab63fa",
          "symbol": "circle"
         },
         "mode": "markers",
         "name": "노선명=21",
         "showlegend": true,
         "type": "scattergl",
         "x": [
          5,
          6,
          7,
          8,
          10,
          11,
          12,
          13,
          14,
          16,
          17,
          18,
          19,
          20,
          21
         ],
         "xaxis": "x",
         "y": [
          1,
          7,
          1,
          2,
          1,
          1,
          3,
          2,
          4,
          1,
          6,
          4,
          1,
          2,
          4
         ],
         "yaxis": "y"
        },
        {
         "hoverlabel": {
          "namelength": 0
         },
         "hovertemplate": "노선명=22<br>시간=%{x}<br>이용량=%{y}",
         "legendgroup": "노선명=22",
         "marker": {
          "color": "#FFA15A",
          "symbol": "circle"
         },
         "mode": "markers",
         "name": "노선명=22",
         "showlegend": true,
         "type": "scattergl",
         "x": [
          4,
          5,
          6,
          7,
          8,
          9,
          10,
          11,
          12,
          13,
          14,
          15,
          16,
          17,
          18,
          19,
          20,
          21,
          22,
          23
         ],
         "xaxis": "x",
         "y": [
          7,
          25,
          91,
          118,
          108,
          83,
          64,
          85,
          100,
          92,
          60,
          65,
          62,
          122,
          111,
          102,
          68,
          44,
          31,
          7
         ],
         "yaxis": "y"
        },
        {
         "hoverlabel": {
          "namelength": 0
         },
         "hovertemplate": "노선명=22-1<br>시간=%{x}<br>이용량=%{y}",
         "legendgroup": "노선명=22-1",
         "marker": {
          "color": "#19d3f3",
          "symbol": "circle"
         },
         "mode": "markers",
         "name": "노선명=22-1",
         "showlegend": true,
         "type": "scattergl",
         "x": [
          6,
          8,
          9,
          11,
          12,
          13,
          15,
          18
         ],
         "xaxis": "x",
         "y": [
          1,
          1,
          1,
          1,
          1,
          1,
          1,
          1
         ],
         "yaxis": "y"
        },
        {
         "hoverlabel": {
          "namelength": 0
         },
         "hovertemplate": "노선명=22-3<br>시간=%{x}<br>이용량=%{y}",
         "legendgroup": "노선명=22-3",
         "marker": {
          "color": "#FF6692",
          "symbol": "circle"
         },
         "mode": "markers",
         "name": "노선명=22-3",
         "showlegend": true,
         "type": "scattergl",
         "x": [
          18
         ],
         "xaxis": "x",
         "y": [
          1
         ],
         "yaxis": "y"
        },
        {
         "hoverlabel": {
          "namelength": 0
         },
         "hovertemplate": "노선명=220<br>시간=%{x}<br>이용량=%{y}",
         "legendgroup": "노선명=220",
         "marker": {
          "color": "#B6E880",
          "symbol": "circle"
         },
         "mode": "markers",
         "name": "노선명=220",
         "showlegend": true,
         "type": "scattergl",
         "x": [
          4,
          5,
          6,
          7,
          8,
          9,
          10,
          11,
          12,
          13,
          14,
          15,
          16,
          17,
          18,
          19,
          20,
          21,
          22,
          23
         ],
         "xaxis": "x",
         "y": [
          2,
          11,
          8,
          11,
          16,
          5,
          6,
          4,
          12,
          14,
          7,
          13,
          26,
          21,
          33,
          19,
          17,
          12,
          13,
          1
         ],
         "yaxis": "y"
        },
        {
         "hoverlabel": {
          "namelength": 0
         },
         "hovertemplate": "노선명=23<br>시간=%{x}<br>이용량=%{y}",
         "legendgroup": "노선명=23",
         "marker": {
          "color": "#FF97FF",
          "symbol": "circle"
         },
         "mode": "markers",
         "name": "노선명=23",
         "showlegend": true,
         "type": "scattergl",
         "x": [
          5,
          6,
          7,
          8,
          9,
          11,
          12,
          14,
          16,
          17,
          18,
          21,
          22
         ],
         "xaxis": "x",
         "y": [
          5,
          5,
          8,
          1,
          2,
          1,
          2,
          1,
          1,
          1,
          2,
          1,
          2
         ],
         "yaxis": "y"
        },
        {
         "hoverlabel": {
          "namelength": 0
         },
         "hovertemplate": "노선명=23-1<br>시간=%{x}<br>이용량=%{y}",
         "legendgroup": "노선명=23-1",
         "marker": {
          "color": "#FECB52",
          "symbol": "circle"
         },
         "mode": "markers",
         "name": "노선명=23-1",
         "showlegend": true,
         "type": "scattergl",
         "x": [
          7
         ],
         "xaxis": "x",
         "y": [
          1
         ],
         "yaxis": "y"
        },
        {
         "hoverlabel": {
          "namelength": 0
         },
         "hovertemplate": "노선명=23-2<br>시간=%{x}<br>이용량=%{y}",
         "legendgroup": "노선명=23-2",
         "marker": {
          "color": "#636efa",
          "symbol": "circle"
         },
         "mode": "markers",
         "name": "노선명=23-2",
         "showlegend": true,
         "type": "scattergl",
         "x": [
          7
         ],
         "xaxis": "x",
         "y": [
          1
         ],
         "yaxis": "y"
        },
        {
         "hoverlabel": {
          "namelength": 0
         },
         "hovertemplate": "노선명=24<br>시간=%{x}<br>이용량=%{y}",
         "legendgroup": "노선명=24",
         "marker": {
          "color": "#EF553B",
          "symbol": "circle"
         },
         "mode": "markers",
         "name": "노선명=24",
         "showlegend": true,
         "type": "scattergl",
         "x": [
          6,
          7,
          8,
          9,
          10,
          11,
          12,
          13,
          14,
          15,
          16,
          17,
          18,
          19,
          20,
          21
         ],
         "xaxis": "x",
         "y": [
          6,
          4,
          3,
          1,
          2,
          5,
          8,
          3,
          3,
          3,
          9,
          3,
          4,
          1,
          4,
          3
         ],
         "yaxis": "y"
        },
        {
         "hoverlabel": {
          "namelength": 0
         },
         "hovertemplate": "노선명=24-1<br>시간=%{x}<br>이용량=%{y}",
         "legendgroup": "노선명=24-1",
         "marker": {
          "color": "#00cc96",
          "symbol": "circle"
         },
         "mode": "markers",
         "name": "노선명=24-1",
         "showlegend": true,
         "type": "scattergl",
         "x": [
          6,
          7,
          8,
          13,
          14,
          17,
          20
         ],
         "xaxis": "x",
         "y": [
          3,
          3,
          2,
          1,
          1,
          3,
          3
         ],
         "yaxis": "y"
        },
        {
         "hoverlabel": {
          "namelength": 0
         },
         "hovertemplate": "노선명=24-2<br>시간=%{x}<br>이용량=%{y}",
         "legendgroup": "노선명=24-2",
         "marker": {
          "color": "#ab63fa",
          "symbol": "circle"
         },
         "mode": "markers",
         "name": "노선명=24-2",
         "showlegend": true,
         "type": "scattergl",
         "x": [
          10,
          18
         ],
         "xaxis": "x",
         "y": [
          1,
          2
         ],
         "yaxis": "y"
        },
        {
         "hoverlabel": {
          "namelength": 0
         },
         "hovertemplate": "노선명=240<br>시간=%{x}<br>이용량=%{y}",
         "legendgroup": "노선명=240",
         "marker": {
          "color": "#FFA15A",
          "symbol": "circle"
         },
         "mode": "markers",
         "name": "노선명=240",
         "showlegend": true,
         "type": "scattergl",
         "x": [
          5,
          7,
          8,
          9,
          11,
          12,
          14,
          15,
          16,
          18,
          19,
          21,
          22
         ],
         "xaxis": "x",
         "y": [
          2,
          5,
          2,
          3,
          1,
          1,
          1,
          3,
          6,
          1,
          1,
          1,
          1
         ],
         "yaxis": "y"
        },
        {
         "hoverlabel": {
          "namelength": 0
         },
         "hovertemplate": "노선명=25<br>시간=%{x}<br>이용량=%{y}",
         "legendgroup": "노선명=25",
         "marker": {
          "color": "#19d3f3",
          "symbol": "circle"
         },
         "mode": "markers",
         "name": "노선명=25",
         "showlegend": true,
         "type": "scattergl",
         "x": [
          5,
          6,
          7,
          8,
          9,
          10,
          11,
          12,
          13,
          14,
          15,
          16,
          17,
          18,
          19,
          20,
          21,
          22,
          23
         ],
         "xaxis": "x",
         "y": [
          79,
          203,
          329,
          276,
          262,
          171,
          198,
          208,
          283,
          187,
          199,
          270,
          314,
          368,
          194,
          176,
          152,
          85,
          14
         ],
         "yaxis": "y"
        },
        {
         "hoverlabel": {
          "namelength": 0
         },
         "hovertemplate": "노선명=25-1<br>시간=%{x}<br>이용량=%{y}",
         "legendgroup": "노선명=25-1",
         "marker": {
          "color": "#FF6692",
          "symbol": "circle"
         },
         "mode": "markers",
         "name": "노선명=25-1",
         "showlegend": true,
         "type": "scattergl",
         "x": [
          4,
          5,
          6,
          7,
          8,
          9,
          10,
          11,
          12,
          13,
          15,
          16,
          18,
          19,
          20
         ],
         "xaxis": "x",
         "y": [
          14,
          17,
          38,
          15,
          9,
          18,
          10,
          26,
          16,
          31,
          20,
          13,
          17,
          14,
          4
         ],
         "yaxis": "y"
        },
        {
         "hoverlabel": {
          "namelength": 0
         },
         "hovertemplate": "노선명=25-2<br>시간=%{x}<br>이용량=%{y}",
         "legendgroup": "노선명=25-2",
         "marker": {
          "color": "#B6E880",
          "symbol": "circle"
         },
         "mode": "markers",
         "name": "노선명=25-2",
         "showlegend": true,
         "type": "scattergl",
         "x": [
          6,
          7,
          8,
          9,
          10,
          11,
          12,
          13,
          14,
          18,
          19,
          20,
          21,
          22,
          23
         ],
         "xaxis": "x",
         "y": [
          16,
          26,
          68,
          16,
          13,
          16,
          39,
          13,
          19,
          15,
          26,
          22,
          7,
          19,
          2
         ],
         "yaxis": "y"
        },
        {
         "hoverlabel": {
          "namelength": 0
         },
         "hovertemplate": "노선명=25-5<br>시간=%{x}<br>이용량=%{y}",
         "legendgroup": "노선명=25-5",
         "marker": {
          "color": "#FF97FF",
          "symbol": "circle"
         },
         "mode": "markers",
         "name": "노선명=25-5",
         "showlegend": true,
         "type": "scattergl",
         "x": [
          6,
          7,
          8,
          9
         ],
         "xaxis": "x",
         "y": [
          36,
          87,
          40,
          19
         ],
         "yaxis": "y"
        },
        {
         "hoverlabel": {
          "namelength": 0
         },
         "hovertemplate": "노선명=250<br>시간=%{x}<br>이용량=%{y}",
         "legendgroup": "노선명=250",
         "marker": {
          "color": "#FECB52",
          "symbol": "circle"
         },
         "mode": "markers",
         "name": "노선명=250",
         "showlegend": true,
         "type": "scattergl",
         "x": [
          4,
          5,
          6,
          7,
          8,
          9,
          10,
          11,
          12,
          13,
          14,
          15,
          16,
          17,
          18,
          19,
          20,
          21,
          22
         ],
         "xaxis": "x",
         "y": [
          1,
          4,
          1,
          15,
          16,
          9,
          4,
          4,
          9,
          12,
          8,
          9,
          12,
          12,
          17,
          17,
          10,
          10,
          7
         ],
         "yaxis": "y"
        },
        {
         "hoverlabel": {
          "namelength": 0
         },
         "hovertemplate": "노선명=26<br>시간=%{x}<br>이용량=%{y}",
         "legendgroup": "노선명=26",
         "marker": {
          "color": "#636efa",
          "symbol": "circle"
         },
         "mode": "markers",
         "name": "노선명=26",
         "showlegend": true,
         "type": "scattergl",
         "x": [
          5,
          6,
          7,
          8,
          9,
          10,
          11,
          13,
          14,
          15,
          16,
          17,
          18,
          19,
          20,
          21,
          22
         ],
         "xaxis": "x",
         "y": [
          13,
          12,
          13,
          34,
          2,
          2,
          6,
          12,
          3,
          6,
          8,
          33,
          4,
          12,
          7,
          10,
          10
         ],
         "yaxis": "y"
        },
        {
         "hoverlabel": {
          "namelength": 0
         },
         "hovertemplate": "노선명=27<br>시간=%{x}<br>이용량=%{y}",
         "legendgroup": "노선명=27",
         "marker": {
          "color": "#EF553B",
          "symbol": "circle"
         },
         "mode": "markers",
         "name": "노선명=27",
         "showlegend": true,
         "type": "scattergl",
         "x": [
          4,
          5,
          6,
          7,
          8,
          9,
          10,
          11,
          12,
          13,
          14,
          15,
          16,
          17,
          18,
          19,
          20,
          21,
          22,
          23
         ],
         "xaxis": "x",
         "y": [
          7,
          6,
          10,
          31,
          29,
          19,
          10,
          18,
          26,
          19,
          13,
          29,
          24,
          34,
          26,
          17,
          13,
          21,
          6,
          3
         ],
         "yaxis": "y"
        },
        {
         "hoverlabel": {
          "namelength": 0
         },
         "hovertemplate": "노선명=27-1<br>시간=%{x}<br>이용량=%{y}",
         "legendgroup": "노선명=27-1",
         "marker": {
          "color": "#00cc96",
          "symbol": "circle"
         },
         "mode": "markers",
         "name": "노선명=27-1",
         "showlegend": true,
         "type": "scattergl",
         "x": [
          5,
          6,
          7,
          8,
          9,
          10,
          11,
          12,
          13,
          15,
          16,
          17,
          18,
          19,
          20,
          21,
          22,
          23
         ],
         "xaxis": "x",
         "y": [
          12,
          12,
          13,
          20,
          1,
          8,
          4,
          3,
          8,
          8,
          8,
          1,
          12,
          8,
          11,
          8,
          7,
          16
         ],
         "yaxis": "y"
        },
        {
         "hoverlabel": {
          "namelength": 0
         },
         "hovertemplate": "노선명=28-2<br>시간=%{x}<br>이용량=%{y}",
         "legendgroup": "노선명=28-2",
         "marker": {
          "color": "#ab63fa",
          "symbol": "circle"
         },
         "mode": "markers",
         "name": "노선명=28-2",
         "showlegend": true,
         "type": "scattergl",
         "x": [
          20
         ],
         "xaxis": "x",
         "y": [
          1
         ],
         "yaxis": "y"
        },
        {
         "hoverlabel": {
          "namelength": 0
         },
         "hovertemplate": "노선명=29<br>시간=%{x}<br>이용량=%{y}",
         "legendgroup": "노선명=29",
         "marker": {
          "color": "#FFA15A",
          "symbol": "circle"
         },
         "mode": "markers",
         "name": "노선명=29",
         "showlegend": true,
         "type": "scattergl",
         "x": [
          20
         ],
         "xaxis": "x",
         "y": [
          1
         ],
         "yaxis": "y"
        },
        {
         "hoverlabel": {
          "namelength": 0
         },
         "hovertemplate": "노선명=3<br>시간=%{x}<br>이용량=%{y}",
         "legendgroup": "노선명=3",
         "marker": {
          "color": "#19d3f3",
          "symbol": "circle"
         },
         "mode": "markers",
         "name": "노선명=3",
         "showlegend": true,
         "type": "scattergl",
         "x": [
          5,
          6,
          7,
          8,
          9,
          10,
          11,
          12,
          13,
          14,
          15,
          16,
          17,
          18,
          19,
          20,
          21,
          22,
          23
         ],
         "xaxis": "x",
         "y": [
          132,
          473,
          1437,
          1818,
          1180,
          1107,
          972,
          1278,
          1519,
          1285,
          1252,
          1368,
          1258,
          1394,
          899,
          792,
          733,
          611,
          222
         ],
         "yaxis": "y"
        },
        {
         "hoverlabel": {
          "namelength": 0
         },
         "hovertemplate": "노선명=3-1<br>시간=%{x}<br>이용량=%{y}",
         "legendgroup": "노선명=3-1",
         "marker": {
          "color": "#FF6692",
          "symbol": "circle"
         },
         "mode": "markers",
         "name": "노선명=3-1",
         "showlegend": true,
         "type": "scattergl",
         "x": [
          4,
          5,
          6,
          7,
          8,
          9,
          10,
          11,
          12,
          13,
          14,
          15,
          16,
          17,
          18,
          19,
          20,
          21,
          22
         ],
         "xaxis": "x",
         "y": [
          1,
          4,
          4,
          6,
          8,
          4,
          5,
          7,
          6,
          4,
          3,
          10,
          4,
          5,
          13,
          8,
          6,
          3,
          1
         ],
         "yaxis": "y"
        },
        {
         "hoverlabel": {
          "namelength": 0
         },
         "hovertemplate": "노선명=3-2<br>시간=%{x}<br>이용량=%{y}",
         "legendgroup": "노선명=3-2",
         "marker": {
          "color": "#B6E880",
          "symbol": "circle"
         },
         "mode": "markers",
         "name": "노선명=3-2",
         "showlegend": true,
         "type": "scattergl",
         "x": [
          6,
          8,
          9,
          13,
          15,
          17,
          18,
          19,
          20,
          21
         ],
         "xaxis": "x",
         "y": [
          1,
          2,
          1,
          2,
          2,
          7,
          1,
          2,
          1,
          1
         ],
         "yaxis": "y"
        },
        {
         "hoverlabel": {
          "namelength": 0
         },
         "hovertemplate": "노선명=3-5<br>시간=%{x}<br>이용량=%{y}",
         "legendgroup": "노선명=3-5",
         "marker": {
          "color": "#FF97FF",
          "symbol": "circle"
         },
         "mode": "markers",
         "name": "노선명=3-5",
         "showlegend": true,
         "type": "scattergl",
         "x": [
          10,
          17
         ],
         "xaxis": "x",
         "y": [
          1,
          1
         ],
         "yaxis": "y"
        },
        {
         "hoverlabel": {
          "namelength": 0
         },
         "hovertemplate": "노선명=30<br>시간=%{x}<br>이용량=%{y}",
         "legendgroup": "노선명=30",
         "marker": {
          "color": "#FECB52",
          "symbol": "circle"
         },
         "mode": "markers",
         "name": "노선명=30",
         "showlegend": true,
         "type": "scattergl",
         "x": [
          5,
          6,
          7,
          8,
          9,
          10,
          11,
          12,
          13,
          14,
          15,
          16,
          17,
          18,
          19,
          20,
          21,
          22,
          23
         ],
         "xaxis": "x",
         "y": [
          175,
          528,
          950,
          928,
          435,
          385,
          554,
          448,
          549,
          487,
          404,
          570,
          970,
          789,
          560,
          495,
          410,
          383,
          138
         ],
         "yaxis": "y"
        },
        {
         "hoverlabel": {
          "namelength": 0
         },
         "hovertemplate": "노선명=30-1<br>시간=%{x}<br>이용량=%{y}",
         "legendgroup": "노선명=30-1",
         "marker": {
          "color": "#636efa",
          "symbol": "circle"
         },
         "mode": "markers",
         "name": "노선명=30-1",
         "showlegend": true,
         "type": "scattergl",
         "x": [
          5,
          6,
          7,
          8,
          9,
          10,
          11,
          12,
          13,
          14,
          15,
          16,
          17,
          18,
          19,
          20,
          21,
          22,
          23
         ],
         "xaxis": "x",
         "y": [
          130,
          574,
          1016,
          998,
          695,
          430,
          446,
          609,
          728,
          588,
          730,
          696,
          986,
          939,
          668,
          556,
          524,
          432,
          184
         ],
         "yaxis": "y"
        },
        {
         "hoverlabel": {
          "namelength": 0
         },
         "hovertemplate": "노선명=30-2<br>시간=%{x}<br>이용량=%{y}",
         "legendgroup": "노선명=30-2",
         "marker": {
          "color": "#EF553B",
          "symbol": "circle"
         },
         "mode": "markers",
         "name": "노선명=30-2",
         "showlegend": true,
         "type": "scattergl",
         "x": [
          5,
          6,
          7,
          10,
          11,
          12,
          14,
          16,
          17,
          18,
          20
         ],
         "xaxis": "x",
         "y": [
          2,
          1,
          6,
          1,
          1,
          3,
          4,
          1,
          3,
          5,
          1
         ],
         "yaxis": "y"
        },
        {
         "hoverlabel": {
          "namelength": 0
         },
         "hovertemplate": "노선명=30-3<br>시간=%{x}<br>이용량=%{y}",
         "legendgroup": "노선명=30-3",
         "marker": {
          "color": "#00cc96",
          "symbol": "circle"
         },
         "mode": "markers",
         "name": "노선명=30-3",
         "showlegend": true,
         "type": "scattergl",
         "x": [
          4,
          15,
          16
         ],
         "xaxis": "x",
         "y": [
          1,
          1,
          1
         ],
         "yaxis": "y"
        },
        {
         "hoverlabel": {
          "namelength": 0
         },
         "hovertemplate": "노선명=30-5<br>시간=%{x}<br>이용량=%{y}",
         "legendgroup": "노선명=30-5",
         "marker": {
          "color": "#ab63fa",
          "symbol": "circle"
         },
         "mode": "markers",
         "name": "노선명=30-5",
         "showlegend": true,
         "type": "scattergl",
         "x": [
          7,
          12,
          18,
          19,
          20
         ],
         "xaxis": "x",
         "y": [
          1,
          1,
          1,
          2,
          1
         ],
         "yaxis": "y"
        },
        {
         "hoverlabel": {
          "namelength": 0
         },
         "hovertemplate": "노선명=30-7<br>시간=%{x}<br>이용량=%{y}",
         "legendgroup": "노선명=30-7",
         "marker": {
          "color": "#FFA15A",
          "symbol": "circle"
         },
         "mode": "markers",
         "name": "노선명=30-7",
         "showlegend": true,
         "type": "scattergl",
         "x": [
          6,
          11,
          17
         ],
         "xaxis": "x",
         "y": [
          4,
          2,
          2
         ],
         "yaxis": "y"
        },
        {
         "hoverlabel": {
          "namelength": 0
         },
         "hovertemplate": "노선명=300<br>시간=%{x}<br>이용량=%{y}",
         "legendgroup": "노선명=300",
         "marker": {
          "color": "#19d3f3",
          "symbol": "circle"
         },
         "mode": "markers",
         "name": "노선명=300",
         "showlegend": true,
         "type": "scattergl",
         "x": [
          4,
          5,
          6,
          7,
          8,
          9,
          10,
          11,
          12,
          13,
          14,
          15,
          16,
          17,
          18,
          19,
          20,
          21,
          22,
          23
         ],
         "xaxis": "x",
         "y": [
          15,
          97,
          291,
          809,
          685,
          391,
          270,
          279,
          394,
          333,
          298,
          318,
          401,
          538,
          713,
          446,
          376,
          386,
          273,
          74
         ],
         "yaxis": "y"
        },
        {
         "hoverlabel": {
          "namelength": 0
         },
         "hovertemplate": "노선명=300-1<br>시간=%{x}<br>이용량=%{y}",
         "legendgroup": "노선명=300-1",
         "marker": {
          "color": "#FF6692",
          "symbol": "circle"
         },
         "mode": "markers",
         "name": "노선명=300-1",
         "showlegend": true,
         "type": "scattergl",
         "x": [
          4,
          5,
          6,
          7,
          8,
          9,
          10,
          11,
          12,
          13,
          14,
          15,
          16,
          17,
          18,
          19,
          20,
          21,
          22,
          23
         ],
         "xaxis": "x",
         "y": [
          4,
          45,
          48,
          64,
          91,
          49,
          35,
          27,
          54,
          38,
          27,
          48,
          44,
          72,
          96,
          54,
          35,
          27,
          31,
          12
         ],
         "yaxis": "y"
        },
        {
         "hoverlabel": {
          "namelength": 0
         },
         "hovertemplate": "노선명=3000<br>시간=%{x}<br>이용량=%{y}",
         "legendgroup": "노선명=3000",
         "marker": {
          "color": "#B6E880",
          "symbol": "circle"
         },
         "mode": "markers",
         "name": "노선명=3000",
         "showlegend": true,
         "type": "scattergl",
         "x": [
          5,
          6,
          7,
          8,
          9,
          10,
          11,
          12,
          13,
          14,
          15,
          16,
          17,
          18,
          19,
          20,
          21,
          22,
          23
         ],
         "xaxis": "x",
         "y": [
          7,
          4,
          2,
          2,
          4,
          1,
          3,
          3,
          10,
          10,
          6,
          8,
          12,
          26,
          7,
          15,
          16,
          23,
          4
         ],
         "yaxis": "y"
        },
        {
         "hoverlabel": {
          "namelength": 0
         },
         "hovertemplate": "노선명=3001<br>시간=%{x}<br>이용량=%{y}",
         "legendgroup": "노선명=3001",
         "marker": {
          "color": "#FF97FF",
          "symbol": "circle"
         },
         "mode": "markers",
         "name": "노선명=3001",
         "showlegend": true,
         "type": "scattergl",
         "x": [
          6,
          7,
          8,
          9,
          10,
          11,
          12,
          14,
          16,
          17,
          18,
          20,
          21,
          22,
          23
         ],
         "xaxis": "x",
         "y": [
          5,
          2,
          3,
          1,
          1,
          1,
          1,
          2,
          1,
          2,
          2,
          4,
          1,
          1,
          1
         ],
         "yaxis": "y"
        },
        {
         "hoverlabel": {
          "namelength": 0
         },
         "hovertemplate": "노선명=3002<br>시간=%{x}<br>이용량=%{y}",
         "legendgroup": "노선명=3002",
         "marker": {
          "color": "#FECB52",
          "symbol": "circle"
         },
         "mode": "markers",
         "name": "노선명=3002",
         "showlegend": true,
         "type": "scattergl",
         "x": [
          6,
          7,
          8,
          9,
          10,
          11,
          13,
          14,
          15,
          16,
          17,
          18,
          19,
          20,
          21,
          22,
          23
         ],
         "xaxis": "x",
         "y": [
          2,
          5,
          4,
          1,
          1,
          1,
          1,
          1,
          2,
          2,
          6,
          6,
          6,
          5,
          3,
          4,
          3
         ],
         "yaxis": "y"
        },
        {
         "hoverlabel": {
          "namelength": 0
         },
         "hovertemplate": "노선명=3003<br>시간=%{x}<br>이용량=%{y}",
         "legendgroup": "노선명=3003",
         "marker": {
          "color": "#636efa",
          "symbol": "circle"
         },
         "mode": "markers",
         "name": "노선명=3003",
         "showlegend": true,
         "type": "scattergl",
         "x": [
          7,
          10,
          12,
          13,
          14,
          16,
          17,
          18,
          19,
          20,
          21,
          22,
          23
         ],
         "xaxis": "x",
         "y": [
          1,
          1,
          3,
          2,
          5,
          6,
          12,
          7,
          11,
          8,
          9,
          10,
          1
         ],
         "yaxis": "y"
        },
        {
         "hoverlabel": {
          "namelength": 0
         },
         "hovertemplate": "노선명=3007<br>시간=%{x}<br>이용량=%{y}",
         "legendgroup": "노선명=3007",
         "marker": {
          "color": "#EF553B",
          "symbol": "circle"
         },
         "mode": "markers",
         "name": "노선명=3007",
         "showlegend": true,
         "type": "scattergl",
         "x": [
          6,
          7,
          8,
          9,
          10,
          11,
          12,
          13,
          14,
          15,
          16,
          17,
          18,
          19,
          20,
          21,
          22,
          23
         ],
         "xaxis": "x",
         "y": [
          2,
          2,
          5,
          4,
          1,
          1,
          1,
          2,
          6,
          6,
          2,
          3,
          9,
          3,
          7,
          6,
          2,
          1
         ],
         "yaxis": "y"
        },
        {
         "hoverlabel": {
          "namelength": 0
         },
         "hovertemplate": "노선명=301<br>시간=%{x}<br>이용량=%{y}",
         "legendgroup": "노선명=301",
         "marker": {
          "color": "#00cc96",
          "symbol": "circle"
         },
         "mode": "markers",
         "name": "노선명=301",
         "showlegend": true,
         "type": "scattergl",
         "x": [
          4,
          5,
          6,
          7,
          8,
          9,
          10,
          11,
          12,
          13,
          14,
          15,
          16,
          17,
          18,
          19,
          20,
          21,
          22,
          23
         ],
         "xaxis": "x",
         "y": [
          57,
          220,
          593,
          1461,
          1268,
          706,
          557,
          514,
          538,
          745,
          597,
          565,
          805,
          937,
          941,
          712,
          589,
          644,
          487,
          194
         ],
         "yaxis": "y"
        },
        {
         "hoverlabel": {
          "namelength": 0
         },
         "hovertemplate": "노선명=302<br>시간=%{x}<br>이용량=%{y}",
         "legendgroup": "노선명=302",
         "marker": {
          "color": "#ab63fa",
          "symbol": "circle"
         },
         "mode": "markers",
         "name": "노선명=302",
         "showlegend": true,
         "type": "scattergl",
         "x": [
          7,
          15,
          16
         ],
         "xaxis": "x",
         "y": [
          1,
          1,
          1
         ],
         "yaxis": "y"
        },
        {
         "hoverlabel": {
          "namelength": 0
         },
         "hovertemplate": "노선명=3030<br>시간=%{x}<br>이용량=%{y}",
         "legendgroup": "노선명=3030",
         "marker": {
          "color": "#FFA15A",
          "symbol": "circle"
         },
         "mode": "markers",
         "name": "노선명=3030",
         "showlegend": true,
         "type": "scattergl",
         "x": [
          19,
          21
         ],
         "xaxis": "x",
         "y": [
          1,
          2
         ],
         "yaxis": "y"
        },
        {
         "hoverlabel": {
          "namelength": 0
         },
         "hovertemplate": "노선명=31<br>시간=%{x}<br>이용량=%{y}",
         "legendgroup": "노선명=31",
         "marker": {
          "color": "#19d3f3",
          "symbol": "circle"
         },
         "mode": "markers",
         "name": "노선명=31",
         "showlegend": true,
         "type": "scattergl",
         "x": [
          6,
          7,
          8,
          9,
          10,
          11,
          12,
          13,
          14,
          15,
          16,
          17,
          18,
          19,
          20,
          21,
          22
         ],
         "xaxis": "x",
         "y": [
          15,
          19,
          20,
          12,
          4,
          9,
          16,
          10,
          11,
          15,
          5,
          19,
          18,
          9,
          10,
          4,
          2
         ],
         "yaxis": "y"
        },
        {
         "hoverlabel": {
          "namelength": 0
         },
         "hovertemplate": "노선명=31-2<br>시간=%{x}<br>이용량=%{y}",
         "legendgroup": "노선명=31-2",
         "marker": {
          "color": "#FF6692",
          "symbol": "circle"
         },
         "mode": "markers",
         "name": "노선명=31-2",
         "showlegend": true,
         "type": "scattergl",
         "x": [
          5,
          6,
          8,
          12,
          16,
          17,
          18
         ],
         "xaxis": "x",
         "y": [
          1,
          2,
          1,
          1,
          1,
          2,
          5
         ],
         "yaxis": "y"
        },
        {
         "hoverlabel": {
          "namelength": 0
         },
         "hovertemplate": "노선명=31-3<br>시간=%{x}<br>이용량=%{y}",
         "legendgroup": "노선명=31-3",
         "marker": {
          "color": "#B6E880",
          "symbol": "circle"
         },
         "mode": "markers",
         "name": "노선명=31-3",
         "showlegend": true,
         "type": "scattergl",
         "x": [
          5,
          6,
          7,
          8,
          9,
          12,
          14,
          15,
          16,
          17,
          18,
          19,
          20,
          21,
          22
         ],
         "xaxis": "x",
         "y": [
          1,
          7,
          6,
          1,
          1,
          2,
          2,
          1,
          2,
          2,
          8,
          1,
          1,
          3,
          1
         ],
         "yaxis": "y"
        },
        {
         "hoverlabel": {
          "namelength": 0
         },
         "hovertemplate": "노선명=31-7<br>시간=%{x}<br>이용량=%{y}",
         "legendgroup": "노선명=31-7",
         "marker": {
          "color": "#FF97FF",
          "symbol": "circle"
         },
         "mode": "markers",
         "name": "노선명=31-7",
         "showlegend": true,
         "type": "scattergl",
         "x": [
          5,
          6,
          7,
          8,
          9,
          11,
          13,
          16,
          18,
          21
         ],
         "xaxis": "x",
         "y": [
          1,
          1,
          1,
          1,
          1,
          1,
          1,
          2,
          2,
          1
         ],
         "yaxis": "y"
        },
        {
         "hoverlabel": {
          "namelength": 0
         },
         "hovertemplate": "노선명=310<br>시간=%{x}<br>이용량=%{y}",
         "legendgroup": "노선명=310",
         "marker": {
          "color": "#FECB52",
          "symbol": "circle"
         },
         "mode": "markers",
         "name": "노선명=310",
         "showlegend": true,
         "type": "scattergl",
         "x": [
          4,
          5,
          6,
          7,
          8,
          9,
          10,
          11,
          12,
          13,
          14,
          15,
          16,
          17,
          18,
          19,
          20,
          21,
          22,
          23
         ],
         "xaxis": "x",
         "y": [
          21,
          192,
          345,
          715,
          649,
          337,
          236,
          237,
          367,
          339,
          281,
          253,
          407,
          424,
          541,
          453,
          432,
          312,
          192,
          80
         ],
         "yaxis": "y"
        },
        {
         "hoverlabel": {
          "namelength": 0
         },
         "hovertemplate": "노선명=3100<br>시간=%{x}<br>이용량=%{y}",
         "legendgroup": "노선명=3100",
         "marker": {
          "color": "#636efa",
          "symbol": "circle"
         },
         "mode": "markers",
         "name": "노선명=3100",
         "showlegend": true,
         "type": "scattergl",
         "x": [
          5,
          6,
          8,
          10,
          12,
          16,
          17,
          18,
          19,
          20,
          21
         ],
         "xaxis": "x",
         "y": [
          4,
          4,
          1,
          1,
          1,
          1,
          4,
          4,
          2,
          1,
          1
         ],
         "yaxis": "y"
        },
        {
         "hoverlabel": {
          "namelength": 0
         },
         "hovertemplate": "노선명=3101<br>시간=%{x}<br>이용량=%{y}",
         "legendgroup": "노선명=3101",
         "marker": {
          "color": "#EF553B",
          "symbol": "circle"
         },
         "mode": "markers",
         "name": "노선명=3101",
         "showlegend": true,
         "type": "scattergl",
         "x": [
          7
         ],
         "xaxis": "x",
         "y": [
          2
         ],
         "yaxis": "y"
        },
        {
         "hoverlabel": {
          "namelength": 0
         },
         "hovertemplate": "노선명=3102<br>시간=%{x}<br>이용량=%{y}",
         "legendgroup": "노선명=3102",
         "marker": {
          "color": "#00cc96",
          "symbol": "circle"
         },
         "mode": "markers",
         "name": "노선명=3102",
         "showlegend": true,
         "type": "scattergl",
         "x": [
          6,
          11,
          15,
          17,
          18,
          19,
          23
         ],
         "xaxis": "x",
         "y": [
          1,
          1,
          1,
          1,
          1,
          1,
          1
         ],
         "yaxis": "y"
        },
        {
         "hoverlabel": {
          "namelength": 0
         },
         "hovertemplate": "노선명=314<br>시간=%{x}<br>이용량=%{y}",
         "legendgroup": "노선명=314",
         "marker": {
          "color": "#ab63fa",
          "symbol": "circle"
         },
         "mode": "markers",
         "name": "노선명=314",
         "showlegend": true,
         "type": "scattergl",
         "x": [
          13,
          14,
          18
         ],
         "xaxis": "x",
         "y": [
          1,
          1,
          1
         ],
         "yaxis": "y"
        },
        {
         "hoverlabel": {
          "namelength": 0
         },
         "hovertemplate": "노선명=32<br>시간=%{x}<br>이용량=%{y}",
         "legendgroup": "노선명=32",
         "marker": {
          "color": "#FFA15A",
          "symbol": "circle"
         },
         "mode": "markers",
         "name": "노선명=32",
         "showlegend": true,
         "type": "scattergl",
         "x": [
          5,
          6,
          7,
          8,
          9,
          10,
          11,
          12,
          13,
          14,
          15,
          16,
          17,
          18,
          19,
          20,
          21
         ],
         "xaxis": "x",
         "y": [
          14,
          13,
          35,
          11,
          14,
          24,
          7,
          39,
          7,
          20,
          13,
          14,
          7,
          14,
          13,
          6,
          10
         ],
         "yaxis": "y"
        },
        {
         "hoverlabel": {
          "namelength": 0
         },
         "hovertemplate": "노선명=32-1<br>시간=%{x}<br>이용량=%{y}",
         "legendgroup": "노선명=32-1",
         "marker": {
          "color": "#19d3f3",
          "symbol": "circle"
         },
         "mode": "markers",
         "name": "노선명=32-1",
         "showlegend": true,
         "type": "scattergl",
         "x": [
          5,
          6,
          7,
          8,
          11,
          12,
          14,
          16,
          17,
          18,
          19,
          21,
          23
         ],
         "xaxis": "x",
         "y": [
          10,
          10,
          16,
          1,
          3,
          14,
          1,
          1,
          23,
          14,
          4,
          1,
          1
         ],
         "yaxis": "y"
        },
        {
         "hoverlabel": {
          "namelength": 0
         },
         "hovertemplate": "노선명=32-2<br>시간=%{x}<br>이용량=%{y}",
         "legendgroup": "노선명=32-2",
         "marker": {
          "color": "#FF6692",
          "symbol": "circle"
         },
         "mode": "markers",
         "name": "노선명=32-2",
         "showlegend": true,
         "type": "scattergl",
         "x": [
          8,
          9,
          10,
          14,
          15,
          16,
          20,
          21,
          22
         ],
         "xaxis": "x",
         "y": [
          16,
          9,
          1,
          4,
          5,
          3,
          8,
          8,
          3
         ],
         "yaxis": "y"
        },
        {
         "hoverlabel": {
          "namelength": 0
         },
         "hovertemplate": "노선명=32-3<br>시간=%{x}<br>이용량=%{y}",
         "legendgroup": "노선명=32-3",
         "marker": {
          "color": "#B6E880",
          "symbol": "circle"
         },
         "mode": "markers",
         "name": "노선명=32-3",
         "showlegend": true,
         "type": "scattergl",
         "x": [
          5,
          6,
          7,
          8,
          9,
          10,
          11,
          12,
          13,
          14,
          15,
          16,
          17,
          18,
          19,
          20,
          21,
          22,
          23
         ],
         "xaxis": "x",
         "y": [
          24,
          81,
          184,
          148,
          96,
          38,
          50,
          87,
          76,
          42,
          48,
          89,
          62,
          92,
          70,
          48,
          65,
          14,
          4
         ],
         "yaxis": "y"
        },
        {
         "hoverlabel": {
          "namelength": 0
         },
         "hovertemplate": "노선명=32-4<br>시간=%{x}<br>이용량=%{y}",
         "legendgroup": "노선명=32-4",
         "marker": {
          "color": "#FF97FF",
          "symbol": "circle"
         },
         "mode": "markers",
         "name": "노선명=32-4",
         "showlegend": true,
         "type": "scattergl",
         "x": [
          5,
          6,
          7,
          8,
          9,
          10,
          11,
          12,
          13,
          14,
          15,
          16,
          17,
          18,
          19,
          20,
          21,
          22,
          23
         ],
         "xaxis": "x",
         "y": [
          3,
          26,
          46,
          87,
          18,
          21,
          13,
          26,
          17,
          13,
          36,
          21,
          45,
          16,
          21,
          21,
          9,
          7,
          2
         ],
         "yaxis": "y"
        },
        {
         "hoverlabel": {
          "namelength": 0
         },
         "hovertemplate": "노선명=32-5<br>시간=%{x}<br>이용량=%{y}",
         "legendgroup": "노선명=32-5",
         "marker": {
          "color": "#FECB52",
          "symbol": "circle"
         },
         "mode": "markers",
         "name": "노선명=32-5",
         "showlegend": true,
         "type": "scattergl",
         "x": [
          6,
          7,
          8,
          9,
          10,
          11,
          12,
          13,
          14,
          15,
          16,
          17,
          18,
          19,
          21,
          22
         ],
         "xaxis": "x",
         "y": [
          7,
          7,
          7,
          2,
          6,
          7,
          5,
          4,
          16,
          17,
          17,
          16,
          1,
          8,
          1,
          4
         ],
         "yaxis": "y"
        },
        {
         "hoverlabel": {
          "namelength": 0
         },
         "hovertemplate": "노선명=33<br>시간=%{x}<br>이용량=%{y}",
         "legendgroup": "노선명=33",
         "marker": {
          "color": "#636efa",
          "symbol": "circle"
         },
         "mode": "markers",
         "name": "노선명=33",
         "showlegend": true,
         "type": "scattergl",
         "x": [
          4,
          5,
          6,
          7,
          8,
          9,
          10,
          11,
          12,
          13,
          14,
          15,
          16,
          17,
          18,
          19,
          20,
          21,
          22,
          23
         ],
         "xaxis": "x",
         "y": [
          9,
          1,
          7,
          20,
          12,
          9,
          5,
          6,
          12,
          9,
          8,
          7,
          8,
          8,
          12,
          12,
          13,
          9,
          8,
          1
         ],
         "yaxis": "y"
        },
        {
         "hoverlabel": {
          "namelength": 0
         },
         "hovertemplate": "노선명=33-1<br>시간=%{x}<br>이용량=%{y}",
         "legendgroup": "노선명=33-1",
         "marker": {
          "color": "#EF553B",
          "symbol": "circle"
         },
         "mode": "markers",
         "name": "노선명=33-1",
         "showlegend": true,
         "type": "scattergl",
         "x": [
          4,
          5,
          6,
          7,
          8,
          9,
          10,
          11,
          12,
          13,
          14,
          15,
          16,
          17,
          18,
          19,
          20,
          21,
          22,
          23
         ],
         "xaxis": "x",
         "y": [
          16,
          5,
          5,
          16,
          11,
          4,
          9,
          2,
          6,
          9,
          7,
          6,
          13,
          9,
          8,
          6,
          7,
          8,
          3,
          1
         ],
         "yaxis": "y"
        },
        {
         "hoverlabel": {
          "namelength": 0
         },
         "hovertemplate": "노선명=33-2<br>시간=%{x}<br>이용량=%{y}",
         "legendgroup": "노선명=33-2",
         "marker": {
          "color": "#00cc96",
          "symbol": "circle"
         },
         "mode": "markers",
         "name": "노선명=33-2",
         "showlegend": true,
         "type": "scattergl",
         "x": [
          8,
          12,
          18,
          19
         ],
         "xaxis": "x",
         "y": [
          2,
          2,
          1,
          1
         ],
         "yaxis": "y"
        },
        {
         "hoverlabel": {
          "namelength": 0
         },
         "hovertemplate": "노선명=33-4<br>시간=%{x}<br>이용량=%{y}",
         "legendgroup": "노선명=33-4",
         "marker": {
          "color": "#ab63fa",
          "symbol": "circle"
         },
         "mode": "markers",
         "name": "노선명=33-4",
         "showlegend": true,
         "type": "scattergl",
         "x": [
          11
         ],
         "xaxis": "x",
         "y": [
          2
         ],
         "yaxis": "y"
        },
        {
         "hoverlabel": {
          "namelength": 0
         },
         "hovertemplate": "노선명=33-53<br>시간=%{x}<br>이용량=%{y}",
         "legendgroup": "노선명=33-53",
         "marker": {
          "color": "#FFA15A",
          "symbol": "circle"
         },
         "mode": "markers",
         "name": "노선명=33-53",
         "showlegend": true,
         "type": "scattergl",
         "x": [
          10
         ],
         "xaxis": "x",
         "y": [
          1
         ],
         "yaxis": "y"
        },
        {
         "hoverlabel": {
          "namelength": 0
         },
         "hovertemplate": "노선명=330<br>시간=%{x}<br>이용량=%{y}",
         "legendgroup": "노선명=330",
         "marker": {
          "color": "#19d3f3",
          "symbol": "circle"
         },
         "mode": "markers",
         "name": "노선명=330",
         "showlegend": true,
         "type": "scattergl",
         "x": [
          4,
          5,
          7,
          8,
          9,
          10,
          11,
          12,
          13,
          14,
          15,
          16,
          17,
          18,
          19,
          20,
          21,
          22
         ],
         "xaxis": "x",
         "y": [
          3,
          1,
          3,
          3,
          5,
          2,
          1,
          1,
          6,
          4,
          2,
          3,
          6,
          8,
          3,
          5,
          10,
          2
         ],
         "yaxis": "y"
        },
        {
         "hoverlabel": {
          "namelength": 0
         },
         "hovertemplate": "노선명=3300<br>시간=%{x}<br>이용량=%{y}",
         "legendgroup": "노선명=3300",
         "marker": {
          "color": "#FF6692",
          "symbol": "circle"
         },
         "mode": "markers",
         "name": "노선명=3300",
         "showlegend": true,
         "type": "scattergl",
         "x": [
          21
         ],
         "xaxis": "x",
         "y": [
          1
         ],
         "yaxis": "y"
        },
        {
         "hoverlabel": {
          "namelength": 0
         },
         "hovertemplate": "노선명=331<br>시간=%{x}<br>이용량=%{y}",
         "legendgroup": "노선명=331",
         "marker": {
          "color": "#B6E880",
          "symbol": "circle"
         },
         "mode": "markers",
         "name": "노선명=331",
         "showlegend": true,
         "type": "scattergl",
         "x": [
          4,
          6,
          7,
          10,
          14,
          16,
          17,
          18,
          19,
          20
         ],
         "xaxis": "x",
         "y": [
          1,
          2,
          1,
          1,
          1,
          1,
          2,
          2,
          2,
          3
         ],
         "yaxis": "y"
        },
        {
         "hoverlabel": {
          "namelength": 0
         },
         "hovertemplate": "노선명=333<br>시간=%{x}<br>이용량=%{y}",
         "legendgroup": "노선명=333",
         "marker": {
          "color": "#FF97FF",
          "symbol": "circle"
         },
         "mode": "markers",
         "name": "노선명=333",
         "showlegend": true,
         "type": "scattergl",
         "x": [
          6,
          7,
          8,
          9,
          10,
          11,
          12,
          13,
          14,
          15,
          17,
          18,
          19,
          20,
          22
         ],
         "xaxis": "x",
         "y": [
          2,
          5,
          5,
          4,
          1,
          1,
          5,
          4,
          2,
          2,
          8,
          2,
          2,
          2,
          1
         ],
         "yaxis": "y"
        },
        {
         "hoverlabel": {
          "namelength": 0
         },
         "hovertemplate": "노선명=3330<br>시간=%{x}<br>이용량=%{y}",
         "legendgroup": "노선명=3330",
         "marker": {
          "color": "#FECB52",
          "symbol": "circle"
         },
         "mode": "markers",
         "name": "노선명=3330",
         "showlegend": true,
         "type": "scattergl",
         "x": [
          5,
          6,
          7,
          8,
          9,
          10,
          11,
          12,
          14,
          15,
          16,
          17,
          18,
          19,
          20,
          21,
          22,
          23
         ],
         "xaxis": "x",
         "y": [
          1,
          2,
          3,
          3,
          1,
          4,
          4,
          1,
          2,
          2,
          7,
          5,
          8,
          4,
          3,
          5,
          5,
          1
         ],
         "yaxis": "y"
        },
        {
         "hoverlabel": {
          "namelength": 0
         },
         "hovertemplate": "노선명=34<br>시간=%{x}<br>이용량=%{y}",
         "legendgroup": "노선명=34",
         "marker": {
          "color": "#636efa",
          "symbol": "circle"
         },
         "mode": "markers",
         "name": "노선명=34",
         "showlegend": true,
         "type": "scattergl",
         "x": [
          5,
          6,
          7,
          8,
          9,
          10,
          11,
          12,
          13,
          14,
          15,
          16,
          17,
          18,
          19,
          20,
          21,
          22,
          23
         ],
         "xaxis": "x",
         "y": [
          164,
          238,
          380,
          360,
          170,
          149,
          142,
          206,
          232,
          250,
          187,
          263,
          315,
          371,
          194,
          171,
          194,
          163,
          91
         ],
         "yaxis": "y"
        },
        {
         "hoverlabel": {
          "namelength": 0
         },
         "hovertemplate": "노선명=34-1<br>시간=%{x}<br>이용량=%{y}",
         "legendgroup": "노선명=34-1",
         "marker": {
          "color": "#EF553B",
          "symbol": "circle"
         },
         "mode": "markers",
         "name": "노선명=34-1",
         "showlegend": true,
         "type": "scattergl",
         "x": [
          5,
          6,
          7,
          8,
          9,
          10,
          11,
          12,
          13,
          14,
          15,
          16,
          17,
          18,
          19,
          20,
          21,
          22,
          23
         ],
         "xaxis": "x",
         "y": [
          64,
          263,
          509,
          504,
          321,
          150,
          191,
          254,
          341,
          234,
          270,
          295,
          531,
          569,
          343,
          249,
          271,
          246,
          76
         ],
         "yaxis": "y"
        },
        {
         "hoverlabel": {
          "namelength": 0
         },
         "hovertemplate": "노선명=340<br>시간=%{x}<br>이용량=%{y}",
         "legendgroup": "노선명=340",
         "marker": {
          "color": "#00cc96",
          "symbol": "circle"
         },
         "mode": "markers",
         "name": "노선명=340",
         "showlegend": true,
         "type": "scattergl",
         "x": [
          5,
          6,
          7,
          8,
          9,
          10,
          11,
          12,
          13,
          14,
          15,
          16,
          17,
          18,
          19,
          20,
          21
         ],
         "xaxis": "x",
         "y": [
          2,
          12,
          26,
          51,
          3,
          7,
          8,
          1,
          9,
          3,
          1,
          9,
          22,
          12,
          6,
          8,
          1
         ],
         "yaxis": "y"
        },
        {
         "hoverlabel": {
          "namelength": 0
         },
         "hovertemplate": "노선명=340-1<br>시간=%{x}<br>이용량=%{y}",
         "legendgroup": "노선명=340-1",
         "marker": {
          "color": "#ab63fa",
          "symbol": "circle"
         },
         "mode": "markers",
         "name": "노선명=340-1",
         "showlegend": true,
         "type": "scattergl",
         "x": [
          5,
          6,
          7,
          8,
          9,
          11,
          13,
          15,
          17,
          18,
          19,
          20,
          21
         ],
         "xaxis": "x",
         "y": [
          1,
          3,
          1,
          2,
          1,
          1,
          1,
          2,
          3,
          3,
          4,
          4,
          1
         ],
         "yaxis": "y"
        },
        {
         "hoverlabel": {
          "namelength": 0
         },
         "hovertemplate": "노선명=3400<br>시간=%{x}<br>이용량=%{y}",
         "legendgroup": "노선명=3400",
         "marker": {
          "color": "#FFA15A",
          "symbol": "circle"
         },
         "mode": "markers",
         "name": "노선명=3400",
         "showlegend": true,
         "type": "scattergl",
         "x": [
          21
         ],
         "xaxis": "x",
         "y": [
          1
         ],
         "yaxis": "y"
        },
        {
         "hoverlabel": {
          "namelength": 0
         },
         "hovertemplate": "노선명=35<br>시간=%{x}<br>이용량=%{y}",
         "legendgroup": "노선명=35",
         "marker": {
          "color": "#19d3f3",
          "symbol": "circle"
         },
         "mode": "markers",
         "name": "노선명=35",
         "showlegend": true,
         "type": "scattergl",
         "x": [
          5,
          6,
          7,
          8,
          9,
          10,
          11,
          12,
          13,
          14,
          15,
          16,
          17,
          18,
          19,
          20,
          21,
          22,
          23
         ],
         "xaxis": "x",
         "y": [
          67,
          257,
          479,
          415,
          271,
          270,
          267,
          318,
          397,
          281,
          335,
          324,
          419,
          434,
          251,
          270,
          199,
          156,
          38
         ],
         "yaxis": "y"
        },
        {
         "hoverlabel": {
          "namelength": 0
         },
         "hovertemplate": "노선명=35-1<br>시간=%{x}<br>이용량=%{y}",
         "legendgroup": "노선명=35-1",
         "marker": {
          "color": "#FF6692",
          "symbol": "circle"
         },
         "mode": "markers",
         "name": "노선명=35-1",
         "showlegend": true,
         "type": "scattergl",
         "x": [
          18
         ],
         "xaxis": "x",
         "y": [
          2
         ],
         "yaxis": "y"
        },
        {
         "hoverlabel": {
          "namelength": 0
         },
         "hovertemplate": "노선명=35-2<br>시간=%{x}<br>이용량=%{y}",
         "legendgroup": "노선명=35-2",
         "marker": {
          "color": "#B6E880",
          "symbol": "circle"
         },
         "mode": "markers",
         "name": "노선명=35-2",
         "showlegend": true,
         "type": "scattergl",
         "x": [
          18
         ],
         "xaxis": "x",
         "y": [
          2
         ],
         "yaxis": "y"
        },
        {
         "hoverlabel": {
          "namelength": 0
         },
         "hovertemplate": "노선명=35-21<br>시간=%{x}<br>이용량=%{y}",
         "legendgroup": "노선명=35-21",
         "marker": {
          "color": "#FF97FF",
          "symbol": "circle"
         },
         "mode": "markers",
         "name": "노선명=35-21",
         "showlegend": true,
         "type": "scattergl",
         "x": [
          18
         ],
         "xaxis": "x",
         "y": [
          2
         ],
         "yaxis": "y"
        },
        {
         "hoverlabel": {
          "namelength": 0
         },
         "hovertemplate": "노선명=350<br>시간=%{x}<br>이용량=%{y}",
         "legendgroup": "노선명=350",
         "marker": {
          "color": "#FECB52",
          "symbol": "circle"
         },
         "mode": "markers",
         "name": "노선명=350",
         "showlegend": true,
         "type": "scattergl",
         "x": [
          4,
          5,
          6,
          7,
          8,
          9,
          12,
          13,
          14,
          15,
          16,
          17,
          18,
          19,
          20,
          21,
          22,
          23
         ],
         "xaxis": "x",
         "y": [
          1,
          1,
          4,
          6,
          3,
          1,
          3,
          1,
          1,
          1,
          2,
          7,
          10,
          5,
          4,
          2,
          4,
          1
         ],
         "yaxis": "y"
        },
        {
         "hoverlabel": {
          "namelength": 0
         },
         "hovertemplate": "노선명=3500<br>시간=%{x}<br>이용량=%{y}",
         "legendgroup": "노선명=3500",
         "marker": {
          "color": "#636efa",
          "symbol": "circle"
         },
         "mode": "markers",
         "name": "노선명=3500",
         "showlegend": true,
         "type": "scattergl",
         "x": [
          7,
          13,
          14,
          15,
          17,
          18,
          19,
          20,
          21,
          22
         ],
         "xaxis": "x",
         "y": [
          2,
          1,
          1,
          2,
          2,
          1,
          2,
          3,
          2,
          2
         ],
         "yaxis": "y"
        },
        {
         "hoverlabel": {
          "namelength": 0
         },
         "hovertemplate": "노선명=357<br>시간=%{x}<br>이용량=%{y}",
         "legendgroup": "노선명=357",
         "marker": {
          "color": "#EF553B",
          "symbol": "circle"
         },
         "mode": "markers",
         "name": "노선명=357",
         "showlegend": true,
         "type": "scattergl",
         "x": [
          17
         ],
         "xaxis": "x",
         "y": [
          1
         ],
         "yaxis": "y"
        },
        {
         "hoverlabel": {
          "namelength": 0
         },
         "hovertemplate": "노선명=36<br>시간=%{x}<br>이용량=%{y}",
         "legendgroup": "노선명=36",
         "marker": {
          "color": "#00cc96",
          "symbol": "circle"
         },
         "mode": "markers",
         "name": "노선명=36",
         "showlegend": true,
         "type": "scattergl",
         "x": [
          4,
          5,
          6,
          8,
          9,
          12,
          13,
          15,
          16,
          17
         ],
         "xaxis": "x",
         "y": [
          1,
          1,
          4,
          5,
          1,
          1,
          1,
          1,
          2,
          2
         ],
         "yaxis": "y"
        },
        {
         "hoverlabel": {
          "namelength": 0
         },
         "hovertemplate": "노선명=36-14<br>시간=%{x}<br>이용량=%{y}",
         "legendgroup": "노선명=36-14",
         "marker": {
          "color": "#ab63fa",
          "symbol": "circle"
         },
         "mode": "markers",
         "name": "노선명=36-14",
         "showlegend": true,
         "type": "scattergl",
         "x": [
          17
         ],
         "xaxis": "x",
         "y": [
          1
         ],
         "yaxis": "y"
        },
        {
         "hoverlabel": {
          "namelength": 0
         },
         "hovertemplate": "노선명=36-7<br>시간=%{x}<br>이용량=%{y}",
         "legendgroup": "노선명=36-7",
         "marker": {
          "color": "#FFA15A",
          "symbol": "circle"
         },
         "mode": "markers",
         "name": "노선명=36-7",
         "showlegend": true,
         "type": "scattergl",
         "x": [
          13
         ],
         "xaxis": "x",
         "y": [
          1
         ],
         "yaxis": "y"
        },
        {
         "hoverlabel": {
          "namelength": 0
         },
         "hovertemplate": "노선명=3600<br>시간=%{x}<br>이용량=%{y}",
         "legendgroup": "노선명=3600",
         "marker": {
          "color": "#19d3f3",
          "symbol": "circle"
         },
         "mode": "markers",
         "name": "노선명=3600",
         "showlegend": true,
         "type": "scattergl",
         "x": [
          21
         ],
         "xaxis": "x",
         "y": [
          1
         ],
         "yaxis": "y"
        },
        {
         "hoverlabel": {
          "namelength": 0
         },
         "hovertemplate": "노선명=37<br>시간=%{x}<br>이용량=%{y}",
         "legendgroup": "노선명=37",
         "marker": {
          "color": "#FF6692",
          "symbol": "circle"
         },
         "mode": "markers",
         "name": "노선명=37",
         "showlegend": true,
         "type": "scattergl",
         "x": [
          4,
          5,
          6,
          7,
          8,
          9,
          10,
          11,
          12,
          13,
          14,
          15,
          16,
          17,
          18,
          19,
          20,
          21,
          22,
          23
         ],
         "xaxis": "x",
         "y": [
          2,
          48,
          50,
          116,
          128,
          66,
          40,
          52,
          78,
          64,
          73,
          56,
          90,
          126,
          96,
          58,
          44,
          40,
          10,
          8
         ],
         "yaxis": "y"
        },
        {
         "hoverlabel": {
          "namelength": 0
         },
         "hovertemplate": "노선명=37-1<br>시간=%{x}<br>이용량=%{y}",
         "legendgroup": "노선명=37-1",
         "marker": {
          "color": "#B6E880",
          "symbol": "circle"
         },
         "mode": "markers",
         "name": "노선명=37-1",
         "showlegend": true,
         "type": "scattergl",
         "x": [
          18
         ],
         "xaxis": "x",
         "y": [
          1
         ],
         "yaxis": "y"
        },
        {
         "hoverlabel": {
          "namelength": 0
         },
         "hovertemplate": "노선명=37-3<br>시간=%{x}<br>이용량=%{y}",
         "legendgroup": "노선명=37-3",
         "marker": {
          "color": "#FF97FF",
          "symbol": "circle"
         },
         "mode": "markers",
         "name": "노선명=37-3",
         "showlegend": true,
         "type": "scattergl",
         "x": [
          14
         ],
         "xaxis": "x",
         "y": [
          1
         ],
         "yaxis": "y"
        },
        {
         "hoverlabel": {
          "namelength": 0
         },
         "hovertemplate": "노선명=370<br>시간=%{x}<br>이용량=%{y}",
         "legendgroup": "노선명=370",
         "marker": {
          "color": "#FECB52",
          "symbol": "circle"
         },
         "mode": "markers",
         "name": "노선명=370",
         "showlegend": true,
         "type": "scattergl",
         "x": [
          7,
          11,
          12,
          14,
          15,
          19,
          20,
          21,
          22
         ],
         "xaxis": "x",
         "y": [
          1,
          2,
          1,
          1,
          2,
          1,
          1,
          2,
          1
         ],
         "yaxis": "y"
        },
        {
         "hoverlabel": {
          "namelength": 0
         },
         "hovertemplate": "노선명=38<br>시간=%{x}<br>이용량=%{y}",
         "legendgroup": "노선명=38",
         "marker": {
          "color": "#636efa",
          "symbol": "circle"
         },
         "mode": "markers",
         "name": "노선명=38",
         "showlegend": true,
         "type": "scattergl",
         "x": [
          5,
          6,
          7,
          8,
          9,
          10,
          11,
          12,
          13,
          14,
          15,
          16,
          17,
          18,
          19,
          20,
          21,
          22,
          23
         ],
         "xaxis": "x",
         "y": [
          5,
          24,
          50,
          39,
          42,
          29,
          20,
          28,
          39,
          34,
          19,
          32,
          49,
          50,
          33,
          43,
          33,
          17,
          7
         ],
         "yaxis": "y"
        },
        {
         "hoverlabel": {
          "namelength": 0
         },
         "hovertemplate": "노선명=38-1<br>시간=%{x}<br>이용량=%{y}",
         "legendgroup": "노선명=38-1",
         "marker": {
          "color": "#EF553B",
          "symbol": "circle"
         },
         "mode": "markers",
         "name": "노선명=38-1",
         "showlegend": true,
         "type": "scattergl",
         "x": [
          5,
          6,
          7,
          8,
          9,
          10,
          11,
          12,
          13,
          14,
          15,
          16,
          17,
          18,
          19,
          20,
          21,
          22
         ],
         "xaxis": "x",
         "y": [
          3,
          6,
          17,
          2,
          3,
          4,
          2,
          9,
          6,
          3,
          8,
          4,
          5,
          10,
          1,
          1,
          7,
          1
         ],
         "yaxis": "y"
        },
        {
         "hoverlabel": {
          "namelength": 0
         },
         "hovertemplate": "노선명=38-2<br>시간=%{x}<br>이용량=%{y}",
         "legendgroup": "노선명=38-2",
         "marker": {
          "color": "#00cc96",
          "symbol": "circle"
         },
         "mode": "markers",
         "name": "노선명=38-2",
         "showlegend": true,
         "type": "scattergl",
         "x": [
          5,
          6,
          7,
          8,
          9,
          10,
          11,
          12,
          13,
          14,
          15,
          16,
          17,
          18,
          19,
          20,
          21,
          22,
          23
         ],
         "xaxis": "x",
         "y": [
          4,
          5,
          11,
          11,
          5,
          5,
          6,
          6,
          8,
          6,
          7,
          11,
          16,
          3,
          2,
          11,
          4,
          1,
          2
         ],
         "yaxis": "y"
        },
        {
         "hoverlabel": {
          "namelength": 0
         },
         "hovertemplate": "노선명=38-22<br>시간=%{x}<br>이용량=%{y}",
         "legendgroup": "노선명=38-22",
         "marker": {
          "color": "#ab63fa",
          "symbol": "circle"
         },
         "mode": "markers",
         "name": "노선명=38-22",
         "showlegend": true,
         "type": "scattergl",
         "x": [
          21
         ],
         "xaxis": "x",
         "y": [
          1
         ],
         "yaxis": "y"
        },
        {
         "hoverlabel": {
          "namelength": 0
         },
         "hovertemplate": "노선명=38-43<br>시간=%{x}<br>이용량=%{y}",
         "legendgroup": "노선명=38-43",
         "marker": {
          "color": "#FFA15A",
          "symbol": "circle"
         },
         "mode": "markers",
         "name": "노선명=38-43",
         "showlegend": true,
         "type": "scattergl",
         "x": [
          6
         ],
         "xaxis": "x",
         "y": [
          1
         ],
         "yaxis": "y"
        },
        {
         "hoverlabel": {
          "namelength": 0
         },
         "hovertemplate": "노선명=38-85<br>시간=%{x}<br>이용량=%{y}",
         "legendgroup": "노선명=38-85",
         "marker": {
          "color": "#19d3f3",
          "symbol": "circle"
         },
         "mode": "markers",
         "name": "노선명=38-85",
         "showlegend": true,
         "type": "scattergl",
         "x": [
          9
         ],
         "xaxis": "x",
         "y": [
          1
         ],
         "yaxis": "y"
        },
        {
         "hoverlabel": {
          "namelength": 0
         },
         "hovertemplate": "노선명=380<br>시간=%{x}<br>이용량=%{y}",
         "legendgroup": "노선명=380",
         "marker": {
          "color": "#FF6692",
          "symbol": "circle"
         },
         "mode": "markers",
         "name": "노선명=380",
         "showlegend": true,
         "type": "scattergl",
         "x": [
          4,
          6,
          7,
          8,
          9,
          10,
          11,
          12,
          14,
          15,
          16,
          18,
          20,
          21,
          22
         ],
         "xaxis": "x",
         "y": [
          1,
          1,
          1,
          1,
          1,
          1,
          1,
          2,
          1,
          2,
          1,
          3,
          2,
          1,
          1
         ],
         "yaxis": "y"
        },
        {
         "hoverlabel": {
          "namelength": 0
         },
         "hovertemplate": "노선명=388<br>시간=%{x}<br>이용량=%{y}",
         "legendgroup": "노선명=388",
         "marker": {
          "color": "#B6E880",
          "symbol": "circle"
         },
         "mode": "markers",
         "name": "노선명=388",
         "showlegend": true,
         "type": "scattergl",
         "x": [
          4,
          5,
          6,
          7,
          8,
          9,
          10,
          11,
          15,
          16,
          17,
          18,
          19,
          20,
          21
         ],
         "xaxis": "x",
         "y": [
          1,
          2,
          9,
          2,
          1,
          2,
          2,
          1,
          3,
          2,
          2,
          6,
          1,
          1,
          1
         ],
         "yaxis": "y"
        },
        {
         "hoverlabel": {
          "namelength": 0
         },
         "hovertemplate": "노선명=39<br>시간=%{x}<br>이용량=%{y}",
         "legendgroup": "노선명=39",
         "marker": {
          "color": "#FF97FF",
          "symbol": "circle"
         },
         "mode": "markers",
         "name": "노선명=39",
         "showlegend": true,
         "type": "scattergl",
         "x": [
          7,
          8,
          17
         ],
         "xaxis": "x",
         "y": [
          1,
          1,
          1
         ],
         "yaxis": "y"
        },
        {
         "hoverlabel": {
          "namelength": 0
         },
         "hovertemplate": "노선명=390<br>시간=%{x}<br>이용량=%{y}",
         "legendgroup": "노선명=390",
         "marker": {
          "color": "#FECB52",
          "symbol": "circle"
         },
         "mode": "markers",
         "name": "노선명=390",
         "showlegend": true,
         "type": "scattergl",
         "x": [
          5,
          6,
          7,
          8,
          9,
          11,
          12,
          13,
          14,
          15,
          16,
          17,
          18,
          19,
          20,
          21,
          22,
          23
         ],
         "xaxis": "x",
         "y": [
          3,
          1,
          5,
          6,
          9,
          2,
          6,
          6,
          4,
          6,
          1,
          8,
          14,
          6,
          8,
          8,
          3,
          1
         ],
         "yaxis": "y"
        },
        {
         "hoverlabel": {
          "namelength": 0
         },
         "hovertemplate": "노선명=4<br>시간=%{x}<br>이용량=%{y}",
         "legendgroup": "노선명=4",
         "marker": {
          "color": "#636efa",
          "symbol": "circle"
         },
         "mode": "markers",
         "name": "노선명=4",
         "showlegend": true,
         "type": "scattergl",
         "x": [
          9,
          21
         ],
         "xaxis": "x",
         "y": [
          1,
          1
         ],
         "yaxis": "y"
        },
        {
         "hoverlabel": {
          "namelength": 0
         },
         "hovertemplate": "노선명=4-1<br>시간=%{x}<br>이용량=%{y}",
         "legendgroup": "노선명=4-1",
         "marker": {
          "color": "#EF553B",
          "symbol": "circle"
         },
         "mode": "markers",
         "name": "노선명=4-1",
         "showlegend": true,
         "type": "scattergl",
         "x": [
          4,
          5,
          6,
          7,
          8,
          9,
          10,
          11,
          12,
          13,
          14,
          15,
          16,
          17,
          18,
          19,
          20,
          21,
          22,
          23
         ],
         "xaxis": "x",
         "y": [
          1,
          13,
          19,
          12,
          20,
          22,
          9,
          28,
          12,
          16,
          12,
          12,
          13,
          30,
          7,
          9,
          11,
          18,
          9,
          1
         ],
         "yaxis": "y"
        },
        {
         "hoverlabel": {
          "namelength": 0
         },
         "hovertemplate": "노선명=400<br>시간=%{x}<br>이용량=%{y}",
         "legendgroup": "노선명=400",
         "marker": {
          "color": "#00cc96",
          "symbol": "circle"
         },
         "mode": "markers",
         "name": "노선명=400",
         "showlegend": true,
         "type": "scattergl",
         "x": [
          4,
          5,
          6,
          7,
          8,
          9,
          10,
          11,
          12,
          13,
          14,
          15,
          16,
          17,
          18,
          19,
          20,
          21,
          22,
          23
         ],
         "xaxis": "x",
         "y": [
          5,
          18,
          22,
          29,
          24,
          22,
          15,
          14,
          25,
          10,
          12,
          22,
          25,
          41,
          42,
          14,
          26,
          34,
          23,
          7
         ],
         "yaxis": "y"
        },
        {
         "hoverlabel": {
          "namelength": 0
         },
         "hovertemplate": "노선명=400-2<br>시간=%{x}<br>이용량=%{y}",
         "legendgroup": "노선명=400-2",
         "marker": {
          "color": "#ab63fa",
          "symbol": "circle"
         },
         "mode": "markers",
         "name": "노선명=400-2",
         "showlegend": true,
         "type": "scattergl",
         "x": [
          5,
          6,
          7,
          8,
          9,
          11,
          12,
          13,
          14,
          15,
          16,
          17,
          18,
          19,
          20,
          21,
          22
         ],
         "xaxis": "x",
         "y": [
          8,
          7,
          9,
          16,
          3,
          4,
          9,
          7,
          6,
          3,
          11,
          9,
          18,
          8,
          7,
          3,
          4
         ],
         "yaxis": "y"
        },
        {
         "hoverlabel": {
          "namelength": 0
         },
         "hovertemplate": "노선명=400-4<br>시간=%{x}<br>이용량=%{y}",
         "legendgroup": "노선명=400-4",
         "marker": {
          "color": "#FFA15A",
          "symbol": "circle"
         },
         "mode": "markers",
         "name": "노선명=400-4",
         "showlegend": true,
         "type": "scattergl",
         "x": [
          5,
          6,
          7,
          8,
          9,
          10,
          11,
          12,
          13,
          14,
          15,
          16,
          17,
          18,
          19,
          20,
          21,
          22,
          23
         ],
         "xaxis": "x",
         "y": [
          6,
          23,
          18,
          14,
          10,
          4,
          9,
          16,
          3,
          11,
          15,
          12,
          43,
          15,
          19,
          17,
          8,
          3,
          1
         ],
         "yaxis": "y"
        },
        {
         "hoverlabel": {
          "namelength": 0
         },
         "hovertemplate": "노선명=400-5<br>시간=%{x}<br>이용량=%{y}",
         "legendgroup": "노선명=400-5",
         "marker": {
          "color": "#19d3f3",
          "symbol": "circle"
         },
         "mode": "markers",
         "name": "노선명=400-5",
         "showlegend": true,
         "type": "scattergl",
         "x": [
          6,
          9,
          12,
          14,
          15,
          16,
          17,
          19
         ],
         "xaxis": "x",
         "y": [
          1,
          2,
          1,
          2,
          4,
          4,
          1,
          3
         ],
         "yaxis": "y"
        },
        {
         "hoverlabel": {
          "namelength": 0
         },
         "hovertemplate": "노선명=4000<br>시간=%{x}<br>이용량=%{y}",
         "legendgroup": "노선명=4000",
         "marker": {
          "color": "#FF6692",
          "symbol": "circle"
         },
         "mode": "markers",
         "name": "노선명=4000",
         "showlegend": true,
         "type": "scattergl",
         "x": [
          5,
          6,
          7,
          8,
          10,
          11,
          12,
          15,
          16,
          17,
          18,
          19,
          20,
          21,
          22
         ],
         "xaxis": "x",
         "y": [
          6,
          2,
          4,
          4,
          2,
          2,
          4,
          2,
          4,
          8,
          20,
          12,
          14,
          18,
          4
         ],
         "yaxis": "y"
        },
        {
         "hoverlabel": {
          "namelength": 0
         },
         "hovertemplate": "노선명=42<br>시간=%{x}<br>이용량=%{y}",
         "legendgroup": "노선명=42",
         "marker": {
          "color": "#B6E880",
          "symbol": "circle"
         },
         "mode": "markers",
         "name": "노선명=42",
         "showlegend": true,
         "type": "scattergl",
         "x": [
          5,
          6,
          7,
          8,
          9,
          10,
          11,
          12,
          13,
          14,
          15,
          16,
          17,
          18,
          19,
          20,
          21,
          22,
          23
         ],
         "xaxis": "x",
         "y": [
          108,
          300,
          646,
          456,
          316,
          266,
          264,
          340,
          350,
          362,
          272,
          418,
          668,
          562,
          408,
          294,
          270,
          282,
          112
         ],
         "yaxis": "y"
        },
        {
         "hoverlabel": {
          "namelength": 0
         },
         "hovertemplate": "노선명=4403<br>시간=%{x}<br>이용량=%{y}",
         "legendgroup": "노선명=4403",
         "marker": {
          "color": "#FF97FF",
          "symbol": "circle"
         },
         "mode": "markers",
         "name": "노선명=4403",
         "showlegend": true,
         "type": "scattergl",
         "x": [
          7,
          15,
          18,
          21
         ],
         "xaxis": "x",
         "y": [
          1,
          1,
          3,
          4
         ],
         "yaxis": "y"
        },
        {
         "hoverlabel": {
          "namelength": 0
         },
         "hovertemplate": "노선명=45<br>시간=%{x}<br>이용량=%{y}",
         "legendgroup": "노선명=45",
         "marker": {
          "color": "#FECB52",
          "symbol": "circle"
         },
         "mode": "markers",
         "name": "노선명=45",
         "showlegend": true,
         "type": "scattergl",
         "x": [
          5,
          6,
          7,
          8,
          9,
          10,
          11,
          12,
          13,
          14,
          15,
          16,
          17,
          18,
          19,
          20,
          21,
          22
         ],
         "xaxis": "x",
         "y": [
          8,
          8,
          20,
          8,
          5,
          4,
          6,
          2,
          9,
          7,
          2,
          8,
          2,
          7,
          1,
          9,
          6,
          8
         ],
         "yaxis": "y"
        },
        {
         "hoverlabel": {
          "namelength": 0
         },
         "hovertemplate": "노선명=46<br>시간=%{x}<br>이용량=%{y}",
         "legendgroup": "노선명=46",
         "marker": {
          "color": "#636efa",
          "symbol": "circle"
         },
         "mode": "markers",
         "name": "노선명=46",
         "showlegend": true,
         "type": "scattergl",
         "x": [
          4,
          5,
          6,
          7,
          8,
          9,
          10,
          11,
          12,
          13,
          14,
          15,
          16,
          17,
          18,
          19,
          20,
          21,
          22,
          23
         ],
         "xaxis": "x",
         "y": [
          4,
          38,
          103,
          245,
          195,
          101,
          83,
          101,
          116,
          109,
          114,
          98,
          134,
          197,
          130,
          97,
          69,
          87,
          54,
          20
         ],
         "yaxis": "y"
        },
        {
         "hoverlabel": {
          "namelength": 0
         },
         "hovertemplate": "노선명=5<br>시간=%{x}<br>이용량=%{y}",
         "legendgroup": "노선명=5",
         "marker": {
          "color": "#EF553B",
          "symbol": "circle"
         },
         "mode": "markers",
         "name": "노선명=5",
         "showlegend": true,
         "type": "scattergl",
         "x": [
          4,
          5,
          6,
          7,
          8,
          9,
          10,
          11,
          12,
          13,
          14,
          15,
          16,
          17,
          18,
          19,
          20,
          21,
          22,
          23
         ],
         "xaxis": "x",
         "y": [
          19,
          267,
          274,
          699,
          681,
          411,
          269,
          271,
          347,
          487,
          294,
          331,
          359,
          542,
          517,
          372,
          316,
          276,
          242,
          156
         ],
         "yaxis": "y"
        },
        {
         "hoverlabel": {
          "namelength": 0
         },
         "hovertemplate": "노선명=5-1<br>시간=%{x}<br>이용량=%{y}",
         "legendgroup": "노선명=5-1",
         "marker": {
          "color": "#00cc96",
          "symbol": "circle"
         },
         "mode": "markers",
         "name": "노선명=5-1",
         "showlegend": true,
         "type": "scattergl",
         "x": [
          5,
          6,
          7,
          8,
          9,
          10,
          11,
          12,
          13,
          14,
          15,
          16,
          17,
          18,
          19,
          20,
          21,
          22,
          23
         ],
         "xaxis": "x",
         "y": [
          36,
          59,
          137,
          130,
          68,
          21,
          40,
          63,
          53,
          79,
          61,
          82,
          131,
          129,
          59,
          76,
          64,
          35,
          19
         ],
         "yaxis": "y"
        },
        {
         "hoverlabel": {
          "namelength": 0
         },
         "hovertemplate": "노선명=5-2<br>시간=%{x}<br>이용량=%{y}",
         "legendgroup": "노선명=5-2",
         "marker": {
          "color": "#ab63fa",
          "symbol": "circle"
         },
         "mode": "markers",
         "name": "노선명=5-2",
         "showlegend": true,
         "type": "scattergl",
         "x": [
          4,
          5,
          6,
          7,
          8,
          9,
          10,
          11,
          12,
          13,
          14,
          15,
          16,
          17,
          18,
          19,
          20,
          21,
          22,
          23
         ],
         "xaxis": "x",
         "y": [
          6,
          42,
          23,
          118,
          98,
          57,
          18,
          24,
          31,
          78,
          35,
          25,
          91,
          52,
          81,
          41,
          67,
          94,
          58,
          23
         ],
         "yaxis": "y"
        },
        {
         "hoverlabel": {
          "namelength": 0
         },
         "hovertemplate": "노선명=5-3<br>시간=%{x}<br>이용량=%{y}",
         "legendgroup": "노선명=5-3",
         "marker": {
          "color": "#FFA15A",
          "symbol": "circle"
         },
         "mode": "markers",
         "name": "노선명=5-3",
         "showlegend": true,
         "type": "scattergl",
         "x": [
          6,
          10
         ],
         "xaxis": "x",
         "y": [
          1,
          1
         ],
         "yaxis": "y"
        },
        {
         "hoverlabel": {
          "namelength": 0
         },
         "hovertemplate": "노선명=5-4<br>시간=%{x}<br>이용량=%{y}",
         "legendgroup": "노선명=5-4",
         "marker": {
          "color": "#19d3f3",
          "symbol": "circle"
         },
         "mode": "markers",
         "name": "노선명=5-4",
         "showlegend": true,
         "type": "scattergl",
         "x": [
          6,
          8,
          9,
          12,
          13,
          14,
          15,
          16,
          17,
          19,
          20,
          21
         ],
         "xaxis": "x",
         "y": [
          3,
          3,
          1,
          1,
          2,
          2,
          1,
          3,
          4,
          2,
          2,
          1
         ],
         "yaxis": "y"
        },
        {
         "hoverlabel": {
          "namelength": 0
         },
         "hovertemplate": "노선명=50<br>시간=%{x}<br>이용량=%{y}",
         "legendgroup": "노선명=50",
         "marker": {
          "color": "#FF6692",
          "symbol": "circle"
         },
         "mode": "markers",
         "name": "노선명=50",
         "showlegend": true,
         "type": "scattergl",
         "x": [
          5,
          6,
          7,
          8,
          9,
          10,
          11,
          12,
          13,
          14,
          15,
          16,
          17,
          18,
          19,
          20,
          21,
          22
         ],
         "xaxis": "x",
         "y": [
          3,
          22,
          49,
          58,
          18,
          6,
          21,
          19,
          30,
          16,
          5,
          18,
          20,
          43,
          10,
          20,
          27,
          1
         ],
         "yaxis": "y"
        },
        {
         "hoverlabel": {
          "namelength": 0
         },
         "hovertemplate": "노선명=50-1<br>시간=%{x}<br>이용량=%{y}",
         "legendgroup": "노선명=50-1",
         "marker": {
          "color": "#B6E880",
          "symbol": "circle"
         },
         "mode": "markers",
         "name": "노선명=50-1",
         "showlegend": true,
         "type": "scattergl",
         "x": [
          6
         ],
         "xaxis": "x",
         "y": [
          1
         ],
         "yaxis": "y"
        },
        {
         "hoverlabel": {
          "namelength": 0
         },
         "hovertemplate": "노선명=50-2<br>시간=%{x}<br>이용량=%{y}",
         "legendgroup": "노선명=50-2",
         "marker": {
          "color": "#FF97FF",
          "symbol": "circle"
         },
         "mode": "markers",
         "name": "노선명=50-2",
         "showlegend": true,
         "type": "scattergl",
         "x": [
          6,
          7,
          8,
          9,
          10,
          11,
          13,
          14,
          15,
          16,
          17,
          18,
          22
         ],
         "xaxis": "x",
         "y": [
          1,
          3,
          1,
          1,
          1,
          6,
          3,
          1,
          1,
          1,
          1,
          5,
          1
         ],
         "yaxis": "y"
        },
        {
         "hoverlabel": {
          "namelength": 0
         },
         "hovertemplate": "노선명=50-3<br>시간=%{x}<br>이용량=%{y}",
         "legendgroup": "노선명=50-3",
         "marker": {
          "color": "#FECB52",
          "symbol": "circle"
         },
         "mode": "markers",
         "name": "노선명=50-3",
         "showlegend": true,
         "type": "scattergl",
         "x": [
          6,
          7
         ],
         "xaxis": "x",
         "y": [
          1,
          3
         ],
         "yaxis": "y"
        },
        {
         "hoverlabel": {
          "namelength": 0
         },
         "hovertemplate": "노선명=50-4<br>시간=%{x}<br>이용량=%{y}",
         "legendgroup": "노선명=50-4",
         "marker": {
          "color": "#636efa",
          "symbol": "circle"
         },
         "mode": "markers",
         "name": "노선명=50-4",
         "showlegend": true,
         "type": "scattergl",
         "x": [
          10
         ],
         "xaxis": "x",
         "y": [
          1
         ],
         "yaxis": "y"
        },
        {
         "hoverlabel": {
          "namelength": 0
         },
         "hovertemplate": "노선명=50-5<br>시간=%{x}<br>이용량=%{y}",
         "legendgroup": "노선명=50-5",
         "marker": {
          "color": "#EF553B",
          "symbol": "circle"
         },
         "mode": "markers",
         "name": "노선명=50-5",
         "showlegend": true,
         "type": "scattergl",
         "x": [
          7,
          8,
          11,
          12,
          13,
          14,
          15,
          16,
          18,
          19,
          20,
          21
         ],
         "xaxis": "x",
         "y": [
          5,
          5,
          4,
          1,
          2,
          1,
          1,
          4,
          5,
          2,
          4,
          2
         ],
         "yaxis": "y"
        },
        {
         "hoverlabel": {
          "namelength": 0
         },
         "hovertemplate": "노선명=50-6<br>시간=%{x}<br>이용량=%{y}",
         "legendgroup": "노선명=50-6",
         "marker": {
          "color": "#00cc96",
          "symbol": "circle"
         },
         "mode": "markers",
         "name": "노선명=50-6",
         "showlegend": true,
         "type": "scattergl",
         "x": [
          14,
          17
         ],
         "xaxis": "x",
         "y": [
          2,
          5
         ],
         "yaxis": "y"
        },
        {
         "hoverlabel": {
          "namelength": 0
         },
         "hovertemplate": "노선명=50-9<br>시간=%{x}<br>이용량=%{y}",
         "legendgroup": "노선명=50-9",
         "marker": {
          "color": "#ab63fa",
          "symbol": "circle"
         },
         "mode": "markers",
         "name": "노선명=50-9",
         "showlegend": true,
         "type": "scattergl",
         "x": [
          6,
          7
         ],
         "xaxis": "x",
         "y": [
          1,
          1
         ],
         "yaxis": "y"
        },
        {
         "hoverlabel": {
          "namelength": 0
         },
         "hovertemplate": "노선명=500<br>시간=%{x}<br>이용량=%{y}",
         "legendgroup": "노선명=500",
         "marker": {
          "color": "#FFA15A",
          "symbol": "circle"
         },
         "mode": "markers",
         "name": "노선명=500",
         "showlegend": true,
         "type": "scattergl",
         "x": [
          18
         ],
         "xaxis": "x",
         "y": [
          1
         ],
         "yaxis": "y"
        },
        {
         "hoverlabel": {
          "namelength": 0
         },
         "hovertemplate": "노선명=500-1<br>시간=%{x}<br>이용량=%{y}",
         "legendgroup": "노선명=500-1",
         "marker": {
          "color": "#19d3f3",
          "symbol": "circle"
         },
         "mode": "markers",
         "name": "노선명=500-1",
         "showlegend": true,
         "type": "scattergl",
         "x": [
          7,
          9,
          12,
          18,
          22
         ],
         "xaxis": "x",
         "y": [
          1,
          1,
          1,
          1,
          1
         ],
         "yaxis": "y"
        },
        {
         "hoverlabel": {
          "namelength": 0
         },
         "hovertemplate": "노선명=500-2<br>시간=%{x}<br>이용량=%{y}",
         "legendgroup": "노선명=500-2",
         "marker": {
          "color": "#FF6692",
          "symbol": "circle"
         },
         "mode": "markers",
         "name": "노선명=500-2",
         "showlegend": true,
         "type": "scattergl",
         "x": [
          7,
          17
         ],
         "xaxis": "x",
         "y": [
          1,
          2
         ],
         "yaxis": "y"
        },
        {
         "hoverlabel": {
          "namelength": 0
         },
         "hovertemplate": "노선명=500-5<br>시간=%{x}<br>이용량=%{y}",
         "legendgroup": "노선명=500-5",
         "marker": {
          "color": "#B6E880",
          "symbol": "circle"
         },
         "mode": "markers",
         "name": "노선명=500-5",
         "showlegend": true,
         "type": "scattergl",
         "x": [
          4,
          5,
          6,
          7,
          8,
          16,
          17,
          18,
          19,
          20
         ],
         "xaxis": "x",
         "y": [
          3,
          2,
          3,
          2,
          2,
          1,
          2,
          6,
          3,
          2
         ],
         "yaxis": "y"
        },
        {
         "hoverlabel": {
          "namelength": 0
         },
         "hovertemplate": "노선명=5000<br>시간=%{x}<br>이용량=%{y}",
         "legendgroup": "노선명=5000",
         "marker": {
          "color": "#FF97FF",
          "symbol": "circle"
         },
         "mode": "markers",
         "name": "노선명=5000",
         "showlegend": true,
         "type": "scattergl",
         "x": [
          16,
          17,
          18,
          19,
          21
         ],
         "xaxis": "x",
         "y": [
          1,
          1,
          2,
          3,
          3
         ],
         "yaxis": "y"
        },
        {
         "hoverlabel": {
          "namelength": 0
         },
         "hovertemplate": "노선명=5001<br>시간=%{x}<br>이용량=%{y}",
         "legendgroup": "노선명=5001",
         "marker": {
          "color": "#FECB52",
          "symbol": "circle"
         },
         "mode": "markers",
         "name": "노선명=5001",
         "showlegend": true,
         "type": "scattergl",
         "x": [
          21
         ],
         "xaxis": "x",
         "y": [
          1
         ],
         "yaxis": "y"
        },
        {
         "hoverlabel": {
          "namelength": 0
         },
         "hovertemplate": "노선명=5001-1<br>시간=%{x}<br>이용량=%{y}",
         "legendgroup": "노선명=5001-1",
         "marker": {
          "color": "#636efa",
          "symbol": "circle"
         },
         "mode": "markers",
         "name": "노선명=5001-1",
         "showlegend": true,
         "type": "scattergl",
         "x": [
          7,
          8,
          10,
          11,
          13,
          14,
          15,
          17,
          18,
          19,
          20,
          21,
          22
         ],
         "xaxis": "x",
         "y": [
          1,
          1,
          2,
          1,
          1,
          4,
          5,
          4,
          4,
          1,
          3,
          2,
          1
         ],
         "yaxis": "y"
        },
        {
         "hoverlabel": {
          "namelength": 0
         },
         "hovertemplate": "노선명=5003<br>시간=%{x}<br>이용량=%{y}",
         "legendgroup": "노선명=5003",
         "marker": {
          "color": "#EF553B",
          "symbol": "circle"
         },
         "mode": "markers",
         "name": "노선명=5003",
         "showlegend": true,
         "type": "scattergl",
         "x": [
          13,
          16,
          18,
          19,
          21
         ],
         "xaxis": "x",
         "y": [
          1,
          1,
          4,
          2,
          1
         ],
         "yaxis": "y"
        },
        {
         "hoverlabel": {
          "namelength": 0
         },
         "hovertemplate": "노선명=5005<br>시간=%{x}<br>이용량=%{y}",
         "legendgroup": "노선명=5005",
         "marker": {
          "color": "#00cc96",
          "symbol": "circle"
         },
         "mode": "markers",
         "name": "노선명=5005",
         "showlegend": true,
         "type": "scattergl",
         "x": [
          8,
          11,
          16,
          17,
          18,
          20,
          21
         ],
         "xaxis": "x",
         "y": [
          1,
          2,
          1,
          3,
          1,
          3,
          1
         ],
         "yaxis": "y"
        },
        {
         "hoverlabel": {
          "namelength": 0
         },
         "hovertemplate": "노선명=5006<br>시간=%{x}<br>이용량=%{y}",
         "legendgroup": "노선명=5006",
         "marker": {
          "color": "#ab63fa",
          "symbol": "circle"
         },
         "mode": "markers",
         "name": "노선명=5006",
         "showlegend": true,
         "type": "scattergl",
         "x": [
          8,
          12,
          15,
          17,
          18,
          19,
          20,
          21
         ],
         "xaxis": "x",
         "y": [
          1,
          1,
          1,
          2,
          3,
          2,
          1,
          1
         ],
         "yaxis": "y"
        },
        {
         "hoverlabel": {
          "namelength": 0
         },
         "hovertemplate": "노선명=5007<br>시간=%{x}<br>이용량=%{y}",
         "legendgroup": "노선명=5007",
         "marker": {
          "color": "#FFA15A",
          "symbol": "circle"
         },
         "mode": "markers",
         "name": "노선명=5007",
         "showlegend": true,
         "type": "scattergl",
         "x": [
          13,
          15,
          17,
          18,
          20,
          21,
          22,
          23
         ],
         "xaxis": "x",
         "y": [
          1,
          1,
          2,
          4,
          1,
          1,
          3,
          1
         ],
         "yaxis": "y"
        },
        {
         "hoverlabel": {
          "namelength": 0
         },
         "hovertemplate": "노선명=501A<br>시간=%{x}<br>이용량=%{y}",
         "legendgroup": "노선명=501A",
         "marker": {
          "color": "#19d3f3",
          "symbol": "circle"
         },
         "mode": "markers",
         "name": "노선명=501A",
         "showlegend": true,
         "type": "scattergl",
         "x": [
          8,
          12
         ],
         "xaxis": "x",
         "y": [
          1,
          1
         ],
         "yaxis": "y"
        },
        {
         "hoverlabel": {
          "namelength": 0
         },
         "hovertemplate": "노선명=501B<br>시간=%{x}<br>이용량=%{y}",
         "legendgroup": "노선명=501B",
         "marker": {
          "color": "#FF6692",
          "symbol": "circle"
         },
         "mode": "markers",
         "name": "노선명=501B",
         "showlegend": true,
         "type": "scattergl",
         "x": [
          13
         ],
         "xaxis": "x",
         "y": [
          1
         ],
         "yaxis": "y"
        },
        {
         "hoverlabel": {
          "namelength": 0
         },
         "hovertemplate": "노선명=51<br>시간=%{x}<br>이용량=%{y}",
         "legendgroup": "노선명=51",
         "marker": {
          "color": "#B6E880",
          "symbol": "circle"
         },
         "mode": "markers",
         "name": "노선명=51",
         "showlegend": true,
         "type": "scattergl",
         "x": [
          4,
          5,
          6,
          7,
          8,
          9,
          10,
          11,
          12,
          13,
          14,
          15,
          16,
          17,
          18,
          19,
          20,
          21,
          22,
          23
         ],
         "xaxis": "x",
         "y": [
          1,
          70,
          88,
          166,
          201,
          96,
          93,
          77,
          130,
          191,
          101,
          127,
          111,
          210,
          174,
          117,
          104,
          127,
          106,
          26
         ],
         "yaxis": "y"
        },
        {
         "hoverlabel": {
          "namelength": 0
         },
         "hovertemplate": "노선명=510<br>시간=%{x}<br>이용량=%{y}",
         "legendgroup": "노선명=510",
         "marker": {
          "color": "#FF97FF",
          "symbol": "circle"
         },
         "mode": "markers",
         "name": "노선명=510",
         "showlegend": true,
         "type": "scattergl",
         "x": [
          12,
          17,
          18
         ],
         "xaxis": "x",
         "y": [
          1,
          1,
          1
         ],
         "yaxis": "y"
        },
        {
         "hoverlabel": {
          "namelength": 0
         },
         "hovertemplate": "노선명=5100<br>시간=%{x}<br>이용량=%{y}",
         "legendgroup": "노선명=5100",
         "marker": {
          "color": "#FECB52",
          "symbol": "circle"
         },
         "mode": "markers",
         "name": "노선명=5100",
         "showlegend": true,
         "type": "scattergl",
         "x": [
          6,
          7,
          8,
          11,
          12,
          13,
          14,
          15,
          16,
          17,
          18,
          19,
          20,
          21,
          22,
          23
         ],
         "xaxis": "x",
         "y": [
          1,
          1,
          1,
          1,
          3,
          6,
          12,
          6,
          8,
          9,
          38,
          17,
          17,
          15,
          23,
          5
         ],
         "yaxis": "y"
        },
        {
         "hoverlabel": {
          "namelength": 0
         },
         "hovertemplate": "노선명=511<br>시간=%{x}<br>이용량=%{y}",
         "legendgroup": "노선명=511",
         "marker": {
          "color": "#636efa",
          "symbol": "circle"
         },
         "mode": "markers",
         "name": "노선명=511",
         "showlegend": true,
         "type": "scattergl",
         "x": [
          6,
          7,
          9,
          13,
          18,
          19,
          20,
          21
         ],
         "xaxis": "x",
         "y": [
          1,
          4,
          3,
          3,
          2,
          1,
          1,
          2
         ],
         "yaxis": "y"
        },
        {
         "hoverlabel": {
          "namelength": 0
         },
         "hovertemplate": "노선명=52<br>시간=%{x}<br>이용량=%{y}",
         "legendgroup": "노선명=52",
         "marker": {
          "color": "#EF553B",
          "symbol": "circle"
         },
         "mode": "markers",
         "name": "노선명=52",
         "showlegend": true,
         "type": "scattergl",
         "x": [
          4,
          5,
          6,
          7,
          8,
          9,
          10,
          11,
          12,
          13,
          14,
          15,
          16,
          17,
          18,
          19,
          20,
          21,
          22,
          23
         ],
         "xaxis": "x",
         "y": [
          1,
          4,
          11,
          19,
          15,
          4,
          3,
          3,
          4,
          6,
          6,
          5,
          6,
          11,
          10,
          8,
          3,
          5,
          1,
          1
         ],
         "yaxis": "y"
        },
        {
         "hoverlabel": {
          "namelength": 0
         },
         "hovertemplate": "노선명=52-1<br>시간=%{x}<br>이용량=%{y}",
         "legendgroup": "노선명=52-1",
         "marker": {
          "color": "#00cc96",
          "symbol": "circle"
         },
         "mode": "markers",
         "name": "노선명=52-1",
         "showlegend": true,
         "type": "scattergl",
         "x": [
          6,
          7,
          8,
          9,
          15,
          16,
          21,
          22
         ],
         "xaxis": "x",
         "y": [
          1,
          2,
          2,
          1,
          4,
          5,
          1,
          1
         ],
         "yaxis": "y"
        },
        {
         "hoverlabel": {
          "namelength": 0
         },
         "hovertemplate": "노선명=520<br>시간=%{x}<br>이용량=%{y}",
         "legendgroup": "노선명=520",
         "marker": {
          "color": "#ab63fa",
          "symbol": "circle"
         },
         "mode": "markers",
         "name": "노선명=520",
         "showlegend": true,
         "type": "scattergl",
         "x": [
          6,
          7,
          8,
          9,
          10,
          11,
          12,
          13,
          14,
          15,
          17,
          18,
          19,
          20,
          21,
          22
         ],
         "xaxis": "x",
         "y": [
          4,
          9,
          2,
          1,
          4,
          3,
          2,
          3,
          4,
          1,
          5,
          5,
          5,
          2,
          2,
          3
         ],
         "yaxis": "y"
        },
        {
         "hoverlabel": {
          "namelength": 0
         },
         "hovertemplate": "노선명=521<br>시간=%{x}<br>이용량=%{y}",
         "legendgroup": "노선명=521",
         "marker": {
          "color": "#FFA15A",
          "symbol": "circle"
         },
         "mode": "markers",
         "name": "노선명=521",
         "showlegend": true,
         "type": "scattergl",
         "x": [
          6,
          7,
          8,
          11,
          12,
          14,
          16,
          18,
          19,
          21,
          22
         ],
         "xaxis": "x",
         "y": [
          3,
          4,
          3,
          1,
          1,
          2,
          1,
          1,
          1,
          1,
          2
         ],
         "yaxis": "y"
        },
        {
         "hoverlabel": {
          "namelength": 0
         },
         "hovertemplate": "노선명=522<br>시간=%{x}<br>이용량=%{y}",
         "legendgroup": "노선명=522",
         "marker": {
          "color": "#19d3f3",
          "symbol": "circle"
         },
         "mode": "markers",
         "name": "노선명=522",
         "showlegend": true,
         "type": "scattergl",
         "x": [
          7,
          8,
          13
         ],
         "xaxis": "x",
         "y": [
          2,
          1,
          1
         ],
         "yaxis": "y"
        },
        {
         "hoverlabel": {
          "namelength": 0
         },
         "hovertemplate": "노선명=53<br>시간=%{x}<br>이용량=%{y}",
         "legendgroup": "노선명=53",
         "marker": {
          "color": "#FF6692",
          "symbol": "circle"
         },
         "mode": "markers",
         "name": "노선명=53",
         "showlegend": true,
         "type": "scattergl",
         "x": [
          5,
          13
         ],
         "xaxis": "x",
         "y": [
          1,
          1
         ],
         "yaxis": "y"
        },
        {
         "hoverlabel": {
          "namelength": 0
         },
         "hovertemplate": "노선명=5300<br>시간=%{x}<br>이용량=%{y}",
         "legendgroup": "노선명=5300",
         "marker": {
          "color": "#B6E880",
          "symbol": "circle"
         },
         "mode": "markers",
         "name": "노선명=5300",
         "showlegend": true,
         "type": "scattergl",
         "x": [
          6,
          8,
          12,
          13,
          14,
          15,
          16,
          17,
          18,
          19,
          20,
          21,
          22,
          23
         ],
         "xaxis": "x",
         "y": [
          1,
          1,
          2,
          2,
          4,
          3,
          2,
          6,
          9,
          11,
          11,
          5,
          8,
          1
         ],
         "yaxis": "y"
        },
        {
         "hoverlabel": {
          "namelength": 0
         },
         "hovertemplate": "노선명=5300-1<br>시간=%{x}<br>이용량=%{y}",
         "legendgroup": "노선명=5300-1",
         "marker": {
          "color": "#FF97FF",
          "symbol": "circle"
         },
         "mode": "markers",
         "name": "노선명=5300-1",
         "showlegend": true,
         "type": "scattergl",
         "x": [
          17
         ],
         "xaxis": "x",
         "y": [
          1
         ],
         "yaxis": "y"
        },
        {
         "hoverlabel": {
          "namelength": 0
         },
         "hovertemplate": "노선명=54<br>시간=%{x}<br>이용량=%{y}",
         "legendgroup": "노선명=54",
         "marker": {
          "color": "#FECB52",
          "symbol": "circle"
         },
         "mode": "markers",
         "name": "노선명=54",
         "showlegend": true,
         "type": "scattergl",
         "x": [
          7,
          9,
          10,
          11,
          13,
          14,
          16,
          18
         ],
         "xaxis": "x",
         "y": [
          2,
          1,
          2,
          1,
          5,
          1,
          3,
          4
         ],
         "yaxis": "y"
        },
        {
         "hoverlabel": {
          "namelength": 0
         },
         "hovertemplate": "노선명=55<br>시간=%{x}<br>이용량=%{y}",
         "legendgroup": "노선명=55",
         "marker": {
          "color": "#636efa",
          "symbol": "circle"
         },
         "mode": "markers",
         "name": "노선명=55",
         "showlegend": true,
         "type": "scattergl",
         "x": [
          4,
          5,
          6,
          7,
          8,
          9,
          10,
          11,
          12,
          13,
          14,
          15,
          16,
          17,
          18,
          19,
          20,
          21,
          22,
          23
         ],
         "xaxis": "x",
         "y": [
          3,
          6,
          15,
          10,
          15,
          6,
          2,
          7,
          6,
          6,
          5,
          3,
          10,
          18,
          18,
          10,
          5,
          10,
          6,
          1
         ],
         "yaxis": "y"
        },
        {
         "hoverlabel": {
          "namelength": 0
         },
         "hovertemplate": "노선명=55-1<br>시간=%{x}<br>이용량=%{y}",
         "legendgroup": "노선명=55-1",
         "marker": {
          "color": "#EF553B",
          "symbol": "circle"
         },
         "mode": "markers",
         "name": "노선명=55-1",
         "showlegend": true,
         "type": "scattergl",
         "x": [
          6,
          7,
          18,
          20,
          21
         ],
         "xaxis": "x",
         "y": [
          1,
          1,
          1,
          1,
          1
         ],
         "yaxis": "y"
        },
        {
         "hoverlabel": {
          "namelength": 0
         },
         "hovertemplate": "노선명=5500-1<br>시간=%{x}<br>이용량=%{y}",
         "legendgroup": "노선명=5500-1",
         "marker": {
          "color": "#00cc96",
          "symbol": "circle"
         },
         "mode": "markers",
         "name": "노선명=5500-1",
         "showlegend": true,
         "type": "scattergl",
         "x": [
          8,
          16,
          17,
          19,
          20,
          21
         ],
         "xaxis": "x",
         "y": [
          1,
          1,
          1,
          2,
          1,
          1
         ],
         "yaxis": "y"
        },
        {
         "hoverlabel": {
          "namelength": 0
         },
         "hovertemplate": "노선명=5500-2<br>시간=%{x}<br>이용량=%{y}",
         "legendgroup": "노선명=5500-2",
         "marker": {
          "color": "#ab63fa",
          "symbol": "circle"
         },
         "mode": "markers",
         "name": "노선명=5500-2",
         "showlegend": true,
         "type": "scattergl",
         "x": [
          9,
          12,
          15,
          16,
          19,
          21,
          22
         ],
         "xaxis": "x",
         "y": [
          1,
          1,
          1,
          1,
          1,
          2,
          1
         ],
         "yaxis": "y"
        },
        {
         "hoverlabel": {
          "namelength": 0
         },
         "hovertemplate": "노선명=56<br>시간=%{x}<br>이용량=%{y}",
         "legendgroup": "노선명=56",
         "marker": {
          "color": "#FFA15A",
          "symbol": "circle"
         },
         "mode": "markers",
         "name": "노선명=56",
         "showlegend": true,
         "type": "scattergl",
         "x": [
          6
         ],
         "xaxis": "x",
         "y": [
          1
         ],
         "yaxis": "y"
        },
        {
         "hoverlabel": {
          "namelength": 0
         },
         "hovertemplate": "노선명=56-1<br>시간=%{x}<br>이용량=%{y}",
         "legendgroup": "노선명=56-1",
         "marker": {
          "color": "#19d3f3",
          "symbol": "circle"
         },
         "mode": "markers",
         "name": "노선명=56-1",
         "showlegend": true,
         "type": "scattergl",
         "x": [
          7,
          8,
          19
         ],
         "xaxis": "x",
         "y": [
          1,
          1,
          1
         ],
         "yaxis": "y"
        },
        {
         "hoverlabel": {
          "namelength": 0
         },
         "hovertemplate": "노선명=5600<br>시간=%{x}<br>이용량=%{y}",
         "legendgroup": "노선명=5600",
         "marker": {
          "color": "#FF6692",
          "symbol": "circle"
         },
         "mode": "markers",
         "name": "노선명=5600",
         "showlegend": true,
         "type": "scattergl",
         "x": [
          10,
          14,
          15,
          17,
          18,
          19,
          20,
          21
         ],
         "xaxis": "x",
         "y": [
          2,
          1,
          1,
          5,
          3,
          4,
          4,
          1
         ],
         "yaxis": "y"
        },
        {
         "hoverlabel": {
          "namelength": 0
         },
         "hovertemplate": "노선명=5601<br>시간=%{x}<br>이용량=%{y}",
         "legendgroup": "노선명=5601",
         "marker": {
          "color": "#B6E880",
          "symbol": "circle"
         },
         "mode": "markers",
         "name": "노선명=5601",
         "showlegend": true,
         "type": "scattergl",
         "x": [
          7
         ],
         "xaxis": "x",
         "y": [
          1
         ],
         "yaxis": "y"
        },
        {
         "hoverlabel": {
          "namelength": 0
         },
         "hovertemplate": "노선명=5602<br>시간=%{x}<br>이용량=%{y}",
         "legendgroup": "노선명=5602",
         "marker": {
          "color": "#FF97FF",
          "symbol": "circle"
         },
         "mode": "markers",
         "name": "노선명=5602",
         "showlegend": true,
         "type": "scattergl",
         "x": [
          7,
          8,
          9,
          13,
          14,
          17,
          18,
          19
         ],
         "xaxis": "x",
         "y": [
          2,
          1,
          1,
          1,
          1,
          1,
          1,
          1
         ],
         "yaxis": "y"
        },
        {
         "hoverlabel": {
          "namelength": 0
         },
         "hovertemplate": "노선명=5604<br>시간=%{x}<br>이용량=%{y}",
         "legendgroup": "노선명=5604",
         "marker": {
          "color": "#FECB52",
          "symbol": "circle"
         },
         "mode": "markers",
         "name": "노선명=5604",
         "showlegend": true,
         "type": "scattergl",
         "x": [
          5,
          7,
          13,
          18,
          21
         ],
         "xaxis": "x",
         "y": [
          1,
          2,
          1,
          1,
          1
         ],
         "yaxis": "y"
        },
        {
         "hoverlabel": {
          "namelength": 0
         },
         "hovertemplate": "노선명=5609<br>시간=%{x}<br>이용량=%{y}",
         "legendgroup": "노선명=5609",
         "marker": {
          "color": "#636efa",
          "symbol": "circle"
         },
         "mode": "markers",
         "name": "노선명=5609",
         "showlegend": true,
         "type": "scattergl",
         "x": [
          7,
          20
         ],
         "xaxis": "x",
         "y": [
          1,
          1
         ],
         "yaxis": "y"
        },
        {
         "hoverlabel": {
          "namelength": 0
         },
         "hovertemplate": "노선명=57<br>시간=%{x}<br>이용량=%{y}",
         "legendgroup": "노선명=57",
         "marker": {
          "color": "#EF553B",
          "symbol": "circle"
         },
         "mode": "markers",
         "name": "노선명=57",
         "showlegend": true,
         "type": "scattergl",
         "x": [
          5,
          6,
          7,
          8,
          9,
          10,
          11,
          12,
          13,
          14,
          15,
          16,
          17,
          18,
          19,
          20,
          21,
          22
         ],
         "xaxis": "x",
         "y": [
          4,
          5,
          5,
          5,
          9,
          5,
          6,
          17,
          6,
          8,
          4,
          4,
          10,
          17,
          6,
          6,
          2,
          5
         ],
         "yaxis": "y"
        },
        {
         "hoverlabel": {
          "namelength": 0
         },
         "hovertemplate": "노선명=57-1<br>시간=%{x}<br>이용량=%{y}",
         "legendgroup": "노선명=57-1",
         "marker": {
          "color": "#00cc96",
          "symbol": "circle"
         },
         "mode": "markers",
         "name": "노선명=57-1",
         "showlegend": true,
         "type": "scattergl",
         "x": [
          5
         ],
         "xaxis": "x",
         "y": [
          2
         ],
         "yaxis": "y"
        },
        {
         "hoverlabel": {
          "namelength": 0
         },
         "hovertemplate": "노선명=5700<br>시간=%{x}<br>이용량=%{y}",
         "legendgroup": "노선명=5700",
         "marker": {
          "color": "#ab63fa",
          "symbol": "circle"
         },
         "mode": "markers",
         "name": "노선명=5700",
         "showlegend": true,
         "type": "scattergl",
         "x": [
          20
         ],
         "xaxis": "x",
         "y": [
          1
         ],
         "yaxis": "y"
        },
        {
         "hoverlabel": {
          "namelength": 0
         },
         "hovertemplate": "노선명=58-1<br>시간=%{x}<br>이용량=%{y}",
         "legendgroup": "노선명=58-1",
         "marker": {
          "color": "#FFA15A",
          "symbol": "circle"
         },
         "mode": "markers",
         "name": "노선명=58-1",
         "showlegend": true,
         "type": "scattergl",
         "x": [
          10,
          14
         ],
         "xaxis": "x",
         "y": [
          1,
          1
         ],
         "yaxis": "y"
        },
        {
         "hoverlabel": {
          "namelength": 0
         },
         "hovertemplate": "노선명=6<br>시간=%{x}<br>이용량=%{y}",
         "legendgroup": "노선명=6",
         "marker": {
          "color": "#19d3f3",
          "symbol": "circle"
         },
         "mode": "markers",
         "name": "노선명=6",
         "showlegend": true,
         "type": "scattergl",
         "x": [
          5,
          6,
          7,
          8,
          9,
          10,
          11,
          12,
          13,
          14,
          15,
          16,
          18,
          19,
          20,
          21,
          22
         ],
         "xaxis": "x",
         "y": [
          1,
          5,
          7,
          7,
          1,
          2,
          4,
          3,
          2,
          1,
          1,
          14,
          6,
          1,
          3,
          2,
          1
         ],
         "yaxis": "y"
        },
        {
         "hoverlabel": {
          "namelength": 0
         },
         "hovertemplate": "노선명=6-1<br>시간=%{x}<br>이용량=%{y}",
         "legendgroup": "노선명=6-1",
         "marker": {
          "color": "#FF6692",
          "symbol": "circle"
         },
         "mode": "markers",
         "name": "노선명=6-1",
         "showlegend": true,
         "type": "scattergl",
         "x": [
          6,
          7,
          8,
          16
         ],
         "xaxis": "x",
         "y": [
          1,
          1,
          1,
          1
         ],
         "yaxis": "y"
        },
        {
         "hoverlabel": {
          "namelength": 0
         },
         "hovertemplate": "노선명=6-2<br>시간=%{x}<br>이용량=%{y}",
         "legendgroup": "노선명=6-2",
         "marker": {
          "color": "#B6E880",
          "symbol": "circle"
         },
         "mode": "markers",
         "name": "노선명=6-2",
         "showlegend": true,
         "type": "scattergl",
         "x": [
          7,
          13,
          18
         ],
         "xaxis": "x",
         "y": [
          1,
          1,
          2
         ],
         "yaxis": "y"
        },
        {
         "hoverlabel": {
          "namelength": 0
         },
         "hovertemplate": "노선명=6-3<br>시간=%{x}<br>이용량=%{y}",
         "legendgroup": "노선명=6-3",
         "marker": {
          "color": "#FF97FF",
          "symbol": "circle"
         },
         "mode": "markers",
         "name": "노선명=6-3",
         "showlegend": true,
         "type": "scattergl",
         "x": [
          7,
          8,
          10,
          12,
          13,
          18,
          19
         ],
         "xaxis": "x",
         "y": [
          1,
          2,
          1,
          1,
          1,
          1,
          2
         ],
         "yaxis": "y"
        },
        {
         "hoverlabel": {
          "namelength": 0
         },
         "hovertemplate": "노선명=60<br>시간=%{x}<br>이용량=%{y}",
         "legendgroup": "노선명=60",
         "marker": {
          "color": "#FECB52",
          "symbol": "circle"
         },
         "mode": "markers",
         "name": "노선명=60",
         "showlegend": true,
         "type": "scattergl",
         "x": [
          4,
          5,
          6,
          7,
          8,
          9,
          10,
          11,
          12,
          13,
          14,
          15,
          16,
          17,
          18,
          19,
          20,
          21,
          22,
          23
         ],
         "xaxis": "x",
         "y": [
          1,
          4,
          10,
          40,
          28,
          11,
          18,
          15,
          16,
          15,
          15,
          17,
          22,
          29,
          35,
          22,
          29,
          20,
          18,
          3
         ],
         "yaxis": "y"
        },
        {
         "hoverlabel": {
          "namelength": 0
         },
         "hovertemplate": "노선명=60-1<br>시간=%{x}<br>이용량=%{y}",
         "legendgroup": "노선명=60-1",
         "marker": {
          "color": "#636efa",
          "symbol": "circle"
         },
         "mode": "markers",
         "name": "노선명=60-1",
         "showlegend": true,
         "type": "scattergl",
         "x": [
          5,
          6,
          7,
          8,
          9,
          10,
          11,
          12,
          13,
          16,
          17,
          18,
          19,
          20
         ],
         "xaxis": "x",
         "y": [
          1,
          2,
          9,
          2,
          2,
          2,
          6,
          1,
          5,
          1,
          3,
          4,
          3,
          6
         ],
         "yaxis": "y"
        },
        {
         "hoverlabel": {
          "namelength": 0
         },
         "hovertemplate": "노선명=6001<br>시간=%{x}<br>이용량=%{y}",
         "legendgroup": "노선명=6001",
         "marker": {
          "color": "#EF553B",
          "symbol": "circle"
         },
         "mode": "markers",
         "name": "노선명=6001",
         "showlegend": true,
         "type": "scattergl",
         "x": [
          6,
          7,
          9,
          10,
          13,
          14,
          15,
          17,
          18,
          19,
          20,
          21,
          22,
          23
         ],
         "xaxis": "x",
         "y": [
          3,
          3,
          1,
          1,
          1,
          2,
          1,
          4,
          1,
          4,
          2,
          3,
          2,
          3
         ],
         "yaxis": "y"
        },
        {
         "hoverlabel": {
          "namelength": 0
         },
         "hovertemplate": "노선명=6002<br>시간=%{x}<br>이용량=%{y}",
         "legendgroup": "노선명=6002",
         "marker": {
          "color": "#00cc96",
          "symbol": "circle"
         },
         "mode": "markers",
         "name": "노선명=6002",
         "showlegend": true,
         "type": "scattergl",
         "x": [
          6,
          9,
          10,
          11,
          12,
          16,
          17,
          18,
          19,
          20,
          21,
          22
         ],
         "xaxis": "x",
         "y": [
          1,
          3,
          1,
          1,
          2,
          2,
          9,
          9,
          3,
          2,
          4,
          1
         ],
         "yaxis": "y"
        },
        {
         "hoverlabel": {
          "namelength": 0
         },
         "hovertemplate": "노선명=6003<br>시간=%{x}<br>이용량=%{y}",
         "legendgroup": "노선명=6003",
         "marker": {
          "color": "#ab63fa",
          "symbol": "circle"
         },
         "mode": "markers",
         "name": "노선명=6003",
         "showlegend": true,
         "type": "scattergl",
         "x": [
          5,
          6,
          7,
          8,
          12,
          13,
          14,
          15,
          16,
          17,
          18,
          19,
          20,
          21,
          22,
          23
         ],
         "xaxis": "x",
         "y": [
          1,
          1,
          1,
          3,
          1,
          2,
          3,
          3,
          4,
          16,
          41,
          14,
          8,
          13,
          7,
          1
         ],
         "yaxis": "y"
        },
        {
         "hoverlabel": {
          "namelength": 0
         },
         "hovertemplate": "노선명=61<br>시간=%{x}<br>이용량=%{y}",
         "legendgroup": "노선명=61",
         "marker": {
          "color": "#FFA15A",
          "symbol": "circle"
         },
         "mode": "markers",
         "name": "노선명=61",
         "showlegend": true,
         "type": "scattergl",
         "x": [
          5,
          6,
          7,
          8,
          9,
          10,
          11,
          12,
          13,
          14,
          15,
          16,
          17,
          18,
          19,
          20,
          21,
          22,
          23
         ],
         "xaxis": "x",
         "y": [
          7,
          10,
          18,
          26,
          18,
          20,
          17,
          23,
          16,
          21,
          33,
          20,
          37,
          33,
          5,
          18,
          7,
          13,
          6
         ],
         "yaxis": "y"
        },
        {
         "hoverlabel": {
          "namelength": 0
         },
         "hovertemplate": "노선명=62<br>시간=%{x}<br>이용량=%{y}",
         "legendgroup": "노선명=62",
         "marker": {
          "color": "#19d3f3",
          "symbol": "circle"
         },
         "mode": "markers",
         "name": "노선명=62",
         "showlegend": true,
         "type": "scattergl",
         "x": [
          5,
          6,
          7,
          8,
          9,
          10,
          11,
          13,
          14,
          15,
          16,
          17,
          18,
          19,
          20,
          21,
          22
         ],
         "xaxis": "x",
         "y": [
          2,
          1,
          8,
          5,
          4,
          2,
          3,
          3,
          3,
          3,
          1,
          4,
          3,
          3,
          1,
          2,
          1
         ],
         "yaxis": "y"
        },
        {
         "hoverlabel": {
          "namelength": 0
         },
         "hovertemplate": "노선명=62-1<br>시간=%{x}<br>이용량=%{y}",
         "legendgroup": "노선명=62-1",
         "marker": {
          "color": "#FF6692",
          "symbol": "circle"
         },
         "mode": "markers",
         "name": "노선명=62-1",
         "showlegend": true,
         "type": "scattergl",
         "x": [
          4,
          5,
          6,
          7,
          8,
          9,
          10,
          11,
          12,
          13,
          14,
          15,
          16,
          17,
          18,
          19,
          20,
          21,
          22,
          23
         ],
         "xaxis": "x",
         "y": [
          1,
          216,
          776,
          1444,
          1632,
          959,
          738,
          865,
          1002,
          1115,
          902,
          1029,
          1046,
          1438,
          1366,
          943,
          717,
          815,
          703,
          227
         ],
         "yaxis": "y"
        },
        {
         "hoverlabel": {
          "namelength": 0
         },
         "hovertemplate": "노선명=63<br>시간=%{x}<br>이용량=%{y}",
         "legendgroup": "노선명=63",
         "marker": {
          "color": "#B6E880",
          "symbol": "circle"
         },
         "mode": "markers",
         "name": "노선명=63",
         "showlegend": true,
         "type": "scattergl",
         "x": [
          4,
          5,
          6,
          7,
          8,
          9,
          10,
          11,
          12,
          13,
          14,
          15,
          16,
          17,
          18,
          19,
          20,
          21,
          22,
          23
         ],
         "xaxis": "x",
         "y": [
          20,
          44,
          47,
          108,
          113,
          85,
          54,
          46,
          52,
          74,
          64,
          57,
          78,
          105,
          116,
          67,
          67,
          50,
          41,
          35
         ],
         "yaxis": "y"
        },
        {
         "hoverlabel": {
          "namelength": 0
         },
         "hovertemplate": "노선명=63-1<br>시간=%{x}<br>이용량=%{y}",
         "legendgroup": "노선명=63-1",
         "marker": {
          "color": "#FF97FF",
          "symbol": "circle"
         },
         "mode": "markers",
         "name": "노선명=63-1",
         "showlegend": true,
         "type": "scattergl",
         "x": [
          6,
          7,
          8,
          9,
          10,
          11,
          12,
          13,
          14,
          15,
          17,
          18,
          19,
          21,
          22,
          23
         ],
         "xaxis": "x",
         "y": [
          2,
          15,
          19,
          4,
          1,
          4,
          3,
          5,
          4,
          13,
          1,
          1,
          1,
          6,
          2,
          1
         ],
         "yaxis": "y"
        },
        {
         "hoverlabel": {
          "namelength": 0
         },
         "hovertemplate": "노선명=64<br>시간=%{x}<br>이용량=%{y}",
         "legendgroup": "노선명=64",
         "marker": {
          "color": "#FECB52",
          "symbol": "circle"
         },
         "mode": "markers",
         "name": "노선명=64",
         "showlegend": true,
         "type": "scattergl",
         "x": [
          4,
          5,
          6,
          7,
          8,
          9,
          10,
          11,
          12,
          13,
          14,
          15,
          16,
          17,
          18,
          19,
          20,
          21,
          22,
          23
         ],
         "xaxis": "x",
         "y": [
          5,
          52,
          146,
          476,
          612,
          259,
          195,
          250,
          279,
          301,
          268,
          278,
          249,
          332,
          439,
          341,
          275,
          173,
          105,
          75
         ],
         "yaxis": "y"
        },
        {
         "hoverlabel": {
          "namelength": 0
         },
         "hovertemplate": "노선명=65<br>시간=%{x}<br>이용량=%{y}",
         "legendgroup": "노선명=65",
         "marker": {
          "color": "#636efa",
          "symbol": "circle"
         },
         "mode": "markers",
         "name": "노선명=65",
         "showlegend": true,
         "type": "scattergl",
         "x": [
          4,
          5,
          6,
          7,
          8,
          9,
          10,
          11,
          12,
          13,
          14,
          15,
          16,
          17,
          18,
          19,
          20,
          21,
          22,
          23
         ],
         "xaxis": "x",
         "y": [
          3,
          21,
          46,
          79,
          88,
          68,
          49,
          53,
          61,
          63,
          52,
          70,
          83,
          84,
          91,
          52,
          44,
          53,
          19,
          3
         ],
         "yaxis": "y"
        },
        {
         "hoverlabel": {
          "namelength": 0
         },
         "hovertemplate": "노선명=6501<br>시간=%{x}<br>이용량=%{y}",
         "legendgroup": "노선명=6501",
         "marker": {
          "color": "#EF553B",
          "symbol": "circle"
         },
         "mode": "markers",
         "name": "노선명=6501",
         "showlegend": true,
         "type": "scattergl",
         "x": [
          17
         ],
         "xaxis": "x",
         "y": [
          1
         ],
         "yaxis": "y"
        },
        {
         "hoverlabel": {
          "namelength": 0
         },
         "hovertemplate": "노선명=66<br>시간=%{x}<br>이용량=%{y}",
         "legendgroup": "노선명=66",
         "marker": {
          "color": "#00cc96",
          "symbol": "circle"
         },
         "mode": "markers",
         "name": "노선명=66",
         "showlegend": true,
         "type": "scattergl",
         "x": [
          4,
          5,
          6,
          7,
          8,
          9,
          10,
          11,
          12,
          13,
          14,
          15,
          16,
          17,
          18,
          19,
          20,
          21,
          22,
          23
         ],
         "xaxis": "x",
         "y": [
          8,
          44,
          23,
          37,
          51,
          26,
          29,
          29,
          37,
          32,
          15,
          38,
          33,
          29,
          58,
          35,
          24,
          28,
          13,
          10
         ],
         "yaxis": "y"
        },
        {
         "hoverlabel": {
          "namelength": 0
         },
         "hovertemplate": "노선명=66-4<br>시간=%{x}<br>이용량=%{y}",
         "legendgroup": "노선명=66-4",
         "marker": {
          "color": "#ab63fa",
          "symbol": "circle"
         },
         "mode": "markers",
         "name": "노선명=66-4",
         "showlegend": true,
         "type": "scattergl",
         "x": [
          4,
          5,
          6,
          7,
          8,
          9,
          10,
          11,
          12,
          13,
          14,
          15,
          16,
          17,
          18,
          19,
          20,
          21,
          22,
          23
         ],
         "xaxis": "x",
         "y": [
          1,
          23,
          20,
          42,
          29,
          37,
          16,
          15,
          37,
          36,
          10,
          31,
          37,
          46,
          56,
          17,
          23,
          32,
          22,
          11
         ],
         "yaxis": "y"
        },
        {
         "hoverlabel": {
          "namelength": 0
         },
         "hovertemplate": "노선명=660<br>시간=%{x}<br>이용량=%{y}",
         "legendgroup": "노선명=660",
         "marker": {
          "color": "#FFA15A",
          "symbol": "circle"
         },
         "mode": "markers",
         "name": "노선명=660",
         "showlegend": true,
         "type": "scattergl",
         "x": [
          5,
          6,
          7,
          8,
          9,
          10,
          11,
          12,
          13,
          14,
          15,
          16,
          17,
          18,
          19,
          20,
          21,
          22,
          23
         ],
         "xaxis": "x",
         "y": [
          6,
          3,
          7,
          6,
          6,
          2,
          3,
          7,
          8,
          3,
          4,
          18,
          6,
          5,
          4,
          2,
          5,
          4,
          1
         ],
         "yaxis": "y"
        },
        {
         "hoverlabel": {
          "namelength": 0
         },
         "hovertemplate": "노선명=670<br>시간=%{x}<br>이용량=%{y}",
         "legendgroup": "노선명=670",
         "marker": {
          "color": "#19d3f3",
          "symbol": "circle"
         },
         "mode": "markers",
         "name": "노선명=670",
         "showlegend": true,
         "type": "scattergl",
         "x": [
          6,
          7,
          8,
          9,
          10,
          11,
          12,
          13,
          14,
          15,
          16,
          17,
          18,
          19,
          20,
          21,
          22,
          23
         ],
         "xaxis": "x",
         "y": [
          2,
          5,
          5,
          6,
          3,
          1,
          2,
          1,
          3,
          9,
          1,
          2,
          2,
          1,
          5,
          2,
          2,
          1
         ],
         "yaxis": "y"
        },
        {
         "hoverlabel": {
          "namelength": 0
         },
         "hovertemplate": "노선명=68<br>시간=%{x}<br>이용량=%{y}",
         "legendgroup": "노선명=68",
         "marker": {
          "color": "#FF6692",
          "symbol": "circle"
         },
         "mode": "markers",
         "name": "노선명=68",
         "showlegend": true,
         "type": "scattergl",
         "x": [
          7,
          8,
          9,
          10,
          11,
          12,
          13,
          14,
          16,
          17,
          18,
          19,
          21
         ],
         "xaxis": "x",
         "y": [
          3,
          4,
          1,
          1,
          1,
          2,
          2,
          1,
          1,
          1,
          2,
          2,
          3
         ],
         "yaxis": "y"
        },
        {
         "hoverlabel": {
          "namelength": 0
         },
         "hovertemplate": "노선명=690<br>시간=%{x}<br>이용량=%{y}",
         "legendgroup": "노선명=690",
         "marker": {
          "color": "#B6E880",
          "symbol": "circle"
         },
         "mode": "markers",
         "name": "노선명=690",
         "showlegend": true,
         "type": "scattergl",
         "x": [
          6,
          7,
          8,
          9,
          10,
          11,
          12,
          13,
          14,
          16,
          17,
          18,
          19,
          20,
          21,
          22
         ],
         "xaxis": "x",
         "y": [
          7,
          10,
          1,
          3,
          3,
          2,
          6,
          1,
          3,
          3,
          8,
          9,
          2,
          1,
          9,
          4
         ],
         "yaxis": "y"
        },
        {
         "hoverlabel": {
          "namelength": 0
         },
         "hovertemplate": "노선명=6900<br>시간=%{x}<br>이용량=%{y}",
         "legendgroup": "노선명=6900",
         "marker": {
          "color": "#FF97FF",
          "symbol": "circle"
         },
         "mode": "markers",
         "name": "노선명=6900",
         "showlegend": true,
         "type": "scattergl",
         "x": [
          10,
          12,
          16,
          17,
          20
         ],
         "xaxis": "x",
         "y": [
          1,
          1,
          1,
          1,
          2
         ],
         "yaxis": "y"
        },
        {
         "hoverlabel": {
          "namelength": 0
         },
         "hovertemplate": "노선명=7<br>시간=%{x}<br>이용량=%{y}",
         "legendgroup": "노선명=7",
         "marker": {
          "color": "#FECB52",
          "symbol": "circle"
         },
         "mode": "markers",
         "name": "노선명=7",
         "showlegend": true,
         "type": "scattergl",
         "x": [
          4,
          5,
          6,
          7,
          8,
          9,
          10,
          11,
          12,
          13,
          14,
          15,
          16,
          17,
          18,
          19,
          20,
          21,
          22,
          23
         ],
         "xaxis": "x",
         "y": [
          2,
          55,
          160,
          347,
          431,
          229,
          137,
          183,
          201,
          285,
          169,
          196,
          230,
          254,
          266,
          206,
          163,
          107,
          83,
          28
         ],
         "yaxis": "y"
        },
        {
         "hoverlabel": {
          "namelength": 0
         },
         "hovertemplate": "노선명=7-1<br>시간=%{x}<br>이용량=%{y}",
         "legendgroup": "노선명=7-1",
         "marker": {
          "color": "#636efa",
          "symbol": "circle"
         },
         "mode": "markers",
         "name": "노선명=7-1",
         "showlegend": true,
         "type": "scattergl",
         "x": [
          5,
          6,
          7,
          8,
          9,
          10,
          11,
          12,
          13,
          14,
          15,
          16,
          17,
          18,
          19,
          20,
          21,
          22,
          23
         ],
         "xaxis": "x",
         "y": [
          101,
          446,
          771,
          836,
          533,
          291,
          310,
          383,
          445,
          361,
          466,
          451,
          564,
          564,
          531,
          458,
          481,
          353,
          155
         ],
         "yaxis": "y"
        },
        {
         "hoverlabel": {
          "namelength": 0
         },
         "hovertemplate": "노선명=7-2<br>시간=%{x}<br>이용량=%{y}",
         "legendgroup": "노선명=7-2",
         "marker": {
          "color": "#EF553B",
          "symbol": "circle"
         },
         "mode": "markers",
         "name": "노선명=7-2",
         "showlegend": true,
         "type": "scattergl",
         "x": [
          5,
          6,
          7,
          8,
          9,
          10,
          11,
          12,
          13,
          14,
          15,
          16,
          17,
          18,
          19,
          20,
          21,
          22,
          23
         ],
         "xaxis": "x",
         "y": [
          84,
          171,
          389,
          293,
          184,
          103,
          171,
          144,
          171,
          124,
          161,
          161,
          172,
          188,
          150,
          135,
          136,
          83,
          27
         ],
         "yaxis": "y"
        },
        {
         "hoverlabel": {
          "namelength": 0
         },
         "hovertemplate": "노선명=7-3<br>시간=%{x}<br>이용량=%{y}",
         "legendgroup": "노선명=7-3",
         "marker": {
          "color": "#00cc96",
          "symbol": "circle"
         },
         "mode": "markers",
         "name": "노선명=7-3",
         "showlegend": true,
         "type": "scattergl",
         "x": [
          12,
          18,
          19
         ],
         "xaxis": "x",
         "y": [
          1,
          2,
          1
         ],
         "yaxis": "y"
        },
        {
         "hoverlabel": {
          "namelength": 0
         },
         "hovertemplate": "노선명=7-4<br>시간=%{x}<br>이용량=%{y}",
         "legendgroup": "노선명=7-4",
         "marker": {
          "color": "#ab63fa",
          "symbol": "circle"
         },
         "mode": "markers",
         "name": "노선명=7-4",
         "showlegend": true,
         "type": "scattergl",
         "x": [
          7,
          11,
          16
         ],
         "xaxis": "x",
         "y": [
          1,
          1,
          1
         ],
         "yaxis": "y"
        },
        {
         "hoverlabel": {
          "namelength": 0
         },
         "hovertemplate": "노선명=7-5<br>시간=%{x}<br>이용량=%{y}",
         "legendgroup": "노선명=7-5",
         "marker": {
          "color": "#FFA15A",
          "symbol": "circle"
         },
         "mode": "markers",
         "name": "노선명=7-5",
         "showlegend": true,
         "type": "scattergl",
         "x": [
          5,
          6,
          7,
          8,
          10,
          11,
          12,
          15,
          16,
          18,
          19
         ],
         "xaxis": "x",
         "y": [
          1,
          12,
          6,
          8,
          3,
          2,
          4,
          2,
          1,
          1,
          1
         ],
         "yaxis": "y"
        },
        {
         "hoverlabel": {
          "namelength": 0
         },
         "hovertemplate": "노선명=7-7<br>시간=%{x}<br>이용량=%{y}",
         "legendgroup": "노선명=7-7",
         "marker": {
          "color": "#19d3f3",
          "symbol": "circle"
         },
         "mode": "markers",
         "name": "노선명=7-7",
         "showlegend": true,
         "type": "scattergl",
         "x": [
          7
         ],
         "xaxis": "x",
         "y": [
          1
         ],
         "yaxis": "y"
        },
        {
         "hoverlabel": {
          "namelength": 0
         },
         "hovertemplate": "노선명=70<br>시간=%{x}<br>이용량=%{y}",
         "legendgroup": "노선명=70",
         "marker": {
          "color": "#FF6692",
          "symbol": "circle"
         },
         "mode": "markers",
         "name": "노선명=70",
         "showlegend": true,
         "type": "scattergl",
         "x": [
          5,
          7,
          8,
          9,
          11,
          12,
          13,
          14,
          15,
          16,
          17,
          18,
          19,
          20,
          21,
          23
         ],
         "xaxis": "x",
         "y": [
          1,
          4,
          3,
          2,
          3,
          5,
          2,
          1,
          4,
          6,
          5,
          2,
          3,
          4,
          3,
          1
         ],
         "yaxis": "y"
        },
        {
         "hoverlabel": {
          "namelength": 0
         },
         "hovertemplate": "노선명=70-2<br>시간=%{x}<br>이용량=%{y}",
         "legendgroup": "노선명=70-2",
         "marker": {
          "color": "#B6E880",
          "symbol": "circle"
         },
         "mode": "markers",
         "name": "노선명=70-2",
         "showlegend": true,
         "type": "scattergl",
         "x": [
          6,
          15
         ],
         "xaxis": "x",
         "y": [
          1,
          1
         ],
         "yaxis": "y"
        },
        {
         "hoverlabel": {
          "namelength": 0
         },
         "hovertemplate": "노선명=70-3<br>시간=%{x}<br>이용량=%{y}",
         "legendgroup": "노선명=70-3",
         "marker": {
          "color": "#FF97FF",
          "symbol": "circle"
         },
         "mode": "markers",
         "name": "노선명=70-3",
         "showlegend": true,
         "type": "scattergl",
         "x": [
          10,
          14,
          21
         ],
         "xaxis": "x",
         "y": [
          1,
          1,
          2
         ],
         "yaxis": "y"
        },
        {
         "hoverlabel": {
          "namelength": 0
         },
         "hovertemplate": "노선명=700<br>시간=%{x}<br>이용량=%{y}",
         "legendgroup": "노선명=700",
         "marker": {
          "color": "#FECB52",
          "symbol": "circle"
         },
         "mode": "markers",
         "name": "노선명=700",
         "showlegend": true,
         "type": "scattergl",
         "x": [
          20
         ],
         "xaxis": "x",
         "y": [
          1
         ],
         "yaxis": "y"
        },
        {
         "hoverlabel": {
          "namelength": 0
         },
         "hovertemplate": "노선명=700-2<br>시간=%{x}<br>이용량=%{y}",
         "legendgroup": "노선명=700-2",
         "marker": {
          "color": "#636efa",
          "symbol": "circle"
         },
         "mode": "markers",
         "name": "노선명=700-2",
         "showlegend": true,
         "type": "scattergl",
         "x": [
          4,
          5,
          6,
          7,
          8,
          9,
          10,
          11,
          12,
          13,
          14,
          15,
          16,
          17,
          18,
          19,
          20,
          21,
          22,
          23
         ],
         "xaxis": "x",
         "y": [
          1,
          257,
          429,
          1267,
          1298,
          679,
          420,
          447,
          545,
          705,
          473,
          500,
          655,
          825,
          940,
          562,
          510,
          496,
          338,
          99
         ],
         "yaxis": "y"
        },
        {
         "hoverlabel": {
          "namelength": 0
         },
         "hovertemplate": "노선명=7000<br>시간=%{x}<br>이용량=%{y}",
         "legendgroup": "노선명=7000",
         "marker": {
          "color": "#EF553B",
          "symbol": "circle"
         },
         "mode": "markers",
         "name": "노선명=7000",
         "showlegend": true,
         "type": "scattergl",
         "x": [
          7,
          8,
          10,
          11,
          12,
          13,
          14,
          15,
          16,
          17,
          18,
          19,
          20,
          21,
          22,
          23
         ],
         "xaxis": "x",
         "y": [
          8,
          6,
          2,
          2,
          2,
          4,
          1,
          1,
          2,
          4,
          7,
          3,
          1,
          4,
          9,
          3
         ],
         "yaxis": "y"
        },
        {
         "hoverlabel": {
          "namelength": 0
         },
         "hovertemplate": "노선명=7001<br>시간=%{x}<br>이용량=%{y}",
         "legendgroup": "노선명=7001",
         "marker": {
          "color": "#00cc96",
          "symbol": "circle"
         },
         "mode": "markers",
         "name": "노선명=7001",
         "showlegend": true,
         "type": "scattergl",
         "x": [
          8,
          9,
          10,
          12,
          14,
          15,
          16,
          18,
          20,
          21,
          22,
          23
         ],
         "xaxis": "x",
         "y": [
          1,
          2,
          1,
          1,
          1,
          4,
          2,
          4,
          3,
          6,
          1,
          1
         ],
         "yaxis": "y"
        },
        {
         "hoverlabel": {
          "namelength": 0
         },
         "hovertemplate": "노선명=7002<br>시간=%{x}<br>이용량=%{y}",
         "legendgroup": "노선명=7002",
         "marker": {
          "color": "#ab63fa",
          "symbol": "circle"
         },
         "mode": "markers",
         "name": "노선명=7002",
         "showlegend": true,
         "type": "scattergl",
         "x": [
          6,
          8,
          10,
          13,
          14,
          16,
          17,
          18,
          20,
          21,
          22
         ],
         "xaxis": "x",
         "y": [
          2,
          1,
          1,
          2,
          1,
          2,
          1,
          4,
          8,
          3,
          1
         ],
         "yaxis": "y"
        },
        {
         "hoverlabel": {
          "namelength": 0
         },
         "hovertemplate": "노선명=7007<br>시간=%{x}<br>이용량=%{y}",
         "legendgroup": "노선명=7007",
         "marker": {
          "color": "#FFA15A",
          "symbol": "circle"
         },
         "mode": "markers",
         "name": "노선명=7007",
         "showlegend": true,
         "type": "scattergl",
         "x": [
          13,
          17
         ],
         "xaxis": "x",
         "y": [
          1,
          1
         ],
         "yaxis": "y"
        },
        {
         "hoverlabel": {
          "namelength": 0
         },
         "hovertemplate": "노선명=7007-1<br>시간=%{x}<br>이용량=%{y}",
         "legendgroup": "노선명=7007-1",
         "marker": {
          "color": "#19d3f3",
          "symbol": "circle"
         },
         "mode": "markers",
         "name": "노선명=7007-1",
         "showlegend": true,
         "type": "scattergl",
         "x": [
          20
         ],
         "xaxis": "x",
         "y": [
          1
         ],
         "yaxis": "y"
        },
        {
         "hoverlabel": {
          "namelength": 0
         },
         "hovertemplate": "노선명=701<br>시간=%{x}<br>이용량=%{y}",
         "legendgroup": "노선명=701",
         "marker": {
          "color": "#FF6692",
          "symbol": "circle"
         },
         "mode": "markers",
         "name": "노선명=701",
         "showlegend": true,
         "type": "scattergl",
         "x": [
          4,
          5,
          6,
          7,
          8,
          9,
          10,
          11,
          12,
          13,
          14,
          15,
          16,
          17,
          18,
          19,
          20,
          21,
          22,
          23
         ],
         "xaxis": "x",
         "y": [
          11,
          74,
          90,
          199,
          271,
          137,
          101,
          92,
          141,
          202,
          179,
          154,
          209,
          223,
          208,
          176,
          133,
          111,
          169,
          68
         ],
         "yaxis": "y"
        },
        {
         "hoverlabel": {
          "namelength": 0
         },
         "hovertemplate": "노선명=702<br>시간=%{x}<br>이용량=%{y}",
         "legendgroup": "노선명=702",
         "marker": {
          "color": "#B6E880",
          "symbol": "circle"
         },
         "mode": "markers",
         "name": "노선명=702",
         "showlegend": true,
         "type": "scattergl",
         "x": [
          5,
          6,
          7,
          8,
          9,
          10,
          11,
          12,
          13,
          14,
          15,
          16,
          17,
          18,
          19,
          20,
          21,
          22
         ],
         "xaxis": "x",
         "y": [
          22,
          56,
          93,
          54,
          24,
          6,
          19,
          24,
          43,
          21,
          29,
          11,
          19,
          26,
          23,
          23,
          19,
          3
         ],
         "yaxis": "y"
        },
        {
         "hoverlabel": {
          "namelength": 0
         },
         "hovertemplate": "노선명=707<br>시간=%{x}<br>이용량=%{y}",
         "legendgroup": "노선명=707",
         "marker": {
          "color": "#FF97FF",
          "symbol": "circle"
         },
         "mode": "markers",
         "name": "노선명=707",
         "showlegend": true,
         "type": "scattergl",
         "x": [
          4,
          5,
          6,
          7,
          8,
          9,
          10,
          11,
          12,
          13,
          14,
          15,
          16,
          17,
          18,
          19,
          20,
          21,
          22
         ],
         "xaxis": "x",
         "y": [
          5,
          14,
          11,
          19,
          14,
          6,
          7,
          6,
          5,
          6,
          6,
          6,
          18,
          7,
          10,
          8,
          2,
          4,
          5
         ],
         "yaxis": "y"
        },
        {
         "hoverlabel": {
          "namelength": 0
         },
         "hovertemplate": "노선명=708<br>시간=%{x}<br>이용량=%{y}",
         "legendgroup": "노선명=708",
         "marker": {
          "color": "#FECB52",
          "symbol": "circle"
         },
         "mode": "markers",
         "name": "노선명=708",
         "showlegend": true,
         "type": "scattergl",
         "x": [
          5,
          6,
          7,
          8,
          9,
          10,
          11,
          12,
          13,
          14,
          15,
          16,
          17,
          18,
          19,
          20,
          21,
          22,
          23
         ],
         "xaxis": "x",
         "y": [
          56,
          139,
          294,
          301,
          194,
          121,
          140,
          147,
          177,
          124,
          182,
          223,
          244,
          345,
          141,
          134,
          157,
          162,
          76
         ],
         "yaxis": "y"
        },
        {
         "hoverlabel": {
          "namelength": 0
         },
         "hovertemplate": "노선명=709<br>시간=%{x}<br>이용량=%{y}",
         "legendgroup": "노선명=709",
         "marker": {
          "color": "#636efa",
          "symbol": "circle"
         },
         "mode": "markers",
         "name": "노선명=709",
         "showlegend": true,
         "type": "scattergl",
         "x": [
          6,
          7,
          8,
          9,
          10,
          13,
          15,
          17,
          18,
          19,
          20,
          21
         ],
         "xaxis": "x",
         "y": [
          3,
          22,
          5,
          3,
          4,
          3,
          2,
          1,
          12,
          4,
          5,
          2
         ],
         "yaxis": "y"
        },
        {
         "hoverlabel": {
          "namelength": 0
         },
         "hovertemplate": "노선명=709-1<br>시간=%{x}<br>이용량=%{y}",
         "legendgroup": "노선명=709-1",
         "marker": {
          "color": "#EF553B",
          "symbol": "circle"
         },
         "mode": "markers",
         "name": "노선명=709-1",
         "showlegend": true,
         "type": "scattergl",
         "x": [
          6,
          7,
          8,
          9,
          10,
          11,
          12,
          13,
          15,
          16,
          18,
          19,
          20,
          21,
          22,
          23
         ],
         "xaxis": "x",
         "y": [
          16,
          18,
          10,
          8,
          3,
          1,
          3,
          5,
          2,
          5,
          2,
          4,
          10,
          6,
          1,
          5
         ],
         "yaxis": "y"
        },
        {
         "hoverlabel": {
          "namelength": 0
         },
         "hovertemplate": "노선명=71<br>시간=%{x}<br>이용량=%{y}",
         "legendgroup": "노선명=71",
         "marker": {
          "color": "#00cc96",
          "symbol": "circle"
         },
         "mode": "markers",
         "name": "노선명=71",
         "showlegend": true,
         "type": "scattergl",
         "x": [
          5,
          6,
          7,
          8,
          9,
          10,
          11,
          12,
          13,
          14,
          15,
          16,
          17,
          18,
          19,
          20,
          21
         ],
         "xaxis": "x",
         "y": [
          2,
          9,
          9,
          39,
          15,
          7,
          11,
          6,
          10,
          3,
          11,
          12,
          6,
          9,
          8,
          19,
          5
         ],
         "yaxis": "y"
        },
        {
         "hoverlabel": {
          "namelength": 0
         },
         "hovertemplate": "노선명=71-2<br>시간=%{x}<br>이용량=%{y}",
         "legendgroup": "노선명=71-2",
         "marker": {
          "color": "#ab63fa",
          "symbol": "circle"
         },
         "mode": "markers",
         "name": "노선명=71-2",
         "showlegend": true,
         "type": "scattergl",
         "x": [
          8
         ],
         "xaxis": "x",
         "y": [
          2
         ],
         "yaxis": "y"
        },
        {
         "hoverlabel": {
          "namelength": 0
         },
         "hovertemplate": "노선명=710<br>시간=%{x}<br>이용량=%{y}",
         "legendgroup": "노선명=710",
         "marker": {
          "color": "#FFA15A",
          "symbol": "circle"
         },
         "mode": "markers",
         "name": "노선명=710",
         "showlegend": true,
         "type": "scattergl",
         "x": [
          5,
          6,
          7,
          8,
          9,
          10,
          11,
          12,
          13,
          14,
          15,
          16,
          17,
          18,
          19,
          20
         ],
         "xaxis": "x",
         "y": [
          6,
          14,
          33,
          31,
          14,
          1,
          10,
          8,
          35,
          5,
          20,
          3,
          22,
          16,
          8,
          5
         ],
         "yaxis": "y"
        },
        {
         "hoverlabel": {
          "namelength": 0
         },
         "hovertemplate": "노선명=712<br>시간=%{x}<br>이용량=%{y}",
         "legendgroup": "노선명=712",
         "marker": {
          "color": "#19d3f3",
          "symbol": "circle"
         },
         "mode": "markers",
         "name": "노선명=712",
         "showlegend": true,
         "type": "scattergl",
         "x": [
          5,
          6,
          7,
          8,
          9,
          10,
          11,
          12,
          13,
          14,
          15,
          16,
          17,
          18,
          19,
          20,
          21,
          22
         ],
         "xaxis": "x",
         "y": [
          17,
          91,
          114,
          83,
          73,
          18,
          45,
          74,
          40,
          54,
          56,
          38,
          63,
          82,
          59,
          36,
          40,
          20
         ],
         "yaxis": "y"
        },
        {
         "hoverlabel": {
          "namelength": 0
         },
         "hovertemplate": "노선명=72<br>시간=%{x}<br>이용량=%{y}",
         "legendgroup": "노선명=72",
         "marker": {
          "color": "#FF6692",
          "symbol": "circle"
         },
         "mode": "markers",
         "name": "노선명=72",
         "showlegend": true,
         "type": "scattergl",
         "x": [
          5,
          6,
          7,
          8,
          9,
          10,
          11,
          12,
          13,
          14,
          15,
          16,
          17,
          18,
          19,
          20,
          21,
          22
         ],
         "xaxis": "x",
         "y": [
          5,
          13,
          27,
          17,
          11,
          6,
          4,
          5,
          18,
          8,
          11,
          9,
          16,
          1,
          15,
          4,
          8,
          2
         ],
         "yaxis": "y"
        },
        {
         "hoverlabel": {
          "namelength": 0
         },
         "hovertemplate": "노선명=72-1<br>시간=%{x}<br>이용량=%{y}",
         "legendgroup": "노선명=72-1",
         "marker": {
          "color": "#B6E880",
          "symbol": "circle"
         },
         "mode": "markers",
         "name": "노선명=72-1",
         "showlegend": true,
         "type": "scattergl",
         "x": [
          8
         ],
         "xaxis": "x",
         "y": [
          2
         ],
         "yaxis": "y"
        },
        {
         "hoverlabel": {
          "namelength": 0
         },
         "hovertemplate": "노선명=720<br>시간=%{x}<br>이용량=%{y}",
         "legendgroup": "노선명=720",
         "marker": {
          "color": "#FF97FF",
          "symbol": "circle"
         },
         "mode": "markers",
         "name": "노선명=720",
         "showlegend": true,
         "type": "scattergl",
         "x": [
          4,
          6,
          7,
          8,
          9,
          10,
          11,
          12,
          13,
          14,
          15,
          16,
          17,
          18,
          19,
          20,
          21,
          22,
          23
         ],
         "xaxis": "x",
         "y": [
          1,
          3,
          8,
          9,
          5,
          8,
          4,
          2,
          4,
          5,
          2,
          5,
          7,
          8,
          4,
          2,
          6,
          5,
          3
         ],
         "yaxis": "y"
        },
        {
         "hoverlabel": {
          "namelength": 0
         },
         "hovertemplate": "노선명=720-1<br>시간=%{x}<br>이용량=%{y}",
         "legendgroup": "노선명=720-1",
         "marker": {
          "color": "#FECB52",
          "symbol": "circle"
         },
         "mode": "markers",
         "name": "노선명=720-1",
         "showlegend": true,
         "type": "scattergl",
         "x": [
          4,
          5,
          6,
          7,
          8,
          9,
          10,
          11,
          12,
          13,
          14,
          15,
          16,
          17,
          18,
          19,
          20,
          21,
          22,
          23
         ],
         "xaxis": "x",
         "y": [
          35,
          373,
          634,
          1713,
          1937,
          884,
          574,
          786,
          912,
          883,
          727,
          726,
          881,
          1058,
          1235,
          905,
          718,
          578,
          283,
          132
         ],
         "yaxis": "y"
        },
        {
         "hoverlabel": {
          "namelength": 0
         },
         "hovertemplate": "노선명=720-1A<br>시간=%{x}<br>이용량=%{y}",
         "legendgroup": "노선명=720-1A",
         "marker": {
          "color": "#636efa",
          "symbol": "circle"
         },
         "mode": "markers",
         "name": "노선명=720-1A",
         "showlegend": true,
         "type": "scattergl",
         "x": [
          7,
          20,
          21,
          22,
          23
         ],
         "xaxis": "x",
         "y": [
          5,
          9,
          132,
          267,
          105
         ],
         "yaxis": "y"
        },
        {
         "hoverlabel": {
          "namelength": 0
         },
         "hovertemplate": "노선명=720-2<br>시간=%{x}<br>이용량=%{y}",
         "legendgroup": "노선명=720-2",
         "marker": {
          "color": "#EF553B",
          "symbol": "circle"
         },
         "mode": "markers",
         "name": "노선명=720-2",
         "showlegend": true,
         "type": "scattergl",
         "x": [
          5,
          6,
          7,
          8,
          9,
          10,
          11,
          12,
          13,
          14,
          15,
          16,
          17,
          18,
          19,
          20,
          21,
          22,
          23
         ],
         "xaxis": "x",
         "y": [
          264,
          747,
          1712,
          2080,
          1301,
          893,
          953,
          1212,
          1279,
          1054,
          1133,
          1383,
          1733,
          1735,
          1305,
          1171,
          1075,
          876,
          434
         ],
         "yaxis": "y"
        },
        {
         "hoverlabel": {
          "namelength": 0
         },
         "hovertemplate": "노선명=720-3<br>시간=%{x}<br>이용량=%{y}",
         "legendgroup": "노선명=720-3",
         "marker": {
          "color": "#00cc96",
          "symbol": "circle"
         },
         "mode": "markers",
         "name": "노선명=720-3",
         "showlegend": true,
         "type": "scattergl",
         "x": [
          5,
          6,
          7,
          8,
          9,
          10,
          11,
          12,
          13,
          14,
          15,
          16,
          17,
          18,
          19,
          20,
          21,
          22,
          23
         ],
         "xaxis": "x",
         "y": [
          90,
          330,
          1116,
          1142,
          594,
          444,
          406,
          552,
          532,
          428,
          622,
          616,
          916,
          1006,
          814,
          532,
          510,
          464,
          108
         ],
         "yaxis": "y"
        },
        {
         "hoverlabel": {
          "namelength": 0
         },
         "hovertemplate": "노선명=721<br>시간=%{x}<br>이용량=%{y}",
         "legendgroup": "노선명=721",
         "marker": {
          "color": "#ab63fa",
          "symbol": "circle"
         },
         "mode": "markers",
         "name": "노선명=721",
         "showlegend": true,
         "type": "scattergl",
         "x": [
          6,
          7,
          8,
          9,
          10,
          11,
          12,
          13,
          14,
          15,
          16,
          17,
          18,
          19,
          20,
          21,
          22
         ],
         "xaxis": "x",
         "y": [
          47,
          196,
          169,
          112,
          64,
          64,
          134,
          74,
          67,
          87,
          126,
          141,
          177,
          99,
          99,
          76,
          33
         ],
         "yaxis": "y"
        },
        {
         "hoverlabel": {
          "namelength": 0
         },
         "hovertemplate": "노선명=73<br>시간=%{x}<br>이용량=%{y}",
         "legendgroup": "노선명=73",
         "marker": {
          "color": "#FFA15A",
          "symbol": "circle"
         },
         "mode": "markers",
         "name": "노선명=73",
         "showlegend": true,
         "type": "scattergl",
         "x": [
          5,
          6,
          7,
          8,
          9,
          10,
          11,
          12,
          13,
          14,
          15,
          16,
          17,
          18,
          19,
          20,
          21,
          22,
          23
         ],
         "xaxis": "x",
         "y": [
          32,
          132,
          273,
          229,
          172,
          115,
          91,
          152,
          252,
          134,
          144,
          211,
          203,
          207,
          179,
          126,
          148,
          117,
          7
         ],
         "yaxis": "y"
        },
        {
         "hoverlabel": {
          "namelength": 0
         },
         "hovertemplate": "노선명=73-1<br>시간=%{x}<br>이용량=%{y}",
         "legendgroup": "노선명=73-1",
         "marker": {
          "color": "#19d3f3",
          "symbol": "circle"
         },
         "mode": "markers",
         "name": "노선명=73-1",
         "showlegend": true,
         "type": "scattergl",
         "x": [
          5,
          6,
          7,
          8,
          9,
          10,
          11,
          12,
          13,
          14,
          15,
          16,
          17,
          18,
          19,
          20,
          21,
          22
         ],
         "xaxis": "x",
         "y": [
          4,
          45,
          92,
          139,
          39,
          31,
          31,
          36,
          54,
          57,
          58,
          95,
          89,
          62,
          63,
          54,
          26,
          1
         ],
         "yaxis": "y"
        },
        {
         "hoverlabel": {
          "namelength": 0
         },
         "hovertemplate": "노선명=733<br>시간=%{x}<br>이용량=%{y}",
         "legendgroup": "노선명=733",
         "marker": {
          "color": "#FF6692",
          "symbol": "circle"
         },
         "mode": "markers",
         "name": "노선명=733",
         "showlegend": true,
         "type": "scattergl",
         "x": [
          6,
          15,
          16,
          17
         ],
         "xaxis": "x",
         "y": [
          1,
          1,
          1,
          1
         ],
         "yaxis": "y"
        },
        {
         "hoverlabel": {
          "namelength": 0
         },
         "hovertemplate": "노선명=74<br>시간=%{x}<br>이용량=%{y}",
         "legendgroup": "노선명=74",
         "marker": {
          "color": "#B6E880",
          "symbol": "circle"
         },
         "mode": "markers",
         "name": "노선명=74",
         "showlegend": true,
         "type": "scattergl",
         "x": [
          6,
          16
         ],
         "xaxis": "x",
         "y": [
          1,
          1
         ],
         "yaxis": "y"
        },
        {
         "hoverlabel": {
          "namelength": 0
         },
         "hovertemplate": "노선명=75<br>시간=%{x}<br>이용량=%{y}",
         "legendgroup": "노선명=75",
         "marker": {
          "color": "#FF97FF",
          "symbol": "circle"
         },
         "mode": "markers",
         "name": "노선명=75",
         "showlegend": true,
         "type": "scattergl",
         "x": [
          6,
          7,
          8,
          9,
          11,
          12,
          15,
          17,
          18,
          22
         ],
         "xaxis": "x",
         "y": [
          1,
          8,
          1,
          1,
          1,
          1,
          2,
          4,
          2,
          2
         ],
         "yaxis": "y"
        },
        {
         "hoverlabel": {
          "namelength": 0
         },
         "hovertemplate": "노선명=76<br>시간=%{x}<br>이용량=%{y}",
         "legendgroup": "노선명=76",
         "marker": {
          "color": "#FECB52",
          "symbol": "circle"
         },
         "mode": "markers",
         "name": "노선명=76",
         "showlegend": true,
         "type": "scattergl",
         "x": [
          6,
          7,
          8,
          9,
          11,
          12,
          13,
          14,
          15,
          16,
          17,
          18,
          19,
          20,
          22
         ],
         "xaxis": "x",
         "y": [
          7,
          21,
          12,
          7,
          5,
          2,
          8,
          2,
          3,
          2,
          6,
          1,
          6,
          3,
          1
         ],
         "yaxis": "y"
        },
        {
         "hoverlabel": {
          "namelength": 0
         },
         "hovertemplate": "노선명=77<br>시간=%{x}<br>이용량=%{y}",
         "legendgroup": "노선명=77",
         "marker": {
          "color": "#636efa",
          "symbol": "circle"
         },
         "mode": "markers",
         "name": "노선명=77",
         "showlegend": true,
         "type": "scattergl",
         "x": [
          5,
          6,
          7,
          8,
          9,
          10,
          11,
          12,
          13,
          14,
          15,
          16,
          17,
          18,
          19,
          20,
          21
         ],
         "xaxis": "x",
         "y": [
          1,
          3,
          6,
          7,
          5,
          1,
          2,
          3,
          1,
          3,
          2,
          2,
          5,
          3,
          2,
          2,
          1
         ],
         "yaxis": "y"
        },
        {
         "hoverlabel": {
          "namelength": 0
         },
         "hovertemplate": "노선명=777<br>시간=%{x}<br>이용량=%{y}",
         "legendgroup": "노선명=777",
         "marker": {
          "color": "#EF553B",
          "symbol": "circle"
         },
         "mode": "markers",
         "name": "노선명=777",
         "showlegend": true,
         "type": "scattergl",
         "x": [
          5,
          6,
          7,
          8,
          9,
          10,
          11,
          12,
          13,
          14,
          15,
          16,
          17,
          18,
          19,
          20,
          21,
          22,
          23
         ],
         "xaxis": "x",
         "y": [
          4,
          17,
          39,
          35,
          29,
          27,
          17,
          37,
          24,
          19,
          33,
          44,
          32,
          46,
          27,
          22,
          26,
          20,
          12
         ],
         "yaxis": "y"
        },
        {
         "hoverlabel": {
          "namelength": 0
         },
         "hovertemplate": "노선명=7770<br>시간=%{x}<br>이용량=%{y}",
         "legendgroup": "노선명=7770",
         "marker": {
          "color": "#00cc96",
          "symbol": "circle"
         },
         "mode": "markers",
         "name": "노선명=7770",
         "showlegend": true,
         "type": "scattergl",
         "x": [
          4,
          5,
          6,
          7,
          8,
          9,
          10,
          11,
          12,
          13,
          14,
          15,
          16,
          17,
          18,
          19,
          20,
          21,
          22,
          23
         ],
         "xaxis": "x",
         "y": [
          1,
          7,
          1,
          6,
          4,
          3,
          1,
          2,
          3,
          1,
          5,
          4,
          10,
          11,
          12,
          10,
          12,
          13,
          10,
          6
         ],
         "yaxis": "y"
        },
        {
         "hoverlabel": {
          "namelength": 0
         },
         "hovertemplate": "노선명=7780<br>시간=%{x}<br>이용량=%{y}",
         "legendgroup": "노선명=7780",
         "marker": {
          "color": "#ab63fa",
          "symbol": "circle"
         },
         "mode": "markers",
         "name": "노선명=7780",
         "showlegend": true,
         "type": "scattergl",
         "x": [
          7,
          9,
          12,
          13,
          14,
          15,
          16,
          17,
          18,
          19,
          20,
          21,
          22,
          23
         ],
         "xaxis": "x",
         "y": [
          2,
          3,
          1,
          3,
          2,
          1,
          1,
          4,
          6,
          5,
          5,
          3,
          2,
          3
         ],
         "yaxis": "y"
        },
        {
         "hoverlabel": {
          "namelength": 0
         },
         "hovertemplate": "노선명=7790<br>시간=%{x}<br>이용량=%{y}",
         "legendgroup": "노선명=7790",
         "marker": {
          "color": "#FFA15A",
          "symbol": "circle"
         },
         "mode": "markers",
         "name": "노선명=7790",
         "showlegend": true,
         "type": "scattergl",
         "x": [
          6,
          7,
          8,
          9,
          12,
          13,
          14,
          15,
          16,
          17,
          18,
          19,
          20,
          21
         ],
         "xaxis": "x",
         "y": [
          3,
          8,
          4,
          1,
          1,
          1,
          1,
          1,
          1,
          2,
          3,
          2,
          1,
          1
         ],
         "yaxis": "y"
        },
        {
         "hoverlabel": {
          "namelength": 0
         },
         "hovertemplate": "노선명=78<br>시간=%{x}<br>이용량=%{y}",
         "legendgroup": "노선명=78",
         "marker": {
          "color": "#19d3f3",
          "symbol": "circle"
         },
         "mode": "markers",
         "name": "노선명=78",
         "showlegend": true,
         "type": "scattergl",
         "x": [
          8,
          13,
          15
         ],
         "xaxis": "x",
         "y": [
          1,
          5,
          3
         ],
         "yaxis": "y"
        },
        {
         "hoverlabel": {
          "namelength": 0
         },
         "hovertemplate": "노선명=7800<br>시간=%{x}<br>이용량=%{y}",
         "legendgroup": "노선명=7800",
         "marker": {
          "color": "#FF6692",
          "symbol": "circle"
         },
         "mode": "markers",
         "name": "노선명=7800",
         "showlegend": true,
         "type": "scattergl",
         "x": [
          5,
          7,
          8,
          9,
          10,
          11,
          12,
          13,
          14,
          15,
          16,
          17,
          18,
          19,
          20,
          21,
          23
         ],
         "xaxis": "x",
         "y": [
          2,
          10,
          6,
          12,
          3,
          3,
          3,
          2,
          2,
          8,
          5,
          4,
          6,
          3,
          4,
          2,
          5
         ],
         "yaxis": "y"
        },
        {
         "hoverlabel": {
          "namelength": 0
         },
         "hovertemplate": "노선명=79<br>시간=%{x}<br>이용량=%{y}",
         "legendgroup": "노선명=79",
         "marker": {
          "color": "#B6E880",
          "symbol": "circle"
         },
         "mode": "markers",
         "name": "노선명=79",
         "showlegend": true,
         "type": "scattergl",
         "x": [
          6,
          10,
          12,
          13,
          16,
          18,
          19
         ],
         "xaxis": "x",
         "y": [
          2,
          1,
          1,
          4,
          1,
          1,
          1
         ],
         "yaxis": "y"
        },
        {
         "hoverlabel": {
          "namelength": 0
         },
         "hovertemplate": "노선명=7900<br>시간=%{x}<br>이용량=%{y}",
         "legendgroup": "노선명=7900",
         "marker": {
          "color": "#FF97FF",
          "symbol": "circle"
         },
         "mode": "markers",
         "name": "노선명=7900",
         "showlegend": true,
         "type": "scattergl",
         "x": [
          10,
          11,
          13,
          14,
          15,
          16,
          17,
          18,
          21
         ],
         "xaxis": "x",
         "y": [
          2,
          1,
          1,
          3,
          1,
          1,
          2,
          4,
          1
         ],
         "yaxis": "y"
        },
        {
         "hoverlabel": {
          "namelength": 0
         },
         "hovertemplate": "노선명=8<br>시간=%{x}<br>이용량=%{y}",
         "legendgroup": "노선명=8",
         "marker": {
          "color": "#FECB52",
          "symbol": "circle"
         },
         "mode": "markers",
         "name": "노선명=8",
         "showlegend": true,
         "type": "scattergl",
         "x": [
          4,
          5,
          6,
          7,
          8,
          9,
          10,
          11,
          12,
          13,
          14,
          15,
          16,
          17,
          18,
          19,
          20,
          21,
          22,
          23
         ],
         "xaxis": "x",
         "y": [
          2,
          103,
          378,
          797,
          1078,
          460,
          374,
          374,
          376,
          564,
          405,
          470,
          682,
          744,
          682,
          424,
          304,
          283,
          234,
          87
         ],
         "yaxis": "y"
        },
        {
         "hoverlabel": {
          "namelength": 0
         },
         "hovertemplate": "노선명=8-1<br>시간=%{x}<br>이용량=%{y}",
         "legendgroup": "노선명=8-1",
         "marker": {
          "color": "#636efa",
          "symbol": "circle"
         },
         "mode": "markers",
         "name": "노선명=8-1",
         "showlegend": true,
         "type": "scattergl",
         "x": [
          5,
          6,
          7,
          8,
          9,
          10,
          11,
          12,
          13,
          14,
          16,
          17,
          18,
          19,
          20,
          21,
          22,
          23
         ],
         "xaxis": "x",
         "y": [
          6,
          2,
          6,
          7,
          2,
          3,
          1,
          1,
          1,
          4,
          2,
          4,
          2,
          2,
          2,
          1,
          3,
          1
         ],
         "yaxis": "y"
        },
        {
         "hoverlabel": {
          "namelength": 0
         },
         "hovertemplate": "노선명=8-2<br>시간=%{x}<br>이용량=%{y}",
         "legendgroup": "노선명=8-2",
         "marker": {
          "color": "#EF553B",
          "symbol": "circle"
         },
         "mode": "markers",
         "name": "노선명=8-2",
         "showlegend": true,
         "type": "scattergl",
         "x": [
          5,
          6,
          7,
          8,
          9,
          10,
          11,
          12,
          13,
          14,
          15,
          16,
          17,
          18,
          19,
          20,
          21,
          22
         ],
         "xaxis": "x",
         "y": [
          3,
          2,
          8,
          7,
          1,
          5,
          1,
          1,
          1,
          6,
          3,
          5,
          10,
          10,
          4,
          10,
          1,
          1
         ],
         "yaxis": "y"
        },
        {
         "hoverlabel": {
          "namelength": 0
         },
         "hovertemplate": "노선명=80<br>시간=%{x}<br>이용량=%{y}",
         "legendgroup": "노선명=80",
         "marker": {
          "color": "#00cc96",
          "symbol": "circle"
         },
         "mode": "markers",
         "name": "노선명=80",
         "showlegend": true,
         "type": "scattergl",
         "x": [
          5,
          6,
          7,
          8,
          9,
          10,
          11,
          12,
          13,
          14,
          15,
          16,
          17,
          18,
          19,
          20,
          21,
          22,
          23
         ],
         "xaxis": "x",
         "y": [
          22,
          76,
          124,
          113,
          55,
          34,
          29,
          61,
          34,
          40,
          64,
          69,
          82,
          61,
          46,
          36,
          29,
          44,
          4
         ],
         "yaxis": "y"
        },
        {
         "hoverlabel": {
          "namelength": 0
         },
         "hovertemplate": "노선명=8002<br>시간=%{x}<br>이용량=%{y}",
         "legendgroup": "노선명=8002",
         "marker": {
          "color": "#ab63fa",
          "symbol": "circle"
         },
         "mode": "markers",
         "name": "노선명=8002",
         "showlegend": true,
         "type": "scattergl",
         "x": [
          6,
          9,
          16,
          18,
          20
         ],
         "xaxis": "x",
         "y": [
          2,
          1,
          1,
          1,
          1
         ],
         "yaxis": "y"
        },
        {
         "hoverlabel": {
          "namelength": 0
         },
         "hovertemplate": "노선명=8012<br>시간=%{x}<br>이용량=%{y}",
         "legendgroup": "노선명=8012",
         "marker": {
          "color": "#FFA15A",
          "symbol": "circle"
         },
         "mode": "markers",
         "name": "노선명=8012",
         "showlegend": true,
         "type": "scattergl",
         "x": [
          6,
          14,
          16
         ],
         "xaxis": "x",
         "y": [
          2,
          1,
          1
         ],
         "yaxis": "y"
        },
        {
         "hoverlabel": {
          "namelength": 0
         },
         "hovertemplate": "노선명=81<br>시간=%{x}<br>이용량=%{y}",
         "legendgroup": "노선명=81",
         "marker": {
          "color": "#19d3f3",
          "symbol": "circle"
         },
         "mode": "markers",
         "name": "노선명=81",
         "showlegend": true,
         "type": "scattergl",
         "x": [
          5,
          6,
          7,
          8,
          9,
          10,
          11,
          12,
          13,
          14,
          15,
          16,
          17,
          18,
          19,
          20,
          21,
          22,
          23
         ],
         "xaxis": "x",
         "y": [
          47,
          153,
          321,
          396,
          160,
          168,
          174,
          193,
          236,
          169,
          213,
          222,
          273,
          311,
          228,
          184,
          156,
          142,
          51
         ],
         "yaxis": "y"
        },
        {
         "hoverlabel": {
          "namelength": 0
         },
         "hovertemplate": "노선명=81-1<br>시간=%{x}<br>이용량=%{y}",
         "legendgroup": "노선명=81-1",
         "marker": {
          "color": "#FF6692",
          "symbol": "circle"
         },
         "mode": "markers",
         "name": "노선명=81-1",
         "showlegend": true,
         "type": "scattergl",
         "x": [
          9
         ],
         "xaxis": "x",
         "y": [
          2
         ],
         "yaxis": "y"
        },
        {
         "hoverlabel": {
          "namelength": 0
         },
         "hovertemplate": "노선명=810<br>시간=%{x}<br>이용량=%{y}",
         "legendgroup": "노선명=810",
         "marker": {
          "color": "#B6E880",
          "symbol": "circle"
         },
         "mode": "markers",
         "name": "노선명=810",
         "showlegend": true,
         "type": "scattergl",
         "x": [
          5,
          12
         ],
         "xaxis": "x",
         "y": [
          1,
          1
         ],
         "yaxis": "y"
        },
        {
         "hoverlabel": {
          "namelength": 0
         },
         "hovertemplate": "노선명=8100<br>시간=%{x}<br>이용량=%{y}",
         "legendgroup": "노선명=8100",
         "marker": {
          "color": "#FF97FF",
          "symbol": "circle"
         },
         "mode": "markers",
         "name": "노선명=8100",
         "showlegend": true,
         "type": "scattergl",
         "x": [
          8,
          9,
          13,
          14,
          15,
          16,
          17,
          18,
          20,
          22
         ],
         "xaxis": "x",
         "y": [
          2,
          4,
          1,
          3,
          2,
          1,
          8,
          3,
          3,
          4
         ],
         "yaxis": "y"
        },
        {
         "hoverlabel": {
          "namelength": 0
         },
         "hovertemplate": "노선명=8101<br>시간=%{x}<br>이용량=%{y}",
         "legendgroup": "노선명=8101",
         "marker": {
          "color": "#FECB52",
          "symbol": "circle"
         },
         "mode": "markers",
         "name": "노선명=8101",
         "showlegend": true,
         "type": "scattergl",
         "x": [
          12,
          13,
          15,
          16,
          18,
          20,
          21,
          22
         ],
         "xaxis": "x",
         "y": [
          1,
          1,
          2,
          1,
          2,
          2,
          2,
          1
         ],
         "yaxis": "y"
        },
        {
         "hoverlabel": {
          "namelength": 0
         },
         "hovertemplate": "노선명=8106<br>시간=%{x}<br>이용량=%{y}",
         "legendgroup": "노선명=8106",
         "marker": {
          "color": "#636efa",
          "symbol": "circle"
         },
         "mode": "markers",
         "name": "노선명=8106",
         "showlegend": true,
         "type": "scattergl",
         "x": [
          5,
          6,
          10,
          11,
          13,
          17,
          18,
          19,
          21
         ],
         "xaxis": "x",
         "y": [
          1,
          2,
          1,
          1,
          1,
          1,
          2,
          2,
          1
         ],
         "yaxis": "y"
        },
        {
         "hoverlabel": {
          "namelength": 0
         },
         "hovertemplate": "노선명=8109<br>시간=%{x}<br>이용량=%{y}",
         "legendgroup": "노선명=8109",
         "marker": {
          "color": "#EF553B",
          "symbol": "circle"
         },
         "mode": "markers",
         "name": "노선명=8109",
         "showlegend": true,
         "type": "scattergl",
         "x": [
          6,
          7,
          12,
          18,
          21
         ],
         "xaxis": "x",
         "y": [
          1,
          1,
          1,
          1,
          1
         ],
         "yaxis": "y"
        },
        {
         "hoverlabel": {
          "namelength": 0
         },
         "hovertemplate": "노선명=8155<br>시간=%{x}<br>이용량=%{y}",
         "legendgroup": "노선명=8155",
         "marker": {
          "color": "#00cc96",
          "symbol": "circle"
         },
         "mode": "markers",
         "name": "노선명=8155",
         "showlegend": true,
         "type": "scattergl",
         "x": [
          5,
          6,
          7,
          8,
          9,
          10,
          11,
          12,
          13,
          14,
          15,
          16,
          17,
          18,
          19,
          20,
          21,
          22
         ],
         "xaxis": "x",
         "y": [
          3,
          10,
          7,
          3,
          3,
          3,
          3,
          4,
          5,
          5,
          5,
          5,
          8,
          3,
          3,
          9,
          12,
          6
         ],
         "yaxis": "y"
        },
        {
         "hoverlabel": {
          "namelength": 0
         },
         "hovertemplate": "노선명=8156<br>시간=%{x}<br>이용량=%{y}",
         "legendgroup": "노선명=8156",
         "marker": {
          "color": "#ab63fa",
          "symbol": "circle"
         },
         "mode": "markers",
         "name": "노선명=8156",
         "showlegend": true,
         "type": "scattergl",
         "x": [
          5,
          7,
          9,
          11,
          13,
          14,
          15,
          16,
          18,
          19,
          20,
          21,
          22
         ],
         "xaxis": "x",
         "y": [
          1,
          3,
          2,
          1,
          1,
          3,
          2,
          1,
          2,
          7,
          6,
          1,
          2
         ],
         "yaxis": "y"
        },
        {
         "hoverlabel": {
          "namelength": 0
         },
         "hovertemplate": "노선명=82<br>시간=%{x}<br>이용량=%{y}",
         "legendgroup": "노선명=82",
         "marker": {
          "color": "#FFA15A",
          "symbol": "circle"
         },
         "mode": "markers",
         "name": "노선명=82",
         "showlegend": true,
         "type": "scattergl",
         "x": [
          8,
          10,
          11,
          22
         ],
         "xaxis": "x",
         "y": [
          2,
          1,
          1,
          1
         ],
         "yaxis": "y"
        },
        {
         "hoverlabel": {
          "namelength": 0
         },
         "hovertemplate": "노선명=82-1<br>시간=%{x}<br>이용량=%{y}",
         "legendgroup": "노선명=82-1",
         "marker": {
          "color": "#19d3f3",
          "symbol": "circle"
         },
         "mode": "markers",
         "name": "노선명=82-1",
         "showlegend": true,
         "type": "scattergl",
         "x": [
          5,
          6,
          7,
          8,
          9,
          10,
          11,
          12,
          13,
          14,
          15,
          16,
          17,
          18,
          19,
          20,
          21,
          22,
          23
         ],
         "xaxis": "x",
         "y": [
          11,
          35,
          76,
          76,
          50,
          32,
          43,
          62,
          59,
          36,
          42,
          40,
          54,
          56,
          36,
          24,
          29,
          28,
          7
         ],
         "yaxis": "y"
        },
        {
         "hoverlabel": {
          "namelength": 0
         },
         "hovertemplate": "노선명=82-2<br>시간=%{x}<br>이용량=%{y}",
         "legendgroup": "노선명=82-2",
         "marker": {
          "color": "#FF6692",
          "symbol": "circle"
         },
         "mode": "markers",
         "name": "노선명=82-2",
         "showlegend": true,
         "type": "scattergl",
         "x": [
          5,
          6,
          7,
          8,
          9,
          10,
          11,
          12,
          13,
          14,
          15,
          16,
          17,
          18,
          19,
          20,
          21,
          22,
          23
         ],
         "xaxis": "x",
         "y": [
          24,
          33,
          59,
          71,
          52,
          28,
          18,
          41,
          37,
          25,
          39,
          47,
          41,
          71,
          35,
          24,
          26,
          17,
          14
         ],
         "yaxis": "y"
        },
        {
         "hoverlabel": {
          "namelength": 0
         },
         "hovertemplate": "노선명=820<br>시간=%{x}<br>이용량=%{y}",
         "legendgroup": "노선명=820",
         "marker": {
          "color": "#B6E880",
          "symbol": "circle"
         },
         "mode": "markers",
         "name": "노선명=820",
         "showlegend": true,
         "type": "scattergl",
         "x": [
          5,
          6,
          7,
          8,
          9,
          10,
          11,
          12,
          14,
          15,
          16,
          17,
          18,
          19,
          20,
          21,
          22,
          23
         ],
         "xaxis": "x",
         "y": [
          2,
          3,
          2,
          6,
          7,
          3,
          5,
          8,
          1,
          4,
          2,
          1,
          11,
          3,
          2,
          5,
          2,
          4
         ],
         "yaxis": "y"
        },
        {
         "hoverlabel": {
          "namelength": 0
         },
         "hovertemplate": "노선명=8201<br>시간=%{x}<br>이용량=%{y}",
         "legendgroup": "노선명=8201",
         "marker": {
          "color": "#FF97FF",
          "symbol": "circle"
         },
         "mode": "markers",
         "name": "노선명=8201",
         "showlegend": true,
         "type": "scattergl",
         "x": [
          7,
          15,
          16,
          19,
          20,
          21
         ],
         "xaxis": "x",
         "y": [
          1,
          1,
          1,
          1,
          3,
          4
         ],
         "yaxis": "y"
        },
        {
         "hoverlabel": {
          "namelength": 0
         },
         "hovertemplate": "노선명=83<br>시간=%{x}<br>이용량=%{y}",
         "legendgroup": "노선명=83",
         "marker": {
          "color": "#FECB52",
          "symbol": "circle"
         },
         "mode": "markers",
         "name": "노선명=83",
         "showlegend": true,
         "type": "scattergl",
         "x": [
          6,
          7,
          11,
          17,
          18,
          23
         ],
         "xaxis": "x",
         "y": [
          3,
          2,
          1,
          1,
          1,
          1
         ],
         "yaxis": "y"
        },
        {
         "hoverlabel": {
          "namelength": 0
         },
         "hovertemplate": "노선명=83-1<br>시간=%{x}<br>이용량=%{y}",
         "legendgroup": "노선명=83-1",
         "marker": {
          "color": "#636efa",
          "symbol": "circle"
         },
         "mode": "markers",
         "name": "노선명=83-1",
         "showlegend": true,
         "type": "scattergl",
         "x": [
          5,
          6,
          7,
          8,
          9,
          10,
          11,
          12,
          13,
          14,
          15,
          16,
          17,
          18,
          19,
          20,
          21,
          22,
          23
         ],
         "xaxis": "x",
         "y": [
          10,
          28,
          78,
          58,
          44,
          15,
          29,
          42,
          32,
          33,
          25,
          31,
          23,
          34,
          22,
          10,
          16,
          3,
          10
         ],
         "yaxis": "y"
        },
        {
         "hoverlabel": {
          "namelength": 0
         },
         "hovertemplate": "노선명=830<br>시간=%{x}<br>이용량=%{y}",
         "legendgroup": "노선명=830",
         "marker": {
          "color": "#EF553B",
          "symbol": "circle"
         },
         "mode": "markers",
         "name": "노선명=830",
         "showlegend": true,
         "type": "scattergl",
         "x": [
          5,
          21
         ],
         "xaxis": "x",
         "y": [
          1,
          1
         ],
         "yaxis": "y"
        },
        {
         "hoverlabel": {
          "namelength": 0
         },
         "hovertemplate": "노선명=84<br>시간=%{x}<br>이용량=%{y}",
         "legendgroup": "노선명=84",
         "marker": {
          "color": "#00cc96",
          "symbol": "circle"
         },
         "mode": "markers",
         "name": "노선명=84",
         "showlegend": true,
         "type": "scattergl",
         "x": [
          11
         ],
         "xaxis": "x",
         "y": [
          1
         ],
         "yaxis": "y"
        },
        {
         "hoverlabel": {
          "namelength": 0
         },
         "hovertemplate": "노선명=84-1<br>시간=%{x}<br>이용량=%{y}",
         "legendgroup": "노선명=84-1",
         "marker": {
          "color": "#ab63fa",
          "symbol": "circle"
         },
         "mode": "markers",
         "name": "노선명=84-1",
         "showlegend": true,
         "type": "scattergl",
         "x": [
          8
         ],
         "xaxis": "x",
         "y": [
          1
         ],
         "yaxis": "y"
        },
        {
         "hoverlabel": {
          "namelength": 0
         },
         "hovertemplate": "노선명=8409<br>시간=%{x}<br>이용량=%{y}",
         "legendgroup": "노선명=8409",
         "marker": {
          "color": "#FFA15A",
          "symbol": "circle"
         },
         "mode": "markers",
         "name": "노선명=8409",
         "showlegend": true,
         "type": "scattergl",
         "x": [
          4,
          5,
          6,
          8,
          9,
          10,
          11,
          12,
          13,
          14,
          15,
          16,
          17,
          18,
          19,
          20,
          21,
          22,
          23
         ],
         "xaxis": "x",
         "y": [
          1,
          3,
          1,
          2,
          4,
          1,
          3,
          2,
          5,
          3,
          5,
          2,
          2,
          4,
          4,
          3,
          4,
          3,
          1
         ],
         "yaxis": "y"
        },
        {
         "hoverlabel": {
          "namelength": 0
         },
         "hovertemplate": "노선명=85<br>시간=%{x}<br>이용량=%{y}",
         "legendgroup": "노선명=85",
         "marker": {
          "color": "#19d3f3",
          "symbol": "circle"
         },
         "mode": "markers",
         "name": "노선명=85",
         "showlegend": true,
         "type": "scattergl",
         "x": [
          5,
          6,
          7,
          8,
          10,
          11,
          12,
          13,
          15,
          16,
          17,
          18,
          19,
          21,
          22
         ],
         "xaxis": "x",
         "y": [
          5,
          9,
          5,
          14,
          6,
          3,
          6,
          2,
          2,
          12,
          8,
          6,
          4,
          4,
          2
         ],
         "yaxis": "y"
        },
        {
         "hoverlabel": {
          "namelength": 0
         },
         "hovertemplate": "노선명=8501<br>시간=%{x}<br>이용량=%{y}",
         "legendgroup": "노선명=8501",
         "marker": {
          "color": "#FF6692",
          "symbol": "circle"
         },
         "mode": "markers",
         "name": "노선명=8501",
         "showlegend": true,
         "type": "scattergl",
         "x": [
          5,
          6,
          7,
          8,
          9,
          10,
          11,
          12,
          13,
          14,
          15,
          16,
          17,
          18,
          19,
          20,
          21,
          22,
          23
         ],
         "xaxis": "x",
         "y": [
          19,
          138,
          136,
          97,
          42,
          34,
          35,
          26,
          28,
          28,
          30,
          30,
          83,
          103,
          41,
          56,
          48,
          46,
          26
         ],
         "yaxis": "y"
        },
        {
         "hoverlabel": {
          "namelength": 0
         },
         "hovertemplate": "노선명=8507<br>시간=%{x}<br>이용량=%{y}",
         "legendgroup": "노선명=8507",
         "marker": {
          "color": "#B6E880",
          "symbol": "circle"
         },
         "mode": "markers",
         "name": "노선명=8507",
         "showlegend": true,
         "type": "scattergl",
         "x": [
          18,
          21
         ],
         "xaxis": "x",
         "y": [
          1,
          1
         ],
         "yaxis": "y"
        },
        {
         "hoverlabel": {
          "namelength": 0
         },
         "hovertemplate": "노선명=8600<br>시간=%{x}<br>이용량=%{y}",
         "legendgroup": "노선명=8600",
         "marker": {
          "color": "#FF97FF",
          "symbol": "circle"
         },
         "mode": "markers",
         "name": "노선명=8600",
         "showlegend": true,
         "type": "scattergl",
         "x": [
          17
         ],
         "xaxis": "x",
         "y": [
          1
         ],
         "yaxis": "y"
        },
        {
         "hoverlabel": {
          "namelength": 0
         },
         "hovertemplate": "노선명=8601<br>시간=%{x}<br>이용량=%{y}",
         "legendgroup": "노선명=8601",
         "marker": {
          "color": "#FECB52",
          "symbol": "circle"
         },
         "mode": "markers",
         "name": "노선명=8601",
         "showlegend": true,
         "type": "scattergl",
         "x": [
          12
         ],
         "xaxis": "x",
         "y": [
          1
         ],
         "yaxis": "y"
        },
        {
         "hoverlabel": {
          "namelength": 0
         },
         "hovertemplate": "노선명=8601A<br>시간=%{x}<br>이용량=%{y}",
         "legendgroup": "노선명=8601A",
         "marker": {
          "color": "#636efa",
          "symbol": "circle"
         },
         "mode": "markers",
         "name": "노선명=8601A",
         "showlegend": true,
         "type": "scattergl",
         "x": [
          20
         ],
         "xaxis": "x",
         "y": [
          1
         ],
         "yaxis": "y"
        },
        {
         "hoverlabel": {
          "namelength": 0
         },
         "hovertemplate": "노선명=87<br>시간=%{x}<br>이용량=%{y}",
         "legendgroup": "노선명=87",
         "marker": {
          "color": "#EF553B",
          "symbol": "circle"
         },
         "mode": "markers",
         "name": "노선명=87",
         "showlegend": true,
         "type": "scattergl",
         "x": [
          5,
          6,
          7,
          8,
          9,
          10,
          11,
          12,
          13,
          14,
          15,
          16,
          17,
          18,
          19,
          20,
          21,
          22,
          23
         ],
         "xaxis": "x",
         "y": [
          1,
          7,
          10,
          12,
          5,
          2,
          1,
          1,
          2,
          1,
          6,
          6,
          8,
          21,
          9,
          14,
          11,
          3,
          1
         ],
         "yaxis": "y"
        },
        {
         "hoverlabel": {
          "namelength": 0
         },
         "hovertemplate": "노선명=88<br>시간=%{x}<br>이용량=%{y}",
         "legendgroup": "노선명=88",
         "marker": {
          "color": "#00cc96",
          "symbol": "circle"
         },
         "mode": "markers",
         "name": "노선명=88",
         "showlegend": true,
         "type": "scattergl",
         "x": [
          4,
          5,
          6,
          7,
          8,
          9,
          10,
          11,
          12,
          13,
          14,
          15,
          16,
          17,
          18,
          19,
          20,
          21,
          22,
          23
         ],
         "xaxis": "x",
         "y": [
          8,
          20,
          62,
          93,
          66,
          50,
          42,
          31,
          59,
          83,
          37,
          46,
          47,
          47,
          65,
          43,
          28,
          24,
          26,
          3
         ],
         "yaxis": "y"
        },
        {
         "hoverlabel": {
          "namelength": 0
         },
         "hovertemplate": "노선명=88-1<br>시간=%{x}<br>이용량=%{y}",
         "legendgroup": "노선명=88-1",
         "marker": {
          "color": "#ab63fa",
          "symbol": "circle"
         },
         "mode": "markers",
         "name": "노선명=88-1",
         "showlegend": true,
         "type": "scattergl",
         "x": [
          4,
          5,
          6,
          7,
          8,
          9,
          10,
          11,
          12,
          13,
          14,
          15,
          16,
          17,
          18,
          19,
          20,
          21,
          22,
          23
         ],
         "xaxis": "x",
         "y": [
          3,
          20,
          4,
          16,
          27,
          13,
          6,
          9,
          17,
          42,
          9,
          17,
          10,
          26,
          30,
          10,
          13,
          17,
          10,
          3
         ],
         "yaxis": "y"
        },
        {
         "hoverlabel": {
          "namelength": 0
         },
         "hovertemplate": "노선명=8800<br>시간=%{x}<br>이용량=%{y}",
         "legendgroup": "노선명=8800",
         "marker": {
          "color": "#FFA15A",
          "symbol": "circle"
         },
         "mode": "markers",
         "name": "노선명=8800",
         "showlegend": true,
         "type": "scattergl",
         "x": [
          6,
          7,
          9,
          10,
          12,
          13,
          14,
          15,
          17,
          18,
          19,
          20,
          21,
          22,
          23
         ],
         "xaxis": "x",
         "y": [
          1,
          5,
          2,
          4,
          1,
          1,
          3,
          3,
          7,
          6,
          8,
          10,
          1,
          4,
          2
         ],
         "yaxis": "y"
        },
        {
         "hoverlabel": {
          "namelength": 0
         },
         "hovertemplate": "노선명=8848<br>시간=%{x}<br>이용량=%{y}",
         "legendgroup": "노선명=8848",
         "marker": {
          "color": "#19d3f3",
          "symbol": "circle"
         },
         "mode": "markers",
         "name": "노선명=8848",
         "showlegend": true,
         "type": "scattergl",
         "x": [
          5,
          6,
          7,
          12
         ],
         "xaxis": "x",
         "y": [
          1,
          2,
          3,
          1
         ],
         "yaxis": "y"
        },
        {
         "hoverlabel": {
          "namelength": 0
         },
         "hovertemplate": "노선명=88B<br>시간=%{x}<br>이용량=%{y}",
         "legendgroup": "노선명=88B",
         "marker": {
          "color": "#FF6692",
          "symbol": "circle"
         },
         "mode": "markers",
         "name": "노선명=88B",
         "showlegend": true,
         "type": "scattergl",
         "x": [
          13
         ],
         "xaxis": "x",
         "y": [
          1
         ],
         "yaxis": "y"
        },
        {
         "hoverlabel": {
          "namelength": 0
         },
         "hovertemplate": "노선명=89<br>시간=%{x}<br>이용량=%{y}",
         "legendgroup": "노선명=89",
         "marker": {
          "color": "#B6E880",
          "symbol": "circle"
         },
         "mode": "markers",
         "name": "노선명=89",
         "showlegend": true,
         "type": "scattergl",
         "x": [
          7
         ],
         "xaxis": "x",
         "y": [
          1
         ],
         "yaxis": "y"
        },
        {
         "hoverlabel": {
          "namelength": 0
         },
         "hovertemplate": "노선명=8906<br>시간=%{x}<br>이용량=%{y}",
         "legendgroup": "노선명=8906",
         "marker": {
          "color": "#FF97FF",
          "symbol": "circle"
         },
         "mode": "markers",
         "name": "노선명=8906",
         "showlegend": true,
         "type": "scattergl",
         "x": [
          6,
          22
         ],
         "xaxis": "x",
         "y": [
          1,
          1
         ],
         "yaxis": "y"
        },
        {
         "hoverlabel": {
          "namelength": 0
         },
         "hovertemplate": "노선명=9<br>시간=%{x}<br>이용량=%{y}",
         "legendgroup": "노선명=9",
         "marker": {
          "color": "#FECB52",
          "symbol": "circle"
         },
         "mode": "markers",
         "name": "노선명=9",
         "showlegend": true,
         "type": "scattergl",
         "x": [
          4,
          5,
          6,
          7,
          8,
          9,
          10,
          11,
          12,
          13,
          14,
          15,
          16,
          17,
          18,
          19,
          20,
          21,
          22,
          23
         ],
         "xaxis": "x",
         "y": [
          6,
          31,
          70,
          156,
          131,
          72,
          62,
          59,
          58,
          89,
          57,
          66,
          44,
          125,
          94,
          50,
          67,
          60,
          45,
          3
         ],
         "yaxis": "y"
        },
        {
         "hoverlabel": {
          "namelength": 0
         },
         "hovertemplate": "노선명=9-1<br>시간=%{x}<br>이용량=%{y}",
         "legendgroup": "노선명=9-1",
         "marker": {
          "color": "#636efa",
          "symbol": "circle"
         },
         "mode": "markers",
         "name": "노선명=9-1",
         "showlegend": true,
         "type": "scattergl",
         "x": [
          4,
          5,
          6,
          7,
          8,
          9,
          10,
          11,
          12,
          13,
          14,
          15,
          16,
          17,
          18,
          19,
          20,
          21,
          22,
          23
         ],
         "xaxis": "x",
         "y": [
          2,
          14,
          21,
          25,
          39,
          29,
          14,
          16,
          21,
          16,
          18,
          22,
          37,
          21,
          40,
          12,
          26,
          27,
          9,
          5
         ],
         "yaxis": "y"
        },
        {
         "hoverlabel": {
          "namelength": 0
         },
         "hovertemplate": "노선명=9-2<br>시간=%{x}<br>이용량=%{y}",
         "legendgroup": "노선명=9-2",
         "marker": {
          "color": "#EF553B",
          "symbol": "circle"
         },
         "mode": "markers",
         "name": "노선명=9-2",
         "showlegend": true,
         "type": "scattergl",
         "x": [
          4,
          5,
          6,
          7,
          8,
          9,
          10,
          11,
          12,
          13,
          14,
          15,
          16,
          17,
          18,
          19,
          20,
          21,
          22,
          23
         ],
         "xaxis": "x",
         "y": [
          4,
          10,
          11,
          17,
          21,
          13,
          13,
          18,
          18,
          9,
          15,
          13,
          16,
          22,
          30,
          19,
          7,
          10,
          16,
          1
         ],
         "yaxis": "y"
        },
        {
         "hoverlabel": {
          "namelength": 0
         },
         "hovertemplate": "노선명=9-3<br>시간=%{x}<br>이용량=%{y}",
         "legendgroup": "노선명=9-3",
         "marker": {
          "color": "#00cc96",
          "symbol": "circle"
         },
         "mode": "markers",
         "name": "노선명=9-3",
         "showlegend": true,
         "type": "scattergl",
         "x": [
          4,
          6,
          7,
          10,
          13,
          16,
          17,
          18,
          21,
          23
         ],
         "xaxis": "x",
         "y": [
          1,
          3,
          7,
          1,
          1,
          2,
          1,
          2,
          1,
          1
         ],
         "yaxis": "y"
        },
        {
         "hoverlabel": {
          "namelength": 0
         },
         "hovertemplate": "노선명=90<br>시간=%{x}<br>이용량=%{y}",
         "legendgroup": "노선명=90",
         "marker": {
          "color": "#ab63fa",
          "symbol": "circle"
         },
         "mode": "markers",
         "name": "노선명=90",
         "showlegend": true,
         "type": "scattergl",
         "x": [
          6,
          13,
          18
         ],
         "xaxis": "x",
         "y": [
          1,
          1,
          1
         ],
         "yaxis": "y"
        },
        {
         "hoverlabel": {
          "namelength": 0
         },
         "hovertemplate": "노선명=90-1<br>시간=%{x}<br>이용량=%{y}",
         "legendgroup": "노선명=90-1",
         "marker": {
          "color": "#FFA15A",
          "symbol": "circle"
         },
         "mode": "markers",
         "name": "노선명=90-1",
         "showlegend": true,
         "type": "scattergl",
         "x": [
          8,
          12,
          17,
          18,
          19,
          20
         ],
         "xaxis": "x",
         "y": [
          1,
          1,
          2,
          5,
          2,
          2
         ],
         "yaxis": "y"
        },
        {
         "hoverlabel": {
          "namelength": 0
         },
         "hovertemplate": "노선명=90-2<br>시간=%{x}<br>이용량=%{y}",
         "legendgroup": "노선명=90-2",
         "marker": {
          "color": "#19d3f3",
          "symbol": "circle"
         },
         "mode": "markers",
         "name": "노선명=90-2",
         "showlegend": true,
         "type": "scattergl",
         "x": [
          10,
          11,
          13,
          14,
          16
         ],
         "xaxis": "x",
         "y": [
          1,
          1,
          1,
          1,
          1
         ],
         "yaxis": "y"
        },
        {
         "hoverlabel": {
          "namelength": 0
         },
         "hovertemplate": "노선명=900<br>시간=%{x}<br>이용량=%{y}",
         "legendgroup": "노선명=900",
         "marker": {
          "color": "#FF6692",
          "symbol": "circle"
         },
         "mode": "markers",
         "name": "노선명=900",
         "showlegend": true,
         "type": "scattergl",
         "x": [
          4,
          5,
          6,
          7,
          8,
          9,
          10,
          11,
          12,
          13,
          14,
          15,
          16,
          17,
          18,
          19,
          20,
          21,
          22,
          23
         ],
         "xaxis": "x",
         "y": [
          144,
          218,
          487,
          1155,
          1164,
          583,
          332,
          360,
          406,
          424,
          340,
          492,
          496,
          709,
          1016,
          688,
          507,
          604,
          489,
          236
         ],
         "yaxis": "y"
        },
        {
         "hoverlabel": {
          "namelength": 0
         },
         "hovertemplate": "노선명=9000<br>시간=%{x}<br>이용량=%{y}",
         "legendgroup": "노선명=9000",
         "marker": {
          "color": "#B6E880",
          "symbol": "circle"
         },
         "mode": "markers",
         "name": "노선명=9000",
         "showlegend": true,
         "type": "scattergl",
         "x": [
          6,
          16,
          19
         ],
         "xaxis": "x",
         "y": [
          1,
          1,
          2
         ],
         "yaxis": "y"
        },
        {
         "hoverlabel": {
          "namelength": 0
         },
         "hovertemplate": "노선명=9007<br>시간=%{x}<br>이용량=%{y}",
         "legendgroup": "노선명=9007",
         "marker": {
          "color": "#FF97FF",
          "symbol": "circle"
         },
         "mode": "markers",
         "name": "노선명=9007",
         "showlegend": true,
         "type": "scattergl",
         "x": [
          18,
          20,
          21
         ],
         "xaxis": "x",
         "y": [
          2,
          1,
          1
         ],
         "yaxis": "y"
        },
        {
         "hoverlabel": {
          "namelength": 0
         },
         "hovertemplate": "노선명=909<br>시간=%{x}<br>이용량=%{y}",
         "legendgroup": "노선명=909",
         "marker": {
          "color": "#FECB52",
          "symbol": "circle"
         },
         "mode": "markers",
         "name": "노선명=909",
         "showlegend": true,
         "type": "scattergl",
         "x": [
          5,
          6,
          7,
          8,
          9,
          10,
          11,
          12,
          13,
          14,
          15,
          16,
          17,
          18,
          19,
          20,
          21,
          22,
          23
         ],
         "xaxis": "x",
         "y": [
          11,
          14,
          30,
          40,
          9,
          6,
          7,
          12,
          10,
          12,
          7,
          12,
          18,
          24,
          25,
          27,
          32,
          15,
          3
         ],
         "yaxis": "y"
        },
        {
         "hoverlabel": {
          "namelength": 0
         },
         "hovertemplate": "노선명=91<br>시간=%{x}<br>이용량=%{y}",
         "legendgroup": "노선명=91",
         "marker": {
          "color": "#636efa",
          "symbol": "circle"
         },
         "mode": "markers",
         "name": "노선명=91",
         "showlegend": true,
         "type": "scattergl",
         "x": [
          5,
          9,
          11,
          12,
          22,
          23
         ],
         "xaxis": "x",
         "y": [
          1,
          1,
          1,
          1,
          1,
          2
         ],
         "yaxis": "y"
        },
        {
         "hoverlabel": {
          "namelength": 0
         },
         "hovertemplate": "노선명=91-2<br>시간=%{x}<br>이용량=%{y}",
         "legendgroup": "노선명=91-2",
         "marker": {
          "color": "#EF553B",
          "symbol": "circle"
         },
         "mode": "markers",
         "name": "노선명=91-2",
         "showlegend": true,
         "type": "scattergl",
         "x": [
          6
         ],
         "xaxis": "x",
         "y": [
          1
         ],
         "yaxis": "y"
        },
        {
         "hoverlabel": {
          "namelength": 0
         },
         "hovertemplate": "노선명=917<br>시간=%{x}<br>이용량=%{y}",
         "legendgroup": "노선명=917",
         "marker": {
          "color": "#00cc96",
          "symbol": "circle"
         },
         "mode": "markers",
         "name": "노선명=917",
         "showlegend": true,
         "type": "scattergl",
         "x": [
          6,
          7,
          8,
          10,
          11,
          14,
          15,
          16,
          17,
          18,
          19,
          20,
          21
         ],
         "xaxis": "x",
         "y": [
          1,
          9,
          1,
          1,
          2,
          1,
          1,
          1,
          1,
          2,
          1,
          3,
          1
         ],
         "yaxis": "y"
        },
        {
         "hoverlabel": {
          "namelength": 0
         },
         "hovertemplate": "노선명=918-9<br>시간=%{x}<br>이용량=%{y}",
         "legendgroup": "노선명=918-9",
         "marker": {
          "color": "#ab63fa",
          "symbol": "circle"
         },
         "mode": "markers",
         "name": "노선명=918-9",
         "showlegend": true,
         "type": "scattergl",
         "x": [
          7
         ],
         "xaxis": "x",
         "y": [
          1
         ],
         "yaxis": "y"
        },
        {
         "hoverlabel": {
          "namelength": 0
         },
         "hovertemplate": "노선명=92<br>시간=%{x}<br>이용량=%{y}",
         "legendgroup": "노선명=92",
         "marker": {
          "color": "#FFA15A",
          "symbol": "circle"
         },
         "mode": "markers",
         "name": "노선명=92",
         "showlegend": true,
         "type": "scattergl",
         "x": [
          5,
          6,
          7,
          8,
          9,
          10,
          11,
          12,
          13,
          14,
          15,
          16,
          17,
          18,
          19,
          20,
          21,
          22,
          23
         ],
         "xaxis": "x",
         "y": [
          44,
          82,
          231,
          242,
          130,
          125,
          108,
          103,
          141,
          118,
          146,
          164,
          166,
          170,
          95,
          110,
          94,
          82,
          18
         ],
         "yaxis": "y"
        },
        {
         "hoverlabel": {
          "namelength": 0
         },
         "hovertemplate": "노선명=92-1<br>시간=%{x}<br>이용량=%{y}",
         "legendgroup": "노선명=92-1",
         "marker": {
          "color": "#19d3f3",
          "symbol": "circle"
         },
         "mode": "markers",
         "name": "노선명=92-1",
         "showlegend": true,
         "type": "scattergl",
         "x": [
          4,
          5,
          6,
          7,
          8,
          9,
          10,
          11,
          12,
          13,
          14,
          15,
          16,
          17,
          18,
          19,
          20,
          21,
          22,
          23
         ],
         "xaxis": "x",
         "y": [
          14,
          208,
          834,
          1704,
          2598,
          1282,
          946,
          950,
          1290,
          1362,
          1294,
          1450,
          1742,
          2240,
          2144,
          1562,
          1606,
          1320,
          1390,
          596
         ],
         "yaxis": "y"
        },
        {
         "hoverlabel": {
          "namelength": 0
         },
         "hovertemplate": "노선명=93<br>시간=%{x}<br>이용량=%{y}",
         "legendgroup": "노선명=93",
         "marker": {
          "color": "#FF6692",
          "symbol": "circle"
         },
         "mode": "markers",
         "name": "노선명=93",
         "showlegend": true,
         "type": "scattergl",
         "x": [
          17,
          20
         ],
         "xaxis": "x",
         "y": [
          1,
          1
         ],
         "yaxis": "y"
        },
        {
         "hoverlabel": {
          "namelength": 0
         },
         "hovertemplate": "노선명=930-1<br>시간=%{x}<br>이용량=%{y}",
         "legendgroup": "노선명=930-1",
         "marker": {
          "color": "#B6E880",
          "symbol": "circle"
         },
         "mode": "markers",
         "name": "노선명=930-1",
         "showlegend": true,
         "type": "scattergl",
         "x": [
          7
         ],
         "xaxis": "x",
         "y": [
          1
         ],
         "yaxis": "y"
        },
        {
         "hoverlabel": {
          "namelength": 0
         },
         "hovertemplate": "노선명=9300<br>시간=%{x}<br>이용량=%{y}",
         "legendgroup": "노선명=9300",
         "marker": {
          "color": "#FF97FF",
          "symbol": "circle"
         },
         "mode": "markers",
         "name": "노선명=9300",
         "showlegend": true,
         "type": "scattergl",
         "x": [
          7
         ],
         "xaxis": "x",
         "y": [
          2
         ],
         "yaxis": "y"
        },
        {
         "hoverlabel": {
          "namelength": 0
         },
         "hovertemplate": "노선명=9301<br>시간=%{x}<br>이용량=%{y}",
         "legendgroup": "노선명=9301",
         "marker": {
          "color": "#FECB52",
          "symbol": "circle"
         },
         "mode": "markers",
         "name": "노선명=9301",
         "showlegend": true,
         "type": "scattergl",
         "x": [
          10,
          16
         ],
         "xaxis": "x",
         "y": [
          1,
          1
         ],
         "yaxis": "y"
        },
        {
         "hoverlabel": {
          "namelength": 0
         },
         "hovertemplate": "노선명=9302<br>시간=%{x}<br>이용량=%{y}",
         "legendgroup": "노선명=9302",
         "marker": {
          "color": "#636efa",
          "symbol": "circle"
         },
         "mode": "markers",
         "name": "노선명=9302",
         "showlegend": true,
         "type": "scattergl",
         "x": [
          6,
          8,
          15
         ],
         "xaxis": "x",
         "y": [
          1,
          1,
          1
         ],
         "yaxis": "y"
        },
        {
         "hoverlabel": {
          "namelength": 0
         },
         "hovertemplate": "노선명=9303<br>시간=%{x}<br>이용량=%{y}",
         "legendgroup": "노선명=9303",
         "marker": {
          "color": "#EF553B",
          "symbol": "circle"
         },
         "mode": "markers",
         "name": "노선명=9303",
         "showlegend": true,
         "type": "scattergl",
         "x": [
          18
         ],
         "xaxis": "x",
         "y": [
          1
         ],
         "yaxis": "y"
        },
        {
         "hoverlabel": {
          "namelength": 0
         },
         "hovertemplate": "노선명=94<br>시간=%{x}<br>이용량=%{y}",
         "legendgroup": "노선명=94",
         "marker": {
          "color": "#00cc96",
          "symbol": "circle"
         },
         "mode": "markers",
         "name": "노선명=94",
         "showlegend": true,
         "type": "scattergl",
         "x": [
          6,
          7,
          8,
          9,
          10,
          11,
          12,
          13,
          14,
          15,
          16,
          17,
          18,
          19,
          20,
          21,
          22
         ],
         "xaxis": "x",
         "y": [
          8,
          67,
          95,
          40,
          19,
          25,
          31,
          19,
          20,
          35,
          46,
          54,
          79,
          54,
          38,
          29,
          9
         ],
         "yaxis": "y"
        },
        {
         "hoverlabel": {
          "namelength": 0
         },
         "hovertemplate": "노선명=940<br>시간=%{x}<br>이용량=%{y}",
         "legendgroup": "노선명=940",
         "marker": {
          "color": "#ab63fa",
          "symbol": "circle"
         },
         "mode": "markers",
         "name": "노선명=940",
         "showlegend": true,
         "type": "scattergl",
         "x": [
          9
         ],
         "xaxis": "x",
         "y": [
          1
         ],
         "yaxis": "y"
        },
        {
         "hoverlabel": {
          "namelength": 0
         },
         "hovertemplate": "노선명=9407<br>시간=%{x}<br>이용량=%{y}",
         "legendgroup": "노선명=9407",
         "marker": {
          "color": "#FFA15A",
          "symbol": "circle"
         },
         "mode": "markers",
         "name": "노선명=9407",
         "showlegend": true,
         "type": "scattergl",
         "x": [
          6,
          7,
          10,
          15,
          16,
          17,
          20,
          22
         ],
         "xaxis": "x",
         "y": [
          1,
          1,
          1,
          1,
          1,
          2,
          2,
          2
         ],
         "yaxis": "y"
        },
        {
         "hoverlabel": {
          "namelength": 0
         },
         "hovertemplate": "노선명=9414<br>시간=%{x}<br>이용량=%{y}",
         "legendgroup": "노선명=9414",
         "marker": {
          "color": "#19d3f3",
          "symbol": "circle"
         },
         "mode": "markers",
         "name": "노선명=9414",
         "showlegend": true,
         "type": "scattergl",
         "x": [
          16,
          18
         ],
         "xaxis": "x",
         "y": [
          1,
          1
         ],
         "yaxis": "y"
        },
        {
         "hoverlabel": {
          "namelength": 0
         },
         "hovertemplate": "노선명=95<br>시간=%{x}<br>이용량=%{y}",
         "legendgroup": "노선명=95",
         "marker": {
          "color": "#FF6692",
          "symbol": "circle"
         },
         "mode": "markers",
         "name": "노선명=95",
         "showlegend": true,
         "type": "scattergl",
         "x": [
          6,
          7,
          8,
          10,
          15,
          17,
          18,
          21
         ],
         "xaxis": "x",
         "y": [
          2,
          2,
          2,
          1,
          1,
          2,
          2,
          1
         ],
         "yaxis": "y"
        },
        {
         "hoverlabel": {
          "namelength": 0
         },
         "hovertemplate": "노선명=9600<br>시간=%{x}<br>이용량=%{y}",
         "legendgroup": "노선명=9600",
         "marker": {
          "color": "#B6E880",
          "symbol": "circle"
         },
         "mode": "markers",
         "name": "노선명=9600",
         "showlegend": true,
         "type": "scattergl",
         "x": [
          5
         ],
         "xaxis": "x",
         "y": [
          1
         ],
         "yaxis": "y"
        },
        {
         "hoverlabel": {
          "namelength": 0
         },
         "hovertemplate": "노선명=97<br>시간=%{x}<br>이용량=%{y}",
         "legendgroup": "노선명=97",
         "marker": {
          "color": "#FF97FF",
          "symbol": "circle"
         },
         "mode": "markers",
         "name": "노선명=97",
         "showlegend": true,
         "type": "scattergl",
         "x": [
          5,
          13,
          15,
          18,
          20
         ],
         "xaxis": "x",
         "y": [
          1,
          1,
          1,
          1,
          1
         ],
         "yaxis": "y"
        },
        {
         "hoverlabel": {
          "namelength": 0
         },
         "hovertemplate": "노선명=9700<br>시간=%{x}<br>이용량=%{y}",
         "legendgroup": "노선명=9700",
         "marker": {
          "color": "#FECB52",
          "symbol": "circle"
         },
         "mode": "markers",
         "name": "노선명=9700",
         "showlegend": true,
         "type": "scattergl",
         "x": [
          5,
          8,
          15
         ],
         "xaxis": "x",
         "y": [
          8,
          2,
          2
         ],
         "yaxis": "y"
        },
        {
         "hoverlabel": {
          "namelength": 0
         },
         "hovertemplate": "노선명=9710<br>시간=%{x}<br>이용량=%{y}",
         "legendgroup": "노선명=9710",
         "marker": {
          "color": "#636efa",
          "symbol": "circle"
         },
         "mode": "markers",
         "name": "노선명=9710",
         "showlegend": true,
         "type": "scattergl",
         "x": [
          5
         ],
         "xaxis": "x",
         "y": [
          1
         ],
         "yaxis": "y"
        },
        {
         "hoverlabel": {
          "namelength": 0
         },
         "hovertemplate": "노선명=98<br>시간=%{x}<br>이용량=%{y}",
         "legendgroup": "노선명=98",
         "marker": {
          "color": "#EF553B",
          "symbol": "circle"
         },
         "mode": "markers",
         "name": "노선명=98",
         "showlegend": true,
         "type": "scattergl",
         "x": [
          4,
          5,
          6,
          7,
          8,
          9,
          10,
          11,
          12,
          13,
          14,
          15,
          16,
          17,
          18,
          19,
          20,
          21,
          22,
          23
         ],
         "xaxis": "x",
         "y": [
          36,
          332,
          557,
          1598,
          1804,
          827,
          655,
          721,
          894,
          1314,
          846,
          1007,
          1195,
          1521,
          1428,
          1111,
          816,
          817,
          650,
          306
         ],
         "yaxis": "y"
        },
        {
         "hoverlabel": {
          "namelength": 0
         },
         "hovertemplate": "노선명=99<br>시간=%{x}<br>이용량=%{y}",
         "legendgroup": "노선명=99",
         "marker": {
          "color": "#00cc96",
          "symbol": "circle"
         },
         "mode": "markers",
         "name": "노선명=99",
         "showlegend": true,
         "type": "scattergl",
         "x": [
          4,
          5,
          6,
          7,
          8,
          9,
          10,
          11,
          12,
          13,
          14,
          15,
          16,
          17,
          18,
          19,
          20,
          21,
          22,
          23
         ],
         "xaxis": "x",
         "y": [
          16,
          163,
          287,
          547,
          551,
          274,
          202,
          265,
          305,
          329,
          308,
          295,
          454,
          462,
          473,
          386,
          261,
          304,
          317,
          162
         ],
         "yaxis": "y"
        },
        {
         "hoverlabel": {
          "namelength": 0
         },
         "hovertemplate": "노선명=99-1<br>시간=%{x}<br>이용량=%{y}",
         "legendgroup": "노선명=99-1",
         "marker": {
          "color": "#ab63fa",
          "symbol": "circle"
         },
         "mode": "markers",
         "name": "노선명=99-1",
         "showlegend": true,
         "type": "scattergl",
         "x": [
          5,
          6,
          7,
          8,
          9,
          10,
          11,
          12,
          13,
          14,
          15,
          16,
          17,
          18,
          19
         ],
         "xaxis": "x",
         "y": [
          2,
          6,
          11,
          2,
          3,
          3,
          1,
          5,
          3,
          1,
          1,
          4,
          4,
          2,
          2
         ],
         "yaxis": "y"
        },
        {
         "hoverlabel": {
          "namelength": 0
         },
         "hovertemplate": "노선명=99-2<br>시간=%{x}<br>이용량=%{y}",
         "legendgroup": "노선명=99-2",
         "marker": {
          "color": "#FFA15A",
          "symbol": "circle"
         },
         "mode": "markers",
         "name": "노선명=99-2",
         "showlegend": true,
         "type": "scattergl",
         "x": [
          4,
          5,
          6,
          7,
          8,
          9,
          10,
          11,
          12,
          13,
          14,
          15,
          16,
          17,
          18,
          19,
          20,
          21,
          22,
          23
         ],
         "xaxis": "x",
         "y": [
          5,
          14,
          18,
          53,
          70,
          38,
          21,
          26,
          36,
          36,
          19,
          21,
          30,
          55,
          33,
          26,
          20,
          24,
          20,
          7
         ],
         "yaxis": "y"
        },
        {
         "hoverlabel": {
          "namelength": 0
         },
         "hovertemplate": "노선명=99-3<br>시간=%{x}<br>이용량=%{y}",
         "legendgroup": "노선명=99-3",
         "marker": {
          "color": "#19d3f3",
          "symbol": "circle"
         },
         "mode": "markers",
         "name": "노선명=99-3",
         "showlegend": true,
         "type": "scattergl",
         "x": [
          7,
          18,
          19
         ],
         "xaxis": "x",
         "y": [
          2,
          1,
          1
         ],
         "yaxis": "y"
        },
        {
         "hoverlabel": {
          "namelength": 0
         },
         "hovertemplate": "노선명=990<br>시간=%{x}<br>이용량=%{y}",
         "legendgroup": "노선명=990",
         "marker": {
          "color": "#FF6692",
          "symbol": "circle"
         },
         "mode": "markers",
         "name": "노선명=990",
         "showlegend": true,
         "type": "scattergl",
         "x": [
          5,
          6,
          7,
          8,
          9,
          10,
          11,
          12,
          13,
          14,
          15,
          16,
          17,
          18,
          19,
          20,
          21,
          22,
          23
         ],
         "xaxis": "x",
         "y": [
          6,
          5,
          9,
          8,
          9,
          2,
          2,
          5,
          8,
          5,
          5,
          4,
          9,
          13,
          6,
          6,
          7,
          3,
          1
         ],
         "yaxis": "y"
        },
        {
         "hoverlabel": {
          "namelength": 0
         },
         "hovertemplate": "노선명=999<br>시간=%{x}<br>이용량=%{y}",
         "legendgroup": "노선명=999",
         "marker": {
          "color": "#B6E880",
          "symbol": "circle"
         },
         "mode": "markers",
         "name": "노선명=999",
         "showlegend": true,
         "type": "scattergl",
         "x": [
          5,
          6,
          7,
          8,
          9,
          10,
          11,
          12,
          13,
          14,
          15,
          16,
          17,
          18,
          19,
          20,
          21,
          22
         ],
         "xaxis": "x",
         "y": [
          1,
          7,
          30,
          14,
          19,
          7,
          11,
          15,
          20,
          7,
          3,
          13,
          25,
          38,
          6,
          11,
          15,
          2
         ],
         "yaxis": "y"
        },
        {
         "hoverlabel": {
          "namelength": 0
         },
         "hovertemplate": "노선명=G5100<br>시간=%{x}<br>이용량=%{y}",
         "legendgroup": "노선명=G5100",
         "marker": {
          "color": "#FF97FF",
          "symbol": "circle"
         },
         "mode": "markers",
         "name": "노선명=G5100",
         "showlegend": true,
         "type": "scattergl",
         "x": [
          9,
          16,
          17,
          18,
          19,
          20
         ],
         "xaxis": "x",
         "y": [
          1,
          3,
          2,
          3,
          5,
          3
         ],
         "yaxis": "y"
        },
        {
         "hoverlabel": {
          "namelength": 0
         },
         "hovertemplate": "노선명=G8110<br>시간=%{x}<br>이용량=%{y}",
         "legendgroup": "노선명=G8110",
         "marker": {
          "color": "#FECB52",
          "symbol": "circle"
         },
         "mode": "markers",
         "name": "노선명=G8110",
         "showlegend": true,
         "type": "scattergl",
         "x": [
          12,
          14,
          18,
          19,
          20,
          21
         ],
         "xaxis": "x",
         "y": [
          1,
          1,
          1,
          10,
          2,
          1
         ],
         "yaxis": "y"
        },
        {
         "hoverlabel": {
          "namelength": 0
         },
         "hovertemplate": "노선명=M2316<br>시간=%{x}<br>이용량=%{y}",
         "legendgroup": "노선명=M2316",
         "marker": {
          "color": "#636efa",
          "symbol": "circle"
         },
         "mode": "markers",
         "name": "노선명=M2316",
         "showlegend": true,
         "type": "scattergl",
         "x": [
          5
         ],
         "xaxis": "x",
         "y": [
          1
         ],
         "yaxis": "y"
        },
        {
         "hoverlabel": {
          "namelength": 0
         },
         "hovertemplate": "노선명=M2323<br>시간=%{x}<br>이용량=%{y}",
         "legendgroup": "노선명=M2323",
         "marker": {
          "color": "#EF553B",
          "symbol": "circle"
         },
         "mode": "markers",
         "name": "노선명=M2323",
         "showlegend": true,
         "type": "scattergl",
         "x": [
          11
         ],
         "xaxis": "x",
         "y": [
          1
         ],
         "yaxis": "y"
        },
        {
         "hoverlabel": {
          "namelength": 0
         },
         "hovertemplate": "노선명=M4101<br>시간=%{x}<br>이용량=%{y}",
         "legendgroup": "노선명=M4101",
         "marker": {
          "color": "#00cc96",
          "symbol": "circle"
         },
         "mode": "markers",
         "name": "노선명=M4101",
         "showlegend": true,
         "type": "scattergl",
         "x": [
          7,
          9,
          11,
          12,
          13,
          14,
          15,
          16,
          17,
          18,
          19,
          20,
          21,
          22
         ],
         "xaxis": "x",
         "y": [
          1,
          2,
          1,
          1,
          7,
          1,
          6,
          10,
          13,
          13,
          26,
          16,
          8,
          6
         ],
         "yaxis": "y"
        },
        {
         "hoverlabel": {
          "namelength": 0
         },
         "hovertemplate": "노선명=M4102<br>시간=%{x}<br>이용량=%{y}",
         "legendgroup": "노선명=M4102",
         "marker": {
          "color": "#ab63fa",
          "symbol": "circle"
         },
         "mode": "markers",
         "name": "노선명=M4102",
         "showlegend": true,
         "type": "scattergl",
         "x": [
          13,
          14,
          16,
          17,
          18,
          19,
          20,
          21,
          22
         ],
         "xaxis": "x",
         "y": [
          2,
          4,
          2,
          2,
          8,
          5,
          8,
          1,
          2
         ],
         "yaxis": "y"
        },
        {
         "hoverlabel": {
          "namelength": 0
         },
         "hovertemplate": "노선명=M4108<br>시간=%{x}<br>이용량=%{y}",
         "legendgroup": "노선명=M4108",
         "marker": {
          "color": "#FFA15A",
          "symbol": "circle"
         },
         "mode": "markers",
         "name": "노선명=M4108",
         "showlegend": true,
         "type": "scattergl",
         "x": [
          6,
          8,
          11,
          12,
          13,
          14,
          15,
          16,
          17,
          18,
          19,
          20,
          21,
          22,
          23
         ],
         "xaxis": "x",
         "y": [
          1,
          1,
          2,
          3,
          5,
          4,
          4,
          9,
          11,
          24,
          24,
          12,
          18,
          4,
          2
         ],
         "yaxis": "y"
        },
        {
         "hoverlabel": {
          "namelength": 0
         },
         "hovertemplate": "노선명=M4130<br>시간=%{x}<br>이용량=%{y}",
         "legendgroup": "노선명=M4130",
         "marker": {
          "color": "#19d3f3",
          "symbol": "circle"
         },
         "mode": "markers",
         "name": "노선명=M4130",
         "showlegend": true,
         "type": "scattergl",
         "x": [
          7,
          13,
          15,
          16,
          17,
          18,
          19,
          20,
          21,
          22
         ],
         "xaxis": "x",
         "y": [
          1,
          1,
          4,
          8,
          5,
          4,
          19,
          4,
          6,
          3
         ],
         "yaxis": "y"
        },
        {
         "hoverlabel": {
          "namelength": 0
         },
         "hovertemplate": "노선명=M4403<br>시간=%{x}<br>이용량=%{y}",
         "legendgroup": "노선명=M4403",
         "marker": {
          "color": "#FF6692",
          "symbol": "circle"
         },
         "mode": "markers",
         "name": "노선명=M4403",
         "showlegend": true,
         "type": "scattergl",
         "x": [
          5,
          6,
          7,
          8,
          10,
          11,
          12,
          13,
          14,
          15,
          16,
          17,
          18,
          19,
          20,
          21,
          22,
          23
         ],
         "xaxis": "x",
         "y": [
          1,
          3,
          7,
          3,
          1,
          2,
          3,
          6,
          10,
          9,
          11,
          20,
          16,
          30,
          20,
          40,
          6,
          1
         ],
         "yaxis": "y"
        },
        {
         "hoverlabel": {
          "namelength": 0
         },
         "hovertemplate": "노선명=M4434<br>시간=%{x}<br>이용량=%{y}",
         "legendgroup": "노선명=M4434",
         "marker": {
          "color": "#B6E880",
          "symbol": "circle"
         },
         "mode": "markers",
         "name": "노선명=M4434",
         "showlegend": true,
         "type": "scattergl",
         "x": [
          11,
          12,
          13,
          16,
          18,
          19,
          20,
          21,
          22,
          23
         ],
         "xaxis": "x",
         "y": [
          1,
          2,
          1,
          3,
          7,
          5,
          6,
          2,
          1,
          1
         ],
         "yaxis": "y"
        },
        {
         "hoverlabel": {
          "namelength": 0
         },
         "hovertemplate": "노선명=M5107<br>시간=%{x}<br>이용량=%{y}",
         "legendgroup": "노선명=M5107",
         "marker": {
          "color": "#FF97FF",
          "symbol": "circle"
         },
         "mode": "markers",
         "name": "노선명=M5107",
         "showlegend": true,
         "type": "scattergl",
         "x": [
          7,
          8,
          10,
          12,
          13,
          14,
          15,
          16,
          17,
          18,
          19,
          20,
          21,
          22,
          23
         ],
         "xaxis": "x",
         "y": [
          1,
          1,
          3,
          4,
          1,
          1,
          3,
          6,
          19,
          44,
          35,
          24,
          18,
          19,
          3
         ],
         "yaxis": "y"
        },
        {
         "hoverlabel": {
          "namelength": 0
         },
         "hovertemplate": "노선명=M5115<br>시간=%{x}<br>이용량=%{y}",
         "legendgroup": "노선명=M5115",
         "marker": {
          "color": "#FECB52",
          "symbol": "circle"
         },
         "mode": "markers",
         "name": "노선명=M5115",
         "showlegend": true,
         "type": "scattergl",
         "x": [
          13,
          16,
          18,
          19,
          21,
          23
         ],
         "xaxis": "x",
         "y": [
          1,
          1,
          1,
          1,
          1,
          1
         ],
         "yaxis": "y"
        },
        {
         "hoverlabel": {
          "namelength": 0
         },
         "hovertemplate": "노선명=M5121<br>시간=%{x}<br>이용량=%{y}",
         "legendgroup": "노선명=M5121",
         "marker": {
          "color": "#636efa",
          "symbol": "circle"
         },
         "mode": "markers",
         "name": "노선명=M5121",
         "showlegend": true,
         "type": "scattergl",
         "x": [
          6,
          8,
          9,
          11,
          12,
          13,
          14,
          15,
          16,
          17,
          18,
          19,
          20,
          21,
          22
         ],
         "xaxis": "x",
         "y": [
          1,
          1,
          2,
          2,
          2,
          4,
          1,
          3,
          3,
          5,
          8,
          5,
          10,
          3,
          5
         ],
         "yaxis": "y"
        },
        {
         "hoverlabel": {
          "namelength": 0
         },
         "hovertemplate": "노선명=M5333<br>시간=%{x}<br>이용량=%{y}",
         "legendgroup": "노선명=M5333",
         "marker": {
          "color": "#EF553B",
          "symbol": "circle"
         },
         "mode": "markers",
         "name": "노선명=M5333",
         "showlegend": true,
         "type": "scattergl",
         "x": [
          17,
          18,
          19,
          21,
          23
         ],
         "xaxis": "x",
         "y": [
          2,
          2,
          1,
          1,
          2
         ],
         "yaxis": "y"
        },
        {
         "hoverlabel": {
          "namelength": 0
         },
         "hovertemplate": "노선명=M5422<br>시간=%{x}<br>이용량=%{y}",
         "legendgroup": "노선명=M5422",
         "marker": {
          "color": "#00cc96",
          "symbol": "circle"
         },
         "mode": "markers",
         "name": "노선명=M5422",
         "showlegend": true,
         "type": "scattergl",
         "x": [
          6,
          7,
          8,
          9,
          10,
          11,
          13,
          14,
          15,
          16,
          18,
          19,
          20,
          21,
          22
         ],
         "xaxis": "x",
         "y": [
          1,
          2,
          1,
          1,
          1,
          1,
          1,
          3,
          4,
          4,
          9,
          5,
          2,
          5,
          1
         ],
         "yaxis": "y"
        },
        {
         "hoverlabel": {
          "namelength": 0
         },
         "hovertemplate": "노선명=M6117<br>시간=%{x}<br>이용량=%{y}",
         "legendgroup": "노선명=M6117",
         "marker": {
          "color": "#ab63fa",
          "symbol": "circle"
         },
         "mode": "markers",
         "name": "노선명=M6117",
         "showlegend": true,
         "type": "scattergl",
         "x": [
          10,
          11
         ],
         "xaxis": "x",
         "y": [
          1,
          1
         ],
         "yaxis": "y"
        },
        {
         "hoverlabel": {
          "namelength": 0
         },
         "hovertemplate": "노선명=M6427<br>시간=%{x}<br>이용량=%{y}",
         "legendgroup": "노선명=M6427",
         "marker": {
          "color": "#FFA15A",
          "symbol": "circle"
         },
         "mode": "markers",
         "name": "노선명=M6427",
         "showlegend": true,
         "type": "scattergl",
         "x": [
          16
         ],
         "xaxis": "x",
         "y": [
          1
         ],
         "yaxis": "y"
        },
        {
         "hoverlabel": {
          "namelength": 0
         },
         "hovertemplate": "노선명=M7106<br>시간=%{x}<br>이용량=%{y}",
         "legendgroup": "노선명=M7106",
         "marker": {
          "color": "#19d3f3",
          "symbol": "circle"
         },
         "mode": "markers",
         "name": "노선명=M7106",
         "showlegend": true,
         "type": "scattergl",
         "x": [
          16,
          18
         ],
         "xaxis": "x",
         "y": [
          1,
          1
         ],
         "yaxis": "y"
        },
        {
         "hoverlabel": {
          "namelength": 0
         },
         "hovertemplate": "노선명=M7111<br>시간=%{x}<br>이용량=%{y}",
         "legendgroup": "노선명=M7111",
         "marker": {
          "color": "#FF6692",
          "symbol": "circle"
         },
         "mode": "markers",
         "name": "노선명=M7111",
         "showlegend": true,
         "type": "scattergl",
         "x": [
          5,
          18
         ],
         "xaxis": "x",
         "y": [
          1,
          1
         ],
         "yaxis": "y"
        },
        {
         "hoverlabel": {
          "namelength": 0
         },
         "hovertemplate": "노선명=M7119<br>시간=%{x}<br>이용량=%{y}",
         "legendgroup": "노선명=M7119",
         "marker": {
          "color": "#B6E880",
          "symbol": "circle"
         },
         "mode": "markers",
         "name": "노선명=M7119",
         "showlegend": true,
         "type": "scattergl",
         "x": [
          19
         ],
         "xaxis": "x",
         "y": [
          1
         ],
         "yaxis": "y"
        },
        {
         "hoverlabel": {
          "namelength": 0
         },
         "hovertemplate": "노선명=M7412<br>시간=%{x}<br>이용량=%{y}",
         "legendgroup": "노선명=M7412",
         "marker": {
          "color": "#FF97FF",
          "symbol": "circle"
         },
         "mode": "markers",
         "name": "노선명=M7412",
         "showlegend": true,
         "type": "scattergl",
         "x": [
          18
         ],
         "xaxis": "x",
         "y": [
          1
         ],
         "yaxis": "y"
        },
        {
         "hoverlabel": {
          "namelength": 0
         },
         "hovertemplate": "노선명=M7731<br>시간=%{x}<br>이용량=%{y}",
         "legendgroup": "노선명=M7731",
         "marker": {
          "color": "#FECB52",
          "symbol": "circle"
         },
         "mode": "markers",
         "name": "노선명=M7731",
         "showlegend": true,
         "type": "scattergl",
         "x": [
          5
         ],
         "xaxis": "x",
         "y": [
          1
         ],
         "yaxis": "y"
        }
       ],
       "layout": {
        "height": 600,
        "legend": {
         "tracegroupgap": 0
        },
        "margin": {
         "t": 60
        },
        "template": {
         "data": {
          "bar": [
           {
            "error_x": {
             "color": "#2a3f5f"
            },
            "error_y": {
             "color": "#2a3f5f"
            },
            "marker": {
             "line": {
              "color": "#E5ECF6",
              "width": 0.5
             }
            },
            "type": "bar"
           }
          ],
          "barpolar": [
           {
            "marker": {
             "line": {
              "color": "#E5ECF6",
              "width": 0.5
             }
            },
            "type": "barpolar"
           }
          ],
          "carpet": [
           {
            "aaxis": {
             "endlinecolor": "#2a3f5f",
             "gridcolor": "white",
             "linecolor": "white",
             "minorgridcolor": "white",
             "startlinecolor": "#2a3f5f"
            },
            "baxis": {
             "endlinecolor": "#2a3f5f",
             "gridcolor": "white",
             "linecolor": "white",
             "minorgridcolor": "white",
             "startlinecolor": "#2a3f5f"
            },
            "type": "carpet"
           }
          ],
          "choropleth": [
           {
            "colorbar": {
             "outlinewidth": 0,
             "ticks": ""
            },
            "type": "choropleth"
           }
          ],
          "contour": [
           {
            "colorbar": {
             "outlinewidth": 0,
             "ticks": ""
            },
            "colorscale": [
             [
              0,
              "#0d0887"
             ],
             [
              0.1111111111111111,
              "#46039f"
             ],
             [
              0.2222222222222222,
              "#7201a8"
             ],
             [
              0.3333333333333333,
              "#9c179e"
             ],
             [
              0.4444444444444444,
              "#bd3786"
             ],
             [
              0.5555555555555556,
              "#d8576b"
             ],
             [
              0.6666666666666666,
              "#ed7953"
             ],
             [
              0.7777777777777778,
              "#fb9f3a"
             ],
             [
              0.8888888888888888,
              "#fdca26"
             ],
             [
              1,
              "#f0f921"
             ]
            ],
            "type": "contour"
           }
          ],
          "contourcarpet": [
           {
            "colorbar": {
             "outlinewidth": 0,
             "ticks": ""
            },
            "type": "contourcarpet"
           }
          ],
          "heatmap": [
           {
            "colorbar": {
             "outlinewidth": 0,
             "ticks": ""
            },
            "colorscale": [
             [
              0,
              "#0d0887"
             ],
             [
              0.1111111111111111,
              "#46039f"
             ],
             [
              0.2222222222222222,
              "#7201a8"
             ],
             [
              0.3333333333333333,
              "#9c179e"
             ],
             [
              0.4444444444444444,
              "#bd3786"
             ],
             [
              0.5555555555555556,
              "#d8576b"
             ],
             [
              0.6666666666666666,
              "#ed7953"
             ],
             [
              0.7777777777777778,
              "#fb9f3a"
             ],
             [
              0.8888888888888888,
              "#fdca26"
             ],
             [
              1,
              "#f0f921"
             ]
            ],
            "type": "heatmap"
           }
          ],
          "heatmapgl": [
           {
            "colorbar": {
             "outlinewidth": 0,
             "ticks": ""
            },
            "colorscale": [
             [
              0,
              "#0d0887"
             ],
             [
              0.1111111111111111,
              "#46039f"
             ],
             [
              0.2222222222222222,
              "#7201a8"
             ],
             [
              0.3333333333333333,
              "#9c179e"
             ],
             [
              0.4444444444444444,
              "#bd3786"
             ],
             [
              0.5555555555555556,
              "#d8576b"
             ],
             [
              0.6666666666666666,
              "#ed7953"
             ],
             [
              0.7777777777777778,
              "#fb9f3a"
             ],
             [
              0.8888888888888888,
              "#fdca26"
             ],
             [
              1,
              "#f0f921"
             ]
            ],
            "type": "heatmapgl"
           }
          ],
          "histogram": [
           {
            "marker": {
             "colorbar": {
              "outlinewidth": 0,
              "ticks": ""
             }
            },
            "type": "histogram"
           }
          ],
          "histogram2d": [
           {
            "colorbar": {
             "outlinewidth": 0,
             "ticks": ""
            },
            "colorscale": [
             [
              0,
              "#0d0887"
             ],
             [
              0.1111111111111111,
              "#46039f"
             ],
             [
              0.2222222222222222,
              "#7201a8"
             ],
             [
              0.3333333333333333,
              "#9c179e"
             ],
             [
              0.4444444444444444,
              "#bd3786"
             ],
             [
              0.5555555555555556,
              "#d8576b"
             ],
             [
              0.6666666666666666,
              "#ed7953"
             ],
             [
              0.7777777777777778,
              "#fb9f3a"
             ],
             [
              0.8888888888888888,
              "#fdca26"
             ],
             [
              1,
              "#f0f921"
             ]
            ],
            "type": "histogram2d"
           }
          ],
          "histogram2dcontour": [
           {
            "colorbar": {
             "outlinewidth": 0,
             "ticks": ""
            },
            "colorscale": [
             [
              0,
              "#0d0887"
             ],
             [
              0.1111111111111111,
              "#46039f"
             ],
             [
              0.2222222222222222,
              "#7201a8"
             ],
             [
              0.3333333333333333,
              "#9c179e"
             ],
             [
              0.4444444444444444,
              "#bd3786"
             ],
             [
              0.5555555555555556,
              "#d8576b"
             ],
             [
              0.6666666666666666,
              "#ed7953"
             ],
             [
              0.7777777777777778,
              "#fb9f3a"
             ],
             [
              0.8888888888888888,
              "#fdca26"
             ],
             [
              1,
              "#f0f921"
             ]
            ],
            "type": "histogram2dcontour"
           }
          ],
          "mesh3d": [
           {
            "colorbar": {
             "outlinewidth": 0,
             "ticks": ""
            },
            "type": "mesh3d"
           }
          ],
          "parcoords": [
           {
            "line": {
             "colorbar": {
              "outlinewidth": 0,
              "ticks": ""
             }
            },
            "type": "parcoords"
           }
          ],
          "pie": [
           {
            "automargin": true,
            "type": "pie"
           }
          ],
          "scatter": [
           {
            "marker": {
             "colorbar": {
              "outlinewidth": 0,
              "ticks": ""
             }
            },
            "type": "scatter"
           }
          ],
          "scatter3d": [
           {
            "line": {
             "colorbar": {
              "outlinewidth": 0,
              "ticks": ""
             }
            },
            "marker": {
             "colorbar": {
              "outlinewidth": 0,
              "ticks": ""
             }
            },
            "type": "scatter3d"
           }
          ],
          "scattercarpet": [
           {
            "marker": {
             "colorbar": {
              "outlinewidth": 0,
              "ticks": ""
             }
            },
            "type": "scattercarpet"
           }
          ],
          "scattergeo": [
           {
            "marker": {
             "colorbar": {
              "outlinewidth": 0,
              "ticks": ""
             }
            },
            "type": "scattergeo"
           }
          ],
          "scattergl": [
           {
            "marker": {
             "colorbar": {
              "outlinewidth": 0,
              "ticks": ""
             }
            },
            "type": "scattergl"
           }
          ],
          "scattermapbox": [
           {
            "marker": {
             "colorbar": {
              "outlinewidth": 0,
              "ticks": ""
             }
            },
            "type": "scattermapbox"
           }
          ],
          "scatterpolar": [
           {
            "marker": {
             "colorbar": {
              "outlinewidth": 0,
              "ticks": ""
             }
            },
            "type": "scatterpolar"
           }
          ],
          "scatterpolargl": [
           {
            "marker": {
             "colorbar": {
              "outlinewidth": 0,
              "ticks": ""
             }
            },
            "type": "scatterpolargl"
           }
          ],
          "scatterternary": [
           {
            "marker": {
             "colorbar": {
              "outlinewidth": 0,
              "ticks": ""
             }
            },
            "type": "scatterternary"
           }
          ],
          "surface": [
           {
            "colorbar": {
             "outlinewidth": 0,
             "ticks": ""
            },
            "colorscale": [
             [
              0,
              "#0d0887"
             ],
             [
              0.1111111111111111,
              "#46039f"
             ],
             [
              0.2222222222222222,
              "#7201a8"
             ],
             [
              0.3333333333333333,
              "#9c179e"
             ],
             [
              0.4444444444444444,
              "#bd3786"
             ],
             [
              0.5555555555555556,
              "#d8576b"
             ],
             [
              0.6666666666666666,
              "#ed7953"
             ],
             [
              0.7777777777777778,
              "#fb9f3a"
             ],
             [
              0.8888888888888888,
              "#fdca26"
             ],
             [
              1,
              "#f0f921"
             ]
            ],
            "type": "surface"
           }
          ],
          "table": [
           {
            "cells": {
             "fill": {
              "color": "#EBF0F8"
             },
             "line": {
              "color": "white"
             }
            },
            "header": {
             "fill": {
              "color": "#C8D4E3"
             },
             "line": {
              "color": "white"
             }
            },
            "type": "table"
           }
          ]
         },
         "layout": {
          "annotationdefaults": {
           "arrowcolor": "#2a3f5f",
           "arrowhead": 0,
           "arrowwidth": 1
          },
          "coloraxis": {
           "colorbar": {
            "outlinewidth": 0,
            "ticks": ""
           }
          },
          "colorscale": {
           "diverging": [
            [
             0,
             "#8e0152"
            ],
            [
             0.1,
             "#c51b7d"
            ],
            [
             0.2,
             "#de77ae"
            ],
            [
             0.3,
             "#f1b6da"
            ],
            [
             0.4,
             "#fde0ef"
            ],
            [
             0.5,
             "#f7f7f7"
            ],
            [
             0.6,
             "#e6f5d0"
            ],
            [
             0.7,
             "#b8e186"
            ],
            [
             0.8,
             "#7fbc41"
            ],
            [
             0.9,
             "#4d9221"
            ],
            [
             1,
             "#276419"
            ]
           ],
           "sequential": [
            [
             0,
             "#0d0887"
            ],
            [
             0.1111111111111111,
             "#46039f"
            ],
            [
             0.2222222222222222,
             "#7201a8"
            ],
            [
             0.3333333333333333,
             "#9c179e"
            ],
            [
             0.4444444444444444,
             "#bd3786"
            ],
            [
             0.5555555555555556,
             "#d8576b"
            ],
            [
             0.6666666666666666,
             "#ed7953"
            ],
            [
             0.7777777777777778,
             "#fb9f3a"
            ],
            [
             0.8888888888888888,
             "#fdca26"
            ],
            [
             1,
             "#f0f921"
            ]
           ],
           "sequentialminus": [
            [
             0,
             "#0d0887"
            ],
            [
             0.1111111111111111,
             "#46039f"
            ],
            [
             0.2222222222222222,
             "#7201a8"
            ],
            [
             0.3333333333333333,
             "#9c179e"
            ],
            [
             0.4444444444444444,
             "#bd3786"
            ],
            [
             0.5555555555555556,
             "#d8576b"
            ],
            [
             0.6666666666666666,
             "#ed7953"
            ],
            [
             0.7777777777777778,
             "#fb9f3a"
            ],
            [
             0.8888888888888888,
             "#fdca26"
            ],
            [
             1,
             "#f0f921"
            ]
           ]
          },
          "colorway": [
           "#636efa",
           "#EF553B",
           "#00cc96",
           "#ab63fa",
           "#FFA15A",
           "#19d3f3",
           "#FF6692",
           "#B6E880",
           "#FF97FF",
           "#FECB52"
          ],
          "font": {
           "color": "#2a3f5f"
          },
          "geo": {
           "bgcolor": "white",
           "lakecolor": "white",
           "landcolor": "#E5ECF6",
           "showlakes": true,
           "showland": true,
           "subunitcolor": "white"
          },
          "hoverlabel": {
           "align": "left"
          },
          "hovermode": "closest",
          "mapbox": {
           "style": "light"
          },
          "paper_bgcolor": "white",
          "plot_bgcolor": "#E5ECF6",
          "polar": {
           "angularaxis": {
            "gridcolor": "white",
            "linecolor": "white",
            "ticks": ""
           },
           "bgcolor": "#E5ECF6",
           "radialaxis": {
            "gridcolor": "white",
            "linecolor": "white",
            "ticks": ""
           }
          },
          "scene": {
           "xaxis": {
            "backgroundcolor": "#E5ECF6",
            "gridcolor": "white",
            "gridwidth": 2,
            "linecolor": "white",
            "showbackground": true,
            "ticks": "",
            "zerolinecolor": "white"
           },
           "yaxis": {
            "backgroundcolor": "#E5ECF6",
            "gridcolor": "white",
            "gridwidth": 2,
            "linecolor": "white",
            "showbackground": true,
            "ticks": "",
            "zerolinecolor": "white"
           },
           "zaxis": {
            "backgroundcolor": "#E5ECF6",
            "gridcolor": "white",
            "gridwidth": 2,
            "linecolor": "white",
            "showbackground": true,
            "ticks": "",
            "zerolinecolor": "white"
           }
          },
          "shapedefaults": {
           "line": {
            "color": "#2a3f5f"
           }
          },
          "ternary": {
           "aaxis": {
            "gridcolor": "white",
            "linecolor": "white",
            "ticks": ""
           },
           "baxis": {
            "gridcolor": "white",
            "linecolor": "white",
            "ticks": ""
           },
           "bgcolor": "#E5ECF6",
           "caxis": {
            "gridcolor": "white",
            "linecolor": "white",
            "ticks": ""
           }
          },
          "title": {
           "x": 0.05
          },
          "xaxis": {
           "automargin": true,
           "gridcolor": "white",
           "linecolor": "white",
           "ticks": "",
           "title": {
            "standoff": 15
           },
           "zerolinecolor": "white",
           "zerolinewidth": 2
          },
          "yaxis": {
           "automargin": true,
           "gridcolor": "white",
           "linecolor": "white",
           "ticks": "",
           "title": {
            "standoff": 15
           },
           "zerolinecolor": "white",
           "zerolinewidth": 2
          }
         }
        },
        "xaxis": {
         "anchor": "y",
         "domain": [
          0,
          1
         ],
         "title": {
          "text": "시간"
         }
        },
        "yaxis": {
         "anchor": "x",
         "domain": [
          0,
          1
         ],
         "title": {
          "text": "이용량"
         }
        }
       }
      },
      "text/html": [
       "<div>\n",
       "        \n",
       "        \n",
       "            <div id=\"bc6b6d92-4a2f-40a3-bd6e-cb5df49bfdd3\" class=\"plotly-graph-div\" style=\"height:600px; width:100%;\"></div>\n",
       "            <script type=\"text/javascript\">\n",
       "                require([\"plotly\"], function(Plotly) {\n",
       "                    window.PLOTLYENV=window.PLOTLYENV || {};\n",
       "                    \n",
       "                if (document.getElementById(\"bc6b6d92-4a2f-40a3-bd6e-cb5df49bfdd3\")) {\n",
       "                    Plotly.newPlot(\n",
       "                        'bc6b6d92-4a2f-40a3-bd6e-cb5df49bfdd3',\n",
       "                        [{\"hoverlabel\": {\"namelength\": 0}, \"hovertemplate\": \"\\ub178\\uc120\\uba85=1<br>\\uc2dc\\uac04=%{x}<br>\\uc774\\uc6a9\\ub7c9=%{y}\", \"legendgroup\": \"\\ub178\\uc120\\uba85=1\", \"marker\": {\"color\": \"#636efa\", \"symbol\": \"circle\"}, \"mode\": \"markers\", \"name\": \"\\ub178\\uc120\\uba85=1\", \"showlegend\": true, \"type\": \"scattergl\", \"x\": [4, 5, 6, 7, 8, 9, 10, 11, 12, 13, 14, 15, 16, 17, 18, 19, 20, 21, 22, 23], \"xaxis\": \"x\", \"y\": [1, 14, 30, 15, 32, 4, 9, 30, 9, 25, 7, 12, 10, 13, 23, 6, 6, 9, 11, 11], \"yaxis\": \"y\"}, {\"hoverlabel\": {\"namelength\": 0}, \"hovertemplate\": \"\\ub178\\uc120\\uba85=1-1<br>\\uc2dc\\uac04=%{x}<br>\\uc774\\uc6a9\\ub7c9=%{y}\", \"legendgroup\": \"\\ub178\\uc120\\uba85=1-1\", \"marker\": {\"color\": \"#EF553B\", \"symbol\": \"circle\"}, \"mode\": \"markers\", \"name\": \"\\ub178\\uc120\\uba85=1-1\", \"showlegend\": true, \"type\": \"scattergl\", \"x\": [5, 6, 7, 8, 9, 10, 11, 12, 13, 14, 15, 16, 17, 18, 19, 20, 21, 22, 23], \"xaxis\": \"x\", \"y\": [1, 10, 8, 13, 6, 5, 1, 5, 3, 3, 4, 1, 12, 10, 2, 3, 4, 2, 1], \"yaxis\": \"y\"}, {\"hoverlabel\": {\"namelength\": 0}, \"hovertemplate\": \"\\ub178\\uc120\\uba85=1-2<br>\\uc2dc\\uac04=%{x}<br>\\uc774\\uc6a9\\ub7c9=%{y}\", \"legendgroup\": \"\\ub178\\uc120\\uba85=1-2\", \"marker\": {\"color\": \"#00cc96\", \"symbol\": \"circle\"}, \"mode\": \"markers\", \"name\": \"\\ub178\\uc120\\uba85=1-2\", \"showlegend\": true, \"type\": \"scattergl\", \"x\": [5, 6, 7, 8, 9, 10, 11, 12, 13, 14, 15, 16, 17, 18, 19, 20, 21, 22, 23], \"xaxis\": \"x\", \"y\": [4, 11, 13, 19, 9, 9, 4, 12, 4, 5, 9, 9, 14, 13, 11, 12, 4, 6, 2], \"yaxis\": \"y\"}, {\"hoverlabel\": {\"namelength\": 0}, \"hovertemplate\": \"\\ub178\\uc120\\uba85=1-5<br>\\uc2dc\\uac04=%{x}<br>\\uc774\\uc6a9\\ub7c9=%{y}\", \"legendgroup\": \"\\ub178\\uc120\\uba85=1-5\", \"marker\": {\"color\": \"#ab63fa\", \"symbol\": \"circle\"}, \"mode\": \"markers\", \"name\": \"\\ub178\\uc120\\uba85=1-5\", \"showlegend\": true, \"type\": \"scattergl\", \"x\": [6, 7, 8, 12, 13, 15, 16, 17, 18, 19, 20, 22], \"xaxis\": \"x\", \"y\": [1, 4, 2, 1, 2, 1, 3, 4, 3, 1, 1, 1], \"yaxis\": \"y\"}, {\"hoverlabel\": {\"namelength\": 0}, \"hovertemplate\": \"\\ub178\\uc120\\uba85=10<br>\\uc2dc\\uac04=%{x}<br>\\uc774\\uc6a9\\ub7c9=%{y}\", \"legendgroup\": \"\\ub178\\uc120\\uba85=10\", \"marker\": {\"color\": \"#FFA15A\", \"symbol\": \"circle\"}, \"mode\": \"markers\", \"name\": \"\\ub178\\uc120\\uba85=10\", \"showlegend\": true, \"type\": \"scattergl\", \"x\": [5, 6, 7, 8, 9, 10, 11, 12, 13, 14, 15, 16, 17, 18, 19, 20, 21, 22, 23], \"xaxis\": \"x\", \"y\": [3, 12, 47, 37, 24, 18, 22, 26, 22, 25, 28, 36, 44, 47, 41, 31, 22, 17, 9], \"yaxis\": \"y\"}, {\"hoverlabel\": {\"namelength\": 0}, \"hovertemplate\": \"\\ub178\\uc120\\uba85=10-2<br>\\uc2dc\\uac04=%{x}<br>\\uc774\\uc6a9\\ub7c9=%{y}\", \"legendgroup\": \"\\ub178\\uc120\\uba85=10-2\", \"marker\": {\"color\": \"#19d3f3\", \"symbol\": \"circle\"}, \"mode\": \"markers\", \"name\": \"\\ub178\\uc120\\uba85=10-2\", \"showlegend\": true, \"type\": \"scattergl\", \"x\": [6, 7, 8, 9, 10, 11, 12, 13, 14, 15, 16, 17, 18, 19, 20, 21, 22], \"xaxis\": \"x\", \"y\": [6, 13, 14, 14, 15, 9, 11, 7, 9, 11, 14, 24, 23, 6, 6, 10, 4], \"yaxis\": \"y\"}, {\"hoverlabel\": {\"namelength\": 0}, \"hovertemplate\": \"\\ub178\\uc120\\uba85=10-4<br>\\uc2dc\\uac04=%{x}<br>\\uc774\\uc6a9\\ub7c9=%{y}\", \"legendgroup\": \"\\ub178\\uc120\\uba85=10-4\", \"marker\": {\"color\": \"#FF6692\", \"symbol\": \"circle\"}, \"mode\": \"markers\", \"name\": \"\\ub178\\uc120\\uba85=10-4\", \"showlegend\": true, \"type\": \"scattergl\", \"x\": [16, 19], \"xaxis\": \"x\", \"y\": [2, 1], \"yaxis\": \"y\"}, {\"hoverlabel\": {\"namelength\": 0}, \"hovertemplate\": \"\\ub178\\uc120\\uba85=10-5<br>\\uc2dc\\uac04=%{x}<br>\\uc774\\uc6a9\\ub7c9=%{y}\", \"legendgroup\": \"\\ub178\\uc120\\uba85=10-5\", \"marker\": {\"color\": \"#B6E880\", \"symbol\": \"circle\"}, \"mode\": \"markers\", \"name\": \"\\ub178\\uc120\\uba85=10-5\", \"showlegend\": true, \"type\": \"scattergl\", \"x\": [5, 6, 7, 8, 9, 10, 11, 12, 13, 14, 15, 16, 17, 18, 19, 20, 21, 22, 23], \"xaxis\": \"x\", \"y\": [6, 7, 24, 20, 12, 6, 12, 13, 11, 13, 16, 19, 16, 12, 15, 7, 10, 5, 5], \"yaxis\": \"y\"}, {\"hoverlabel\": {\"namelength\": 0}, \"hovertemplate\": \"\\ub178\\uc120\\uba85=100<br>\\uc2dc\\uac04=%{x}<br>\\uc774\\uc6a9\\ub7c9=%{y}\", \"legendgroup\": \"\\ub178\\uc120\\uba85=100\", \"marker\": {\"color\": \"#FF97FF\", \"symbol\": \"circle\"}, \"mode\": \"markers\", \"name\": \"\\ub178\\uc120\\uba85=100\", \"showlegend\": true, \"type\": \"scattergl\", \"x\": [5, 6, 7, 8, 9, 11, 15, 18, 20], \"xaxis\": \"x\", \"y\": [2, 3, 4, 5, 1, 1, 1, 2, 3], \"yaxis\": \"y\"}, {\"hoverlabel\": {\"namelength\": 0}, \"hovertemplate\": \"\\ub178\\uc120\\uba85=100-2<br>\\uc2dc\\uac04=%{x}<br>\\uc774\\uc6a9\\ub7c9=%{y}\", \"legendgroup\": \"\\ub178\\uc120\\uba85=100-2\", \"marker\": {\"color\": \"#FECB52\", \"symbol\": \"circle\"}, \"mode\": \"markers\", \"name\": \"\\ub178\\uc120\\uba85=100-2\", \"showlegend\": true, \"type\": \"scattergl\", \"x\": [19], \"xaxis\": \"x\", \"y\": [3], \"yaxis\": \"y\"}, {\"hoverlabel\": {\"namelength\": 0}, \"hovertemplate\": \"\\ub178\\uc120\\uba85=1000<br>\\uc2dc\\uac04=%{x}<br>\\uc774\\uc6a9\\ub7c9=%{y}\", \"legendgroup\": \"\\ub178\\uc120\\uba85=1000\", \"marker\": {\"color\": \"#636efa\", \"symbol\": \"circle\"}, \"mode\": \"markers\", \"name\": \"\\ub178\\uc120\\uba85=1000\", \"showlegend\": true, \"type\": \"scattergl\", \"x\": [6, 7, 8, 9, 10, 11, 12, 13, 14, 15, 16, 17, 18, 19, 20, 21], \"xaxis\": \"x\", \"y\": [4, 32, 33, 17, 3, 4, 8, 2, 5, 8, 6, 17, 10, 12, 9, 2], \"yaxis\": \"y\"}, {\"hoverlabel\": {\"namelength\": 0}, \"hovertemplate\": \"\\ub178\\uc120\\uba85=1001<br>\\uc2dc\\uac04=%{x}<br>\\uc774\\uc6a9\\ub7c9=%{y}\", \"legendgroup\": \"\\ub178\\uc120\\uba85=1001\", \"marker\": {\"color\": \"#EF553B\", \"symbol\": \"circle\"}, \"mode\": \"markers\", \"name\": \"\\ub178\\uc120\\uba85=1001\", \"showlegend\": true, \"type\": \"scattergl\", \"x\": [5, 6, 7, 8, 9, 10, 11, 12, 13, 14, 15, 16, 17, 18, 19, 20, 21, 22], \"xaxis\": \"x\", \"y\": [1, 11, 108, 29, 20, 12, 8, 13, 9, 22, 7, 15, 24, 37, 14, 5, 20, 5], \"yaxis\": \"y\"}, {\"hoverlabel\": {\"namelength\": 0}, \"hovertemplate\": \"\\ub178\\uc120\\uba85=1002<br>\\uc2dc\\uac04=%{x}<br>\\uc774\\uc6a9\\ub7c9=%{y}\", \"legendgroup\": \"\\ub178\\uc120\\uba85=1002\", \"marker\": {\"color\": \"#00cc96\", \"symbol\": \"circle\"}, \"mode\": \"markers\", \"name\": \"\\ub178\\uc120\\uba85=1002\", \"showlegend\": true, \"type\": \"scattergl\", \"x\": [7, 8, 11, 16, 18, 20, 21], \"xaxis\": \"x\", \"y\": [2, 1, 1, 1, 3, 1, 1], \"yaxis\": \"y\"}, {\"hoverlabel\": {\"namelength\": 0}, \"hovertemplate\": \"\\ub178\\uc120\\uba85=1004<br>\\uc2dc\\uac04=%{x}<br>\\uc774\\uc6a9\\ub7c9=%{y}\", \"legendgroup\": \"\\ub178\\uc120\\uba85=1004\", \"marker\": {\"color\": \"#ab63fa\", \"symbol\": \"circle\"}, \"mode\": \"markers\", \"name\": \"\\ub178\\uc120\\uba85=1004\", \"showlegend\": true, \"type\": \"scattergl\", \"x\": [5, 6, 7, 8, 9, 10, 11, 12, 13, 14, 15, 16, 17, 18, 19, 20, 21, 22], \"xaxis\": \"x\", \"y\": [1, 18, 19, 10, 4, 2, 10, 5, 9, 3, 4, 5, 12, 15, 3, 9, 5, 1], \"yaxis\": \"y\"}, {\"hoverlabel\": {\"namelength\": 0}, \"hovertemplate\": \"\\ub178\\uc120\\uba85=1004-1<br>\\uc2dc\\uac04=%{x}<br>\\uc774\\uc6a9\\ub7c9=%{y}\", \"legendgroup\": \"\\ub178\\uc120\\uba85=1004-1\", \"marker\": {\"color\": \"#FFA15A\", \"symbol\": \"circle\"}, \"mode\": \"markers\", \"name\": \"\\ub178\\uc120\\uba85=1004-1\", \"showlegend\": true, \"type\": \"scattergl\", \"x\": [8, 15, 16, 19], \"xaxis\": \"x\", \"y\": [4, 3, 3, 1], \"yaxis\": \"y\"}, {\"hoverlabel\": {\"namelength\": 0}, \"hovertemplate\": \"\\ub178\\uc120\\uba85=1005<br>\\uc2dc\\uac04=%{x}<br>\\uc774\\uc6a9\\ub7c9=%{y}\", \"legendgroup\": \"\\ub178\\uc120\\uba85=1005\", \"marker\": {\"color\": \"#19d3f3\", \"symbol\": \"circle\"}, \"mode\": \"markers\", \"name\": \"\\ub178\\uc120\\uba85=1005\", \"showlegend\": true, \"type\": \"scattergl\", \"x\": [6, 11, 13], \"xaxis\": \"x\", \"y\": [1, 1, 1], \"yaxis\": \"y\"}, {\"hoverlabel\": {\"namelength\": 0}, \"hovertemplate\": \"\\ub178\\uc120\\uba85=1005-1<br>\\uc2dc\\uac04=%{x}<br>\\uc774\\uc6a9\\ub7c9=%{y}\", \"legendgroup\": \"\\ub178\\uc120\\uba85=1005-1\", \"marker\": {\"color\": \"#FF6692\", \"symbol\": \"circle\"}, \"mode\": \"markers\", \"name\": \"\\ub178\\uc120\\uba85=1005-1\", \"showlegend\": true, \"type\": \"scattergl\", \"x\": [10, 14, 16], \"xaxis\": \"x\", \"y\": [1, 1, 1], \"yaxis\": \"y\"}, {\"hoverlabel\": {\"namelength\": 0}, \"hovertemplate\": \"\\ub178\\uc120\\uba85=1007<br>\\uc2dc\\uac04=%{x}<br>\\uc774\\uc6a9\\ub7c9=%{y}\", \"legendgroup\": \"\\ub178\\uc120\\uba85=1007\", \"marker\": {\"color\": \"#B6E880\", \"symbol\": \"circle\"}, \"mode\": \"markers\", \"name\": \"\\ub178\\uc120\\uba85=1007\", \"showlegend\": true, \"type\": \"scattergl\", \"x\": [4, 5, 7, 8, 9, 10, 12, 13, 14, 15, 16, 17, 18, 19, 20, 21, 22, 23], \"xaxis\": \"x\", \"y\": [3, 2, 2, 2, 1, 1, 5, 3, 3, 8, 3, 8, 25, 17, 14, 14, 6, 2], \"yaxis\": \"y\"}, {\"hoverlabel\": {\"namelength\": 0}, \"hovertemplate\": \"\\ub178\\uc120\\uba85=1007-1<br>\\uc2dc\\uac04=%{x}<br>\\uc774\\uc6a9\\ub7c9=%{y}\", \"legendgroup\": \"\\ub178\\uc120\\uba85=1007-1\", \"marker\": {\"color\": \"#FF97FF\", \"symbol\": \"circle\"}, \"mode\": \"markers\", \"name\": \"\\ub178\\uc120\\uba85=1007-1\", \"showlegend\": true, \"type\": \"scattergl\", \"x\": [7, 11, 13, 17, 18, 19, 23], \"xaxis\": \"x\", \"y\": [2, 1, 1, 2, 9, 2, 1], \"yaxis\": \"y\"}, {\"hoverlabel\": {\"namelength\": 0}, \"hovertemplate\": \"\\ub178\\uc120\\uba85=1008<br>\\uc2dc\\uac04=%{x}<br>\\uc774\\uc6a9\\ub7c9=%{y}\", \"legendgroup\": \"\\ub178\\uc120\\uba85=1008\", \"marker\": {\"color\": \"#FECB52\", \"symbol\": \"circle\"}, \"mode\": \"markers\", \"name\": \"\\ub178\\uc120\\uba85=1008\", \"showlegend\": true, \"type\": \"scattergl\", \"x\": [6, 11, 12, 14, 17, 18, 21], \"xaxis\": \"x\", \"y\": [1, 2, 1, 2, 1, 1, 1], \"yaxis\": \"y\"}, {\"hoverlabel\": {\"namelength\": 0}, \"hovertemplate\": \"\\ub178\\uc120\\uba85=1009<br>\\uc2dc\\uac04=%{x}<br>\\uc774\\uc6a9\\ub7c9=%{y}\", \"legendgroup\": \"\\ub178\\uc120\\uba85=1009\", \"marker\": {\"color\": \"#636efa\", \"symbol\": \"circle\"}, \"mode\": \"markers\", \"name\": \"\\ub178\\uc120\\uba85=1009\", \"showlegend\": true, \"type\": \"scattergl\", \"x\": [6, 13, 14, 15, 17, 18, 19, 20, 21, 22], \"xaxis\": \"x\", \"y\": [1, 1, 1, 1, 4, 9, 6, 4, 6, 1], \"yaxis\": \"y\"}, {\"hoverlabel\": {\"namelength\": 0}, \"hovertemplate\": \"\\ub178\\uc120\\uba85=101<br>\\uc2dc\\uac04=%{x}<br>\\uc774\\uc6a9\\ub7c9=%{y}\", \"legendgroup\": \"\\ub178\\uc120\\uba85=101\", \"marker\": {\"color\": \"#EF553B\", \"symbol\": \"circle\"}, \"mode\": \"markers\", \"name\": \"\\ub178\\uc120\\uba85=101\", \"showlegend\": true, \"type\": \"scattergl\", \"x\": [5, 6, 7, 8, 9, 10, 11, 12, 13, 14, 15, 16, 17, 18, 19, 20, 21, 22, 23], \"xaxis\": \"x\", \"y\": [2, 10, 12, 9, 10, 3, 6, 9, 7, 3, 5, 7, 13, 14, 9, 12, 4, 6, 1], \"yaxis\": \"y\"}, {\"hoverlabel\": {\"namelength\": 0}, \"hovertemplate\": \"\\ub178\\uc120\\uba85=102<br>\\uc2dc\\uac04=%{x}<br>\\uc774\\uc6a9\\ub7c9=%{y}\", \"legendgroup\": \"\\ub178\\uc120\\uba85=102\", \"marker\": {\"color\": \"#00cc96\", \"symbol\": \"circle\"}, \"mode\": \"markers\", \"name\": \"\\ub178\\uc120\\uba85=102\", \"showlegend\": true, \"type\": \"scattergl\", \"x\": [5, 6, 7, 8, 9, 10, 12, 13, 14, 15, 16, 17, 18, 19, 20, 21, 22, 23], \"xaxis\": \"x\", \"y\": [1, 4, 3, 1, 2, 1, 1, 1, 1, 3, 3, 6, 5, 1, 3, 6, 5, 3], \"yaxis\": \"y\"}, {\"hoverlabel\": {\"namelength\": 0}, \"hovertemplate\": \"\\ub178\\uc120\\uba85=103<br>\\uc2dc\\uac04=%{x}<br>\\uc774\\uc6a9\\ub7c9=%{y}\", \"legendgroup\": \"\\ub178\\uc120\\uba85=103\", \"marker\": {\"color\": \"#ab63fa\", \"symbol\": \"circle\"}, \"mode\": \"markers\", \"name\": \"\\ub178\\uc120\\uba85=103\", \"showlegend\": true, \"type\": \"scattergl\", \"x\": [5, 7, 8, 12, 13, 16, 17, 18, 19, 20], \"xaxis\": \"x\", \"y\": [2, 2, 1, 2, 1, 1, 5, 6, 1, 1], \"yaxis\": \"y\"}, {\"hoverlabel\": {\"namelength\": 0}, \"hovertemplate\": \"\\ub178\\uc120\\uba85=1082<br>\\uc2dc\\uac04=%{x}<br>\\uc774\\uc6a9\\ub7c9=%{y}\", \"legendgroup\": \"\\ub178\\uc120\\uba85=1082\", \"marker\": {\"color\": \"#FFA15A\", \"symbol\": \"circle\"}, \"mode\": \"markers\", \"name\": \"\\ub178\\uc120\\uba85=1082\", \"showlegend\": true, \"type\": \"scattergl\", \"x\": [6, 11, 14, 16, 17, 20], \"xaxis\": \"x\", \"y\": [1, 1, 1, 1, 1, 1], \"yaxis\": \"y\"}, {\"hoverlabel\": {\"namelength\": 0}, \"hovertemplate\": \"\\ub178\\uc120\\uba85=11<br>\\uc2dc\\uac04=%{x}<br>\\uc774\\uc6a9\\ub7c9=%{y}\", \"legendgroup\": \"\\ub178\\uc120\\uba85=11\", \"marker\": {\"color\": \"#19d3f3\", \"symbol\": \"circle\"}, \"mode\": \"markers\", \"name\": \"\\ub178\\uc120\\uba85=11\", \"showlegend\": true, \"type\": \"scattergl\", \"x\": [4, 5, 6, 7, 8, 9, 10, 11, 12, 13, 14, 15, 16, 17, 18, 19, 20, 21, 22, 23], \"xaxis\": \"x\", \"y\": [5, 6, 30, 70, 61, 36, 27, 31, 29, 31, 28, 48, 40, 80, 57, 25, 29, 15, 8, 4], \"yaxis\": \"y\"}, {\"hoverlabel\": {\"namelength\": 0}, \"hovertemplate\": \"\\ub178\\uc120\\uba85=11-1<br>\\uc2dc\\uac04=%{x}<br>\\uc774\\uc6a9\\ub7c9=%{y}\", \"legendgroup\": \"\\ub178\\uc120\\uba85=11-1\", \"marker\": {\"color\": \"#FF6692\", \"symbol\": \"circle\"}, \"mode\": \"markers\", \"name\": \"\\ub178\\uc120\\uba85=11-1\", \"showlegend\": true, \"type\": \"scattergl\", \"x\": [5, 6, 7, 8, 9, 10, 11, 12, 13, 14, 15, 16, 17, 18, 19, 20, 21, 22, 23], \"xaxis\": \"x\", \"y\": [62, 118, 311, 300, 166, 156, 124, 199, 173, 154, 235, 210, 276, 236, 150, 148, 174, 121, 49], \"yaxis\": \"y\"}, {\"hoverlabel\": {\"namelength\": 0}, \"hovertemplate\": \"\\ub178\\uc120\\uba85=11-2<br>\\uc2dc\\uac04=%{x}<br>\\uc774\\uc6a9\\ub7c9=%{y}\", \"legendgroup\": \"\\ub178\\uc120\\uba85=11-2\", \"marker\": {\"color\": \"#B6E880\", \"symbol\": \"circle\"}, \"mode\": \"markers\", \"name\": \"\\ub178\\uc120\\uba85=11-2\", \"showlegend\": true, \"type\": \"scattergl\", \"x\": [5, 6, 7, 8, 9, 11, 12, 14, 15, 16, 17, 18, 19, 20, 21, 22, 23], \"xaxis\": \"x\", \"y\": [2, 3, 3, 3, 1, 2, 5, 1, 2, 1, 1, 3, 1, 2, 4, 1, 1], \"yaxis\": \"y\"}, {\"hoverlabel\": {\"namelength\": 0}, \"hovertemplate\": \"\\ub178\\uc120\\uba85=11-3<br>\\uc2dc\\uac04=%{x}<br>\\uc774\\uc6a9\\ub7c9=%{y}\", \"legendgroup\": \"\\ub178\\uc120\\uba85=11-3\", \"marker\": {\"color\": \"#FF97FF\", \"symbol\": \"circle\"}, \"mode\": \"markers\", \"name\": \"\\ub178\\uc120\\uba85=11-3\", \"showlegend\": true, \"type\": \"scattergl\", \"x\": [5, 6, 7, 8, 9, 10, 12, 13, 14, 15, 16, 17, 18, 19, 20, 22], \"xaxis\": \"x\", \"y\": [2, 2, 3, 2, 3, 4, 2, 1, 2, 3, 7, 3, 5, 3, 3, 3], \"yaxis\": \"y\"}, {\"hoverlabel\": {\"namelength\": 0}, \"hovertemplate\": \"\\ub178\\uc120\\uba85=11-5<br>\\uc2dc\\uac04=%{x}<br>\\uc774\\uc6a9\\ub7c9=%{y}\", \"legendgroup\": \"\\ub178\\uc120\\uba85=11-5\", \"marker\": {\"color\": \"#FECB52\", \"symbol\": \"circle\"}, \"mode\": \"markers\", \"name\": \"\\ub178\\uc120\\uba85=11-5\", \"showlegend\": true, \"type\": \"scattergl\", \"x\": [5, 6, 7, 8, 9, 10, 11, 12, 13, 14, 15, 16, 17, 18, 19, 20, 21, 22], \"xaxis\": \"x\", \"y\": [1, 5, 8, 6, 9, 3, 1, 5, 3, 4, 1, 4, 11, 7, 3, 4, 4, 2], \"yaxis\": \"y\"}, {\"hoverlabel\": {\"namelength\": 0}, \"hovertemplate\": \"\\ub178\\uc120\\uba85=11-A<br>\\uc2dc\\uac04=%{x}<br>\\uc774\\uc6a9\\ub7c9=%{y}\", \"legendgroup\": \"\\ub178\\uc120\\uba85=11-A\", \"marker\": {\"color\": \"#636efa\", \"symbol\": \"circle\"}, \"mode\": \"markers\", \"name\": \"\\ub178\\uc120\\uba85=11-A\", \"showlegend\": true, \"type\": \"scattergl\", \"x\": [18], \"xaxis\": \"x\", \"y\": [2], \"yaxis\": \"y\"}, {\"hoverlabel\": {\"namelength\": 0}, \"hovertemplate\": \"\\ub178\\uc120\\uba85=110<br>\\uc2dc\\uac04=%{x}<br>\\uc774\\uc6a9\\ub7c9=%{y}\", \"legendgroup\": \"\\ub178\\uc120\\uba85=110\", \"marker\": {\"color\": \"#EF553B\", \"symbol\": \"circle\"}, \"mode\": \"markers\", \"name\": \"\\ub178\\uc120\\uba85=110\", \"showlegend\": true, \"type\": \"scattergl\", \"x\": [5, 6, 7, 8, 9, 10, 11, 12, 13, 14, 15, 16, 17, 18, 19, 20, 21, 22], \"xaxis\": \"x\", \"y\": [5, 18, 29, 20, 9, 3, 8, 9, 10, 5, 7, 13, 26, 23, 10, 20, 15, 3], \"yaxis\": \"y\"}, {\"hoverlabel\": {\"namelength\": 0}, \"hovertemplate\": \"\\ub178\\uc120\\uba85=1100<br>\\uc2dc\\uac04=%{x}<br>\\uc774\\uc6a9\\ub7c9=%{y}\", \"legendgroup\": \"\\ub178\\uc120\\uba85=1100\", \"marker\": {\"color\": \"#00cc96\", \"symbol\": \"circle\"}, \"mode\": \"markers\", \"name\": \"\\ub178\\uc120\\uba85=1100\", \"showlegend\": true, \"type\": \"scattergl\", \"x\": [7, 16], \"xaxis\": \"x\", \"y\": [1, 1], \"yaxis\": \"y\"}, {\"hoverlabel\": {\"namelength\": 0}, \"hovertemplate\": \"\\ub178\\uc120\\uba85=111<br>\\uc2dc\\uac04=%{x}<br>\\uc774\\uc6a9\\ub7c9=%{y}\", \"legendgroup\": \"\\ub178\\uc120\\uba85=111\", \"marker\": {\"color\": \"#ab63fa\", \"symbol\": \"circle\"}, \"mode\": \"markers\", \"name\": \"\\ub178\\uc120\\uba85=111\", \"showlegend\": true, \"type\": \"scattergl\", \"x\": [5, 6, 7, 8, 9, 10, 11, 12, 13, 14, 15, 16, 17, 18, 19, 20, 21, 22, 23], \"xaxis\": \"x\", \"y\": [51, 138, 188, 127, 99, 86, 80, 88, 100, 80, 85, 133, 184, 176, 137, 80, 76, 26, 28], \"yaxis\": \"y\"}, {\"hoverlabel\": {\"namelength\": 0}, \"hovertemplate\": \"\\ub178\\uc120\\uba85=1112<br>\\uc2dc\\uac04=%{x}<br>\\uc774\\uc6a9\\ub7c9=%{y}\", \"legendgroup\": \"\\ub178\\uc120\\uba85=1112\", \"marker\": {\"color\": \"#FFA15A\", \"symbol\": \"circle\"}, \"mode\": \"markers\", \"name\": \"\\ub178\\uc120\\uba85=1112\", \"showlegend\": true, \"type\": \"scattergl\", \"x\": [6, 7, 8, 9, 10, 11, 12, 13, 14, 15, 16, 17, 18, 19, 20, 21, 22, 23], \"xaxis\": \"x\", \"y\": [5, 5, 3, 8, 3, 5, 2, 3, 5, 7, 6, 16, 27, 11, 13, 3, 10, 2], \"yaxis\": \"y\"}, {\"hoverlabel\": {\"namelength\": 0}, \"hovertemplate\": \"\\ub178\\uc120\\uba85=1117<br>\\uc2dc\\uac04=%{x}<br>\\uc774\\uc6a9\\ub7c9=%{y}\", \"legendgroup\": \"\\ub178\\uc120\\uba85=1117\", \"marker\": {\"color\": \"#19d3f3\", \"symbol\": \"circle\"}, \"mode\": \"markers\", \"name\": \"\\ub178\\uc120\\uba85=1117\", \"showlegend\": true, \"type\": \"scattergl\", \"x\": [16, 18, 21], \"xaxis\": \"x\", \"y\": [1, 2, 1], \"yaxis\": \"y\"}, {\"hoverlabel\": {\"namelength\": 0}, \"hovertemplate\": \"\\ub178\\uc120\\uba85=112<br>\\uc2dc\\uac04=%{x}<br>\\uc774\\uc6a9\\ub7c9=%{y}\", \"legendgroup\": \"\\ub178\\uc120\\uba85=112\", \"marker\": {\"color\": \"#FF6692\", \"symbol\": \"circle\"}, \"mode\": \"markers\", \"name\": \"\\ub178\\uc120\\uba85=112\", \"showlegend\": true, \"type\": \"scattergl\", \"x\": [5, 6, 7, 8, 9, 10, 11, 12, 13, 14, 15, 16, 17, 18, 19, 20, 21, 22, 23], \"xaxis\": \"x\", \"y\": [10, 38, 73, 101, 68, 59, 53, 68, 75, 61, 51, 54, 44, 53, 32, 26, 34, 12, 3], \"yaxis\": \"y\"}, {\"hoverlabel\": {\"namelength\": 0}, \"hovertemplate\": \"\\ub178\\uc120\\uba85=112-1<br>\\uc2dc\\uac04=%{x}<br>\\uc774\\uc6a9\\ub7c9=%{y}\", \"legendgroup\": \"\\ub178\\uc120\\uba85=112-1\", \"marker\": {\"color\": \"#B6E880\", \"symbol\": \"circle\"}, \"mode\": \"markers\", \"name\": \"\\ub178\\uc120\\uba85=112-1\", \"showlegend\": true, \"type\": \"scattergl\", \"x\": [17], \"xaxis\": \"x\", \"y\": [1], \"yaxis\": \"y\"}, {\"hoverlabel\": {\"namelength\": 0}, \"hovertemplate\": \"\\ub178\\uc120\\uba85=112-5<br>\\uc2dc\\uac04=%{x}<br>\\uc774\\uc6a9\\ub7c9=%{y}\", \"legendgroup\": \"\\ub178\\uc120\\uba85=112-5\", \"marker\": {\"color\": \"#FF97FF\", \"symbol\": \"circle\"}, \"mode\": \"markers\", \"name\": \"\\ub178\\uc120\\uba85=112-5\", \"showlegend\": true, \"type\": \"scattergl\", \"x\": [6, 7, 9, 10, 16, 17, 18, 19], \"xaxis\": \"x\", \"y\": [1, 1, 1, 1, 1, 2, 1, 1], \"yaxis\": \"y\"}, {\"hoverlabel\": {\"namelength\": 0}, \"hovertemplate\": \"\\ub178\\uc120\\uba85=114<br>\\uc2dc\\uac04=%{x}<br>\\uc774\\uc6a9\\ub7c9=%{y}\", \"legendgroup\": \"\\ub178\\uc120\\uba85=114\", \"marker\": {\"color\": \"#FECB52\", \"symbol\": \"circle\"}, \"mode\": \"markers\", \"name\": \"\\ub178\\uc120\\uba85=114\", \"showlegend\": true, \"type\": \"scattergl\", \"x\": [12], \"xaxis\": \"x\", \"y\": [1], \"yaxis\": \"y\"}, {\"hoverlabel\": {\"namelength\": 0}, \"hovertemplate\": \"\\ub178\\uc120\\uba85=1150<br>\\uc2dc\\uac04=%{x}<br>\\uc774\\uc6a9\\ub7c9=%{y}\", \"legendgroup\": \"\\ub178\\uc120\\uba85=1150\", \"marker\": {\"color\": \"#636efa\", \"symbol\": \"circle\"}, \"mode\": \"markers\", \"name\": \"\\ub178\\uc120\\uba85=1150\", \"showlegend\": true, \"type\": \"scattergl\", \"x\": [10, 15, 16, 18], \"xaxis\": \"x\", \"y\": [1, 1, 2, 3], \"yaxis\": \"y\"}, {\"hoverlabel\": {\"namelength\": 0}, \"hovertemplate\": \"\\ub178\\uc120\\uba85=1151<br>\\uc2dc\\uac04=%{x}<br>\\uc774\\uc6a9\\ub7c9=%{y}\", \"legendgroup\": \"\\ub178\\uc120\\uba85=1151\", \"marker\": {\"color\": \"#EF553B\", \"symbol\": \"circle\"}, \"mode\": \"markers\", \"name\": \"\\ub178\\uc120\\uba85=1151\", \"showlegend\": true, \"type\": \"scattergl\", \"x\": [7, 8, 9, 12, 17, 18, 19, 22], \"xaxis\": \"x\", \"y\": [2, 1, 1, 1, 1, 2, 1, 1], \"yaxis\": \"y\"}, {\"hoverlabel\": {\"namelength\": 0}, \"hovertemplate\": \"\\ub178\\uc120\\uba85=116<br>\\uc2dc\\uac04=%{x}<br>\\uc774\\uc6a9\\ub7c9=%{y}\", \"legendgroup\": \"\\ub178\\uc120\\uba85=116\", \"marker\": {\"color\": \"#00cc96\", \"symbol\": \"circle\"}, \"mode\": \"markers\", \"name\": \"\\ub178\\uc120\\uba85=116\", \"showlegend\": true, \"type\": \"scattergl\", \"x\": [7, 8, 10, 11, 13, 14, 15, 17, 18, 19, 20], \"xaxis\": \"x\", \"y\": [5, 1, 1, 2, 1, 2, 2, 1, 2, 1, 1], \"yaxis\": \"y\"}, {\"hoverlabel\": {\"namelength\": 0}, \"hovertemplate\": \"\\ub178\\uc120\\uba85=116-1<br>\\uc2dc\\uac04=%{x}<br>\\uc774\\uc6a9\\ub7c9=%{y}\", \"legendgroup\": \"\\ub178\\uc120\\uba85=116-1\", \"marker\": {\"color\": \"#ab63fa\", \"symbol\": \"circle\"}, \"mode\": \"markers\", \"name\": \"\\ub178\\uc120\\uba85=116-1\", \"showlegend\": true, \"type\": \"scattergl\", \"x\": [4, 5, 6, 7, 8, 9, 10, 11, 12, 13, 14, 15, 16, 17, 18, 19, 20, 21, 22, 23], \"xaxis\": \"x\", \"y\": [5, 146, 216, 490, 509, 271, 169, 194, 233, 279, 203, 259, 278, 414, 442, 309, 286, 253, 151, 85], \"yaxis\": \"y\"}, {\"hoverlabel\": {\"namelength\": 0}, \"hovertemplate\": \"\\ub178\\uc120\\uba85=116-2<br>\\uc2dc\\uac04=%{x}<br>\\uc774\\uc6a9\\ub7c9=%{y}\", \"legendgroup\": \"\\ub178\\uc120\\uba85=116-2\", \"marker\": {\"color\": \"#FFA15A\", \"symbol\": \"circle\"}, \"mode\": \"markers\", \"name\": \"\\ub178\\uc120\\uba85=116-2\", \"showlegend\": true, \"type\": \"scattergl\", \"x\": [5, 6, 7, 8, 9, 10, 11, 12, 13, 14, 15, 16, 17, 18, 19, 20, 21, 22, 23], \"xaxis\": \"x\", \"y\": [28, 77, 223, 247, 115, 85, 84, 161, 151, 96, 118, 99, 164, 208, 173, 89, 93, 95, 58], \"yaxis\": \"y\"}, {\"hoverlabel\": {\"namelength\": 0}, \"hovertemplate\": \"\\ub178\\uc120\\uba85=116-3<br>\\uc2dc\\uac04=%{x}<br>\\uc774\\uc6a9\\ub7c9=%{y}\", \"legendgroup\": \"\\ub178\\uc120\\uba85=116-3\", \"marker\": {\"color\": \"#19d3f3\", \"symbol\": \"circle\"}, \"mode\": \"markers\", \"name\": \"\\ub178\\uc120\\uba85=116-3\", \"showlegend\": true, \"type\": \"scattergl\", \"x\": [4, 5, 6, 7, 8, 9, 10, 11, 12, 13, 14, 15, 16, 17, 18, 19, 20, 21, 22, 23], \"xaxis\": \"x\", \"y\": [4, 83, 150, 335, 323, 232, 140, 125, 153, 165, 172, 161, 177, 283, 279, 218, 119, 118, 95, 72], \"yaxis\": \"y\"}, {\"hoverlabel\": {\"namelength\": 0}, \"hovertemplate\": \"\\ub178\\uc120\\uba85=118<br>\\uc2dc\\uac04=%{x}<br>\\uc774\\uc6a9\\ub7c9=%{y}\", \"legendgroup\": \"\\ub178\\uc120\\uba85=118\", \"marker\": {\"color\": \"#FF6692\", \"symbol\": \"circle\"}, \"mode\": \"markers\", \"name\": \"\\ub178\\uc120\\uba85=118\", \"showlegend\": true, \"type\": \"scattergl\", \"x\": [20], \"xaxis\": \"x\", \"y\": [1], \"yaxis\": \"y\"}, {\"hoverlabel\": {\"namelength\": 0}, \"hovertemplate\": \"\\ub178\\uc120\\uba85=119<br>\\uc2dc\\uac04=%{x}<br>\\uc774\\uc6a9\\ub7c9=%{y}\", \"legendgroup\": \"\\ub178\\uc120\\uba85=119\", \"marker\": {\"color\": \"#B6E880\", \"symbol\": \"circle\"}, \"mode\": \"markers\", \"name\": \"\\ub178\\uc120\\uba85=119\", \"showlegend\": true, \"type\": \"scattergl\", \"x\": [5, 6, 7, 10, 14, 16, 18, 22], \"xaxis\": \"x\", \"y\": [1, 1, 2, 1, 1, 1, 1, 1], \"yaxis\": \"y\"}, {\"hoverlabel\": {\"namelength\": 0}, \"hovertemplate\": \"\\ub178\\uc120\\uba85=12<br>\\uc2dc\\uac04=%{x}<br>\\uc774\\uc6a9\\ub7c9=%{y}\", \"legendgroup\": \"\\ub178\\uc120\\uba85=12\", \"marker\": {\"color\": \"#FF97FF\", \"symbol\": \"circle\"}, \"mode\": \"markers\", \"name\": \"\\ub178\\uc120\\uba85=12\", \"showlegend\": true, \"type\": \"scattergl\", \"x\": [5, 6, 7, 8, 9, 10, 12, 13, 14, 15, 16, 18, 19, 20], \"xaxis\": \"x\", \"y\": [1, 3, 15, 5, 1, 2, 2, 1, 1, 4, 3, 3, 2, 4], \"yaxis\": \"y\"}, {\"hoverlabel\": {\"namelength\": 0}, \"hovertemplate\": \"\\ub178\\uc120\\uba85=12-1<br>\\uc2dc\\uac04=%{x}<br>\\uc774\\uc6a9\\ub7c9=%{y}\", \"legendgroup\": \"\\ub178\\uc120\\uba85=12-1\", \"marker\": {\"color\": \"#FECB52\", \"symbol\": \"circle\"}, \"mode\": \"markers\", \"name\": \"\\ub178\\uc120\\uba85=12-1\", \"showlegend\": true, \"type\": \"scattergl\", \"x\": [5, 6, 12], \"xaxis\": \"x\", \"y\": [1, 1, 1], \"yaxis\": \"y\"}, {\"hoverlabel\": {\"namelength\": 0}, \"hovertemplate\": \"\\ub178\\uc120\\uba85=12-2<br>\\uc2dc\\uac04=%{x}<br>\\uc774\\uc6a9\\ub7c9=%{y}\", \"legendgroup\": \"\\ub178\\uc120\\uba85=12-2\", \"marker\": {\"color\": \"#636efa\", \"symbol\": \"circle\"}, \"mode\": \"markers\", \"name\": \"\\ub178\\uc120\\uba85=12-2\", \"showlegend\": true, \"type\": \"scattergl\", \"x\": [17], \"xaxis\": \"x\", \"y\": [1], \"yaxis\": \"y\"}, {\"hoverlabel\": {\"namelength\": 0}, \"hovertemplate\": \"\\ub178\\uc120\\uba85=12-3<br>\\uc2dc\\uac04=%{x}<br>\\uc774\\uc6a9\\ub7c9=%{y}\", \"legendgroup\": \"\\ub178\\uc120\\uba85=12-3\", \"marker\": {\"color\": \"#EF553B\", \"symbol\": \"circle\"}, \"mode\": \"markers\", \"name\": \"\\ub178\\uc120\\uba85=12-3\", \"showlegend\": true, \"type\": \"scattergl\", \"x\": [7], \"xaxis\": \"x\", \"y\": [1], \"yaxis\": \"y\"}, {\"hoverlabel\": {\"namelength\": 0}, \"hovertemplate\": \"\\ub178\\uc120\\uba85=1200<br>\\uc2dc\\uac04=%{x}<br>\\uc774\\uc6a9\\ub7c9=%{y}\", \"legendgroup\": \"\\ub178\\uc120\\uba85=1200\", \"marker\": {\"color\": \"#00cc96\", \"symbol\": \"circle\"}, \"mode\": \"markers\", \"name\": \"\\ub178\\uc120\\uba85=1200\", \"showlegend\": true, \"type\": \"scattergl\", \"x\": [6, 12, 18], \"xaxis\": \"x\", \"y\": [1, 1, 1], \"yaxis\": \"y\"}, {\"hoverlabel\": {\"namelength\": 0}, \"hovertemplate\": \"\\ub178\\uc120\\uba85=123<br>\\uc2dc\\uac04=%{x}<br>\\uc774\\uc6a9\\ub7c9=%{y}\", \"legendgroup\": \"\\ub178\\uc120\\uba85=123\", \"marker\": {\"color\": \"#ab63fa\", \"symbol\": \"circle\"}, \"mode\": \"markers\", \"name\": \"\\ub178\\uc120\\uba85=123\", \"showlegend\": true, \"type\": \"scattergl\", \"x\": [6, 7, 11, 18], \"xaxis\": \"x\", \"y\": [1, 1, 1, 1], \"yaxis\": \"y\"}, {\"hoverlabel\": {\"namelength\": 0}, \"hovertemplate\": \"\\ub178\\uc120\\uba85=123A<br>\\uc2dc\\uac04=%{x}<br>\\uc774\\uc6a9\\ub7c9=%{y}\", \"legendgroup\": \"\\ub178\\uc120\\uba85=123A\", \"marker\": {\"color\": \"#FFA15A\", \"symbol\": \"circle\"}, \"mode\": \"markers\", \"name\": \"\\ub178\\uc120\\uba85=123A\", \"showlegend\": true, \"type\": \"scattergl\", \"x\": [7, 8, 16, 17, 18, 19, 20], \"xaxis\": \"x\", \"y\": [3, 2, 1, 4, 8, 8, 1], \"yaxis\": \"y\"}, {\"hoverlabel\": {\"namelength\": 0}, \"hovertemplate\": \"\\ub178\\uc120\\uba85=123B<br>\\uc2dc\\uac04=%{x}<br>\\uc774\\uc6a9\\ub7c9=%{y}\", \"legendgroup\": \"\\ub178\\uc120\\uba85=123B\", \"marker\": {\"color\": \"#19d3f3\", \"symbol\": \"circle\"}, \"mode\": \"markers\", \"name\": \"\\ub178\\uc120\\uba85=123B\", \"showlegend\": true, \"type\": \"scattergl\", \"x\": [6, 7, 8, 10, 17, 19, 20], \"xaxis\": \"x\", \"y\": [2, 5, 4, 1, 4, 1, 1], \"yaxis\": \"y\"}, {\"hoverlabel\": {\"namelength\": 0}, \"hovertemplate\": \"\\ub178\\uc120\\uba85=1241<br>\\uc2dc\\uac04=%{x}<br>\\uc774\\uc6a9\\ub7c9=%{y}\", \"legendgroup\": \"\\ub178\\uc120\\uba85=1241\", \"marker\": {\"color\": \"#FF6692\", \"symbol\": \"circle\"}, \"mode\": \"markers\", \"name\": \"\\ub178\\uc120\\uba85=1241\", \"showlegend\": true, \"type\": \"scattergl\", \"x\": [5, 15, 17, 19], \"xaxis\": \"x\", \"y\": [2, 1, 1, 4], \"yaxis\": \"y\"}, {\"hoverlabel\": {\"namelength\": 0}, \"hovertemplate\": \"\\ub178\\uc120\\uba85=125<br>\\uc2dc\\uac04=%{x}<br>\\uc774\\uc6a9\\ub7c9=%{y}\", \"legendgroup\": \"\\ub178\\uc120\\uba85=125\", \"marker\": {\"color\": \"#B6E880\", \"symbol\": \"circle\"}, \"mode\": \"markers\", \"name\": \"\\ub178\\uc120\\uba85=125\", \"showlegend\": true, \"type\": \"scattergl\", \"x\": [5, 6, 7, 8, 9, 10, 11, 13, 15, 16, 17, 19], \"xaxis\": \"x\", \"y\": [1, 3, 4, 6, 1, 1, 2, 4, 2, 3, 3, 1], \"yaxis\": \"y\"}, {\"hoverlabel\": {\"namelength\": 0}, \"hovertemplate\": \"\\ub178\\uc120\\uba85=1251<br>\\uc2dc\\uac04=%{x}<br>\\uc774\\uc6a9\\ub7c9=%{y}\", \"legendgroup\": \"\\ub178\\uc120\\uba85=1251\", \"marker\": {\"color\": \"#FF97FF\", \"symbol\": \"circle\"}, \"mode\": \"markers\", \"name\": \"\\ub178\\uc120\\uba85=1251\", \"showlegend\": true, \"type\": \"scattergl\", \"x\": [5, 9, 16, 17, 18, 21], \"xaxis\": \"x\", \"y\": [1, 1, 1, 1, 3, 1], \"yaxis\": \"y\"}, {\"hoverlabel\": {\"namelength\": 0}, \"hovertemplate\": \"\\ub178\\uc120\\uba85=13<br>\\uc2dc\\uac04=%{x}<br>\\uc774\\uc6a9\\ub7c9=%{y}\", \"legendgroup\": \"\\ub178\\uc120\\uba85=13\", \"marker\": {\"color\": \"#FECB52\", \"symbol\": \"circle\"}, \"mode\": \"markers\", \"name\": \"\\ub178\\uc120\\uba85=13\", \"showlegend\": true, \"type\": \"scattergl\", \"x\": [5, 6, 7, 8, 9, 10, 11, 12, 13, 14, 15, 16, 17, 18, 19, 20, 21, 22], \"xaxis\": \"x\", \"y\": [10, 19, 66, 75, 27, 54, 69, 66, 72, 80, 80, 70, 90, 66, 35, 38, 33, 23], \"yaxis\": \"y\"}, {\"hoverlabel\": {\"namelength\": 0}, \"hovertemplate\": \"\\ub178\\uc120\\uba85=13-1<br>\\uc2dc\\uac04=%{x}<br>\\uc774\\uc6a9\\ub7c9=%{y}\", \"legendgroup\": \"\\ub178\\uc120\\uba85=13-1\", \"marker\": {\"color\": \"#636efa\", \"symbol\": \"circle\"}, \"mode\": \"markers\", \"name\": \"\\ub178\\uc120\\uba85=13-1\", \"showlegend\": true, \"type\": \"scattergl\", \"x\": [5, 6, 7, 8, 9, 10, 11, 12, 13, 14, 15, 16, 17, 18, 19, 20, 21, 22, 23], \"xaxis\": \"x\", \"y\": [100, 422, 1051, 1312, 737, 459, 522, 604, 676, 548, 649, 761, 957, 997, 716, 680, 634, 550, 168], \"yaxis\": \"y\"}, {\"hoverlabel\": {\"namelength\": 0}, \"hovertemplate\": \"\\ub178\\uc120\\uba85=13-2<br>\\uc2dc\\uac04=%{x}<br>\\uc774\\uc6a9\\ub7c9=%{y}\", \"legendgroup\": \"\\ub178\\uc120\\uba85=13-2\", \"marker\": {\"color\": \"#EF553B\", \"symbol\": \"circle\"}, \"mode\": \"markers\", \"name\": \"\\ub178\\uc120\\uba85=13-2\", \"showlegend\": true, \"type\": \"scattergl\", \"x\": [6, 8], \"xaxis\": \"x\", \"y\": [1, 1], \"yaxis\": \"y\"}, {\"hoverlabel\": {\"namelength\": 0}, \"hovertemplate\": \"\\ub178\\uc120\\uba85=13-4<br>\\uc2dc\\uac04=%{x}<br>\\uc774\\uc6a9\\ub7c9=%{y}\", \"legendgroup\": \"\\ub178\\uc120\\uba85=13-4\", \"marker\": {\"color\": \"#00cc96\", \"symbol\": \"circle\"}, \"mode\": \"markers\", \"name\": \"\\ub178\\uc120\\uba85=13-4\", \"showlegend\": true, \"type\": \"scattergl\", \"x\": [5, 6, 7, 8, 9, 10, 11, 12, 13, 14, 15, 16, 17, 18, 19, 20, 21, 22, 23], \"xaxis\": \"x\", \"y\": [3, 13, 48, 39, 33, 22, 37, 41, 47, 51, 39, 51, 66, 55, 40, 37, 43, 35, 7], \"yaxis\": \"y\"}, {\"hoverlabel\": {\"namelength\": 0}, \"hovertemplate\": \"\\ub178\\uc120\\uba85=13-5<br>\\uc2dc\\uac04=%{x}<br>\\uc774\\uc6a9\\ub7c9=%{y}\", \"legendgroup\": \"\\ub178\\uc120\\uba85=13-5\", \"marker\": {\"color\": \"#ab63fa\", \"symbol\": \"circle\"}, \"mode\": \"markers\", \"name\": \"\\ub178\\uc120\\uba85=13-5\", \"showlegend\": true, \"type\": \"scattergl\", \"x\": [4, 5, 6, 7, 8, 9, 10, 11, 12, 13, 14, 15, 16, 17, 18, 19, 20, 21, 22, 23], \"xaxis\": \"x\", \"y\": [18, 370, 720, 1194, 1474, 794, 532, 630, 586, 708, 680, 692, 858, 1208, 1304, 1014, 932, 1008, 770, 350], \"yaxis\": \"y\"}, {\"hoverlabel\": {\"namelength\": 0}, \"hovertemplate\": \"\\ub178\\uc120\\uba85=1303<br>\\uc2dc\\uac04=%{x}<br>\\uc774\\uc6a9\\ub7c9=%{y}\", \"legendgroup\": \"\\ub178\\uc120\\uba85=1303\", \"marker\": {\"color\": \"#FFA15A\", \"symbol\": \"circle\"}, \"mode\": \"markers\", \"name\": \"\\ub178\\uc120\\uba85=1303\", \"showlegend\": true, \"type\": \"scattergl\", \"x\": [6, 7, 8, 12, 14, 16, 17, 18, 21, 22], \"xaxis\": \"x\", \"y\": [1, 2, 2, 1, 2, 4, 2, 4, 1, 1], \"yaxis\": \"y\"}, {\"hoverlabel\": {\"namelength\": 0}, \"hovertemplate\": \"\\ub178\\uc120\\uba85=1311<br>\\uc2dc\\uac04=%{x}<br>\\uc774\\uc6a9\\ub7c9=%{y}\", \"legendgroup\": \"\\ub178\\uc120\\uba85=1311\", \"marker\": {\"color\": \"#19d3f3\", \"symbol\": \"circle\"}, \"mode\": \"markers\", \"name\": \"\\ub178\\uc120\\uba85=1311\", \"showlegend\": true, \"type\": \"scattergl\", \"x\": [7, 8, 9, 11, 12, 15, 16, 17, 18, 19, 20, 21, 22, 23], \"xaxis\": \"x\", \"y\": [1, 3, 1, 1, 1, 4, 2, 6, 8, 9, 4, 8, 7, 1], \"yaxis\": \"y\"}, {\"hoverlabel\": {\"namelength\": 0}, \"hovertemplate\": \"\\ub178\\uc120\\uba85=133<br>\\uc2dc\\uac04=%{x}<br>\\uc774\\uc6a9\\ub7c9=%{y}\", \"legendgroup\": \"\\ub178\\uc120\\uba85=133\", \"marker\": {\"color\": \"#FF6692\", \"symbol\": \"circle\"}, \"mode\": \"markers\", \"name\": \"\\ub178\\uc120\\uba85=133\", \"showlegend\": true, \"type\": \"scattergl\", \"x\": [7], \"xaxis\": \"x\", \"y\": [1], \"yaxis\": \"y\"}, {\"hoverlabel\": {\"namelength\": 0}, \"hovertemplate\": \"\\ub178\\uc120\\uba85=1330-44<br>\\uc2dc\\uac04=%{x}<br>\\uc774\\uc6a9\\ub7c9=%{y}\", \"legendgroup\": \"\\ub178\\uc120\\uba85=1330-44\", \"marker\": {\"color\": \"#B6E880\", \"symbol\": \"circle\"}, \"mode\": \"markers\", \"name\": \"\\ub178\\uc120\\uba85=1330-44\", \"showlegend\": true, \"type\": \"scattergl\", \"x\": [5], \"xaxis\": \"x\", \"y\": [1], \"yaxis\": \"y\"}, {\"hoverlabel\": {\"namelength\": 0}, \"hovertemplate\": \"\\ub178\\uc120\\uba85=138<br>\\uc2dc\\uac04=%{x}<br>\\uc774\\uc6a9\\ub7c9=%{y}\", \"legendgroup\": \"\\ub178\\uc120\\uba85=138\", \"marker\": {\"color\": \"#FF97FF\", \"symbol\": \"circle\"}, \"mode\": \"markers\", \"name\": \"\\ub178\\uc120\\uba85=138\", \"showlegend\": true, \"type\": \"scattergl\", \"x\": [5, 17], \"xaxis\": \"x\", \"y\": [1, 1], \"yaxis\": \"y\"}, {\"hoverlabel\": {\"namelength\": 0}, \"hovertemplate\": \"\\ub178\\uc120\\uba85=138-5<br>\\uc2dc\\uac04=%{x}<br>\\uc774\\uc6a9\\ub7c9=%{y}\", \"legendgroup\": \"\\ub178\\uc120\\uba85=138-5\", \"marker\": {\"color\": \"#FECB52\", \"symbol\": \"circle\"}, \"mode\": \"markers\", \"name\": \"\\ub178\\uc120\\uba85=138-5\", \"showlegend\": true, \"type\": \"scattergl\", \"x\": [10], \"xaxis\": \"x\", \"y\": [1], \"yaxis\": \"y\"}, {\"hoverlabel\": {\"namelength\": 0}, \"hovertemplate\": \"\\ub178\\uc120\\uba85=15<br>\\uc2dc\\uac04=%{x}<br>\\uc774\\uc6a9\\ub7c9=%{y}\", \"legendgroup\": \"\\ub178\\uc120\\uba85=15\", \"marker\": {\"color\": \"#636efa\", \"symbol\": \"circle\"}, \"mode\": \"markers\", \"name\": \"\\ub178\\uc120\\uba85=15\", \"showlegend\": true, \"type\": \"scattergl\", \"x\": [4, 5, 6, 7, 8, 9, 10, 11, 12, 13, 14, 15, 16, 17, 18, 19, 20, 21, 22, 23], \"xaxis\": \"x\", \"y\": [2, 54, 93, 160, 166, 115, 53, 76, 73, 65, 63, 74, 89, 89, 141, 64, 80, 79, 62, 9], \"yaxis\": \"y\"}, {\"hoverlabel\": {\"namelength\": 0}, \"hovertemplate\": \"\\ub178\\uc120\\uba85=15-1<br>\\uc2dc\\uac04=%{x}<br>\\uc774\\uc6a9\\ub7c9=%{y}\", \"legendgroup\": \"\\ub178\\uc120\\uba85=15-1\", \"marker\": {\"color\": \"#EF553B\", \"symbol\": \"circle\"}, \"mode\": \"markers\", \"name\": \"\\ub178\\uc120\\uba85=15-1\", \"showlegend\": true, \"type\": \"scattergl\", \"x\": [4, 5, 6, 7, 8, 9, 10, 11, 12, 13, 14, 15, 16, 17, 18, 19, 20, 21, 22, 23], \"xaxis\": \"x\", \"y\": [35, 82, 136, 267, 282, 152, 137, 110, 113, 128, 107, 145, 193, 205, 282, 150, 160, 112, 149, 56], \"yaxis\": \"y\"}, {\"hoverlabel\": {\"namelength\": 0}, \"hovertemplate\": \"\\ub178\\uc120\\uba85=15-2<br>\\uc2dc\\uac04=%{x}<br>\\uc774\\uc6a9\\ub7c9=%{y}\", \"legendgroup\": \"\\ub178\\uc120\\uba85=15-2\", \"marker\": {\"color\": \"#00cc96\", \"symbol\": \"circle\"}, \"mode\": \"markers\", \"name\": \"\\ub178\\uc120\\uba85=15-2\", \"showlegend\": true, \"type\": \"scattergl\", \"x\": [6, 7, 8, 12, 13, 14, 16, 17, 18, 19], \"xaxis\": \"x\", \"y\": [2, 9, 5, 3, 3, 1, 9, 1, 4, 1], \"yaxis\": \"y\"}, {\"hoverlabel\": {\"namelength\": 0}, \"hovertemplate\": \"\\ub178\\uc120\\uba85=15-3<br>\\uc2dc\\uac04=%{x}<br>\\uc774\\uc6a9\\ub7c9=%{y}\", \"legendgroup\": \"\\ub178\\uc120\\uba85=15-3\", \"marker\": {\"color\": \"#ab63fa\", \"symbol\": \"circle\"}, \"mode\": \"markers\", \"name\": \"\\ub178\\uc120\\uba85=15-3\", \"showlegend\": true, \"type\": \"scattergl\", \"x\": [5, 7], \"xaxis\": \"x\", \"y\": [1, 1], \"yaxis\": \"y\"}, {\"hoverlabel\": {\"namelength\": 0}, \"hovertemplate\": \"\\ub178\\uc120\\uba85=150<br>\\uc2dc\\uac04=%{x}<br>\\uc774\\uc6a9\\ub7c9=%{y}\", \"legendgroup\": \"\\ub178\\uc120\\uba85=150\", \"marker\": {\"color\": \"#FFA15A\", \"symbol\": \"circle\"}, \"mode\": \"markers\", \"name\": \"\\ub178\\uc120\\uba85=150\", \"showlegend\": true, \"type\": \"scattergl\", \"x\": [5, 6, 7, 8, 9, 10, 11, 12, 13, 14, 15, 16, 17, 18, 19, 20, 21, 22, 23], \"xaxis\": \"x\", \"y\": [16, 43, 73, 91, 25, 20, 33, 14, 26, 18, 36, 36, 63, 77, 47, 52, 26, 25, 9], \"yaxis\": \"y\"}, {\"hoverlabel\": {\"namelength\": 0}, \"hovertemplate\": \"\\ub178\\uc120\\uba85=1500<br>\\uc2dc\\uac04=%{x}<br>\\uc774\\uc6a9\\ub7c9=%{y}\", \"legendgroup\": \"\\ub178\\uc120\\uba85=1500\", \"marker\": {\"color\": \"#19d3f3\", \"symbol\": \"circle\"}, \"mode\": \"markers\", \"name\": \"\\ub178\\uc120\\uba85=1500\", \"showlegend\": true, \"type\": \"scattergl\", \"x\": [8], \"xaxis\": \"x\", \"y\": [1], \"yaxis\": \"y\"}, {\"hoverlabel\": {\"namelength\": 0}, \"hovertemplate\": \"\\ub178\\uc120\\uba85=1500-2<br>\\uc2dc\\uac04=%{x}<br>\\uc774\\uc6a9\\ub7c9=%{y}\", \"legendgroup\": \"\\ub178\\uc120\\uba85=1500-2\", \"marker\": {\"color\": \"#FF6692\", \"symbol\": \"circle\"}, \"mode\": \"markers\", \"name\": \"\\ub178\\uc120\\uba85=1500-2\", \"showlegend\": true, \"type\": \"scattergl\", \"x\": [7, 8, 11, 12, 13, 16, 17, 18, 19, 21, 22], \"xaxis\": \"x\", \"y\": [1, 2, 1, 2, 1, 1, 4, 5, 1, 4, 1], \"yaxis\": \"y\"}, {\"hoverlabel\": {\"namelength\": 0}, \"hovertemplate\": \"\\ub178\\uc120\\uba85=1550<br>\\uc2dc\\uac04=%{x}<br>\\uc774\\uc6a9\\ub7c9=%{y}\", \"legendgroup\": \"\\ub178\\uc120\\uba85=1550\", \"marker\": {\"color\": \"#B6E880\", \"symbol\": \"circle\"}, \"mode\": \"markers\", \"name\": \"\\ub178\\uc120\\uba85=1550\", \"showlegend\": true, \"type\": \"scattergl\", \"x\": [12, 13, 14, 17, 20], \"xaxis\": \"x\", \"y\": [1, 1, 1, 1, 1], \"yaxis\": \"y\"}, {\"hoverlabel\": {\"namelength\": 0}, \"hovertemplate\": \"\\ub178\\uc120\\uba85=1550-1<br>\\uc2dc\\uac04=%{x}<br>\\uc774\\uc6a9\\ub7c9=%{y}\", \"legendgroup\": \"\\ub178\\uc120\\uba85=1550-1\", \"marker\": {\"color\": \"#FF97FF\", \"symbol\": \"circle\"}, \"mode\": \"markers\", \"name\": \"\\ub178\\uc120\\uba85=1550-1\", \"showlegend\": true, \"type\": \"scattergl\", \"x\": [5, 6, 7, 8, 9, 10, 11, 12, 13, 14, 15, 16, 17, 18, 19, 20, 21, 22, 23], \"xaxis\": \"x\", \"y\": [68, 217, 268, 221, 145, 90, 115, 118, 135, 92, 105, 129, 173, 201, 166, 109, 132, 158, 71], \"yaxis\": \"y\"}, {\"hoverlabel\": {\"namelength\": 0}, \"hovertemplate\": \"\\ub178\\uc120\\uba85=1551<br>\\uc2dc\\uac04=%{x}<br>\\uc774\\uc6a9\\ub7c9=%{y}\", \"legendgroup\": \"\\ub178\\uc120\\uba85=1551\", \"marker\": {\"color\": \"#FECB52\", \"symbol\": \"circle\"}, \"mode\": \"markers\", \"name\": \"\\ub178\\uc120\\uba85=1551\", \"showlegend\": true, \"type\": \"scattergl\", \"x\": [5, 6, 7, 8, 9, 10, 11, 12, 13, 14, 15, 16, 17, 18, 19, 20, 21, 22, 23], \"xaxis\": \"x\", \"y\": [25, 12, 60, 74, 54, 6, 21, 40, 6, 1, 22, 34, 19, 7, 27, 27, 13, 3, 10], \"yaxis\": \"y\"}, {\"hoverlabel\": {\"namelength\": 0}, \"hovertemplate\": \"\\ub178\\uc120\\uba85=1551B<br>\\uc2dc\\uac04=%{x}<br>\\uc774\\uc6a9\\ub7c9=%{y}\", \"legendgroup\": \"\\ub178\\uc120\\uba85=1551B\", \"marker\": {\"color\": \"#636efa\", \"symbol\": \"circle\"}, \"mode\": \"markers\", \"name\": \"\\ub178\\uc120\\uba85=1551B\", \"showlegend\": true, \"type\": \"scattergl\", \"x\": [5, 6, 7, 8, 9, 10, 11, 12, 13, 14, 15, 16, 17, 18, 19, 20, 21, 22, 23], \"xaxis\": \"x\", \"y\": [8, 84, 68, 18, 27, 21, 17, 13, 11, 23, 8, 33, 37, 52, 35, 3, 1, 3, 20], \"yaxis\": \"y\"}, {\"hoverlabel\": {\"namelength\": 0}, \"hovertemplate\": \"\\ub178\\uc120\\uba85=1560<br>\\uc2dc\\uac04=%{x}<br>\\uc774\\uc6a9\\ub7c9=%{y}\", \"legendgroup\": \"\\ub178\\uc120\\uba85=1560\", \"marker\": {\"color\": \"#EF553B\", \"symbol\": \"circle\"}, \"mode\": \"markers\", \"name\": \"\\ub178\\uc120\\uba85=1560\", \"showlegend\": true, \"type\": \"scattergl\", \"x\": [7, 8, 10, 15, 16, 18, 20, 21], \"xaxis\": \"x\", \"y\": [4, 1, 1, 1, 1, 4, 1, 2], \"yaxis\": \"y\"}, {\"hoverlabel\": {\"namelength\": 0}, \"hovertemplate\": \"\\ub178\\uc120\\uba85=1570<br>\\uc2dc\\uac04=%{x}<br>\\uc774\\uc6a9\\ub7c9=%{y}\", \"legendgroup\": \"\\ub178\\uc120\\uba85=1570\", \"marker\": {\"color\": \"#00cc96\", \"symbol\": \"circle\"}, \"mode\": \"markers\", \"name\": \"\\ub178\\uc120\\uba85=1570\", \"showlegend\": true, \"type\": \"scattergl\", \"x\": [13, 18, 20, 23], \"xaxis\": \"x\", \"y\": [1, 1, 1, 1], \"yaxis\": \"y\"}, {\"hoverlabel\": {\"namelength\": 0}, \"hovertemplate\": \"\\ub178\\uc120\\uba85=16<br>\\uc2dc\\uac04=%{x}<br>\\uc774\\uc6a9\\ub7c9=%{y}\", \"legendgroup\": \"\\ub178\\uc120\\uba85=16\", \"marker\": {\"color\": \"#ab63fa\", \"symbol\": \"circle\"}, \"mode\": \"markers\", \"name\": \"\\ub178\\uc120\\uba85=16\", \"showlegend\": true, \"type\": \"scattergl\", \"x\": [5, 6, 7, 8, 9, 10, 11, 12, 13, 16, 17, 18, 19, 20, 21, 22], \"xaxis\": \"x\", \"y\": [2, 16, 33, 6, 18, 13, 5, 12, 19, 1, 13, 10, 13, 6, 8, 1], \"yaxis\": \"y\"}, {\"hoverlabel\": {\"namelength\": 0}, \"hovertemplate\": \"\\ub178\\uc120\\uba85=16-1<br>\\uc2dc\\uac04=%{x}<br>\\uc774\\uc6a9\\ub7c9=%{y}\", \"legendgroup\": \"\\ub178\\uc120\\uba85=16-1\", \"marker\": {\"color\": \"#FFA15A\", \"symbol\": \"circle\"}, \"mode\": \"markers\", \"name\": \"\\ub178\\uc120\\uba85=16-1\", \"showlegend\": true, \"type\": \"scattergl\", \"x\": [6, 7, 8, 9, 10, 11, 12, 13, 14, 15, 16, 17, 18, 19, 20, 21, 22], \"xaxis\": \"x\", \"y\": [11, 16, 3, 10, 15, 18, 5, 2, 12, 12, 15, 18, 16, 3, 4, 5, 5], \"yaxis\": \"y\"}, {\"hoverlabel\": {\"namelength\": 0}, \"hovertemplate\": \"\\ub178\\uc120\\uba85=16-2<br>\\uc2dc\\uac04=%{x}<br>\\uc774\\uc6a9\\ub7c9=%{y}\", \"legendgroup\": \"\\ub178\\uc120\\uba85=16-2\", \"marker\": {\"color\": \"#19d3f3\", \"symbol\": \"circle\"}, \"mode\": \"markers\", \"name\": \"\\ub178\\uc120\\uba85=16-2\", \"showlegend\": true, \"type\": \"scattergl\", \"x\": [5, 6, 7, 8, 9, 10, 11, 12, 13, 14, 15, 16, 17, 18, 19, 20, 21], \"xaxis\": \"x\", \"y\": [13, 9, 21, 13, 27, 6, 7, 11, 5, 5, 11, 6, 9, 9, 1, 1, 4], \"yaxis\": \"y\"}, {\"hoverlabel\": {\"namelength\": 0}, \"hovertemplate\": \"\\ub178\\uc120\\uba85=165<br>\\uc2dc\\uac04=%{x}<br>\\uc774\\uc6a9\\ub7c9=%{y}\", \"legendgroup\": \"\\ub178\\uc120\\uba85=165\", \"marker\": {\"color\": \"#FF6692\", \"symbol\": \"circle\"}, \"mode\": \"markers\", \"name\": \"\\ub178\\uc120\\uba85=165\", \"showlegend\": true, \"type\": \"scattergl\", \"x\": [10, 11, 15], \"xaxis\": \"x\", \"y\": [1, 1, 1], \"yaxis\": \"y\"}, {\"hoverlabel\": {\"namelength\": 0}, \"hovertemplate\": \"\\ub178\\uc120\\uba85=1650<br>\\uc2dc\\uac04=%{x}<br>\\uc774\\uc6a9\\ub7c9=%{y}\", \"legendgroup\": \"\\ub178\\uc120\\uba85=1650\", \"marker\": {\"color\": \"#B6E880\", \"symbol\": \"circle\"}, \"mode\": \"markers\", \"name\": \"\\ub178\\uc120\\uba85=1650\", \"showlegend\": true, \"type\": \"scattergl\", \"x\": [8, 9, 11, 12, 14, 15, 16, 17, 18, 19, 20, 21, 22], \"xaxis\": \"x\", \"y\": [2, 2, 1, 2, 1, 2, 1, 1, 5, 6, 6, 9, 2], \"yaxis\": \"y\"}, {\"hoverlabel\": {\"namelength\": 0}, \"hovertemplate\": \"\\ub178\\uc120\\uba85=166-1<br>\\uc2dc\\uac04=%{x}<br>\\uc774\\uc6a9\\ub7c9=%{y}\", \"legendgroup\": \"\\ub178\\uc120\\uba85=166-1\", \"marker\": {\"color\": \"#FF97FF\", \"symbol\": \"circle\"}, \"mode\": \"markers\", \"name\": \"\\ub178\\uc120\\uba85=166-1\", \"showlegend\": true, \"type\": \"scattergl\", \"x\": [15], \"xaxis\": \"x\", \"y\": [1], \"yaxis\": \"y\"}, {\"hoverlabel\": {\"namelength\": 0}, \"hovertemplate\": \"\\ub178\\uc120\\uba85=1670<br>\\uc2dc\\uac04=%{x}<br>\\uc774\\uc6a9\\ub7c9=%{y}\", \"legendgroup\": \"\\ub178\\uc120\\uba85=1670\", \"marker\": {\"color\": \"#FECB52\", \"symbol\": \"circle\"}, \"mode\": \"markers\", \"name\": \"\\ub178\\uc120\\uba85=1670\", \"showlegend\": true, \"type\": \"scattergl\", \"x\": [5, 10, 11], \"xaxis\": \"x\", \"y\": [1, 1, 1], \"yaxis\": \"y\"}, {\"hoverlabel\": {\"namelength\": 0}, \"hovertemplate\": \"\\ub178\\uc120\\uba85=169<br>\\uc2dc\\uac04=%{x}<br>\\uc774\\uc6a9\\ub7c9=%{y}\", \"legendgroup\": \"\\ub178\\uc120\\uba85=169\", \"marker\": {\"color\": \"#636efa\", \"symbol\": \"circle\"}, \"mode\": \"markers\", \"name\": \"\\ub178\\uc120\\uba85=169\", \"showlegend\": true, \"type\": \"scattergl\", \"x\": [6], \"xaxis\": \"x\", \"y\": [1], \"yaxis\": \"y\"}, {\"hoverlabel\": {\"namelength\": 0}, \"hovertemplate\": \"\\ub178\\uc120\\uba85=17<br>\\uc2dc\\uac04=%{x}<br>\\uc774\\uc6a9\\ub7c9=%{y}\", \"legendgroup\": \"\\ub178\\uc120\\uba85=17\", \"marker\": {\"color\": \"#EF553B\", \"symbol\": \"circle\"}, \"mode\": \"markers\", \"name\": \"\\ub178\\uc120\\uba85=17\", \"showlegend\": true, \"type\": \"scattergl\", \"x\": [4, 5, 6, 7, 8, 9, 10, 11, 13, 14, 15, 16, 17, 18, 19, 20, 21, 22, 23], \"xaxis\": \"x\", \"y\": [2, 6, 4, 4, 8, 9, 6, 3, 2, 6, 7, 12, 6, 7, 5, 3, 9, 4, 1], \"yaxis\": \"y\"}, {\"hoverlabel\": {\"namelength\": 0}, \"hovertemplate\": \"\\ub178\\uc120\\uba85=17-1<br>\\uc2dc\\uac04=%{x}<br>\\uc774\\uc6a9\\ub7c9=%{y}\", \"legendgroup\": \"\\ub178\\uc120\\uba85=17-1\", \"marker\": {\"color\": \"#00cc96\", \"symbol\": \"circle\"}, \"mode\": \"markers\", \"name\": \"\\ub178\\uc120\\uba85=17-1\", \"showlegend\": true, \"type\": \"scattergl\", \"x\": [6, 13, 14, 19, 20], \"xaxis\": \"x\", \"y\": [1, 2, 2, 1, 1], \"yaxis\": \"y\"}, {\"hoverlabel\": {\"namelength\": 0}, \"hovertemplate\": \"\\ub178\\uc120\\uba85=17-1A<br>\\uc2dc\\uac04=%{x}<br>\\uc774\\uc6a9\\ub7c9=%{y}\", \"legendgroup\": \"\\ub178\\uc120\\uba85=17-1A\", \"marker\": {\"color\": \"#ab63fa\", \"symbol\": \"circle\"}, \"mode\": \"markers\", \"name\": \"\\ub178\\uc120\\uba85=17-1A\", \"showlegend\": true, \"type\": \"scattergl\", \"x\": [8, 18, 20, 21], \"xaxis\": \"x\", \"y\": [2, 3, 2, 1], \"yaxis\": \"y\"}, {\"hoverlabel\": {\"namelength\": 0}, \"hovertemplate\": \"\\ub178\\uc120\\uba85=1700<br>\\uc2dc\\uac04=%{x}<br>\\uc774\\uc6a9\\ub7c9=%{y}\", \"legendgroup\": \"\\ub178\\uc120\\uba85=1700\", \"marker\": {\"color\": \"#FFA15A\", \"symbol\": \"circle\"}, \"mode\": \"markers\", \"name\": \"\\ub178\\uc120\\uba85=1700\", \"showlegend\": true, \"type\": \"scattergl\", \"x\": [21], \"xaxis\": \"x\", \"y\": [1], \"yaxis\": \"y\"}, {\"hoverlabel\": {\"namelength\": 0}, \"hovertemplate\": \"\\ub178\\uc120\\uba85=18<br>\\uc2dc\\uac04=%{x}<br>\\uc774\\uc6a9\\ub7c9=%{y}\", \"legendgroup\": \"\\ub178\\uc120\\uba85=18\", \"marker\": {\"color\": \"#19d3f3\", \"symbol\": \"circle\"}, \"mode\": \"markers\", \"name\": \"\\ub178\\uc120\\uba85=18\", \"showlegend\": true, \"type\": \"scattergl\", \"x\": [8, 9, 10, 11, 12, 13, 14, 15, 16, 17, 18, 19, 20, 22], \"xaxis\": \"x\", \"y\": [8, 2, 2, 8, 4, 2, 2, 2, 2, 14, 4, 2, 2, 2], \"yaxis\": \"y\"}, {\"hoverlabel\": {\"namelength\": 0}, \"hovertemplate\": \"\\ub178\\uc120\\uba85=19<br>\\uc2dc\\uac04=%{x}<br>\\uc774\\uc6a9\\ub7c9=%{y}\", \"legendgroup\": \"\\ub178\\uc120\\uba85=19\", \"marker\": {\"color\": \"#FF6692\", \"symbol\": \"circle\"}, \"mode\": \"markers\", \"name\": \"\\ub178\\uc120\\uba85=19\", \"showlegend\": true, \"type\": \"scattergl\", \"x\": [5, 6, 7, 8, 9, 10, 11, 12, 13, 14, 15, 16, 17, 18, 19, 20, 21, 22, 23], \"xaxis\": \"x\", \"y\": [8, 17, 21, 17, 22, 9, 18, 17, 9, 9, 13, 9, 19, 20, 15, 5, 9, 7, 1], \"yaxis\": \"y\"}, {\"hoverlabel\": {\"namelength\": 0}, \"hovertemplate\": \"\\ub178\\uc120\\uba85=1900<br>\\uc2dc\\uac04=%{x}<br>\\uc774\\uc6a9\\ub7c9=%{y}\", \"legendgroup\": \"\\ub178\\uc120\\uba85=1900\", \"marker\": {\"color\": \"#B6E880\", \"symbol\": \"circle\"}, \"mode\": \"markers\", \"name\": \"\\ub178\\uc120\\uba85=1900\", \"showlegend\": true, \"type\": \"scattergl\", \"x\": [13, 18], \"xaxis\": \"x\", \"y\": [2, 1], \"yaxis\": \"y\"}, {\"hoverlabel\": {\"namelength\": 0}, \"hovertemplate\": \"\\ub178\\uc120\\uba85=2<br>\\uc2dc\\uac04=%{x}<br>\\uc774\\uc6a9\\ub7c9=%{y}\", \"legendgroup\": \"\\ub178\\uc120\\uba85=2\", \"marker\": {\"color\": \"#FF97FF\", \"symbol\": \"circle\"}, \"mode\": \"markers\", \"name\": \"\\ub178\\uc120\\uba85=2\", \"showlegend\": true, \"type\": \"scattergl\", \"x\": [5, 6, 7, 8, 9, 10, 11, 12, 13, 14, 15, 16, 17, 18, 19, 20, 21, 22, 23], \"xaxis\": \"x\", \"y\": [2, 20, 35, 20, 13, 21, 8, 16, 12, 12, 16, 19, 38, 23, 11, 7, 10, 7, 1], \"yaxis\": \"y\"}, {\"hoverlabel\": {\"namelength\": 0}, \"hovertemplate\": \"\\ub178\\uc120\\uba85=2-1<br>\\uc2dc\\uac04=%{x}<br>\\uc774\\uc6a9\\ub7c9=%{y}\", \"legendgroup\": \"\\ub178\\uc120\\uba85=2-1\", \"marker\": {\"color\": \"#FECB52\", \"symbol\": \"circle\"}, \"mode\": \"markers\", \"name\": \"\\ub178\\uc120\\uba85=2-1\", \"showlegend\": true, \"type\": \"scattergl\", \"x\": [5, 6, 7, 8, 9, 10, 11, 12, 13, 14, 15, 16, 17, 18, 19, 20, 21, 22, 23], \"xaxis\": \"x\", \"y\": [118, 626, 1536, 1522, 894, 602, 620, 713, 890, 852, 916, 886, 1238, 1298, 792, 658, 686, 556, 244], \"yaxis\": \"y\"}, {\"hoverlabel\": {\"namelength\": 0}, \"hovertemplate\": \"\\ub178\\uc120\\uba85=2-2<br>\\uc2dc\\uac04=%{x}<br>\\uc774\\uc6a9\\ub7c9=%{y}\", \"legendgroup\": \"\\ub178\\uc120\\uba85=2-2\", \"marker\": {\"color\": \"#636efa\", \"symbol\": \"circle\"}, \"mode\": \"markers\", \"name\": \"\\ub178\\uc120\\uba85=2-2\", \"showlegend\": true, \"type\": \"scattergl\", \"x\": [5, 6, 7, 8, 9, 10, 11, 12, 13, 14, 15, 16, 17, 18, 19, 20, 21, 22, 23], \"xaxis\": \"x\", \"y\": [51, 51, 105, 122, 110, 50, 54, 68, 113, 48, 83, 88, 100, 74, 70, 70, 56, 55, 21], \"yaxis\": \"y\"}, {\"hoverlabel\": {\"namelength\": 0}, \"hovertemplate\": \"\\ub178\\uc120\\uba85=2-22<br>\\uc2dc\\uac04=%{x}<br>\\uc774\\uc6a9\\ub7c9=%{y}\", \"legendgroup\": \"\\ub178\\uc120\\uba85=2-22\", \"marker\": {\"color\": \"#EF553B\", \"symbol\": \"circle\"}, \"mode\": \"markers\", \"name\": \"\\ub178\\uc120\\uba85=2-22\", \"showlegend\": true, \"type\": \"scattergl\", \"x\": [6], \"xaxis\": \"x\", \"y\": [1], \"yaxis\": \"y\"}, {\"hoverlabel\": {\"namelength\": 0}, \"hovertemplate\": \"\\ub178\\uc120\\uba85=20<br>\\uc2dc\\uac04=%{x}<br>\\uc774\\uc6a9\\ub7c9=%{y}\", \"legendgroup\": \"\\ub178\\uc120\\uba85=20\", \"marker\": {\"color\": \"#00cc96\", \"symbol\": \"circle\"}, \"mode\": \"markers\", \"name\": \"\\ub178\\uc120\\uba85=20\", \"showlegend\": true, \"type\": \"scattergl\", \"x\": [5, 6, 7, 8, 9, 10, 11, 12, 13, 14, 15, 16, 17, 18, 19, 20, 21, 22, 23], \"xaxis\": \"x\", \"y\": [85, 196, 443, 515, 361, 305, 430, 371, 464, 368, 423, 457, 429, 419, 265, 216, 224, 173, 66], \"yaxis\": \"y\"}, {\"hoverlabel\": {\"namelength\": 0}, \"hovertemplate\": \"\\ub178\\uc120\\uba85=20-1<br>\\uc2dc\\uac04=%{x}<br>\\uc774\\uc6a9\\ub7c9=%{y}\", \"legendgroup\": \"\\ub178\\uc120\\uba85=20-1\", \"marker\": {\"color\": \"#ab63fa\", \"symbol\": \"circle\"}, \"mode\": \"markers\", \"name\": \"\\ub178\\uc120\\uba85=20-1\", \"showlegend\": true, \"type\": \"scattergl\", \"x\": [5, 6, 7, 8, 9, 10, 11, 12, 13, 14, 15, 16, 17, 18, 19, 20, 21, 22, 23], \"xaxis\": \"x\", \"y\": [95, 100, 204, 152, 84, 110, 139, 106, 145, 102, 146, 106, 169, 121, 99, 90, 104, 61, 31], \"yaxis\": \"y\"}, {\"hoverlabel\": {\"namelength\": 0}, \"hovertemplate\": \"\\ub178\\uc120\\uba85=20-2<br>\\uc2dc\\uac04=%{x}<br>\\uc774\\uc6a9\\ub7c9=%{y}\", \"legendgroup\": \"\\ub178\\uc120\\uba85=20-2\", \"marker\": {\"color\": \"#FFA15A\", \"symbol\": \"circle\"}, \"mode\": \"markers\", \"name\": \"\\ub178\\uc120\\uba85=20-2\", \"showlegend\": true, \"type\": \"scattergl\", \"x\": [6], \"xaxis\": \"x\", \"y\": [1], \"yaxis\": \"y\"}, {\"hoverlabel\": {\"namelength\": 0}, \"hovertemplate\": \"\\ub178\\uc120\\uba85=200<br>\\uc2dc\\uac04=%{x}<br>\\uc774\\uc6a9\\ub7c9=%{y}\", \"legendgroup\": \"\\ub178\\uc120\\uba85=200\", \"marker\": {\"color\": \"#19d3f3\", \"symbol\": \"circle\"}, \"mode\": \"markers\", \"name\": \"\\ub178\\uc120\\uba85=200\", \"showlegend\": true, \"type\": \"scattergl\", \"x\": [5, 10, 11, 12, 13, 15, 18, 22], \"xaxis\": \"x\", \"y\": [1, 1, 1, 1, 1, 1, 1, 1], \"yaxis\": \"y\"}, {\"hoverlabel\": {\"namelength\": 0}, \"hovertemplate\": \"\\ub178\\uc120\\uba85=2000<br>\\uc2dc\\uac04=%{x}<br>\\uc774\\uc6a9\\ub7c9=%{y}\", \"legendgroup\": \"\\ub178\\uc120\\uba85=2000\", \"marker\": {\"color\": \"#FF6692\", \"symbol\": \"circle\"}, \"mode\": \"markers\", \"name\": \"\\ub178\\uc120\\uba85=2000\", \"showlegend\": true, \"type\": \"scattergl\", \"x\": [10, 18], \"xaxis\": \"x\", \"y\": [1, 1], \"yaxis\": \"y\"}, {\"hoverlabel\": {\"namelength\": 0}, \"hovertemplate\": \"\\ub178\\uc120\\uba85=2000A<br>\\uc2dc\\uac04=%{x}<br>\\uc774\\uc6a9\\ub7c9=%{y}\", \"legendgroup\": \"\\ub178\\uc120\\uba85=2000A\", \"marker\": {\"color\": \"#B6E880\", \"symbol\": \"circle\"}, \"mode\": \"markers\", \"name\": \"\\ub178\\uc120\\uba85=2000A\", \"showlegend\": true, \"type\": \"scattergl\", \"x\": [19], \"xaxis\": \"x\", \"y\": [2], \"yaxis\": \"y\"}, {\"hoverlabel\": {\"namelength\": 0}, \"hovertemplate\": \"\\ub178\\uc120\\uba85=2000B<br>\\uc2dc\\uac04=%{x}<br>\\uc774\\uc6a9\\ub7c9=%{y}\", \"legendgroup\": \"\\ub178\\uc120\\uba85=2000B\", \"marker\": {\"color\": \"#FF97FF\", \"symbol\": \"circle\"}, \"mode\": \"markers\", \"name\": \"\\ub178\\uc120\\uba85=2000B\", \"showlegend\": true, \"type\": \"scattergl\", \"x\": [9, 16], \"xaxis\": \"x\", \"y\": [1, 3], \"yaxis\": \"y\"}, {\"hoverlabel\": {\"namelength\": 0}, \"hovertemplate\": \"\\ub178\\uc120\\uba85=2007<br>\\uc2dc\\uac04=%{x}<br>\\uc774\\uc6a9\\ub7c9=%{y}\", \"legendgroup\": \"\\ub178\\uc120\\uba85=2007\", \"marker\": {\"color\": \"#FECB52\", \"symbol\": \"circle\"}, \"mode\": \"markers\", \"name\": \"\\ub178\\uc120\\uba85=2007\", \"showlegend\": true, \"type\": \"scattergl\", \"x\": [5, 6, 7, 8, 9, 10, 11, 12, 13, 14, 15, 16, 17, 18, 19, 20, 21, 22, 23], \"xaxis\": \"x\", \"y\": [1, 4, 3, 4, 4, 1, 3, 5, 3, 5, 6, 1, 7, 11, 7, 5, 15, 1, 3], \"yaxis\": \"y\"}, {\"hoverlabel\": {\"namelength\": 0}, \"hovertemplate\": \"\\ub178\\uc120\\uba85=201<br>\\uc2dc\\uac04=%{x}<br>\\uc774\\uc6a9\\ub7c9=%{y}\", \"legendgroup\": \"\\ub178\\uc120\\uba85=201\", \"marker\": {\"color\": \"#636efa\", \"symbol\": \"circle\"}, \"mode\": \"markers\", \"name\": \"\\ub178\\uc120\\uba85=201\", \"showlegend\": true, \"type\": \"scattergl\", \"x\": [6, 7, 8, 9, 10, 11, 12, 13, 14, 15, 16, 17, 18, 19, 20, 21, 22], \"xaxis\": \"x\", \"y\": [15, 44, 28, 19, 24, 7, 23, 8, 24, 15, 21, 8, 10, 17, 35, 12, 9], \"yaxis\": \"y\"}, {\"hoverlabel\": {\"namelength\": 0}, \"hovertemplate\": \"\\ub178\\uc120\\uba85=202<br>\\uc2dc\\uac04=%{x}<br>\\uc774\\uc6a9\\ub7c9=%{y}\", \"legendgroup\": \"\\ub178\\uc120\\uba85=202\", \"marker\": {\"color\": \"#EF553B\", \"symbol\": \"circle\"}, \"mode\": \"markers\", \"name\": \"\\ub178\\uc120\\uba85=202\", \"showlegend\": true, \"type\": \"scattergl\", \"x\": [5, 6, 7, 8, 9, 10, 11, 12, 13, 14, 15, 16, 17, 18, 19, 20, 21, 22, 23], \"xaxis\": \"x\", \"y\": [98, 352, 818, 859, 413, 286, 275, 321, 363, 371, 338, 556, 725, 526, 371, 368, 345, 234, 74], \"yaxis\": \"y\"}, {\"hoverlabel\": {\"namelength\": 0}, \"hovertemplate\": \"\\ub178\\uc120\\uba85=203<br>\\uc2dc\\uac04=%{x}<br>\\uc774\\uc6a9\\ub7c9=%{y}\", \"legendgroup\": \"\\ub178\\uc120\\uba85=203\", \"marker\": {\"color\": \"#00cc96\", \"symbol\": \"circle\"}, \"mode\": \"markers\", \"name\": \"\\ub178\\uc120\\uba85=203\", \"showlegend\": true, \"type\": \"scattergl\", \"x\": [6, 7, 8, 9, 10, 11, 12, 13, 14, 15, 16, 17, 18, 19, 20, 21, 22], \"xaxis\": \"x\", \"y\": [12, 46, 30, 33, 24, 34, 15, 21, 29, 17, 38, 62, 39, 25, 28, 40, 15], \"yaxis\": \"y\"}, {\"hoverlabel\": {\"namelength\": 0}, \"hovertemplate\": \"\\ub178\\uc120\\uba85=21<br>\\uc2dc\\uac04=%{x}<br>\\uc774\\uc6a9\\ub7c9=%{y}\", \"legendgroup\": \"\\ub178\\uc120\\uba85=21\", \"marker\": {\"color\": \"#ab63fa\", \"symbol\": \"circle\"}, \"mode\": \"markers\", \"name\": \"\\ub178\\uc120\\uba85=21\", \"showlegend\": true, \"type\": \"scattergl\", \"x\": [5, 6, 7, 8, 10, 11, 12, 13, 14, 16, 17, 18, 19, 20, 21], \"xaxis\": \"x\", \"y\": [1, 7, 1, 2, 1, 1, 3, 2, 4, 1, 6, 4, 1, 2, 4], \"yaxis\": \"y\"}, {\"hoverlabel\": {\"namelength\": 0}, \"hovertemplate\": \"\\ub178\\uc120\\uba85=22<br>\\uc2dc\\uac04=%{x}<br>\\uc774\\uc6a9\\ub7c9=%{y}\", \"legendgroup\": \"\\ub178\\uc120\\uba85=22\", \"marker\": {\"color\": \"#FFA15A\", \"symbol\": \"circle\"}, \"mode\": \"markers\", \"name\": \"\\ub178\\uc120\\uba85=22\", \"showlegend\": true, \"type\": \"scattergl\", \"x\": [4, 5, 6, 7, 8, 9, 10, 11, 12, 13, 14, 15, 16, 17, 18, 19, 20, 21, 22, 23], \"xaxis\": \"x\", \"y\": [7, 25, 91, 118, 108, 83, 64, 85, 100, 92, 60, 65, 62, 122, 111, 102, 68, 44, 31, 7], \"yaxis\": \"y\"}, {\"hoverlabel\": {\"namelength\": 0}, \"hovertemplate\": \"\\ub178\\uc120\\uba85=22-1<br>\\uc2dc\\uac04=%{x}<br>\\uc774\\uc6a9\\ub7c9=%{y}\", \"legendgroup\": \"\\ub178\\uc120\\uba85=22-1\", \"marker\": {\"color\": \"#19d3f3\", \"symbol\": \"circle\"}, \"mode\": \"markers\", \"name\": \"\\ub178\\uc120\\uba85=22-1\", \"showlegend\": true, \"type\": \"scattergl\", \"x\": [6, 8, 9, 11, 12, 13, 15, 18], \"xaxis\": \"x\", \"y\": [1, 1, 1, 1, 1, 1, 1, 1], \"yaxis\": \"y\"}, {\"hoverlabel\": {\"namelength\": 0}, \"hovertemplate\": \"\\ub178\\uc120\\uba85=22-3<br>\\uc2dc\\uac04=%{x}<br>\\uc774\\uc6a9\\ub7c9=%{y}\", \"legendgroup\": \"\\ub178\\uc120\\uba85=22-3\", \"marker\": {\"color\": \"#FF6692\", \"symbol\": \"circle\"}, \"mode\": \"markers\", \"name\": \"\\ub178\\uc120\\uba85=22-3\", \"showlegend\": true, \"type\": \"scattergl\", \"x\": [18], \"xaxis\": \"x\", \"y\": [1], \"yaxis\": \"y\"}, {\"hoverlabel\": {\"namelength\": 0}, \"hovertemplate\": \"\\ub178\\uc120\\uba85=220<br>\\uc2dc\\uac04=%{x}<br>\\uc774\\uc6a9\\ub7c9=%{y}\", \"legendgroup\": \"\\ub178\\uc120\\uba85=220\", \"marker\": {\"color\": \"#B6E880\", \"symbol\": \"circle\"}, \"mode\": \"markers\", \"name\": \"\\ub178\\uc120\\uba85=220\", \"showlegend\": true, \"type\": \"scattergl\", \"x\": [4, 5, 6, 7, 8, 9, 10, 11, 12, 13, 14, 15, 16, 17, 18, 19, 20, 21, 22, 23], \"xaxis\": \"x\", \"y\": [2, 11, 8, 11, 16, 5, 6, 4, 12, 14, 7, 13, 26, 21, 33, 19, 17, 12, 13, 1], \"yaxis\": \"y\"}, {\"hoverlabel\": {\"namelength\": 0}, \"hovertemplate\": \"\\ub178\\uc120\\uba85=23<br>\\uc2dc\\uac04=%{x}<br>\\uc774\\uc6a9\\ub7c9=%{y}\", \"legendgroup\": \"\\ub178\\uc120\\uba85=23\", \"marker\": {\"color\": \"#FF97FF\", \"symbol\": \"circle\"}, \"mode\": \"markers\", \"name\": \"\\ub178\\uc120\\uba85=23\", \"showlegend\": true, \"type\": \"scattergl\", \"x\": [5, 6, 7, 8, 9, 11, 12, 14, 16, 17, 18, 21, 22], \"xaxis\": \"x\", \"y\": [5, 5, 8, 1, 2, 1, 2, 1, 1, 1, 2, 1, 2], \"yaxis\": \"y\"}, {\"hoverlabel\": {\"namelength\": 0}, \"hovertemplate\": \"\\ub178\\uc120\\uba85=23-1<br>\\uc2dc\\uac04=%{x}<br>\\uc774\\uc6a9\\ub7c9=%{y}\", \"legendgroup\": \"\\ub178\\uc120\\uba85=23-1\", \"marker\": {\"color\": \"#FECB52\", \"symbol\": \"circle\"}, \"mode\": \"markers\", \"name\": \"\\ub178\\uc120\\uba85=23-1\", \"showlegend\": true, \"type\": \"scattergl\", \"x\": [7], \"xaxis\": \"x\", \"y\": [1], \"yaxis\": \"y\"}, {\"hoverlabel\": {\"namelength\": 0}, \"hovertemplate\": \"\\ub178\\uc120\\uba85=23-2<br>\\uc2dc\\uac04=%{x}<br>\\uc774\\uc6a9\\ub7c9=%{y}\", \"legendgroup\": \"\\ub178\\uc120\\uba85=23-2\", \"marker\": {\"color\": \"#636efa\", \"symbol\": \"circle\"}, \"mode\": \"markers\", \"name\": \"\\ub178\\uc120\\uba85=23-2\", \"showlegend\": true, \"type\": \"scattergl\", \"x\": [7], \"xaxis\": \"x\", \"y\": [1], \"yaxis\": \"y\"}, {\"hoverlabel\": {\"namelength\": 0}, \"hovertemplate\": \"\\ub178\\uc120\\uba85=24<br>\\uc2dc\\uac04=%{x}<br>\\uc774\\uc6a9\\ub7c9=%{y}\", \"legendgroup\": \"\\ub178\\uc120\\uba85=24\", \"marker\": {\"color\": \"#EF553B\", \"symbol\": \"circle\"}, \"mode\": \"markers\", \"name\": \"\\ub178\\uc120\\uba85=24\", \"showlegend\": true, \"type\": \"scattergl\", \"x\": [6, 7, 8, 9, 10, 11, 12, 13, 14, 15, 16, 17, 18, 19, 20, 21], \"xaxis\": \"x\", \"y\": [6, 4, 3, 1, 2, 5, 8, 3, 3, 3, 9, 3, 4, 1, 4, 3], \"yaxis\": \"y\"}, {\"hoverlabel\": {\"namelength\": 0}, \"hovertemplate\": \"\\ub178\\uc120\\uba85=24-1<br>\\uc2dc\\uac04=%{x}<br>\\uc774\\uc6a9\\ub7c9=%{y}\", \"legendgroup\": \"\\ub178\\uc120\\uba85=24-1\", \"marker\": {\"color\": \"#00cc96\", \"symbol\": \"circle\"}, \"mode\": \"markers\", \"name\": \"\\ub178\\uc120\\uba85=24-1\", \"showlegend\": true, \"type\": \"scattergl\", \"x\": [6, 7, 8, 13, 14, 17, 20], \"xaxis\": \"x\", \"y\": [3, 3, 2, 1, 1, 3, 3], \"yaxis\": \"y\"}, {\"hoverlabel\": {\"namelength\": 0}, \"hovertemplate\": \"\\ub178\\uc120\\uba85=24-2<br>\\uc2dc\\uac04=%{x}<br>\\uc774\\uc6a9\\ub7c9=%{y}\", \"legendgroup\": \"\\ub178\\uc120\\uba85=24-2\", \"marker\": {\"color\": \"#ab63fa\", \"symbol\": \"circle\"}, \"mode\": \"markers\", \"name\": \"\\ub178\\uc120\\uba85=24-2\", \"showlegend\": true, \"type\": \"scattergl\", \"x\": [10, 18], \"xaxis\": \"x\", \"y\": [1, 2], \"yaxis\": \"y\"}, {\"hoverlabel\": {\"namelength\": 0}, \"hovertemplate\": \"\\ub178\\uc120\\uba85=240<br>\\uc2dc\\uac04=%{x}<br>\\uc774\\uc6a9\\ub7c9=%{y}\", \"legendgroup\": \"\\ub178\\uc120\\uba85=240\", \"marker\": {\"color\": \"#FFA15A\", \"symbol\": \"circle\"}, \"mode\": \"markers\", \"name\": \"\\ub178\\uc120\\uba85=240\", \"showlegend\": true, \"type\": \"scattergl\", \"x\": [5, 7, 8, 9, 11, 12, 14, 15, 16, 18, 19, 21, 22], \"xaxis\": \"x\", \"y\": [2, 5, 2, 3, 1, 1, 1, 3, 6, 1, 1, 1, 1], \"yaxis\": \"y\"}, {\"hoverlabel\": {\"namelength\": 0}, \"hovertemplate\": \"\\ub178\\uc120\\uba85=25<br>\\uc2dc\\uac04=%{x}<br>\\uc774\\uc6a9\\ub7c9=%{y}\", \"legendgroup\": \"\\ub178\\uc120\\uba85=25\", \"marker\": {\"color\": \"#19d3f3\", \"symbol\": \"circle\"}, \"mode\": \"markers\", \"name\": \"\\ub178\\uc120\\uba85=25\", \"showlegend\": true, \"type\": \"scattergl\", \"x\": [5, 6, 7, 8, 9, 10, 11, 12, 13, 14, 15, 16, 17, 18, 19, 20, 21, 22, 23], \"xaxis\": \"x\", \"y\": [79, 203, 329, 276, 262, 171, 198, 208, 283, 187, 199, 270, 314, 368, 194, 176, 152, 85, 14], \"yaxis\": \"y\"}, {\"hoverlabel\": {\"namelength\": 0}, \"hovertemplate\": \"\\ub178\\uc120\\uba85=25-1<br>\\uc2dc\\uac04=%{x}<br>\\uc774\\uc6a9\\ub7c9=%{y}\", \"legendgroup\": \"\\ub178\\uc120\\uba85=25-1\", \"marker\": {\"color\": \"#FF6692\", \"symbol\": \"circle\"}, \"mode\": \"markers\", \"name\": \"\\ub178\\uc120\\uba85=25-1\", \"showlegend\": true, \"type\": \"scattergl\", \"x\": [4, 5, 6, 7, 8, 9, 10, 11, 12, 13, 15, 16, 18, 19, 20], \"xaxis\": \"x\", \"y\": [14, 17, 38, 15, 9, 18, 10, 26, 16, 31, 20, 13, 17, 14, 4], \"yaxis\": \"y\"}, {\"hoverlabel\": {\"namelength\": 0}, \"hovertemplate\": \"\\ub178\\uc120\\uba85=25-2<br>\\uc2dc\\uac04=%{x}<br>\\uc774\\uc6a9\\ub7c9=%{y}\", \"legendgroup\": \"\\ub178\\uc120\\uba85=25-2\", \"marker\": {\"color\": \"#B6E880\", \"symbol\": \"circle\"}, \"mode\": \"markers\", \"name\": \"\\ub178\\uc120\\uba85=25-2\", \"showlegend\": true, \"type\": \"scattergl\", \"x\": [6, 7, 8, 9, 10, 11, 12, 13, 14, 18, 19, 20, 21, 22, 23], \"xaxis\": \"x\", \"y\": [16, 26, 68, 16, 13, 16, 39, 13, 19, 15, 26, 22, 7, 19, 2], \"yaxis\": \"y\"}, {\"hoverlabel\": {\"namelength\": 0}, \"hovertemplate\": \"\\ub178\\uc120\\uba85=25-5<br>\\uc2dc\\uac04=%{x}<br>\\uc774\\uc6a9\\ub7c9=%{y}\", \"legendgroup\": \"\\ub178\\uc120\\uba85=25-5\", \"marker\": {\"color\": \"#FF97FF\", \"symbol\": \"circle\"}, \"mode\": \"markers\", \"name\": \"\\ub178\\uc120\\uba85=25-5\", \"showlegend\": true, \"type\": \"scattergl\", \"x\": [6, 7, 8, 9], \"xaxis\": \"x\", \"y\": [36, 87, 40, 19], \"yaxis\": \"y\"}, {\"hoverlabel\": {\"namelength\": 0}, \"hovertemplate\": \"\\ub178\\uc120\\uba85=250<br>\\uc2dc\\uac04=%{x}<br>\\uc774\\uc6a9\\ub7c9=%{y}\", \"legendgroup\": \"\\ub178\\uc120\\uba85=250\", \"marker\": {\"color\": \"#FECB52\", \"symbol\": \"circle\"}, \"mode\": \"markers\", \"name\": \"\\ub178\\uc120\\uba85=250\", \"showlegend\": true, \"type\": \"scattergl\", \"x\": [4, 5, 6, 7, 8, 9, 10, 11, 12, 13, 14, 15, 16, 17, 18, 19, 20, 21, 22], \"xaxis\": \"x\", \"y\": [1, 4, 1, 15, 16, 9, 4, 4, 9, 12, 8, 9, 12, 12, 17, 17, 10, 10, 7], \"yaxis\": \"y\"}, {\"hoverlabel\": {\"namelength\": 0}, \"hovertemplate\": \"\\ub178\\uc120\\uba85=26<br>\\uc2dc\\uac04=%{x}<br>\\uc774\\uc6a9\\ub7c9=%{y}\", \"legendgroup\": \"\\ub178\\uc120\\uba85=26\", \"marker\": {\"color\": \"#636efa\", \"symbol\": \"circle\"}, \"mode\": \"markers\", \"name\": \"\\ub178\\uc120\\uba85=26\", \"showlegend\": true, \"type\": \"scattergl\", \"x\": [5, 6, 7, 8, 9, 10, 11, 13, 14, 15, 16, 17, 18, 19, 20, 21, 22], \"xaxis\": \"x\", \"y\": [13, 12, 13, 34, 2, 2, 6, 12, 3, 6, 8, 33, 4, 12, 7, 10, 10], \"yaxis\": \"y\"}, {\"hoverlabel\": {\"namelength\": 0}, \"hovertemplate\": \"\\ub178\\uc120\\uba85=27<br>\\uc2dc\\uac04=%{x}<br>\\uc774\\uc6a9\\ub7c9=%{y}\", \"legendgroup\": \"\\ub178\\uc120\\uba85=27\", \"marker\": {\"color\": \"#EF553B\", \"symbol\": \"circle\"}, \"mode\": \"markers\", \"name\": \"\\ub178\\uc120\\uba85=27\", \"showlegend\": true, \"type\": \"scattergl\", \"x\": [4, 5, 6, 7, 8, 9, 10, 11, 12, 13, 14, 15, 16, 17, 18, 19, 20, 21, 22, 23], \"xaxis\": \"x\", \"y\": [7, 6, 10, 31, 29, 19, 10, 18, 26, 19, 13, 29, 24, 34, 26, 17, 13, 21, 6, 3], \"yaxis\": \"y\"}, {\"hoverlabel\": {\"namelength\": 0}, \"hovertemplate\": \"\\ub178\\uc120\\uba85=27-1<br>\\uc2dc\\uac04=%{x}<br>\\uc774\\uc6a9\\ub7c9=%{y}\", \"legendgroup\": \"\\ub178\\uc120\\uba85=27-1\", \"marker\": {\"color\": \"#00cc96\", \"symbol\": \"circle\"}, \"mode\": \"markers\", \"name\": \"\\ub178\\uc120\\uba85=27-1\", \"showlegend\": true, \"type\": \"scattergl\", \"x\": [5, 6, 7, 8, 9, 10, 11, 12, 13, 15, 16, 17, 18, 19, 20, 21, 22, 23], \"xaxis\": \"x\", \"y\": [12, 12, 13, 20, 1, 8, 4, 3, 8, 8, 8, 1, 12, 8, 11, 8, 7, 16], \"yaxis\": \"y\"}, {\"hoverlabel\": {\"namelength\": 0}, \"hovertemplate\": \"\\ub178\\uc120\\uba85=28-2<br>\\uc2dc\\uac04=%{x}<br>\\uc774\\uc6a9\\ub7c9=%{y}\", \"legendgroup\": \"\\ub178\\uc120\\uba85=28-2\", \"marker\": {\"color\": \"#ab63fa\", \"symbol\": \"circle\"}, \"mode\": \"markers\", \"name\": \"\\ub178\\uc120\\uba85=28-2\", \"showlegend\": true, \"type\": \"scattergl\", \"x\": [20], \"xaxis\": \"x\", \"y\": [1], \"yaxis\": \"y\"}, {\"hoverlabel\": {\"namelength\": 0}, \"hovertemplate\": \"\\ub178\\uc120\\uba85=29<br>\\uc2dc\\uac04=%{x}<br>\\uc774\\uc6a9\\ub7c9=%{y}\", \"legendgroup\": \"\\ub178\\uc120\\uba85=29\", \"marker\": {\"color\": \"#FFA15A\", \"symbol\": \"circle\"}, \"mode\": \"markers\", \"name\": \"\\ub178\\uc120\\uba85=29\", \"showlegend\": true, \"type\": \"scattergl\", \"x\": [20], \"xaxis\": \"x\", \"y\": [1], \"yaxis\": \"y\"}, {\"hoverlabel\": {\"namelength\": 0}, \"hovertemplate\": \"\\ub178\\uc120\\uba85=3<br>\\uc2dc\\uac04=%{x}<br>\\uc774\\uc6a9\\ub7c9=%{y}\", \"legendgroup\": \"\\ub178\\uc120\\uba85=3\", \"marker\": {\"color\": \"#19d3f3\", \"symbol\": \"circle\"}, \"mode\": \"markers\", \"name\": \"\\ub178\\uc120\\uba85=3\", \"showlegend\": true, \"type\": \"scattergl\", \"x\": [5, 6, 7, 8, 9, 10, 11, 12, 13, 14, 15, 16, 17, 18, 19, 20, 21, 22, 23], \"xaxis\": \"x\", \"y\": [132, 473, 1437, 1818, 1180, 1107, 972, 1278, 1519, 1285, 1252, 1368, 1258, 1394, 899, 792, 733, 611, 222], \"yaxis\": \"y\"}, {\"hoverlabel\": {\"namelength\": 0}, \"hovertemplate\": \"\\ub178\\uc120\\uba85=3-1<br>\\uc2dc\\uac04=%{x}<br>\\uc774\\uc6a9\\ub7c9=%{y}\", \"legendgroup\": \"\\ub178\\uc120\\uba85=3-1\", \"marker\": {\"color\": \"#FF6692\", \"symbol\": \"circle\"}, \"mode\": \"markers\", \"name\": \"\\ub178\\uc120\\uba85=3-1\", \"showlegend\": true, \"type\": \"scattergl\", \"x\": [4, 5, 6, 7, 8, 9, 10, 11, 12, 13, 14, 15, 16, 17, 18, 19, 20, 21, 22], \"xaxis\": \"x\", \"y\": [1, 4, 4, 6, 8, 4, 5, 7, 6, 4, 3, 10, 4, 5, 13, 8, 6, 3, 1], \"yaxis\": \"y\"}, {\"hoverlabel\": {\"namelength\": 0}, \"hovertemplate\": \"\\ub178\\uc120\\uba85=3-2<br>\\uc2dc\\uac04=%{x}<br>\\uc774\\uc6a9\\ub7c9=%{y}\", \"legendgroup\": \"\\ub178\\uc120\\uba85=3-2\", \"marker\": {\"color\": \"#B6E880\", \"symbol\": \"circle\"}, \"mode\": \"markers\", \"name\": \"\\ub178\\uc120\\uba85=3-2\", \"showlegend\": true, \"type\": \"scattergl\", \"x\": [6, 8, 9, 13, 15, 17, 18, 19, 20, 21], \"xaxis\": \"x\", \"y\": [1, 2, 1, 2, 2, 7, 1, 2, 1, 1], \"yaxis\": \"y\"}, {\"hoverlabel\": {\"namelength\": 0}, \"hovertemplate\": \"\\ub178\\uc120\\uba85=3-5<br>\\uc2dc\\uac04=%{x}<br>\\uc774\\uc6a9\\ub7c9=%{y}\", \"legendgroup\": \"\\ub178\\uc120\\uba85=3-5\", \"marker\": {\"color\": \"#FF97FF\", \"symbol\": \"circle\"}, \"mode\": \"markers\", \"name\": \"\\ub178\\uc120\\uba85=3-5\", \"showlegend\": true, \"type\": \"scattergl\", \"x\": [10, 17], \"xaxis\": \"x\", \"y\": [1, 1], \"yaxis\": \"y\"}, {\"hoverlabel\": {\"namelength\": 0}, \"hovertemplate\": \"\\ub178\\uc120\\uba85=30<br>\\uc2dc\\uac04=%{x}<br>\\uc774\\uc6a9\\ub7c9=%{y}\", \"legendgroup\": \"\\ub178\\uc120\\uba85=30\", \"marker\": {\"color\": \"#FECB52\", \"symbol\": \"circle\"}, \"mode\": \"markers\", \"name\": \"\\ub178\\uc120\\uba85=30\", \"showlegend\": true, \"type\": \"scattergl\", \"x\": [5, 6, 7, 8, 9, 10, 11, 12, 13, 14, 15, 16, 17, 18, 19, 20, 21, 22, 23], \"xaxis\": \"x\", \"y\": [175, 528, 950, 928, 435, 385, 554, 448, 549, 487, 404, 570, 970, 789, 560, 495, 410, 383, 138], \"yaxis\": \"y\"}, {\"hoverlabel\": {\"namelength\": 0}, \"hovertemplate\": \"\\ub178\\uc120\\uba85=30-1<br>\\uc2dc\\uac04=%{x}<br>\\uc774\\uc6a9\\ub7c9=%{y}\", \"legendgroup\": \"\\ub178\\uc120\\uba85=30-1\", \"marker\": {\"color\": \"#636efa\", \"symbol\": \"circle\"}, \"mode\": \"markers\", \"name\": \"\\ub178\\uc120\\uba85=30-1\", \"showlegend\": true, \"type\": \"scattergl\", \"x\": [5, 6, 7, 8, 9, 10, 11, 12, 13, 14, 15, 16, 17, 18, 19, 20, 21, 22, 23], \"xaxis\": \"x\", \"y\": [130, 574, 1016, 998, 695, 430, 446, 609, 728, 588, 730, 696, 986, 939, 668, 556, 524, 432, 184], \"yaxis\": \"y\"}, {\"hoverlabel\": {\"namelength\": 0}, \"hovertemplate\": \"\\ub178\\uc120\\uba85=30-2<br>\\uc2dc\\uac04=%{x}<br>\\uc774\\uc6a9\\ub7c9=%{y}\", \"legendgroup\": \"\\ub178\\uc120\\uba85=30-2\", \"marker\": {\"color\": \"#EF553B\", \"symbol\": \"circle\"}, \"mode\": \"markers\", \"name\": \"\\ub178\\uc120\\uba85=30-2\", \"showlegend\": true, \"type\": \"scattergl\", \"x\": [5, 6, 7, 10, 11, 12, 14, 16, 17, 18, 20], \"xaxis\": \"x\", \"y\": [2, 1, 6, 1, 1, 3, 4, 1, 3, 5, 1], \"yaxis\": \"y\"}, {\"hoverlabel\": {\"namelength\": 0}, \"hovertemplate\": \"\\ub178\\uc120\\uba85=30-3<br>\\uc2dc\\uac04=%{x}<br>\\uc774\\uc6a9\\ub7c9=%{y}\", \"legendgroup\": \"\\ub178\\uc120\\uba85=30-3\", \"marker\": {\"color\": \"#00cc96\", \"symbol\": \"circle\"}, \"mode\": \"markers\", \"name\": \"\\ub178\\uc120\\uba85=30-3\", \"showlegend\": true, \"type\": \"scattergl\", \"x\": [4, 15, 16], \"xaxis\": \"x\", \"y\": [1, 1, 1], \"yaxis\": \"y\"}, {\"hoverlabel\": {\"namelength\": 0}, \"hovertemplate\": \"\\ub178\\uc120\\uba85=30-5<br>\\uc2dc\\uac04=%{x}<br>\\uc774\\uc6a9\\ub7c9=%{y}\", \"legendgroup\": \"\\ub178\\uc120\\uba85=30-5\", \"marker\": {\"color\": \"#ab63fa\", \"symbol\": \"circle\"}, \"mode\": \"markers\", \"name\": \"\\ub178\\uc120\\uba85=30-5\", \"showlegend\": true, \"type\": \"scattergl\", \"x\": [7, 12, 18, 19, 20], \"xaxis\": \"x\", \"y\": [1, 1, 1, 2, 1], \"yaxis\": \"y\"}, {\"hoverlabel\": {\"namelength\": 0}, \"hovertemplate\": \"\\ub178\\uc120\\uba85=30-7<br>\\uc2dc\\uac04=%{x}<br>\\uc774\\uc6a9\\ub7c9=%{y}\", \"legendgroup\": \"\\ub178\\uc120\\uba85=30-7\", \"marker\": {\"color\": \"#FFA15A\", \"symbol\": \"circle\"}, \"mode\": \"markers\", \"name\": \"\\ub178\\uc120\\uba85=30-7\", \"showlegend\": true, \"type\": \"scattergl\", \"x\": [6, 11, 17], \"xaxis\": \"x\", \"y\": [4, 2, 2], \"yaxis\": \"y\"}, {\"hoverlabel\": {\"namelength\": 0}, \"hovertemplate\": \"\\ub178\\uc120\\uba85=300<br>\\uc2dc\\uac04=%{x}<br>\\uc774\\uc6a9\\ub7c9=%{y}\", \"legendgroup\": \"\\ub178\\uc120\\uba85=300\", \"marker\": {\"color\": \"#19d3f3\", \"symbol\": \"circle\"}, \"mode\": \"markers\", \"name\": \"\\ub178\\uc120\\uba85=300\", \"showlegend\": true, \"type\": \"scattergl\", \"x\": [4, 5, 6, 7, 8, 9, 10, 11, 12, 13, 14, 15, 16, 17, 18, 19, 20, 21, 22, 23], \"xaxis\": \"x\", \"y\": [15, 97, 291, 809, 685, 391, 270, 279, 394, 333, 298, 318, 401, 538, 713, 446, 376, 386, 273, 74], \"yaxis\": \"y\"}, {\"hoverlabel\": {\"namelength\": 0}, \"hovertemplate\": \"\\ub178\\uc120\\uba85=300-1<br>\\uc2dc\\uac04=%{x}<br>\\uc774\\uc6a9\\ub7c9=%{y}\", \"legendgroup\": \"\\ub178\\uc120\\uba85=300-1\", \"marker\": {\"color\": \"#FF6692\", \"symbol\": \"circle\"}, \"mode\": \"markers\", \"name\": \"\\ub178\\uc120\\uba85=300-1\", \"showlegend\": true, \"type\": \"scattergl\", \"x\": [4, 5, 6, 7, 8, 9, 10, 11, 12, 13, 14, 15, 16, 17, 18, 19, 20, 21, 22, 23], \"xaxis\": \"x\", \"y\": [4, 45, 48, 64, 91, 49, 35, 27, 54, 38, 27, 48, 44, 72, 96, 54, 35, 27, 31, 12], \"yaxis\": \"y\"}, {\"hoverlabel\": {\"namelength\": 0}, \"hovertemplate\": \"\\ub178\\uc120\\uba85=3000<br>\\uc2dc\\uac04=%{x}<br>\\uc774\\uc6a9\\ub7c9=%{y}\", \"legendgroup\": \"\\ub178\\uc120\\uba85=3000\", \"marker\": {\"color\": \"#B6E880\", \"symbol\": \"circle\"}, \"mode\": \"markers\", \"name\": \"\\ub178\\uc120\\uba85=3000\", \"showlegend\": true, \"type\": \"scattergl\", \"x\": [5, 6, 7, 8, 9, 10, 11, 12, 13, 14, 15, 16, 17, 18, 19, 20, 21, 22, 23], \"xaxis\": \"x\", \"y\": [7, 4, 2, 2, 4, 1, 3, 3, 10, 10, 6, 8, 12, 26, 7, 15, 16, 23, 4], \"yaxis\": \"y\"}, {\"hoverlabel\": {\"namelength\": 0}, \"hovertemplate\": \"\\ub178\\uc120\\uba85=3001<br>\\uc2dc\\uac04=%{x}<br>\\uc774\\uc6a9\\ub7c9=%{y}\", \"legendgroup\": \"\\ub178\\uc120\\uba85=3001\", \"marker\": {\"color\": \"#FF97FF\", \"symbol\": \"circle\"}, \"mode\": \"markers\", \"name\": \"\\ub178\\uc120\\uba85=3001\", \"showlegend\": true, \"type\": \"scattergl\", \"x\": [6, 7, 8, 9, 10, 11, 12, 14, 16, 17, 18, 20, 21, 22, 23], \"xaxis\": \"x\", \"y\": [5, 2, 3, 1, 1, 1, 1, 2, 1, 2, 2, 4, 1, 1, 1], \"yaxis\": \"y\"}, {\"hoverlabel\": {\"namelength\": 0}, \"hovertemplate\": \"\\ub178\\uc120\\uba85=3002<br>\\uc2dc\\uac04=%{x}<br>\\uc774\\uc6a9\\ub7c9=%{y}\", \"legendgroup\": \"\\ub178\\uc120\\uba85=3002\", \"marker\": {\"color\": \"#FECB52\", \"symbol\": \"circle\"}, \"mode\": \"markers\", \"name\": \"\\ub178\\uc120\\uba85=3002\", \"showlegend\": true, \"type\": \"scattergl\", \"x\": [6, 7, 8, 9, 10, 11, 13, 14, 15, 16, 17, 18, 19, 20, 21, 22, 23], \"xaxis\": \"x\", \"y\": [2, 5, 4, 1, 1, 1, 1, 1, 2, 2, 6, 6, 6, 5, 3, 4, 3], \"yaxis\": \"y\"}, {\"hoverlabel\": {\"namelength\": 0}, \"hovertemplate\": \"\\ub178\\uc120\\uba85=3003<br>\\uc2dc\\uac04=%{x}<br>\\uc774\\uc6a9\\ub7c9=%{y}\", \"legendgroup\": \"\\ub178\\uc120\\uba85=3003\", \"marker\": {\"color\": \"#636efa\", \"symbol\": \"circle\"}, \"mode\": \"markers\", \"name\": \"\\ub178\\uc120\\uba85=3003\", \"showlegend\": true, \"type\": \"scattergl\", \"x\": [7, 10, 12, 13, 14, 16, 17, 18, 19, 20, 21, 22, 23], \"xaxis\": \"x\", \"y\": [1, 1, 3, 2, 5, 6, 12, 7, 11, 8, 9, 10, 1], \"yaxis\": \"y\"}, {\"hoverlabel\": {\"namelength\": 0}, \"hovertemplate\": \"\\ub178\\uc120\\uba85=3007<br>\\uc2dc\\uac04=%{x}<br>\\uc774\\uc6a9\\ub7c9=%{y}\", \"legendgroup\": \"\\ub178\\uc120\\uba85=3007\", \"marker\": {\"color\": \"#EF553B\", \"symbol\": \"circle\"}, \"mode\": \"markers\", \"name\": \"\\ub178\\uc120\\uba85=3007\", \"showlegend\": true, \"type\": \"scattergl\", \"x\": [6, 7, 8, 9, 10, 11, 12, 13, 14, 15, 16, 17, 18, 19, 20, 21, 22, 23], \"xaxis\": \"x\", \"y\": [2, 2, 5, 4, 1, 1, 1, 2, 6, 6, 2, 3, 9, 3, 7, 6, 2, 1], \"yaxis\": \"y\"}, {\"hoverlabel\": {\"namelength\": 0}, \"hovertemplate\": \"\\ub178\\uc120\\uba85=301<br>\\uc2dc\\uac04=%{x}<br>\\uc774\\uc6a9\\ub7c9=%{y}\", \"legendgroup\": \"\\ub178\\uc120\\uba85=301\", \"marker\": {\"color\": \"#00cc96\", \"symbol\": \"circle\"}, \"mode\": \"markers\", \"name\": \"\\ub178\\uc120\\uba85=301\", \"showlegend\": true, \"type\": \"scattergl\", \"x\": [4, 5, 6, 7, 8, 9, 10, 11, 12, 13, 14, 15, 16, 17, 18, 19, 20, 21, 22, 23], \"xaxis\": \"x\", \"y\": [57, 220, 593, 1461, 1268, 706, 557, 514, 538, 745, 597, 565, 805, 937, 941, 712, 589, 644, 487, 194], \"yaxis\": \"y\"}, {\"hoverlabel\": {\"namelength\": 0}, \"hovertemplate\": \"\\ub178\\uc120\\uba85=302<br>\\uc2dc\\uac04=%{x}<br>\\uc774\\uc6a9\\ub7c9=%{y}\", \"legendgroup\": \"\\ub178\\uc120\\uba85=302\", \"marker\": {\"color\": \"#ab63fa\", \"symbol\": \"circle\"}, \"mode\": \"markers\", \"name\": \"\\ub178\\uc120\\uba85=302\", \"showlegend\": true, \"type\": \"scattergl\", \"x\": [7, 15, 16], \"xaxis\": \"x\", \"y\": [1, 1, 1], \"yaxis\": \"y\"}, {\"hoverlabel\": {\"namelength\": 0}, \"hovertemplate\": \"\\ub178\\uc120\\uba85=3030<br>\\uc2dc\\uac04=%{x}<br>\\uc774\\uc6a9\\ub7c9=%{y}\", \"legendgroup\": \"\\ub178\\uc120\\uba85=3030\", \"marker\": {\"color\": \"#FFA15A\", \"symbol\": \"circle\"}, \"mode\": \"markers\", \"name\": \"\\ub178\\uc120\\uba85=3030\", \"showlegend\": true, \"type\": \"scattergl\", \"x\": [19, 21], \"xaxis\": \"x\", \"y\": [1, 2], \"yaxis\": \"y\"}, {\"hoverlabel\": {\"namelength\": 0}, \"hovertemplate\": \"\\ub178\\uc120\\uba85=31<br>\\uc2dc\\uac04=%{x}<br>\\uc774\\uc6a9\\ub7c9=%{y}\", \"legendgroup\": \"\\ub178\\uc120\\uba85=31\", \"marker\": {\"color\": \"#19d3f3\", \"symbol\": \"circle\"}, \"mode\": \"markers\", \"name\": \"\\ub178\\uc120\\uba85=31\", \"showlegend\": true, \"type\": \"scattergl\", \"x\": [6, 7, 8, 9, 10, 11, 12, 13, 14, 15, 16, 17, 18, 19, 20, 21, 22], \"xaxis\": \"x\", \"y\": [15, 19, 20, 12, 4, 9, 16, 10, 11, 15, 5, 19, 18, 9, 10, 4, 2], \"yaxis\": \"y\"}, {\"hoverlabel\": {\"namelength\": 0}, \"hovertemplate\": \"\\ub178\\uc120\\uba85=31-2<br>\\uc2dc\\uac04=%{x}<br>\\uc774\\uc6a9\\ub7c9=%{y}\", \"legendgroup\": \"\\ub178\\uc120\\uba85=31-2\", \"marker\": {\"color\": \"#FF6692\", \"symbol\": \"circle\"}, \"mode\": \"markers\", \"name\": \"\\ub178\\uc120\\uba85=31-2\", \"showlegend\": true, \"type\": \"scattergl\", \"x\": [5, 6, 8, 12, 16, 17, 18], \"xaxis\": \"x\", \"y\": [1, 2, 1, 1, 1, 2, 5], \"yaxis\": \"y\"}, {\"hoverlabel\": {\"namelength\": 0}, \"hovertemplate\": \"\\ub178\\uc120\\uba85=31-3<br>\\uc2dc\\uac04=%{x}<br>\\uc774\\uc6a9\\ub7c9=%{y}\", \"legendgroup\": \"\\ub178\\uc120\\uba85=31-3\", \"marker\": {\"color\": \"#B6E880\", \"symbol\": \"circle\"}, \"mode\": \"markers\", \"name\": \"\\ub178\\uc120\\uba85=31-3\", \"showlegend\": true, \"type\": \"scattergl\", \"x\": [5, 6, 7, 8, 9, 12, 14, 15, 16, 17, 18, 19, 20, 21, 22], \"xaxis\": \"x\", \"y\": [1, 7, 6, 1, 1, 2, 2, 1, 2, 2, 8, 1, 1, 3, 1], \"yaxis\": \"y\"}, {\"hoverlabel\": {\"namelength\": 0}, \"hovertemplate\": \"\\ub178\\uc120\\uba85=31-7<br>\\uc2dc\\uac04=%{x}<br>\\uc774\\uc6a9\\ub7c9=%{y}\", \"legendgroup\": \"\\ub178\\uc120\\uba85=31-7\", \"marker\": {\"color\": \"#FF97FF\", \"symbol\": \"circle\"}, \"mode\": \"markers\", \"name\": \"\\ub178\\uc120\\uba85=31-7\", \"showlegend\": true, \"type\": \"scattergl\", \"x\": [5, 6, 7, 8, 9, 11, 13, 16, 18, 21], \"xaxis\": \"x\", \"y\": [1, 1, 1, 1, 1, 1, 1, 2, 2, 1], \"yaxis\": \"y\"}, {\"hoverlabel\": {\"namelength\": 0}, \"hovertemplate\": \"\\ub178\\uc120\\uba85=310<br>\\uc2dc\\uac04=%{x}<br>\\uc774\\uc6a9\\ub7c9=%{y}\", \"legendgroup\": \"\\ub178\\uc120\\uba85=310\", \"marker\": {\"color\": \"#FECB52\", \"symbol\": \"circle\"}, \"mode\": \"markers\", \"name\": \"\\ub178\\uc120\\uba85=310\", \"showlegend\": true, \"type\": \"scattergl\", \"x\": [4, 5, 6, 7, 8, 9, 10, 11, 12, 13, 14, 15, 16, 17, 18, 19, 20, 21, 22, 23], \"xaxis\": \"x\", \"y\": [21, 192, 345, 715, 649, 337, 236, 237, 367, 339, 281, 253, 407, 424, 541, 453, 432, 312, 192, 80], \"yaxis\": \"y\"}, {\"hoverlabel\": {\"namelength\": 0}, \"hovertemplate\": \"\\ub178\\uc120\\uba85=3100<br>\\uc2dc\\uac04=%{x}<br>\\uc774\\uc6a9\\ub7c9=%{y}\", \"legendgroup\": \"\\ub178\\uc120\\uba85=3100\", \"marker\": {\"color\": \"#636efa\", \"symbol\": \"circle\"}, \"mode\": \"markers\", \"name\": \"\\ub178\\uc120\\uba85=3100\", \"showlegend\": true, \"type\": \"scattergl\", \"x\": [5, 6, 8, 10, 12, 16, 17, 18, 19, 20, 21], \"xaxis\": \"x\", \"y\": [4, 4, 1, 1, 1, 1, 4, 4, 2, 1, 1], \"yaxis\": \"y\"}, {\"hoverlabel\": {\"namelength\": 0}, \"hovertemplate\": \"\\ub178\\uc120\\uba85=3101<br>\\uc2dc\\uac04=%{x}<br>\\uc774\\uc6a9\\ub7c9=%{y}\", \"legendgroup\": \"\\ub178\\uc120\\uba85=3101\", \"marker\": {\"color\": \"#EF553B\", \"symbol\": \"circle\"}, \"mode\": \"markers\", \"name\": \"\\ub178\\uc120\\uba85=3101\", \"showlegend\": true, \"type\": \"scattergl\", \"x\": [7], \"xaxis\": \"x\", \"y\": [2], \"yaxis\": \"y\"}, {\"hoverlabel\": {\"namelength\": 0}, \"hovertemplate\": \"\\ub178\\uc120\\uba85=3102<br>\\uc2dc\\uac04=%{x}<br>\\uc774\\uc6a9\\ub7c9=%{y}\", \"legendgroup\": \"\\ub178\\uc120\\uba85=3102\", \"marker\": {\"color\": \"#00cc96\", \"symbol\": \"circle\"}, \"mode\": \"markers\", \"name\": \"\\ub178\\uc120\\uba85=3102\", \"showlegend\": true, \"type\": \"scattergl\", \"x\": [6, 11, 15, 17, 18, 19, 23], \"xaxis\": \"x\", \"y\": [1, 1, 1, 1, 1, 1, 1], \"yaxis\": \"y\"}, {\"hoverlabel\": {\"namelength\": 0}, \"hovertemplate\": \"\\ub178\\uc120\\uba85=314<br>\\uc2dc\\uac04=%{x}<br>\\uc774\\uc6a9\\ub7c9=%{y}\", \"legendgroup\": \"\\ub178\\uc120\\uba85=314\", \"marker\": {\"color\": \"#ab63fa\", \"symbol\": \"circle\"}, \"mode\": \"markers\", \"name\": \"\\ub178\\uc120\\uba85=314\", \"showlegend\": true, \"type\": \"scattergl\", \"x\": [13, 14, 18], \"xaxis\": \"x\", \"y\": [1, 1, 1], \"yaxis\": \"y\"}, {\"hoverlabel\": {\"namelength\": 0}, \"hovertemplate\": \"\\ub178\\uc120\\uba85=32<br>\\uc2dc\\uac04=%{x}<br>\\uc774\\uc6a9\\ub7c9=%{y}\", \"legendgroup\": \"\\ub178\\uc120\\uba85=32\", \"marker\": {\"color\": \"#FFA15A\", \"symbol\": \"circle\"}, \"mode\": \"markers\", \"name\": \"\\ub178\\uc120\\uba85=32\", \"showlegend\": true, \"type\": \"scattergl\", \"x\": [5, 6, 7, 8, 9, 10, 11, 12, 13, 14, 15, 16, 17, 18, 19, 20, 21], \"xaxis\": \"x\", \"y\": [14, 13, 35, 11, 14, 24, 7, 39, 7, 20, 13, 14, 7, 14, 13, 6, 10], \"yaxis\": \"y\"}, {\"hoverlabel\": {\"namelength\": 0}, \"hovertemplate\": \"\\ub178\\uc120\\uba85=32-1<br>\\uc2dc\\uac04=%{x}<br>\\uc774\\uc6a9\\ub7c9=%{y}\", \"legendgroup\": \"\\ub178\\uc120\\uba85=32-1\", \"marker\": {\"color\": \"#19d3f3\", \"symbol\": \"circle\"}, \"mode\": \"markers\", \"name\": \"\\ub178\\uc120\\uba85=32-1\", \"showlegend\": true, \"type\": \"scattergl\", \"x\": [5, 6, 7, 8, 11, 12, 14, 16, 17, 18, 19, 21, 23], \"xaxis\": \"x\", \"y\": [10, 10, 16, 1, 3, 14, 1, 1, 23, 14, 4, 1, 1], \"yaxis\": \"y\"}, {\"hoverlabel\": {\"namelength\": 0}, \"hovertemplate\": \"\\ub178\\uc120\\uba85=32-2<br>\\uc2dc\\uac04=%{x}<br>\\uc774\\uc6a9\\ub7c9=%{y}\", \"legendgroup\": \"\\ub178\\uc120\\uba85=32-2\", \"marker\": {\"color\": \"#FF6692\", \"symbol\": \"circle\"}, \"mode\": \"markers\", \"name\": \"\\ub178\\uc120\\uba85=32-2\", \"showlegend\": true, \"type\": \"scattergl\", \"x\": [8, 9, 10, 14, 15, 16, 20, 21, 22], \"xaxis\": \"x\", \"y\": [16, 9, 1, 4, 5, 3, 8, 8, 3], \"yaxis\": \"y\"}, {\"hoverlabel\": {\"namelength\": 0}, \"hovertemplate\": \"\\ub178\\uc120\\uba85=32-3<br>\\uc2dc\\uac04=%{x}<br>\\uc774\\uc6a9\\ub7c9=%{y}\", \"legendgroup\": \"\\ub178\\uc120\\uba85=32-3\", \"marker\": {\"color\": \"#B6E880\", \"symbol\": \"circle\"}, \"mode\": \"markers\", \"name\": \"\\ub178\\uc120\\uba85=32-3\", \"showlegend\": true, \"type\": \"scattergl\", \"x\": [5, 6, 7, 8, 9, 10, 11, 12, 13, 14, 15, 16, 17, 18, 19, 20, 21, 22, 23], \"xaxis\": \"x\", \"y\": [24, 81, 184, 148, 96, 38, 50, 87, 76, 42, 48, 89, 62, 92, 70, 48, 65, 14, 4], \"yaxis\": \"y\"}, {\"hoverlabel\": {\"namelength\": 0}, \"hovertemplate\": \"\\ub178\\uc120\\uba85=32-4<br>\\uc2dc\\uac04=%{x}<br>\\uc774\\uc6a9\\ub7c9=%{y}\", \"legendgroup\": \"\\ub178\\uc120\\uba85=32-4\", \"marker\": {\"color\": \"#FF97FF\", \"symbol\": \"circle\"}, \"mode\": \"markers\", \"name\": \"\\ub178\\uc120\\uba85=32-4\", \"showlegend\": true, \"type\": \"scattergl\", \"x\": [5, 6, 7, 8, 9, 10, 11, 12, 13, 14, 15, 16, 17, 18, 19, 20, 21, 22, 23], \"xaxis\": \"x\", \"y\": [3, 26, 46, 87, 18, 21, 13, 26, 17, 13, 36, 21, 45, 16, 21, 21, 9, 7, 2], \"yaxis\": \"y\"}, {\"hoverlabel\": {\"namelength\": 0}, \"hovertemplate\": \"\\ub178\\uc120\\uba85=32-5<br>\\uc2dc\\uac04=%{x}<br>\\uc774\\uc6a9\\ub7c9=%{y}\", \"legendgroup\": \"\\ub178\\uc120\\uba85=32-5\", \"marker\": {\"color\": \"#FECB52\", \"symbol\": \"circle\"}, \"mode\": \"markers\", \"name\": \"\\ub178\\uc120\\uba85=32-5\", \"showlegend\": true, \"type\": \"scattergl\", \"x\": [6, 7, 8, 9, 10, 11, 12, 13, 14, 15, 16, 17, 18, 19, 21, 22], \"xaxis\": \"x\", \"y\": [7, 7, 7, 2, 6, 7, 5, 4, 16, 17, 17, 16, 1, 8, 1, 4], \"yaxis\": \"y\"}, {\"hoverlabel\": {\"namelength\": 0}, \"hovertemplate\": \"\\ub178\\uc120\\uba85=33<br>\\uc2dc\\uac04=%{x}<br>\\uc774\\uc6a9\\ub7c9=%{y}\", \"legendgroup\": \"\\ub178\\uc120\\uba85=33\", \"marker\": {\"color\": \"#636efa\", \"symbol\": \"circle\"}, \"mode\": \"markers\", \"name\": \"\\ub178\\uc120\\uba85=33\", \"showlegend\": true, \"type\": \"scattergl\", \"x\": [4, 5, 6, 7, 8, 9, 10, 11, 12, 13, 14, 15, 16, 17, 18, 19, 20, 21, 22, 23], \"xaxis\": \"x\", \"y\": [9, 1, 7, 20, 12, 9, 5, 6, 12, 9, 8, 7, 8, 8, 12, 12, 13, 9, 8, 1], \"yaxis\": \"y\"}, {\"hoverlabel\": {\"namelength\": 0}, \"hovertemplate\": \"\\ub178\\uc120\\uba85=33-1<br>\\uc2dc\\uac04=%{x}<br>\\uc774\\uc6a9\\ub7c9=%{y}\", \"legendgroup\": \"\\ub178\\uc120\\uba85=33-1\", \"marker\": {\"color\": \"#EF553B\", \"symbol\": \"circle\"}, \"mode\": \"markers\", \"name\": \"\\ub178\\uc120\\uba85=33-1\", \"showlegend\": true, \"type\": \"scattergl\", \"x\": [4, 5, 6, 7, 8, 9, 10, 11, 12, 13, 14, 15, 16, 17, 18, 19, 20, 21, 22, 23], \"xaxis\": \"x\", \"y\": [16, 5, 5, 16, 11, 4, 9, 2, 6, 9, 7, 6, 13, 9, 8, 6, 7, 8, 3, 1], \"yaxis\": \"y\"}, {\"hoverlabel\": {\"namelength\": 0}, \"hovertemplate\": \"\\ub178\\uc120\\uba85=33-2<br>\\uc2dc\\uac04=%{x}<br>\\uc774\\uc6a9\\ub7c9=%{y}\", \"legendgroup\": \"\\ub178\\uc120\\uba85=33-2\", \"marker\": {\"color\": \"#00cc96\", \"symbol\": \"circle\"}, \"mode\": \"markers\", \"name\": \"\\ub178\\uc120\\uba85=33-2\", \"showlegend\": true, \"type\": \"scattergl\", \"x\": [8, 12, 18, 19], \"xaxis\": \"x\", \"y\": [2, 2, 1, 1], \"yaxis\": \"y\"}, {\"hoverlabel\": {\"namelength\": 0}, \"hovertemplate\": \"\\ub178\\uc120\\uba85=33-4<br>\\uc2dc\\uac04=%{x}<br>\\uc774\\uc6a9\\ub7c9=%{y}\", \"legendgroup\": \"\\ub178\\uc120\\uba85=33-4\", \"marker\": {\"color\": \"#ab63fa\", \"symbol\": \"circle\"}, \"mode\": \"markers\", \"name\": \"\\ub178\\uc120\\uba85=33-4\", \"showlegend\": true, \"type\": \"scattergl\", \"x\": [11], \"xaxis\": \"x\", \"y\": [2], \"yaxis\": \"y\"}, {\"hoverlabel\": {\"namelength\": 0}, \"hovertemplate\": \"\\ub178\\uc120\\uba85=33-53<br>\\uc2dc\\uac04=%{x}<br>\\uc774\\uc6a9\\ub7c9=%{y}\", \"legendgroup\": \"\\ub178\\uc120\\uba85=33-53\", \"marker\": {\"color\": \"#FFA15A\", \"symbol\": \"circle\"}, \"mode\": \"markers\", \"name\": \"\\ub178\\uc120\\uba85=33-53\", \"showlegend\": true, \"type\": \"scattergl\", \"x\": [10], \"xaxis\": \"x\", \"y\": [1], \"yaxis\": \"y\"}, {\"hoverlabel\": {\"namelength\": 0}, \"hovertemplate\": \"\\ub178\\uc120\\uba85=330<br>\\uc2dc\\uac04=%{x}<br>\\uc774\\uc6a9\\ub7c9=%{y}\", \"legendgroup\": \"\\ub178\\uc120\\uba85=330\", \"marker\": {\"color\": \"#19d3f3\", \"symbol\": \"circle\"}, \"mode\": \"markers\", \"name\": \"\\ub178\\uc120\\uba85=330\", \"showlegend\": true, \"type\": \"scattergl\", \"x\": [4, 5, 7, 8, 9, 10, 11, 12, 13, 14, 15, 16, 17, 18, 19, 20, 21, 22], \"xaxis\": \"x\", \"y\": [3, 1, 3, 3, 5, 2, 1, 1, 6, 4, 2, 3, 6, 8, 3, 5, 10, 2], \"yaxis\": \"y\"}, {\"hoverlabel\": {\"namelength\": 0}, \"hovertemplate\": \"\\ub178\\uc120\\uba85=3300<br>\\uc2dc\\uac04=%{x}<br>\\uc774\\uc6a9\\ub7c9=%{y}\", \"legendgroup\": \"\\ub178\\uc120\\uba85=3300\", \"marker\": {\"color\": \"#FF6692\", \"symbol\": \"circle\"}, \"mode\": \"markers\", \"name\": \"\\ub178\\uc120\\uba85=3300\", \"showlegend\": true, \"type\": \"scattergl\", \"x\": [21], \"xaxis\": \"x\", \"y\": [1], \"yaxis\": \"y\"}, {\"hoverlabel\": {\"namelength\": 0}, \"hovertemplate\": \"\\ub178\\uc120\\uba85=331<br>\\uc2dc\\uac04=%{x}<br>\\uc774\\uc6a9\\ub7c9=%{y}\", \"legendgroup\": \"\\ub178\\uc120\\uba85=331\", \"marker\": {\"color\": \"#B6E880\", \"symbol\": \"circle\"}, \"mode\": \"markers\", \"name\": \"\\ub178\\uc120\\uba85=331\", \"showlegend\": true, \"type\": \"scattergl\", \"x\": [4, 6, 7, 10, 14, 16, 17, 18, 19, 20], \"xaxis\": \"x\", \"y\": [1, 2, 1, 1, 1, 1, 2, 2, 2, 3], \"yaxis\": \"y\"}, {\"hoverlabel\": {\"namelength\": 0}, \"hovertemplate\": \"\\ub178\\uc120\\uba85=333<br>\\uc2dc\\uac04=%{x}<br>\\uc774\\uc6a9\\ub7c9=%{y}\", \"legendgroup\": \"\\ub178\\uc120\\uba85=333\", \"marker\": {\"color\": \"#FF97FF\", \"symbol\": \"circle\"}, \"mode\": \"markers\", \"name\": \"\\ub178\\uc120\\uba85=333\", \"showlegend\": true, \"type\": \"scattergl\", \"x\": [6, 7, 8, 9, 10, 11, 12, 13, 14, 15, 17, 18, 19, 20, 22], \"xaxis\": \"x\", \"y\": [2, 5, 5, 4, 1, 1, 5, 4, 2, 2, 8, 2, 2, 2, 1], \"yaxis\": \"y\"}, {\"hoverlabel\": {\"namelength\": 0}, \"hovertemplate\": \"\\ub178\\uc120\\uba85=3330<br>\\uc2dc\\uac04=%{x}<br>\\uc774\\uc6a9\\ub7c9=%{y}\", \"legendgroup\": \"\\ub178\\uc120\\uba85=3330\", \"marker\": {\"color\": \"#FECB52\", \"symbol\": \"circle\"}, \"mode\": \"markers\", \"name\": \"\\ub178\\uc120\\uba85=3330\", \"showlegend\": true, \"type\": \"scattergl\", \"x\": [5, 6, 7, 8, 9, 10, 11, 12, 14, 15, 16, 17, 18, 19, 20, 21, 22, 23], \"xaxis\": \"x\", \"y\": [1, 2, 3, 3, 1, 4, 4, 1, 2, 2, 7, 5, 8, 4, 3, 5, 5, 1], \"yaxis\": \"y\"}, {\"hoverlabel\": {\"namelength\": 0}, \"hovertemplate\": \"\\ub178\\uc120\\uba85=34<br>\\uc2dc\\uac04=%{x}<br>\\uc774\\uc6a9\\ub7c9=%{y}\", \"legendgroup\": \"\\ub178\\uc120\\uba85=34\", \"marker\": {\"color\": \"#636efa\", \"symbol\": \"circle\"}, \"mode\": \"markers\", \"name\": \"\\ub178\\uc120\\uba85=34\", \"showlegend\": true, \"type\": \"scattergl\", \"x\": [5, 6, 7, 8, 9, 10, 11, 12, 13, 14, 15, 16, 17, 18, 19, 20, 21, 22, 23], \"xaxis\": \"x\", \"y\": [164, 238, 380, 360, 170, 149, 142, 206, 232, 250, 187, 263, 315, 371, 194, 171, 194, 163, 91], \"yaxis\": \"y\"}, {\"hoverlabel\": {\"namelength\": 0}, \"hovertemplate\": \"\\ub178\\uc120\\uba85=34-1<br>\\uc2dc\\uac04=%{x}<br>\\uc774\\uc6a9\\ub7c9=%{y}\", \"legendgroup\": \"\\ub178\\uc120\\uba85=34-1\", \"marker\": {\"color\": \"#EF553B\", \"symbol\": \"circle\"}, \"mode\": \"markers\", \"name\": \"\\ub178\\uc120\\uba85=34-1\", \"showlegend\": true, \"type\": \"scattergl\", \"x\": [5, 6, 7, 8, 9, 10, 11, 12, 13, 14, 15, 16, 17, 18, 19, 20, 21, 22, 23], \"xaxis\": \"x\", \"y\": [64, 263, 509, 504, 321, 150, 191, 254, 341, 234, 270, 295, 531, 569, 343, 249, 271, 246, 76], \"yaxis\": \"y\"}, {\"hoverlabel\": {\"namelength\": 0}, \"hovertemplate\": \"\\ub178\\uc120\\uba85=340<br>\\uc2dc\\uac04=%{x}<br>\\uc774\\uc6a9\\ub7c9=%{y}\", \"legendgroup\": \"\\ub178\\uc120\\uba85=340\", \"marker\": {\"color\": \"#00cc96\", \"symbol\": \"circle\"}, \"mode\": \"markers\", \"name\": \"\\ub178\\uc120\\uba85=340\", \"showlegend\": true, \"type\": \"scattergl\", \"x\": [5, 6, 7, 8, 9, 10, 11, 12, 13, 14, 15, 16, 17, 18, 19, 20, 21], \"xaxis\": \"x\", \"y\": [2, 12, 26, 51, 3, 7, 8, 1, 9, 3, 1, 9, 22, 12, 6, 8, 1], \"yaxis\": \"y\"}, {\"hoverlabel\": {\"namelength\": 0}, \"hovertemplate\": \"\\ub178\\uc120\\uba85=340-1<br>\\uc2dc\\uac04=%{x}<br>\\uc774\\uc6a9\\ub7c9=%{y}\", \"legendgroup\": \"\\ub178\\uc120\\uba85=340-1\", \"marker\": {\"color\": \"#ab63fa\", \"symbol\": \"circle\"}, \"mode\": \"markers\", \"name\": \"\\ub178\\uc120\\uba85=340-1\", \"showlegend\": true, \"type\": \"scattergl\", \"x\": [5, 6, 7, 8, 9, 11, 13, 15, 17, 18, 19, 20, 21], \"xaxis\": \"x\", \"y\": [1, 3, 1, 2, 1, 1, 1, 2, 3, 3, 4, 4, 1], \"yaxis\": \"y\"}, {\"hoverlabel\": {\"namelength\": 0}, \"hovertemplate\": \"\\ub178\\uc120\\uba85=3400<br>\\uc2dc\\uac04=%{x}<br>\\uc774\\uc6a9\\ub7c9=%{y}\", \"legendgroup\": \"\\ub178\\uc120\\uba85=3400\", \"marker\": {\"color\": \"#FFA15A\", \"symbol\": \"circle\"}, \"mode\": \"markers\", \"name\": \"\\ub178\\uc120\\uba85=3400\", \"showlegend\": true, \"type\": \"scattergl\", \"x\": [21], \"xaxis\": \"x\", \"y\": [1], \"yaxis\": \"y\"}, {\"hoverlabel\": {\"namelength\": 0}, \"hovertemplate\": \"\\ub178\\uc120\\uba85=35<br>\\uc2dc\\uac04=%{x}<br>\\uc774\\uc6a9\\ub7c9=%{y}\", \"legendgroup\": \"\\ub178\\uc120\\uba85=35\", \"marker\": {\"color\": \"#19d3f3\", \"symbol\": \"circle\"}, \"mode\": \"markers\", \"name\": \"\\ub178\\uc120\\uba85=35\", \"showlegend\": true, \"type\": \"scattergl\", \"x\": [5, 6, 7, 8, 9, 10, 11, 12, 13, 14, 15, 16, 17, 18, 19, 20, 21, 22, 23], \"xaxis\": \"x\", \"y\": [67, 257, 479, 415, 271, 270, 267, 318, 397, 281, 335, 324, 419, 434, 251, 270, 199, 156, 38], \"yaxis\": \"y\"}, {\"hoverlabel\": {\"namelength\": 0}, \"hovertemplate\": \"\\ub178\\uc120\\uba85=35-1<br>\\uc2dc\\uac04=%{x}<br>\\uc774\\uc6a9\\ub7c9=%{y}\", \"legendgroup\": \"\\ub178\\uc120\\uba85=35-1\", \"marker\": {\"color\": \"#FF6692\", \"symbol\": \"circle\"}, \"mode\": \"markers\", \"name\": \"\\ub178\\uc120\\uba85=35-1\", \"showlegend\": true, \"type\": \"scattergl\", \"x\": [18], \"xaxis\": \"x\", \"y\": [2], \"yaxis\": \"y\"}, {\"hoverlabel\": {\"namelength\": 0}, \"hovertemplate\": \"\\ub178\\uc120\\uba85=35-2<br>\\uc2dc\\uac04=%{x}<br>\\uc774\\uc6a9\\ub7c9=%{y}\", \"legendgroup\": \"\\ub178\\uc120\\uba85=35-2\", \"marker\": {\"color\": \"#B6E880\", \"symbol\": \"circle\"}, \"mode\": \"markers\", \"name\": \"\\ub178\\uc120\\uba85=35-2\", \"showlegend\": true, \"type\": \"scattergl\", \"x\": [18], \"xaxis\": \"x\", \"y\": [2], \"yaxis\": \"y\"}, {\"hoverlabel\": {\"namelength\": 0}, \"hovertemplate\": \"\\ub178\\uc120\\uba85=35-21<br>\\uc2dc\\uac04=%{x}<br>\\uc774\\uc6a9\\ub7c9=%{y}\", \"legendgroup\": \"\\ub178\\uc120\\uba85=35-21\", \"marker\": {\"color\": \"#FF97FF\", \"symbol\": \"circle\"}, \"mode\": \"markers\", \"name\": \"\\ub178\\uc120\\uba85=35-21\", \"showlegend\": true, \"type\": \"scattergl\", \"x\": [18], \"xaxis\": \"x\", \"y\": [2], \"yaxis\": \"y\"}, {\"hoverlabel\": {\"namelength\": 0}, \"hovertemplate\": \"\\ub178\\uc120\\uba85=350<br>\\uc2dc\\uac04=%{x}<br>\\uc774\\uc6a9\\ub7c9=%{y}\", \"legendgroup\": \"\\ub178\\uc120\\uba85=350\", \"marker\": {\"color\": \"#FECB52\", \"symbol\": \"circle\"}, \"mode\": \"markers\", \"name\": \"\\ub178\\uc120\\uba85=350\", \"showlegend\": true, \"type\": \"scattergl\", \"x\": [4, 5, 6, 7, 8, 9, 12, 13, 14, 15, 16, 17, 18, 19, 20, 21, 22, 23], \"xaxis\": \"x\", \"y\": [1, 1, 4, 6, 3, 1, 3, 1, 1, 1, 2, 7, 10, 5, 4, 2, 4, 1], \"yaxis\": \"y\"}, {\"hoverlabel\": {\"namelength\": 0}, \"hovertemplate\": \"\\ub178\\uc120\\uba85=3500<br>\\uc2dc\\uac04=%{x}<br>\\uc774\\uc6a9\\ub7c9=%{y}\", \"legendgroup\": \"\\ub178\\uc120\\uba85=3500\", \"marker\": {\"color\": \"#636efa\", \"symbol\": \"circle\"}, \"mode\": \"markers\", \"name\": \"\\ub178\\uc120\\uba85=3500\", \"showlegend\": true, \"type\": \"scattergl\", \"x\": [7, 13, 14, 15, 17, 18, 19, 20, 21, 22], \"xaxis\": \"x\", \"y\": [2, 1, 1, 2, 2, 1, 2, 3, 2, 2], \"yaxis\": \"y\"}, {\"hoverlabel\": {\"namelength\": 0}, \"hovertemplate\": \"\\ub178\\uc120\\uba85=357<br>\\uc2dc\\uac04=%{x}<br>\\uc774\\uc6a9\\ub7c9=%{y}\", \"legendgroup\": \"\\ub178\\uc120\\uba85=357\", \"marker\": {\"color\": \"#EF553B\", \"symbol\": \"circle\"}, \"mode\": \"markers\", \"name\": \"\\ub178\\uc120\\uba85=357\", \"showlegend\": true, \"type\": \"scattergl\", \"x\": [17], \"xaxis\": \"x\", \"y\": [1], \"yaxis\": \"y\"}, {\"hoverlabel\": {\"namelength\": 0}, \"hovertemplate\": \"\\ub178\\uc120\\uba85=36<br>\\uc2dc\\uac04=%{x}<br>\\uc774\\uc6a9\\ub7c9=%{y}\", \"legendgroup\": \"\\ub178\\uc120\\uba85=36\", \"marker\": {\"color\": \"#00cc96\", \"symbol\": \"circle\"}, \"mode\": \"markers\", \"name\": \"\\ub178\\uc120\\uba85=36\", \"showlegend\": true, \"type\": \"scattergl\", \"x\": [4, 5, 6, 8, 9, 12, 13, 15, 16, 17], \"xaxis\": \"x\", \"y\": [1, 1, 4, 5, 1, 1, 1, 1, 2, 2], \"yaxis\": \"y\"}, {\"hoverlabel\": {\"namelength\": 0}, \"hovertemplate\": \"\\ub178\\uc120\\uba85=36-14<br>\\uc2dc\\uac04=%{x}<br>\\uc774\\uc6a9\\ub7c9=%{y}\", \"legendgroup\": \"\\ub178\\uc120\\uba85=36-14\", \"marker\": {\"color\": \"#ab63fa\", \"symbol\": \"circle\"}, \"mode\": \"markers\", \"name\": \"\\ub178\\uc120\\uba85=36-14\", \"showlegend\": true, \"type\": \"scattergl\", \"x\": [17], \"xaxis\": \"x\", \"y\": [1], \"yaxis\": \"y\"}, {\"hoverlabel\": {\"namelength\": 0}, \"hovertemplate\": \"\\ub178\\uc120\\uba85=36-7<br>\\uc2dc\\uac04=%{x}<br>\\uc774\\uc6a9\\ub7c9=%{y}\", \"legendgroup\": \"\\ub178\\uc120\\uba85=36-7\", \"marker\": {\"color\": \"#FFA15A\", \"symbol\": \"circle\"}, \"mode\": \"markers\", \"name\": \"\\ub178\\uc120\\uba85=36-7\", \"showlegend\": true, \"type\": \"scattergl\", \"x\": [13], \"xaxis\": \"x\", \"y\": [1], \"yaxis\": \"y\"}, {\"hoverlabel\": {\"namelength\": 0}, \"hovertemplate\": \"\\ub178\\uc120\\uba85=3600<br>\\uc2dc\\uac04=%{x}<br>\\uc774\\uc6a9\\ub7c9=%{y}\", \"legendgroup\": \"\\ub178\\uc120\\uba85=3600\", \"marker\": {\"color\": \"#19d3f3\", \"symbol\": \"circle\"}, \"mode\": \"markers\", \"name\": \"\\ub178\\uc120\\uba85=3600\", \"showlegend\": true, \"type\": \"scattergl\", \"x\": [21], \"xaxis\": \"x\", \"y\": [1], \"yaxis\": \"y\"}, {\"hoverlabel\": {\"namelength\": 0}, \"hovertemplate\": \"\\ub178\\uc120\\uba85=37<br>\\uc2dc\\uac04=%{x}<br>\\uc774\\uc6a9\\ub7c9=%{y}\", \"legendgroup\": \"\\ub178\\uc120\\uba85=37\", \"marker\": {\"color\": \"#FF6692\", \"symbol\": \"circle\"}, \"mode\": \"markers\", \"name\": \"\\ub178\\uc120\\uba85=37\", \"showlegend\": true, \"type\": \"scattergl\", \"x\": [4, 5, 6, 7, 8, 9, 10, 11, 12, 13, 14, 15, 16, 17, 18, 19, 20, 21, 22, 23], \"xaxis\": \"x\", \"y\": [2, 48, 50, 116, 128, 66, 40, 52, 78, 64, 73, 56, 90, 126, 96, 58, 44, 40, 10, 8], \"yaxis\": \"y\"}, {\"hoverlabel\": {\"namelength\": 0}, \"hovertemplate\": \"\\ub178\\uc120\\uba85=37-1<br>\\uc2dc\\uac04=%{x}<br>\\uc774\\uc6a9\\ub7c9=%{y}\", \"legendgroup\": \"\\ub178\\uc120\\uba85=37-1\", \"marker\": {\"color\": \"#B6E880\", \"symbol\": \"circle\"}, \"mode\": \"markers\", \"name\": \"\\ub178\\uc120\\uba85=37-1\", \"showlegend\": true, \"type\": \"scattergl\", \"x\": [18], \"xaxis\": \"x\", \"y\": [1], \"yaxis\": \"y\"}, {\"hoverlabel\": {\"namelength\": 0}, \"hovertemplate\": \"\\ub178\\uc120\\uba85=37-3<br>\\uc2dc\\uac04=%{x}<br>\\uc774\\uc6a9\\ub7c9=%{y}\", \"legendgroup\": \"\\ub178\\uc120\\uba85=37-3\", \"marker\": {\"color\": \"#FF97FF\", \"symbol\": \"circle\"}, \"mode\": \"markers\", \"name\": \"\\ub178\\uc120\\uba85=37-3\", \"showlegend\": true, \"type\": \"scattergl\", \"x\": [14], \"xaxis\": \"x\", \"y\": [1], \"yaxis\": \"y\"}, {\"hoverlabel\": {\"namelength\": 0}, \"hovertemplate\": \"\\ub178\\uc120\\uba85=370<br>\\uc2dc\\uac04=%{x}<br>\\uc774\\uc6a9\\ub7c9=%{y}\", \"legendgroup\": \"\\ub178\\uc120\\uba85=370\", \"marker\": {\"color\": \"#FECB52\", \"symbol\": \"circle\"}, \"mode\": \"markers\", \"name\": \"\\ub178\\uc120\\uba85=370\", \"showlegend\": true, \"type\": \"scattergl\", \"x\": [7, 11, 12, 14, 15, 19, 20, 21, 22], \"xaxis\": \"x\", \"y\": [1, 2, 1, 1, 2, 1, 1, 2, 1], \"yaxis\": \"y\"}, {\"hoverlabel\": {\"namelength\": 0}, \"hovertemplate\": \"\\ub178\\uc120\\uba85=38<br>\\uc2dc\\uac04=%{x}<br>\\uc774\\uc6a9\\ub7c9=%{y}\", \"legendgroup\": \"\\ub178\\uc120\\uba85=38\", \"marker\": {\"color\": \"#636efa\", \"symbol\": \"circle\"}, \"mode\": \"markers\", \"name\": \"\\ub178\\uc120\\uba85=38\", \"showlegend\": true, \"type\": \"scattergl\", \"x\": [5, 6, 7, 8, 9, 10, 11, 12, 13, 14, 15, 16, 17, 18, 19, 20, 21, 22, 23], \"xaxis\": \"x\", \"y\": [5, 24, 50, 39, 42, 29, 20, 28, 39, 34, 19, 32, 49, 50, 33, 43, 33, 17, 7], \"yaxis\": \"y\"}, {\"hoverlabel\": {\"namelength\": 0}, \"hovertemplate\": \"\\ub178\\uc120\\uba85=38-1<br>\\uc2dc\\uac04=%{x}<br>\\uc774\\uc6a9\\ub7c9=%{y}\", \"legendgroup\": \"\\ub178\\uc120\\uba85=38-1\", \"marker\": {\"color\": \"#EF553B\", \"symbol\": \"circle\"}, \"mode\": \"markers\", \"name\": \"\\ub178\\uc120\\uba85=38-1\", \"showlegend\": true, \"type\": \"scattergl\", \"x\": [5, 6, 7, 8, 9, 10, 11, 12, 13, 14, 15, 16, 17, 18, 19, 20, 21, 22], \"xaxis\": \"x\", \"y\": [3, 6, 17, 2, 3, 4, 2, 9, 6, 3, 8, 4, 5, 10, 1, 1, 7, 1], \"yaxis\": \"y\"}, {\"hoverlabel\": {\"namelength\": 0}, \"hovertemplate\": \"\\ub178\\uc120\\uba85=38-2<br>\\uc2dc\\uac04=%{x}<br>\\uc774\\uc6a9\\ub7c9=%{y}\", \"legendgroup\": \"\\ub178\\uc120\\uba85=38-2\", \"marker\": {\"color\": \"#00cc96\", \"symbol\": \"circle\"}, \"mode\": \"markers\", \"name\": \"\\ub178\\uc120\\uba85=38-2\", \"showlegend\": true, \"type\": \"scattergl\", \"x\": [5, 6, 7, 8, 9, 10, 11, 12, 13, 14, 15, 16, 17, 18, 19, 20, 21, 22, 23], \"xaxis\": \"x\", \"y\": [4, 5, 11, 11, 5, 5, 6, 6, 8, 6, 7, 11, 16, 3, 2, 11, 4, 1, 2], \"yaxis\": \"y\"}, {\"hoverlabel\": {\"namelength\": 0}, \"hovertemplate\": \"\\ub178\\uc120\\uba85=38-22<br>\\uc2dc\\uac04=%{x}<br>\\uc774\\uc6a9\\ub7c9=%{y}\", \"legendgroup\": \"\\ub178\\uc120\\uba85=38-22\", \"marker\": {\"color\": \"#ab63fa\", \"symbol\": \"circle\"}, \"mode\": \"markers\", \"name\": \"\\ub178\\uc120\\uba85=38-22\", \"showlegend\": true, \"type\": \"scattergl\", \"x\": [21], \"xaxis\": \"x\", \"y\": [1], \"yaxis\": \"y\"}, {\"hoverlabel\": {\"namelength\": 0}, \"hovertemplate\": \"\\ub178\\uc120\\uba85=38-43<br>\\uc2dc\\uac04=%{x}<br>\\uc774\\uc6a9\\ub7c9=%{y}\", \"legendgroup\": \"\\ub178\\uc120\\uba85=38-43\", \"marker\": {\"color\": \"#FFA15A\", \"symbol\": \"circle\"}, \"mode\": \"markers\", \"name\": \"\\ub178\\uc120\\uba85=38-43\", \"showlegend\": true, \"type\": \"scattergl\", \"x\": [6], \"xaxis\": \"x\", \"y\": [1], \"yaxis\": \"y\"}, {\"hoverlabel\": {\"namelength\": 0}, \"hovertemplate\": \"\\ub178\\uc120\\uba85=38-85<br>\\uc2dc\\uac04=%{x}<br>\\uc774\\uc6a9\\ub7c9=%{y}\", \"legendgroup\": \"\\ub178\\uc120\\uba85=38-85\", \"marker\": {\"color\": \"#19d3f3\", \"symbol\": \"circle\"}, \"mode\": \"markers\", \"name\": \"\\ub178\\uc120\\uba85=38-85\", \"showlegend\": true, \"type\": \"scattergl\", \"x\": [9], \"xaxis\": \"x\", \"y\": [1], \"yaxis\": \"y\"}, {\"hoverlabel\": {\"namelength\": 0}, \"hovertemplate\": \"\\ub178\\uc120\\uba85=380<br>\\uc2dc\\uac04=%{x}<br>\\uc774\\uc6a9\\ub7c9=%{y}\", \"legendgroup\": \"\\ub178\\uc120\\uba85=380\", \"marker\": {\"color\": \"#FF6692\", \"symbol\": \"circle\"}, \"mode\": \"markers\", \"name\": \"\\ub178\\uc120\\uba85=380\", \"showlegend\": true, \"type\": \"scattergl\", \"x\": [4, 6, 7, 8, 9, 10, 11, 12, 14, 15, 16, 18, 20, 21, 22], \"xaxis\": \"x\", \"y\": [1, 1, 1, 1, 1, 1, 1, 2, 1, 2, 1, 3, 2, 1, 1], \"yaxis\": \"y\"}, {\"hoverlabel\": {\"namelength\": 0}, \"hovertemplate\": \"\\ub178\\uc120\\uba85=388<br>\\uc2dc\\uac04=%{x}<br>\\uc774\\uc6a9\\ub7c9=%{y}\", \"legendgroup\": \"\\ub178\\uc120\\uba85=388\", \"marker\": {\"color\": \"#B6E880\", \"symbol\": \"circle\"}, \"mode\": \"markers\", \"name\": \"\\ub178\\uc120\\uba85=388\", \"showlegend\": true, \"type\": \"scattergl\", \"x\": [4, 5, 6, 7, 8, 9, 10, 11, 15, 16, 17, 18, 19, 20, 21], \"xaxis\": \"x\", \"y\": [1, 2, 9, 2, 1, 2, 2, 1, 3, 2, 2, 6, 1, 1, 1], \"yaxis\": \"y\"}, {\"hoverlabel\": {\"namelength\": 0}, \"hovertemplate\": \"\\ub178\\uc120\\uba85=39<br>\\uc2dc\\uac04=%{x}<br>\\uc774\\uc6a9\\ub7c9=%{y}\", \"legendgroup\": \"\\ub178\\uc120\\uba85=39\", \"marker\": {\"color\": \"#FF97FF\", \"symbol\": \"circle\"}, \"mode\": \"markers\", \"name\": \"\\ub178\\uc120\\uba85=39\", \"showlegend\": true, \"type\": \"scattergl\", \"x\": [7, 8, 17], \"xaxis\": \"x\", \"y\": [1, 1, 1], \"yaxis\": \"y\"}, {\"hoverlabel\": {\"namelength\": 0}, \"hovertemplate\": \"\\ub178\\uc120\\uba85=390<br>\\uc2dc\\uac04=%{x}<br>\\uc774\\uc6a9\\ub7c9=%{y}\", \"legendgroup\": \"\\ub178\\uc120\\uba85=390\", \"marker\": {\"color\": \"#FECB52\", \"symbol\": \"circle\"}, \"mode\": \"markers\", \"name\": \"\\ub178\\uc120\\uba85=390\", \"showlegend\": true, \"type\": \"scattergl\", \"x\": [5, 6, 7, 8, 9, 11, 12, 13, 14, 15, 16, 17, 18, 19, 20, 21, 22, 23], \"xaxis\": \"x\", \"y\": [3, 1, 5, 6, 9, 2, 6, 6, 4, 6, 1, 8, 14, 6, 8, 8, 3, 1], \"yaxis\": \"y\"}, {\"hoverlabel\": {\"namelength\": 0}, \"hovertemplate\": \"\\ub178\\uc120\\uba85=4<br>\\uc2dc\\uac04=%{x}<br>\\uc774\\uc6a9\\ub7c9=%{y}\", \"legendgroup\": \"\\ub178\\uc120\\uba85=4\", \"marker\": {\"color\": \"#636efa\", \"symbol\": \"circle\"}, \"mode\": \"markers\", \"name\": \"\\ub178\\uc120\\uba85=4\", \"showlegend\": true, \"type\": \"scattergl\", \"x\": [9, 21], \"xaxis\": \"x\", \"y\": [1, 1], \"yaxis\": \"y\"}, {\"hoverlabel\": {\"namelength\": 0}, \"hovertemplate\": \"\\ub178\\uc120\\uba85=4-1<br>\\uc2dc\\uac04=%{x}<br>\\uc774\\uc6a9\\ub7c9=%{y}\", \"legendgroup\": \"\\ub178\\uc120\\uba85=4-1\", \"marker\": {\"color\": \"#EF553B\", \"symbol\": \"circle\"}, \"mode\": \"markers\", \"name\": \"\\ub178\\uc120\\uba85=4-1\", \"showlegend\": true, \"type\": \"scattergl\", \"x\": [4, 5, 6, 7, 8, 9, 10, 11, 12, 13, 14, 15, 16, 17, 18, 19, 20, 21, 22, 23], \"xaxis\": \"x\", \"y\": [1, 13, 19, 12, 20, 22, 9, 28, 12, 16, 12, 12, 13, 30, 7, 9, 11, 18, 9, 1], \"yaxis\": \"y\"}, {\"hoverlabel\": {\"namelength\": 0}, \"hovertemplate\": \"\\ub178\\uc120\\uba85=400<br>\\uc2dc\\uac04=%{x}<br>\\uc774\\uc6a9\\ub7c9=%{y}\", \"legendgroup\": \"\\ub178\\uc120\\uba85=400\", \"marker\": {\"color\": \"#00cc96\", \"symbol\": \"circle\"}, \"mode\": \"markers\", \"name\": \"\\ub178\\uc120\\uba85=400\", \"showlegend\": true, \"type\": \"scattergl\", \"x\": [4, 5, 6, 7, 8, 9, 10, 11, 12, 13, 14, 15, 16, 17, 18, 19, 20, 21, 22, 23], \"xaxis\": \"x\", \"y\": [5, 18, 22, 29, 24, 22, 15, 14, 25, 10, 12, 22, 25, 41, 42, 14, 26, 34, 23, 7], \"yaxis\": \"y\"}, {\"hoverlabel\": {\"namelength\": 0}, \"hovertemplate\": \"\\ub178\\uc120\\uba85=400-2<br>\\uc2dc\\uac04=%{x}<br>\\uc774\\uc6a9\\ub7c9=%{y}\", \"legendgroup\": \"\\ub178\\uc120\\uba85=400-2\", \"marker\": {\"color\": \"#ab63fa\", \"symbol\": \"circle\"}, \"mode\": \"markers\", \"name\": \"\\ub178\\uc120\\uba85=400-2\", \"showlegend\": true, \"type\": \"scattergl\", \"x\": [5, 6, 7, 8, 9, 11, 12, 13, 14, 15, 16, 17, 18, 19, 20, 21, 22], \"xaxis\": \"x\", \"y\": [8, 7, 9, 16, 3, 4, 9, 7, 6, 3, 11, 9, 18, 8, 7, 3, 4], \"yaxis\": \"y\"}, {\"hoverlabel\": {\"namelength\": 0}, \"hovertemplate\": \"\\ub178\\uc120\\uba85=400-4<br>\\uc2dc\\uac04=%{x}<br>\\uc774\\uc6a9\\ub7c9=%{y}\", \"legendgroup\": \"\\ub178\\uc120\\uba85=400-4\", \"marker\": {\"color\": \"#FFA15A\", \"symbol\": \"circle\"}, \"mode\": \"markers\", \"name\": \"\\ub178\\uc120\\uba85=400-4\", \"showlegend\": true, \"type\": \"scattergl\", \"x\": [5, 6, 7, 8, 9, 10, 11, 12, 13, 14, 15, 16, 17, 18, 19, 20, 21, 22, 23], \"xaxis\": \"x\", \"y\": [6, 23, 18, 14, 10, 4, 9, 16, 3, 11, 15, 12, 43, 15, 19, 17, 8, 3, 1], \"yaxis\": \"y\"}, {\"hoverlabel\": {\"namelength\": 0}, \"hovertemplate\": \"\\ub178\\uc120\\uba85=400-5<br>\\uc2dc\\uac04=%{x}<br>\\uc774\\uc6a9\\ub7c9=%{y}\", \"legendgroup\": \"\\ub178\\uc120\\uba85=400-5\", \"marker\": {\"color\": \"#19d3f3\", \"symbol\": \"circle\"}, \"mode\": \"markers\", \"name\": \"\\ub178\\uc120\\uba85=400-5\", \"showlegend\": true, \"type\": \"scattergl\", \"x\": [6, 9, 12, 14, 15, 16, 17, 19], \"xaxis\": \"x\", \"y\": [1, 2, 1, 2, 4, 4, 1, 3], \"yaxis\": \"y\"}, {\"hoverlabel\": {\"namelength\": 0}, \"hovertemplate\": \"\\ub178\\uc120\\uba85=4000<br>\\uc2dc\\uac04=%{x}<br>\\uc774\\uc6a9\\ub7c9=%{y}\", \"legendgroup\": \"\\ub178\\uc120\\uba85=4000\", \"marker\": {\"color\": \"#FF6692\", \"symbol\": \"circle\"}, \"mode\": \"markers\", \"name\": \"\\ub178\\uc120\\uba85=4000\", \"showlegend\": true, \"type\": \"scattergl\", \"x\": [5, 6, 7, 8, 10, 11, 12, 15, 16, 17, 18, 19, 20, 21, 22], \"xaxis\": \"x\", \"y\": [6, 2, 4, 4, 2, 2, 4, 2, 4, 8, 20, 12, 14, 18, 4], \"yaxis\": \"y\"}, {\"hoverlabel\": {\"namelength\": 0}, \"hovertemplate\": \"\\ub178\\uc120\\uba85=42<br>\\uc2dc\\uac04=%{x}<br>\\uc774\\uc6a9\\ub7c9=%{y}\", \"legendgroup\": \"\\ub178\\uc120\\uba85=42\", \"marker\": {\"color\": \"#B6E880\", \"symbol\": \"circle\"}, \"mode\": \"markers\", \"name\": \"\\ub178\\uc120\\uba85=42\", \"showlegend\": true, \"type\": \"scattergl\", \"x\": [5, 6, 7, 8, 9, 10, 11, 12, 13, 14, 15, 16, 17, 18, 19, 20, 21, 22, 23], \"xaxis\": \"x\", \"y\": [108, 300, 646, 456, 316, 266, 264, 340, 350, 362, 272, 418, 668, 562, 408, 294, 270, 282, 112], \"yaxis\": \"y\"}, {\"hoverlabel\": {\"namelength\": 0}, \"hovertemplate\": \"\\ub178\\uc120\\uba85=4403<br>\\uc2dc\\uac04=%{x}<br>\\uc774\\uc6a9\\ub7c9=%{y}\", \"legendgroup\": \"\\ub178\\uc120\\uba85=4403\", \"marker\": {\"color\": \"#FF97FF\", \"symbol\": \"circle\"}, \"mode\": \"markers\", \"name\": \"\\ub178\\uc120\\uba85=4403\", \"showlegend\": true, \"type\": \"scattergl\", \"x\": [7, 15, 18, 21], \"xaxis\": \"x\", \"y\": [1, 1, 3, 4], \"yaxis\": \"y\"}, {\"hoverlabel\": {\"namelength\": 0}, \"hovertemplate\": \"\\ub178\\uc120\\uba85=45<br>\\uc2dc\\uac04=%{x}<br>\\uc774\\uc6a9\\ub7c9=%{y}\", \"legendgroup\": \"\\ub178\\uc120\\uba85=45\", \"marker\": {\"color\": \"#FECB52\", \"symbol\": \"circle\"}, \"mode\": \"markers\", \"name\": \"\\ub178\\uc120\\uba85=45\", \"showlegend\": true, \"type\": \"scattergl\", \"x\": [5, 6, 7, 8, 9, 10, 11, 12, 13, 14, 15, 16, 17, 18, 19, 20, 21, 22], \"xaxis\": \"x\", \"y\": [8, 8, 20, 8, 5, 4, 6, 2, 9, 7, 2, 8, 2, 7, 1, 9, 6, 8], \"yaxis\": \"y\"}, {\"hoverlabel\": {\"namelength\": 0}, \"hovertemplate\": \"\\ub178\\uc120\\uba85=46<br>\\uc2dc\\uac04=%{x}<br>\\uc774\\uc6a9\\ub7c9=%{y}\", \"legendgroup\": \"\\ub178\\uc120\\uba85=46\", \"marker\": {\"color\": \"#636efa\", \"symbol\": \"circle\"}, \"mode\": \"markers\", \"name\": \"\\ub178\\uc120\\uba85=46\", \"showlegend\": true, \"type\": \"scattergl\", \"x\": [4, 5, 6, 7, 8, 9, 10, 11, 12, 13, 14, 15, 16, 17, 18, 19, 20, 21, 22, 23], \"xaxis\": \"x\", \"y\": [4, 38, 103, 245, 195, 101, 83, 101, 116, 109, 114, 98, 134, 197, 130, 97, 69, 87, 54, 20], \"yaxis\": \"y\"}, {\"hoverlabel\": {\"namelength\": 0}, \"hovertemplate\": \"\\ub178\\uc120\\uba85=5<br>\\uc2dc\\uac04=%{x}<br>\\uc774\\uc6a9\\ub7c9=%{y}\", \"legendgroup\": \"\\ub178\\uc120\\uba85=5\", \"marker\": {\"color\": \"#EF553B\", \"symbol\": \"circle\"}, \"mode\": \"markers\", \"name\": \"\\ub178\\uc120\\uba85=5\", \"showlegend\": true, \"type\": \"scattergl\", \"x\": [4, 5, 6, 7, 8, 9, 10, 11, 12, 13, 14, 15, 16, 17, 18, 19, 20, 21, 22, 23], \"xaxis\": \"x\", \"y\": [19, 267, 274, 699, 681, 411, 269, 271, 347, 487, 294, 331, 359, 542, 517, 372, 316, 276, 242, 156], \"yaxis\": \"y\"}, {\"hoverlabel\": {\"namelength\": 0}, \"hovertemplate\": \"\\ub178\\uc120\\uba85=5-1<br>\\uc2dc\\uac04=%{x}<br>\\uc774\\uc6a9\\ub7c9=%{y}\", \"legendgroup\": \"\\ub178\\uc120\\uba85=5-1\", \"marker\": {\"color\": \"#00cc96\", \"symbol\": \"circle\"}, \"mode\": \"markers\", \"name\": \"\\ub178\\uc120\\uba85=5-1\", \"showlegend\": true, \"type\": \"scattergl\", \"x\": [5, 6, 7, 8, 9, 10, 11, 12, 13, 14, 15, 16, 17, 18, 19, 20, 21, 22, 23], \"xaxis\": \"x\", \"y\": [36, 59, 137, 130, 68, 21, 40, 63, 53, 79, 61, 82, 131, 129, 59, 76, 64, 35, 19], \"yaxis\": \"y\"}, {\"hoverlabel\": {\"namelength\": 0}, \"hovertemplate\": \"\\ub178\\uc120\\uba85=5-2<br>\\uc2dc\\uac04=%{x}<br>\\uc774\\uc6a9\\ub7c9=%{y}\", \"legendgroup\": \"\\ub178\\uc120\\uba85=5-2\", \"marker\": {\"color\": \"#ab63fa\", \"symbol\": \"circle\"}, \"mode\": \"markers\", \"name\": \"\\ub178\\uc120\\uba85=5-2\", \"showlegend\": true, \"type\": \"scattergl\", \"x\": [4, 5, 6, 7, 8, 9, 10, 11, 12, 13, 14, 15, 16, 17, 18, 19, 20, 21, 22, 23], \"xaxis\": \"x\", \"y\": [6, 42, 23, 118, 98, 57, 18, 24, 31, 78, 35, 25, 91, 52, 81, 41, 67, 94, 58, 23], \"yaxis\": \"y\"}, {\"hoverlabel\": {\"namelength\": 0}, \"hovertemplate\": \"\\ub178\\uc120\\uba85=5-3<br>\\uc2dc\\uac04=%{x}<br>\\uc774\\uc6a9\\ub7c9=%{y}\", \"legendgroup\": \"\\ub178\\uc120\\uba85=5-3\", \"marker\": {\"color\": \"#FFA15A\", \"symbol\": \"circle\"}, \"mode\": \"markers\", \"name\": \"\\ub178\\uc120\\uba85=5-3\", \"showlegend\": true, \"type\": \"scattergl\", \"x\": [6, 10], \"xaxis\": \"x\", \"y\": [1, 1], \"yaxis\": \"y\"}, {\"hoverlabel\": {\"namelength\": 0}, \"hovertemplate\": \"\\ub178\\uc120\\uba85=5-4<br>\\uc2dc\\uac04=%{x}<br>\\uc774\\uc6a9\\ub7c9=%{y}\", \"legendgroup\": \"\\ub178\\uc120\\uba85=5-4\", \"marker\": {\"color\": \"#19d3f3\", \"symbol\": \"circle\"}, \"mode\": \"markers\", \"name\": \"\\ub178\\uc120\\uba85=5-4\", \"showlegend\": true, \"type\": \"scattergl\", \"x\": [6, 8, 9, 12, 13, 14, 15, 16, 17, 19, 20, 21], \"xaxis\": \"x\", \"y\": [3, 3, 1, 1, 2, 2, 1, 3, 4, 2, 2, 1], \"yaxis\": \"y\"}, {\"hoverlabel\": {\"namelength\": 0}, \"hovertemplate\": \"\\ub178\\uc120\\uba85=50<br>\\uc2dc\\uac04=%{x}<br>\\uc774\\uc6a9\\ub7c9=%{y}\", \"legendgroup\": \"\\ub178\\uc120\\uba85=50\", \"marker\": {\"color\": \"#FF6692\", \"symbol\": \"circle\"}, \"mode\": \"markers\", \"name\": \"\\ub178\\uc120\\uba85=50\", \"showlegend\": true, \"type\": \"scattergl\", \"x\": [5, 6, 7, 8, 9, 10, 11, 12, 13, 14, 15, 16, 17, 18, 19, 20, 21, 22], \"xaxis\": \"x\", \"y\": [3, 22, 49, 58, 18, 6, 21, 19, 30, 16, 5, 18, 20, 43, 10, 20, 27, 1], \"yaxis\": \"y\"}, {\"hoverlabel\": {\"namelength\": 0}, \"hovertemplate\": \"\\ub178\\uc120\\uba85=50-1<br>\\uc2dc\\uac04=%{x}<br>\\uc774\\uc6a9\\ub7c9=%{y}\", \"legendgroup\": \"\\ub178\\uc120\\uba85=50-1\", \"marker\": {\"color\": \"#B6E880\", \"symbol\": \"circle\"}, \"mode\": \"markers\", \"name\": \"\\ub178\\uc120\\uba85=50-1\", \"showlegend\": true, \"type\": \"scattergl\", \"x\": [6], \"xaxis\": \"x\", \"y\": [1], \"yaxis\": \"y\"}, {\"hoverlabel\": {\"namelength\": 0}, \"hovertemplate\": \"\\ub178\\uc120\\uba85=50-2<br>\\uc2dc\\uac04=%{x}<br>\\uc774\\uc6a9\\ub7c9=%{y}\", \"legendgroup\": \"\\ub178\\uc120\\uba85=50-2\", \"marker\": {\"color\": \"#FF97FF\", \"symbol\": \"circle\"}, \"mode\": \"markers\", \"name\": \"\\ub178\\uc120\\uba85=50-2\", \"showlegend\": true, \"type\": \"scattergl\", \"x\": [6, 7, 8, 9, 10, 11, 13, 14, 15, 16, 17, 18, 22], \"xaxis\": \"x\", \"y\": [1, 3, 1, 1, 1, 6, 3, 1, 1, 1, 1, 5, 1], \"yaxis\": \"y\"}, {\"hoverlabel\": {\"namelength\": 0}, \"hovertemplate\": \"\\ub178\\uc120\\uba85=50-3<br>\\uc2dc\\uac04=%{x}<br>\\uc774\\uc6a9\\ub7c9=%{y}\", \"legendgroup\": \"\\ub178\\uc120\\uba85=50-3\", \"marker\": {\"color\": \"#FECB52\", \"symbol\": \"circle\"}, \"mode\": \"markers\", \"name\": \"\\ub178\\uc120\\uba85=50-3\", \"showlegend\": true, \"type\": \"scattergl\", \"x\": [6, 7], \"xaxis\": \"x\", \"y\": [1, 3], \"yaxis\": \"y\"}, {\"hoverlabel\": {\"namelength\": 0}, \"hovertemplate\": \"\\ub178\\uc120\\uba85=50-4<br>\\uc2dc\\uac04=%{x}<br>\\uc774\\uc6a9\\ub7c9=%{y}\", \"legendgroup\": \"\\ub178\\uc120\\uba85=50-4\", \"marker\": {\"color\": \"#636efa\", \"symbol\": \"circle\"}, \"mode\": \"markers\", \"name\": \"\\ub178\\uc120\\uba85=50-4\", \"showlegend\": true, \"type\": \"scattergl\", \"x\": [10], \"xaxis\": \"x\", \"y\": [1], \"yaxis\": \"y\"}, {\"hoverlabel\": {\"namelength\": 0}, \"hovertemplate\": \"\\ub178\\uc120\\uba85=50-5<br>\\uc2dc\\uac04=%{x}<br>\\uc774\\uc6a9\\ub7c9=%{y}\", \"legendgroup\": \"\\ub178\\uc120\\uba85=50-5\", \"marker\": {\"color\": \"#EF553B\", \"symbol\": \"circle\"}, \"mode\": \"markers\", \"name\": \"\\ub178\\uc120\\uba85=50-5\", \"showlegend\": true, \"type\": \"scattergl\", \"x\": [7, 8, 11, 12, 13, 14, 15, 16, 18, 19, 20, 21], \"xaxis\": \"x\", \"y\": [5, 5, 4, 1, 2, 1, 1, 4, 5, 2, 4, 2], \"yaxis\": \"y\"}, {\"hoverlabel\": {\"namelength\": 0}, \"hovertemplate\": \"\\ub178\\uc120\\uba85=50-6<br>\\uc2dc\\uac04=%{x}<br>\\uc774\\uc6a9\\ub7c9=%{y}\", \"legendgroup\": \"\\ub178\\uc120\\uba85=50-6\", \"marker\": {\"color\": \"#00cc96\", \"symbol\": \"circle\"}, \"mode\": \"markers\", \"name\": \"\\ub178\\uc120\\uba85=50-6\", \"showlegend\": true, \"type\": \"scattergl\", \"x\": [14, 17], \"xaxis\": \"x\", \"y\": [2, 5], \"yaxis\": \"y\"}, {\"hoverlabel\": {\"namelength\": 0}, \"hovertemplate\": \"\\ub178\\uc120\\uba85=50-9<br>\\uc2dc\\uac04=%{x}<br>\\uc774\\uc6a9\\ub7c9=%{y}\", \"legendgroup\": \"\\ub178\\uc120\\uba85=50-9\", \"marker\": {\"color\": \"#ab63fa\", \"symbol\": \"circle\"}, \"mode\": \"markers\", \"name\": \"\\ub178\\uc120\\uba85=50-9\", \"showlegend\": true, \"type\": \"scattergl\", \"x\": [6, 7], \"xaxis\": \"x\", \"y\": [1, 1], \"yaxis\": \"y\"}, {\"hoverlabel\": {\"namelength\": 0}, \"hovertemplate\": \"\\ub178\\uc120\\uba85=500<br>\\uc2dc\\uac04=%{x}<br>\\uc774\\uc6a9\\ub7c9=%{y}\", \"legendgroup\": \"\\ub178\\uc120\\uba85=500\", \"marker\": {\"color\": \"#FFA15A\", \"symbol\": \"circle\"}, \"mode\": \"markers\", \"name\": \"\\ub178\\uc120\\uba85=500\", \"showlegend\": true, \"type\": \"scattergl\", \"x\": [18], \"xaxis\": \"x\", \"y\": [1], \"yaxis\": \"y\"}, {\"hoverlabel\": {\"namelength\": 0}, \"hovertemplate\": \"\\ub178\\uc120\\uba85=500-1<br>\\uc2dc\\uac04=%{x}<br>\\uc774\\uc6a9\\ub7c9=%{y}\", \"legendgroup\": \"\\ub178\\uc120\\uba85=500-1\", \"marker\": {\"color\": \"#19d3f3\", \"symbol\": \"circle\"}, \"mode\": \"markers\", \"name\": \"\\ub178\\uc120\\uba85=500-1\", \"showlegend\": true, \"type\": \"scattergl\", \"x\": [7, 9, 12, 18, 22], \"xaxis\": \"x\", \"y\": [1, 1, 1, 1, 1], \"yaxis\": \"y\"}, {\"hoverlabel\": {\"namelength\": 0}, \"hovertemplate\": \"\\ub178\\uc120\\uba85=500-2<br>\\uc2dc\\uac04=%{x}<br>\\uc774\\uc6a9\\ub7c9=%{y}\", \"legendgroup\": \"\\ub178\\uc120\\uba85=500-2\", \"marker\": {\"color\": \"#FF6692\", \"symbol\": \"circle\"}, \"mode\": \"markers\", \"name\": \"\\ub178\\uc120\\uba85=500-2\", \"showlegend\": true, \"type\": \"scattergl\", \"x\": [7, 17], \"xaxis\": \"x\", \"y\": [1, 2], \"yaxis\": \"y\"}, {\"hoverlabel\": {\"namelength\": 0}, \"hovertemplate\": \"\\ub178\\uc120\\uba85=500-5<br>\\uc2dc\\uac04=%{x}<br>\\uc774\\uc6a9\\ub7c9=%{y}\", \"legendgroup\": \"\\ub178\\uc120\\uba85=500-5\", \"marker\": {\"color\": \"#B6E880\", \"symbol\": \"circle\"}, \"mode\": \"markers\", \"name\": \"\\ub178\\uc120\\uba85=500-5\", \"showlegend\": true, \"type\": \"scattergl\", \"x\": [4, 5, 6, 7, 8, 16, 17, 18, 19, 20], \"xaxis\": \"x\", \"y\": [3, 2, 3, 2, 2, 1, 2, 6, 3, 2], \"yaxis\": \"y\"}, {\"hoverlabel\": {\"namelength\": 0}, \"hovertemplate\": \"\\ub178\\uc120\\uba85=5000<br>\\uc2dc\\uac04=%{x}<br>\\uc774\\uc6a9\\ub7c9=%{y}\", \"legendgroup\": \"\\ub178\\uc120\\uba85=5000\", \"marker\": {\"color\": \"#FF97FF\", \"symbol\": \"circle\"}, \"mode\": \"markers\", \"name\": \"\\ub178\\uc120\\uba85=5000\", \"showlegend\": true, \"type\": \"scattergl\", \"x\": [16, 17, 18, 19, 21], \"xaxis\": \"x\", \"y\": [1, 1, 2, 3, 3], \"yaxis\": \"y\"}, {\"hoverlabel\": {\"namelength\": 0}, \"hovertemplate\": \"\\ub178\\uc120\\uba85=5001<br>\\uc2dc\\uac04=%{x}<br>\\uc774\\uc6a9\\ub7c9=%{y}\", \"legendgroup\": \"\\ub178\\uc120\\uba85=5001\", \"marker\": {\"color\": \"#FECB52\", \"symbol\": \"circle\"}, \"mode\": \"markers\", \"name\": \"\\ub178\\uc120\\uba85=5001\", \"showlegend\": true, \"type\": \"scattergl\", \"x\": [21], \"xaxis\": \"x\", \"y\": [1], \"yaxis\": \"y\"}, {\"hoverlabel\": {\"namelength\": 0}, \"hovertemplate\": \"\\ub178\\uc120\\uba85=5001-1<br>\\uc2dc\\uac04=%{x}<br>\\uc774\\uc6a9\\ub7c9=%{y}\", \"legendgroup\": \"\\ub178\\uc120\\uba85=5001-1\", \"marker\": {\"color\": \"#636efa\", \"symbol\": \"circle\"}, \"mode\": \"markers\", \"name\": \"\\ub178\\uc120\\uba85=5001-1\", \"showlegend\": true, \"type\": \"scattergl\", \"x\": [7, 8, 10, 11, 13, 14, 15, 17, 18, 19, 20, 21, 22], \"xaxis\": \"x\", \"y\": [1, 1, 2, 1, 1, 4, 5, 4, 4, 1, 3, 2, 1], \"yaxis\": \"y\"}, {\"hoverlabel\": {\"namelength\": 0}, \"hovertemplate\": \"\\ub178\\uc120\\uba85=5003<br>\\uc2dc\\uac04=%{x}<br>\\uc774\\uc6a9\\ub7c9=%{y}\", \"legendgroup\": \"\\ub178\\uc120\\uba85=5003\", \"marker\": {\"color\": \"#EF553B\", \"symbol\": \"circle\"}, \"mode\": \"markers\", \"name\": \"\\ub178\\uc120\\uba85=5003\", \"showlegend\": true, \"type\": \"scattergl\", \"x\": [13, 16, 18, 19, 21], \"xaxis\": \"x\", \"y\": [1, 1, 4, 2, 1], \"yaxis\": \"y\"}, {\"hoverlabel\": {\"namelength\": 0}, \"hovertemplate\": \"\\ub178\\uc120\\uba85=5005<br>\\uc2dc\\uac04=%{x}<br>\\uc774\\uc6a9\\ub7c9=%{y}\", \"legendgroup\": \"\\ub178\\uc120\\uba85=5005\", \"marker\": {\"color\": \"#00cc96\", \"symbol\": \"circle\"}, \"mode\": \"markers\", \"name\": \"\\ub178\\uc120\\uba85=5005\", \"showlegend\": true, \"type\": \"scattergl\", \"x\": [8, 11, 16, 17, 18, 20, 21], \"xaxis\": \"x\", \"y\": [1, 2, 1, 3, 1, 3, 1], \"yaxis\": \"y\"}, {\"hoverlabel\": {\"namelength\": 0}, \"hovertemplate\": \"\\ub178\\uc120\\uba85=5006<br>\\uc2dc\\uac04=%{x}<br>\\uc774\\uc6a9\\ub7c9=%{y}\", \"legendgroup\": \"\\ub178\\uc120\\uba85=5006\", \"marker\": {\"color\": \"#ab63fa\", \"symbol\": \"circle\"}, \"mode\": \"markers\", \"name\": \"\\ub178\\uc120\\uba85=5006\", \"showlegend\": true, \"type\": \"scattergl\", \"x\": [8, 12, 15, 17, 18, 19, 20, 21], \"xaxis\": \"x\", \"y\": [1, 1, 1, 2, 3, 2, 1, 1], \"yaxis\": \"y\"}, {\"hoverlabel\": {\"namelength\": 0}, \"hovertemplate\": \"\\ub178\\uc120\\uba85=5007<br>\\uc2dc\\uac04=%{x}<br>\\uc774\\uc6a9\\ub7c9=%{y}\", \"legendgroup\": \"\\ub178\\uc120\\uba85=5007\", \"marker\": {\"color\": \"#FFA15A\", \"symbol\": \"circle\"}, \"mode\": \"markers\", \"name\": \"\\ub178\\uc120\\uba85=5007\", \"showlegend\": true, \"type\": \"scattergl\", \"x\": [13, 15, 17, 18, 20, 21, 22, 23], \"xaxis\": \"x\", \"y\": [1, 1, 2, 4, 1, 1, 3, 1], \"yaxis\": \"y\"}, {\"hoverlabel\": {\"namelength\": 0}, \"hovertemplate\": \"\\ub178\\uc120\\uba85=501A<br>\\uc2dc\\uac04=%{x}<br>\\uc774\\uc6a9\\ub7c9=%{y}\", \"legendgroup\": \"\\ub178\\uc120\\uba85=501A\", \"marker\": {\"color\": \"#19d3f3\", \"symbol\": \"circle\"}, \"mode\": \"markers\", \"name\": \"\\ub178\\uc120\\uba85=501A\", \"showlegend\": true, \"type\": \"scattergl\", \"x\": [8, 12], \"xaxis\": \"x\", \"y\": [1, 1], \"yaxis\": \"y\"}, {\"hoverlabel\": {\"namelength\": 0}, \"hovertemplate\": \"\\ub178\\uc120\\uba85=501B<br>\\uc2dc\\uac04=%{x}<br>\\uc774\\uc6a9\\ub7c9=%{y}\", \"legendgroup\": \"\\ub178\\uc120\\uba85=501B\", \"marker\": {\"color\": \"#FF6692\", \"symbol\": \"circle\"}, \"mode\": \"markers\", \"name\": \"\\ub178\\uc120\\uba85=501B\", \"showlegend\": true, \"type\": \"scattergl\", \"x\": [13], \"xaxis\": \"x\", \"y\": [1], \"yaxis\": \"y\"}, {\"hoverlabel\": {\"namelength\": 0}, \"hovertemplate\": \"\\ub178\\uc120\\uba85=51<br>\\uc2dc\\uac04=%{x}<br>\\uc774\\uc6a9\\ub7c9=%{y}\", \"legendgroup\": \"\\ub178\\uc120\\uba85=51\", \"marker\": {\"color\": \"#B6E880\", \"symbol\": \"circle\"}, \"mode\": \"markers\", \"name\": \"\\ub178\\uc120\\uba85=51\", \"showlegend\": true, \"type\": \"scattergl\", \"x\": [4, 5, 6, 7, 8, 9, 10, 11, 12, 13, 14, 15, 16, 17, 18, 19, 20, 21, 22, 23], \"xaxis\": \"x\", \"y\": [1, 70, 88, 166, 201, 96, 93, 77, 130, 191, 101, 127, 111, 210, 174, 117, 104, 127, 106, 26], \"yaxis\": \"y\"}, {\"hoverlabel\": {\"namelength\": 0}, \"hovertemplate\": \"\\ub178\\uc120\\uba85=510<br>\\uc2dc\\uac04=%{x}<br>\\uc774\\uc6a9\\ub7c9=%{y}\", \"legendgroup\": \"\\ub178\\uc120\\uba85=510\", \"marker\": {\"color\": \"#FF97FF\", \"symbol\": \"circle\"}, \"mode\": \"markers\", \"name\": \"\\ub178\\uc120\\uba85=510\", \"showlegend\": true, \"type\": \"scattergl\", \"x\": [12, 17, 18], \"xaxis\": \"x\", \"y\": [1, 1, 1], \"yaxis\": \"y\"}, {\"hoverlabel\": {\"namelength\": 0}, \"hovertemplate\": \"\\ub178\\uc120\\uba85=5100<br>\\uc2dc\\uac04=%{x}<br>\\uc774\\uc6a9\\ub7c9=%{y}\", \"legendgroup\": \"\\ub178\\uc120\\uba85=5100\", \"marker\": {\"color\": \"#FECB52\", \"symbol\": \"circle\"}, \"mode\": \"markers\", \"name\": \"\\ub178\\uc120\\uba85=5100\", \"showlegend\": true, \"type\": \"scattergl\", \"x\": [6, 7, 8, 11, 12, 13, 14, 15, 16, 17, 18, 19, 20, 21, 22, 23], \"xaxis\": \"x\", \"y\": [1, 1, 1, 1, 3, 6, 12, 6, 8, 9, 38, 17, 17, 15, 23, 5], \"yaxis\": \"y\"}, {\"hoverlabel\": {\"namelength\": 0}, \"hovertemplate\": \"\\ub178\\uc120\\uba85=511<br>\\uc2dc\\uac04=%{x}<br>\\uc774\\uc6a9\\ub7c9=%{y}\", \"legendgroup\": \"\\ub178\\uc120\\uba85=511\", \"marker\": {\"color\": \"#636efa\", \"symbol\": \"circle\"}, \"mode\": \"markers\", \"name\": \"\\ub178\\uc120\\uba85=511\", \"showlegend\": true, \"type\": \"scattergl\", \"x\": [6, 7, 9, 13, 18, 19, 20, 21], \"xaxis\": \"x\", \"y\": [1, 4, 3, 3, 2, 1, 1, 2], \"yaxis\": \"y\"}, {\"hoverlabel\": {\"namelength\": 0}, \"hovertemplate\": \"\\ub178\\uc120\\uba85=52<br>\\uc2dc\\uac04=%{x}<br>\\uc774\\uc6a9\\ub7c9=%{y}\", \"legendgroup\": \"\\ub178\\uc120\\uba85=52\", \"marker\": {\"color\": \"#EF553B\", \"symbol\": \"circle\"}, \"mode\": \"markers\", \"name\": \"\\ub178\\uc120\\uba85=52\", \"showlegend\": true, \"type\": \"scattergl\", \"x\": [4, 5, 6, 7, 8, 9, 10, 11, 12, 13, 14, 15, 16, 17, 18, 19, 20, 21, 22, 23], \"xaxis\": \"x\", \"y\": [1, 4, 11, 19, 15, 4, 3, 3, 4, 6, 6, 5, 6, 11, 10, 8, 3, 5, 1, 1], \"yaxis\": \"y\"}, {\"hoverlabel\": {\"namelength\": 0}, \"hovertemplate\": \"\\ub178\\uc120\\uba85=52-1<br>\\uc2dc\\uac04=%{x}<br>\\uc774\\uc6a9\\ub7c9=%{y}\", \"legendgroup\": \"\\ub178\\uc120\\uba85=52-1\", \"marker\": {\"color\": \"#00cc96\", \"symbol\": \"circle\"}, \"mode\": \"markers\", \"name\": \"\\ub178\\uc120\\uba85=52-1\", \"showlegend\": true, \"type\": \"scattergl\", \"x\": [6, 7, 8, 9, 15, 16, 21, 22], \"xaxis\": \"x\", \"y\": [1, 2, 2, 1, 4, 5, 1, 1], \"yaxis\": \"y\"}, {\"hoverlabel\": {\"namelength\": 0}, \"hovertemplate\": \"\\ub178\\uc120\\uba85=520<br>\\uc2dc\\uac04=%{x}<br>\\uc774\\uc6a9\\ub7c9=%{y}\", \"legendgroup\": \"\\ub178\\uc120\\uba85=520\", \"marker\": {\"color\": \"#ab63fa\", \"symbol\": \"circle\"}, \"mode\": \"markers\", \"name\": \"\\ub178\\uc120\\uba85=520\", \"showlegend\": true, \"type\": \"scattergl\", \"x\": [6, 7, 8, 9, 10, 11, 12, 13, 14, 15, 17, 18, 19, 20, 21, 22], \"xaxis\": \"x\", \"y\": [4, 9, 2, 1, 4, 3, 2, 3, 4, 1, 5, 5, 5, 2, 2, 3], \"yaxis\": \"y\"}, {\"hoverlabel\": {\"namelength\": 0}, \"hovertemplate\": \"\\ub178\\uc120\\uba85=521<br>\\uc2dc\\uac04=%{x}<br>\\uc774\\uc6a9\\ub7c9=%{y}\", \"legendgroup\": \"\\ub178\\uc120\\uba85=521\", \"marker\": {\"color\": \"#FFA15A\", \"symbol\": \"circle\"}, \"mode\": \"markers\", \"name\": \"\\ub178\\uc120\\uba85=521\", \"showlegend\": true, \"type\": \"scattergl\", \"x\": [6, 7, 8, 11, 12, 14, 16, 18, 19, 21, 22], \"xaxis\": \"x\", \"y\": [3, 4, 3, 1, 1, 2, 1, 1, 1, 1, 2], \"yaxis\": \"y\"}, {\"hoverlabel\": {\"namelength\": 0}, \"hovertemplate\": \"\\ub178\\uc120\\uba85=522<br>\\uc2dc\\uac04=%{x}<br>\\uc774\\uc6a9\\ub7c9=%{y}\", \"legendgroup\": \"\\ub178\\uc120\\uba85=522\", \"marker\": {\"color\": \"#19d3f3\", \"symbol\": \"circle\"}, \"mode\": \"markers\", \"name\": \"\\ub178\\uc120\\uba85=522\", \"showlegend\": true, \"type\": \"scattergl\", \"x\": [7, 8, 13], \"xaxis\": \"x\", \"y\": [2, 1, 1], \"yaxis\": \"y\"}, {\"hoverlabel\": {\"namelength\": 0}, \"hovertemplate\": \"\\ub178\\uc120\\uba85=53<br>\\uc2dc\\uac04=%{x}<br>\\uc774\\uc6a9\\ub7c9=%{y}\", \"legendgroup\": \"\\ub178\\uc120\\uba85=53\", \"marker\": {\"color\": \"#FF6692\", \"symbol\": \"circle\"}, \"mode\": \"markers\", \"name\": \"\\ub178\\uc120\\uba85=53\", \"showlegend\": true, \"type\": \"scattergl\", \"x\": [5, 13], \"xaxis\": \"x\", \"y\": [1, 1], \"yaxis\": \"y\"}, {\"hoverlabel\": {\"namelength\": 0}, \"hovertemplate\": \"\\ub178\\uc120\\uba85=5300<br>\\uc2dc\\uac04=%{x}<br>\\uc774\\uc6a9\\ub7c9=%{y}\", \"legendgroup\": \"\\ub178\\uc120\\uba85=5300\", \"marker\": {\"color\": \"#B6E880\", \"symbol\": \"circle\"}, \"mode\": \"markers\", \"name\": \"\\ub178\\uc120\\uba85=5300\", \"showlegend\": true, \"type\": \"scattergl\", \"x\": [6, 8, 12, 13, 14, 15, 16, 17, 18, 19, 20, 21, 22, 23], \"xaxis\": \"x\", \"y\": [1, 1, 2, 2, 4, 3, 2, 6, 9, 11, 11, 5, 8, 1], \"yaxis\": \"y\"}, {\"hoverlabel\": {\"namelength\": 0}, \"hovertemplate\": \"\\ub178\\uc120\\uba85=5300-1<br>\\uc2dc\\uac04=%{x}<br>\\uc774\\uc6a9\\ub7c9=%{y}\", \"legendgroup\": \"\\ub178\\uc120\\uba85=5300-1\", \"marker\": {\"color\": \"#FF97FF\", \"symbol\": \"circle\"}, \"mode\": \"markers\", \"name\": \"\\ub178\\uc120\\uba85=5300-1\", \"showlegend\": true, \"type\": \"scattergl\", \"x\": [17], \"xaxis\": \"x\", \"y\": [1], \"yaxis\": \"y\"}, {\"hoverlabel\": {\"namelength\": 0}, \"hovertemplate\": \"\\ub178\\uc120\\uba85=54<br>\\uc2dc\\uac04=%{x}<br>\\uc774\\uc6a9\\ub7c9=%{y}\", \"legendgroup\": \"\\ub178\\uc120\\uba85=54\", \"marker\": {\"color\": \"#FECB52\", \"symbol\": \"circle\"}, \"mode\": \"markers\", \"name\": \"\\ub178\\uc120\\uba85=54\", \"showlegend\": true, \"type\": \"scattergl\", \"x\": [7, 9, 10, 11, 13, 14, 16, 18], \"xaxis\": \"x\", \"y\": [2, 1, 2, 1, 5, 1, 3, 4], \"yaxis\": \"y\"}, {\"hoverlabel\": {\"namelength\": 0}, \"hovertemplate\": \"\\ub178\\uc120\\uba85=55<br>\\uc2dc\\uac04=%{x}<br>\\uc774\\uc6a9\\ub7c9=%{y}\", \"legendgroup\": \"\\ub178\\uc120\\uba85=55\", \"marker\": {\"color\": \"#636efa\", \"symbol\": \"circle\"}, \"mode\": \"markers\", \"name\": \"\\ub178\\uc120\\uba85=55\", \"showlegend\": true, \"type\": \"scattergl\", \"x\": [4, 5, 6, 7, 8, 9, 10, 11, 12, 13, 14, 15, 16, 17, 18, 19, 20, 21, 22, 23], \"xaxis\": \"x\", \"y\": [3, 6, 15, 10, 15, 6, 2, 7, 6, 6, 5, 3, 10, 18, 18, 10, 5, 10, 6, 1], \"yaxis\": \"y\"}, {\"hoverlabel\": {\"namelength\": 0}, \"hovertemplate\": \"\\ub178\\uc120\\uba85=55-1<br>\\uc2dc\\uac04=%{x}<br>\\uc774\\uc6a9\\ub7c9=%{y}\", \"legendgroup\": \"\\ub178\\uc120\\uba85=55-1\", \"marker\": {\"color\": \"#EF553B\", \"symbol\": \"circle\"}, \"mode\": \"markers\", \"name\": \"\\ub178\\uc120\\uba85=55-1\", \"showlegend\": true, \"type\": \"scattergl\", \"x\": [6, 7, 18, 20, 21], \"xaxis\": \"x\", \"y\": [1, 1, 1, 1, 1], \"yaxis\": \"y\"}, {\"hoverlabel\": {\"namelength\": 0}, \"hovertemplate\": \"\\ub178\\uc120\\uba85=5500-1<br>\\uc2dc\\uac04=%{x}<br>\\uc774\\uc6a9\\ub7c9=%{y}\", \"legendgroup\": \"\\ub178\\uc120\\uba85=5500-1\", \"marker\": {\"color\": \"#00cc96\", \"symbol\": \"circle\"}, \"mode\": \"markers\", \"name\": \"\\ub178\\uc120\\uba85=5500-1\", \"showlegend\": true, \"type\": \"scattergl\", \"x\": [8, 16, 17, 19, 20, 21], \"xaxis\": \"x\", \"y\": [1, 1, 1, 2, 1, 1], \"yaxis\": \"y\"}, {\"hoverlabel\": {\"namelength\": 0}, \"hovertemplate\": \"\\ub178\\uc120\\uba85=5500-2<br>\\uc2dc\\uac04=%{x}<br>\\uc774\\uc6a9\\ub7c9=%{y}\", \"legendgroup\": \"\\ub178\\uc120\\uba85=5500-2\", \"marker\": {\"color\": \"#ab63fa\", \"symbol\": \"circle\"}, \"mode\": \"markers\", \"name\": \"\\ub178\\uc120\\uba85=5500-2\", \"showlegend\": true, \"type\": \"scattergl\", \"x\": [9, 12, 15, 16, 19, 21, 22], \"xaxis\": \"x\", \"y\": [1, 1, 1, 1, 1, 2, 1], \"yaxis\": \"y\"}, {\"hoverlabel\": {\"namelength\": 0}, \"hovertemplate\": \"\\ub178\\uc120\\uba85=56<br>\\uc2dc\\uac04=%{x}<br>\\uc774\\uc6a9\\ub7c9=%{y}\", \"legendgroup\": \"\\ub178\\uc120\\uba85=56\", \"marker\": {\"color\": \"#FFA15A\", \"symbol\": \"circle\"}, \"mode\": \"markers\", \"name\": \"\\ub178\\uc120\\uba85=56\", \"showlegend\": true, \"type\": \"scattergl\", \"x\": [6], \"xaxis\": \"x\", \"y\": [1], \"yaxis\": \"y\"}, {\"hoverlabel\": {\"namelength\": 0}, \"hovertemplate\": \"\\ub178\\uc120\\uba85=56-1<br>\\uc2dc\\uac04=%{x}<br>\\uc774\\uc6a9\\ub7c9=%{y}\", \"legendgroup\": \"\\ub178\\uc120\\uba85=56-1\", \"marker\": {\"color\": \"#19d3f3\", \"symbol\": \"circle\"}, \"mode\": \"markers\", \"name\": \"\\ub178\\uc120\\uba85=56-1\", \"showlegend\": true, \"type\": \"scattergl\", \"x\": [7, 8, 19], \"xaxis\": \"x\", \"y\": [1, 1, 1], \"yaxis\": \"y\"}, {\"hoverlabel\": {\"namelength\": 0}, \"hovertemplate\": \"\\ub178\\uc120\\uba85=5600<br>\\uc2dc\\uac04=%{x}<br>\\uc774\\uc6a9\\ub7c9=%{y}\", \"legendgroup\": \"\\ub178\\uc120\\uba85=5600\", \"marker\": {\"color\": \"#FF6692\", \"symbol\": \"circle\"}, \"mode\": \"markers\", \"name\": \"\\ub178\\uc120\\uba85=5600\", \"showlegend\": true, \"type\": \"scattergl\", \"x\": [10, 14, 15, 17, 18, 19, 20, 21], \"xaxis\": \"x\", \"y\": [2, 1, 1, 5, 3, 4, 4, 1], \"yaxis\": \"y\"}, {\"hoverlabel\": {\"namelength\": 0}, \"hovertemplate\": \"\\ub178\\uc120\\uba85=5601<br>\\uc2dc\\uac04=%{x}<br>\\uc774\\uc6a9\\ub7c9=%{y}\", \"legendgroup\": \"\\ub178\\uc120\\uba85=5601\", \"marker\": {\"color\": \"#B6E880\", \"symbol\": \"circle\"}, \"mode\": \"markers\", \"name\": \"\\ub178\\uc120\\uba85=5601\", \"showlegend\": true, \"type\": \"scattergl\", \"x\": [7], \"xaxis\": \"x\", \"y\": [1], \"yaxis\": \"y\"}, {\"hoverlabel\": {\"namelength\": 0}, \"hovertemplate\": \"\\ub178\\uc120\\uba85=5602<br>\\uc2dc\\uac04=%{x}<br>\\uc774\\uc6a9\\ub7c9=%{y}\", \"legendgroup\": \"\\ub178\\uc120\\uba85=5602\", \"marker\": {\"color\": \"#FF97FF\", \"symbol\": \"circle\"}, \"mode\": \"markers\", \"name\": \"\\ub178\\uc120\\uba85=5602\", \"showlegend\": true, \"type\": \"scattergl\", \"x\": [7, 8, 9, 13, 14, 17, 18, 19], \"xaxis\": \"x\", \"y\": [2, 1, 1, 1, 1, 1, 1, 1], \"yaxis\": \"y\"}, {\"hoverlabel\": {\"namelength\": 0}, \"hovertemplate\": \"\\ub178\\uc120\\uba85=5604<br>\\uc2dc\\uac04=%{x}<br>\\uc774\\uc6a9\\ub7c9=%{y}\", \"legendgroup\": \"\\ub178\\uc120\\uba85=5604\", \"marker\": {\"color\": \"#FECB52\", \"symbol\": \"circle\"}, \"mode\": \"markers\", \"name\": \"\\ub178\\uc120\\uba85=5604\", \"showlegend\": true, \"type\": \"scattergl\", \"x\": [5, 7, 13, 18, 21], \"xaxis\": \"x\", \"y\": [1, 2, 1, 1, 1], \"yaxis\": \"y\"}, {\"hoverlabel\": {\"namelength\": 0}, \"hovertemplate\": \"\\ub178\\uc120\\uba85=5609<br>\\uc2dc\\uac04=%{x}<br>\\uc774\\uc6a9\\ub7c9=%{y}\", \"legendgroup\": \"\\ub178\\uc120\\uba85=5609\", \"marker\": {\"color\": \"#636efa\", \"symbol\": \"circle\"}, \"mode\": \"markers\", \"name\": \"\\ub178\\uc120\\uba85=5609\", \"showlegend\": true, \"type\": \"scattergl\", \"x\": [7, 20], \"xaxis\": \"x\", \"y\": [1, 1], \"yaxis\": \"y\"}, {\"hoverlabel\": {\"namelength\": 0}, \"hovertemplate\": \"\\ub178\\uc120\\uba85=57<br>\\uc2dc\\uac04=%{x}<br>\\uc774\\uc6a9\\ub7c9=%{y}\", \"legendgroup\": \"\\ub178\\uc120\\uba85=57\", \"marker\": {\"color\": \"#EF553B\", \"symbol\": \"circle\"}, \"mode\": \"markers\", \"name\": \"\\ub178\\uc120\\uba85=57\", \"showlegend\": true, \"type\": \"scattergl\", \"x\": [5, 6, 7, 8, 9, 10, 11, 12, 13, 14, 15, 16, 17, 18, 19, 20, 21, 22], \"xaxis\": \"x\", \"y\": [4, 5, 5, 5, 9, 5, 6, 17, 6, 8, 4, 4, 10, 17, 6, 6, 2, 5], \"yaxis\": \"y\"}, {\"hoverlabel\": {\"namelength\": 0}, \"hovertemplate\": \"\\ub178\\uc120\\uba85=57-1<br>\\uc2dc\\uac04=%{x}<br>\\uc774\\uc6a9\\ub7c9=%{y}\", \"legendgroup\": \"\\ub178\\uc120\\uba85=57-1\", \"marker\": {\"color\": \"#00cc96\", \"symbol\": \"circle\"}, \"mode\": \"markers\", \"name\": \"\\ub178\\uc120\\uba85=57-1\", \"showlegend\": true, \"type\": \"scattergl\", \"x\": [5], \"xaxis\": \"x\", \"y\": [2], \"yaxis\": \"y\"}, {\"hoverlabel\": {\"namelength\": 0}, \"hovertemplate\": \"\\ub178\\uc120\\uba85=5700<br>\\uc2dc\\uac04=%{x}<br>\\uc774\\uc6a9\\ub7c9=%{y}\", \"legendgroup\": \"\\ub178\\uc120\\uba85=5700\", \"marker\": {\"color\": \"#ab63fa\", \"symbol\": \"circle\"}, \"mode\": \"markers\", \"name\": \"\\ub178\\uc120\\uba85=5700\", \"showlegend\": true, \"type\": \"scattergl\", \"x\": [20], \"xaxis\": \"x\", \"y\": [1], \"yaxis\": \"y\"}, {\"hoverlabel\": {\"namelength\": 0}, \"hovertemplate\": \"\\ub178\\uc120\\uba85=58-1<br>\\uc2dc\\uac04=%{x}<br>\\uc774\\uc6a9\\ub7c9=%{y}\", \"legendgroup\": \"\\ub178\\uc120\\uba85=58-1\", \"marker\": {\"color\": \"#FFA15A\", \"symbol\": \"circle\"}, \"mode\": \"markers\", \"name\": \"\\ub178\\uc120\\uba85=58-1\", \"showlegend\": true, \"type\": \"scattergl\", \"x\": [10, 14], \"xaxis\": \"x\", \"y\": [1, 1], \"yaxis\": \"y\"}, {\"hoverlabel\": {\"namelength\": 0}, \"hovertemplate\": \"\\ub178\\uc120\\uba85=6<br>\\uc2dc\\uac04=%{x}<br>\\uc774\\uc6a9\\ub7c9=%{y}\", \"legendgroup\": \"\\ub178\\uc120\\uba85=6\", \"marker\": {\"color\": \"#19d3f3\", \"symbol\": \"circle\"}, \"mode\": \"markers\", \"name\": \"\\ub178\\uc120\\uba85=6\", \"showlegend\": true, \"type\": \"scattergl\", \"x\": [5, 6, 7, 8, 9, 10, 11, 12, 13, 14, 15, 16, 18, 19, 20, 21, 22], \"xaxis\": \"x\", \"y\": [1, 5, 7, 7, 1, 2, 4, 3, 2, 1, 1, 14, 6, 1, 3, 2, 1], \"yaxis\": \"y\"}, {\"hoverlabel\": {\"namelength\": 0}, \"hovertemplate\": \"\\ub178\\uc120\\uba85=6-1<br>\\uc2dc\\uac04=%{x}<br>\\uc774\\uc6a9\\ub7c9=%{y}\", \"legendgroup\": \"\\ub178\\uc120\\uba85=6-1\", \"marker\": {\"color\": \"#FF6692\", \"symbol\": \"circle\"}, \"mode\": \"markers\", \"name\": \"\\ub178\\uc120\\uba85=6-1\", \"showlegend\": true, \"type\": \"scattergl\", \"x\": [6, 7, 8, 16], \"xaxis\": \"x\", \"y\": [1, 1, 1, 1], \"yaxis\": \"y\"}, {\"hoverlabel\": {\"namelength\": 0}, \"hovertemplate\": \"\\ub178\\uc120\\uba85=6-2<br>\\uc2dc\\uac04=%{x}<br>\\uc774\\uc6a9\\ub7c9=%{y}\", \"legendgroup\": \"\\ub178\\uc120\\uba85=6-2\", \"marker\": {\"color\": \"#B6E880\", \"symbol\": \"circle\"}, \"mode\": \"markers\", \"name\": \"\\ub178\\uc120\\uba85=6-2\", \"showlegend\": true, \"type\": \"scattergl\", \"x\": [7, 13, 18], \"xaxis\": \"x\", \"y\": [1, 1, 2], \"yaxis\": \"y\"}, {\"hoverlabel\": {\"namelength\": 0}, \"hovertemplate\": \"\\ub178\\uc120\\uba85=6-3<br>\\uc2dc\\uac04=%{x}<br>\\uc774\\uc6a9\\ub7c9=%{y}\", \"legendgroup\": \"\\ub178\\uc120\\uba85=6-3\", \"marker\": {\"color\": \"#FF97FF\", \"symbol\": \"circle\"}, \"mode\": \"markers\", \"name\": \"\\ub178\\uc120\\uba85=6-3\", \"showlegend\": true, \"type\": \"scattergl\", \"x\": [7, 8, 10, 12, 13, 18, 19], \"xaxis\": \"x\", \"y\": [1, 2, 1, 1, 1, 1, 2], \"yaxis\": \"y\"}, {\"hoverlabel\": {\"namelength\": 0}, \"hovertemplate\": \"\\ub178\\uc120\\uba85=60<br>\\uc2dc\\uac04=%{x}<br>\\uc774\\uc6a9\\ub7c9=%{y}\", \"legendgroup\": \"\\ub178\\uc120\\uba85=60\", \"marker\": {\"color\": \"#FECB52\", \"symbol\": \"circle\"}, \"mode\": \"markers\", \"name\": \"\\ub178\\uc120\\uba85=60\", \"showlegend\": true, \"type\": \"scattergl\", \"x\": [4, 5, 6, 7, 8, 9, 10, 11, 12, 13, 14, 15, 16, 17, 18, 19, 20, 21, 22, 23], \"xaxis\": \"x\", \"y\": [1, 4, 10, 40, 28, 11, 18, 15, 16, 15, 15, 17, 22, 29, 35, 22, 29, 20, 18, 3], \"yaxis\": \"y\"}, {\"hoverlabel\": {\"namelength\": 0}, \"hovertemplate\": \"\\ub178\\uc120\\uba85=60-1<br>\\uc2dc\\uac04=%{x}<br>\\uc774\\uc6a9\\ub7c9=%{y}\", \"legendgroup\": \"\\ub178\\uc120\\uba85=60-1\", \"marker\": {\"color\": \"#636efa\", \"symbol\": \"circle\"}, \"mode\": \"markers\", \"name\": \"\\ub178\\uc120\\uba85=60-1\", \"showlegend\": true, \"type\": \"scattergl\", \"x\": [5, 6, 7, 8, 9, 10, 11, 12, 13, 16, 17, 18, 19, 20], \"xaxis\": \"x\", \"y\": [1, 2, 9, 2, 2, 2, 6, 1, 5, 1, 3, 4, 3, 6], \"yaxis\": \"y\"}, {\"hoverlabel\": {\"namelength\": 0}, \"hovertemplate\": \"\\ub178\\uc120\\uba85=6001<br>\\uc2dc\\uac04=%{x}<br>\\uc774\\uc6a9\\ub7c9=%{y}\", \"legendgroup\": \"\\ub178\\uc120\\uba85=6001\", \"marker\": {\"color\": \"#EF553B\", \"symbol\": \"circle\"}, \"mode\": \"markers\", \"name\": \"\\ub178\\uc120\\uba85=6001\", \"showlegend\": true, \"type\": \"scattergl\", \"x\": [6, 7, 9, 10, 13, 14, 15, 17, 18, 19, 20, 21, 22, 23], \"xaxis\": \"x\", \"y\": [3, 3, 1, 1, 1, 2, 1, 4, 1, 4, 2, 3, 2, 3], \"yaxis\": \"y\"}, {\"hoverlabel\": {\"namelength\": 0}, \"hovertemplate\": \"\\ub178\\uc120\\uba85=6002<br>\\uc2dc\\uac04=%{x}<br>\\uc774\\uc6a9\\ub7c9=%{y}\", \"legendgroup\": \"\\ub178\\uc120\\uba85=6002\", \"marker\": {\"color\": \"#00cc96\", \"symbol\": \"circle\"}, \"mode\": \"markers\", \"name\": \"\\ub178\\uc120\\uba85=6002\", \"showlegend\": true, \"type\": \"scattergl\", \"x\": [6, 9, 10, 11, 12, 16, 17, 18, 19, 20, 21, 22], \"xaxis\": \"x\", \"y\": [1, 3, 1, 1, 2, 2, 9, 9, 3, 2, 4, 1], \"yaxis\": \"y\"}, {\"hoverlabel\": {\"namelength\": 0}, \"hovertemplate\": \"\\ub178\\uc120\\uba85=6003<br>\\uc2dc\\uac04=%{x}<br>\\uc774\\uc6a9\\ub7c9=%{y}\", \"legendgroup\": \"\\ub178\\uc120\\uba85=6003\", \"marker\": {\"color\": \"#ab63fa\", \"symbol\": \"circle\"}, \"mode\": \"markers\", \"name\": \"\\ub178\\uc120\\uba85=6003\", \"showlegend\": true, \"type\": \"scattergl\", \"x\": [5, 6, 7, 8, 12, 13, 14, 15, 16, 17, 18, 19, 20, 21, 22, 23], \"xaxis\": \"x\", \"y\": [1, 1, 1, 3, 1, 2, 3, 3, 4, 16, 41, 14, 8, 13, 7, 1], \"yaxis\": \"y\"}, {\"hoverlabel\": {\"namelength\": 0}, \"hovertemplate\": \"\\ub178\\uc120\\uba85=61<br>\\uc2dc\\uac04=%{x}<br>\\uc774\\uc6a9\\ub7c9=%{y}\", \"legendgroup\": \"\\ub178\\uc120\\uba85=61\", \"marker\": {\"color\": \"#FFA15A\", \"symbol\": \"circle\"}, \"mode\": \"markers\", \"name\": \"\\ub178\\uc120\\uba85=61\", \"showlegend\": true, \"type\": \"scattergl\", \"x\": [5, 6, 7, 8, 9, 10, 11, 12, 13, 14, 15, 16, 17, 18, 19, 20, 21, 22, 23], \"xaxis\": \"x\", \"y\": [7, 10, 18, 26, 18, 20, 17, 23, 16, 21, 33, 20, 37, 33, 5, 18, 7, 13, 6], \"yaxis\": \"y\"}, {\"hoverlabel\": {\"namelength\": 0}, \"hovertemplate\": \"\\ub178\\uc120\\uba85=62<br>\\uc2dc\\uac04=%{x}<br>\\uc774\\uc6a9\\ub7c9=%{y}\", \"legendgroup\": \"\\ub178\\uc120\\uba85=62\", \"marker\": {\"color\": \"#19d3f3\", \"symbol\": \"circle\"}, \"mode\": \"markers\", \"name\": \"\\ub178\\uc120\\uba85=62\", \"showlegend\": true, \"type\": \"scattergl\", \"x\": [5, 6, 7, 8, 9, 10, 11, 13, 14, 15, 16, 17, 18, 19, 20, 21, 22], \"xaxis\": \"x\", \"y\": [2, 1, 8, 5, 4, 2, 3, 3, 3, 3, 1, 4, 3, 3, 1, 2, 1], \"yaxis\": \"y\"}, {\"hoverlabel\": {\"namelength\": 0}, \"hovertemplate\": \"\\ub178\\uc120\\uba85=62-1<br>\\uc2dc\\uac04=%{x}<br>\\uc774\\uc6a9\\ub7c9=%{y}\", \"legendgroup\": \"\\ub178\\uc120\\uba85=62-1\", \"marker\": {\"color\": \"#FF6692\", \"symbol\": \"circle\"}, \"mode\": \"markers\", \"name\": \"\\ub178\\uc120\\uba85=62-1\", \"showlegend\": true, \"type\": \"scattergl\", \"x\": [4, 5, 6, 7, 8, 9, 10, 11, 12, 13, 14, 15, 16, 17, 18, 19, 20, 21, 22, 23], \"xaxis\": \"x\", \"y\": [1, 216, 776, 1444, 1632, 959, 738, 865, 1002, 1115, 902, 1029, 1046, 1438, 1366, 943, 717, 815, 703, 227], \"yaxis\": \"y\"}, {\"hoverlabel\": {\"namelength\": 0}, \"hovertemplate\": \"\\ub178\\uc120\\uba85=63<br>\\uc2dc\\uac04=%{x}<br>\\uc774\\uc6a9\\ub7c9=%{y}\", \"legendgroup\": \"\\ub178\\uc120\\uba85=63\", \"marker\": {\"color\": \"#B6E880\", \"symbol\": \"circle\"}, \"mode\": \"markers\", \"name\": \"\\ub178\\uc120\\uba85=63\", \"showlegend\": true, \"type\": \"scattergl\", \"x\": [4, 5, 6, 7, 8, 9, 10, 11, 12, 13, 14, 15, 16, 17, 18, 19, 20, 21, 22, 23], \"xaxis\": \"x\", \"y\": [20, 44, 47, 108, 113, 85, 54, 46, 52, 74, 64, 57, 78, 105, 116, 67, 67, 50, 41, 35], \"yaxis\": \"y\"}, {\"hoverlabel\": {\"namelength\": 0}, \"hovertemplate\": \"\\ub178\\uc120\\uba85=63-1<br>\\uc2dc\\uac04=%{x}<br>\\uc774\\uc6a9\\ub7c9=%{y}\", \"legendgroup\": \"\\ub178\\uc120\\uba85=63-1\", \"marker\": {\"color\": \"#FF97FF\", \"symbol\": \"circle\"}, \"mode\": \"markers\", \"name\": \"\\ub178\\uc120\\uba85=63-1\", \"showlegend\": true, \"type\": \"scattergl\", \"x\": [6, 7, 8, 9, 10, 11, 12, 13, 14, 15, 17, 18, 19, 21, 22, 23], \"xaxis\": \"x\", \"y\": [2, 15, 19, 4, 1, 4, 3, 5, 4, 13, 1, 1, 1, 6, 2, 1], \"yaxis\": \"y\"}, {\"hoverlabel\": {\"namelength\": 0}, \"hovertemplate\": \"\\ub178\\uc120\\uba85=64<br>\\uc2dc\\uac04=%{x}<br>\\uc774\\uc6a9\\ub7c9=%{y}\", \"legendgroup\": \"\\ub178\\uc120\\uba85=64\", \"marker\": {\"color\": \"#FECB52\", \"symbol\": \"circle\"}, \"mode\": \"markers\", \"name\": \"\\ub178\\uc120\\uba85=64\", \"showlegend\": true, \"type\": \"scattergl\", \"x\": [4, 5, 6, 7, 8, 9, 10, 11, 12, 13, 14, 15, 16, 17, 18, 19, 20, 21, 22, 23], \"xaxis\": \"x\", \"y\": [5, 52, 146, 476, 612, 259, 195, 250, 279, 301, 268, 278, 249, 332, 439, 341, 275, 173, 105, 75], \"yaxis\": \"y\"}, {\"hoverlabel\": {\"namelength\": 0}, \"hovertemplate\": \"\\ub178\\uc120\\uba85=65<br>\\uc2dc\\uac04=%{x}<br>\\uc774\\uc6a9\\ub7c9=%{y}\", \"legendgroup\": \"\\ub178\\uc120\\uba85=65\", \"marker\": {\"color\": \"#636efa\", \"symbol\": \"circle\"}, \"mode\": \"markers\", \"name\": \"\\ub178\\uc120\\uba85=65\", \"showlegend\": true, \"type\": \"scattergl\", \"x\": [4, 5, 6, 7, 8, 9, 10, 11, 12, 13, 14, 15, 16, 17, 18, 19, 20, 21, 22, 23], \"xaxis\": \"x\", \"y\": [3, 21, 46, 79, 88, 68, 49, 53, 61, 63, 52, 70, 83, 84, 91, 52, 44, 53, 19, 3], \"yaxis\": \"y\"}, {\"hoverlabel\": {\"namelength\": 0}, \"hovertemplate\": \"\\ub178\\uc120\\uba85=6501<br>\\uc2dc\\uac04=%{x}<br>\\uc774\\uc6a9\\ub7c9=%{y}\", \"legendgroup\": \"\\ub178\\uc120\\uba85=6501\", \"marker\": {\"color\": \"#EF553B\", \"symbol\": \"circle\"}, \"mode\": \"markers\", \"name\": \"\\ub178\\uc120\\uba85=6501\", \"showlegend\": true, \"type\": \"scattergl\", \"x\": [17], \"xaxis\": \"x\", \"y\": [1], \"yaxis\": \"y\"}, {\"hoverlabel\": {\"namelength\": 0}, \"hovertemplate\": \"\\ub178\\uc120\\uba85=66<br>\\uc2dc\\uac04=%{x}<br>\\uc774\\uc6a9\\ub7c9=%{y}\", \"legendgroup\": \"\\ub178\\uc120\\uba85=66\", \"marker\": {\"color\": \"#00cc96\", \"symbol\": \"circle\"}, \"mode\": \"markers\", \"name\": \"\\ub178\\uc120\\uba85=66\", \"showlegend\": true, \"type\": \"scattergl\", \"x\": [4, 5, 6, 7, 8, 9, 10, 11, 12, 13, 14, 15, 16, 17, 18, 19, 20, 21, 22, 23], \"xaxis\": \"x\", \"y\": [8, 44, 23, 37, 51, 26, 29, 29, 37, 32, 15, 38, 33, 29, 58, 35, 24, 28, 13, 10], \"yaxis\": \"y\"}, {\"hoverlabel\": {\"namelength\": 0}, \"hovertemplate\": \"\\ub178\\uc120\\uba85=66-4<br>\\uc2dc\\uac04=%{x}<br>\\uc774\\uc6a9\\ub7c9=%{y}\", \"legendgroup\": \"\\ub178\\uc120\\uba85=66-4\", \"marker\": {\"color\": \"#ab63fa\", \"symbol\": \"circle\"}, \"mode\": \"markers\", \"name\": \"\\ub178\\uc120\\uba85=66-4\", \"showlegend\": true, \"type\": \"scattergl\", \"x\": [4, 5, 6, 7, 8, 9, 10, 11, 12, 13, 14, 15, 16, 17, 18, 19, 20, 21, 22, 23], \"xaxis\": \"x\", \"y\": [1, 23, 20, 42, 29, 37, 16, 15, 37, 36, 10, 31, 37, 46, 56, 17, 23, 32, 22, 11], \"yaxis\": \"y\"}, {\"hoverlabel\": {\"namelength\": 0}, \"hovertemplate\": \"\\ub178\\uc120\\uba85=660<br>\\uc2dc\\uac04=%{x}<br>\\uc774\\uc6a9\\ub7c9=%{y}\", \"legendgroup\": \"\\ub178\\uc120\\uba85=660\", \"marker\": {\"color\": \"#FFA15A\", \"symbol\": \"circle\"}, \"mode\": \"markers\", \"name\": \"\\ub178\\uc120\\uba85=660\", \"showlegend\": true, \"type\": \"scattergl\", \"x\": [5, 6, 7, 8, 9, 10, 11, 12, 13, 14, 15, 16, 17, 18, 19, 20, 21, 22, 23], \"xaxis\": \"x\", \"y\": [6, 3, 7, 6, 6, 2, 3, 7, 8, 3, 4, 18, 6, 5, 4, 2, 5, 4, 1], \"yaxis\": \"y\"}, {\"hoverlabel\": {\"namelength\": 0}, \"hovertemplate\": \"\\ub178\\uc120\\uba85=670<br>\\uc2dc\\uac04=%{x}<br>\\uc774\\uc6a9\\ub7c9=%{y}\", \"legendgroup\": \"\\ub178\\uc120\\uba85=670\", \"marker\": {\"color\": \"#19d3f3\", \"symbol\": \"circle\"}, \"mode\": \"markers\", \"name\": \"\\ub178\\uc120\\uba85=670\", \"showlegend\": true, \"type\": \"scattergl\", \"x\": [6, 7, 8, 9, 10, 11, 12, 13, 14, 15, 16, 17, 18, 19, 20, 21, 22, 23], \"xaxis\": \"x\", \"y\": [2, 5, 5, 6, 3, 1, 2, 1, 3, 9, 1, 2, 2, 1, 5, 2, 2, 1], \"yaxis\": \"y\"}, {\"hoverlabel\": {\"namelength\": 0}, \"hovertemplate\": \"\\ub178\\uc120\\uba85=68<br>\\uc2dc\\uac04=%{x}<br>\\uc774\\uc6a9\\ub7c9=%{y}\", \"legendgroup\": \"\\ub178\\uc120\\uba85=68\", \"marker\": {\"color\": \"#FF6692\", \"symbol\": \"circle\"}, \"mode\": \"markers\", \"name\": \"\\ub178\\uc120\\uba85=68\", \"showlegend\": true, \"type\": \"scattergl\", \"x\": [7, 8, 9, 10, 11, 12, 13, 14, 16, 17, 18, 19, 21], \"xaxis\": \"x\", \"y\": [3, 4, 1, 1, 1, 2, 2, 1, 1, 1, 2, 2, 3], \"yaxis\": \"y\"}, {\"hoverlabel\": {\"namelength\": 0}, \"hovertemplate\": \"\\ub178\\uc120\\uba85=690<br>\\uc2dc\\uac04=%{x}<br>\\uc774\\uc6a9\\ub7c9=%{y}\", \"legendgroup\": \"\\ub178\\uc120\\uba85=690\", \"marker\": {\"color\": \"#B6E880\", \"symbol\": \"circle\"}, \"mode\": \"markers\", \"name\": \"\\ub178\\uc120\\uba85=690\", \"showlegend\": true, \"type\": \"scattergl\", \"x\": [6, 7, 8, 9, 10, 11, 12, 13, 14, 16, 17, 18, 19, 20, 21, 22], \"xaxis\": \"x\", \"y\": [7, 10, 1, 3, 3, 2, 6, 1, 3, 3, 8, 9, 2, 1, 9, 4], \"yaxis\": \"y\"}, {\"hoverlabel\": {\"namelength\": 0}, \"hovertemplate\": \"\\ub178\\uc120\\uba85=6900<br>\\uc2dc\\uac04=%{x}<br>\\uc774\\uc6a9\\ub7c9=%{y}\", \"legendgroup\": \"\\ub178\\uc120\\uba85=6900\", \"marker\": {\"color\": \"#FF97FF\", \"symbol\": \"circle\"}, \"mode\": \"markers\", \"name\": \"\\ub178\\uc120\\uba85=6900\", \"showlegend\": true, \"type\": \"scattergl\", \"x\": [10, 12, 16, 17, 20], \"xaxis\": \"x\", \"y\": [1, 1, 1, 1, 2], \"yaxis\": \"y\"}, {\"hoverlabel\": {\"namelength\": 0}, \"hovertemplate\": \"\\ub178\\uc120\\uba85=7<br>\\uc2dc\\uac04=%{x}<br>\\uc774\\uc6a9\\ub7c9=%{y}\", \"legendgroup\": \"\\ub178\\uc120\\uba85=7\", \"marker\": {\"color\": \"#FECB52\", \"symbol\": \"circle\"}, \"mode\": \"markers\", \"name\": \"\\ub178\\uc120\\uba85=7\", \"showlegend\": true, \"type\": \"scattergl\", \"x\": [4, 5, 6, 7, 8, 9, 10, 11, 12, 13, 14, 15, 16, 17, 18, 19, 20, 21, 22, 23], \"xaxis\": \"x\", \"y\": [2, 55, 160, 347, 431, 229, 137, 183, 201, 285, 169, 196, 230, 254, 266, 206, 163, 107, 83, 28], \"yaxis\": \"y\"}, {\"hoverlabel\": {\"namelength\": 0}, \"hovertemplate\": \"\\ub178\\uc120\\uba85=7-1<br>\\uc2dc\\uac04=%{x}<br>\\uc774\\uc6a9\\ub7c9=%{y}\", \"legendgroup\": \"\\ub178\\uc120\\uba85=7-1\", \"marker\": {\"color\": \"#636efa\", \"symbol\": \"circle\"}, \"mode\": \"markers\", \"name\": \"\\ub178\\uc120\\uba85=7-1\", \"showlegend\": true, \"type\": \"scattergl\", \"x\": [5, 6, 7, 8, 9, 10, 11, 12, 13, 14, 15, 16, 17, 18, 19, 20, 21, 22, 23], \"xaxis\": \"x\", \"y\": [101, 446, 771, 836, 533, 291, 310, 383, 445, 361, 466, 451, 564, 564, 531, 458, 481, 353, 155], \"yaxis\": \"y\"}, {\"hoverlabel\": {\"namelength\": 0}, \"hovertemplate\": \"\\ub178\\uc120\\uba85=7-2<br>\\uc2dc\\uac04=%{x}<br>\\uc774\\uc6a9\\ub7c9=%{y}\", \"legendgroup\": \"\\ub178\\uc120\\uba85=7-2\", \"marker\": {\"color\": \"#EF553B\", \"symbol\": \"circle\"}, \"mode\": \"markers\", \"name\": \"\\ub178\\uc120\\uba85=7-2\", \"showlegend\": true, \"type\": \"scattergl\", \"x\": [5, 6, 7, 8, 9, 10, 11, 12, 13, 14, 15, 16, 17, 18, 19, 20, 21, 22, 23], \"xaxis\": \"x\", \"y\": [84, 171, 389, 293, 184, 103, 171, 144, 171, 124, 161, 161, 172, 188, 150, 135, 136, 83, 27], \"yaxis\": \"y\"}, {\"hoverlabel\": {\"namelength\": 0}, \"hovertemplate\": \"\\ub178\\uc120\\uba85=7-3<br>\\uc2dc\\uac04=%{x}<br>\\uc774\\uc6a9\\ub7c9=%{y}\", \"legendgroup\": \"\\ub178\\uc120\\uba85=7-3\", \"marker\": {\"color\": \"#00cc96\", \"symbol\": \"circle\"}, \"mode\": \"markers\", \"name\": \"\\ub178\\uc120\\uba85=7-3\", \"showlegend\": true, \"type\": \"scattergl\", \"x\": [12, 18, 19], \"xaxis\": \"x\", \"y\": [1, 2, 1], \"yaxis\": \"y\"}, {\"hoverlabel\": {\"namelength\": 0}, \"hovertemplate\": \"\\ub178\\uc120\\uba85=7-4<br>\\uc2dc\\uac04=%{x}<br>\\uc774\\uc6a9\\ub7c9=%{y}\", \"legendgroup\": \"\\ub178\\uc120\\uba85=7-4\", \"marker\": {\"color\": \"#ab63fa\", \"symbol\": \"circle\"}, \"mode\": \"markers\", \"name\": \"\\ub178\\uc120\\uba85=7-4\", \"showlegend\": true, \"type\": \"scattergl\", \"x\": [7, 11, 16], \"xaxis\": \"x\", \"y\": [1, 1, 1], \"yaxis\": \"y\"}, {\"hoverlabel\": {\"namelength\": 0}, \"hovertemplate\": \"\\ub178\\uc120\\uba85=7-5<br>\\uc2dc\\uac04=%{x}<br>\\uc774\\uc6a9\\ub7c9=%{y}\", \"legendgroup\": \"\\ub178\\uc120\\uba85=7-5\", \"marker\": {\"color\": \"#FFA15A\", \"symbol\": \"circle\"}, \"mode\": \"markers\", \"name\": \"\\ub178\\uc120\\uba85=7-5\", \"showlegend\": true, \"type\": \"scattergl\", \"x\": [5, 6, 7, 8, 10, 11, 12, 15, 16, 18, 19], \"xaxis\": \"x\", \"y\": [1, 12, 6, 8, 3, 2, 4, 2, 1, 1, 1], \"yaxis\": \"y\"}, {\"hoverlabel\": {\"namelength\": 0}, \"hovertemplate\": \"\\ub178\\uc120\\uba85=7-7<br>\\uc2dc\\uac04=%{x}<br>\\uc774\\uc6a9\\ub7c9=%{y}\", \"legendgroup\": \"\\ub178\\uc120\\uba85=7-7\", \"marker\": {\"color\": \"#19d3f3\", \"symbol\": \"circle\"}, \"mode\": \"markers\", \"name\": \"\\ub178\\uc120\\uba85=7-7\", \"showlegend\": true, \"type\": \"scattergl\", \"x\": [7], \"xaxis\": \"x\", \"y\": [1], \"yaxis\": \"y\"}, {\"hoverlabel\": {\"namelength\": 0}, \"hovertemplate\": \"\\ub178\\uc120\\uba85=70<br>\\uc2dc\\uac04=%{x}<br>\\uc774\\uc6a9\\ub7c9=%{y}\", \"legendgroup\": \"\\ub178\\uc120\\uba85=70\", \"marker\": {\"color\": \"#FF6692\", \"symbol\": \"circle\"}, \"mode\": \"markers\", \"name\": \"\\ub178\\uc120\\uba85=70\", \"showlegend\": true, \"type\": \"scattergl\", \"x\": [5, 7, 8, 9, 11, 12, 13, 14, 15, 16, 17, 18, 19, 20, 21, 23], \"xaxis\": \"x\", \"y\": [1, 4, 3, 2, 3, 5, 2, 1, 4, 6, 5, 2, 3, 4, 3, 1], \"yaxis\": \"y\"}, {\"hoverlabel\": {\"namelength\": 0}, \"hovertemplate\": \"\\ub178\\uc120\\uba85=70-2<br>\\uc2dc\\uac04=%{x}<br>\\uc774\\uc6a9\\ub7c9=%{y}\", \"legendgroup\": \"\\ub178\\uc120\\uba85=70-2\", \"marker\": {\"color\": \"#B6E880\", \"symbol\": \"circle\"}, \"mode\": \"markers\", \"name\": \"\\ub178\\uc120\\uba85=70-2\", \"showlegend\": true, \"type\": \"scattergl\", \"x\": [6, 15], \"xaxis\": \"x\", \"y\": [1, 1], \"yaxis\": \"y\"}, {\"hoverlabel\": {\"namelength\": 0}, \"hovertemplate\": \"\\ub178\\uc120\\uba85=70-3<br>\\uc2dc\\uac04=%{x}<br>\\uc774\\uc6a9\\ub7c9=%{y}\", \"legendgroup\": \"\\ub178\\uc120\\uba85=70-3\", \"marker\": {\"color\": \"#FF97FF\", \"symbol\": \"circle\"}, \"mode\": \"markers\", \"name\": \"\\ub178\\uc120\\uba85=70-3\", \"showlegend\": true, \"type\": \"scattergl\", \"x\": [10, 14, 21], \"xaxis\": \"x\", \"y\": [1, 1, 2], \"yaxis\": \"y\"}, {\"hoverlabel\": {\"namelength\": 0}, \"hovertemplate\": \"\\ub178\\uc120\\uba85=700<br>\\uc2dc\\uac04=%{x}<br>\\uc774\\uc6a9\\ub7c9=%{y}\", \"legendgroup\": \"\\ub178\\uc120\\uba85=700\", \"marker\": {\"color\": \"#FECB52\", \"symbol\": \"circle\"}, \"mode\": \"markers\", \"name\": \"\\ub178\\uc120\\uba85=700\", \"showlegend\": true, \"type\": \"scattergl\", \"x\": [20], \"xaxis\": \"x\", \"y\": [1], \"yaxis\": \"y\"}, {\"hoverlabel\": {\"namelength\": 0}, \"hovertemplate\": \"\\ub178\\uc120\\uba85=700-2<br>\\uc2dc\\uac04=%{x}<br>\\uc774\\uc6a9\\ub7c9=%{y}\", \"legendgroup\": \"\\ub178\\uc120\\uba85=700-2\", \"marker\": {\"color\": \"#636efa\", \"symbol\": \"circle\"}, \"mode\": \"markers\", \"name\": \"\\ub178\\uc120\\uba85=700-2\", \"showlegend\": true, \"type\": \"scattergl\", \"x\": [4, 5, 6, 7, 8, 9, 10, 11, 12, 13, 14, 15, 16, 17, 18, 19, 20, 21, 22, 23], \"xaxis\": \"x\", \"y\": [1, 257, 429, 1267, 1298, 679, 420, 447, 545, 705, 473, 500, 655, 825, 940, 562, 510, 496, 338, 99], \"yaxis\": \"y\"}, {\"hoverlabel\": {\"namelength\": 0}, \"hovertemplate\": \"\\ub178\\uc120\\uba85=7000<br>\\uc2dc\\uac04=%{x}<br>\\uc774\\uc6a9\\ub7c9=%{y}\", \"legendgroup\": \"\\ub178\\uc120\\uba85=7000\", \"marker\": {\"color\": \"#EF553B\", \"symbol\": \"circle\"}, \"mode\": \"markers\", \"name\": \"\\ub178\\uc120\\uba85=7000\", \"showlegend\": true, \"type\": \"scattergl\", \"x\": [7, 8, 10, 11, 12, 13, 14, 15, 16, 17, 18, 19, 20, 21, 22, 23], \"xaxis\": \"x\", \"y\": [8, 6, 2, 2, 2, 4, 1, 1, 2, 4, 7, 3, 1, 4, 9, 3], \"yaxis\": \"y\"}, {\"hoverlabel\": {\"namelength\": 0}, \"hovertemplate\": \"\\ub178\\uc120\\uba85=7001<br>\\uc2dc\\uac04=%{x}<br>\\uc774\\uc6a9\\ub7c9=%{y}\", \"legendgroup\": \"\\ub178\\uc120\\uba85=7001\", \"marker\": {\"color\": \"#00cc96\", \"symbol\": \"circle\"}, \"mode\": \"markers\", \"name\": \"\\ub178\\uc120\\uba85=7001\", \"showlegend\": true, \"type\": \"scattergl\", \"x\": [8, 9, 10, 12, 14, 15, 16, 18, 20, 21, 22, 23], \"xaxis\": \"x\", \"y\": [1, 2, 1, 1, 1, 4, 2, 4, 3, 6, 1, 1], \"yaxis\": \"y\"}, {\"hoverlabel\": {\"namelength\": 0}, \"hovertemplate\": \"\\ub178\\uc120\\uba85=7002<br>\\uc2dc\\uac04=%{x}<br>\\uc774\\uc6a9\\ub7c9=%{y}\", \"legendgroup\": \"\\ub178\\uc120\\uba85=7002\", \"marker\": {\"color\": \"#ab63fa\", \"symbol\": \"circle\"}, \"mode\": \"markers\", \"name\": \"\\ub178\\uc120\\uba85=7002\", \"showlegend\": true, \"type\": \"scattergl\", \"x\": [6, 8, 10, 13, 14, 16, 17, 18, 20, 21, 22], \"xaxis\": \"x\", \"y\": [2, 1, 1, 2, 1, 2, 1, 4, 8, 3, 1], \"yaxis\": \"y\"}, {\"hoverlabel\": {\"namelength\": 0}, \"hovertemplate\": \"\\ub178\\uc120\\uba85=7007<br>\\uc2dc\\uac04=%{x}<br>\\uc774\\uc6a9\\ub7c9=%{y}\", \"legendgroup\": \"\\ub178\\uc120\\uba85=7007\", \"marker\": {\"color\": \"#FFA15A\", \"symbol\": \"circle\"}, \"mode\": \"markers\", \"name\": \"\\ub178\\uc120\\uba85=7007\", \"showlegend\": true, \"type\": \"scattergl\", \"x\": [13, 17], \"xaxis\": \"x\", \"y\": [1, 1], \"yaxis\": \"y\"}, {\"hoverlabel\": {\"namelength\": 0}, \"hovertemplate\": \"\\ub178\\uc120\\uba85=7007-1<br>\\uc2dc\\uac04=%{x}<br>\\uc774\\uc6a9\\ub7c9=%{y}\", \"legendgroup\": \"\\ub178\\uc120\\uba85=7007-1\", \"marker\": {\"color\": \"#19d3f3\", \"symbol\": \"circle\"}, \"mode\": \"markers\", \"name\": \"\\ub178\\uc120\\uba85=7007-1\", \"showlegend\": true, \"type\": \"scattergl\", \"x\": [20], \"xaxis\": \"x\", \"y\": [1], \"yaxis\": \"y\"}, {\"hoverlabel\": {\"namelength\": 0}, \"hovertemplate\": \"\\ub178\\uc120\\uba85=701<br>\\uc2dc\\uac04=%{x}<br>\\uc774\\uc6a9\\ub7c9=%{y}\", \"legendgroup\": \"\\ub178\\uc120\\uba85=701\", \"marker\": {\"color\": \"#FF6692\", \"symbol\": \"circle\"}, \"mode\": \"markers\", \"name\": \"\\ub178\\uc120\\uba85=701\", \"showlegend\": true, \"type\": \"scattergl\", \"x\": [4, 5, 6, 7, 8, 9, 10, 11, 12, 13, 14, 15, 16, 17, 18, 19, 20, 21, 22, 23], \"xaxis\": \"x\", \"y\": [11, 74, 90, 199, 271, 137, 101, 92, 141, 202, 179, 154, 209, 223, 208, 176, 133, 111, 169, 68], \"yaxis\": \"y\"}, {\"hoverlabel\": {\"namelength\": 0}, \"hovertemplate\": \"\\ub178\\uc120\\uba85=702<br>\\uc2dc\\uac04=%{x}<br>\\uc774\\uc6a9\\ub7c9=%{y}\", \"legendgroup\": \"\\ub178\\uc120\\uba85=702\", \"marker\": {\"color\": \"#B6E880\", \"symbol\": \"circle\"}, \"mode\": \"markers\", \"name\": \"\\ub178\\uc120\\uba85=702\", \"showlegend\": true, \"type\": \"scattergl\", \"x\": [5, 6, 7, 8, 9, 10, 11, 12, 13, 14, 15, 16, 17, 18, 19, 20, 21, 22], \"xaxis\": \"x\", \"y\": [22, 56, 93, 54, 24, 6, 19, 24, 43, 21, 29, 11, 19, 26, 23, 23, 19, 3], \"yaxis\": \"y\"}, {\"hoverlabel\": {\"namelength\": 0}, \"hovertemplate\": \"\\ub178\\uc120\\uba85=707<br>\\uc2dc\\uac04=%{x}<br>\\uc774\\uc6a9\\ub7c9=%{y}\", \"legendgroup\": \"\\ub178\\uc120\\uba85=707\", \"marker\": {\"color\": \"#FF97FF\", \"symbol\": \"circle\"}, \"mode\": \"markers\", \"name\": \"\\ub178\\uc120\\uba85=707\", \"showlegend\": true, \"type\": \"scattergl\", \"x\": [4, 5, 6, 7, 8, 9, 10, 11, 12, 13, 14, 15, 16, 17, 18, 19, 20, 21, 22], \"xaxis\": \"x\", \"y\": [5, 14, 11, 19, 14, 6, 7, 6, 5, 6, 6, 6, 18, 7, 10, 8, 2, 4, 5], \"yaxis\": \"y\"}, {\"hoverlabel\": {\"namelength\": 0}, \"hovertemplate\": \"\\ub178\\uc120\\uba85=708<br>\\uc2dc\\uac04=%{x}<br>\\uc774\\uc6a9\\ub7c9=%{y}\", \"legendgroup\": \"\\ub178\\uc120\\uba85=708\", \"marker\": {\"color\": \"#FECB52\", \"symbol\": \"circle\"}, \"mode\": \"markers\", \"name\": \"\\ub178\\uc120\\uba85=708\", \"showlegend\": true, \"type\": \"scattergl\", \"x\": [5, 6, 7, 8, 9, 10, 11, 12, 13, 14, 15, 16, 17, 18, 19, 20, 21, 22, 23], \"xaxis\": \"x\", \"y\": [56, 139, 294, 301, 194, 121, 140, 147, 177, 124, 182, 223, 244, 345, 141, 134, 157, 162, 76], \"yaxis\": \"y\"}, {\"hoverlabel\": {\"namelength\": 0}, \"hovertemplate\": \"\\ub178\\uc120\\uba85=709<br>\\uc2dc\\uac04=%{x}<br>\\uc774\\uc6a9\\ub7c9=%{y}\", \"legendgroup\": \"\\ub178\\uc120\\uba85=709\", \"marker\": {\"color\": \"#636efa\", \"symbol\": \"circle\"}, \"mode\": \"markers\", \"name\": \"\\ub178\\uc120\\uba85=709\", \"showlegend\": true, \"type\": \"scattergl\", \"x\": [6, 7, 8, 9, 10, 13, 15, 17, 18, 19, 20, 21], \"xaxis\": \"x\", \"y\": [3, 22, 5, 3, 4, 3, 2, 1, 12, 4, 5, 2], \"yaxis\": \"y\"}, {\"hoverlabel\": {\"namelength\": 0}, \"hovertemplate\": \"\\ub178\\uc120\\uba85=709-1<br>\\uc2dc\\uac04=%{x}<br>\\uc774\\uc6a9\\ub7c9=%{y}\", \"legendgroup\": \"\\ub178\\uc120\\uba85=709-1\", \"marker\": {\"color\": \"#EF553B\", \"symbol\": \"circle\"}, \"mode\": \"markers\", \"name\": \"\\ub178\\uc120\\uba85=709-1\", \"showlegend\": true, \"type\": \"scattergl\", \"x\": [6, 7, 8, 9, 10, 11, 12, 13, 15, 16, 18, 19, 20, 21, 22, 23], \"xaxis\": \"x\", \"y\": [16, 18, 10, 8, 3, 1, 3, 5, 2, 5, 2, 4, 10, 6, 1, 5], \"yaxis\": \"y\"}, {\"hoverlabel\": {\"namelength\": 0}, \"hovertemplate\": \"\\ub178\\uc120\\uba85=71<br>\\uc2dc\\uac04=%{x}<br>\\uc774\\uc6a9\\ub7c9=%{y}\", \"legendgroup\": \"\\ub178\\uc120\\uba85=71\", \"marker\": {\"color\": \"#00cc96\", \"symbol\": \"circle\"}, \"mode\": \"markers\", \"name\": \"\\ub178\\uc120\\uba85=71\", \"showlegend\": true, \"type\": \"scattergl\", \"x\": [5, 6, 7, 8, 9, 10, 11, 12, 13, 14, 15, 16, 17, 18, 19, 20, 21], \"xaxis\": \"x\", \"y\": [2, 9, 9, 39, 15, 7, 11, 6, 10, 3, 11, 12, 6, 9, 8, 19, 5], \"yaxis\": \"y\"}, {\"hoverlabel\": {\"namelength\": 0}, \"hovertemplate\": \"\\ub178\\uc120\\uba85=71-2<br>\\uc2dc\\uac04=%{x}<br>\\uc774\\uc6a9\\ub7c9=%{y}\", \"legendgroup\": \"\\ub178\\uc120\\uba85=71-2\", \"marker\": {\"color\": \"#ab63fa\", \"symbol\": \"circle\"}, \"mode\": \"markers\", \"name\": \"\\ub178\\uc120\\uba85=71-2\", \"showlegend\": true, \"type\": \"scattergl\", \"x\": [8], \"xaxis\": \"x\", \"y\": [2], \"yaxis\": \"y\"}, {\"hoverlabel\": {\"namelength\": 0}, \"hovertemplate\": \"\\ub178\\uc120\\uba85=710<br>\\uc2dc\\uac04=%{x}<br>\\uc774\\uc6a9\\ub7c9=%{y}\", \"legendgroup\": \"\\ub178\\uc120\\uba85=710\", \"marker\": {\"color\": \"#FFA15A\", \"symbol\": \"circle\"}, \"mode\": \"markers\", \"name\": \"\\ub178\\uc120\\uba85=710\", \"showlegend\": true, \"type\": \"scattergl\", \"x\": [5, 6, 7, 8, 9, 10, 11, 12, 13, 14, 15, 16, 17, 18, 19, 20], \"xaxis\": \"x\", \"y\": [6, 14, 33, 31, 14, 1, 10, 8, 35, 5, 20, 3, 22, 16, 8, 5], \"yaxis\": \"y\"}, {\"hoverlabel\": {\"namelength\": 0}, \"hovertemplate\": \"\\ub178\\uc120\\uba85=712<br>\\uc2dc\\uac04=%{x}<br>\\uc774\\uc6a9\\ub7c9=%{y}\", \"legendgroup\": \"\\ub178\\uc120\\uba85=712\", \"marker\": {\"color\": \"#19d3f3\", \"symbol\": \"circle\"}, \"mode\": \"markers\", \"name\": \"\\ub178\\uc120\\uba85=712\", \"showlegend\": true, \"type\": \"scattergl\", \"x\": [5, 6, 7, 8, 9, 10, 11, 12, 13, 14, 15, 16, 17, 18, 19, 20, 21, 22], \"xaxis\": \"x\", \"y\": [17, 91, 114, 83, 73, 18, 45, 74, 40, 54, 56, 38, 63, 82, 59, 36, 40, 20], \"yaxis\": \"y\"}, {\"hoverlabel\": {\"namelength\": 0}, \"hovertemplate\": \"\\ub178\\uc120\\uba85=72<br>\\uc2dc\\uac04=%{x}<br>\\uc774\\uc6a9\\ub7c9=%{y}\", \"legendgroup\": \"\\ub178\\uc120\\uba85=72\", \"marker\": {\"color\": \"#FF6692\", \"symbol\": \"circle\"}, \"mode\": \"markers\", \"name\": \"\\ub178\\uc120\\uba85=72\", \"showlegend\": true, \"type\": \"scattergl\", \"x\": [5, 6, 7, 8, 9, 10, 11, 12, 13, 14, 15, 16, 17, 18, 19, 20, 21, 22], \"xaxis\": \"x\", \"y\": [5, 13, 27, 17, 11, 6, 4, 5, 18, 8, 11, 9, 16, 1, 15, 4, 8, 2], \"yaxis\": \"y\"}, {\"hoverlabel\": {\"namelength\": 0}, \"hovertemplate\": \"\\ub178\\uc120\\uba85=72-1<br>\\uc2dc\\uac04=%{x}<br>\\uc774\\uc6a9\\ub7c9=%{y}\", \"legendgroup\": \"\\ub178\\uc120\\uba85=72-1\", \"marker\": {\"color\": \"#B6E880\", \"symbol\": \"circle\"}, \"mode\": \"markers\", \"name\": \"\\ub178\\uc120\\uba85=72-1\", \"showlegend\": true, \"type\": \"scattergl\", \"x\": [8], \"xaxis\": \"x\", \"y\": [2], \"yaxis\": \"y\"}, {\"hoverlabel\": {\"namelength\": 0}, \"hovertemplate\": \"\\ub178\\uc120\\uba85=720<br>\\uc2dc\\uac04=%{x}<br>\\uc774\\uc6a9\\ub7c9=%{y}\", \"legendgroup\": \"\\ub178\\uc120\\uba85=720\", \"marker\": {\"color\": \"#FF97FF\", \"symbol\": \"circle\"}, \"mode\": \"markers\", \"name\": \"\\ub178\\uc120\\uba85=720\", \"showlegend\": true, \"type\": \"scattergl\", \"x\": [4, 6, 7, 8, 9, 10, 11, 12, 13, 14, 15, 16, 17, 18, 19, 20, 21, 22, 23], \"xaxis\": \"x\", \"y\": [1, 3, 8, 9, 5, 8, 4, 2, 4, 5, 2, 5, 7, 8, 4, 2, 6, 5, 3], \"yaxis\": \"y\"}, {\"hoverlabel\": {\"namelength\": 0}, \"hovertemplate\": \"\\ub178\\uc120\\uba85=720-1<br>\\uc2dc\\uac04=%{x}<br>\\uc774\\uc6a9\\ub7c9=%{y}\", \"legendgroup\": \"\\ub178\\uc120\\uba85=720-1\", \"marker\": {\"color\": \"#FECB52\", \"symbol\": \"circle\"}, \"mode\": \"markers\", \"name\": \"\\ub178\\uc120\\uba85=720-1\", \"showlegend\": true, \"type\": \"scattergl\", \"x\": [4, 5, 6, 7, 8, 9, 10, 11, 12, 13, 14, 15, 16, 17, 18, 19, 20, 21, 22, 23], \"xaxis\": \"x\", \"y\": [35, 373, 634, 1713, 1937, 884, 574, 786, 912, 883, 727, 726, 881, 1058, 1235, 905, 718, 578, 283, 132], \"yaxis\": \"y\"}, {\"hoverlabel\": {\"namelength\": 0}, \"hovertemplate\": \"\\ub178\\uc120\\uba85=720-1A<br>\\uc2dc\\uac04=%{x}<br>\\uc774\\uc6a9\\ub7c9=%{y}\", \"legendgroup\": \"\\ub178\\uc120\\uba85=720-1A\", \"marker\": {\"color\": \"#636efa\", \"symbol\": \"circle\"}, \"mode\": \"markers\", \"name\": \"\\ub178\\uc120\\uba85=720-1A\", \"showlegend\": true, \"type\": \"scattergl\", \"x\": [7, 20, 21, 22, 23], \"xaxis\": \"x\", \"y\": [5, 9, 132, 267, 105], \"yaxis\": \"y\"}, {\"hoverlabel\": {\"namelength\": 0}, \"hovertemplate\": \"\\ub178\\uc120\\uba85=720-2<br>\\uc2dc\\uac04=%{x}<br>\\uc774\\uc6a9\\ub7c9=%{y}\", \"legendgroup\": \"\\ub178\\uc120\\uba85=720-2\", \"marker\": {\"color\": \"#EF553B\", \"symbol\": \"circle\"}, \"mode\": \"markers\", \"name\": \"\\ub178\\uc120\\uba85=720-2\", \"showlegend\": true, \"type\": \"scattergl\", \"x\": [5, 6, 7, 8, 9, 10, 11, 12, 13, 14, 15, 16, 17, 18, 19, 20, 21, 22, 23], \"xaxis\": \"x\", \"y\": [264, 747, 1712, 2080, 1301, 893, 953, 1212, 1279, 1054, 1133, 1383, 1733, 1735, 1305, 1171, 1075, 876, 434], \"yaxis\": \"y\"}, {\"hoverlabel\": {\"namelength\": 0}, \"hovertemplate\": \"\\ub178\\uc120\\uba85=720-3<br>\\uc2dc\\uac04=%{x}<br>\\uc774\\uc6a9\\ub7c9=%{y}\", \"legendgroup\": \"\\ub178\\uc120\\uba85=720-3\", \"marker\": {\"color\": \"#00cc96\", \"symbol\": \"circle\"}, \"mode\": \"markers\", \"name\": \"\\ub178\\uc120\\uba85=720-3\", \"showlegend\": true, \"type\": \"scattergl\", \"x\": [5, 6, 7, 8, 9, 10, 11, 12, 13, 14, 15, 16, 17, 18, 19, 20, 21, 22, 23], \"xaxis\": \"x\", \"y\": [90, 330, 1116, 1142, 594, 444, 406, 552, 532, 428, 622, 616, 916, 1006, 814, 532, 510, 464, 108], \"yaxis\": \"y\"}, {\"hoverlabel\": {\"namelength\": 0}, \"hovertemplate\": \"\\ub178\\uc120\\uba85=721<br>\\uc2dc\\uac04=%{x}<br>\\uc774\\uc6a9\\ub7c9=%{y}\", \"legendgroup\": \"\\ub178\\uc120\\uba85=721\", \"marker\": {\"color\": \"#ab63fa\", \"symbol\": \"circle\"}, \"mode\": \"markers\", \"name\": \"\\ub178\\uc120\\uba85=721\", \"showlegend\": true, \"type\": \"scattergl\", \"x\": [6, 7, 8, 9, 10, 11, 12, 13, 14, 15, 16, 17, 18, 19, 20, 21, 22], \"xaxis\": \"x\", \"y\": [47, 196, 169, 112, 64, 64, 134, 74, 67, 87, 126, 141, 177, 99, 99, 76, 33], \"yaxis\": \"y\"}, {\"hoverlabel\": {\"namelength\": 0}, \"hovertemplate\": \"\\ub178\\uc120\\uba85=73<br>\\uc2dc\\uac04=%{x}<br>\\uc774\\uc6a9\\ub7c9=%{y}\", \"legendgroup\": \"\\ub178\\uc120\\uba85=73\", \"marker\": {\"color\": \"#FFA15A\", \"symbol\": \"circle\"}, \"mode\": \"markers\", \"name\": \"\\ub178\\uc120\\uba85=73\", \"showlegend\": true, \"type\": \"scattergl\", \"x\": [5, 6, 7, 8, 9, 10, 11, 12, 13, 14, 15, 16, 17, 18, 19, 20, 21, 22, 23], \"xaxis\": \"x\", \"y\": [32, 132, 273, 229, 172, 115, 91, 152, 252, 134, 144, 211, 203, 207, 179, 126, 148, 117, 7], \"yaxis\": \"y\"}, {\"hoverlabel\": {\"namelength\": 0}, \"hovertemplate\": \"\\ub178\\uc120\\uba85=73-1<br>\\uc2dc\\uac04=%{x}<br>\\uc774\\uc6a9\\ub7c9=%{y}\", \"legendgroup\": \"\\ub178\\uc120\\uba85=73-1\", \"marker\": {\"color\": \"#19d3f3\", \"symbol\": \"circle\"}, \"mode\": \"markers\", \"name\": \"\\ub178\\uc120\\uba85=73-1\", \"showlegend\": true, \"type\": \"scattergl\", \"x\": [5, 6, 7, 8, 9, 10, 11, 12, 13, 14, 15, 16, 17, 18, 19, 20, 21, 22], \"xaxis\": \"x\", \"y\": [4, 45, 92, 139, 39, 31, 31, 36, 54, 57, 58, 95, 89, 62, 63, 54, 26, 1], \"yaxis\": \"y\"}, {\"hoverlabel\": {\"namelength\": 0}, \"hovertemplate\": \"\\ub178\\uc120\\uba85=733<br>\\uc2dc\\uac04=%{x}<br>\\uc774\\uc6a9\\ub7c9=%{y}\", \"legendgroup\": \"\\ub178\\uc120\\uba85=733\", \"marker\": {\"color\": \"#FF6692\", \"symbol\": \"circle\"}, \"mode\": \"markers\", \"name\": \"\\ub178\\uc120\\uba85=733\", \"showlegend\": true, \"type\": \"scattergl\", \"x\": [6, 15, 16, 17], \"xaxis\": \"x\", \"y\": [1, 1, 1, 1], \"yaxis\": \"y\"}, {\"hoverlabel\": {\"namelength\": 0}, \"hovertemplate\": \"\\ub178\\uc120\\uba85=74<br>\\uc2dc\\uac04=%{x}<br>\\uc774\\uc6a9\\ub7c9=%{y}\", \"legendgroup\": \"\\ub178\\uc120\\uba85=74\", \"marker\": {\"color\": \"#B6E880\", \"symbol\": \"circle\"}, \"mode\": \"markers\", \"name\": \"\\ub178\\uc120\\uba85=74\", \"showlegend\": true, \"type\": \"scattergl\", \"x\": [6, 16], \"xaxis\": \"x\", \"y\": [1, 1], \"yaxis\": \"y\"}, {\"hoverlabel\": {\"namelength\": 0}, \"hovertemplate\": \"\\ub178\\uc120\\uba85=75<br>\\uc2dc\\uac04=%{x}<br>\\uc774\\uc6a9\\ub7c9=%{y}\", \"legendgroup\": \"\\ub178\\uc120\\uba85=75\", \"marker\": {\"color\": \"#FF97FF\", \"symbol\": \"circle\"}, \"mode\": \"markers\", \"name\": \"\\ub178\\uc120\\uba85=75\", \"showlegend\": true, \"type\": \"scattergl\", \"x\": [6, 7, 8, 9, 11, 12, 15, 17, 18, 22], \"xaxis\": \"x\", \"y\": [1, 8, 1, 1, 1, 1, 2, 4, 2, 2], \"yaxis\": \"y\"}, {\"hoverlabel\": {\"namelength\": 0}, \"hovertemplate\": \"\\ub178\\uc120\\uba85=76<br>\\uc2dc\\uac04=%{x}<br>\\uc774\\uc6a9\\ub7c9=%{y}\", \"legendgroup\": \"\\ub178\\uc120\\uba85=76\", \"marker\": {\"color\": \"#FECB52\", \"symbol\": \"circle\"}, \"mode\": \"markers\", \"name\": \"\\ub178\\uc120\\uba85=76\", \"showlegend\": true, \"type\": \"scattergl\", \"x\": [6, 7, 8, 9, 11, 12, 13, 14, 15, 16, 17, 18, 19, 20, 22], \"xaxis\": \"x\", \"y\": [7, 21, 12, 7, 5, 2, 8, 2, 3, 2, 6, 1, 6, 3, 1], \"yaxis\": \"y\"}, {\"hoverlabel\": {\"namelength\": 0}, \"hovertemplate\": \"\\ub178\\uc120\\uba85=77<br>\\uc2dc\\uac04=%{x}<br>\\uc774\\uc6a9\\ub7c9=%{y}\", \"legendgroup\": \"\\ub178\\uc120\\uba85=77\", \"marker\": {\"color\": \"#636efa\", \"symbol\": \"circle\"}, \"mode\": \"markers\", \"name\": \"\\ub178\\uc120\\uba85=77\", \"showlegend\": true, \"type\": \"scattergl\", \"x\": [5, 6, 7, 8, 9, 10, 11, 12, 13, 14, 15, 16, 17, 18, 19, 20, 21], \"xaxis\": \"x\", \"y\": [1, 3, 6, 7, 5, 1, 2, 3, 1, 3, 2, 2, 5, 3, 2, 2, 1], \"yaxis\": \"y\"}, {\"hoverlabel\": {\"namelength\": 0}, \"hovertemplate\": \"\\ub178\\uc120\\uba85=777<br>\\uc2dc\\uac04=%{x}<br>\\uc774\\uc6a9\\ub7c9=%{y}\", \"legendgroup\": \"\\ub178\\uc120\\uba85=777\", \"marker\": {\"color\": \"#EF553B\", \"symbol\": \"circle\"}, \"mode\": \"markers\", \"name\": \"\\ub178\\uc120\\uba85=777\", \"showlegend\": true, \"type\": \"scattergl\", \"x\": [5, 6, 7, 8, 9, 10, 11, 12, 13, 14, 15, 16, 17, 18, 19, 20, 21, 22, 23], \"xaxis\": \"x\", \"y\": [4, 17, 39, 35, 29, 27, 17, 37, 24, 19, 33, 44, 32, 46, 27, 22, 26, 20, 12], \"yaxis\": \"y\"}, {\"hoverlabel\": {\"namelength\": 0}, \"hovertemplate\": \"\\ub178\\uc120\\uba85=7770<br>\\uc2dc\\uac04=%{x}<br>\\uc774\\uc6a9\\ub7c9=%{y}\", \"legendgroup\": \"\\ub178\\uc120\\uba85=7770\", \"marker\": {\"color\": \"#00cc96\", \"symbol\": \"circle\"}, \"mode\": \"markers\", \"name\": \"\\ub178\\uc120\\uba85=7770\", \"showlegend\": true, \"type\": \"scattergl\", \"x\": [4, 5, 6, 7, 8, 9, 10, 11, 12, 13, 14, 15, 16, 17, 18, 19, 20, 21, 22, 23], \"xaxis\": \"x\", \"y\": [1, 7, 1, 6, 4, 3, 1, 2, 3, 1, 5, 4, 10, 11, 12, 10, 12, 13, 10, 6], \"yaxis\": \"y\"}, {\"hoverlabel\": {\"namelength\": 0}, \"hovertemplate\": \"\\ub178\\uc120\\uba85=7780<br>\\uc2dc\\uac04=%{x}<br>\\uc774\\uc6a9\\ub7c9=%{y}\", \"legendgroup\": \"\\ub178\\uc120\\uba85=7780\", \"marker\": {\"color\": \"#ab63fa\", \"symbol\": \"circle\"}, \"mode\": \"markers\", \"name\": \"\\ub178\\uc120\\uba85=7780\", \"showlegend\": true, \"type\": \"scattergl\", \"x\": [7, 9, 12, 13, 14, 15, 16, 17, 18, 19, 20, 21, 22, 23], \"xaxis\": \"x\", \"y\": [2, 3, 1, 3, 2, 1, 1, 4, 6, 5, 5, 3, 2, 3], \"yaxis\": \"y\"}, {\"hoverlabel\": {\"namelength\": 0}, \"hovertemplate\": \"\\ub178\\uc120\\uba85=7790<br>\\uc2dc\\uac04=%{x}<br>\\uc774\\uc6a9\\ub7c9=%{y}\", \"legendgroup\": \"\\ub178\\uc120\\uba85=7790\", \"marker\": {\"color\": \"#FFA15A\", \"symbol\": \"circle\"}, \"mode\": \"markers\", \"name\": \"\\ub178\\uc120\\uba85=7790\", \"showlegend\": true, \"type\": \"scattergl\", \"x\": [6, 7, 8, 9, 12, 13, 14, 15, 16, 17, 18, 19, 20, 21], \"xaxis\": \"x\", \"y\": [3, 8, 4, 1, 1, 1, 1, 1, 1, 2, 3, 2, 1, 1], \"yaxis\": \"y\"}, {\"hoverlabel\": {\"namelength\": 0}, \"hovertemplate\": \"\\ub178\\uc120\\uba85=78<br>\\uc2dc\\uac04=%{x}<br>\\uc774\\uc6a9\\ub7c9=%{y}\", \"legendgroup\": \"\\ub178\\uc120\\uba85=78\", \"marker\": {\"color\": \"#19d3f3\", \"symbol\": \"circle\"}, \"mode\": \"markers\", \"name\": \"\\ub178\\uc120\\uba85=78\", \"showlegend\": true, \"type\": \"scattergl\", \"x\": [8, 13, 15], \"xaxis\": \"x\", \"y\": [1, 5, 3], \"yaxis\": \"y\"}, {\"hoverlabel\": {\"namelength\": 0}, \"hovertemplate\": \"\\ub178\\uc120\\uba85=7800<br>\\uc2dc\\uac04=%{x}<br>\\uc774\\uc6a9\\ub7c9=%{y}\", \"legendgroup\": \"\\ub178\\uc120\\uba85=7800\", \"marker\": {\"color\": \"#FF6692\", \"symbol\": \"circle\"}, \"mode\": \"markers\", \"name\": \"\\ub178\\uc120\\uba85=7800\", \"showlegend\": true, \"type\": \"scattergl\", \"x\": [5, 7, 8, 9, 10, 11, 12, 13, 14, 15, 16, 17, 18, 19, 20, 21, 23], \"xaxis\": \"x\", \"y\": [2, 10, 6, 12, 3, 3, 3, 2, 2, 8, 5, 4, 6, 3, 4, 2, 5], \"yaxis\": \"y\"}, {\"hoverlabel\": {\"namelength\": 0}, \"hovertemplate\": \"\\ub178\\uc120\\uba85=79<br>\\uc2dc\\uac04=%{x}<br>\\uc774\\uc6a9\\ub7c9=%{y}\", \"legendgroup\": \"\\ub178\\uc120\\uba85=79\", \"marker\": {\"color\": \"#B6E880\", \"symbol\": \"circle\"}, \"mode\": \"markers\", \"name\": \"\\ub178\\uc120\\uba85=79\", \"showlegend\": true, \"type\": \"scattergl\", \"x\": [6, 10, 12, 13, 16, 18, 19], \"xaxis\": \"x\", \"y\": [2, 1, 1, 4, 1, 1, 1], \"yaxis\": \"y\"}, {\"hoverlabel\": {\"namelength\": 0}, \"hovertemplate\": \"\\ub178\\uc120\\uba85=7900<br>\\uc2dc\\uac04=%{x}<br>\\uc774\\uc6a9\\ub7c9=%{y}\", \"legendgroup\": \"\\ub178\\uc120\\uba85=7900\", \"marker\": {\"color\": \"#FF97FF\", \"symbol\": \"circle\"}, \"mode\": \"markers\", \"name\": \"\\ub178\\uc120\\uba85=7900\", \"showlegend\": true, \"type\": \"scattergl\", \"x\": [10, 11, 13, 14, 15, 16, 17, 18, 21], \"xaxis\": \"x\", \"y\": [2, 1, 1, 3, 1, 1, 2, 4, 1], \"yaxis\": \"y\"}, {\"hoverlabel\": {\"namelength\": 0}, \"hovertemplate\": \"\\ub178\\uc120\\uba85=8<br>\\uc2dc\\uac04=%{x}<br>\\uc774\\uc6a9\\ub7c9=%{y}\", \"legendgroup\": \"\\ub178\\uc120\\uba85=8\", \"marker\": {\"color\": \"#FECB52\", \"symbol\": \"circle\"}, \"mode\": \"markers\", \"name\": \"\\ub178\\uc120\\uba85=8\", \"showlegend\": true, \"type\": \"scattergl\", \"x\": [4, 5, 6, 7, 8, 9, 10, 11, 12, 13, 14, 15, 16, 17, 18, 19, 20, 21, 22, 23], \"xaxis\": \"x\", \"y\": [2, 103, 378, 797, 1078, 460, 374, 374, 376, 564, 405, 470, 682, 744, 682, 424, 304, 283, 234, 87], \"yaxis\": \"y\"}, {\"hoverlabel\": {\"namelength\": 0}, \"hovertemplate\": \"\\ub178\\uc120\\uba85=8-1<br>\\uc2dc\\uac04=%{x}<br>\\uc774\\uc6a9\\ub7c9=%{y}\", \"legendgroup\": \"\\ub178\\uc120\\uba85=8-1\", \"marker\": {\"color\": \"#636efa\", \"symbol\": \"circle\"}, \"mode\": \"markers\", \"name\": \"\\ub178\\uc120\\uba85=8-1\", \"showlegend\": true, \"type\": \"scattergl\", \"x\": [5, 6, 7, 8, 9, 10, 11, 12, 13, 14, 16, 17, 18, 19, 20, 21, 22, 23], \"xaxis\": \"x\", \"y\": [6, 2, 6, 7, 2, 3, 1, 1, 1, 4, 2, 4, 2, 2, 2, 1, 3, 1], \"yaxis\": \"y\"}, {\"hoverlabel\": {\"namelength\": 0}, \"hovertemplate\": \"\\ub178\\uc120\\uba85=8-2<br>\\uc2dc\\uac04=%{x}<br>\\uc774\\uc6a9\\ub7c9=%{y}\", \"legendgroup\": \"\\ub178\\uc120\\uba85=8-2\", \"marker\": {\"color\": \"#EF553B\", \"symbol\": \"circle\"}, \"mode\": \"markers\", \"name\": \"\\ub178\\uc120\\uba85=8-2\", \"showlegend\": true, \"type\": \"scattergl\", \"x\": [5, 6, 7, 8, 9, 10, 11, 12, 13, 14, 15, 16, 17, 18, 19, 20, 21, 22], \"xaxis\": \"x\", \"y\": [3, 2, 8, 7, 1, 5, 1, 1, 1, 6, 3, 5, 10, 10, 4, 10, 1, 1], \"yaxis\": \"y\"}, {\"hoverlabel\": {\"namelength\": 0}, \"hovertemplate\": \"\\ub178\\uc120\\uba85=80<br>\\uc2dc\\uac04=%{x}<br>\\uc774\\uc6a9\\ub7c9=%{y}\", \"legendgroup\": \"\\ub178\\uc120\\uba85=80\", \"marker\": {\"color\": \"#00cc96\", \"symbol\": \"circle\"}, \"mode\": \"markers\", \"name\": \"\\ub178\\uc120\\uba85=80\", \"showlegend\": true, \"type\": \"scattergl\", \"x\": [5, 6, 7, 8, 9, 10, 11, 12, 13, 14, 15, 16, 17, 18, 19, 20, 21, 22, 23], \"xaxis\": \"x\", \"y\": [22, 76, 124, 113, 55, 34, 29, 61, 34, 40, 64, 69, 82, 61, 46, 36, 29, 44, 4], \"yaxis\": \"y\"}, {\"hoverlabel\": {\"namelength\": 0}, \"hovertemplate\": \"\\ub178\\uc120\\uba85=8002<br>\\uc2dc\\uac04=%{x}<br>\\uc774\\uc6a9\\ub7c9=%{y}\", \"legendgroup\": \"\\ub178\\uc120\\uba85=8002\", \"marker\": {\"color\": \"#ab63fa\", \"symbol\": \"circle\"}, \"mode\": \"markers\", \"name\": \"\\ub178\\uc120\\uba85=8002\", \"showlegend\": true, \"type\": \"scattergl\", \"x\": [6, 9, 16, 18, 20], \"xaxis\": \"x\", \"y\": [2, 1, 1, 1, 1], \"yaxis\": \"y\"}, {\"hoverlabel\": {\"namelength\": 0}, \"hovertemplate\": \"\\ub178\\uc120\\uba85=8012<br>\\uc2dc\\uac04=%{x}<br>\\uc774\\uc6a9\\ub7c9=%{y}\", \"legendgroup\": \"\\ub178\\uc120\\uba85=8012\", \"marker\": {\"color\": \"#FFA15A\", \"symbol\": \"circle\"}, \"mode\": \"markers\", \"name\": \"\\ub178\\uc120\\uba85=8012\", \"showlegend\": true, \"type\": \"scattergl\", \"x\": [6, 14, 16], \"xaxis\": \"x\", \"y\": [2, 1, 1], \"yaxis\": \"y\"}, {\"hoverlabel\": {\"namelength\": 0}, \"hovertemplate\": \"\\ub178\\uc120\\uba85=81<br>\\uc2dc\\uac04=%{x}<br>\\uc774\\uc6a9\\ub7c9=%{y}\", \"legendgroup\": \"\\ub178\\uc120\\uba85=81\", \"marker\": {\"color\": \"#19d3f3\", \"symbol\": \"circle\"}, \"mode\": \"markers\", \"name\": \"\\ub178\\uc120\\uba85=81\", \"showlegend\": true, \"type\": \"scattergl\", \"x\": [5, 6, 7, 8, 9, 10, 11, 12, 13, 14, 15, 16, 17, 18, 19, 20, 21, 22, 23], \"xaxis\": \"x\", \"y\": [47, 153, 321, 396, 160, 168, 174, 193, 236, 169, 213, 222, 273, 311, 228, 184, 156, 142, 51], \"yaxis\": \"y\"}, {\"hoverlabel\": {\"namelength\": 0}, \"hovertemplate\": \"\\ub178\\uc120\\uba85=81-1<br>\\uc2dc\\uac04=%{x}<br>\\uc774\\uc6a9\\ub7c9=%{y}\", \"legendgroup\": \"\\ub178\\uc120\\uba85=81-1\", \"marker\": {\"color\": \"#FF6692\", \"symbol\": \"circle\"}, \"mode\": \"markers\", \"name\": \"\\ub178\\uc120\\uba85=81-1\", \"showlegend\": true, \"type\": \"scattergl\", \"x\": [9], \"xaxis\": \"x\", \"y\": [2], \"yaxis\": \"y\"}, {\"hoverlabel\": {\"namelength\": 0}, \"hovertemplate\": \"\\ub178\\uc120\\uba85=810<br>\\uc2dc\\uac04=%{x}<br>\\uc774\\uc6a9\\ub7c9=%{y}\", \"legendgroup\": \"\\ub178\\uc120\\uba85=810\", \"marker\": {\"color\": \"#B6E880\", \"symbol\": \"circle\"}, \"mode\": \"markers\", \"name\": \"\\ub178\\uc120\\uba85=810\", \"showlegend\": true, \"type\": \"scattergl\", \"x\": [5, 12], \"xaxis\": \"x\", \"y\": [1, 1], \"yaxis\": \"y\"}, {\"hoverlabel\": {\"namelength\": 0}, \"hovertemplate\": \"\\ub178\\uc120\\uba85=8100<br>\\uc2dc\\uac04=%{x}<br>\\uc774\\uc6a9\\ub7c9=%{y}\", \"legendgroup\": \"\\ub178\\uc120\\uba85=8100\", \"marker\": {\"color\": \"#FF97FF\", \"symbol\": \"circle\"}, \"mode\": \"markers\", \"name\": \"\\ub178\\uc120\\uba85=8100\", \"showlegend\": true, \"type\": \"scattergl\", \"x\": [8, 9, 13, 14, 15, 16, 17, 18, 20, 22], \"xaxis\": \"x\", \"y\": [2, 4, 1, 3, 2, 1, 8, 3, 3, 4], \"yaxis\": \"y\"}, {\"hoverlabel\": {\"namelength\": 0}, \"hovertemplate\": \"\\ub178\\uc120\\uba85=8101<br>\\uc2dc\\uac04=%{x}<br>\\uc774\\uc6a9\\ub7c9=%{y}\", \"legendgroup\": \"\\ub178\\uc120\\uba85=8101\", \"marker\": {\"color\": \"#FECB52\", \"symbol\": \"circle\"}, \"mode\": \"markers\", \"name\": \"\\ub178\\uc120\\uba85=8101\", \"showlegend\": true, \"type\": \"scattergl\", \"x\": [12, 13, 15, 16, 18, 20, 21, 22], \"xaxis\": \"x\", \"y\": [1, 1, 2, 1, 2, 2, 2, 1], \"yaxis\": \"y\"}, {\"hoverlabel\": {\"namelength\": 0}, \"hovertemplate\": \"\\ub178\\uc120\\uba85=8106<br>\\uc2dc\\uac04=%{x}<br>\\uc774\\uc6a9\\ub7c9=%{y}\", \"legendgroup\": \"\\ub178\\uc120\\uba85=8106\", \"marker\": {\"color\": \"#636efa\", \"symbol\": \"circle\"}, \"mode\": \"markers\", \"name\": \"\\ub178\\uc120\\uba85=8106\", \"showlegend\": true, \"type\": \"scattergl\", \"x\": [5, 6, 10, 11, 13, 17, 18, 19, 21], \"xaxis\": \"x\", \"y\": [1, 2, 1, 1, 1, 1, 2, 2, 1], \"yaxis\": \"y\"}, {\"hoverlabel\": {\"namelength\": 0}, \"hovertemplate\": \"\\ub178\\uc120\\uba85=8109<br>\\uc2dc\\uac04=%{x}<br>\\uc774\\uc6a9\\ub7c9=%{y}\", \"legendgroup\": \"\\ub178\\uc120\\uba85=8109\", \"marker\": {\"color\": \"#EF553B\", \"symbol\": \"circle\"}, \"mode\": \"markers\", \"name\": \"\\ub178\\uc120\\uba85=8109\", \"showlegend\": true, \"type\": \"scattergl\", \"x\": [6, 7, 12, 18, 21], \"xaxis\": \"x\", \"y\": [1, 1, 1, 1, 1], \"yaxis\": \"y\"}, {\"hoverlabel\": {\"namelength\": 0}, \"hovertemplate\": \"\\ub178\\uc120\\uba85=8155<br>\\uc2dc\\uac04=%{x}<br>\\uc774\\uc6a9\\ub7c9=%{y}\", \"legendgroup\": \"\\ub178\\uc120\\uba85=8155\", \"marker\": {\"color\": \"#00cc96\", \"symbol\": \"circle\"}, \"mode\": \"markers\", \"name\": \"\\ub178\\uc120\\uba85=8155\", \"showlegend\": true, \"type\": \"scattergl\", \"x\": [5, 6, 7, 8, 9, 10, 11, 12, 13, 14, 15, 16, 17, 18, 19, 20, 21, 22], \"xaxis\": \"x\", \"y\": [3, 10, 7, 3, 3, 3, 3, 4, 5, 5, 5, 5, 8, 3, 3, 9, 12, 6], \"yaxis\": \"y\"}, {\"hoverlabel\": {\"namelength\": 0}, \"hovertemplate\": \"\\ub178\\uc120\\uba85=8156<br>\\uc2dc\\uac04=%{x}<br>\\uc774\\uc6a9\\ub7c9=%{y}\", \"legendgroup\": \"\\ub178\\uc120\\uba85=8156\", \"marker\": {\"color\": \"#ab63fa\", \"symbol\": \"circle\"}, \"mode\": \"markers\", \"name\": \"\\ub178\\uc120\\uba85=8156\", \"showlegend\": true, \"type\": \"scattergl\", \"x\": [5, 7, 9, 11, 13, 14, 15, 16, 18, 19, 20, 21, 22], \"xaxis\": \"x\", \"y\": [1, 3, 2, 1, 1, 3, 2, 1, 2, 7, 6, 1, 2], \"yaxis\": \"y\"}, {\"hoverlabel\": {\"namelength\": 0}, \"hovertemplate\": \"\\ub178\\uc120\\uba85=82<br>\\uc2dc\\uac04=%{x}<br>\\uc774\\uc6a9\\ub7c9=%{y}\", \"legendgroup\": \"\\ub178\\uc120\\uba85=82\", \"marker\": {\"color\": \"#FFA15A\", \"symbol\": \"circle\"}, \"mode\": \"markers\", \"name\": \"\\ub178\\uc120\\uba85=82\", \"showlegend\": true, \"type\": \"scattergl\", \"x\": [8, 10, 11, 22], \"xaxis\": \"x\", \"y\": [2, 1, 1, 1], \"yaxis\": \"y\"}, {\"hoverlabel\": {\"namelength\": 0}, \"hovertemplate\": \"\\ub178\\uc120\\uba85=82-1<br>\\uc2dc\\uac04=%{x}<br>\\uc774\\uc6a9\\ub7c9=%{y}\", \"legendgroup\": \"\\ub178\\uc120\\uba85=82-1\", \"marker\": {\"color\": \"#19d3f3\", \"symbol\": \"circle\"}, \"mode\": \"markers\", \"name\": \"\\ub178\\uc120\\uba85=82-1\", \"showlegend\": true, \"type\": \"scattergl\", \"x\": [5, 6, 7, 8, 9, 10, 11, 12, 13, 14, 15, 16, 17, 18, 19, 20, 21, 22, 23], \"xaxis\": \"x\", \"y\": [11, 35, 76, 76, 50, 32, 43, 62, 59, 36, 42, 40, 54, 56, 36, 24, 29, 28, 7], \"yaxis\": \"y\"}, {\"hoverlabel\": {\"namelength\": 0}, \"hovertemplate\": \"\\ub178\\uc120\\uba85=82-2<br>\\uc2dc\\uac04=%{x}<br>\\uc774\\uc6a9\\ub7c9=%{y}\", \"legendgroup\": \"\\ub178\\uc120\\uba85=82-2\", \"marker\": {\"color\": \"#FF6692\", \"symbol\": \"circle\"}, \"mode\": \"markers\", \"name\": \"\\ub178\\uc120\\uba85=82-2\", \"showlegend\": true, \"type\": \"scattergl\", \"x\": [5, 6, 7, 8, 9, 10, 11, 12, 13, 14, 15, 16, 17, 18, 19, 20, 21, 22, 23], \"xaxis\": \"x\", \"y\": [24, 33, 59, 71, 52, 28, 18, 41, 37, 25, 39, 47, 41, 71, 35, 24, 26, 17, 14], \"yaxis\": \"y\"}, {\"hoverlabel\": {\"namelength\": 0}, \"hovertemplate\": \"\\ub178\\uc120\\uba85=820<br>\\uc2dc\\uac04=%{x}<br>\\uc774\\uc6a9\\ub7c9=%{y}\", \"legendgroup\": \"\\ub178\\uc120\\uba85=820\", \"marker\": {\"color\": \"#B6E880\", \"symbol\": \"circle\"}, \"mode\": \"markers\", \"name\": \"\\ub178\\uc120\\uba85=820\", \"showlegend\": true, \"type\": \"scattergl\", \"x\": [5, 6, 7, 8, 9, 10, 11, 12, 14, 15, 16, 17, 18, 19, 20, 21, 22, 23], \"xaxis\": \"x\", \"y\": [2, 3, 2, 6, 7, 3, 5, 8, 1, 4, 2, 1, 11, 3, 2, 5, 2, 4], \"yaxis\": \"y\"}, {\"hoverlabel\": {\"namelength\": 0}, \"hovertemplate\": \"\\ub178\\uc120\\uba85=8201<br>\\uc2dc\\uac04=%{x}<br>\\uc774\\uc6a9\\ub7c9=%{y}\", \"legendgroup\": \"\\ub178\\uc120\\uba85=8201\", \"marker\": {\"color\": \"#FF97FF\", \"symbol\": \"circle\"}, \"mode\": \"markers\", \"name\": \"\\ub178\\uc120\\uba85=8201\", \"showlegend\": true, \"type\": \"scattergl\", \"x\": [7, 15, 16, 19, 20, 21], \"xaxis\": \"x\", \"y\": [1, 1, 1, 1, 3, 4], \"yaxis\": \"y\"}, {\"hoverlabel\": {\"namelength\": 0}, \"hovertemplate\": \"\\ub178\\uc120\\uba85=83<br>\\uc2dc\\uac04=%{x}<br>\\uc774\\uc6a9\\ub7c9=%{y}\", \"legendgroup\": \"\\ub178\\uc120\\uba85=83\", \"marker\": {\"color\": \"#FECB52\", \"symbol\": \"circle\"}, \"mode\": \"markers\", \"name\": \"\\ub178\\uc120\\uba85=83\", \"showlegend\": true, \"type\": \"scattergl\", \"x\": [6, 7, 11, 17, 18, 23], \"xaxis\": \"x\", \"y\": [3, 2, 1, 1, 1, 1], \"yaxis\": \"y\"}, {\"hoverlabel\": {\"namelength\": 0}, \"hovertemplate\": \"\\ub178\\uc120\\uba85=83-1<br>\\uc2dc\\uac04=%{x}<br>\\uc774\\uc6a9\\ub7c9=%{y}\", \"legendgroup\": \"\\ub178\\uc120\\uba85=83-1\", \"marker\": {\"color\": \"#636efa\", \"symbol\": \"circle\"}, \"mode\": \"markers\", \"name\": \"\\ub178\\uc120\\uba85=83-1\", \"showlegend\": true, \"type\": \"scattergl\", \"x\": [5, 6, 7, 8, 9, 10, 11, 12, 13, 14, 15, 16, 17, 18, 19, 20, 21, 22, 23], \"xaxis\": \"x\", \"y\": [10, 28, 78, 58, 44, 15, 29, 42, 32, 33, 25, 31, 23, 34, 22, 10, 16, 3, 10], \"yaxis\": \"y\"}, {\"hoverlabel\": {\"namelength\": 0}, \"hovertemplate\": \"\\ub178\\uc120\\uba85=830<br>\\uc2dc\\uac04=%{x}<br>\\uc774\\uc6a9\\ub7c9=%{y}\", \"legendgroup\": \"\\ub178\\uc120\\uba85=830\", \"marker\": {\"color\": \"#EF553B\", \"symbol\": \"circle\"}, \"mode\": \"markers\", \"name\": \"\\ub178\\uc120\\uba85=830\", \"showlegend\": true, \"type\": \"scattergl\", \"x\": [5, 21], \"xaxis\": \"x\", \"y\": [1, 1], \"yaxis\": \"y\"}, {\"hoverlabel\": {\"namelength\": 0}, \"hovertemplate\": \"\\ub178\\uc120\\uba85=84<br>\\uc2dc\\uac04=%{x}<br>\\uc774\\uc6a9\\ub7c9=%{y}\", \"legendgroup\": \"\\ub178\\uc120\\uba85=84\", \"marker\": {\"color\": \"#00cc96\", \"symbol\": \"circle\"}, \"mode\": \"markers\", \"name\": \"\\ub178\\uc120\\uba85=84\", \"showlegend\": true, \"type\": \"scattergl\", \"x\": [11], \"xaxis\": \"x\", \"y\": [1], \"yaxis\": \"y\"}, {\"hoverlabel\": {\"namelength\": 0}, \"hovertemplate\": \"\\ub178\\uc120\\uba85=84-1<br>\\uc2dc\\uac04=%{x}<br>\\uc774\\uc6a9\\ub7c9=%{y}\", \"legendgroup\": \"\\ub178\\uc120\\uba85=84-1\", \"marker\": {\"color\": \"#ab63fa\", \"symbol\": \"circle\"}, \"mode\": \"markers\", \"name\": \"\\ub178\\uc120\\uba85=84-1\", \"showlegend\": true, \"type\": \"scattergl\", \"x\": [8], \"xaxis\": \"x\", \"y\": [1], \"yaxis\": \"y\"}, {\"hoverlabel\": {\"namelength\": 0}, \"hovertemplate\": \"\\ub178\\uc120\\uba85=8409<br>\\uc2dc\\uac04=%{x}<br>\\uc774\\uc6a9\\ub7c9=%{y}\", \"legendgroup\": \"\\ub178\\uc120\\uba85=8409\", \"marker\": {\"color\": \"#FFA15A\", \"symbol\": \"circle\"}, \"mode\": \"markers\", \"name\": \"\\ub178\\uc120\\uba85=8409\", \"showlegend\": true, \"type\": \"scattergl\", \"x\": [4, 5, 6, 8, 9, 10, 11, 12, 13, 14, 15, 16, 17, 18, 19, 20, 21, 22, 23], \"xaxis\": \"x\", \"y\": [1, 3, 1, 2, 4, 1, 3, 2, 5, 3, 5, 2, 2, 4, 4, 3, 4, 3, 1], \"yaxis\": \"y\"}, {\"hoverlabel\": {\"namelength\": 0}, \"hovertemplate\": \"\\ub178\\uc120\\uba85=85<br>\\uc2dc\\uac04=%{x}<br>\\uc774\\uc6a9\\ub7c9=%{y}\", \"legendgroup\": \"\\ub178\\uc120\\uba85=85\", \"marker\": {\"color\": \"#19d3f3\", \"symbol\": \"circle\"}, \"mode\": \"markers\", \"name\": \"\\ub178\\uc120\\uba85=85\", \"showlegend\": true, \"type\": \"scattergl\", \"x\": [5, 6, 7, 8, 10, 11, 12, 13, 15, 16, 17, 18, 19, 21, 22], \"xaxis\": \"x\", \"y\": [5, 9, 5, 14, 6, 3, 6, 2, 2, 12, 8, 6, 4, 4, 2], \"yaxis\": \"y\"}, {\"hoverlabel\": {\"namelength\": 0}, \"hovertemplate\": \"\\ub178\\uc120\\uba85=8501<br>\\uc2dc\\uac04=%{x}<br>\\uc774\\uc6a9\\ub7c9=%{y}\", \"legendgroup\": \"\\ub178\\uc120\\uba85=8501\", \"marker\": {\"color\": \"#FF6692\", \"symbol\": \"circle\"}, \"mode\": \"markers\", \"name\": \"\\ub178\\uc120\\uba85=8501\", \"showlegend\": true, \"type\": \"scattergl\", \"x\": [5, 6, 7, 8, 9, 10, 11, 12, 13, 14, 15, 16, 17, 18, 19, 20, 21, 22, 23], \"xaxis\": \"x\", \"y\": [19, 138, 136, 97, 42, 34, 35, 26, 28, 28, 30, 30, 83, 103, 41, 56, 48, 46, 26], \"yaxis\": \"y\"}, {\"hoverlabel\": {\"namelength\": 0}, \"hovertemplate\": \"\\ub178\\uc120\\uba85=8507<br>\\uc2dc\\uac04=%{x}<br>\\uc774\\uc6a9\\ub7c9=%{y}\", \"legendgroup\": \"\\ub178\\uc120\\uba85=8507\", \"marker\": {\"color\": \"#B6E880\", \"symbol\": \"circle\"}, \"mode\": \"markers\", \"name\": \"\\ub178\\uc120\\uba85=8507\", \"showlegend\": true, \"type\": \"scattergl\", \"x\": [18, 21], \"xaxis\": \"x\", \"y\": [1, 1], \"yaxis\": \"y\"}, {\"hoverlabel\": {\"namelength\": 0}, \"hovertemplate\": \"\\ub178\\uc120\\uba85=8600<br>\\uc2dc\\uac04=%{x}<br>\\uc774\\uc6a9\\ub7c9=%{y}\", \"legendgroup\": \"\\ub178\\uc120\\uba85=8600\", \"marker\": {\"color\": \"#FF97FF\", \"symbol\": \"circle\"}, \"mode\": \"markers\", \"name\": \"\\ub178\\uc120\\uba85=8600\", \"showlegend\": true, \"type\": \"scattergl\", \"x\": [17], \"xaxis\": \"x\", \"y\": [1], \"yaxis\": \"y\"}, {\"hoverlabel\": {\"namelength\": 0}, \"hovertemplate\": \"\\ub178\\uc120\\uba85=8601<br>\\uc2dc\\uac04=%{x}<br>\\uc774\\uc6a9\\ub7c9=%{y}\", \"legendgroup\": \"\\ub178\\uc120\\uba85=8601\", \"marker\": {\"color\": \"#FECB52\", \"symbol\": \"circle\"}, \"mode\": \"markers\", \"name\": \"\\ub178\\uc120\\uba85=8601\", \"showlegend\": true, \"type\": \"scattergl\", \"x\": [12], \"xaxis\": \"x\", \"y\": [1], \"yaxis\": \"y\"}, {\"hoverlabel\": {\"namelength\": 0}, \"hovertemplate\": \"\\ub178\\uc120\\uba85=8601A<br>\\uc2dc\\uac04=%{x}<br>\\uc774\\uc6a9\\ub7c9=%{y}\", \"legendgroup\": \"\\ub178\\uc120\\uba85=8601A\", \"marker\": {\"color\": \"#636efa\", \"symbol\": \"circle\"}, \"mode\": \"markers\", \"name\": \"\\ub178\\uc120\\uba85=8601A\", \"showlegend\": true, \"type\": \"scattergl\", \"x\": [20], \"xaxis\": \"x\", \"y\": [1], \"yaxis\": \"y\"}, {\"hoverlabel\": {\"namelength\": 0}, \"hovertemplate\": \"\\ub178\\uc120\\uba85=87<br>\\uc2dc\\uac04=%{x}<br>\\uc774\\uc6a9\\ub7c9=%{y}\", \"legendgroup\": \"\\ub178\\uc120\\uba85=87\", \"marker\": {\"color\": \"#EF553B\", \"symbol\": \"circle\"}, \"mode\": \"markers\", \"name\": \"\\ub178\\uc120\\uba85=87\", \"showlegend\": true, \"type\": \"scattergl\", \"x\": [5, 6, 7, 8, 9, 10, 11, 12, 13, 14, 15, 16, 17, 18, 19, 20, 21, 22, 23], \"xaxis\": \"x\", \"y\": [1, 7, 10, 12, 5, 2, 1, 1, 2, 1, 6, 6, 8, 21, 9, 14, 11, 3, 1], \"yaxis\": \"y\"}, {\"hoverlabel\": {\"namelength\": 0}, \"hovertemplate\": \"\\ub178\\uc120\\uba85=88<br>\\uc2dc\\uac04=%{x}<br>\\uc774\\uc6a9\\ub7c9=%{y}\", \"legendgroup\": \"\\ub178\\uc120\\uba85=88\", \"marker\": {\"color\": \"#00cc96\", \"symbol\": \"circle\"}, \"mode\": \"markers\", \"name\": \"\\ub178\\uc120\\uba85=88\", \"showlegend\": true, \"type\": \"scattergl\", \"x\": [4, 5, 6, 7, 8, 9, 10, 11, 12, 13, 14, 15, 16, 17, 18, 19, 20, 21, 22, 23], \"xaxis\": \"x\", \"y\": [8, 20, 62, 93, 66, 50, 42, 31, 59, 83, 37, 46, 47, 47, 65, 43, 28, 24, 26, 3], \"yaxis\": \"y\"}, {\"hoverlabel\": {\"namelength\": 0}, \"hovertemplate\": \"\\ub178\\uc120\\uba85=88-1<br>\\uc2dc\\uac04=%{x}<br>\\uc774\\uc6a9\\ub7c9=%{y}\", \"legendgroup\": \"\\ub178\\uc120\\uba85=88-1\", \"marker\": {\"color\": \"#ab63fa\", \"symbol\": \"circle\"}, \"mode\": \"markers\", \"name\": \"\\ub178\\uc120\\uba85=88-1\", \"showlegend\": true, \"type\": \"scattergl\", \"x\": [4, 5, 6, 7, 8, 9, 10, 11, 12, 13, 14, 15, 16, 17, 18, 19, 20, 21, 22, 23], \"xaxis\": \"x\", \"y\": [3, 20, 4, 16, 27, 13, 6, 9, 17, 42, 9, 17, 10, 26, 30, 10, 13, 17, 10, 3], \"yaxis\": \"y\"}, {\"hoverlabel\": {\"namelength\": 0}, \"hovertemplate\": \"\\ub178\\uc120\\uba85=8800<br>\\uc2dc\\uac04=%{x}<br>\\uc774\\uc6a9\\ub7c9=%{y}\", \"legendgroup\": \"\\ub178\\uc120\\uba85=8800\", \"marker\": {\"color\": \"#FFA15A\", \"symbol\": \"circle\"}, \"mode\": \"markers\", \"name\": \"\\ub178\\uc120\\uba85=8800\", \"showlegend\": true, \"type\": \"scattergl\", \"x\": [6, 7, 9, 10, 12, 13, 14, 15, 17, 18, 19, 20, 21, 22, 23], \"xaxis\": \"x\", \"y\": [1, 5, 2, 4, 1, 1, 3, 3, 7, 6, 8, 10, 1, 4, 2], \"yaxis\": \"y\"}, {\"hoverlabel\": {\"namelength\": 0}, \"hovertemplate\": \"\\ub178\\uc120\\uba85=8848<br>\\uc2dc\\uac04=%{x}<br>\\uc774\\uc6a9\\ub7c9=%{y}\", \"legendgroup\": \"\\ub178\\uc120\\uba85=8848\", \"marker\": {\"color\": \"#19d3f3\", \"symbol\": \"circle\"}, \"mode\": \"markers\", \"name\": \"\\ub178\\uc120\\uba85=8848\", \"showlegend\": true, \"type\": \"scattergl\", \"x\": [5, 6, 7, 12], \"xaxis\": \"x\", \"y\": [1, 2, 3, 1], \"yaxis\": \"y\"}, {\"hoverlabel\": {\"namelength\": 0}, \"hovertemplate\": \"\\ub178\\uc120\\uba85=88B<br>\\uc2dc\\uac04=%{x}<br>\\uc774\\uc6a9\\ub7c9=%{y}\", \"legendgroup\": \"\\ub178\\uc120\\uba85=88B\", \"marker\": {\"color\": \"#FF6692\", \"symbol\": \"circle\"}, \"mode\": \"markers\", \"name\": \"\\ub178\\uc120\\uba85=88B\", \"showlegend\": true, \"type\": \"scattergl\", \"x\": [13], \"xaxis\": \"x\", \"y\": [1], \"yaxis\": \"y\"}, {\"hoverlabel\": {\"namelength\": 0}, \"hovertemplate\": \"\\ub178\\uc120\\uba85=89<br>\\uc2dc\\uac04=%{x}<br>\\uc774\\uc6a9\\ub7c9=%{y}\", \"legendgroup\": \"\\ub178\\uc120\\uba85=89\", \"marker\": {\"color\": \"#B6E880\", \"symbol\": \"circle\"}, \"mode\": \"markers\", \"name\": \"\\ub178\\uc120\\uba85=89\", \"showlegend\": true, \"type\": \"scattergl\", \"x\": [7], \"xaxis\": \"x\", \"y\": [1], \"yaxis\": \"y\"}, {\"hoverlabel\": {\"namelength\": 0}, \"hovertemplate\": \"\\ub178\\uc120\\uba85=8906<br>\\uc2dc\\uac04=%{x}<br>\\uc774\\uc6a9\\ub7c9=%{y}\", \"legendgroup\": \"\\ub178\\uc120\\uba85=8906\", \"marker\": {\"color\": \"#FF97FF\", \"symbol\": \"circle\"}, \"mode\": \"markers\", \"name\": \"\\ub178\\uc120\\uba85=8906\", \"showlegend\": true, \"type\": \"scattergl\", \"x\": [6, 22], \"xaxis\": \"x\", \"y\": [1, 1], \"yaxis\": \"y\"}, {\"hoverlabel\": {\"namelength\": 0}, \"hovertemplate\": \"\\ub178\\uc120\\uba85=9<br>\\uc2dc\\uac04=%{x}<br>\\uc774\\uc6a9\\ub7c9=%{y}\", \"legendgroup\": \"\\ub178\\uc120\\uba85=9\", \"marker\": {\"color\": \"#FECB52\", \"symbol\": \"circle\"}, \"mode\": \"markers\", \"name\": \"\\ub178\\uc120\\uba85=9\", \"showlegend\": true, \"type\": \"scattergl\", \"x\": [4, 5, 6, 7, 8, 9, 10, 11, 12, 13, 14, 15, 16, 17, 18, 19, 20, 21, 22, 23], \"xaxis\": \"x\", \"y\": [6, 31, 70, 156, 131, 72, 62, 59, 58, 89, 57, 66, 44, 125, 94, 50, 67, 60, 45, 3], \"yaxis\": \"y\"}, {\"hoverlabel\": {\"namelength\": 0}, \"hovertemplate\": \"\\ub178\\uc120\\uba85=9-1<br>\\uc2dc\\uac04=%{x}<br>\\uc774\\uc6a9\\ub7c9=%{y}\", \"legendgroup\": \"\\ub178\\uc120\\uba85=9-1\", \"marker\": {\"color\": \"#636efa\", \"symbol\": \"circle\"}, \"mode\": \"markers\", \"name\": \"\\ub178\\uc120\\uba85=9-1\", \"showlegend\": true, \"type\": \"scattergl\", \"x\": [4, 5, 6, 7, 8, 9, 10, 11, 12, 13, 14, 15, 16, 17, 18, 19, 20, 21, 22, 23], \"xaxis\": \"x\", \"y\": [2, 14, 21, 25, 39, 29, 14, 16, 21, 16, 18, 22, 37, 21, 40, 12, 26, 27, 9, 5], \"yaxis\": \"y\"}, {\"hoverlabel\": {\"namelength\": 0}, \"hovertemplate\": \"\\ub178\\uc120\\uba85=9-2<br>\\uc2dc\\uac04=%{x}<br>\\uc774\\uc6a9\\ub7c9=%{y}\", \"legendgroup\": \"\\ub178\\uc120\\uba85=9-2\", \"marker\": {\"color\": \"#EF553B\", \"symbol\": \"circle\"}, \"mode\": \"markers\", \"name\": \"\\ub178\\uc120\\uba85=9-2\", \"showlegend\": true, \"type\": \"scattergl\", \"x\": [4, 5, 6, 7, 8, 9, 10, 11, 12, 13, 14, 15, 16, 17, 18, 19, 20, 21, 22, 23], \"xaxis\": \"x\", \"y\": [4, 10, 11, 17, 21, 13, 13, 18, 18, 9, 15, 13, 16, 22, 30, 19, 7, 10, 16, 1], \"yaxis\": \"y\"}, {\"hoverlabel\": {\"namelength\": 0}, \"hovertemplate\": \"\\ub178\\uc120\\uba85=9-3<br>\\uc2dc\\uac04=%{x}<br>\\uc774\\uc6a9\\ub7c9=%{y}\", \"legendgroup\": \"\\ub178\\uc120\\uba85=9-3\", \"marker\": {\"color\": \"#00cc96\", \"symbol\": \"circle\"}, \"mode\": \"markers\", \"name\": \"\\ub178\\uc120\\uba85=9-3\", \"showlegend\": true, \"type\": \"scattergl\", \"x\": [4, 6, 7, 10, 13, 16, 17, 18, 21, 23], \"xaxis\": \"x\", \"y\": [1, 3, 7, 1, 1, 2, 1, 2, 1, 1], \"yaxis\": \"y\"}, {\"hoverlabel\": {\"namelength\": 0}, \"hovertemplate\": \"\\ub178\\uc120\\uba85=90<br>\\uc2dc\\uac04=%{x}<br>\\uc774\\uc6a9\\ub7c9=%{y}\", \"legendgroup\": \"\\ub178\\uc120\\uba85=90\", \"marker\": {\"color\": \"#ab63fa\", \"symbol\": \"circle\"}, \"mode\": \"markers\", \"name\": \"\\ub178\\uc120\\uba85=90\", \"showlegend\": true, \"type\": \"scattergl\", \"x\": [6, 13, 18], \"xaxis\": \"x\", \"y\": [1, 1, 1], \"yaxis\": \"y\"}, {\"hoverlabel\": {\"namelength\": 0}, \"hovertemplate\": \"\\ub178\\uc120\\uba85=90-1<br>\\uc2dc\\uac04=%{x}<br>\\uc774\\uc6a9\\ub7c9=%{y}\", \"legendgroup\": \"\\ub178\\uc120\\uba85=90-1\", \"marker\": {\"color\": \"#FFA15A\", \"symbol\": \"circle\"}, \"mode\": \"markers\", \"name\": \"\\ub178\\uc120\\uba85=90-1\", \"showlegend\": true, \"type\": \"scattergl\", \"x\": [8, 12, 17, 18, 19, 20], \"xaxis\": \"x\", \"y\": [1, 1, 2, 5, 2, 2], \"yaxis\": \"y\"}, {\"hoverlabel\": {\"namelength\": 0}, \"hovertemplate\": \"\\ub178\\uc120\\uba85=90-2<br>\\uc2dc\\uac04=%{x}<br>\\uc774\\uc6a9\\ub7c9=%{y}\", \"legendgroup\": \"\\ub178\\uc120\\uba85=90-2\", \"marker\": {\"color\": \"#19d3f3\", \"symbol\": \"circle\"}, \"mode\": \"markers\", \"name\": \"\\ub178\\uc120\\uba85=90-2\", \"showlegend\": true, \"type\": \"scattergl\", \"x\": [10, 11, 13, 14, 16], \"xaxis\": \"x\", \"y\": [1, 1, 1, 1, 1], \"yaxis\": \"y\"}, {\"hoverlabel\": {\"namelength\": 0}, \"hovertemplate\": \"\\ub178\\uc120\\uba85=900<br>\\uc2dc\\uac04=%{x}<br>\\uc774\\uc6a9\\ub7c9=%{y}\", \"legendgroup\": \"\\ub178\\uc120\\uba85=900\", \"marker\": {\"color\": \"#FF6692\", \"symbol\": \"circle\"}, \"mode\": \"markers\", \"name\": \"\\ub178\\uc120\\uba85=900\", \"showlegend\": true, \"type\": \"scattergl\", \"x\": [4, 5, 6, 7, 8, 9, 10, 11, 12, 13, 14, 15, 16, 17, 18, 19, 20, 21, 22, 23], \"xaxis\": \"x\", \"y\": [144, 218, 487, 1155, 1164, 583, 332, 360, 406, 424, 340, 492, 496, 709, 1016, 688, 507, 604, 489, 236], \"yaxis\": \"y\"}, {\"hoverlabel\": {\"namelength\": 0}, \"hovertemplate\": \"\\ub178\\uc120\\uba85=9000<br>\\uc2dc\\uac04=%{x}<br>\\uc774\\uc6a9\\ub7c9=%{y}\", \"legendgroup\": \"\\ub178\\uc120\\uba85=9000\", \"marker\": {\"color\": \"#B6E880\", \"symbol\": \"circle\"}, \"mode\": \"markers\", \"name\": \"\\ub178\\uc120\\uba85=9000\", \"showlegend\": true, \"type\": \"scattergl\", \"x\": [6, 16, 19], \"xaxis\": \"x\", \"y\": [1, 1, 2], \"yaxis\": \"y\"}, {\"hoverlabel\": {\"namelength\": 0}, \"hovertemplate\": \"\\ub178\\uc120\\uba85=9007<br>\\uc2dc\\uac04=%{x}<br>\\uc774\\uc6a9\\ub7c9=%{y}\", \"legendgroup\": \"\\ub178\\uc120\\uba85=9007\", \"marker\": {\"color\": \"#FF97FF\", \"symbol\": \"circle\"}, \"mode\": \"markers\", \"name\": \"\\ub178\\uc120\\uba85=9007\", \"showlegend\": true, \"type\": \"scattergl\", \"x\": [18, 20, 21], \"xaxis\": \"x\", \"y\": [2, 1, 1], \"yaxis\": \"y\"}, {\"hoverlabel\": {\"namelength\": 0}, \"hovertemplate\": \"\\ub178\\uc120\\uba85=909<br>\\uc2dc\\uac04=%{x}<br>\\uc774\\uc6a9\\ub7c9=%{y}\", \"legendgroup\": \"\\ub178\\uc120\\uba85=909\", \"marker\": {\"color\": \"#FECB52\", \"symbol\": \"circle\"}, \"mode\": \"markers\", \"name\": \"\\ub178\\uc120\\uba85=909\", \"showlegend\": true, \"type\": \"scattergl\", \"x\": [5, 6, 7, 8, 9, 10, 11, 12, 13, 14, 15, 16, 17, 18, 19, 20, 21, 22, 23], \"xaxis\": \"x\", \"y\": [11, 14, 30, 40, 9, 6, 7, 12, 10, 12, 7, 12, 18, 24, 25, 27, 32, 15, 3], \"yaxis\": \"y\"}, {\"hoverlabel\": {\"namelength\": 0}, \"hovertemplate\": \"\\ub178\\uc120\\uba85=91<br>\\uc2dc\\uac04=%{x}<br>\\uc774\\uc6a9\\ub7c9=%{y}\", \"legendgroup\": \"\\ub178\\uc120\\uba85=91\", \"marker\": {\"color\": \"#636efa\", \"symbol\": \"circle\"}, \"mode\": \"markers\", \"name\": \"\\ub178\\uc120\\uba85=91\", \"showlegend\": true, \"type\": \"scattergl\", \"x\": [5, 9, 11, 12, 22, 23], \"xaxis\": \"x\", \"y\": [1, 1, 1, 1, 1, 2], \"yaxis\": \"y\"}, {\"hoverlabel\": {\"namelength\": 0}, \"hovertemplate\": \"\\ub178\\uc120\\uba85=91-2<br>\\uc2dc\\uac04=%{x}<br>\\uc774\\uc6a9\\ub7c9=%{y}\", \"legendgroup\": \"\\ub178\\uc120\\uba85=91-2\", \"marker\": {\"color\": \"#EF553B\", \"symbol\": \"circle\"}, \"mode\": \"markers\", \"name\": \"\\ub178\\uc120\\uba85=91-2\", \"showlegend\": true, \"type\": \"scattergl\", \"x\": [6], \"xaxis\": \"x\", \"y\": [1], \"yaxis\": \"y\"}, {\"hoverlabel\": {\"namelength\": 0}, \"hovertemplate\": \"\\ub178\\uc120\\uba85=917<br>\\uc2dc\\uac04=%{x}<br>\\uc774\\uc6a9\\ub7c9=%{y}\", \"legendgroup\": \"\\ub178\\uc120\\uba85=917\", \"marker\": {\"color\": \"#00cc96\", \"symbol\": \"circle\"}, \"mode\": \"markers\", \"name\": \"\\ub178\\uc120\\uba85=917\", \"showlegend\": true, \"type\": \"scattergl\", \"x\": [6, 7, 8, 10, 11, 14, 15, 16, 17, 18, 19, 20, 21], \"xaxis\": \"x\", \"y\": [1, 9, 1, 1, 2, 1, 1, 1, 1, 2, 1, 3, 1], \"yaxis\": \"y\"}, {\"hoverlabel\": {\"namelength\": 0}, \"hovertemplate\": \"\\ub178\\uc120\\uba85=918-9<br>\\uc2dc\\uac04=%{x}<br>\\uc774\\uc6a9\\ub7c9=%{y}\", \"legendgroup\": \"\\ub178\\uc120\\uba85=918-9\", \"marker\": {\"color\": \"#ab63fa\", \"symbol\": \"circle\"}, \"mode\": \"markers\", \"name\": \"\\ub178\\uc120\\uba85=918-9\", \"showlegend\": true, \"type\": \"scattergl\", \"x\": [7], \"xaxis\": \"x\", \"y\": [1], \"yaxis\": \"y\"}, {\"hoverlabel\": {\"namelength\": 0}, \"hovertemplate\": \"\\ub178\\uc120\\uba85=92<br>\\uc2dc\\uac04=%{x}<br>\\uc774\\uc6a9\\ub7c9=%{y}\", \"legendgroup\": \"\\ub178\\uc120\\uba85=92\", \"marker\": {\"color\": \"#FFA15A\", \"symbol\": \"circle\"}, \"mode\": \"markers\", \"name\": \"\\ub178\\uc120\\uba85=92\", \"showlegend\": true, \"type\": \"scattergl\", \"x\": [5, 6, 7, 8, 9, 10, 11, 12, 13, 14, 15, 16, 17, 18, 19, 20, 21, 22, 23], \"xaxis\": \"x\", \"y\": [44, 82, 231, 242, 130, 125, 108, 103, 141, 118, 146, 164, 166, 170, 95, 110, 94, 82, 18], \"yaxis\": \"y\"}, {\"hoverlabel\": {\"namelength\": 0}, \"hovertemplate\": \"\\ub178\\uc120\\uba85=92-1<br>\\uc2dc\\uac04=%{x}<br>\\uc774\\uc6a9\\ub7c9=%{y}\", \"legendgroup\": \"\\ub178\\uc120\\uba85=92-1\", \"marker\": {\"color\": \"#19d3f3\", \"symbol\": \"circle\"}, \"mode\": \"markers\", \"name\": \"\\ub178\\uc120\\uba85=92-1\", \"showlegend\": true, \"type\": \"scattergl\", \"x\": [4, 5, 6, 7, 8, 9, 10, 11, 12, 13, 14, 15, 16, 17, 18, 19, 20, 21, 22, 23], \"xaxis\": \"x\", \"y\": [14, 208, 834, 1704, 2598, 1282, 946, 950, 1290, 1362, 1294, 1450, 1742, 2240, 2144, 1562, 1606, 1320, 1390, 596], \"yaxis\": \"y\"}, {\"hoverlabel\": {\"namelength\": 0}, \"hovertemplate\": \"\\ub178\\uc120\\uba85=93<br>\\uc2dc\\uac04=%{x}<br>\\uc774\\uc6a9\\ub7c9=%{y}\", \"legendgroup\": \"\\ub178\\uc120\\uba85=93\", \"marker\": {\"color\": \"#FF6692\", \"symbol\": \"circle\"}, \"mode\": \"markers\", \"name\": \"\\ub178\\uc120\\uba85=93\", \"showlegend\": true, \"type\": \"scattergl\", \"x\": [17, 20], \"xaxis\": \"x\", \"y\": [1, 1], \"yaxis\": \"y\"}, {\"hoverlabel\": {\"namelength\": 0}, \"hovertemplate\": \"\\ub178\\uc120\\uba85=930-1<br>\\uc2dc\\uac04=%{x}<br>\\uc774\\uc6a9\\ub7c9=%{y}\", \"legendgroup\": \"\\ub178\\uc120\\uba85=930-1\", \"marker\": {\"color\": \"#B6E880\", \"symbol\": \"circle\"}, \"mode\": \"markers\", \"name\": \"\\ub178\\uc120\\uba85=930-1\", \"showlegend\": true, \"type\": \"scattergl\", \"x\": [7], \"xaxis\": \"x\", \"y\": [1], \"yaxis\": \"y\"}, {\"hoverlabel\": {\"namelength\": 0}, \"hovertemplate\": \"\\ub178\\uc120\\uba85=9300<br>\\uc2dc\\uac04=%{x}<br>\\uc774\\uc6a9\\ub7c9=%{y}\", \"legendgroup\": \"\\ub178\\uc120\\uba85=9300\", \"marker\": {\"color\": \"#FF97FF\", \"symbol\": \"circle\"}, \"mode\": \"markers\", \"name\": \"\\ub178\\uc120\\uba85=9300\", \"showlegend\": true, \"type\": \"scattergl\", \"x\": [7], \"xaxis\": \"x\", \"y\": [2], \"yaxis\": \"y\"}, {\"hoverlabel\": {\"namelength\": 0}, \"hovertemplate\": \"\\ub178\\uc120\\uba85=9301<br>\\uc2dc\\uac04=%{x}<br>\\uc774\\uc6a9\\ub7c9=%{y}\", \"legendgroup\": \"\\ub178\\uc120\\uba85=9301\", \"marker\": {\"color\": \"#FECB52\", \"symbol\": \"circle\"}, \"mode\": \"markers\", \"name\": \"\\ub178\\uc120\\uba85=9301\", \"showlegend\": true, \"type\": \"scattergl\", \"x\": [10, 16], \"xaxis\": \"x\", \"y\": [1, 1], \"yaxis\": \"y\"}, {\"hoverlabel\": {\"namelength\": 0}, \"hovertemplate\": \"\\ub178\\uc120\\uba85=9302<br>\\uc2dc\\uac04=%{x}<br>\\uc774\\uc6a9\\ub7c9=%{y}\", \"legendgroup\": \"\\ub178\\uc120\\uba85=9302\", \"marker\": {\"color\": \"#636efa\", \"symbol\": \"circle\"}, \"mode\": \"markers\", \"name\": \"\\ub178\\uc120\\uba85=9302\", \"showlegend\": true, \"type\": \"scattergl\", \"x\": [6, 8, 15], \"xaxis\": \"x\", \"y\": [1, 1, 1], \"yaxis\": \"y\"}, {\"hoverlabel\": {\"namelength\": 0}, \"hovertemplate\": \"\\ub178\\uc120\\uba85=9303<br>\\uc2dc\\uac04=%{x}<br>\\uc774\\uc6a9\\ub7c9=%{y}\", \"legendgroup\": \"\\ub178\\uc120\\uba85=9303\", \"marker\": {\"color\": \"#EF553B\", \"symbol\": \"circle\"}, \"mode\": \"markers\", \"name\": \"\\ub178\\uc120\\uba85=9303\", \"showlegend\": true, \"type\": \"scattergl\", \"x\": [18], \"xaxis\": \"x\", \"y\": [1], \"yaxis\": \"y\"}, {\"hoverlabel\": {\"namelength\": 0}, \"hovertemplate\": \"\\ub178\\uc120\\uba85=94<br>\\uc2dc\\uac04=%{x}<br>\\uc774\\uc6a9\\ub7c9=%{y}\", \"legendgroup\": \"\\ub178\\uc120\\uba85=94\", \"marker\": {\"color\": \"#00cc96\", \"symbol\": \"circle\"}, \"mode\": \"markers\", \"name\": \"\\ub178\\uc120\\uba85=94\", \"showlegend\": true, \"type\": \"scattergl\", \"x\": [6, 7, 8, 9, 10, 11, 12, 13, 14, 15, 16, 17, 18, 19, 20, 21, 22], \"xaxis\": \"x\", \"y\": [8, 67, 95, 40, 19, 25, 31, 19, 20, 35, 46, 54, 79, 54, 38, 29, 9], \"yaxis\": \"y\"}, {\"hoverlabel\": {\"namelength\": 0}, \"hovertemplate\": \"\\ub178\\uc120\\uba85=940<br>\\uc2dc\\uac04=%{x}<br>\\uc774\\uc6a9\\ub7c9=%{y}\", \"legendgroup\": \"\\ub178\\uc120\\uba85=940\", \"marker\": {\"color\": \"#ab63fa\", \"symbol\": \"circle\"}, \"mode\": \"markers\", \"name\": \"\\ub178\\uc120\\uba85=940\", \"showlegend\": true, \"type\": \"scattergl\", \"x\": [9], \"xaxis\": \"x\", \"y\": [1], \"yaxis\": \"y\"}, {\"hoverlabel\": {\"namelength\": 0}, \"hovertemplate\": \"\\ub178\\uc120\\uba85=9407<br>\\uc2dc\\uac04=%{x}<br>\\uc774\\uc6a9\\ub7c9=%{y}\", \"legendgroup\": \"\\ub178\\uc120\\uba85=9407\", \"marker\": {\"color\": \"#FFA15A\", \"symbol\": \"circle\"}, \"mode\": \"markers\", \"name\": \"\\ub178\\uc120\\uba85=9407\", \"showlegend\": true, \"type\": \"scattergl\", \"x\": [6, 7, 10, 15, 16, 17, 20, 22], \"xaxis\": \"x\", \"y\": [1, 1, 1, 1, 1, 2, 2, 2], \"yaxis\": \"y\"}, {\"hoverlabel\": {\"namelength\": 0}, \"hovertemplate\": \"\\ub178\\uc120\\uba85=9414<br>\\uc2dc\\uac04=%{x}<br>\\uc774\\uc6a9\\ub7c9=%{y}\", \"legendgroup\": \"\\ub178\\uc120\\uba85=9414\", \"marker\": {\"color\": \"#19d3f3\", \"symbol\": \"circle\"}, \"mode\": \"markers\", \"name\": \"\\ub178\\uc120\\uba85=9414\", \"showlegend\": true, \"type\": \"scattergl\", \"x\": [16, 18], \"xaxis\": \"x\", \"y\": [1, 1], \"yaxis\": \"y\"}, {\"hoverlabel\": {\"namelength\": 0}, \"hovertemplate\": \"\\ub178\\uc120\\uba85=95<br>\\uc2dc\\uac04=%{x}<br>\\uc774\\uc6a9\\ub7c9=%{y}\", \"legendgroup\": \"\\ub178\\uc120\\uba85=95\", \"marker\": {\"color\": \"#FF6692\", \"symbol\": \"circle\"}, \"mode\": \"markers\", \"name\": \"\\ub178\\uc120\\uba85=95\", \"showlegend\": true, \"type\": \"scattergl\", \"x\": [6, 7, 8, 10, 15, 17, 18, 21], \"xaxis\": \"x\", \"y\": [2, 2, 2, 1, 1, 2, 2, 1], \"yaxis\": \"y\"}, {\"hoverlabel\": {\"namelength\": 0}, \"hovertemplate\": \"\\ub178\\uc120\\uba85=9600<br>\\uc2dc\\uac04=%{x}<br>\\uc774\\uc6a9\\ub7c9=%{y}\", \"legendgroup\": \"\\ub178\\uc120\\uba85=9600\", \"marker\": {\"color\": \"#B6E880\", \"symbol\": \"circle\"}, \"mode\": \"markers\", \"name\": \"\\ub178\\uc120\\uba85=9600\", \"showlegend\": true, \"type\": \"scattergl\", \"x\": [5], \"xaxis\": \"x\", \"y\": [1], \"yaxis\": \"y\"}, {\"hoverlabel\": {\"namelength\": 0}, \"hovertemplate\": \"\\ub178\\uc120\\uba85=97<br>\\uc2dc\\uac04=%{x}<br>\\uc774\\uc6a9\\ub7c9=%{y}\", \"legendgroup\": \"\\ub178\\uc120\\uba85=97\", \"marker\": {\"color\": \"#FF97FF\", \"symbol\": \"circle\"}, \"mode\": \"markers\", \"name\": \"\\ub178\\uc120\\uba85=97\", \"showlegend\": true, \"type\": \"scattergl\", \"x\": [5, 13, 15, 18, 20], \"xaxis\": \"x\", \"y\": [1, 1, 1, 1, 1], \"yaxis\": \"y\"}, {\"hoverlabel\": {\"namelength\": 0}, \"hovertemplate\": \"\\ub178\\uc120\\uba85=9700<br>\\uc2dc\\uac04=%{x}<br>\\uc774\\uc6a9\\ub7c9=%{y}\", \"legendgroup\": \"\\ub178\\uc120\\uba85=9700\", \"marker\": {\"color\": \"#FECB52\", \"symbol\": \"circle\"}, \"mode\": \"markers\", \"name\": \"\\ub178\\uc120\\uba85=9700\", \"showlegend\": true, \"type\": \"scattergl\", \"x\": [5, 8, 15], \"xaxis\": \"x\", \"y\": [8, 2, 2], \"yaxis\": \"y\"}, {\"hoverlabel\": {\"namelength\": 0}, \"hovertemplate\": \"\\ub178\\uc120\\uba85=9710<br>\\uc2dc\\uac04=%{x}<br>\\uc774\\uc6a9\\ub7c9=%{y}\", \"legendgroup\": \"\\ub178\\uc120\\uba85=9710\", \"marker\": {\"color\": \"#636efa\", \"symbol\": \"circle\"}, \"mode\": \"markers\", \"name\": \"\\ub178\\uc120\\uba85=9710\", \"showlegend\": true, \"type\": \"scattergl\", \"x\": [5], \"xaxis\": \"x\", \"y\": [1], \"yaxis\": \"y\"}, {\"hoverlabel\": {\"namelength\": 0}, \"hovertemplate\": \"\\ub178\\uc120\\uba85=98<br>\\uc2dc\\uac04=%{x}<br>\\uc774\\uc6a9\\ub7c9=%{y}\", \"legendgroup\": \"\\ub178\\uc120\\uba85=98\", \"marker\": {\"color\": \"#EF553B\", \"symbol\": \"circle\"}, \"mode\": \"markers\", \"name\": \"\\ub178\\uc120\\uba85=98\", \"showlegend\": true, \"type\": \"scattergl\", \"x\": [4, 5, 6, 7, 8, 9, 10, 11, 12, 13, 14, 15, 16, 17, 18, 19, 20, 21, 22, 23], \"xaxis\": \"x\", \"y\": [36, 332, 557, 1598, 1804, 827, 655, 721, 894, 1314, 846, 1007, 1195, 1521, 1428, 1111, 816, 817, 650, 306], \"yaxis\": \"y\"}, {\"hoverlabel\": {\"namelength\": 0}, \"hovertemplate\": \"\\ub178\\uc120\\uba85=99<br>\\uc2dc\\uac04=%{x}<br>\\uc774\\uc6a9\\ub7c9=%{y}\", \"legendgroup\": \"\\ub178\\uc120\\uba85=99\", \"marker\": {\"color\": \"#00cc96\", \"symbol\": \"circle\"}, \"mode\": \"markers\", \"name\": \"\\ub178\\uc120\\uba85=99\", \"showlegend\": true, \"type\": \"scattergl\", \"x\": [4, 5, 6, 7, 8, 9, 10, 11, 12, 13, 14, 15, 16, 17, 18, 19, 20, 21, 22, 23], \"xaxis\": \"x\", \"y\": [16, 163, 287, 547, 551, 274, 202, 265, 305, 329, 308, 295, 454, 462, 473, 386, 261, 304, 317, 162], \"yaxis\": \"y\"}, {\"hoverlabel\": {\"namelength\": 0}, \"hovertemplate\": \"\\ub178\\uc120\\uba85=99-1<br>\\uc2dc\\uac04=%{x}<br>\\uc774\\uc6a9\\ub7c9=%{y}\", \"legendgroup\": \"\\ub178\\uc120\\uba85=99-1\", \"marker\": {\"color\": \"#ab63fa\", \"symbol\": \"circle\"}, \"mode\": \"markers\", \"name\": \"\\ub178\\uc120\\uba85=99-1\", \"showlegend\": true, \"type\": \"scattergl\", \"x\": [5, 6, 7, 8, 9, 10, 11, 12, 13, 14, 15, 16, 17, 18, 19], \"xaxis\": \"x\", \"y\": [2, 6, 11, 2, 3, 3, 1, 5, 3, 1, 1, 4, 4, 2, 2], \"yaxis\": \"y\"}, {\"hoverlabel\": {\"namelength\": 0}, \"hovertemplate\": \"\\ub178\\uc120\\uba85=99-2<br>\\uc2dc\\uac04=%{x}<br>\\uc774\\uc6a9\\ub7c9=%{y}\", \"legendgroup\": \"\\ub178\\uc120\\uba85=99-2\", \"marker\": {\"color\": \"#FFA15A\", \"symbol\": \"circle\"}, \"mode\": \"markers\", \"name\": \"\\ub178\\uc120\\uba85=99-2\", \"showlegend\": true, \"type\": \"scattergl\", \"x\": [4, 5, 6, 7, 8, 9, 10, 11, 12, 13, 14, 15, 16, 17, 18, 19, 20, 21, 22, 23], \"xaxis\": \"x\", \"y\": [5, 14, 18, 53, 70, 38, 21, 26, 36, 36, 19, 21, 30, 55, 33, 26, 20, 24, 20, 7], \"yaxis\": \"y\"}, {\"hoverlabel\": {\"namelength\": 0}, \"hovertemplate\": \"\\ub178\\uc120\\uba85=99-3<br>\\uc2dc\\uac04=%{x}<br>\\uc774\\uc6a9\\ub7c9=%{y}\", \"legendgroup\": \"\\ub178\\uc120\\uba85=99-3\", \"marker\": {\"color\": \"#19d3f3\", \"symbol\": \"circle\"}, \"mode\": \"markers\", \"name\": \"\\ub178\\uc120\\uba85=99-3\", \"showlegend\": true, \"type\": \"scattergl\", \"x\": [7, 18, 19], \"xaxis\": \"x\", \"y\": [2, 1, 1], \"yaxis\": \"y\"}, {\"hoverlabel\": {\"namelength\": 0}, \"hovertemplate\": \"\\ub178\\uc120\\uba85=990<br>\\uc2dc\\uac04=%{x}<br>\\uc774\\uc6a9\\ub7c9=%{y}\", \"legendgroup\": \"\\ub178\\uc120\\uba85=990\", \"marker\": {\"color\": \"#FF6692\", \"symbol\": \"circle\"}, \"mode\": \"markers\", \"name\": \"\\ub178\\uc120\\uba85=990\", \"showlegend\": true, \"type\": \"scattergl\", \"x\": [5, 6, 7, 8, 9, 10, 11, 12, 13, 14, 15, 16, 17, 18, 19, 20, 21, 22, 23], \"xaxis\": \"x\", \"y\": [6, 5, 9, 8, 9, 2, 2, 5, 8, 5, 5, 4, 9, 13, 6, 6, 7, 3, 1], \"yaxis\": \"y\"}, {\"hoverlabel\": {\"namelength\": 0}, \"hovertemplate\": \"\\ub178\\uc120\\uba85=999<br>\\uc2dc\\uac04=%{x}<br>\\uc774\\uc6a9\\ub7c9=%{y}\", \"legendgroup\": \"\\ub178\\uc120\\uba85=999\", \"marker\": {\"color\": \"#B6E880\", \"symbol\": \"circle\"}, \"mode\": \"markers\", \"name\": \"\\ub178\\uc120\\uba85=999\", \"showlegend\": true, \"type\": \"scattergl\", \"x\": [5, 6, 7, 8, 9, 10, 11, 12, 13, 14, 15, 16, 17, 18, 19, 20, 21, 22], \"xaxis\": \"x\", \"y\": [1, 7, 30, 14, 19, 7, 11, 15, 20, 7, 3, 13, 25, 38, 6, 11, 15, 2], \"yaxis\": \"y\"}, {\"hoverlabel\": {\"namelength\": 0}, \"hovertemplate\": \"\\ub178\\uc120\\uba85=G5100<br>\\uc2dc\\uac04=%{x}<br>\\uc774\\uc6a9\\ub7c9=%{y}\", \"legendgroup\": \"\\ub178\\uc120\\uba85=G5100\", \"marker\": {\"color\": \"#FF97FF\", \"symbol\": \"circle\"}, \"mode\": \"markers\", \"name\": \"\\ub178\\uc120\\uba85=G5100\", \"showlegend\": true, \"type\": \"scattergl\", \"x\": [9, 16, 17, 18, 19, 20], \"xaxis\": \"x\", \"y\": [1, 3, 2, 3, 5, 3], \"yaxis\": \"y\"}, {\"hoverlabel\": {\"namelength\": 0}, \"hovertemplate\": \"\\ub178\\uc120\\uba85=G8110<br>\\uc2dc\\uac04=%{x}<br>\\uc774\\uc6a9\\ub7c9=%{y}\", \"legendgroup\": \"\\ub178\\uc120\\uba85=G8110\", \"marker\": {\"color\": \"#FECB52\", \"symbol\": \"circle\"}, \"mode\": \"markers\", \"name\": \"\\ub178\\uc120\\uba85=G8110\", \"showlegend\": true, \"type\": \"scattergl\", \"x\": [12, 14, 18, 19, 20, 21], \"xaxis\": \"x\", \"y\": [1, 1, 1, 10, 2, 1], \"yaxis\": \"y\"}, {\"hoverlabel\": {\"namelength\": 0}, \"hovertemplate\": \"\\ub178\\uc120\\uba85=M2316<br>\\uc2dc\\uac04=%{x}<br>\\uc774\\uc6a9\\ub7c9=%{y}\", \"legendgroup\": \"\\ub178\\uc120\\uba85=M2316\", \"marker\": {\"color\": \"#636efa\", \"symbol\": \"circle\"}, \"mode\": \"markers\", \"name\": \"\\ub178\\uc120\\uba85=M2316\", \"showlegend\": true, \"type\": \"scattergl\", \"x\": [5], \"xaxis\": \"x\", \"y\": [1], \"yaxis\": \"y\"}, {\"hoverlabel\": {\"namelength\": 0}, \"hovertemplate\": \"\\ub178\\uc120\\uba85=M2323<br>\\uc2dc\\uac04=%{x}<br>\\uc774\\uc6a9\\ub7c9=%{y}\", \"legendgroup\": \"\\ub178\\uc120\\uba85=M2323\", \"marker\": {\"color\": \"#EF553B\", \"symbol\": \"circle\"}, \"mode\": \"markers\", \"name\": \"\\ub178\\uc120\\uba85=M2323\", \"showlegend\": true, \"type\": \"scattergl\", \"x\": [11], \"xaxis\": \"x\", \"y\": [1], \"yaxis\": \"y\"}, {\"hoverlabel\": {\"namelength\": 0}, \"hovertemplate\": \"\\ub178\\uc120\\uba85=M4101<br>\\uc2dc\\uac04=%{x}<br>\\uc774\\uc6a9\\ub7c9=%{y}\", \"legendgroup\": \"\\ub178\\uc120\\uba85=M4101\", \"marker\": {\"color\": \"#00cc96\", \"symbol\": \"circle\"}, \"mode\": \"markers\", \"name\": \"\\ub178\\uc120\\uba85=M4101\", \"showlegend\": true, \"type\": \"scattergl\", \"x\": [7, 9, 11, 12, 13, 14, 15, 16, 17, 18, 19, 20, 21, 22], \"xaxis\": \"x\", \"y\": [1, 2, 1, 1, 7, 1, 6, 10, 13, 13, 26, 16, 8, 6], \"yaxis\": \"y\"}, {\"hoverlabel\": {\"namelength\": 0}, \"hovertemplate\": \"\\ub178\\uc120\\uba85=M4102<br>\\uc2dc\\uac04=%{x}<br>\\uc774\\uc6a9\\ub7c9=%{y}\", \"legendgroup\": \"\\ub178\\uc120\\uba85=M4102\", \"marker\": {\"color\": \"#ab63fa\", \"symbol\": \"circle\"}, \"mode\": \"markers\", \"name\": \"\\ub178\\uc120\\uba85=M4102\", \"showlegend\": true, \"type\": \"scattergl\", \"x\": [13, 14, 16, 17, 18, 19, 20, 21, 22], \"xaxis\": \"x\", \"y\": [2, 4, 2, 2, 8, 5, 8, 1, 2], \"yaxis\": \"y\"}, {\"hoverlabel\": {\"namelength\": 0}, \"hovertemplate\": \"\\ub178\\uc120\\uba85=M4108<br>\\uc2dc\\uac04=%{x}<br>\\uc774\\uc6a9\\ub7c9=%{y}\", \"legendgroup\": \"\\ub178\\uc120\\uba85=M4108\", \"marker\": {\"color\": \"#FFA15A\", \"symbol\": \"circle\"}, \"mode\": \"markers\", \"name\": \"\\ub178\\uc120\\uba85=M4108\", \"showlegend\": true, \"type\": \"scattergl\", \"x\": [6, 8, 11, 12, 13, 14, 15, 16, 17, 18, 19, 20, 21, 22, 23], \"xaxis\": \"x\", \"y\": [1, 1, 2, 3, 5, 4, 4, 9, 11, 24, 24, 12, 18, 4, 2], \"yaxis\": \"y\"}, {\"hoverlabel\": {\"namelength\": 0}, \"hovertemplate\": \"\\ub178\\uc120\\uba85=M4130<br>\\uc2dc\\uac04=%{x}<br>\\uc774\\uc6a9\\ub7c9=%{y}\", \"legendgroup\": \"\\ub178\\uc120\\uba85=M4130\", \"marker\": {\"color\": \"#19d3f3\", \"symbol\": \"circle\"}, \"mode\": \"markers\", \"name\": \"\\ub178\\uc120\\uba85=M4130\", \"showlegend\": true, \"type\": \"scattergl\", \"x\": [7, 13, 15, 16, 17, 18, 19, 20, 21, 22], \"xaxis\": \"x\", \"y\": [1, 1, 4, 8, 5, 4, 19, 4, 6, 3], \"yaxis\": \"y\"}, {\"hoverlabel\": {\"namelength\": 0}, \"hovertemplate\": \"\\ub178\\uc120\\uba85=M4403<br>\\uc2dc\\uac04=%{x}<br>\\uc774\\uc6a9\\ub7c9=%{y}\", \"legendgroup\": \"\\ub178\\uc120\\uba85=M4403\", \"marker\": {\"color\": \"#FF6692\", \"symbol\": \"circle\"}, \"mode\": \"markers\", \"name\": \"\\ub178\\uc120\\uba85=M4403\", \"showlegend\": true, \"type\": \"scattergl\", \"x\": [5, 6, 7, 8, 10, 11, 12, 13, 14, 15, 16, 17, 18, 19, 20, 21, 22, 23], \"xaxis\": \"x\", \"y\": [1, 3, 7, 3, 1, 2, 3, 6, 10, 9, 11, 20, 16, 30, 20, 40, 6, 1], \"yaxis\": \"y\"}, {\"hoverlabel\": {\"namelength\": 0}, \"hovertemplate\": \"\\ub178\\uc120\\uba85=M4434<br>\\uc2dc\\uac04=%{x}<br>\\uc774\\uc6a9\\ub7c9=%{y}\", \"legendgroup\": \"\\ub178\\uc120\\uba85=M4434\", \"marker\": {\"color\": \"#B6E880\", \"symbol\": \"circle\"}, \"mode\": \"markers\", \"name\": \"\\ub178\\uc120\\uba85=M4434\", \"showlegend\": true, \"type\": \"scattergl\", \"x\": [11, 12, 13, 16, 18, 19, 20, 21, 22, 23], \"xaxis\": \"x\", \"y\": [1, 2, 1, 3, 7, 5, 6, 2, 1, 1], \"yaxis\": \"y\"}, {\"hoverlabel\": {\"namelength\": 0}, \"hovertemplate\": \"\\ub178\\uc120\\uba85=M5107<br>\\uc2dc\\uac04=%{x}<br>\\uc774\\uc6a9\\ub7c9=%{y}\", \"legendgroup\": \"\\ub178\\uc120\\uba85=M5107\", \"marker\": {\"color\": \"#FF97FF\", \"symbol\": \"circle\"}, \"mode\": \"markers\", \"name\": \"\\ub178\\uc120\\uba85=M5107\", \"showlegend\": true, \"type\": \"scattergl\", \"x\": [7, 8, 10, 12, 13, 14, 15, 16, 17, 18, 19, 20, 21, 22, 23], \"xaxis\": \"x\", \"y\": [1, 1, 3, 4, 1, 1, 3, 6, 19, 44, 35, 24, 18, 19, 3], \"yaxis\": \"y\"}, {\"hoverlabel\": {\"namelength\": 0}, \"hovertemplate\": \"\\ub178\\uc120\\uba85=M5115<br>\\uc2dc\\uac04=%{x}<br>\\uc774\\uc6a9\\ub7c9=%{y}\", \"legendgroup\": \"\\ub178\\uc120\\uba85=M5115\", \"marker\": {\"color\": \"#FECB52\", \"symbol\": \"circle\"}, \"mode\": \"markers\", \"name\": \"\\ub178\\uc120\\uba85=M5115\", \"showlegend\": true, \"type\": \"scattergl\", \"x\": [13, 16, 18, 19, 21, 23], \"xaxis\": \"x\", \"y\": [1, 1, 1, 1, 1, 1], \"yaxis\": \"y\"}, {\"hoverlabel\": {\"namelength\": 0}, \"hovertemplate\": \"\\ub178\\uc120\\uba85=M5121<br>\\uc2dc\\uac04=%{x}<br>\\uc774\\uc6a9\\ub7c9=%{y}\", \"legendgroup\": \"\\ub178\\uc120\\uba85=M5121\", \"marker\": {\"color\": \"#636efa\", \"symbol\": \"circle\"}, \"mode\": \"markers\", \"name\": \"\\ub178\\uc120\\uba85=M5121\", \"showlegend\": true, \"type\": \"scattergl\", \"x\": [6, 8, 9, 11, 12, 13, 14, 15, 16, 17, 18, 19, 20, 21, 22], \"xaxis\": \"x\", \"y\": [1, 1, 2, 2, 2, 4, 1, 3, 3, 5, 8, 5, 10, 3, 5], \"yaxis\": \"y\"}, {\"hoverlabel\": {\"namelength\": 0}, \"hovertemplate\": \"\\ub178\\uc120\\uba85=M5333<br>\\uc2dc\\uac04=%{x}<br>\\uc774\\uc6a9\\ub7c9=%{y}\", \"legendgroup\": \"\\ub178\\uc120\\uba85=M5333\", \"marker\": {\"color\": \"#EF553B\", \"symbol\": \"circle\"}, \"mode\": \"markers\", \"name\": \"\\ub178\\uc120\\uba85=M5333\", \"showlegend\": true, \"type\": \"scattergl\", \"x\": [17, 18, 19, 21, 23], \"xaxis\": \"x\", \"y\": [2, 2, 1, 1, 2], \"yaxis\": \"y\"}, {\"hoverlabel\": {\"namelength\": 0}, \"hovertemplate\": \"\\ub178\\uc120\\uba85=M5422<br>\\uc2dc\\uac04=%{x}<br>\\uc774\\uc6a9\\ub7c9=%{y}\", \"legendgroup\": \"\\ub178\\uc120\\uba85=M5422\", \"marker\": {\"color\": \"#00cc96\", \"symbol\": \"circle\"}, \"mode\": \"markers\", \"name\": \"\\ub178\\uc120\\uba85=M5422\", \"showlegend\": true, \"type\": \"scattergl\", \"x\": [6, 7, 8, 9, 10, 11, 13, 14, 15, 16, 18, 19, 20, 21, 22], \"xaxis\": \"x\", \"y\": [1, 2, 1, 1, 1, 1, 1, 3, 4, 4, 9, 5, 2, 5, 1], \"yaxis\": \"y\"}, {\"hoverlabel\": {\"namelength\": 0}, \"hovertemplate\": \"\\ub178\\uc120\\uba85=M6117<br>\\uc2dc\\uac04=%{x}<br>\\uc774\\uc6a9\\ub7c9=%{y}\", \"legendgroup\": \"\\ub178\\uc120\\uba85=M6117\", \"marker\": {\"color\": \"#ab63fa\", \"symbol\": \"circle\"}, \"mode\": \"markers\", \"name\": \"\\ub178\\uc120\\uba85=M6117\", \"showlegend\": true, \"type\": \"scattergl\", \"x\": [10, 11], \"xaxis\": \"x\", \"y\": [1, 1], \"yaxis\": \"y\"}, {\"hoverlabel\": {\"namelength\": 0}, \"hovertemplate\": \"\\ub178\\uc120\\uba85=M6427<br>\\uc2dc\\uac04=%{x}<br>\\uc774\\uc6a9\\ub7c9=%{y}\", \"legendgroup\": \"\\ub178\\uc120\\uba85=M6427\", \"marker\": {\"color\": \"#FFA15A\", \"symbol\": \"circle\"}, \"mode\": \"markers\", \"name\": \"\\ub178\\uc120\\uba85=M6427\", \"showlegend\": true, \"type\": \"scattergl\", \"x\": [16], \"xaxis\": \"x\", \"y\": [1], \"yaxis\": \"y\"}, {\"hoverlabel\": {\"namelength\": 0}, \"hovertemplate\": \"\\ub178\\uc120\\uba85=M7106<br>\\uc2dc\\uac04=%{x}<br>\\uc774\\uc6a9\\ub7c9=%{y}\", \"legendgroup\": \"\\ub178\\uc120\\uba85=M7106\", \"marker\": {\"color\": \"#19d3f3\", \"symbol\": \"circle\"}, \"mode\": \"markers\", \"name\": \"\\ub178\\uc120\\uba85=M7106\", \"showlegend\": true, \"type\": \"scattergl\", \"x\": [16, 18], \"xaxis\": \"x\", \"y\": [1, 1], \"yaxis\": \"y\"}, {\"hoverlabel\": {\"namelength\": 0}, \"hovertemplate\": \"\\ub178\\uc120\\uba85=M7111<br>\\uc2dc\\uac04=%{x}<br>\\uc774\\uc6a9\\ub7c9=%{y}\", \"legendgroup\": \"\\ub178\\uc120\\uba85=M7111\", \"marker\": {\"color\": \"#FF6692\", \"symbol\": \"circle\"}, \"mode\": \"markers\", \"name\": \"\\ub178\\uc120\\uba85=M7111\", \"showlegend\": true, \"type\": \"scattergl\", \"x\": [5, 18], \"xaxis\": \"x\", \"y\": [1, 1], \"yaxis\": \"y\"}, {\"hoverlabel\": {\"namelength\": 0}, \"hovertemplate\": \"\\ub178\\uc120\\uba85=M7119<br>\\uc2dc\\uac04=%{x}<br>\\uc774\\uc6a9\\ub7c9=%{y}\", \"legendgroup\": \"\\ub178\\uc120\\uba85=M7119\", \"marker\": {\"color\": \"#B6E880\", \"symbol\": \"circle\"}, \"mode\": \"markers\", \"name\": \"\\ub178\\uc120\\uba85=M7119\", \"showlegend\": true, \"type\": \"scattergl\", \"x\": [19], \"xaxis\": \"x\", \"y\": [1], \"yaxis\": \"y\"}, {\"hoverlabel\": {\"namelength\": 0}, \"hovertemplate\": \"\\ub178\\uc120\\uba85=M7412<br>\\uc2dc\\uac04=%{x}<br>\\uc774\\uc6a9\\ub7c9=%{y}\", \"legendgroup\": \"\\ub178\\uc120\\uba85=M7412\", \"marker\": {\"color\": \"#FF97FF\", \"symbol\": \"circle\"}, \"mode\": \"markers\", \"name\": \"\\ub178\\uc120\\uba85=M7412\", \"showlegend\": true, \"type\": \"scattergl\", \"x\": [18], \"xaxis\": \"x\", \"y\": [1], \"yaxis\": \"y\"}, {\"hoverlabel\": {\"namelength\": 0}, \"hovertemplate\": \"\\ub178\\uc120\\uba85=M7731<br>\\uc2dc\\uac04=%{x}<br>\\uc774\\uc6a9\\ub7c9=%{y}\", \"legendgroup\": \"\\ub178\\uc120\\uba85=M7731\", \"marker\": {\"color\": \"#FECB52\", \"symbol\": \"circle\"}, \"mode\": \"markers\", \"name\": \"\\ub178\\uc120\\uba85=M7731\", \"showlegend\": true, \"type\": \"scattergl\", \"x\": [5], \"xaxis\": \"x\", \"y\": [1], \"yaxis\": \"y\"}],\n",
       "                        {\"height\": 600, \"legend\": {\"tracegroupgap\": 0}, \"margin\": {\"t\": 60}, \"template\": {\"data\": {\"bar\": [{\"error_x\": {\"color\": \"#2a3f5f\"}, \"error_y\": {\"color\": \"#2a3f5f\"}, \"marker\": {\"line\": {\"color\": \"#E5ECF6\", \"width\": 0.5}}, \"type\": \"bar\"}], \"barpolar\": [{\"marker\": {\"line\": {\"color\": \"#E5ECF6\", \"width\": 0.5}}, \"type\": \"barpolar\"}], \"carpet\": [{\"aaxis\": {\"endlinecolor\": \"#2a3f5f\", \"gridcolor\": \"white\", \"linecolor\": \"white\", \"minorgridcolor\": \"white\", \"startlinecolor\": \"#2a3f5f\"}, \"baxis\": {\"endlinecolor\": \"#2a3f5f\", \"gridcolor\": \"white\", \"linecolor\": \"white\", \"minorgridcolor\": \"white\", \"startlinecolor\": \"#2a3f5f\"}, \"type\": \"carpet\"}], \"choropleth\": [{\"colorbar\": {\"outlinewidth\": 0, \"ticks\": \"\"}, \"type\": \"choropleth\"}], \"contour\": [{\"colorbar\": {\"outlinewidth\": 0, \"ticks\": \"\"}, \"colorscale\": [[0.0, \"#0d0887\"], [0.1111111111111111, \"#46039f\"], [0.2222222222222222, \"#7201a8\"], [0.3333333333333333, \"#9c179e\"], [0.4444444444444444, \"#bd3786\"], [0.5555555555555556, \"#d8576b\"], [0.6666666666666666, \"#ed7953\"], [0.7777777777777778, \"#fb9f3a\"], [0.8888888888888888, \"#fdca26\"], [1.0, \"#f0f921\"]], \"type\": \"contour\"}], \"contourcarpet\": [{\"colorbar\": {\"outlinewidth\": 0, \"ticks\": \"\"}, \"type\": \"contourcarpet\"}], \"heatmap\": [{\"colorbar\": {\"outlinewidth\": 0, \"ticks\": \"\"}, \"colorscale\": [[0.0, \"#0d0887\"], [0.1111111111111111, \"#46039f\"], [0.2222222222222222, \"#7201a8\"], [0.3333333333333333, \"#9c179e\"], [0.4444444444444444, \"#bd3786\"], [0.5555555555555556, \"#d8576b\"], [0.6666666666666666, \"#ed7953\"], [0.7777777777777778, \"#fb9f3a\"], [0.8888888888888888, \"#fdca26\"], [1.0, \"#f0f921\"]], \"type\": \"heatmap\"}], \"heatmapgl\": [{\"colorbar\": {\"outlinewidth\": 0, \"ticks\": \"\"}, \"colorscale\": [[0.0, \"#0d0887\"], [0.1111111111111111, \"#46039f\"], [0.2222222222222222, \"#7201a8\"], [0.3333333333333333, \"#9c179e\"], [0.4444444444444444, \"#bd3786\"], [0.5555555555555556, \"#d8576b\"], [0.6666666666666666, \"#ed7953\"], [0.7777777777777778, \"#fb9f3a\"], [0.8888888888888888, \"#fdca26\"], [1.0, \"#f0f921\"]], \"type\": \"heatmapgl\"}], \"histogram\": [{\"marker\": {\"colorbar\": {\"outlinewidth\": 0, \"ticks\": \"\"}}, \"type\": \"histogram\"}], \"histogram2d\": [{\"colorbar\": {\"outlinewidth\": 0, \"ticks\": \"\"}, \"colorscale\": [[0.0, \"#0d0887\"], [0.1111111111111111, \"#46039f\"], [0.2222222222222222, \"#7201a8\"], [0.3333333333333333, \"#9c179e\"], [0.4444444444444444, \"#bd3786\"], [0.5555555555555556, \"#d8576b\"], [0.6666666666666666, \"#ed7953\"], [0.7777777777777778, \"#fb9f3a\"], [0.8888888888888888, \"#fdca26\"], [1.0, \"#f0f921\"]], \"type\": \"histogram2d\"}], \"histogram2dcontour\": [{\"colorbar\": {\"outlinewidth\": 0, \"ticks\": \"\"}, \"colorscale\": [[0.0, \"#0d0887\"], [0.1111111111111111, \"#46039f\"], [0.2222222222222222, \"#7201a8\"], [0.3333333333333333, \"#9c179e\"], [0.4444444444444444, \"#bd3786\"], [0.5555555555555556, \"#d8576b\"], [0.6666666666666666, \"#ed7953\"], [0.7777777777777778, \"#fb9f3a\"], [0.8888888888888888, \"#fdca26\"], [1.0, \"#f0f921\"]], \"type\": \"histogram2dcontour\"}], \"mesh3d\": [{\"colorbar\": {\"outlinewidth\": 0, \"ticks\": \"\"}, \"type\": \"mesh3d\"}], \"parcoords\": [{\"line\": {\"colorbar\": {\"outlinewidth\": 0, \"ticks\": \"\"}}, \"type\": \"parcoords\"}], \"pie\": [{\"automargin\": true, \"type\": \"pie\"}], \"scatter\": [{\"marker\": {\"colorbar\": {\"outlinewidth\": 0, \"ticks\": \"\"}}, \"type\": \"scatter\"}], \"scatter3d\": [{\"line\": {\"colorbar\": {\"outlinewidth\": 0, \"ticks\": \"\"}}, \"marker\": {\"colorbar\": {\"outlinewidth\": 0, \"ticks\": \"\"}}, \"type\": \"scatter3d\"}], \"scattercarpet\": [{\"marker\": {\"colorbar\": {\"outlinewidth\": 0, \"ticks\": \"\"}}, \"type\": \"scattercarpet\"}], \"scattergeo\": [{\"marker\": {\"colorbar\": {\"outlinewidth\": 0, \"ticks\": \"\"}}, \"type\": \"scattergeo\"}], \"scattergl\": [{\"marker\": {\"colorbar\": {\"outlinewidth\": 0, \"ticks\": \"\"}}, \"type\": \"scattergl\"}], \"scattermapbox\": [{\"marker\": {\"colorbar\": {\"outlinewidth\": 0, \"ticks\": \"\"}}, \"type\": \"scattermapbox\"}], \"scatterpolar\": [{\"marker\": {\"colorbar\": {\"outlinewidth\": 0, \"ticks\": \"\"}}, \"type\": \"scatterpolar\"}], \"scatterpolargl\": [{\"marker\": {\"colorbar\": {\"outlinewidth\": 0, \"ticks\": \"\"}}, \"type\": \"scatterpolargl\"}], \"scatterternary\": [{\"marker\": {\"colorbar\": {\"outlinewidth\": 0, \"ticks\": \"\"}}, \"type\": \"scatterternary\"}], \"surface\": [{\"colorbar\": {\"outlinewidth\": 0, \"ticks\": \"\"}, \"colorscale\": [[0.0, \"#0d0887\"], [0.1111111111111111, \"#46039f\"], [0.2222222222222222, \"#7201a8\"], [0.3333333333333333, \"#9c179e\"], [0.4444444444444444, \"#bd3786\"], [0.5555555555555556, \"#d8576b\"], [0.6666666666666666, \"#ed7953\"], [0.7777777777777778, \"#fb9f3a\"], [0.8888888888888888, \"#fdca26\"], [1.0, \"#f0f921\"]], \"type\": \"surface\"}], \"table\": [{\"cells\": {\"fill\": {\"color\": \"#EBF0F8\"}, \"line\": {\"color\": \"white\"}}, \"header\": {\"fill\": {\"color\": \"#C8D4E3\"}, \"line\": {\"color\": \"white\"}}, \"type\": \"table\"}]}, \"layout\": {\"annotationdefaults\": {\"arrowcolor\": \"#2a3f5f\", \"arrowhead\": 0, \"arrowwidth\": 1}, \"coloraxis\": {\"colorbar\": {\"outlinewidth\": 0, \"ticks\": \"\"}}, \"colorscale\": {\"diverging\": [[0, \"#8e0152\"], [0.1, \"#c51b7d\"], [0.2, \"#de77ae\"], [0.3, \"#f1b6da\"], [0.4, \"#fde0ef\"], [0.5, \"#f7f7f7\"], [0.6, \"#e6f5d0\"], [0.7, \"#b8e186\"], [0.8, \"#7fbc41\"], [0.9, \"#4d9221\"], [1, \"#276419\"]], \"sequential\": [[0.0, \"#0d0887\"], [0.1111111111111111, \"#46039f\"], [0.2222222222222222, \"#7201a8\"], [0.3333333333333333, \"#9c179e\"], [0.4444444444444444, \"#bd3786\"], [0.5555555555555556, \"#d8576b\"], [0.6666666666666666, \"#ed7953\"], [0.7777777777777778, \"#fb9f3a\"], [0.8888888888888888, \"#fdca26\"], [1.0, \"#f0f921\"]], \"sequentialminus\": [[0.0, \"#0d0887\"], [0.1111111111111111, \"#46039f\"], [0.2222222222222222, \"#7201a8\"], [0.3333333333333333, \"#9c179e\"], [0.4444444444444444, \"#bd3786\"], [0.5555555555555556, \"#d8576b\"], [0.6666666666666666, \"#ed7953\"], [0.7777777777777778, \"#fb9f3a\"], [0.8888888888888888, \"#fdca26\"], [1.0, \"#f0f921\"]]}, \"colorway\": [\"#636efa\", \"#EF553B\", \"#00cc96\", \"#ab63fa\", \"#FFA15A\", \"#19d3f3\", \"#FF6692\", \"#B6E880\", \"#FF97FF\", \"#FECB52\"], \"font\": {\"color\": \"#2a3f5f\"}, \"geo\": {\"bgcolor\": \"white\", \"lakecolor\": \"white\", \"landcolor\": \"#E5ECF6\", \"showlakes\": true, \"showland\": true, \"subunitcolor\": \"white\"}, \"hoverlabel\": {\"align\": \"left\"}, \"hovermode\": \"closest\", \"mapbox\": {\"style\": \"light\"}, \"paper_bgcolor\": \"white\", \"plot_bgcolor\": \"#E5ECF6\", \"polar\": {\"angularaxis\": {\"gridcolor\": \"white\", \"linecolor\": \"white\", \"ticks\": \"\"}, \"bgcolor\": \"#E5ECF6\", \"radialaxis\": {\"gridcolor\": \"white\", \"linecolor\": \"white\", \"ticks\": \"\"}}, \"scene\": {\"xaxis\": {\"backgroundcolor\": \"#E5ECF6\", \"gridcolor\": \"white\", \"gridwidth\": 2, \"linecolor\": \"white\", \"showbackground\": true, \"ticks\": \"\", \"zerolinecolor\": \"white\"}, \"yaxis\": {\"backgroundcolor\": \"#E5ECF6\", \"gridcolor\": \"white\", \"gridwidth\": 2, \"linecolor\": \"white\", \"showbackground\": true, \"ticks\": \"\", \"zerolinecolor\": \"white\"}, \"zaxis\": {\"backgroundcolor\": \"#E5ECF6\", \"gridcolor\": \"white\", \"gridwidth\": 2, \"linecolor\": \"white\", \"showbackground\": true, \"ticks\": \"\", \"zerolinecolor\": \"white\"}}, \"shapedefaults\": {\"line\": {\"color\": \"#2a3f5f\"}}, \"ternary\": {\"aaxis\": {\"gridcolor\": \"white\", \"linecolor\": \"white\", \"ticks\": \"\"}, \"baxis\": {\"gridcolor\": \"white\", \"linecolor\": \"white\", \"ticks\": \"\"}, \"bgcolor\": \"#E5ECF6\", \"caxis\": {\"gridcolor\": \"white\", \"linecolor\": \"white\", \"ticks\": \"\"}}, \"title\": {\"x\": 0.05}, \"xaxis\": {\"automargin\": true, \"gridcolor\": \"white\", \"linecolor\": \"white\", \"ticks\": \"\", \"title\": {\"standoff\": 15}, \"zerolinecolor\": \"white\", \"zerolinewidth\": 2}, \"yaxis\": {\"automargin\": true, \"gridcolor\": \"white\", \"linecolor\": \"white\", \"ticks\": \"\", \"title\": {\"standoff\": 15}, \"zerolinecolor\": \"white\", \"zerolinewidth\": 2}}}, \"xaxis\": {\"anchor\": \"y\", \"domain\": [0.0, 1.0], \"title\": {\"text\": \"\\uc2dc\\uac04\"}}, \"yaxis\": {\"anchor\": \"x\", \"domain\": [0.0, 1.0], \"title\": {\"text\": \"\\uc774\\uc6a9\\ub7c9\"}}},\n",
       "                        {\"responsive\": true}\n",
       "                    ).then(function(){\n",
       "                            \n",
       "var gd = document.getElementById('bc6b6d92-4a2f-40a3-bd6e-cb5df49bfdd3');\n",
       "var x = new MutationObserver(function (mutations, observer) {{\n",
       "        var display = window.getComputedStyle(gd).display;\n",
       "        if (!display || display === 'none') {{\n",
       "            console.log([gd, 'removed!']);\n",
       "            Plotly.purge(gd);\n",
       "            observer.disconnect();\n",
       "        }}\n",
       "}});\n",
       "\n",
       "// Listen for the removal of the full notebook cells\n",
       "var notebookContainer = gd.closest('#notebook-container');\n",
       "if (notebookContainer) {{\n",
       "    x.observe(notebookContainer, {childList: true});\n",
       "}}\n",
       "\n",
       "// Listen for the clearing of the current output cell\n",
       "var outputEl = gd.closest('.output');\n",
       "if (outputEl) {{\n",
       "    x.observe(outputEl, {childList: true});\n",
       "}}\n",
       "\n",
       "                        })\n",
       "                };\n",
       "                });\n",
       "            </script>\n",
       "        </div>"
      ]
     },
     "metadata": {},
     "output_type": "display_data"
    }
   ],
   "source": [
    "fig = px.scatter(df4, x=\"시간\", y=\"이용량\", color=\"노선명\")\n",
    "fig.show()"
   ]
  },
  {
   "cell_type": "code",
   "execution_count": 19,
   "metadata": {},
   "outputs": [],
   "source": [
    "df5 = df4.groupby('시간').apply(lambda x: x.sort_values('이용량',ascending=False).head(10))"
   ]
  },
  {
   "cell_type": "code",
   "execution_count": 20,
   "metadata": {},
   "outputs": [
    {
     "data": {
      "application/vnd.plotly.v1+json": {
       "config": {
        "plotlyServerURL": "https://plot.ly"
       },
       "data": [
        {
         "hoverlabel": {
          "namelength": 0
         },
         "hovertemplate": "노선명=900<br>시간=%{x}<br>이용량=%{y}",
         "legendgroup": "노선명=900",
         "marker": {
          "color": "#636efa",
          "symbol": "circle"
         },
         "mode": "markers",
         "name": "노선명=900",
         "showlegend": true,
         "type": "scatter",
         "x": [
          4,
          5,
          18,
          21,
          22,
          23
         ],
         "xaxis": "x",
         "y": [
          144,
          218,
          1016,
          604,
          489,
          236
         ],
         "yaxis": "y"
        },
        {
         "hoverlabel": {
          "namelength": 0
         },
         "hovertemplate": "노선명=301<br>시간=%{x}<br>이용량=%{y}",
         "legendgroup": "노선명=301",
         "marker": {
          "color": "#EF553B",
          "symbol": "circle"
         },
         "mode": "markers",
         "name": "노선명=301",
         "showlegend": true,
         "type": "scatter",
         "x": [
          4,
          5,
          6,
          7,
          9,
          10,
          13,
          14,
          16,
          20,
          21,
          22,
          23
         ],
         "xaxis": "x",
         "y": [
          57,
          220,
          593,
          1461,
          706,
          557,
          745,
          597,
          805,
          589,
          644,
          487,
          194
         ],
         "yaxis": "y"
        },
        {
         "hoverlabel": {
          "namelength": 0
         },
         "hovertemplate": "노선명=98<br>시간=%{x}<br>이용량=%{y}",
         "legendgroup": "노선명=98",
         "marker": {
          "color": "#00cc96",
          "symbol": "circle"
         },
         "mode": "markers",
         "name": "노선명=98",
         "showlegend": true,
         "type": "scatter",
         "x": [
          4,
          5,
          6,
          7,
          8,
          9,
          10,
          11,
          12,
          13,
          14,
          15,
          16,
          17,
          18,
          19,
          20,
          21,
          22,
          23
         ],
         "xaxis": "x",
         "y": [
          36,
          332,
          557,
          1598,
          1804,
          827,
          655,
          721,
          894,
          1314,
          846,
          1007,
          1195,
          1521,
          1428,
          1111,
          816,
          817,
          650,
          306
         ],
         "yaxis": "y"
        },
        {
         "hoverlabel": {
          "namelength": 0
         },
         "hovertemplate": "노선명=720-1<br>시간=%{x}<br>이용량=%{y}",
         "legendgroup": "노선명=720-1",
         "marker": {
          "color": "#ab63fa",
          "symbol": "circle"
         },
         "mode": "markers",
         "name": "노선명=720-1",
         "showlegend": true,
         "type": "scatter",
         "x": [
          4,
          5,
          6,
          7,
          8,
          9,
          10,
          11,
          12,
          13,
          14,
          15,
          16,
          17,
          18,
          19,
          20
         ],
         "xaxis": "x",
         "y": [
          35,
          373,
          634,
          1713,
          1937,
          884,
          574,
          786,
          912,
          883,
          727,
          726,
          881,
          1058,
          1235,
          905,
          718
         ],
         "yaxis": "y"
        },
        {
         "hoverlabel": {
          "namelength": 0
         },
         "hovertemplate": "노선명=15-1<br>시간=%{x}<br>이용량=%{y}",
         "legendgroup": "노선명=15-1",
         "marker": {
          "color": "#FFA15A",
          "symbol": "circle"
         },
         "mode": "markers",
         "name": "노선명=15-1",
         "showlegend": true,
         "type": "scatter",
         "x": [
          4
         ],
         "xaxis": "x",
         "y": [
          35
         ],
         "yaxis": "y"
        },
        {
         "hoverlabel": {
          "namelength": 0
         },
         "hovertemplate": "노선명=310<br>시간=%{x}<br>이용량=%{y}",
         "legendgroup": "노선명=310",
         "marker": {
          "color": "#19d3f3",
          "symbol": "circle"
         },
         "mode": "markers",
         "name": "노선명=310",
         "showlegend": true,
         "type": "scatter",
         "x": [
          4
         ],
         "xaxis": "x",
         "y": [
          21
         ],
         "yaxis": "y"
        },
        {
         "hoverlabel": {
          "namelength": 0
         },
         "hovertemplate": "노선명=63<br>시간=%{x}<br>이용량=%{y}",
         "legendgroup": "노선명=63",
         "marker": {
          "color": "#FF6692",
          "symbol": "circle"
         },
         "mode": "markers",
         "name": "노선명=63",
         "showlegend": true,
         "type": "scatter",
         "x": [
          4
         ],
         "xaxis": "x",
         "y": [
          20
         ],
         "yaxis": "y"
        },
        {
         "hoverlabel": {
          "namelength": 0
         },
         "hovertemplate": "노선명=5<br>시간=%{x}<br>이용량=%{y}",
         "legendgroup": "노선명=5",
         "marker": {
          "color": "#B6E880",
          "symbol": "circle"
         },
         "mode": "markers",
         "name": "노선명=5",
         "showlegend": true,
         "type": "scatter",
         "x": [
          4,
          5
         ],
         "xaxis": "x",
         "y": [
          19,
          267
         ],
         "yaxis": "y"
        },
        {
         "hoverlabel": {
          "namelength": 0
         },
         "hovertemplate": "노선명=13-5<br>시간=%{x}<br>이용량=%{y}",
         "legendgroup": "노선명=13-5",
         "marker": {
          "color": "#FF97FF",
          "symbol": "circle"
         },
         "mode": "markers",
         "name": "노선명=13-5",
         "showlegend": true,
         "type": "scatter",
         "x": [
          4,
          5,
          6,
          7,
          8,
          9,
          10,
          11,
          12,
          13,
          14,
          15,
          16,
          17,
          18,
          19,
          20,
          21,
          22,
          23
         ],
         "xaxis": "x",
         "y": [
          18,
          370,
          720,
          1194,
          1474,
          794,
          532,
          630,
          586,
          708,
          680,
          692,
          858,
          1208,
          1304,
          1014,
          932,
          1008,
          770,
          350
         ],
         "yaxis": "y"
        },
        {
         "hoverlabel": {
          "namelength": 0
         },
         "hovertemplate": "노선명=99<br>시간=%{x}<br>이용량=%{y}",
         "legendgroup": "노선명=99",
         "marker": {
          "color": "#FECB52",
          "symbol": "circle"
         },
         "mode": "markers",
         "name": "노선명=99",
         "showlegend": true,
         "type": "scatter",
         "x": [
          4
         ],
         "xaxis": "x",
         "y": [
          16
         ],
         "yaxis": "y"
        },
        {
         "hoverlabel": {
          "namelength": 0
         },
         "hovertemplate": "노선명=720-2<br>시간=%{x}<br>이용량=%{y}",
         "legendgroup": "노선명=720-2",
         "marker": {
          "color": "#636efa",
          "symbol": "circle"
         },
         "mode": "markers",
         "name": "노선명=720-2",
         "showlegend": true,
         "type": "scatter",
         "x": [
          5,
          6,
          7,
          8,
          9,
          10,
          11,
          12,
          13,
          14,
          15,
          16,
          17,
          18,
          19,
          20,
          21,
          22,
          23
         ],
         "xaxis": "x",
         "y": [
          264,
          747,
          1712,
          2080,
          1301,
          893,
          953,
          1212,
          1279,
          1054,
          1133,
          1383,
          1733,
          1735,
          1305,
          1171,
          1075,
          876,
          434
         ],
         "yaxis": "y"
        },
        {
         "hoverlabel": {
          "namelength": 0
         },
         "hovertemplate": "노선명=700-2<br>시간=%{x}<br>이용량=%{y}",
         "legendgroup": "노선명=700-2",
         "marker": {
          "color": "#EF553B",
          "symbol": "circle"
         },
         "mode": "markers",
         "name": "노선명=700-2",
         "showlegend": true,
         "type": "scatter",
         "x": [
          5,
          7,
          8
         ],
         "xaxis": "x",
         "y": [
          257,
          1267,
          1298
         ],
         "yaxis": "y"
        },
        {
         "hoverlabel": {
          "namelength": 0
         },
         "hovertemplate": "노선명=62-1<br>시간=%{x}<br>이용량=%{y}",
         "legendgroup": "노선명=62-1",
         "marker": {
          "color": "#00cc96",
          "symbol": "circle"
         },
         "mode": "markers",
         "name": "노선명=62-1",
         "showlegend": true,
         "type": "scatter",
         "x": [
          5,
          6,
          7,
          8,
          9,
          10,
          11,
          12,
          13,
          14,
          15,
          16,
          17,
          18,
          19,
          20,
          21,
          22,
          23
         ],
         "xaxis": "x",
         "y": [
          216,
          776,
          1444,
          1632,
          959,
          738,
          865,
          1002,
          1115,
          902,
          1029,
          1046,
          1438,
          1366,
          943,
          717,
          815,
          703,
          227
         ],
         "yaxis": "y"
        },
        {
         "hoverlabel": {
          "namelength": 0
         },
         "hovertemplate": "노선명=92-1<br>시간=%{x}<br>이용량=%{y}",
         "legendgroup": "노선명=92-1",
         "marker": {
          "color": "#ab63fa",
          "symbol": "circle"
         },
         "mode": "markers",
         "name": "노선명=92-1",
         "showlegend": true,
         "type": "scatter",
         "x": [
          5,
          6,
          7,
          8,
          9,
          10,
          11,
          12,
          13,
          14,
          15,
          16,
          17,
          18,
          19,
          20,
          21,
          22,
          23
         ],
         "xaxis": "x",
         "y": [
          208,
          834,
          1704,
          2598,
          1282,
          946,
          950,
          1290,
          1362,
          1294,
          1450,
          1742,
          2240,
          2144,
          1562,
          1606,
          1320,
          1390,
          596
         ],
         "yaxis": "y"
        },
        {
         "hoverlabel": {
          "namelength": 0
         },
         "hovertemplate": "노선명=2-1<br>시간=%{x}<br>이용량=%{y}",
         "legendgroup": "노선명=2-1",
         "marker": {
          "color": "#FFA15A",
          "symbol": "circle"
         },
         "mode": "markers",
         "name": "노선명=2-1",
         "showlegend": true,
         "type": "scatter",
         "x": [
          6,
          7,
          8,
          9,
          10,
          11,
          12,
          13,
          14,
          15,
          16,
          17,
          18,
          19,
          20,
          21,
          22,
          23
         ],
         "xaxis": "x",
         "y": [
          626,
          1536,
          1522,
          894,
          602,
          620,
          713,
          890,
          852,
          916,
          886,
          1238,
          1298,
          792,
          658,
          686,
          556,
          244
         ],
         "yaxis": "y"
        },
        {
         "hoverlabel": {
          "namelength": 0
         },
         "hovertemplate": "노선명=30-1<br>시간=%{x}<br>이용량=%{y}",
         "legendgroup": "노선명=30-1",
         "marker": {
          "color": "#19d3f3",
          "symbol": "circle"
         },
         "mode": "markers",
         "name": "노선명=30-1",
         "showlegend": true,
         "type": "scatter",
         "x": [
          6,
          12,
          13,
          14,
          15,
          17,
          23
         ],
         "xaxis": "x",
         "y": [
          574,
          609,
          728,
          588,
          730,
          986,
          184
         ],
         "yaxis": "y"
        },
        {
         "hoverlabel": {
          "namelength": 0
         },
         "hovertemplate": "노선명=30<br>시간=%{x}<br>이용량=%{y}",
         "legendgroup": "노선명=30",
         "marker": {
          "color": "#FF6692",
          "symbol": "circle"
         },
         "mode": "markers",
         "name": "노선명=30",
         "showlegend": true,
         "type": "scatter",
         "x": [
          6,
          11,
          17
         ],
         "xaxis": "x",
         "y": [
          528,
          554,
          970
         ],
         "yaxis": "y"
        },
        {
         "hoverlabel": {
          "namelength": 0
         },
         "hovertemplate": "노선명=3<br>시간=%{x}<br>이용량=%{y}",
         "legendgroup": "노선명=3",
         "marker": {
          "color": "#B6E880",
          "symbol": "circle"
         },
         "mode": "markers",
         "name": "노선명=3",
         "showlegend": true,
         "type": "scatter",
         "x": [
          7,
          8,
          9,
          10,
          11,
          12,
          13,
          14,
          15,
          16,
          17,
          18,
          19,
          20,
          21,
          22,
          23
         ],
         "xaxis": "x",
         "y": [
          1437,
          1818,
          1180,
          1107,
          972,
          1278,
          1519,
          1285,
          1252,
          1368,
          1258,
          1394,
          899,
          792,
          733,
          611,
          222
         ],
         "yaxis": "y"
        },
        {
         "hoverlabel": {
          "namelength": 0
         },
         "hovertemplate": "노선명=13-1<br>시간=%{x}<br>이용량=%{y}",
         "legendgroup": "노선명=13-1",
         "marker": {
          "color": "#FF97FF",
          "symbol": "circle"
         },
         "mode": "markers",
         "name": "노선명=13-1",
         "showlegend": true,
         "type": "scatter",
         "x": [
          8,
          9,
          10,
          11,
          12,
          15,
          16,
          19,
          20,
          21,
          22
         ],
         "xaxis": "x",
         "y": [
          1312,
          737,
          459,
          522,
          604,
          649,
          761,
          716,
          680,
          634,
          550
         ],
         "yaxis": "y"
        },
        {
         "hoverlabel": {
          "namelength": 0
         },
         "hovertemplate": "노선명=720-3<br>시간=%{x}<br>이용량=%{y}",
         "legendgroup": "노선명=720-3",
         "marker": {
          "color": "#FECB52",
          "symbol": "circle"
         },
         "mode": "markers",
         "name": "노선명=720-3",
         "showlegend": true,
         "type": "scatter",
         "x": [
          18,
          19
         ],
         "xaxis": "x",
         "y": [
          1006,
          814
         ],
         "yaxis": "y"
        }
       ],
       "layout": {
        "height": 600,
        "legend": {
         "tracegroupgap": 0
        },
        "margin": {
         "t": 60
        },
        "template": {
         "data": {
          "bar": [
           {
            "error_x": {
             "color": "#2a3f5f"
            },
            "error_y": {
             "color": "#2a3f5f"
            },
            "marker": {
             "line": {
              "color": "#E5ECF6",
              "width": 0.5
             }
            },
            "type": "bar"
           }
          ],
          "barpolar": [
           {
            "marker": {
             "line": {
              "color": "#E5ECF6",
              "width": 0.5
             }
            },
            "type": "barpolar"
           }
          ],
          "carpet": [
           {
            "aaxis": {
             "endlinecolor": "#2a3f5f",
             "gridcolor": "white",
             "linecolor": "white",
             "minorgridcolor": "white",
             "startlinecolor": "#2a3f5f"
            },
            "baxis": {
             "endlinecolor": "#2a3f5f",
             "gridcolor": "white",
             "linecolor": "white",
             "minorgridcolor": "white",
             "startlinecolor": "#2a3f5f"
            },
            "type": "carpet"
           }
          ],
          "choropleth": [
           {
            "colorbar": {
             "outlinewidth": 0,
             "ticks": ""
            },
            "type": "choropleth"
           }
          ],
          "contour": [
           {
            "colorbar": {
             "outlinewidth": 0,
             "ticks": ""
            },
            "colorscale": [
             [
              0,
              "#0d0887"
             ],
             [
              0.1111111111111111,
              "#46039f"
             ],
             [
              0.2222222222222222,
              "#7201a8"
             ],
             [
              0.3333333333333333,
              "#9c179e"
             ],
             [
              0.4444444444444444,
              "#bd3786"
             ],
             [
              0.5555555555555556,
              "#d8576b"
             ],
             [
              0.6666666666666666,
              "#ed7953"
             ],
             [
              0.7777777777777778,
              "#fb9f3a"
             ],
             [
              0.8888888888888888,
              "#fdca26"
             ],
             [
              1,
              "#f0f921"
             ]
            ],
            "type": "contour"
           }
          ],
          "contourcarpet": [
           {
            "colorbar": {
             "outlinewidth": 0,
             "ticks": ""
            },
            "type": "contourcarpet"
           }
          ],
          "heatmap": [
           {
            "colorbar": {
             "outlinewidth": 0,
             "ticks": ""
            },
            "colorscale": [
             [
              0,
              "#0d0887"
             ],
             [
              0.1111111111111111,
              "#46039f"
             ],
             [
              0.2222222222222222,
              "#7201a8"
             ],
             [
              0.3333333333333333,
              "#9c179e"
             ],
             [
              0.4444444444444444,
              "#bd3786"
             ],
             [
              0.5555555555555556,
              "#d8576b"
             ],
             [
              0.6666666666666666,
              "#ed7953"
             ],
             [
              0.7777777777777778,
              "#fb9f3a"
             ],
             [
              0.8888888888888888,
              "#fdca26"
             ],
             [
              1,
              "#f0f921"
             ]
            ],
            "type": "heatmap"
           }
          ],
          "heatmapgl": [
           {
            "colorbar": {
             "outlinewidth": 0,
             "ticks": ""
            },
            "colorscale": [
             [
              0,
              "#0d0887"
             ],
             [
              0.1111111111111111,
              "#46039f"
             ],
             [
              0.2222222222222222,
              "#7201a8"
             ],
             [
              0.3333333333333333,
              "#9c179e"
             ],
             [
              0.4444444444444444,
              "#bd3786"
             ],
             [
              0.5555555555555556,
              "#d8576b"
             ],
             [
              0.6666666666666666,
              "#ed7953"
             ],
             [
              0.7777777777777778,
              "#fb9f3a"
             ],
             [
              0.8888888888888888,
              "#fdca26"
             ],
             [
              1,
              "#f0f921"
             ]
            ],
            "type": "heatmapgl"
           }
          ],
          "histogram": [
           {
            "marker": {
             "colorbar": {
              "outlinewidth": 0,
              "ticks": ""
             }
            },
            "type": "histogram"
           }
          ],
          "histogram2d": [
           {
            "colorbar": {
             "outlinewidth": 0,
             "ticks": ""
            },
            "colorscale": [
             [
              0,
              "#0d0887"
             ],
             [
              0.1111111111111111,
              "#46039f"
             ],
             [
              0.2222222222222222,
              "#7201a8"
             ],
             [
              0.3333333333333333,
              "#9c179e"
             ],
             [
              0.4444444444444444,
              "#bd3786"
             ],
             [
              0.5555555555555556,
              "#d8576b"
             ],
             [
              0.6666666666666666,
              "#ed7953"
             ],
             [
              0.7777777777777778,
              "#fb9f3a"
             ],
             [
              0.8888888888888888,
              "#fdca26"
             ],
             [
              1,
              "#f0f921"
             ]
            ],
            "type": "histogram2d"
           }
          ],
          "histogram2dcontour": [
           {
            "colorbar": {
             "outlinewidth": 0,
             "ticks": ""
            },
            "colorscale": [
             [
              0,
              "#0d0887"
             ],
             [
              0.1111111111111111,
              "#46039f"
             ],
             [
              0.2222222222222222,
              "#7201a8"
             ],
             [
              0.3333333333333333,
              "#9c179e"
             ],
             [
              0.4444444444444444,
              "#bd3786"
             ],
             [
              0.5555555555555556,
              "#d8576b"
             ],
             [
              0.6666666666666666,
              "#ed7953"
             ],
             [
              0.7777777777777778,
              "#fb9f3a"
             ],
             [
              0.8888888888888888,
              "#fdca26"
             ],
             [
              1,
              "#f0f921"
             ]
            ],
            "type": "histogram2dcontour"
           }
          ],
          "mesh3d": [
           {
            "colorbar": {
             "outlinewidth": 0,
             "ticks": ""
            },
            "type": "mesh3d"
           }
          ],
          "parcoords": [
           {
            "line": {
             "colorbar": {
              "outlinewidth": 0,
              "ticks": ""
             }
            },
            "type": "parcoords"
           }
          ],
          "pie": [
           {
            "automargin": true,
            "type": "pie"
           }
          ],
          "scatter": [
           {
            "marker": {
             "colorbar": {
              "outlinewidth": 0,
              "ticks": ""
             }
            },
            "type": "scatter"
           }
          ],
          "scatter3d": [
           {
            "line": {
             "colorbar": {
              "outlinewidth": 0,
              "ticks": ""
             }
            },
            "marker": {
             "colorbar": {
              "outlinewidth": 0,
              "ticks": ""
             }
            },
            "type": "scatter3d"
           }
          ],
          "scattercarpet": [
           {
            "marker": {
             "colorbar": {
              "outlinewidth": 0,
              "ticks": ""
             }
            },
            "type": "scattercarpet"
           }
          ],
          "scattergeo": [
           {
            "marker": {
             "colorbar": {
              "outlinewidth": 0,
              "ticks": ""
             }
            },
            "type": "scattergeo"
           }
          ],
          "scattergl": [
           {
            "marker": {
             "colorbar": {
              "outlinewidth": 0,
              "ticks": ""
             }
            },
            "type": "scattergl"
           }
          ],
          "scattermapbox": [
           {
            "marker": {
             "colorbar": {
              "outlinewidth": 0,
              "ticks": ""
             }
            },
            "type": "scattermapbox"
           }
          ],
          "scatterpolar": [
           {
            "marker": {
             "colorbar": {
              "outlinewidth": 0,
              "ticks": ""
             }
            },
            "type": "scatterpolar"
           }
          ],
          "scatterpolargl": [
           {
            "marker": {
             "colorbar": {
              "outlinewidth": 0,
              "ticks": ""
             }
            },
            "type": "scatterpolargl"
           }
          ],
          "scatterternary": [
           {
            "marker": {
             "colorbar": {
              "outlinewidth": 0,
              "ticks": ""
             }
            },
            "type": "scatterternary"
           }
          ],
          "surface": [
           {
            "colorbar": {
             "outlinewidth": 0,
             "ticks": ""
            },
            "colorscale": [
             [
              0,
              "#0d0887"
             ],
             [
              0.1111111111111111,
              "#46039f"
             ],
             [
              0.2222222222222222,
              "#7201a8"
             ],
             [
              0.3333333333333333,
              "#9c179e"
             ],
             [
              0.4444444444444444,
              "#bd3786"
             ],
             [
              0.5555555555555556,
              "#d8576b"
             ],
             [
              0.6666666666666666,
              "#ed7953"
             ],
             [
              0.7777777777777778,
              "#fb9f3a"
             ],
             [
              0.8888888888888888,
              "#fdca26"
             ],
             [
              1,
              "#f0f921"
             ]
            ],
            "type": "surface"
           }
          ],
          "table": [
           {
            "cells": {
             "fill": {
              "color": "#EBF0F8"
             },
             "line": {
              "color": "white"
             }
            },
            "header": {
             "fill": {
              "color": "#C8D4E3"
             },
             "line": {
              "color": "white"
             }
            },
            "type": "table"
           }
          ]
         },
         "layout": {
          "annotationdefaults": {
           "arrowcolor": "#2a3f5f",
           "arrowhead": 0,
           "arrowwidth": 1
          },
          "coloraxis": {
           "colorbar": {
            "outlinewidth": 0,
            "ticks": ""
           }
          },
          "colorscale": {
           "diverging": [
            [
             0,
             "#8e0152"
            ],
            [
             0.1,
             "#c51b7d"
            ],
            [
             0.2,
             "#de77ae"
            ],
            [
             0.3,
             "#f1b6da"
            ],
            [
             0.4,
             "#fde0ef"
            ],
            [
             0.5,
             "#f7f7f7"
            ],
            [
             0.6,
             "#e6f5d0"
            ],
            [
             0.7,
             "#b8e186"
            ],
            [
             0.8,
             "#7fbc41"
            ],
            [
             0.9,
             "#4d9221"
            ],
            [
             1,
             "#276419"
            ]
           ],
           "sequential": [
            [
             0,
             "#0d0887"
            ],
            [
             0.1111111111111111,
             "#46039f"
            ],
            [
             0.2222222222222222,
             "#7201a8"
            ],
            [
             0.3333333333333333,
             "#9c179e"
            ],
            [
             0.4444444444444444,
             "#bd3786"
            ],
            [
             0.5555555555555556,
             "#d8576b"
            ],
            [
             0.6666666666666666,
             "#ed7953"
            ],
            [
             0.7777777777777778,
             "#fb9f3a"
            ],
            [
             0.8888888888888888,
             "#fdca26"
            ],
            [
             1,
             "#f0f921"
            ]
           ],
           "sequentialminus": [
            [
             0,
             "#0d0887"
            ],
            [
             0.1111111111111111,
             "#46039f"
            ],
            [
             0.2222222222222222,
             "#7201a8"
            ],
            [
             0.3333333333333333,
             "#9c179e"
            ],
            [
             0.4444444444444444,
             "#bd3786"
            ],
            [
             0.5555555555555556,
             "#d8576b"
            ],
            [
             0.6666666666666666,
             "#ed7953"
            ],
            [
             0.7777777777777778,
             "#fb9f3a"
            ],
            [
             0.8888888888888888,
             "#fdca26"
            ],
            [
             1,
             "#f0f921"
            ]
           ]
          },
          "colorway": [
           "#636efa",
           "#EF553B",
           "#00cc96",
           "#ab63fa",
           "#FFA15A",
           "#19d3f3",
           "#FF6692",
           "#B6E880",
           "#FF97FF",
           "#FECB52"
          ],
          "font": {
           "color": "#2a3f5f"
          },
          "geo": {
           "bgcolor": "white",
           "lakecolor": "white",
           "landcolor": "#E5ECF6",
           "showlakes": true,
           "showland": true,
           "subunitcolor": "white"
          },
          "hoverlabel": {
           "align": "left"
          },
          "hovermode": "closest",
          "mapbox": {
           "style": "light"
          },
          "paper_bgcolor": "white",
          "plot_bgcolor": "#E5ECF6",
          "polar": {
           "angularaxis": {
            "gridcolor": "white",
            "linecolor": "white",
            "ticks": ""
           },
           "bgcolor": "#E5ECF6",
           "radialaxis": {
            "gridcolor": "white",
            "linecolor": "white",
            "ticks": ""
           }
          },
          "scene": {
           "xaxis": {
            "backgroundcolor": "#E5ECF6",
            "gridcolor": "white",
            "gridwidth": 2,
            "linecolor": "white",
            "showbackground": true,
            "ticks": "",
            "zerolinecolor": "white"
           },
           "yaxis": {
            "backgroundcolor": "#E5ECF6",
            "gridcolor": "white",
            "gridwidth": 2,
            "linecolor": "white",
            "showbackground": true,
            "ticks": "",
            "zerolinecolor": "white"
           },
           "zaxis": {
            "backgroundcolor": "#E5ECF6",
            "gridcolor": "white",
            "gridwidth": 2,
            "linecolor": "white",
            "showbackground": true,
            "ticks": "",
            "zerolinecolor": "white"
           }
          },
          "shapedefaults": {
           "line": {
            "color": "#2a3f5f"
           }
          },
          "ternary": {
           "aaxis": {
            "gridcolor": "white",
            "linecolor": "white",
            "ticks": ""
           },
           "baxis": {
            "gridcolor": "white",
            "linecolor": "white",
            "ticks": ""
           },
           "bgcolor": "#E5ECF6",
           "caxis": {
            "gridcolor": "white",
            "linecolor": "white",
            "ticks": ""
           }
          },
          "title": {
           "x": 0.05
          },
          "xaxis": {
           "automargin": true,
           "gridcolor": "white",
           "linecolor": "white",
           "ticks": "",
           "title": {
            "standoff": 15
           },
           "zerolinecolor": "white",
           "zerolinewidth": 2
          },
          "yaxis": {
           "automargin": true,
           "gridcolor": "white",
           "linecolor": "white",
           "ticks": "",
           "title": {
            "standoff": 15
           },
           "zerolinecolor": "white",
           "zerolinewidth": 2
          }
         }
        },
        "xaxis": {
         "anchor": "y",
         "domain": [
          0,
          1
         ],
         "title": {
          "text": "시간"
         }
        },
        "yaxis": {
         "anchor": "x",
         "domain": [
          0,
          1
         ],
         "title": {
          "text": "이용량"
         }
        }
       }
      },
      "text/html": [
       "<div>\n",
       "        \n",
       "        \n",
       "            <div id=\"a186ff7a-aefc-4681-b43a-12339d189f52\" class=\"plotly-graph-div\" style=\"height:600px; width:100%;\"></div>\n",
       "            <script type=\"text/javascript\">\n",
       "                require([\"plotly\"], function(Plotly) {\n",
       "                    window.PLOTLYENV=window.PLOTLYENV || {};\n",
       "                    \n",
       "                if (document.getElementById(\"a186ff7a-aefc-4681-b43a-12339d189f52\")) {\n",
       "                    Plotly.newPlot(\n",
       "                        'a186ff7a-aefc-4681-b43a-12339d189f52',\n",
       "                        [{\"hoverlabel\": {\"namelength\": 0}, \"hovertemplate\": \"\\ub178\\uc120\\uba85=900<br>\\uc2dc\\uac04=%{x}<br>\\uc774\\uc6a9\\ub7c9=%{y}\", \"legendgroup\": \"\\ub178\\uc120\\uba85=900\", \"marker\": {\"color\": \"#636efa\", \"symbol\": \"circle\"}, \"mode\": \"markers\", \"name\": \"\\ub178\\uc120\\uba85=900\", \"showlegend\": true, \"type\": \"scatter\", \"x\": [4, 5, 18, 21, 22, 23], \"xaxis\": \"x\", \"y\": [144, 218, 1016, 604, 489, 236], \"yaxis\": \"y\"}, {\"hoverlabel\": {\"namelength\": 0}, \"hovertemplate\": \"\\ub178\\uc120\\uba85=301<br>\\uc2dc\\uac04=%{x}<br>\\uc774\\uc6a9\\ub7c9=%{y}\", \"legendgroup\": \"\\ub178\\uc120\\uba85=301\", \"marker\": {\"color\": \"#EF553B\", \"symbol\": \"circle\"}, \"mode\": \"markers\", \"name\": \"\\ub178\\uc120\\uba85=301\", \"showlegend\": true, \"type\": \"scatter\", \"x\": [4, 5, 6, 7, 9, 10, 13, 14, 16, 20, 21, 22, 23], \"xaxis\": \"x\", \"y\": [57, 220, 593, 1461, 706, 557, 745, 597, 805, 589, 644, 487, 194], \"yaxis\": \"y\"}, {\"hoverlabel\": {\"namelength\": 0}, \"hovertemplate\": \"\\ub178\\uc120\\uba85=98<br>\\uc2dc\\uac04=%{x}<br>\\uc774\\uc6a9\\ub7c9=%{y}\", \"legendgroup\": \"\\ub178\\uc120\\uba85=98\", \"marker\": {\"color\": \"#00cc96\", \"symbol\": \"circle\"}, \"mode\": \"markers\", \"name\": \"\\ub178\\uc120\\uba85=98\", \"showlegend\": true, \"type\": \"scatter\", \"x\": [4, 5, 6, 7, 8, 9, 10, 11, 12, 13, 14, 15, 16, 17, 18, 19, 20, 21, 22, 23], \"xaxis\": \"x\", \"y\": [36, 332, 557, 1598, 1804, 827, 655, 721, 894, 1314, 846, 1007, 1195, 1521, 1428, 1111, 816, 817, 650, 306], \"yaxis\": \"y\"}, {\"hoverlabel\": {\"namelength\": 0}, \"hovertemplate\": \"\\ub178\\uc120\\uba85=720-1<br>\\uc2dc\\uac04=%{x}<br>\\uc774\\uc6a9\\ub7c9=%{y}\", \"legendgroup\": \"\\ub178\\uc120\\uba85=720-1\", \"marker\": {\"color\": \"#ab63fa\", \"symbol\": \"circle\"}, \"mode\": \"markers\", \"name\": \"\\ub178\\uc120\\uba85=720-1\", \"showlegend\": true, \"type\": \"scatter\", \"x\": [4, 5, 6, 7, 8, 9, 10, 11, 12, 13, 14, 15, 16, 17, 18, 19, 20], \"xaxis\": \"x\", \"y\": [35, 373, 634, 1713, 1937, 884, 574, 786, 912, 883, 727, 726, 881, 1058, 1235, 905, 718], \"yaxis\": \"y\"}, {\"hoverlabel\": {\"namelength\": 0}, \"hovertemplate\": \"\\ub178\\uc120\\uba85=15-1<br>\\uc2dc\\uac04=%{x}<br>\\uc774\\uc6a9\\ub7c9=%{y}\", \"legendgroup\": \"\\ub178\\uc120\\uba85=15-1\", \"marker\": {\"color\": \"#FFA15A\", \"symbol\": \"circle\"}, \"mode\": \"markers\", \"name\": \"\\ub178\\uc120\\uba85=15-1\", \"showlegend\": true, \"type\": \"scatter\", \"x\": [4], \"xaxis\": \"x\", \"y\": [35], \"yaxis\": \"y\"}, {\"hoverlabel\": {\"namelength\": 0}, \"hovertemplate\": \"\\ub178\\uc120\\uba85=310<br>\\uc2dc\\uac04=%{x}<br>\\uc774\\uc6a9\\ub7c9=%{y}\", \"legendgroup\": \"\\ub178\\uc120\\uba85=310\", \"marker\": {\"color\": \"#19d3f3\", \"symbol\": \"circle\"}, \"mode\": \"markers\", \"name\": \"\\ub178\\uc120\\uba85=310\", \"showlegend\": true, \"type\": \"scatter\", \"x\": [4], \"xaxis\": \"x\", \"y\": [21], \"yaxis\": \"y\"}, {\"hoverlabel\": {\"namelength\": 0}, \"hovertemplate\": \"\\ub178\\uc120\\uba85=63<br>\\uc2dc\\uac04=%{x}<br>\\uc774\\uc6a9\\ub7c9=%{y}\", \"legendgroup\": \"\\ub178\\uc120\\uba85=63\", \"marker\": {\"color\": \"#FF6692\", \"symbol\": \"circle\"}, \"mode\": \"markers\", \"name\": \"\\ub178\\uc120\\uba85=63\", \"showlegend\": true, \"type\": \"scatter\", \"x\": [4], \"xaxis\": \"x\", \"y\": [20], \"yaxis\": \"y\"}, {\"hoverlabel\": {\"namelength\": 0}, \"hovertemplate\": \"\\ub178\\uc120\\uba85=5<br>\\uc2dc\\uac04=%{x}<br>\\uc774\\uc6a9\\ub7c9=%{y}\", \"legendgroup\": \"\\ub178\\uc120\\uba85=5\", \"marker\": {\"color\": \"#B6E880\", \"symbol\": \"circle\"}, \"mode\": \"markers\", \"name\": \"\\ub178\\uc120\\uba85=5\", \"showlegend\": true, \"type\": \"scatter\", \"x\": [4, 5], \"xaxis\": \"x\", \"y\": [19, 267], \"yaxis\": \"y\"}, {\"hoverlabel\": {\"namelength\": 0}, \"hovertemplate\": \"\\ub178\\uc120\\uba85=13-5<br>\\uc2dc\\uac04=%{x}<br>\\uc774\\uc6a9\\ub7c9=%{y}\", \"legendgroup\": \"\\ub178\\uc120\\uba85=13-5\", \"marker\": {\"color\": \"#FF97FF\", \"symbol\": \"circle\"}, \"mode\": \"markers\", \"name\": \"\\ub178\\uc120\\uba85=13-5\", \"showlegend\": true, \"type\": \"scatter\", \"x\": [4, 5, 6, 7, 8, 9, 10, 11, 12, 13, 14, 15, 16, 17, 18, 19, 20, 21, 22, 23], \"xaxis\": \"x\", \"y\": [18, 370, 720, 1194, 1474, 794, 532, 630, 586, 708, 680, 692, 858, 1208, 1304, 1014, 932, 1008, 770, 350], \"yaxis\": \"y\"}, {\"hoverlabel\": {\"namelength\": 0}, \"hovertemplate\": \"\\ub178\\uc120\\uba85=99<br>\\uc2dc\\uac04=%{x}<br>\\uc774\\uc6a9\\ub7c9=%{y}\", \"legendgroup\": \"\\ub178\\uc120\\uba85=99\", \"marker\": {\"color\": \"#FECB52\", \"symbol\": \"circle\"}, \"mode\": \"markers\", \"name\": \"\\ub178\\uc120\\uba85=99\", \"showlegend\": true, \"type\": \"scatter\", \"x\": [4], \"xaxis\": \"x\", \"y\": [16], \"yaxis\": \"y\"}, {\"hoverlabel\": {\"namelength\": 0}, \"hovertemplate\": \"\\ub178\\uc120\\uba85=720-2<br>\\uc2dc\\uac04=%{x}<br>\\uc774\\uc6a9\\ub7c9=%{y}\", \"legendgroup\": \"\\ub178\\uc120\\uba85=720-2\", \"marker\": {\"color\": \"#636efa\", \"symbol\": \"circle\"}, \"mode\": \"markers\", \"name\": \"\\ub178\\uc120\\uba85=720-2\", \"showlegend\": true, \"type\": \"scatter\", \"x\": [5, 6, 7, 8, 9, 10, 11, 12, 13, 14, 15, 16, 17, 18, 19, 20, 21, 22, 23], \"xaxis\": \"x\", \"y\": [264, 747, 1712, 2080, 1301, 893, 953, 1212, 1279, 1054, 1133, 1383, 1733, 1735, 1305, 1171, 1075, 876, 434], \"yaxis\": \"y\"}, {\"hoverlabel\": {\"namelength\": 0}, \"hovertemplate\": \"\\ub178\\uc120\\uba85=700-2<br>\\uc2dc\\uac04=%{x}<br>\\uc774\\uc6a9\\ub7c9=%{y}\", \"legendgroup\": \"\\ub178\\uc120\\uba85=700-2\", \"marker\": {\"color\": \"#EF553B\", \"symbol\": \"circle\"}, \"mode\": \"markers\", \"name\": \"\\ub178\\uc120\\uba85=700-2\", \"showlegend\": true, \"type\": \"scatter\", \"x\": [5, 7, 8], \"xaxis\": \"x\", \"y\": [257, 1267, 1298], \"yaxis\": \"y\"}, {\"hoverlabel\": {\"namelength\": 0}, \"hovertemplate\": \"\\ub178\\uc120\\uba85=62-1<br>\\uc2dc\\uac04=%{x}<br>\\uc774\\uc6a9\\ub7c9=%{y}\", \"legendgroup\": \"\\ub178\\uc120\\uba85=62-1\", \"marker\": {\"color\": \"#00cc96\", \"symbol\": \"circle\"}, \"mode\": \"markers\", \"name\": \"\\ub178\\uc120\\uba85=62-1\", \"showlegend\": true, \"type\": \"scatter\", \"x\": [5, 6, 7, 8, 9, 10, 11, 12, 13, 14, 15, 16, 17, 18, 19, 20, 21, 22, 23], \"xaxis\": \"x\", \"y\": [216, 776, 1444, 1632, 959, 738, 865, 1002, 1115, 902, 1029, 1046, 1438, 1366, 943, 717, 815, 703, 227], \"yaxis\": \"y\"}, {\"hoverlabel\": {\"namelength\": 0}, \"hovertemplate\": \"\\ub178\\uc120\\uba85=92-1<br>\\uc2dc\\uac04=%{x}<br>\\uc774\\uc6a9\\ub7c9=%{y}\", \"legendgroup\": \"\\ub178\\uc120\\uba85=92-1\", \"marker\": {\"color\": \"#ab63fa\", \"symbol\": \"circle\"}, \"mode\": \"markers\", \"name\": \"\\ub178\\uc120\\uba85=92-1\", \"showlegend\": true, \"type\": \"scatter\", \"x\": [5, 6, 7, 8, 9, 10, 11, 12, 13, 14, 15, 16, 17, 18, 19, 20, 21, 22, 23], \"xaxis\": \"x\", \"y\": [208, 834, 1704, 2598, 1282, 946, 950, 1290, 1362, 1294, 1450, 1742, 2240, 2144, 1562, 1606, 1320, 1390, 596], \"yaxis\": \"y\"}, {\"hoverlabel\": {\"namelength\": 0}, \"hovertemplate\": \"\\ub178\\uc120\\uba85=2-1<br>\\uc2dc\\uac04=%{x}<br>\\uc774\\uc6a9\\ub7c9=%{y}\", \"legendgroup\": \"\\ub178\\uc120\\uba85=2-1\", \"marker\": {\"color\": \"#FFA15A\", \"symbol\": \"circle\"}, \"mode\": \"markers\", \"name\": \"\\ub178\\uc120\\uba85=2-1\", \"showlegend\": true, \"type\": \"scatter\", \"x\": [6, 7, 8, 9, 10, 11, 12, 13, 14, 15, 16, 17, 18, 19, 20, 21, 22, 23], \"xaxis\": \"x\", \"y\": [626, 1536, 1522, 894, 602, 620, 713, 890, 852, 916, 886, 1238, 1298, 792, 658, 686, 556, 244], \"yaxis\": \"y\"}, {\"hoverlabel\": {\"namelength\": 0}, \"hovertemplate\": \"\\ub178\\uc120\\uba85=30-1<br>\\uc2dc\\uac04=%{x}<br>\\uc774\\uc6a9\\ub7c9=%{y}\", \"legendgroup\": \"\\ub178\\uc120\\uba85=30-1\", \"marker\": {\"color\": \"#19d3f3\", \"symbol\": \"circle\"}, \"mode\": \"markers\", \"name\": \"\\ub178\\uc120\\uba85=30-1\", \"showlegend\": true, \"type\": \"scatter\", \"x\": [6, 12, 13, 14, 15, 17, 23], \"xaxis\": \"x\", \"y\": [574, 609, 728, 588, 730, 986, 184], \"yaxis\": \"y\"}, {\"hoverlabel\": {\"namelength\": 0}, \"hovertemplate\": \"\\ub178\\uc120\\uba85=30<br>\\uc2dc\\uac04=%{x}<br>\\uc774\\uc6a9\\ub7c9=%{y}\", \"legendgroup\": \"\\ub178\\uc120\\uba85=30\", \"marker\": {\"color\": \"#FF6692\", \"symbol\": \"circle\"}, \"mode\": \"markers\", \"name\": \"\\ub178\\uc120\\uba85=30\", \"showlegend\": true, \"type\": \"scatter\", \"x\": [6, 11, 17], \"xaxis\": \"x\", \"y\": [528, 554, 970], \"yaxis\": \"y\"}, {\"hoverlabel\": {\"namelength\": 0}, \"hovertemplate\": \"\\ub178\\uc120\\uba85=3<br>\\uc2dc\\uac04=%{x}<br>\\uc774\\uc6a9\\ub7c9=%{y}\", \"legendgroup\": \"\\ub178\\uc120\\uba85=3\", \"marker\": {\"color\": \"#B6E880\", \"symbol\": \"circle\"}, \"mode\": \"markers\", \"name\": \"\\ub178\\uc120\\uba85=3\", \"showlegend\": true, \"type\": \"scatter\", \"x\": [7, 8, 9, 10, 11, 12, 13, 14, 15, 16, 17, 18, 19, 20, 21, 22, 23], \"xaxis\": \"x\", \"y\": [1437, 1818, 1180, 1107, 972, 1278, 1519, 1285, 1252, 1368, 1258, 1394, 899, 792, 733, 611, 222], \"yaxis\": \"y\"}, {\"hoverlabel\": {\"namelength\": 0}, \"hovertemplate\": \"\\ub178\\uc120\\uba85=13-1<br>\\uc2dc\\uac04=%{x}<br>\\uc774\\uc6a9\\ub7c9=%{y}\", \"legendgroup\": \"\\ub178\\uc120\\uba85=13-1\", \"marker\": {\"color\": \"#FF97FF\", \"symbol\": \"circle\"}, \"mode\": \"markers\", \"name\": \"\\ub178\\uc120\\uba85=13-1\", \"showlegend\": true, \"type\": \"scatter\", \"x\": [8, 9, 10, 11, 12, 15, 16, 19, 20, 21, 22], \"xaxis\": \"x\", \"y\": [1312, 737, 459, 522, 604, 649, 761, 716, 680, 634, 550], \"yaxis\": \"y\"}, {\"hoverlabel\": {\"namelength\": 0}, \"hovertemplate\": \"\\ub178\\uc120\\uba85=720-3<br>\\uc2dc\\uac04=%{x}<br>\\uc774\\uc6a9\\ub7c9=%{y}\", \"legendgroup\": \"\\ub178\\uc120\\uba85=720-3\", \"marker\": {\"color\": \"#FECB52\", \"symbol\": \"circle\"}, \"mode\": \"markers\", \"name\": \"\\ub178\\uc120\\uba85=720-3\", \"showlegend\": true, \"type\": \"scatter\", \"x\": [18, 19], \"xaxis\": \"x\", \"y\": [1006, 814], \"yaxis\": \"y\"}],\n",
       "                        {\"height\": 600, \"legend\": {\"tracegroupgap\": 0}, \"margin\": {\"t\": 60}, \"template\": {\"data\": {\"bar\": [{\"error_x\": {\"color\": \"#2a3f5f\"}, \"error_y\": {\"color\": \"#2a3f5f\"}, \"marker\": {\"line\": {\"color\": \"#E5ECF6\", \"width\": 0.5}}, \"type\": \"bar\"}], \"barpolar\": [{\"marker\": {\"line\": {\"color\": \"#E5ECF6\", \"width\": 0.5}}, \"type\": \"barpolar\"}], \"carpet\": [{\"aaxis\": {\"endlinecolor\": \"#2a3f5f\", \"gridcolor\": \"white\", \"linecolor\": \"white\", \"minorgridcolor\": \"white\", \"startlinecolor\": \"#2a3f5f\"}, \"baxis\": {\"endlinecolor\": \"#2a3f5f\", \"gridcolor\": \"white\", \"linecolor\": \"white\", \"minorgridcolor\": \"white\", \"startlinecolor\": \"#2a3f5f\"}, \"type\": \"carpet\"}], \"choropleth\": [{\"colorbar\": {\"outlinewidth\": 0, \"ticks\": \"\"}, \"type\": \"choropleth\"}], \"contour\": [{\"colorbar\": {\"outlinewidth\": 0, \"ticks\": \"\"}, \"colorscale\": [[0.0, \"#0d0887\"], [0.1111111111111111, \"#46039f\"], [0.2222222222222222, \"#7201a8\"], [0.3333333333333333, \"#9c179e\"], [0.4444444444444444, \"#bd3786\"], [0.5555555555555556, \"#d8576b\"], [0.6666666666666666, \"#ed7953\"], [0.7777777777777778, \"#fb9f3a\"], [0.8888888888888888, \"#fdca26\"], [1.0, \"#f0f921\"]], \"type\": \"contour\"}], \"contourcarpet\": [{\"colorbar\": {\"outlinewidth\": 0, \"ticks\": \"\"}, \"type\": \"contourcarpet\"}], \"heatmap\": [{\"colorbar\": {\"outlinewidth\": 0, \"ticks\": \"\"}, \"colorscale\": [[0.0, \"#0d0887\"], [0.1111111111111111, \"#46039f\"], [0.2222222222222222, \"#7201a8\"], [0.3333333333333333, \"#9c179e\"], [0.4444444444444444, \"#bd3786\"], [0.5555555555555556, \"#d8576b\"], [0.6666666666666666, \"#ed7953\"], [0.7777777777777778, \"#fb9f3a\"], [0.8888888888888888, \"#fdca26\"], [1.0, \"#f0f921\"]], \"type\": \"heatmap\"}], \"heatmapgl\": [{\"colorbar\": {\"outlinewidth\": 0, \"ticks\": \"\"}, \"colorscale\": [[0.0, \"#0d0887\"], [0.1111111111111111, \"#46039f\"], [0.2222222222222222, \"#7201a8\"], [0.3333333333333333, \"#9c179e\"], [0.4444444444444444, \"#bd3786\"], [0.5555555555555556, \"#d8576b\"], [0.6666666666666666, \"#ed7953\"], [0.7777777777777778, \"#fb9f3a\"], [0.8888888888888888, \"#fdca26\"], [1.0, \"#f0f921\"]], \"type\": \"heatmapgl\"}], \"histogram\": [{\"marker\": {\"colorbar\": {\"outlinewidth\": 0, \"ticks\": \"\"}}, \"type\": \"histogram\"}], \"histogram2d\": [{\"colorbar\": {\"outlinewidth\": 0, \"ticks\": \"\"}, \"colorscale\": [[0.0, \"#0d0887\"], [0.1111111111111111, \"#46039f\"], [0.2222222222222222, \"#7201a8\"], [0.3333333333333333, \"#9c179e\"], [0.4444444444444444, \"#bd3786\"], [0.5555555555555556, \"#d8576b\"], [0.6666666666666666, \"#ed7953\"], [0.7777777777777778, \"#fb9f3a\"], [0.8888888888888888, \"#fdca26\"], [1.0, \"#f0f921\"]], \"type\": \"histogram2d\"}], \"histogram2dcontour\": [{\"colorbar\": {\"outlinewidth\": 0, \"ticks\": \"\"}, \"colorscale\": [[0.0, \"#0d0887\"], [0.1111111111111111, \"#46039f\"], [0.2222222222222222, \"#7201a8\"], [0.3333333333333333, \"#9c179e\"], [0.4444444444444444, \"#bd3786\"], [0.5555555555555556, \"#d8576b\"], [0.6666666666666666, \"#ed7953\"], [0.7777777777777778, \"#fb9f3a\"], [0.8888888888888888, \"#fdca26\"], [1.0, \"#f0f921\"]], \"type\": \"histogram2dcontour\"}], \"mesh3d\": [{\"colorbar\": {\"outlinewidth\": 0, \"ticks\": \"\"}, \"type\": \"mesh3d\"}], \"parcoords\": [{\"line\": {\"colorbar\": {\"outlinewidth\": 0, \"ticks\": \"\"}}, \"type\": \"parcoords\"}], \"pie\": [{\"automargin\": true, \"type\": \"pie\"}], \"scatter\": [{\"marker\": {\"colorbar\": {\"outlinewidth\": 0, \"ticks\": \"\"}}, \"type\": \"scatter\"}], \"scatter3d\": [{\"line\": {\"colorbar\": {\"outlinewidth\": 0, \"ticks\": \"\"}}, \"marker\": {\"colorbar\": {\"outlinewidth\": 0, \"ticks\": \"\"}}, \"type\": \"scatter3d\"}], \"scattercarpet\": [{\"marker\": {\"colorbar\": {\"outlinewidth\": 0, \"ticks\": \"\"}}, \"type\": \"scattercarpet\"}], \"scattergeo\": [{\"marker\": {\"colorbar\": {\"outlinewidth\": 0, \"ticks\": \"\"}}, \"type\": \"scattergeo\"}], \"scattergl\": [{\"marker\": {\"colorbar\": {\"outlinewidth\": 0, \"ticks\": \"\"}}, \"type\": \"scattergl\"}], \"scattermapbox\": [{\"marker\": {\"colorbar\": {\"outlinewidth\": 0, \"ticks\": \"\"}}, \"type\": \"scattermapbox\"}], \"scatterpolar\": [{\"marker\": {\"colorbar\": {\"outlinewidth\": 0, \"ticks\": \"\"}}, \"type\": \"scatterpolar\"}], \"scatterpolargl\": [{\"marker\": {\"colorbar\": {\"outlinewidth\": 0, \"ticks\": \"\"}}, \"type\": \"scatterpolargl\"}], \"scatterternary\": [{\"marker\": {\"colorbar\": {\"outlinewidth\": 0, \"ticks\": \"\"}}, \"type\": \"scatterternary\"}], \"surface\": [{\"colorbar\": {\"outlinewidth\": 0, \"ticks\": \"\"}, \"colorscale\": [[0.0, \"#0d0887\"], [0.1111111111111111, \"#46039f\"], [0.2222222222222222, \"#7201a8\"], [0.3333333333333333, \"#9c179e\"], [0.4444444444444444, \"#bd3786\"], [0.5555555555555556, \"#d8576b\"], [0.6666666666666666, \"#ed7953\"], [0.7777777777777778, \"#fb9f3a\"], [0.8888888888888888, \"#fdca26\"], [1.0, \"#f0f921\"]], \"type\": \"surface\"}], \"table\": [{\"cells\": {\"fill\": {\"color\": \"#EBF0F8\"}, \"line\": {\"color\": \"white\"}}, \"header\": {\"fill\": {\"color\": \"#C8D4E3\"}, \"line\": {\"color\": \"white\"}}, \"type\": \"table\"}]}, \"layout\": {\"annotationdefaults\": {\"arrowcolor\": \"#2a3f5f\", \"arrowhead\": 0, \"arrowwidth\": 1}, \"coloraxis\": {\"colorbar\": {\"outlinewidth\": 0, \"ticks\": \"\"}}, \"colorscale\": {\"diverging\": [[0, \"#8e0152\"], [0.1, \"#c51b7d\"], [0.2, \"#de77ae\"], [0.3, \"#f1b6da\"], [0.4, \"#fde0ef\"], [0.5, \"#f7f7f7\"], [0.6, \"#e6f5d0\"], [0.7, \"#b8e186\"], [0.8, \"#7fbc41\"], [0.9, \"#4d9221\"], [1, \"#276419\"]], \"sequential\": [[0.0, \"#0d0887\"], [0.1111111111111111, \"#46039f\"], [0.2222222222222222, \"#7201a8\"], [0.3333333333333333, \"#9c179e\"], [0.4444444444444444, \"#bd3786\"], [0.5555555555555556, \"#d8576b\"], [0.6666666666666666, \"#ed7953\"], [0.7777777777777778, \"#fb9f3a\"], [0.8888888888888888, \"#fdca26\"], [1.0, \"#f0f921\"]], \"sequentialminus\": [[0.0, \"#0d0887\"], [0.1111111111111111, \"#46039f\"], [0.2222222222222222, \"#7201a8\"], [0.3333333333333333, \"#9c179e\"], [0.4444444444444444, \"#bd3786\"], [0.5555555555555556, \"#d8576b\"], [0.6666666666666666, \"#ed7953\"], [0.7777777777777778, \"#fb9f3a\"], [0.8888888888888888, \"#fdca26\"], [1.0, \"#f0f921\"]]}, \"colorway\": [\"#636efa\", \"#EF553B\", \"#00cc96\", \"#ab63fa\", \"#FFA15A\", \"#19d3f3\", \"#FF6692\", \"#B6E880\", \"#FF97FF\", \"#FECB52\"], \"font\": {\"color\": \"#2a3f5f\"}, \"geo\": {\"bgcolor\": \"white\", \"lakecolor\": \"white\", \"landcolor\": \"#E5ECF6\", \"showlakes\": true, \"showland\": true, \"subunitcolor\": \"white\"}, \"hoverlabel\": {\"align\": \"left\"}, \"hovermode\": \"closest\", \"mapbox\": {\"style\": \"light\"}, \"paper_bgcolor\": \"white\", \"plot_bgcolor\": \"#E5ECF6\", \"polar\": {\"angularaxis\": {\"gridcolor\": \"white\", \"linecolor\": \"white\", \"ticks\": \"\"}, \"bgcolor\": \"#E5ECF6\", \"radialaxis\": {\"gridcolor\": \"white\", \"linecolor\": \"white\", \"ticks\": \"\"}}, \"scene\": {\"xaxis\": {\"backgroundcolor\": \"#E5ECF6\", \"gridcolor\": \"white\", \"gridwidth\": 2, \"linecolor\": \"white\", \"showbackground\": true, \"ticks\": \"\", \"zerolinecolor\": \"white\"}, \"yaxis\": {\"backgroundcolor\": \"#E5ECF6\", \"gridcolor\": \"white\", \"gridwidth\": 2, \"linecolor\": \"white\", \"showbackground\": true, \"ticks\": \"\", \"zerolinecolor\": \"white\"}, \"zaxis\": {\"backgroundcolor\": \"#E5ECF6\", \"gridcolor\": \"white\", \"gridwidth\": 2, \"linecolor\": \"white\", \"showbackground\": true, \"ticks\": \"\", \"zerolinecolor\": \"white\"}}, \"shapedefaults\": {\"line\": {\"color\": \"#2a3f5f\"}}, \"ternary\": {\"aaxis\": {\"gridcolor\": \"white\", \"linecolor\": \"white\", \"ticks\": \"\"}, \"baxis\": {\"gridcolor\": \"white\", \"linecolor\": \"white\", \"ticks\": \"\"}, \"bgcolor\": \"#E5ECF6\", \"caxis\": {\"gridcolor\": \"white\", \"linecolor\": \"white\", \"ticks\": \"\"}}, \"title\": {\"x\": 0.05}, \"xaxis\": {\"automargin\": true, \"gridcolor\": \"white\", \"linecolor\": \"white\", \"ticks\": \"\", \"title\": {\"standoff\": 15}, \"zerolinecolor\": \"white\", \"zerolinewidth\": 2}, \"yaxis\": {\"automargin\": true, \"gridcolor\": \"white\", \"linecolor\": \"white\", \"ticks\": \"\", \"title\": {\"standoff\": 15}, \"zerolinecolor\": \"white\", \"zerolinewidth\": 2}}}, \"xaxis\": {\"anchor\": \"y\", \"domain\": [0.0, 1.0], \"title\": {\"text\": \"\\uc2dc\\uac04\"}}, \"yaxis\": {\"anchor\": \"x\", \"domain\": [0.0, 1.0], \"title\": {\"text\": \"\\uc774\\uc6a9\\ub7c9\"}}},\n",
       "                        {\"responsive\": true}\n",
       "                    ).then(function(){\n",
       "                            \n",
       "var gd = document.getElementById('a186ff7a-aefc-4681-b43a-12339d189f52');\n",
       "var x = new MutationObserver(function (mutations, observer) {{\n",
       "        var display = window.getComputedStyle(gd).display;\n",
       "        if (!display || display === 'none') {{\n",
       "            console.log([gd, 'removed!']);\n",
       "            Plotly.purge(gd);\n",
       "            observer.disconnect();\n",
       "        }}\n",
       "}});\n",
       "\n",
       "// Listen for the removal of the full notebook cells\n",
       "var notebookContainer = gd.closest('#notebook-container');\n",
       "if (notebookContainer) {{\n",
       "    x.observe(notebookContainer, {childList: true});\n",
       "}}\n",
       "\n",
       "// Listen for the clearing of the current output cell\n",
       "var outputEl = gd.closest('.output');\n",
       "if (outputEl) {{\n",
       "    x.observe(outputEl, {childList: true});\n",
       "}}\n",
       "\n",
       "                        })\n",
       "                };\n",
       "                });\n",
       "            </script>\n",
       "        </div>"
      ]
     },
     "metadata": {},
     "output_type": "display_data"
    }
   ],
   "source": [
    "fig = px.scatter(df5, x=\"시간\", y=\"이용량\", color=\"노선명\")\n",
    "fig.show()"
   ]
  },
  {
   "cell_type": "code",
   "execution_count": null,
   "metadata": {},
   "outputs": [],
   "source": []
  }
 ],
 "metadata": {
  "kernelspec": {
   "display_name": "Python 3",
   "language": "python",
   "name": "python3"
  },
  "language_info": {
   "codemirror_mode": {
    "name": "ipython",
    "version": 3
   },
   "file_extension": ".py",
   "mimetype": "text/x-python",
   "name": "python",
   "nbconvert_exporter": "python",
   "pygments_lexer": "ipython3",
   "version": "3.7.3"
  }
 },
 "nbformat": 4,
 "nbformat_minor": 2
}
