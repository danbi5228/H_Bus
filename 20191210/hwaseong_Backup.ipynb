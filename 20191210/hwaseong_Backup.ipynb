{
 "cells": [
  {
   "cell_type": "code",
   "execution_count": null,
   "metadata": {},
   "outputs": [],
   "source": [
    "# download data from compas\n",
    "\n",
    "from geoband.API import *\n",
    "\n",
    "GetCompasData('PJT001_TripChain.csv')\n",
    "GetCompasData('PJT001_stations_table.csv')\n",
    "GetCompasData('PJT001_moc_link_2018.geojson')\n",
    "GetCompasData('PJT001_h_100m_cell_flow.geojson')\n",
    "GetCompasData('PJT001_h_100m_cell_pop.geojson')\n",
    "GetCompasData('PJT001_sk_emd_od.csv')\n",
    "GetCompasData('PJT001_tl_scco_emd.geojson')\n",
    "GetCompasData('PJT001_routestationinfo.csv')"
   ]
  },
  {
   "cell_type": "code",
   "execution_count": null,
   "metadata": {},
   "outputs": [],
   "source": [
    "import pandas as pd\n",
    "import geopandas as gpd\n",
    "\n",
    "# read in data\n",
    "\n",
    "tripChain = pd.read_csv('PJT001_TripChain.csv')\n",
    "stations = pd.read_csv('PJT001_stations_table.csv')\n",
    "mocLink = gpd.read_file('PJT001_moc_link_2018.geojson')\n",
    "cellFlow = gpd.read_file('PJT001_h_100m_cell_flow.geojson')\n",
    "cellPop = gpd.read_file('PJT001_h_100m_cell_pop.geojson')\n",
    "emdOd = pd.read_csv('PJT001_sk_emd_od.csv')\n",
    "emd = gpd.read_file('PJT001_tl_scco_emd.geojson')\n",
    "routeStationInfo = pd.read_csv('PJT001_routestationinfo.csv')"
   ]
  },
  {
   "cell_type": "code",
   "execution_count": null,
   "metadata": {},
   "outputs": [],
   "source": [
    "tripChain.columns"
   ]
  },
  {
   "cell_type": "code",
   "execution_count": null,
   "metadata": {},
   "outputs": [],
   "source": [
    "# 컬럼이름을 좀 이쁘게 만들어 보자\n",
    "\n",
    "tripChain.columns=['암호화카드번호', '트랜잭션ID', '환승횟수', '교통카드발행사ID',\n",
    "       '총이용객수', '사용자구분', '교통수단CD1', '교통수단CD2',\n",
    "       '교통수단CD3', '교통수단CD4', '교통수단CD5', '버스노선ID1',\n",
    "       '버스노선ID2', '버스노선ID3', '버스노선ID4', '버스노선ID5',\n",
    "       '차량ID1', '차량ID2', '차량ID3', '차량ID4',\n",
    "       '차량ID5', '총통행거리', '총탑승시간', '총소요시간',\n",
    "       '승차일시1', '승차일시2', '승차일시3', '승차일시4',\n",
    "       '승차일시5', '하차일시1', '하차일시2', '하차일시3',\n",
    "       '하차일시4', '하차일시5', '최초승차일시', '최종하차일시',\n",
    "       '승차역ID1', '승차역ID2', '승차역ID3', '승차역ID4',\n",
    "       '승차역ID5', '하차역ID1', '하차역ID2', '하차역ID3',\n",
    "       '하차역ID4', '하차역ID5', '최초승차역ID', '최종하차역ID',\n",
    "       '총이용금액', '수집건수', '트립체인완료코드']"
   ]
  },
  {
   "cell_type": "code",
   "execution_count": null,
   "metadata": {},
   "outputs": [],
   "source": [
    "tripChain.isnull().sum()"
   ]
  },
  {
   "cell_type": "code",
   "execution_count": null,
   "metadata": {},
   "outputs": [],
   "source": [
    "stations.표준정류장ID.unique().size"
   ]
  },
  {
   "cell_type": "code",
   "execution_count": null,
   "metadata": {},
   "outputs": [],
   "source": [
    "stations.shape"
   ]
  },
  {
   "cell_type": "code",
   "execution_count": null,
   "metadata": {},
   "outputs": [],
   "source": [
    "stations.head(100)"
   ]
  },
  {
   "cell_type": "code",
   "execution_count": null,
   "metadata": {},
   "outputs": [],
   "source": [
    "stations.drop_duplicates(subset =\"표준정류장ID\", keep = 'first', inplace = True) "
   ]
  },
  {
   "cell_type": "code",
   "execution_count": null,
   "metadata": {},
   "outputs": [],
   "source": [
    "stations.shape"
   ]
  },
  {
   "cell_type": "code",
   "execution_count": null,
   "metadata": {},
   "outputs": [],
   "source": [
    "routeStationInfo.shape"
   ]
  },
  {
   "cell_type": "code",
   "execution_count": null,
   "metadata": {},
   "outputs": [],
   "source": [
    "# 화성시 버스노선만 뽑아내자\n",
    "\n",
    "station_office = pd.DataFrame(stations['표준정류장ID'])\n",
    "station_office['시군명'] = stations['시군명']\n",
    "station_office.isnull().sum()\n",
    "station_office"
   ]
  },
  {
   "cell_type": "code",
   "execution_count": null,
   "metadata": {},
   "outputs": [],
   "source": [
    "station_office.표준정류장ID.unique().size"
   ]
  },
  {
   "cell_type": "code",
   "execution_count": null,
   "metadata": {},
   "outputs": [],
   "source": [
    "route_station = pd.merge(routeStationInfo, station_office[['표준정류장ID', '시군명']], how = 'left', left_on = 'station_id', right_on='표준정류장ID')\n",
    "route_station"
   ]
  },
  {
   "cell_type": "code",
   "execution_count": null,
   "metadata": {},
   "outputs": [],
   "source": [
    "# 시군명이 null 값인 정류장이 2535개나 된다..\n",
    "\n",
    "route_station[route_station['시군명'].isna()]"
   ]
  },
  {
   "cell_type": "code",
   "execution_count": null,
   "metadata": {},
   "outputs": [],
   "source": [
    "station_null = pd.merge(stations, routeStationInfo[['station_id', 'station_nm']], how='inner', left_on='표준정류장ID', right_on = 'station_id')\n",
    "station_null = station_null.drop('정류소명', 1)\n",
    "station_null = station_null.rename(columns={'station_nm': '정류소명'})\n",
    "station_null.to_csv('station_null.csv', sep=',')"
   ]
  },
  {
   "cell_type": "code",
   "execution_count": null,
   "metadata": {},
   "outputs": [],
   "source": [
    "# stations2 = 시군명 결측치를 수동으로 채운 station 테이블\n",
    "stations2 = pd.read_csv('./station_null2.csv')\n",
    "stations2 = stations2.drop('station_id', 1)\n",
    "stations2"
   ]
  },
  {
   "cell_type": "code",
   "execution_count": null,
   "metadata": {},
   "outputs": [],
   "source": [
    "# 다시한번 화성시 버스노선만 뽑아내자\n",
    "\n",
    "station_office2 = pd.DataFrame(stations2['표준정류장ID'])\n",
    "station_office2['시군명'] = stations2['시군명']\n",
    "station_office2.isnull().sum()\n",
    "station_office2.drop_duplicates(subset =\"표준정류장ID\", keep = 'first', inplace = True) \n",
    "station_office2"
   ]
  },
  {
   "cell_type": "code",
   "execution_count": null,
   "metadata": {},
   "outputs": [],
   "source": [
    "route_station2 = pd.merge(routeStationInfo, station_office2, how = 'inner', left_on = 'station_id', right_on='표준정류장ID')\n",
    "route_station2"
   ]
  },
  {
   "cell_type": "code",
   "execution_count": null,
   "metadata": {},
   "outputs": [],
   "source": [
    "stations2[stations2[\"시군명\"] == \"화성시\"].count()"
   ]
  },
  {
   "cell_type": "code",
   "execution_count": null,
   "metadata": {},
   "outputs": [],
   "source": [
    "# 시군명이 null인애들을 다시한번 수동으로 채워볼게요 (앞뒤 정류장의 시군명이랑 비교해서!)\n",
    "\n",
    "sgname_null = pd.DataFrame(route_station2[route_station2['시군명'].isnull()]['pr_station_id'])\n",
    "sgname_null.drop_duplicates(subset =\"pr_station_id\", keep = 'first', inplace = True) \n",
    "sgname_null"
   ]
  },
  {
   "cell_type": "code",
   "execution_count": null,
   "metadata": {},
   "outputs": [],
   "source": [
    "pd.set_option('display.max_rows', 500)"
   ]
  },
  {
   "cell_type": "code",
   "execution_count": null,
   "metadata": {},
   "outputs": [],
   "source": [
    "route_station2[route_station2['pr_station_id'] == 241483020]\n",
    "\n",
    "# 시군명이 null값인 애들을 일일히 다 확인해봤으나 화성시 내부만 돌아다니는 버스노선은 없었음 ! => null값인 애들들도 다 drop하고 진행할게요"
   ]
  },
  {
   "cell_type": "code",
   "execution_count": null,
   "metadata": {},
   "outputs": [],
   "source": [
    "route_station2.sort_values(by=['pr_station_id', 'bus_line_no_seq'])"
   ]
  },
  {
   "cell_type": "code",
   "execution_count": null,
   "metadata": {},
   "outputs": [],
   "source": [
    "# 우리는 661개의 unique 한 버스노선 데이터를 가지고 있지요!\n",
    "\n",
    "route_station2.pr_station_id.unique().size"
   ]
  },
  {
   "cell_type": "code",
   "execution_count": null,
   "metadata": {},
   "outputs": [],
   "source": [
    "buses_not_hwaseong = []\n",
    "\n",
    "for index, row in route_station2.iterrows():\n",
    "    if(row['시군명'] != '화성시'):\n",
    "        buses_not_hwaseong.append(row['pr_station_id'])"
   ]
  },
  {
   "cell_type": "code",
   "execution_count": null,
   "metadata": {},
   "outputs": [],
   "source": [
    "# 이중에 화성시 밖을 다니는 버스들은 buses_not_hwaseong 이라는 리스트에 저장해 둘게요!\n",
    "\n",
    "buses_not_hwaseong = list(dict.fromkeys(buses_not_hwaseong))"
   ]
  },
  {
   "cell_type": "code",
   "execution_count": null,
   "metadata": {},
   "outputs": [],
   "source": [
    "# 화성시 밖을 나가는 버스노선은 총 493개\n",
    "# 화성시 안만을 다니는 버스는 총 661-493 = 168개 네요?\n",
    "\n",
    "len(buses_not_hwaseong)"
   ]
  },
  {
   "cell_type": "markdown",
   "metadata": {},
   "source": [
    "### hwaseong_buses 라는 dataframe에 화성시 안만을 다니는 버스노선의 데이터를 저장해놓을게요!\n",
    "\n",
    "route_station_hwaseong = route_station2\n",
    "route_station_hwaseong\n",
    "\n",
    "for index, row in route_station_hwaseong.iterrows():\n",
    "    if row['pr_station_id'] in buses_not_hwaseong:\n",
    "        route_station_hwaseong.drop(index, inplace = True)\n",
    "        \n",
    "route_station_hwaseong.to_csv('route_station_hwaseong.csv', sep=',')"
   ]
  },
  {
   "cell_type": "code",
   "execution_count": null,
   "metadata": {},
   "outputs": [],
   "source": [
    "# 노선 168개만 남은걸 보니 잘 drop했나보군요!\n",
    "\n",
    "route_station_hwaseong = pd.read_csv('./route_station_hwaseong.csv')\n",
    "route_station_hwaseong.pr_station_id.unique().size"
   ]
  },
  {
   "cell_type": "code",
   "execution_count": null,
   "metadata": {},
   "outputs": [],
   "source": [
    "route_station_hwaseong.isna().sum()"
   ]
  },
  {
   "cell_type": "code",
   "execution_count": null,
   "metadata": {},
   "outputs": [],
   "source": [
    "# 화성 내부만 다니는 버스 노선들은 hwaseong_buses에 저장해 놓을게요\n",
    "\n",
    "hwaseong_buses = route_station_hwaseong.pr_station_id.unique()\n",
    "hwaseong_buses"
   ]
  },
  {
   "cell_type": "code",
   "execution_count": null,
   "metadata": {},
   "outputs": [],
   "source": [
    "# 화성시 내부만 다니는 버스 노선들이 지나는 모든 정류장을 hwaseong_station에 저장할게요\n",
    "\n",
    "hwaseong_stations = route_station_hwaseong.표준정류장ID.unique()\n",
    "hwaseong_stations"
   ]
  },
  {
   "cell_type": "markdown",
   "metadata": {},
   "source": [
    "# 버스노선별로 tripchain테이블에서의 이용횟수를 구할게요\n",
    "\n",
    "tripChain2 = tripChain\n",
    "\n",
    "tripChain2['버스노선ID1'] = tripChain2['버스노선ID1'].fillna(0)\n",
    "tripChain2['버스노선ID2'] = tripChain2['버스노선ID2'].fillna(0)\n",
    "tripChain2['버스노선ID3'] = tripChain2['버스노선ID3'].fillna(0)\n",
    "tripChain2['버스노선ID4'] = tripChain2['버스노선ID4'].fillna(0)\n",
    "tripChain2['버스노선ID5'] = tripChain2['버스노선ID5'].fillna(0)\n",
    "\n",
    "\n",
    "bus_user_num = {}\n",
    "\n",
    "for index, row in tripChain2.iterrows():\n",
    "    if row['버스노선ID1'] in bus_user_num:\n",
    "        bus_user_num[row['버스노선ID1']] = bus_user_num[row['버스노선ID1']] + 1\n",
    "    else:\n",
    "        bus_user_num[row['버스노선ID1']] = 1\n",
    "    \n",
    "    if row['버스노선ID2'] in bus_user_num:\n",
    "        bus_user_num[row['버스노선ID2']] = bus_user_num[row['버스노선ID2']] + 1\n",
    "    else:\n",
    "        bus_user_num[row['버스노선ID2']] = 1\n",
    "    \n",
    "    if row['버스노선ID3'] in bus_user_num:\n",
    "        bus_user_num[row['버스노선ID3']] = bus_user_num[row['버스노선ID3']] + 1\n",
    "    else:\n",
    "        bus_user_num[row['버스노선ID3']] = 1\n",
    "    \n",
    "    if row['버스노선ID4'] in bus_user_num:\n",
    "        bus_user_num[row['버스노선ID4']] = bus_user_num[row['버스노선ID4']] + 1\n",
    "    else:\n",
    "        bus_user_num[row['버스노선ID4']] = 1\n",
    "    \n",
    "    if row['버스노선ID5'] in bus_user_num:\n",
    "        bus_user_num[row['버스노선ID5']] = bus_user_num[row['버스노선ID5']] + 1\n",
    "    else:\n",
    "        bus_user_num[row['버스노선ID5']] = 1\n",
    "        \n",
    "most_bus_route = pd.DataFrame.from_dict(bus_user_num, orient='index')\n",
    "most_bus_route.columns = ['이용횟수']\n",
    "most_bus_route = most_bus_route.drop(0.0)\n",
    "most_bus_route\n",
    "\n",
    "most_bus_route.to_csv('bus_route_usage_count.csv', sep=',')"
   ]
  },
  {
   "cell_type": "code",
   "execution_count": null,
   "metadata": {},
   "outputs": [],
   "source": [
    "most_bus_route = pd.read_csv('./bus_route_usage_count.csv')"
   ]
  },
  {
   "cell_type": "code",
   "execution_count": null,
   "metadata": {},
   "outputs": [],
   "source": [
    "most_bus_route.sort_values(by ='이용횟수',  ascending=False).head(100)"
   ]
  },
  {
   "cell_type": "code",
   "execution_count": null,
   "metadata": {},
   "outputs": [],
   "source": [
    "# 이비노선ID와 포준노선ID 매핑 테이블이 제공되었네요!\n",
    "\n",
    "from geoband.API import *\n",
    "\n",
    "GetCompasData('PJT001_routestationmapping.csv')\n",
    "route_station_mapping = pd.read_csv('PJT001_routestationmapping.csv')\n",
    "route_station_mapping"
   ]
  },
  {
   "cell_type": "code",
   "execution_count": null,
   "metadata": {},
   "outputs": [],
   "source": [
    "# route_station_hwaseong_with_eb 테이블은 route_station_hwaseong + 표준노선ID\n",
    "\n",
    "route_station_hwaseong_with_eb = pd.merge(route_station_hwaseong, route_station_mapping[['표준노선ID', '이비노선ID']], how = 'left', left_on = 'pr_station_id', right_on='이비노선ID')\n",
    "route_station_hwaseong_with_eb"
   ]
  },
  {
   "cell_type": "code",
   "execution_count": null,
   "metadata": {},
   "outputs": [],
   "source": [
    "# 화성시 내부만 다니는 버스는 총 168개인데..\n",
    "route_station_hwaseong_with_eb.pr_station_id.unique().size"
   ]
  },
  {
   "cell_type": "code",
   "execution_count": null,
   "metadata": {},
   "outputs": [],
   "source": [
    "# 우리가 알수있는 화성시 내부순환버스의 이용량은 48개밖에 안되요..\n",
    "route_station_hwaseong_with_eb.표준노선ID.unique().size"
   ]
  },
  {
   "cell_type": "code",
   "execution_count": null,
   "metadata": {},
   "outputs": [],
   "source": [
    "hwaseong_buses_eb = route_station_hwaseong_with_eb.표준노선ID.unique()\n",
    "hwaseong_buses_eb"
   ]
  },
  {
   "cell_type": "code",
   "execution_count": null,
   "metadata": {},
   "outputs": [],
   "source": [
    "route_station_hwaseong_with_eb.isna().sum()"
   ]
  },
  {
   "cell_type": "code",
   "execution_count": null,
   "metadata": {},
   "outputs": [],
   "source": [
    "most_bus_route"
   ]
  },
  {
   "cell_type": "code",
   "execution_count": null,
   "metadata": {},
   "outputs": [],
   "source": [
    "most_bus_route_hwaseong = most_bus_route\n",
    "most_bus_route_hwaseong = most_bus_route_hwaseong.rename(columns={'Unnamed: 0' : 'pr_station_id' })\n",
    "most_bus_route_hwaseong"
   ]
  },
  {
   "cell_type": "code",
   "execution_count": null,
   "metadata": {},
   "outputs": [],
   "source": [
    "for index, row in most_bus_route_hwaseong.iterrows():\n",
    "    if (row['pr_station_id'] not in hwaseong_buses_eb):\n",
    "        most_bus_route_hwaseong.drop(index, inplace = True)\n",
    "        \n",
    "        \n",
    "#화성시 내부만 다니는 버스 이용량 순위\n",
    "most_bus_route_hwaseong.sort_values(by='이용횟수', ascending = False)"
   ]
  },
  {
   "cell_type": "code",
   "execution_count": null,
   "metadata": {},
   "outputs": [],
   "source": [
    "# 이용량많은 버스노선 시각화\n",
    "top_hwaseong_buses_route = most_bus_route_hwaseong.sort_values(by='이용횟수', ascending = False).head(10)\n",
    "top_hwaseong_buses_route"
   ]
  },
  {
   "cell_type": "code",
   "execution_count": null,
   "metadata": {},
   "outputs": [],
   "source": [
    "route_station_mapping"
   ]
  },
  {
   "cell_type": "code",
   "execution_count": null,
   "metadata": {},
   "outputs": [],
   "source": [
    "top_hwaseong_buses_route = pd.merge(top_hwaseong_buses_route, route_station_mapping[['이비노선ID', '표준노선ID', '노선명']],how='left', left_on='pr_station_id', right_on = '표준노선ID')\n",
    "top_hwaseong_buses_route = top_hwaseong_buses_route.drop(['표준노선ID'], axis =1)\n",
    "top_hwaseong_buses_route"
   ]
  },
  {
   "cell_type": "code",
   "execution_count": null,
   "metadata": {},
   "outputs": [],
   "source": [
    "top_hwaseong_buses_station_id = top_hwaseong_buses_route.이비노선ID.unique()\n",
    "top_hwaseong_buses_station_id"
   ]
  },
  {
   "cell_type": "code",
   "execution_count": null,
   "metadata": {},
   "outputs": [],
   "source": [
    "route_station_hwaseong"
   ]
  },
  {
   "cell_type": "code",
   "execution_count": null,
   "metadata": {},
   "outputs": [],
   "source": [
    "stations2"
   ]
  },
  {
   "cell_type": "code",
   "execution_count": null,
   "metadata": {},
   "outputs": [],
   "source": [
    "RouteStationInfo_latlon = pd.merge(route_station_hwaseong, stations2[['WGS84위도', 'WGS84경도', '표준정류장ID']], how='left', left_on='표준정류장ID', right_on='표준정류장ID')\n",
    "RouteStationInfo_latlon"
   ]
  },
  {
   "cell_type": "code",
   "execution_count": null,
   "metadata": {},
   "outputs": [],
   "source": [
    "RouteStationInfo_latlon[RouteStationInfo_latlon['WGS84위도'].isna()]"
   ]
  },
  {
   "cell_type": "code",
   "execution_count": null,
   "metadata": {},
   "outputs": [],
   "source": [
    "# 위도경도 결측치 채우기\n",
    "\n",
    "hwaseong_bus1 = pd.read_csv('./hwaseong_bus1.csv', encoding = 'euc-kr')\n",
    "hwaseong_bus2 = pd.read_csv('./hwaseong_bus2.csv', encoding = 'euc-kr')"
   ]
  },
  {
   "cell_type": "code",
   "execution_count": null,
   "metadata": {},
   "outputs": [],
   "source": [
    "hwaseong_bus = pd.concat([hwaseong_bus1, hwaseong_bus2])\n",
    "hwaseong_bus"
   ]
  },
  {
   "cell_type": "code",
   "execution_count": null,
   "metadata": {},
   "outputs": [],
   "source": [
    "RouteStationInfo_latlon = pd.merge(RouteStationInfo_latlon, hwaseong_bus[['위도', '경도', '정류소명']], how='left', left_on='station_nm', right_on='정류소명')\n",
    "RouteStationInfo_latlon = RouteStationInfo_latlon.drop(['정류소명'], axis =1)\n",
    "RouteStationInfo_latlon"
   ]
  },
  {
   "cell_type": "code",
   "execution_count": null,
   "metadata": {},
   "outputs": [],
   "source": [
    "RouteStationInfo_latlon.drop_duplicates(subset =\"표준정류장ID\", keep = 'first', inplace = True) \n",
    "RouteStationInfo_latlon"
   ]
  },
  {
   "cell_type": "code",
   "execution_count": null,
   "metadata": {},
   "outputs": [],
   "source": [
    "RouteStationInfo_latlon['WGS84위도'] = RouteStationInfo_latlon['WGS84위도'].combine_first(RouteStationInfo_latlon['위도'])\n",
    "RouteStationInfo_latlon['WGS84경도'] = RouteStationInfo_latlon['WGS84경도'].combine_first(RouteStationInfo_latlon['경도'])\n",
    "RouteStationInfo_latlon = RouteStationInfo_latlon.drop(['위도', '경도'], axis=1)"
   ]
  },
  {
   "cell_type": "code",
   "execution_count": null,
   "metadata": {},
   "outputs": [],
   "source": [
    "RouteStationInfo_latlon"
   ]
  },
  {
   "cell_type": "code",
   "execution_count": null,
   "metadata": {},
   "outputs": [],
   "source": [
    "top_hwaseong_buses_station_id"
   ]
  },
  {
   "cell_type": "code",
   "execution_count": null,
   "metadata": {},
   "outputs": [],
   "source": [
    "All_busline = []\n",
    "bus_num_ = 0\n",
    "for j in range(len(top_hwaseong_buses_station_id)):\n",
    "    tmp_busline = RouteStationInfo_latlon[RouteStationInfo_latlon['pr_station_id'] == top_hwaseong_buses_station_id[j]].sort_values(by='bus_line_no_seq')\n",
    "    tmp_buslineArr = []\n",
    "    for i in range(len(tmp_busline)):\n",
    "        tmp = tmp_busline.iloc[i]\n",
    "        tmp_buslineArr.append((tmp['WGS84위도'], tmp['WGS84경도']))\n",
    "    All_busline.append(tmp_buslineArr)\n",
    "    bus_num_ += 1"
   ]
  },
  {
   "cell_type": "code",
   "execution_count": null,
   "metadata": {},
   "outputs": [],
   "source": [
    "All_busline[1]"
   ]
  },
  {
   "cell_type": "code",
   "execution_count": null,
   "metadata": {},
   "outputs": [],
   "source": [
    "import folium\n",
    "\n",
    "Busline = folium.Map(location = [37.213952,126.9626727], zoom_start=11)\n",
    "\n",
    "folium.PolyLine(All_busline[0], \n",
    "                popup = pd.DataFrame(RouteStationInfo_latlon[(RouteStationInfo_latlon['WGS84위도'] == All_busline[0][1][0]) & (RouteStationInfo_latlon['WGS84경도'] == All_busline[0][1][1])]['bus_line_no']).iloc[0].iloc[0], \n",
    "                color=\"red\", weight=2.5, opacity=1).add_to(Busline)\n",
    "\n",
    "folium.PolyLine(All_busline[1], \n",
    "                popup = pd.DataFrame(RouteStationInfo_latlon[(RouteStationInfo_latlon['WGS84위도'] == All_busline[1][1][0]) & (RouteStationInfo_latlon['WGS84경도'] == All_busline[1][1][1])]['bus_line_no']).iloc[0].iloc[0], \n",
    "                color=\"blue\", weight=2.5, opacity=1).add_to(Busline)\n",
    "\n",
    "folium.PolyLine(All_busline[2], \n",
    "                popup = pd.DataFrame(RouteStationInfo_latlon[(RouteStationInfo_latlon['WGS84위도'] == All_busline[2][1][0]) & (RouteStationInfo_latlon['WGS84경도'] == All_busline[2][1][1])]['bus_line_no']).iloc[0].iloc[0], \n",
    "                color=\"green\", weight=2.5, opacity=1).add_to(Busline)\n",
    "\n",
    "folium.PolyLine(All_busline[3], \n",
    "                popup = pd.DataFrame(RouteStationInfo_latlon[(RouteStationInfo_latlon['WGS84위도'] == All_busline[3][1][0]) & (RouteStationInfo_latlon['WGS84경도'] == All_busline[3][1][1])]['bus_line_no']).iloc[0].iloc[0], \n",
    "                color=\"purple\", weight=2.5, opacity=1).add_to(Busline)\n",
    "\n",
    "folium.PolyLine(All_busline[4], \n",
    "                popup = pd.DataFrame(RouteStationInfo_latlon[(RouteStationInfo_latlon['WGS84위도'] == All_busline[4][1][0]) & (RouteStationInfo_latlon['WGS84경도'] == All_busline[4][1][1])]['bus_line_no']).iloc[0].iloc[0], \n",
    "                color=\"orange\", weight=2.5, opacity=1).add_to(Busline)\n",
    "\n",
    "folium.PolyLine(All_busline[5], \n",
    "                popup = pd.DataFrame(RouteStationInfo_latlon[(RouteStationInfo_latlon['WGS84위도'] == All_busline[5][1][0]) & (RouteStationInfo_latlon['WGS84경도'] == All_busline[5][1][1])]['bus_line_no']).iloc[0].iloc[0], \n",
    "                color=\"darkblue\", weight=2.5, opacity=1).add_to(Busline)\n",
    "\n",
    "folium.PolyLine(All_busline[6], \n",
    "                popup = pd.DataFrame(RouteStationInfo_latlon[(RouteStationInfo_latlon['WGS84위도'] == All_busline[6][1][0]) & (RouteStationInfo_latlon['WGS84경도'] == All_busline[6][1][1])]['bus_line_no']).iloc[0].iloc[0], \n",
    "                color=\"darkred\", weight=2.5, opacity=1).add_to(Busline)\n",
    "\n",
    "#folium.PolyLine(All_busline[7], \n",
    "#                popup = pd.DataFrame(RouteStationInfo_latlon[(RouteStationInfo_latlon['WGS84위도'] == All_busline[7][1][0]) & (RouteStationInfo_latlon['WGS84경도'] == All_busline[7][1][1])]['bus_line_no']).iloc[0].iloc[0], \n",
    "#                color=\"pink\", weight=2.5, opacity=1).add_to(Busline)\n",
    "\n",
    "folium.PolyLine(All_busline[8], \n",
    "                popup = pd.DataFrame(RouteStationInfo_latlon[(RouteStationInfo_latlon['WGS84위도'] == All_busline[8][1][0]) & (RouteStationInfo_latlon['WGS84경도'] == All_busline[8][1][1])]['bus_line_no']).iloc[0].iloc[0], \n",
    "                color=\"gray\", weight=2.5, opacity=1).add_to(Busline)\n",
    "\n",
    "folium.PolyLine(All_busline[9], \n",
    "                popup = pd.DataFrame(RouteStationInfo_latlon[(RouteStationInfo_latlon['WGS84위도'] == All_busline[9][1][0]) & (RouteStationInfo_latlon['WGS84경도'] == All_busline[9][1][1])]['bus_line_no']).iloc[0].iloc[0], \n",
    "                color=\"black\", weight=2.5, opacity=1).add_to(Busline)\n",
    "\n",
    "\n",
    "Busline"
   ]
  },
  {
   "cell_type": "code",
   "execution_count": null,
   "metadata": {},
   "outputs": [],
   "source": [
    "tripChain.columns"
   ]
  },
  {
   "cell_type": "code",
   "execution_count": null,
   "metadata": {},
   "outputs": [],
   "source": [
    "tripChain3 = tripChain"
   ]
  },
  {
   "cell_type": "markdown",
   "metadata": {},
   "source": [
    "## 정류장별 이용량 구하기\n",
    "\n",
    "tripChain3 = tripChain\n",
    "\n",
    "tripChain3['승차역ID1'] = tripChain3['승차역ID1'].fillna(0)\n",
    "tripChain3['승차역ID2'] = tripChain3['승차역ID2'].fillna(0)\n",
    "tripChain3['승차역ID3'] = tripChain3['승차역ID3'].fillna(0)\n",
    "tripChain3['승차역ID4'] = tripChain3['승차역ID4'].fillna(0)\n",
    "tripChain3['하차역ID1'] = tripChain3['하차역ID1'].fillna(0)\n",
    "tripChain3['하차역ID2'] = tripChain3['하차역ID2'].fillna(0)\n",
    "tripChain3['하차역ID3'] = tripChain3['하차역ID3'].fillna(0)\n",
    "tripChain3['하차역ID4'] = tripChain3['하차역ID4'].fillna(0)\n",
    "\n",
    "bus_station_user_num = {}\n",
    "\n",
    "for index, row in tripChain3.iterrows():\n",
    "    if row['승차역ID1'] in bus_station_user_num:\n",
    "        bus_station_user_num[row['승차역ID1']] = bus_station_user_num[row['승차역ID1']] + 1\n",
    "    else:\n",
    "        bus_station_user_num[row['승차역ID1']] = 1\n",
    "        \n",
    "    if row['하차역ID1'] == row['승차역ID2']:\n",
    "        if row['하차역ID1'] in bus_station_user_num:\n",
    "            bus_station_user_num[row['하차역ID1']] = bus_station_user_num[row['하차역ID1']] + 1\n",
    "        else:\n",
    "            bus_station_user_num[row['하차역ID1']] = 1\n",
    "    else:\n",
    "        if row['하차역ID1'] in bus_station_user_num:\n",
    "            bus_station_user_num[row['하차역ID1']] = bus_station_user_num[row['하차역ID1']] + 1\n",
    "        else:\n",
    "            bus_station_user_num[row['하차역ID1']] = 1\n",
    "        if row['승차역ID2'] in bus_station_user_num:\n",
    "            bus_station_user_num[row['승차역ID2']] = bus_station_user_num[row['승차역ID2']] + 1\n",
    "        else:\n",
    "            bus_station_user_num[row['승차역ID2']] = 1\n",
    "            \n",
    "            \n",
    "    if row['하차역ID2'] == row['승차역ID3']:\n",
    "        if row['하차역ID2'] in bus_station_user_num:\n",
    "            bus_station_user_num[row['하차역ID2']] = bus_station_user_num[row['하차역ID2']] + 1\n",
    "        else:\n",
    "            bus_station_user_num[row['하차역ID2']] = 1\n",
    "    else:\n",
    "        if row['하차역ID2'] in bus_station_user_num:\n",
    "            bus_station_user_num[row['하차역ID2']] = bus_station_user_num[row['하차역ID2']] + 1\n",
    "        else:\n",
    "            bus_station_user_num[row['하차역ID2']] = 1\n",
    "        if row['승차역ID3'] in bus_station_user_num:\n",
    "            bus_station_user_num[row['승차역ID3']] = bus_station_user_num[row['승차역ID3']] + 1\n",
    "        else:\n",
    "            bus_station_user_num[row['승차역ID3']] = 1\n",
    "            \n",
    "    if row['하차역ID3'] == row['승차역ID4']:\n",
    "        if row['하차역ID3'] in bus_station_user_num:\n",
    "            bus_station_user_num[row['하차역ID3']] = bus_station_user_num[row['하차역ID3']] + 1\n",
    "        else:\n",
    "            bus_station_user_num[row['하차역ID3']] = 1\n",
    "    else:\n",
    "        if row['하차역ID3'] in bus_station_user_num:\n",
    "            bus_station_user_num[row['하차역ID3']] = bus_station_user_num[row['하차역ID3']] + 1\n",
    "        else:\n",
    "            bus_station_user_num[row['하차역ID3']] = 1\n",
    "        if row['승차역ID4'] in bus_station_user_num:\n",
    "            bus_station_user_num[row['승차역ID4']] = bus_station_user_num[row['승차역ID4']] + 1\n",
    "        else:\n",
    "            bus_station_user_num[row['승차역ID4']] = 1\n",
    "            \n",
    "    if row['하차역ID4'] in bus_station_user_num:\n",
    "        bus_station_user_num[row['하차역ID4']] = bus_station_user_num[row['하차역ID4']] + 1\n",
    "    else:\n",
    "        bus_station_user_num[row['하차역ID4']] = 1\n",
    "    \n",
    "most_station = pd.DataFrame.from_dict(bus_station_user_num, orient='index')\n",
    "most_station.columns = ['이용횟수']\n",
    "most_station = most_station.drop(0.0)\n",
    "most_station\n",
    "\n",
    "most_station.to_csv('station_usage_count.csv', sep=',')"
   ]
  },
  {
   "cell_type": "code",
   "execution_count": null,
   "metadata": {},
   "outputs": [],
   "source": [
    "most_stations = pd.read_csv('./station_usage_count.csv')\n",
    "most_stations = most_stations.rename(columns={'Unnamed: 0' : 'pr_station_id' })\n",
    "most_stations.sort_values(by = '이용횟수', ascending=False)"
   ]
  },
  {
   "cell_type": "code",
   "execution_count": null,
   "metadata": {},
   "outputs": [],
   "source": [
    "stations2"
   ]
  },
  {
   "cell_type": "code",
   "execution_count": null,
   "metadata": {},
   "outputs": [],
   "source": [
    "most_stations2 = pd.merge(most_stations, stations2[['시군명', '정류소명', 'WGS84위도', 'WGS84경도', '이비카드정류장ID']], how='left', left_on='pr_station_id', right_on = '이비카드정류장ID')\n",
    "most_stations2 = most_stations2.drop(['이비카드정류장ID'], axis=1)\n",
    "most_stations2.drop_duplicates(subset =\"pr_station_id\", keep = 'first', inplace = True) \n",
    "most_stations2"
   ]
  },
  {
   "cell_type": "code",
   "execution_count": null,
   "metadata": {},
   "outputs": [],
   "source": [
    "top_hwaseong_stations = most_stations2[most_stations2['시군명'] == '화성시'].sort_values(by='이용횟수', ascending=False).head(60)\n",
    "top_hwaseong_stations"
   ]
  },
  {
   "cell_type": "code",
   "execution_count": null,
   "metadata": {},
   "outputs": [],
   "source": [
    "import folium\n",
    "\n",
    "map_osm = folium.Map(location=[37.213952,126.9626727], zoom_start=12)\n",
    "\n",
    "for index, row in top_hwaseong_stations.iterrows():\n",
    "    folium.Marker([row['WGS84위도'], row['WGS84경도']], popup=row['정류소명'], icon = folium.Icon(icon='cloud')).add_to(map_osm)\n",
    "    \n",
    "map_osm\n"
   ]
  },
  {
   "cell_type": "code",
   "execution_count": null,
   "metadata": {},
   "outputs": [],
   "source": [
    "## 이용날짜별 정류장 이용수\n",
    "tripChain3['이용날짜'] = tripChain3.최초승차일시.astype(str)\n",
    "tripChain3['이용날짜'] = tripChain3.이용날짜.str.slice(0, 8)\n",
    "tripChain3['이용날짜'].unique()"
   ]
  },
  {
   "cell_type": "code",
   "execution_count": null,
   "metadata": {},
   "outputs": [],
   "source": [
    "def usage_calculate(table, usage_table):\n",
    "    for index, row in table.iterrows():\n",
    "        if row['승차역ID1'] in usage_table:\n",
    "            usage_table[row['승차역ID1']] = usage_table[row['승차역ID1']] + 1\n",
    "        else:\n",
    "            usage_table[row['승차역ID1']] = 1\n",
    "\n",
    "        if row['하차역ID1'] == row['승차역ID2']:\n",
    "            if row['하차역ID1'] in usage_table:\n",
    "                usage_table[row['하차역ID1']] = usage_table[row['하차역ID1']] + 1\n",
    "            else:\n",
    "                usage_table[row['하차역ID1']] = 1\n",
    "        else:\n",
    "            if row['하차역ID1'] in usage_table:\n",
    "                usage_table[row['하차역ID1']] = usage_table[row['하차역ID1']] + 1\n",
    "            else:\n",
    "                usage_table[row['하차역ID1']] = 1\n",
    "            if row['승차역ID2'] in usage_table:\n",
    "                usage_table[row['승차역ID2']] = usage_table[row['승차역ID2']] + 1\n",
    "            else:\n",
    "                usage_table[row['승차역ID2']] = 1\n",
    "\n",
    "\n",
    "        if row['하차역ID2'] == row['승차역ID3']:\n",
    "            if row['하차역ID2'] in usage_table:\n",
    "                usage_table[row['하차역ID2']] = usage_table[row['하차역ID2']] + 1\n",
    "            else:\n",
    "                usage_table[row['하차역ID2']] = 1\n",
    "        else:\n",
    "            if row['하차역ID2'] in usage_table:\n",
    "                usage_table[row['하차역ID2']] = usage_table[row['하차역ID2']] + 1\n",
    "            else:\n",
    "                usage_table[row['하차역ID2']] = 1\n",
    "            if row['승차역ID3'] in usage_table:\n",
    "                usage_table[row['승차역ID3']] = usage_table[row['승차역ID3']] + 1\n",
    "            else:\n",
    "                usage_table[row['승차역ID3']] = 1\n",
    "\n",
    "        if row['하차역ID3'] == row['승차역ID4']:\n",
    "            if row['하차역ID3'] in usage_table:\n",
    "                usage_table[row['하차역ID3']] = usage_table[row['하차역ID3']] + 1\n",
    "            else:\n",
    "                usage_table[row['하차역ID3']] = 1\n",
    "        else:\n",
    "            if row['하차역ID3'] in usage_table:\n",
    "                usage_table[row['하차역ID3']] = usage_table[row['하차역ID3']] + 1\n",
    "            else:\n",
    "                usage_table[row['하차역ID3']] = 1\n",
    "            if row['승차역ID4'] in usage_table:\n",
    "                usage_table[row['승차역ID4']] = usage_table[row['승차역ID4']] + 1\n",
    "            else:\n",
    "                usage_table[row['승차역ID4']] = 1\n",
    "\n",
    "        if row['하차역ID4'] in usage_table:\n",
    "            usage_table[row['하차역ID4']] = usage_table[row['하차역ID4']] + 1\n",
    "        else:\n",
    "            usage_table[row['하차역ID4']] = 1\n",
    "            \n",
    "    return usage_table"
   ]
  },
  {
   "cell_type": "markdown",
   "metadata": {},
   "source": [
    "usage_20180701 = pd.DataFrame(tripChain3[tripChain3['이용날짜'] == '20180701'])\n",
    "usage_count_20180701 = {}\n",
    "usage_count_20180701 = usage_calculate(usage_20180701, usage_count_20180701)\n",
    "usage_count_20180701 = pd.DataFrame.from_dict(usage_count_20180701, orient='index')\n",
    "usage_count_20180701.columns = ['20180701이용횟수']\n",
    "usage_count_20180701 = usage_count_20180701.drop(0.0)\n",
    "usage_count_20180701.to_csv('usage_count_20180701.csv', sep=',')\n",
    "\n",
    "\n",
    "\n",
    "usage_20180702 = pd.DataFrame(tripChain3[tripChain3['이용날짜'] == '20180702'])\n",
    "usage_count_20180702 = {}\n",
    "usage_count_20180702 = usage_calculate(usage_20180702, usage_count_20180702)\n",
    "usage_count_20180702 = pd.DataFrame.from_dict(usage_count_20180702, orient='index')\n",
    "usage_count_20180702.columns = ['20180702이용횟수']\n",
    "usage_count_20180702 = usage_count_20180702.drop(0.0)\n",
    "usage_count_20180702.to_csv('usage_count_20180702.csv', sep=',')\n",
    "\n",
    "\n",
    "\n",
    "\n",
    "usage_20180703 = pd.DataFrame(tripChain3[tripChain3['이용날짜'] == '20180703'])\n",
    "usage_count_20180703 = {}\n",
    "usage_count_20180703 = usage_calculate(usage_20180703, usage_count_20180703)\n",
    "usage_count_20180703 = pd.DataFrame.from_dict(usage_count_20180703, orient='index')\n",
    "usage_count_20180703.columns = ['20180703이용횟수']\n",
    "usage_count_20180703 = usage_count_20180703.drop(0.0)\n",
    "usage_count_20180703.to_csv('usage_count_20180703.csv', sep=',')\n",
    "\n",
    "usage_20180704 = pd.DataFrame(tripChain3[tripChain3['이용날짜'] == '20180704'])\n",
    "usage_count_20180704 = {}\n",
    "usage_count_20180704 = usage_calculate(usage_20180704, usage_count_20180704)\n",
    "usage_count_20180704 = pd.DataFrame.from_dict(usage_count_20180704, orient='index')\n",
    "usage_count_20180704.columns = ['20180704이용횟수']\n",
    "usage_count_20180704 = usage_count_20180704.drop(0.0)\n",
    "usage_count_20180704.to_csv('usage_count_20180704.csv', sep=',')\n"
   ]
  },
  {
   "cell_type": "code",
   "execution_count": null,
   "metadata": {},
   "outputs": [],
   "source": [
    "usage_count_20180701 = pd.read_csv('./usage_count_20180701.csv')\n",
    "usage_count_20180701 = usage_count_20180701.rename(columns={'Unnamed: 0' : 'station_id' })\n",
    "usage_count_20180701.sort_values(by = '20180701이용횟수', ascending=False)"
   ]
  },
  {
   "cell_type": "code",
   "execution_count": null,
   "metadata": {},
   "outputs": [],
   "source": [
    "usage_count_20180702 = pd.read_csv('./usage_count_20180702.csv')\n",
    "usage_count_20180702 = usage_count_20180702.rename(columns={'Unnamed: 0' : 'station_id' })\n",
    "usage_count_20180702.sort_values(by = '20180702이용횟수', ascending=False)"
   ]
  },
  {
   "cell_type": "code",
   "execution_count": null,
   "metadata": {},
   "outputs": [],
   "source": [
    "usage_count_20180703 = pd.read_csv('./usage_count_20180703.csv')\n",
    "usage_count_20180703 = usage_count_20180703.rename(columns={'Unnamed: 0' : 'station_id' })\n",
    "usage_count_20180703.sort_values(by = '20180703이용횟수', ascending=False)"
   ]
  },
  {
   "cell_type": "code",
   "execution_count": null,
   "metadata": {},
   "outputs": [],
   "source": [
    "usage_count_20180704 = pd.read_csv('./usage_count_20180704.csv')\n",
    "usage_count_20180704 = usage_count_20180704.rename(columns={'Unnamed: 0' : 'station_id' })\n",
    "usage_count_20180704.sort_values(by = '20180704이용횟수', ascending=False)"
   ]
  },
  {
   "cell_type": "code",
   "execution_count": null,
   "metadata": {},
   "outputs": [],
   "source": [
    "usage_by_date = usage_count_20180701.merge(usage_count_20180702,on='station_id').merge(usage_count_20180703,on='station_id').merge(usage_count_20180704, on='station_id')\n",
    "usage_by_date"
   ]
  },
  {
   "cell_type": "code",
   "execution_count": null,
   "metadata": {},
   "outputs": [],
   "source": [
    "usage_by_date = pd.merge(usage_by_date, stations2[['시군명', '정류소명', 'WGS84위도', 'WGS84경도', '이비카드정류장ID']], how='left', left_on='station_id', right_on = '이비카드정류장ID')\n",
    "usage_by_date = usage_by_date.drop(['이비카드정류장ID'], axis=1)\n",
    "usage_by_date.drop_duplicates(subset =\"station_id\", keep = 'first', inplace = True) \n",
    "usage_by_date"
   ]
  },
  {
   "cell_type": "code",
   "execution_count": null,
   "metadata": {},
   "outputs": [],
   "source": [
    "top_hwaseong_stations_20180701 = usage_by_date[usage_by_date['시군명'] == '화성시'].sort_values(by='20180701이용횟수', ascending=False).head(60)\n",
    "top_hwaseong_stations_20180701"
   ]
  },
  {
   "cell_type": "code",
   "execution_count": null,
   "metadata": {},
   "outputs": [],
   "source": [
    "top_hwaseong_stations_20180702 = usage_by_date[usage_by_date['시군명'] == '화성시'].sort_values(by='20180702이용횟수', ascending=False).head(60)\n",
    "top_hwaseong_stations_20180702"
   ]
  },
  {
   "cell_type": "code",
   "execution_count": null,
   "metadata": {},
   "outputs": [],
   "source": [
    "top_hwaseong_stations_20180703 = usage_by_date[usage_by_date['시군명'] == '화성시'].sort_values(by='20180703이용횟수', ascending=False).head(60)\n",
    "top_hwaseong_stations_20180703"
   ]
  },
  {
   "cell_type": "code",
   "execution_count": null,
   "metadata": {},
   "outputs": [],
   "source": [
    "top_hwaseong_stations_20180704 = usage_by_date[usage_by_date['시군명'] == '화성시'].sort_values(by='20180704이용횟수', ascending=False).head(60)\n",
    "top_hwaseong_stations_20180704"
   ]
  },
  {
   "cell_type": "code",
   "execution_count": null,
   "metadata": {},
   "outputs": [],
   "source": [
    "usage_by_date_on_map = folium.Map(location=[37.213952,126.9626727], zoom_start=11)\n",
    "\n",
    "for index, row in top_hwaseong_stations_20180701.iterrows():\n",
    "    folium.Marker([row['WGS84위도'] + 0.001, row['WGS84경도'] + 0.001], popup=row['정류소명'], icon = folium.Icon(color='lightblue')).add_to(usage_by_date_on_map)\n",
    "\n",
    "for index, row in top_hwaseong_stations_20180702.iterrows():\n",
    "    folium.Marker([row['WGS84위도'], row['WGS84경도']], popup=row['정류소명'], icon = folium.Icon(color='red')).add_to(usage_by_date_on_map)\n",
    "    \n",
    "for index, row in top_hwaseong_stations_20180703.iterrows():\n",
    "    folium.Marker([row['WGS84위도'], row['WGS84경도']], popup=row['정류소명'], icon = folium.Icon(color='red')).add_to(usage_by_date_on_map)\n",
    "    \n",
    "for index, row in top_hwaseong_stations_20180704.iterrows():\n",
    "    folium.Marker([row['WGS84위도'], row['WGS84경도']], popup=row['정류소명'], icon = folium.Icon(color='red')).add_to(usage_by_date_on_map)\n",
    "    \n",
    "usage_by_date_on_map\n"
   ]
  },
  {
   "cell_type": "code",
   "execution_count": null,
   "metadata": {},
   "outputs": [],
   "source": []
  },
  {
   "cell_type": "code",
   "execution_count": null,
   "metadata": {},
   "outputs": [],
   "source": []
  },
  {
   "cell_type": "code",
   "execution_count": null,
   "metadata": {},
   "outputs": [],
   "source": []
  },
  {
   "cell_type": "code",
   "execution_count": null,
   "metadata": {},
   "outputs": [],
   "source": []
  }
 ],
 "metadata": {
  "kernelspec": {
   "display_name": "Python 3",
   "language": "python",
   "name": "python3"
  },
  "language_info": {
   "codemirror_mode": {
    "name": "ipython",
    "version": 3
   },
   "file_extension": ".py",
   "mimetype": "text/x-python",
   "name": "python",
   "nbconvert_exporter": "python",
   "pygments_lexer": "ipython3",
   "version": "3.7.3"
  }
 },
 "nbformat": 4,
 "nbformat_minor": 2
}
